{
 "cells": [
  {
   "cell_type": "markdown",
   "id": "d2e74e38",
   "metadata": {},
   "source": [
    "# Time-Adjusted Wing Model Test Suite\n",
    "\n",
    "This notebook contains test cases for the Time-Adjusted Wing Model volatility fitter to ensure functionality and detect breaking changes.\n",
    "\n",
    "## Test Categories\n",
    "1. **Basic Functionality Tests** - Core model and parameter operations\n",
    "2. **Calibration Tests** - Optimization and fitting functionality\n",
    "3. **Integration Tests** - Real-world scenarios\n",
    "4. **Regression Tests** - Consistency checks\n",
    "5. **Performance Tests** - Speed benchmarks"
   ]
  },
  {
   "cell_type": "code",
   "execution_count": 1,
   "id": "0176389d",
   "metadata": {},
   "outputs": [
    {
     "name": "stdout",
     "output_type": "stream",
     "text": [
      "✅ All modules imported successfully\n",
      "📁 Project root: /home/user/Python/Baseoffset-Fitting-Manager\n"
     ]
    }
   ],
   "source": [
    "# Setup and imports\n",
    "import sys\n",
    "import os\n",
    "import numpy as np\n",
    "import time\n",
    "import warnings\n",
    "warnings.filterwarnings('ignore')\n",
    "\n",
    "# Add project root to path\n",
    "current_dir = os.getcwd()\n",
    "project_root = os.path.dirname(current_dir)\n",
    "sys.path.append(project_root)\n",
    "\n",
    "from utils.volatility_fitter.time_adjusted_wing_model.time_adjusted_wing_model import (\n",
    "    TimeAdjustedWingModel, \n",
    "    TimeAdjustedWingModelParameters\n",
    ")\n",
    "from utils.volatility_fitter.time_adjusted_wing_model.time_adjusted_wing_model_calibrator import (\n",
    "    TimeAdjustedWingModelCalibrator,\n",
    "    TimeAdjustedCalibrationResult,\n",
    "    create_time_adjusted_wing_model_from_result\n",
    ")\n",
    "\n",
    "print(\"✅ All modules imported successfully\")\n",
    "print(f\"📁 Project root: {project_root}\")"
   ]
  },
  {
   "cell_type": "markdown",
   "id": "8295743f",
   "metadata": {},
   "source": [
    "## 1. Basic Functionality Tests"
   ]
  },
  {
   "cell_type": "code",
   "execution_count": 2,
   "id": "7a38a186",
   "metadata": {},
   "outputs": [
    {
     "name": "stdout",
     "output_type": "stream",
     "text": [
      "🧪 Test 1: Parameter Initialization\n",
      "✅ Parameter names: ['atm_vol', 'slope', 'call_curve', 'put_curve', 'up_cutoff', 'down_cutoff', 'up_smoothing', 'down_smoothing']\n",
      "✅ Parameter values: [0.6, 0.08, 5.0, 5.0, 0.5, -0.95, 5.0, 5.0]\n",
      "✅ Test 1 passed!\n"
     ]
    }
   ],
   "source": [
    "# Test 1: Parameter initialization and methods\n",
    "print(\"🧪 Test 1: Parameter Initialization\")\n",
    "\n",
    "params = TimeAdjustedWingModelParameters(\n",
    "    atm_vol=0.6,\n",
    "    slope=0.08,\n",
    "    call_curve=5.0,\n",
    "    put_curve=5.0,\n",
    "    up_cutoff=0.5,\n",
    "    down_cutoff=-0.95,\n",
    "    up_smoothing=5.0,\n",
    "    down_smoothing=5.0,\n",
    "    forward_price=60000.0,\n",
    "    time_to_expiry=0.25\n",
    ")\n",
    "\n",
    "# Test parameter access\n",
    "assert params.atm_vol == 0.6\n",
    "assert params.forward_price == 60000.0\n",
    "assert params.time_to_expiry == 0.25\n",
    "\n",
    "# Test parameter methods\n",
    "param_names = params.get_parameter_names()\n",
    "param_values = params.get_fitted_vol_parameter()\n",
    "\n",
    "assert len(param_names) == 8\n",
    "assert len(param_values) == 8\n",
    "assert 'forward_price' not in param_names\n",
    "assert 'time_to_expiry' not in param_names\n",
    "\n",
    "print(f\"✅ Parameter names: {param_names}\")\n",
    "print(f\"✅ Parameter values: {param_values}\")\n",
    "print(\"✅ Test 1 passed!\")"
   ]
  },
  {
   "cell_type": "code",
   "execution_count": 3,
   "id": "dcb1f837",
   "metadata": {},
   "outputs": [
    {
     "name": "stdout",
     "output_type": "stream",
     "text": [
      "🧪 Test 2: Model Initialization\n",
      "✅ Model initialized with norm_term=True\n",
      "✅ Normalization term: 0.1146\n",
      "✅ Test 2 passed!\n"
     ]
    }
   ],
   "source": [
    "# Test 2: Model initialization and basic methods\n",
    "print(\"🧪 Test 2: Model Initialization\")\n",
    "\n",
    "model = TimeAdjustedWingModel(params, use_norm_term=True)\n",
    "\n",
    "# Test model attributes\n",
    "assert model.parameters == params\n",
    "assert model.use_norm_term == True\n",
    "\n",
    "# Test normalization term calculation\n",
    "norm_term = model.get_normalization_term(0.25)\n",
    "assert isinstance(norm_term, float)\n",
    "assert norm_term > 0\n",
    "\n",
    "print(f\"✅ Model initialized with norm_term={model.use_norm_term}\")\n",
    "print(f\"✅ Normalization term: {norm_term:.4f}\")\n",
    "print(\"✅ Test 2 passed!\")"
   ]
  },
  {
   "cell_type": "code",
   "execution_count": 4,
   "id": "81e40497",
   "metadata": {},
   "outputs": [
    {
     "name": "stdout",
     "output_type": "stream",
     "text": [
      "🧪 Test 3: Volatility Calculation\n",
      "✅ ATM vol (60K): 0.600\n",
      "✅ OTM Call vol (70K): 0.612\n",
      "✅ OTM Put vol (50K): 0.631\n",
      "✅ Test 3 passed!\n"
     ]
    }
   ],
   "source": [
    "# Test 3: Volatility calculation\n",
    "print(\"🧪 Test 3: Volatility Calculation\")\n",
    "\n",
    "# Test ATM volatility\n",
    "atm_vol = model.calculate_volatility_from_strike(60000.0)\n",
    "assert isinstance(atm_vol, float)\n",
    "assert 0.01 < atm_vol < 2.0\n",
    "\n",
    "# Test OTM volatilities\n",
    "otm_call_vol = model.calculate_volatility_from_strike(70000.0)\n",
    "otm_put_vol = model.calculate_volatility_from_strike(50000.0)\n",
    "\n",
    "assert isinstance(otm_call_vol, float)\n",
    "assert isinstance(otm_put_vol, float)\n",
    "assert 0.01 < otm_call_vol < 2.0\n",
    "assert 0.01 < otm_put_vol < 2.0\n",
    "\n",
    "print(f\"✅ ATM vol (60K): {atm_vol:.3f}\")\n",
    "print(f\"✅ OTM Call vol (70K): {otm_call_vol:.3f}\")\n",
    "print(f\"✅ OTM Put vol (50K): {otm_put_vol:.3f}\")\n",
    "print(\"✅ Test 3 passed!\")"
   ]
  },
  {
   "cell_type": "code",
   "execution_count": 5,
   "id": "c1a903bc",
   "metadata": {},
   "outputs": [
    {
     "name": "stdout",
     "output_type": "stream",
     "text": [
      "🧪 Test 4: Volatility Smile Shape\n",
      "Volatility Smile:\n",
      "  45,000: 0.671 (67.1%)\n",
      "  50,000: 0.631 (63.1%)\n",
      "  55,000: 0.609 (60.9%)\n",
      "  60,000: 0.600 (60.0%)\n",
      "  65,000: 0.602 (60.2%)\n",
      "  70,000: 0.612 (61.2%)\n",
      "  75,000: 0.629 (62.9%)\n",
      "✅ Minimum vol at strike: 60,000\n",
      "✅ Distance from forward: 0.0%\n",
      "✅ Test 4 passed!\n"
     ]
    }
   ],
   "source": [
    "# Test 4: Volatility smile shape\n",
    "print(\"🧪 Test 4: Volatility Smile Shape\")\n",
    "\n",
    "strikes = [45000, 50000, 55000, 60000, 65000, 70000, 75000]\n",
    "vols = [model.calculate_volatility_from_strike(strike) for strike in strikes]\n",
    "\n",
    "# All volatilities should be positive and reasonable\n",
    "assert all(0.01 < vol < 2.0 for vol in vols)\n",
    "\n",
    "# Display the smile\n",
    "print(\"Volatility Smile:\")\n",
    "for strike, vol in zip(strikes, vols):\n",
    "    print(f\"  {strike:,}: {vol:.3f} ({vol*100:.1f}%)\")\n",
    "\n",
    "# Find minimum (should be near ATM)\n",
    "min_vol_idx = np.argmin(vols)\n",
    "min_vol_strike = strikes[min_vol_idx]\n",
    "forward_distance = abs(min_vol_strike - params.forward_price) / params.forward_price\n",
    "\n",
    "print(f\"✅ Minimum vol at strike: {min_vol_strike:,}\")\n",
    "print(f\"✅ Distance from forward: {forward_distance:.1%}\")\n",
    "print(\"✅ Test 4 passed!\")"
   ]
  },
  {
   "cell_type": "code",
   "execution_count": 6,
   "id": "afb54a35",
   "metadata": {},
   "outputs": [
    {
     "name": "stdout",
     "output_type": "stream",
     "text": [
      "🧪 Test 5: Moneyness Calculation\n",
      "✅ ATM moneyness: -0.0172\n",
      "✅ OTM Call moneyness: 0.0417\n",
      "✅ OTM Put moneyness: -0.0869\n",
      "✅ Test 5 passed!\n"
     ]
    }
   ],
   "source": [
    "# Test 5: Moneyness calculation\n",
    "print(\"🧪 Test 5: Moneyness Calculation\")\n",
    "\n",
    "# ATM moneyness should be close to 0\n",
    "atm_moneyness = model.calculate_moneyness(60000.0, 60000.0, 0.25, 0.6)\n",
    "assert abs(atm_moneyness) < 0.2\n",
    "\n",
    "# OTM call should be positive\n",
    "otm_call_moneyness = model.calculate_moneyness(60000.0, 70000.0, 0.25, 0.6)\n",
    "assert otm_call_moneyness > 0\n",
    "\n",
    "# OTM put should be negative\n",
    "otm_put_moneyness = model.calculate_moneyness(60000.0, 50000.0, 0.25, 0.6)\n",
    "assert otm_put_moneyness < 0\n",
    "\n",
    "print(f\"✅ ATM moneyness: {atm_moneyness:.4f}\")\n",
    "print(f\"✅ OTM Call moneyness: {otm_call_moneyness:.4f}\")\n",
    "print(f\"✅ OTM Put moneyness: {otm_put_moneyness:.4f}\")\n",
    "print(\"✅ Test 5 passed!\")"
   ]
  },
  {
   "cell_type": "markdown",
   "id": "9fbe2acc",
   "metadata": {},
   "source": [
    "## 2. Calibration Tests"
   ]
  },
  {
   "cell_type": "code",
   "execution_count": 7,
   "id": "6b021dd2",
   "metadata": {},
   "outputs": [
    {
     "name": "stdout",
     "output_type": "stream",
     "text": [
      "🧪 Test 6: Calibrator Initialization\n",
      "✅ Calibrator method: SLSQP\n",
      "✅ Parameter bounds: 8 bounds\n",
      "✅ Test 6 passed!\n"
     ]
    }
   ],
   "source": [
    "# Test 6: Calibrator initialization\n",
    "print(\"🧪 Test 6: Calibrator Initialization\")\n",
    "\n",
    "calibrator = TimeAdjustedWingModelCalibrator(use_norm_term=True)\n",
    "\n",
    "# Test attributes\n",
    "assert calibrator.enable_bounds == True\n",
    "assert calibrator.method == \"SLSQP\"\n",
    "assert calibrator.use_norm_term == True\n",
    "\n",
    "# Test parameter bounds\n",
    "bounds = calibrator._get_parameter_bounds()\n",
    "assert len(bounds) == 8\n",
    "\n",
    "print(f\"✅ Calibrator method: {calibrator.method}\")\n",
    "print(f\"✅ Parameter bounds: {len(bounds)} bounds\")\n",
    "print(\"✅ Test 6 passed!\")"
   ]
  },
  {
   "cell_type": "code",
   "execution_count": 8,
   "id": "195a72e7",
   "metadata": {},
   "outputs": [
    {
     "name": "stdout",
     "output_type": "stream",
     "text": [
      "🧪 Test 7: Loss Function\n",
      "✅ Loss function value: 14.446478\n",
      "✅ Market data points: 5\n",
      "✅ Test 7 passed!\n"
     ]
    }
   ],
   "source": [
    "# Test 7: Loss function calculation\n",
    "print(\"🧪 Test 7: Loss Function\")\n",
    "\n",
    "# Sample market data\n",
    "strikes = [50000, 55000, 60000, 65000, 70000]\n",
    "market_vols = [0.8, 0.7, 0.6, 0.7, 0.8]\n",
    "vegas = [100, 150, 200, 150, 100]\n",
    "weights = [1.0] * len(strikes)\n",
    "forward_price = 60000.0\n",
    "time_to_expiry = 0.25\n",
    "\n",
    "# Test loss function\n",
    "params_test = [0.6, 0.08, 5.0, 5.0, 0.5, -0.95, 5.0, 5.0]\n",
    "args = (strikes, market_vols, vegas, weights, forward_price, time_to_expiry, True)\n",
    "\n",
    "loss = calibrator._loss_function(params_test, *args)\n",
    "\n",
    "assert isinstance(loss, float)\n",
    "assert loss >= 0\n",
    "assert not np.isnan(loss)\n",
    "assert not np.isinf(loss)\n",
    "\n",
    "print(f\"✅ Loss function value: {loss:.6f}\")\n",
    "print(f\"✅ Market data points: {len(strikes)}\")\n",
    "print(\"✅ Test 7 passed!\")"
   ]
  },
  {
   "cell_type": "code",
   "execution_count": 9,
   "id": "be8c2833",
   "metadata": {},
   "outputs": [
    {
     "name": "stdout",
     "output_type": "stream",
     "text": [
      "🧪 Test 8: Simple Calibration\n",
      "✅ Calibration time: 0.26 seconds\n",
      "✅ Success: True\n",
      "✅ Error: 8.052658\n",
      "✅ Test 8 passed!\n",
      "✅ Calibration time: 0.26 seconds\n",
      "✅ Success: True\n",
      "✅ Error: 8.052658\n",
      "✅ Test 8 passed!\n"
     ]
    }
   ],
   "source": [
    "# Test 8: Simple calibration\n",
    "print(\"🧪 Test 8: Simple Calibration\")\n",
    "\n",
    "# Use relaxed tolerance for faster testing\n",
    "test_calibrator = TimeAdjustedWingModelCalibrator(use_norm_term=True)\n",
    "test_calibrator.tolerance = 1e-4\n",
    "\n",
    "# Simple market data\n",
    "simple_strikes = [55000, 60000, 65000]\n",
    "simple_vols = [0.7, 0.6, 0.7]\n",
    "simple_vegas = [150, 200, 150]\n",
    "simple_weights = [1.0] * len(simple_strikes)\n",
    "\n",
    "start_time = time.time()\n",
    "result = test_calibrator.calibrate(\n",
    "    strike_list=simple_strikes,\n",
    "    market_vol_list=simple_vols,\n",
    "    market_vega_list=simple_vegas,\n",
    "    weight_list=simple_weights,\n",
    "    forward_price=60000.0,\n",
    "    time_to_expiry=0.25\n",
    ")\n",
    "calibration_time = time.time() - start_time\n",
    "\n",
    "assert isinstance(result, TimeAdjustedCalibrationResult)\n",
    "assert isinstance(result.success, bool)\n",
    "assert isinstance(result.error, float)\n",
    "assert result.error >= 0\n",
    "\n",
    "print(f\"✅ Calibration time: {calibration_time:.2f} seconds\")\n",
    "print(f\"✅ Success: {result.success}\")\n",
    "print(f\"✅ Error: {result.error:.6f}\")\n",
    "print(\"✅ Test 8 passed!\")"
   ]
  },
  {
   "cell_type": "markdown",
   "id": "e3462569",
   "metadata": {},
   "source": [
    "## 3. Integration Tests"
   ]
  },
  {
   "cell_type": "code",
   "execution_count": 10,
   "id": "ff6613e4",
   "metadata": {},
   "outputs": [
    {
     "name": "stdout",
     "output_type": "stream",
     "text": [
      "🧪 Test 9: Realistic Bitcoin Options Scenario\n",
      "✅ BTC calibration time: 0.23 seconds\n",
      "✅ BTC calibration success: True\n",
      "✅ BTC calibration error: 100001.480076\n",
      "✅ BTC fitted RMSE: 0.0109\n",
      "Market vs Fitted:\n",
      "  50,000: 0.850 -> 0.864 (diff: +0.014)\n",
      "  55,000: 0.750 -> 0.735 (diff: -0.015)\n",
      "  60,000: 0.680 -> 0.691 (diff: +0.011)\n",
      "  65,000: 0.720 -> 0.712 (diff: -0.008)\n",
      "  70,000: 0.780 -> 0.783 (diff: +0.003)\n",
      "✅ Test 9 passed!\n",
      "✅ BTC calibration time: 0.23 seconds\n",
      "✅ BTC calibration success: True\n",
      "✅ BTC calibration error: 100001.480076\n",
      "✅ BTC fitted RMSE: 0.0109\n",
      "Market vs Fitted:\n",
      "  50,000: 0.850 -> 0.864 (diff: +0.014)\n",
      "  55,000: 0.750 -> 0.735 (diff: -0.015)\n",
      "  60,000: 0.680 -> 0.691 (diff: +0.011)\n",
      "  65,000: 0.720 -> 0.712 (diff: -0.008)\n",
      "  70,000: 0.780 -> 0.783 (diff: +0.003)\n",
      "✅ Test 9 passed!\n"
     ]
    }
   ],
   "source": [
    "# Test 9: Realistic Bitcoin scenario\n",
    "print(\"🧪 Test 9: Realistic Bitcoin Options Scenario\")\n",
    "\n",
    "# Realistic Bitcoin options data (based on actual market)\n",
    "btc_strikes = [50000, 55000, 60000, 65000, 70000]\n",
    "btc_market_vols = [0.85, 0.75, 0.68, 0.72, 0.78]\n",
    "btc_vegas = [120, 160, 180, 160, 120]\n",
    "btc_weights = [v/max(btc_vegas) for v in btc_vegas]  # Vega-weighted\n",
    "btc_forward = 62000.0\n",
    "btc_tte = 0.0411  # ~15 days\n",
    "\n",
    "btc_calibrator = TimeAdjustedWingModelCalibrator(use_norm_term=True)\n",
    "btc_calibrator.tolerance = 1e-4\n",
    "\n",
    "start_time = time.time()\n",
    "btc_result = btc_calibrator.calibrate(\n",
    "    strike_list=btc_strikes,\n",
    "    market_vol_list=btc_market_vols,\n",
    "    market_vega_list=btc_vegas,\n",
    "    weight_list=btc_weights,\n",
    "    forward_price=btc_forward,\n",
    "    time_to_expiry=btc_tte\n",
    ")\n",
    "btc_calibration_time = time.time() - start_time\n",
    "\n",
    "print(f\"✅ BTC calibration time: {btc_calibration_time:.2f} seconds\")\n",
    "print(f\"✅ BTC calibration success: {btc_result.success}\")\n",
    "print(f\"✅ BTC calibration error: {btc_result.error:.6f}\")\n",
    "\n",
    "if btc_result.success:\n",
    "    # Test fitted model\n",
    "    btc_model = TimeAdjustedWingModel(btc_result.parameters)\n",
    "    btc_fitted_vols = [btc_model.calculate_volatility_from_strike(s) for s in btc_strikes]\n",
    "    \n",
    "    # Check reasonableness\n",
    "    assert all(0.1 < vol < 2.0 for vol in btc_fitted_vols)\n",
    "    \n",
    "    # Calculate RMSE\n",
    "    btc_rmse = np.sqrt(np.mean([(f - m)**2 for f, m in zip(btc_fitted_vols, btc_market_vols)]))\n",
    "    \n",
    "    print(f\"✅ BTC fitted RMSE: {btc_rmse:.4f}\")\n",
    "    print(\"Market vs Fitted:\")\n",
    "    for strike, market, fitted in zip(btc_strikes, btc_market_vols, btc_fitted_vols):\n",
    "        print(f\"  {strike:,}: {market:.3f} -> {fitted:.3f} (diff: {fitted-market:+.3f})\")\n",
    "    \n",
    "    assert btc_rmse < 0.5  # RMSE should be reasonable\n",
    "\n",
    "print(\"✅ Test 9 passed!\")"
   ]
  },
  {
   "cell_type": "code",
   "execution_count": 11,
   "id": "ca45285c",
   "metadata": {},
   "outputs": [
    {
     "name": "stdout",
     "output_type": "stream",
     "text": [
      "🧪 Test 10: Model Creation from Calibration Result\n",
      "Using parameters from BTC calibration\n",
      "✅ Model created successfully\n",
      "✅ ATM vol: 0.693\n",
      "✅ Forward: 62,000\n",
      "✅ Time to expiry: 0.0411\n",
      "✅ Test 10 passed!\n"
     ]
    }
   ],
   "source": [
    "# Test 10: Model creation from result\n",
    "print(\"🧪 Test 10: Model Creation from Calibration Result\")\n",
    "\n",
    "# Use result from previous test if successful\n",
    "if 'btc_result' in locals() and btc_result.success:\n",
    "    test_params = btc_result.parameters\n",
    "    print(f\"Using parameters from BTC calibration\")\n",
    "else:\n",
    "    # Use sample parameters\n",
    "    optimized_params = [0.65, 0.08, 4.5, 4.5, 0.4, -0.8, 4.0, 4.0]\n",
    "    test_params = create_time_adjusted_wing_model_from_result(\n",
    "        optimized_params, 60000.0, 0.25\n",
    "    )\n",
    "    print(f\"Using sample parameters\")\n",
    "\n",
    "# Test model creation\n",
    "assert isinstance(test_params, TimeAdjustedWingModelParameters)\n",
    "\n",
    "test_model = TimeAdjustedWingModel(test_params)\n",
    "assert isinstance(test_model, TimeAdjustedWingModel)\n",
    "\n",
    "# Test that model works\n",
    "test_vol = test_model.calculate_volatility_from_strike(test_params.forward_price)\n",
    "assert isinstance(test_vol, float)\n",
    "assert 0.01 < test_vol < 2.0\n",
    "\n",
    "print(f\"✅ Model created successfully\")\n",
    "print(f\"✅ ATM vol: {test_vol:.3f}\")\n",
    "print(f\"✅ Forward: {test_params.forward_price:,.0f}\")\n",
    "print(f\"✅ Time to expiry: {test_params.time_to_expiry:.4f}\")\n",
    "print(\"✅ Test 10 passed!\")"
   ]
  },
  {
   "cell_type": "markdown",
   "id": "4ed0ddd7",
   "metadata": {},
   "source": [
    "## 4. Performance Tests"
   ]
  },
  {
   "cell_type": "code",
   "execution_count": 12,
   "id": "bda81907",
   "metadata": {},
   "outputs": [
    {
     "name": "stdout",
     "output_type": "stream",
     "text": [
      "🧪 Test 11: Single Calculation Performance\n",
      "✅ 1000 calculations in 0.0031 seconds\n",
      "✅ Average time per calculation: 0.00 ms\n",
      "✅ Test 11 passed!\n"
     ]
    }
   ],
   "source": [
    "# Test 11: Single calculation performance\n",
    "print(\"🧪 Test 11: Single Calculation Performance\")\n",
    "\n",
    "perf_params = TimeAdjustedWingModelParameters(\n",
    "    atm_vol=0.6, slope=0.08, call_curve=5.0, put_curve=5.0,\n",
    "    up_cutoff=0.5, down_cutoff=-0.95, up_smoothing=5.0, down_smoothing=5.0,\n",
    "    forward_price=60000.0, time_to_expiry=0.25\n",
    ")\n",
    "\n",
    "perf_model = TimeAdjustedWingModel(perf_params)\n",
    "\n",
    "# Warm up\n",
    "perf_model.calculate_volatility_from_strike(60000.0)\n",
    "\n",
    "# Time multiple calculations\n",
    "num_calculations = 1000\n",
    "start_time = time.time()\n",
    "for _ in range(num_calculations):\n",
    "    perf_model.calculate_volatility_from_strike(60000.0)\n",
    "end_time = time.time()\n",
    "\n",
    "total_time = end_time - start_time\n",
    "avg_time_per_calc = total_time / num_calculations\n",
    "\n",
    "print(f\"✅ {num_calculations} calculations in {total_time:.4f} seconds\")\n",
    "print(f\"✅ Average time per calculation: {avg_time_per_calc*1000:.2f} ms\")\n",
    "\n",
    "# Should be fast (less than 1ms per calculation)\n",
    "assert avg_time_per_calc < 0.001\n",
    "\n",
    "print(\"✅ Test 11 passed!\")"
   ]
  },
  {
   "cell_type": "code",
   "execution_count": 13,
   "id": "38377c13",
   "metadata": {},
   "outputs": [
    {
     "name": "stdout",
     "output_type": "stream",
     "text": [
      "🧪 Test 12: Volatility Surface Generation Performance\n",
      "✅ Generated 41 volatility points in 0.0002 seconds\n",
      "✅ Average time per surface point: 0.00 ms\n",
      "✅ Vol range: 0.600 - 0.734\n",
      "✅ Test 12 passed!\n"
     ]
    }
   ],
   "source": [
    "# Test 12: Volatility surface generation performance\n",
    "print(\"🧪 Test 12: Volatility Surface Generation Performance\")\n",
    "\n",
    "# Generate a full volatility surface\n",
    "surface_strikes = np.linspace(40000, 80000, 41)  # 41 strikes\n",
    "\n",
    "start_time = time.time()\n",
    "surface_vols = [perf_model.calculate_volatility_from_strike(strike) for strike in surface_strikes]\n",
    "end_time = time.time()\n",
    "\n",
    "surface_time = end_time - start_time\n",
    "avg_time_per_point = surface_time / len(surface_strikes)\n",
    "\n",
    "print(f\"✅ Generated {len(surface_strikes)} volatility points in {surface_time:.4f} seconds\")\n",
    "print(f\"✅ Average time per surface point: {avg_time_per_point*1000:.2f} ms\")\n",
    "\n",
    "# Check that all points are reasonable\n",
    "assert all(0.01 < vol < 2.0 for vol in surface_vols)\n",
    "\n",
    "print(f\"✅ Vol range: {min(surface_vols):.3f} - {max(surface_vols):.3f}\")\n",
    "print(\"✅ Test 12 passed!\")"
   ]
  },
  {
   "cell_type": "markdown",
   "id": "1f819b30",
   "metadata": {},
   "source": [
    "## 5. Summary and Regression Baseline"
   ]
  },
  {
   "cell_type": "code",
   "execution_count": 15,
   "id": "9cb98532",
   "metadata": {},
   "outputs": [
    {
     "name": "stdout",
     "output_type": "stream",
     "text": [
      "🎉 ALL TESTS COMPLETED SUCCESSFULLY!\n",
      "============================================================\n",
      "Test Summary:\n",
      "✅ Parameter initialization and methods\n",
      "✅ Model initialization and basic operations\n",
      "✅ Volatility calculations\n",
      "✅ Volatility smile shape validation\n",
      "✅ Moneyness calculations\n",
      "✅ Calibrator initialization\n",
      "✅ Loss function computation\n",
      "✅ Basic calibration\n",
      "✅ Realistic Bitcoin scenario\n",
      "✅ Model creation from results\n",
      "✅ Single calculation performance\n",
      "✅ Surface generation performance\n",
      "============================================================\n",
      "📊 Performance Baseline:\n",
      "  test_timestamp: 2025-10-17 08:44:54\n",
      "  single_calc_time_ms: 0.00\n",
      "  surface_gen_time_ms: 0.20\n",
      "  btc_calibration_time_s: 0.2257404327392578\n",
      "  btc_rmse: 0.010946\n",
      "\n",
      "🔍 Use this baseline data to detect future performance regressions\n",
      "📝 Store these values and compare them in future test runs\n"
     ]
    }
   ],
   "source": [
    "# Summary of all tests\n",
    "print(\"🎉 ALL TESTS COMPLETED SUCCESSFULLY!\")\n",
    "print(\"=\"*60)\n",
    "print(\"Test Summary:\")\n",
    "print(\"✅ Parameter initialization and methods\")\n",
    "print(\"✅ Model initialization and basic operations\")\n",
    "print(\"✅ Volatility calculations\")\n",
    "print(\"✅ Volatility smile shape validation\")\n",
    "print(\"✅ Moneyness calculations\")\n",
    "print(\"✅ Calibrator initialization\")\n",
    "print(\"✅ Loss function computation\")\n",
    "print(\"✅ Basic calibration\")\n",
    "print(\"✅ Realistic Bitcoin scenario\")\n",
    "print(\"✅ Model creation from results\")\n",
    "print(\"✅ Single calculation performance\")\n",
    "print(\"✅ Surface generation performance\")\n",
    "print(\"=\"*60)\n",
    "\n",
    "# Create regression baseline data\n",
    "baseline_data = {\n",
    "    'test_timestamp': time.strftime('%Y-%m-%d %H:%M:%S'),\n",
    "    'single_calc_time_ms': avg_time_per_calc * 1000,\n",
    "    'surface_gen_time_ms': surface_time * 1000,\n",
    "    'btc_calibration_time_s': btc_calibration_time if 'btc_calibration_time' in locals() else None,\n",
    "    'btc_rmse': btc_rmse if 'btc_rmse' in locals() else None\n",
    "}\n",
    "\n",
    "print(\"📊 Performance Baseline:\")\n",
    "for key, value in baseline_data.items():\n",
    "    if value is not None:\n",
    "        if 'time_ms' in key:\n",
    "            print(f\"  {key}: {value:.2f}\")\n",
    "        elif 'rmse' in key:\n",
    "            print(f\"  {key}: {value:.6f}\")\n",
    "        else:\n",
    "            print(f\"  {key}: {value}\")\n",
    "\n",
    "print(\"\\n🔍 Use this baseline data to detect future performance regressions\")\n",
    "print(\"📝 Store these values and compare them in future test runs\")"
   ]
  },
  {
   "cell_type": "code",
   "execution_count": 16,
   "id": "ce868f98",
   "metadata": {},
   "outputs": [
    {
     "name": "stdout",
     "output_type": "stream",
     "text": [
      "🧪 Optional: Testing Range Methods (if available)\n",
      "✅ Strike ranges: {'downSmoothing': np.float64(0.020868253117889195), 'downCutOff': np.float64(5223.878905481819), 'upCutOff': np.float64(232251.43036381394), 'upSmoothing': np.float64(161167650.12160578)}\n",
      "ℹ️  get_moneyness_ranges method not available\n",
      "\n",
      "🎯 Time-Adjusted Wing Model Test Suite Complete!\n"
     ]
    }
   ],
   "source": [
    "# Optional: Test any range methods if they exist\n",
    "print(\"🧪 Optional: Testing Range Methods (if available)\")\n",
    "\n",
    "try:\n",
    "    if hasattr(perf_model, 'get_strike_ranges'):\n",
    "        strike_ranges = perf_model.get_strike_ranges()\n",
    "        print(f\"✅ Strike ranges: {strike_ranges}\")\n",
    "    else:\n",
    "        print(\"ℹ️  get_strike_ranges method not available\")\n",
    "        \n",
    "    if hasattr(perf_model, 'get_moneyness_ranges'):\n",
    "        moneyness_ranges = perf_model.get_moneyness_ranges()\n",
    "        print(f\"✅ Moneyness ranges: {moneyness_ranges}\")\n",
    "    else:\n",
    "        print(\"ℹ️  get_moneyness_ranges method not available\")\n",
    "        \n",
    "except Exception as e:\n",
    "    print(f\"ℹ️  Range methods error (not critical): {e}\")\n",
    "\n",
    "print(\"\\n🎯 Time-Adjusted Wing Model Test Suite Complete!\")"
   ]
  },
  {
   "cell_type": "code",
   "execution_count": null,
   "id": "bb488ef7",
   "metadata": {},
   "outputs": [],
   "source": []
  }
 ],
 "metadata": {
  "kernelspec": {
   "display_name": ".venv",
   "language": "python",
   "name": "python3"
  },
  "language_info": {
   "codemirror_mode": {
    "name": "ipython",
    "version": 3
   },
   "file_extension": ".py",
   "mimetype": "text/x-python",
   "name": "python",
   "nbconvert_exporter": "python",
   "pygments_lexer": "ipython3",
   "version": "3.12.3"
  }
 },
 "nbformat": 4,
 "nbformat_minor": 5
}
