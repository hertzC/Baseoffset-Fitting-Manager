{
 "cells": [
  {
   "cell_type": "markdown",
   "id": "a647b5b5",
   "metadata": {},
   "source": [
    "# Bitcoin Options Volatility Surface Fitting\n",
    "\n",
    "This notebook demonstrates the volatility surface fitting process using both Traditional Wing Model and Time-Adjusted Wing Model.\n",
    "\n",
    "## Overview\n",
    "- **Traditional Wing Model**: Standard parameterized volatility surface\n",
    "- **Time-Adjusted Wing Model**: Enhanced model with time-dependent adjustments\n",
    "- **Model Comparison**: Side-by-side analysis of fitting performance\n",
    "\n",
    "## Key Features\n",
    "- Automated model selection based on RMSE\n",
    "- Interactive volatility surface visualization\n",
    "- Greeks calculation (Delta, Gamma, Vega)\n",
    "- Range analysis for moneyness and strike boundaries"
   ]
  },
  {
   "cell_type": "markdown",
   "id": "42f5acb6",
   "metadata": {},
   "source": [
    "## 1. Setup and Configuration"
   ]
  },
  {
   "cell_type": "code",
   "execution_count": 1,
   "id": "9dd5029e",
   "metadata": {},
   "outputs": [
    {
     "name": "stdout",
     "output_type": "stream",
     "text": [
      "📁 Current directory: /home/user/Python/Baseoffset-Fitting-Manager/notebooks\n",
      "📁 Project root: /home/user/Python/Baseoffset-Fitting-Manager\n",
      "✅ Environment setup complete\n"
     ]
    }
   ],
   "source": [
    "# Import required libraries\n",
    "import sys\n",
    "import os\n",
    "import numpy as np\n",
    "import polars as pl\n",
    "import plotly.graph_objects as go\n",
    "from plotly.subplots import make_subplots\n",
    "from datetime import datetime\n",
    "import warnings\n",
    "warnings.filterwarnings('ignore')\n",
    "\n",
    "# Project setup\n",
    "current_dir = os.getcwd()\n",
    "project_root = os.path.dirname(current_dir)\n",
    "sys.path.append(project_root)\n",
    "\n",
    "print(f\"📁 Current directory: {current_dir}\")\n",
    "print(f\"📁 Project root: {project_root}\")\n",
    "print(\"✅ Environment setup complete\")"
   ]
  },
  {
   "cell_type": "code",
   "execution_count": 2,
   "id": "6ea126e0",
   "metadata": {},
   "outputs": [
    {
     "name": "stdout",
     "output_type": "stream",
     "text": [
      "✅ All modules imported successfully\n"
     ]
    }
   ],
   "source": [
    "# Import project modules\n",
    "from utils.market_data.orderbook_deribit_md_manager import OrderbookDeribitMDManager\n",
    "from utils.volatility_fitter.wing_model.wing_model import WingModel\n",
    "from utils.volatility_fitter.time_adjusted_wing_model.time_adjusted_wing_model import TimeAdjustedWingModel\n",
    "\n",
    "print(\"✅ All modules imported successfully\")"
   ]
  },
  {
   "cell_type": "code",
   "execution_count": 17,
   "id": "8ab29eca",
   "metadata": {},
   "outputs": [
    {
     "name": "stdout",
     "output_type": "stream",
     "text": [
      "📋 Configuration created:\n",
      "  - Expiry: 15MAR24\n",
      "  - Date: 20240229\n",
      "  - Snapshot time: 2024-02-29T20:12:00\n"
     ]
    }
   ],
   "source": [
    "# Create configuration dictionary\n",
    "config = {\n",
    "    'date': '20240229',\n",
    "    'option_expiry': '15MAR24',#'15MAR24',\n",
    "    'snapshot_time': '2024-02-29T20:12:00',\n",
    "    'snapshot_tolerance_seconds': 30    \n",
    "}\n",
    "\n",
    "print(\"📋 Configuration created:\")\n",
    "print(f\"  - Expiry: {config['option_expiry']}\")\n",
    "print(f\"  - Date: {config['date']}\")\n",
    "print(f\"  - Snapshot time: {config['snapshot_time']}\")"
   ]
  },
  {
   "cell_type": "markdown",
   "id": "aa5d9ee6",
   "metadata": {},
   "source": [
    "## 2. Data Loading and Preparation"
   ]
  },
  {
   "cell_type": "code",
   "execution_count": 18,
   "id": "f05294a8",
   "metadata": {},
   "outputs": [
    {
     "name": "stdout",
     "output_type": "stream",
     "text": [
      "Available expiries: ['15MAR24', '28JUN24', '8MAR24', '3MAR24', '22MAR24', '1MAR24', '29FEB24', '31MAY24', '2MAR24', '27DEC24', '29MAR24', '26APR24', '27SEP24']\n",
      "📊 Loaded 27 option contracts\n",
      "📅 Expiry: 15MAR24 Time: 2024-02-29 20:12:00\n"
     ]
    },
    {
     "data": {
      "text/html": [
       "<div><style>\n",
       ".dataframe > thead > tr,\n",
       ".dataframe > tbody > tr {\n",
       "  text-align: right;\n",
       "  white-space: pre-wrap;\n",
       "}\n",
       "</style>\n",
       "<small>shape: (5, 16)</small><table border=\"1\" class=\"dataframe\"><thead><tr><th>timestamp</th><th>bid_price</th><th>ask_price</th><th>strike</th><th>bid_size</th><th>ask_size</th><th>bid_price_P</th><th>ask_price_P</th><th>S</th><th>bid_price_fut</th><th>ask_price_fut</th><th>expiry</th><th>tau</th><th>bid_size_P</th><th>ask_size_P</th><th>future_basis</th></tr><tr><td>datetime[ns]</td><td>f64</td><td>f64</td><td>i64</td><td>f64</td><td>f64</td><td>f64</td><td>f64</td><td>f64</td><td>f64</td><td>f64</td><td>str</td><td>f64</td><td>f64</td><td>f64</td><td>f64</td></tr></thead><tbody><tr><td>2024-02-29 20:12:00</td><td>0.283</td><td>0.3095</td><td>44000</td><td>6.4</td><td>5.0</td><td>0.0012</td><td>0.0016</td><td>61924.86</td><td>62416.0</td><td>62416.0</td><td>&quot;15MAR24&quot;</td><td>0.039703</td><td>27.3</td><td>11.0</td><td>491.14</td></tr><tr><td>2024-02-29 20:12:00</td><td>0.2785</td><td>0.282</td><td>45000</td><td>2.0</td><td>5.0</td><td>0.0015</td><td>0.0019</td><td>61924.86</td><td>62416.0</td><td>62416.0</td><td>&quot;15MAR24&quot;</td><td>0.039703</td><td>3.1</td><td>10.4</td><td>491.14</td></tr><tr><td>2024-02-29 20:12:00</td><td>0.263</td><td>0.2665</td><td>46000</td><td>1.5</td><td>5.0</td><td>0.0017</td><td>0.0022</td><td>61924.86</td><td>62416.0</td><td>62416.0</td><td>&quot;15MAR24&quot;</td><td>0.039703</td><td>59.4</td><td>12.0</td><td>491.14</td></tr><tr><td>2024-02-29 20:12:00</td><td>0.2475</td><td>0.2505</td><td>47000</td><td>1.0</td><td>5.0</td><td>0.0021</td><td>0.0026</td><td>61924.86</td><td>62416.0</td><td>62416.0</td><td>&quot;15MAR24&quot;</td><td>0.039703</td><td>56.9</td><td>12.6</td><td>491.14</td></tr><tr><td>2024-02-29 20:12:00</td><td>0.2315</td><td>0.235</td><td>48000</td><td>2.0</td><td>5.0</td><td>0.0026</td><td>0.0031</td><td>61924.86</td><td>62416.0</td><td>62416.0</td><td>&quot;15MAR24&quot;</td><td>0.039703</td><td>28.3</td><td>8.0</td><td>491.14</td></tr></tbody></table></div>"
      ],
      "text/plain": [
       "shape: (5, 16)\n",
       "┌────────────┬───────────┬───────────┬────────┬───┬──────────┬────────────┬────────────┬───────────┐\n",
       "│ timestamp  ┆ bid_price ┆ ask_price ┆ strike ┆ … ┆ tau      ┆ bid_size_P ┆ ask_size_P ┆ future_ba │\n",
       "│ ---        ┆ ---       ┆ ---       ┆ ---    ┆   ┆ ---      ┆ ---        ┆ ---        ┆ sis       │\n",
       "│ datetime[n ┆ f64       ┆ f64       ┆ i64    ┆   ┆ f64      ┆ f64        ┆ f64        ┆ ---       │\n",
       "│ s]         ┆           ┆           ┆        ┆   ┆          ┆            ┆            ┆ f64       │\n",
       "╞════════════╪═══════════╪═══════════╪════════╪═══╪══════════╪════════════╪════════════╪═══════════╡\n",
       "│ 2024-02-29 ┆ 0.283     ┆ 0.3095    ┆ 44000  ┆ … ┆ 0.039703 ┆ 27.3       ┆ 11.0       ┆ 491.14    │\n",
       "│ 20:12:00   ┆           ┆           ┆        ┆   ┆          ┆            ┆            ┆           │\n",
       "│ 2024-02-29 ┆ 0.2785    ┆ 0.282     ┆ 45000  ┆ … ┆ 0.039703 ┆ 3.1        ┆ 10.4       ┆ 491.14    │\n",
       "│ 20:12:00   ┆           ┆           ┆        ┆   ┆          ┆            ┆            ┆           │\n",
       "│ 2024-02-29 ┆ 0.263     ┆ 0.2665    ┆ 46000  ┆ … ┆ 0.039703 ┆ 59.4       ┆ 12.0       ┆ 491.14    │\n",
       "│ 20:12:00   ┆           ┆           ┆        ┆   ┆          ┆            ┆            ┆           │\n",
       "│ 2024-02-29 ┆ 0.2475    ┆ 0.2505    ┆ 47000  ┆ … ┆ 0.039703 ┆ 56.9       ┆ 12.6       ┆ 491.14    │\n",
       "│ 20:12:00   ┆           ┆           ┆        ┆   ┆          ┆            ┆            ┆           │\n",
       "│ 2024-02-29 ┆ 0.2315    ┆ 0.235     ┆ 48000  ┆ … ┆ 0.039703 ┆ 28.3       ┆ 8.0        ┆ 491.14    │\n",
       "│ 20:12:00   ┆           ┆           ┆        ┆   ┆          ┆            ┆            ┆           │\n",
       "└────────────┴───────────┴───────────┴────────┴───┴──────────┴────────────┴────────────┴───────────┘"
      ]
     },
     "execution_count": 18,
     "metadata": {},
     "output_type": "execute_result"
    }
   ],
   "source": [
    "# Load market data\n",
    "from utils.volatility_fitter.processed_data_loader import create_snapshot_option_chain, load_baseoffset_results, load_option_market_data\n",
    "from utils.volatility_fitter.volatility_calculator import get_option_chains\n",
    "\n",
    "date_str = config['date']\n",
    "snapshot_time = datetime.strptime(config['snapshot_time'], \"%Y-%m-%dT%H:%M:%S\")\n",
    "df_baseoffset = load_baseoffset_results(date_str)\n",
    "df_option_md = load_option_market_data(date_str)\n",
    "\n",
    "df_snapshot_md = create_snapshot_option_chain(df_option_md, df_baseoffset, snapshot_time)\n",
    "my_expiry = config['option_expiry']\n",
    "\n",
    "df_option_chain = get_option_chains(df_snapshot_md, my_expiry, snapshot_time)\n",
    "\n",
    "print(f\"📊 Loaded {len(df_option_chain)} option contracts\")\n",
    "print(f\"📅 Expiry: {my_expiry} Time: {snapshot_time}\")\n",
    "df_option_chain.head()"
   ]
  },
  {
   "cell_type": "code",
   "execution_count": 19,
   "id": "bf89f5a8",
   "metadata": {},
   "outputs": [
    {
     "name": "stdout",
     "output_type": "stream",
     "text": [
      "Comparison of old bid/ask proces and the tightened bid/ask price\n"
     ]
    },
    {
     "data": {
      "text/html": [
       "\n",
       "    <div style=\"color: white; font-family: monospace; margin-bottom: 10px; background-color: #333; padding: 5px; width: 70%;\">\n",
       "        <strong>📊 BTC Spot Price: $61924.86</strong>\n",
       "    </div>\n",
       "    <style>\n",
       "    .price-table {\n",
       "        border-collapse: collapse;\n",
       "        width: 70%;\n",
       "        font-family: monospace;\n",
       "        font-size: 10px;\n",
       "        background-color: black;\n",
       "        color: white;\n",
       "    }\n",
       "    .price-table th, .price-table td {\n",
       "        border: 1px solid #444;\n",
       "        padding: 2px;\n",
       "        text-align: center;\n",
       "        background-color: black;\n",
       "    }\n",
       "    .price-table th {\n",
       "        background-color: #222;\n",
       "        font-weight: bold;\n",
       "        color: white;\n",
       "    }\n",
       "    .price-table tr:nth-child(even) td {\n",
       "        background-color: #111;\n",
       "    }\n",
       "    .price-table tr:nth-child(odd) td {\n",
       "        background-color: black;\n",
       "    }\n",
       "    </style>\n",
       "    <table class=\"price-table\">\n",
       "    <thead>\n",
       "    <tr>\n",
       "        <th>Strike</th>\n",
       "        <th colspan=\"2\">Call Bid</th>\n",
       "        <th colspan=\"2\">Call Ask</th>\n",
       "        <th colspan=\"2\">Call Spread</th>\n",
       "        <th colspan=\"2\">Put Bid</th>\n",
       "        <th colspan=\"2\">Put Ask</th>\n",
       "        <th colspan=\"2\">Put Spread</th>\n",
       "    </tr>\n",
       "    <tr>\n",
       "        <th></th>\n",
       "        <th>Old</th><th>New</th>\n",
       "        <th>Old</th><th>New</th>\n",
       "        <th>Old</th><th>New</th>\n",
       "        <th>Old</th><th>New</th>\n",
       "        <th>Old</th><th>New</th>\n",
       "        <th>Old</th><th>New</th>\n",
       "    </tr>\n",
       "    </thead>\n",
       "    <tbody>\n",
       "    \n",
       "        <tr>\n",
       "            <td>44000</td>\n",
       "            <td>0.2830</td>\n",
       "            <td>0.2830</td>\n",
       "            <td>0.3095</td>\n",
       "            <td><span style=\"color: red; font-weight: bold;\">0.2981</span></td>\n",
       "            <td>0.0265</td>\n",
       "            <td><span style=\"color: red; font-weight: bold;\">0.0151</span></td>\n",
       "            <td>0.0012</td>\n",
       "            <td>0.0012</td>\n",
       "            <td>0.0016</td>\n",
       "            <td>0.0016</td>\n",
       "            <td>0.0004</td>\n",
       "            <td>0.0004</td>\n",
       "        </tr>\n",
       "        \n",
       "        <tr>\n",
       "            <td>45000</td>\n",
       "            <td>0.2785</td>\n",
       "            <td>0.2785</td>\n",
       "            <td>0.2820</td>\n",
       "            <td>0.2820</td>\n",
       "            <td>0.0035</td>\n",
       "            <td>0.0035</td>\n",
       "            <td>0.0015</td>\n",
       "            <td>0.0015</td>\n",
       "            <td>0.0019</td>\n",
       "            <td>0.0019</td>\n",
       "            <td>0.0004</td>\n",
       "            <td>0.0004</td>\n",
       "        </tr>\n",
       "        \n",
       "        <tr>\n",
       "            <td>46000</td>\n",
       "            <td>0.2630</td>\n",
       "            <td>0.2630</td>\n",
       "            <td>0.2665</td>\n",
       "            <td>0.2665</td>\n",
       "            <td>0.0035</td>\n",
       "            <td>0.0035</td>\n",
       "            <td>0.0017</td>\n",
       "            <td>0.0017</td>\n",
       "            <td>0.0022</td>\n",
       "            <td>0.0022</td>\n",
       "            <td>0.0005</td>\n",
       "            <td>0.0005</td>\n",
       "        </tr>\n",
       "        \n",
       "        <tr>\n",
       "            <td>47000</td>\n",
       "            <td>0.2475</td>\n",
       "            <td>0.2475</td>\n",
       "            <td>0.2505</td>\n",
       "            <td>0.2505</td>\n",
       "            <td>0.0030</td>\n",
       "            <td>0.0030</td>\n",
       "            <td>0.0021</td>\n",
       "            <td>0.0021</td>\n",
       "            <td>0.0026</td>\n",
       "            <td>0.0026</td>\n",
       "            <td>0.0005</td>\n",
       "            <td>0.0005</td>\n",
       "        </tr>\n",
       "        \n",
       "        <tr>\n",
       "            <td>48000</td>\n",
       "            <td>0.2315</td>\n",
       "            <td>0.2315</td>\n",
       "            <td>0.2350</td>\n",
       "            <td>0.2350</td>\n",
       "            <td>0.0035</td>\n",
       "            <td>0.0035</td>\n",
       "            <td>0.0026</td>\n",
       "            <td>0.0026</td>\n",
       "            <td>0.0031</td>\n",
       "            <td>0.0031</td>\n",
       "            <td>0.0005</td>\n",
       "            <td>0.0005</td>\n",
       "        </tr>\n",
       "        \n",
       "        <tr>\n",
       "            <td>49000</td>\n",
       "            <td>0.2165</td>\n",
       "            <td>0.2165</td>\n",
       "            <td>0.2205</td>\n",
       "            <td>0.2205</td>\n",
       "            <td>0.0040</td>\n",
       "            <td>0.0040</td>\n",
       "            <td>0.0032</td>\n",
       "            <td>0.0032</td>\n",
       "            <td>0.0037</td>\n",
       "            <td>0.0037</td>\n",
       "            <td>0.0005</td>\n",
       "            <td>0.0005</td>\n",
       "        </tr>\n",
       "        \n",
       "        <tr>\n",
       "            <td>50000</td>\n",
       "            <td>0.2010</td>\n",
       "            <td>0.2010</td>\n",
       "            <td>0.2045</td>\n",
       "            <td>0.2045</td>\n",
       "            <td>0.0035</td>\n",
       "            <td>0.0035</td>\n",
       "            <td>0.0040</td>\n",
       "            <td>0.0040</td>\n",
       "            <td>0.0046</td>\n",
       "            <td>0.0046</td>\n",
       "            <td>0.0006</td>\n",
       "            <td>0.0006</td>\n",
       "        </tr>\n",
       "        \n",
       "        <tr>\n",
       "            <td>51000</td>\n",
       "            <td>0.1860</td>\n",
       "            <td>0.1860</td>\n",
       "            <td>0.1895</td>\n",
       "            <td>0.1895</td>\n",
       "            <td>0.0035</td>\n",
       "            <td>0.0035</td>\n",
       "            <td>0.0050</td>\n",
       "            <td>0.0050</td>\n",
       "            <td>0.0060</td>\n",
       "            <td>0.0060</td>\n",
       "            <td>0.0010</td>\n",
       "            <td>0.0010</td>\n",
       "        </tr>\n",
       "        \n",
       "        <tr>\n",
       "            <td>52000</td>\n",
       "            <td>0.1710</td>\n",
       "            <td>0.1710</td>\n",
       "            <td>0.1750</td>\n",
       "            <td>0.1750</td>\n",
       "            <td>0.0040</td>\n",
       "            <td>0.0040</td>\n",
       "            <td>0.0060</td>\n",
       "            <td>0.0060</td>\n",
       "            <td>0.0070</td>\n",
       "            <td>0.0070</td>\n",
       "            <td>0.0010</td>\n",
       "            <td>0.0010</td>\n",
       "        </tr>\n",
       "        \n",
       "        <tr>\n",
       "            <td>53000</td>\n",
       "            <td>0.1565</td>\n",
       "            <td>0.1565</td>\n",
       "            <td>0.1605</td>\n",
       "            <td>0.1605</td>\n",
       "            <td>0.0040</td>\n",
       "            <td>0.0040</td>\n",
       "            <td>0.0075</td>\n",
       "            <td>0.0075</td>\n",
       "            <td>0.0085</td>\n",
       "            <td>0.0085</td>\n",
       "            <td>0.0010</td>\n",
       "            <td>0.0010</td>\n",
       "        </tr>\n",
       "        \n",
       "        <tr>\n",
       "            <td>54000</td>\n",
       "            <td>0.1425</td>\n",
       "            <td>0.1425</td>\n",
       "            <td>0.1470</td>\n",
       "            <td>0.1470</td>\n",
       "            <td>0.0045</td>\n",
       "            <td>0.0045</td>\n",
       "            <td>0.0100</td>\n",
       "            <td>0.0100</td>\n",
       "            <td>0.0110</td>\n",
       "            <td>0.0110</td>\n",
       "            <td>0.0010</td>\n",
       "            <td>0.0010</td>\n",
       "        </tr>\n",
       "        \n",
       "        <tr>\n",
       "            <td>55000</td>\n",
       "            <td>0.1290</td>\n",
       "            <td>0.1290</td>\n",
       "            <td>0.1335</td>\n",
       "            <td>0.1335</td>\n",
       "            <td>0.0045</td>\n",
       "            <td>0.0045</td>\n",
       "            <td>0.0125</td>\n",
       "            <td>0.0125</td>\n",
       "            <td>0.0135</td>\n",
       "            <td>0.0135</td>\n",
       "            <td>0.0010</td>\n",
       "            <td>0.0010</td>\n",
       "        </tr>\n",
       "        \n",
       "        <tr>\n",
       "            <td>56000</td>\n",
       "            <td>0.1170</td>\n",
       "            <td>0.1170</td>\n",
       "            <td>0.1205</td>\n",
       "            <td>0.1205</td>\n",
       "            <td>0.0035</td>\n",
       "            <td>0.0035</td>\n",
       "            <td>0.0155</td>\n",
       "            <td>0.0155</td>\n",
       "            <td>0.0165</td>\n",
       "            <td>0.0165</td>\n",
       "            <td>0.0010</td>\n",
       "            <td>0.0010</td>\n",
       "        </tr>\n",
       "        \n",
       "        <tr>\n",
       "            <td>57000</td>\n",
       "            <td>0.1045</td>\n",
       "            <td>0.1045</td>\n",
       "            <td>0.1075</td>\n",
       "            <td>0.1075</td>\n",
       "            <td>0.0030</td>\n",
       "            <td>0.0030</td>\n",
       "            <td>0.0190</td>\n",
       "            <td>0.0190</td>\n",
       "            <td>0.0205</td>\n",
       "            <td>0.0205</td>\n",
       "            <td>0.0015</td>\n",
       "            <td>0.0015</td>\n",
       "        </tr>\n",
       "        \n",
       "        <tr>\n",
       "            <td>58000</td>\n",
       "            <td>0.0925</td>\n",
       "            <td>0.0925</td>\n",
       "            <td>0.0965</td>\n",
       "            <td>0.0965</td>\n",
       "            <td>0.0040</td>\n",
       "            <td>0.0040</td>\n",
       "            <td>0.0235</td>\n",
       "            <td>0.0235</td>\n",
       "            <td>0.0250</td>\n",
       "            <td>0.0250</td>\n",
       "            <td>0.0015</td>\n",
       "            <td>0.0015</td>\n",
       "        </tr>\n",
       "        \n",
       "        <tr>\n",
       "            <td>59000</td>\n",
       "            <td>0.0820</td>\n",
       "            <td>0.0820</td>\n",
       "            <td>0.0860</td>\n",
       "            <td>0.0860</td>\n",
       "            <td>0.0040</td>\n",
       "            <td>0.0040</td>\n",
       "            <td>0.0290</td>\n",
       "            <td>0.0290</td>\n",
       "            <td>0.0300</td>\n",
       "            <td>0.0300</td>\n",
       "            <td>0.0010</td>\n",
       "            <td>0.0010</td>\n",
       "        </tr>\n",
       "        \n",
       "        <tr>\n",
       "            <td>60000</td>\n",
       "            <td>0.0730</td>\n",
       "            <td>0.0730</td>\n",
       "            <td>0.0750</td>\n",
       "            <td>0.0750</td>\n",
       "            <td>0.0020</td>\n",
       "            <td>0.0020</td>\n",
       "            <td>0.0350</td>\n",
       "            <td>0.0350</td>\n",
       "            <td>0.0365</td>\n",
       "            <td>0.0365</td>\n",
       "            <td>0.0015</td>\n",
       "            <td>0.0015</td>\n",
       "        </tr>\n",
       "        \n",
       "        <tr>\n",
       "            <td>61000</td>\n",
       "            <td>0.0645</td>\n",
       "            <td>0.0645</td>\n",
       "            <td>0.0660</td>\n",
       "            <td>0.0660</td>\n",
       "            <td>0.0015</td>\n",
       "            <td>0.0015</td>\n",
       "            <td>0.0425</td>\n",
       "            <td>0.0425</td>\n",
       "            <td>0.0435</td>\n",
       "            <td>0.0435</td>\n",
       "            <td>0.0010</td>\n",
       "            <td>0.0010</td>\n",
       "        </tr>\n",
       "        \n",
       "        <tr>\n",
       "            <td>62000</td>\n",
       "            <td>0.0565</td>\n",
       "            <td>0.0565</td>\n",
       "            <td>0.0580</td>\n",
       "            <td>0.0580</td>\n",
       "            <td>0.0015</td>\n",
       "            <td>0.0015</td>\n",
       "            <td>0.0500</td>\n",
       "            <td>0.0500</td>\n",
       "            <td>0.0515</td>\n",
       "            <td>0.0515</td>\n",
       "            <td>0.0015</td>\n",
       "            <td>0.0015</td>\n",
       "        </tr>\n",
       "        \n",
       "        <tr>\n",
       "            <td>63000</td>\n",
       "            <td>0.0495</td>\n",
       "            <td>0.0495</td>\n",
       "            <td>0.0505</td>\n",
       "            <td>0.0505</td>\n",
       "            <td>0.0010</td>\n",
       "            <td>0.0010</td>\n",
       "            <td>0.0590</td>\n",
       "            <td>0.0590</td>\n",
       "            <td>0.0605</td>\n",
       "            <td>0.0605</td>\n",
       "            <td>0.0015</td>\n",
       "            <td>0.0015</td>\n",
       "        </tr>\n",
       "        \n",
       "        <tr>\n",
       "            <td>64000</td>\n",
       "            <td>0.0430</td>\n",
       "            <td>0.0430</td>\n",
       "            <td>0.0440</td>\n",
       "            <td>0.0440</td>\n",
       "            <td>0.0010</td>\n",
       "            <td>0.0010</td>\n",
       "            <td>0.0680</td>\n",
       "            <td>0.0680</td>\n",
       "            <td>0.0700</td>\n",
       "            <td>0.0700</td>\n",
       "            <td>0.0020</td>\n",
       "            <td>0.0020</td>\n",
       "        </tr>\n",
       "        \n",
       "        <tr>\n",
       "            <td>65000</td>\n",
       "            <td>0.0370</td>\n",
       "            <td>0.0370</td>\n",
       "            <td>0.0380</td>\n",
       "            <td>0.0380</td>\n",
       "            <td>0.0010</td>\n",
       "            <td>0.0010</td>\n",
       "            <td>0.0765</td>\n",
       "            <td>0.0765</td>\n",
       "            <td>0.0810</td>\n",
       "            <td>0.0810</td>\n",
       "            <td>0.0045</td>\n",
       "            <td>0.0045</td>\n",
       "        </tr>\n",
       "        \n",
       "        <tr>\n",
       "            <td>66000</td>\n",
       "            <td>0.0320</td>\n",
       "            <td>0.0320</td>\n",
       "            <td>0.0330</td>\n",
       "            <td>0.0330</td>\n",
       "            <td>0.0010</td>\n",
       "            <td>0.0010</td>\n",
       "            <td>0.0890</td>\n",
       "            <td>0.0890</td>\n",
       "            <td>0.0920</td>\n",
       "            <td>0.0920</td>\n",
       "            <td>0.0030</td>\n",
       "            <td>0.0030</td>\n",
       "        </tr>\n",
       "        \n",
       "        <tr>\n",
       "            <td>67000</td>\n",
       "            <td>0.0275</td>\n",
       "            <td>0.0275</td>\n",
       "            <td>0.0285</td>\n",
       "            <td>0.0285</td>\n",
       "            <td>0.0010</td>\n",
       "            <td>0.0010</td>\n",
       "            <td>0.0001</td>\n",
       "            <td><span style=\"color: red; font-weight: bold;\">0.0929</span></td>\n",
       "            <td>0.1145</td>\n",
       "            <td><span style=\"color: red; font-weight: bold;\">0.1081</span></td>\n",
       "            <td>0.1144</td>\n",
       "            <td><span style=\"color: red; font-weight: bold;\">0.0153</span></td>\n",
       "        </tr>\n",
       "        \n",
       "        <tr>\n",
       "            <td>68000</td>\n",
       "            <td>0.0235</td>\n",
       "            <td>0.0235</td>\n",
       "            <td>0.0245</td>\n",
       "            <td>0.0245</td>\n",
       "            <td>0.0010</td>\n",
       "            <td>0.0010</td>\n",
       "            <td>0.1090</td>\n",
       "            <td>0.1090</td>\n",
       "            <td>0.1270</td>\n",
       "            <td><span style=\"color: red; font-weight: bold;\">0.1243</span></td>\n",
       "            <td>0.0180</td>\n",
       "            <td><span style=\"color: red; font-weight: bold;\">0.0153</span></td>\n",
       "        </tr>\n",
       "        \n",
       "        <tr>\n",
       "            <td>70000</td>\n",
       "            <td>0.0175</td>\n",
       "            <td>0.0175</td>\n",
       "            <td>0.0185</td>\n",
       "            <td>0.0185</td>\n",
       "            <td>0.0010</td>\n",
       "            <td>0.0010</td>\n",
       "            <td>0.0745</td>\n",
       "            <td><span style=\"color: red; font-weight: bold;\">0.1090</span></td>\n",
       "            <td>0.2415</td>\n",
       "            <td><span style=\"color: red; font-weight: bold;\">0.1566</span></td>\n",
       "            <td>0.1670</td>\n",
       "            <td><span style=\"color: red; font-weight: bold;\">0.0476</span></td>\n",
       "        </tr>\n",
       "        \n",
       "        <tr>\n",
       "            <td>72000</td>\n",
       "            <td>0.0130</td>\n",
       "            <td>0.0130</td>\n",
       "            <td>0.0140</td>\n",
       "            <td>0.0140</td>\n",
       "            <td>0.0010</td>\n",
       "            <td>0.0010</td>\n",
       "            <td>0.0055</td>\n",
       "            <td><span style=\"color: red; font-weight: bold;\">0.1090</span></td>\n",
       "            <td>0.2625</td>\n",
       "            <td><span style=\"color: red; font-weight: bold;\">0.1889</span></td>\n",
       "            <td>0.2570</td>\n",
       "            <td><span style=\"color: red; font-weight: bold;\">0.0799</span></td>\n",
       "        </tr>\n",
       "        \n",
       "    </tbody>\n",
       "    </table>\n",
       "    "
      ],
      "text/plain": [
       "<IPython.core.display.HTML object>"
      ]
     },
     "metadata": {},
     "output_type": "display_data"
    }
   ],
   "source": [
    "from utils.pricer.option_constraints import tighten_option_spread\n",
    "from utils.reporting.html_table_generator import generate_price_comparison_table\n",
    "from IPython.display import HTML, display\n",
    "\n",
    "tightened_option_chain = tighten_option_spread(df_option_chain)\n",
    "print(f\"Comparison of old bid/ask proces and the tightened bid/ask price\")\n",
    "\n",
    "# Generate HTML table using external module\n",
    "display(HTML(generate_price_comparison_table(tightened_option_chain, table_width=\"70%\", font_size=\"10px\")))"
   ]
  },
  {
   "cell_type": "code",
   "execution_count": 20,
   "id": "fee6de0a",
   "metadata": {},
   "outputs": [
    {
     "name": "stdout",
     "output_type": "stream",
     "text": [
      "💰 Forward price: $62,416.00\n",
      "⏰ Time to expiry: 0.0397 years\n",
      "✅ DataFrame with vega calculations created successfully using centralized module!\n"
     ]
    },
    {
     "data": {
      "text/html": [
       "<div><style>\n",
       ".dataframe > thead > tr,\n",
       ".dataframe > tbody > tr {\n",
       "  text-align: right;\n",
       "  white-space: pre-wrap;\n",
       "}\n",
       "</style>\n",
       "<small>shape: (27, 5)</small><table border=\"1\" class=\"dataframe\"><thead><tr><th>strike</th><th>bidVola</th><th>midVola</th><th>askVola</th><th>vega</th></tr><tr><td>i64</td><td>f64</td><td>f64</td><td>f64</td><td>f64</td></tr></thead><tbody><tr><td>44000</td><td>87.23</td><td>89.3</td><td>91.37</td><td>5.98</td></tr><tr><td>45000</td><td>85.36</td><td>87.11</td><td>88.86</td><td>7.06</td></tr><tr><td>46000</td><td>82.13</td><td>84.06</td><td>85.99</td><td>8.02</td></tr><tr><td>47000</td><td>80.16</td><td>81.81</td><td>83.46</td><td>9.38</td></tr><tr><td>48000</td><td>78.27</td><td>79.68</td><td>81.09</td><td>10.98</td></tr><tr><td>&hellip;</td><td>&hellip;</td><td>&hellip;</td><td>&hellip;</td><td>&hellip;</td></tr><tr><td>66000</td><td>68.59</td><td>69.26</td><td>69.92</td><td>46.62</td></tr><tr><td>67000</td><td>68.97</td><td>69.66</td><td>70.35</td><td>44.75</td></tr><tr><td>68000</td><td>69.26</td><td>69.99</td><td>70.72</td><td>42.52</td></tr><tr><td>70000</td><td>70.7</td><td>71.52</td><td>72.34</td><td>37.69</td></tr><tr><td>72000</td><td>72.1</td><td>73.05</td><td>74.0</td><td>32.64</td></tr></tbody></table></div>"
      ],
      "text/plain": [
       "shape: (27, 5)\n",
       "┌────────┬─────────┬─────────┬─────────┬───────┐\n",
       "│ strike ┆ bidVola ┆ midVola ┆ askVola ┆ vega  │\n",
       "│ ---    ┆ ---     ┆ ---     ┆ ---     ┆ ---   │\n",
       "│ i64    ┆ f64     ┆ f64     ┆ f64     ┆ f64   │\n",
       "╞════════╪═════════╪═════════╪═════════╪═══════╡\n",
       "│ 44000  ┆ 87.23   ┆ 89.3    ┆ 91.37   ┆ 5.98  │\n",
       "│ 45000  ┆ 85.36   ┆ 87.11   ┆ 88.86   ┆ 7.06  │\n",
       "│ 46000  ┆ 82.13   ┆ 84.06   ┆ 85.99   ┆ 8.02  │\n",
       "│ 47000  ┆ 80.16   ┆ 81.81   ┆ 83.46   ┆ 9.38  │\n",
       "│ 48000  ┆ 78.27   ┆ 79.68   ┆ 81.09   ┆ 10.98 │\n",
       "│ …      ┆ …       ┆ …       ┆ …       ┆ …     │\n",
       "│ 66000  ┆ 68.59   ┆ 69.26   ┆ 69.92   ┆ 46.62 │\n",
       "│ 67000  ┆ 68.97   ┆ 69.66   ┆ 70.35   ┆ 44.75 │\n",
       "│ 68000  ┆ 69.26   ┆ 69.99   ┆ 70.72   ┆ 42.52 │\n",
       "│ 70000  ┆ 70.7    ┆ 71.52   ┆ 72.34   ┆ 37.69 │\n",
       "│ 72000  ┆ 72.1    ┆ 73.05   ┆ 74.0    ┆ 32.64 │\n",
       "└────────┴─────────┴─────────┴─────────┴───────┘"
      ]
     },
     "execution_count": 20,
     "metadata": {},
     "output_type": "execute_result"
    }
   ],
   "source": [
    "# Get forward price and time to expiry\n",
    "from utils.volatility_fitter.volatility_calculator import process_option_chain_with_volatilities, process_volatility_with_greeks\n",
    "\n",
    "df_option_with_vola = process_option_chain_with_volatilities(tightened_option_chain, interest_rate=0.15)\n",
    "df_option_with_vola_and_greeks = process_volatility_with_greeks(df_option_with_vola)\n",
    "\n",
    "assert len(df_option_with_vola['F'].unique().to_list()) == 1\n",
    "assert len(df_option_with_vola['tau'].unique().to_list()) == 1\n",
    "forward_price = df_option_with_vola['F'][0]\n",
    "time_to_expiry = df_option_with_vola['tau'][0]\n",
    "\n",
    "print(f\"💰 Forward price: ${forward_price:,.2f}\")\n",
    "print(f\"⏰ Time to expiry: {time_to_expiry:.4f} years\")\n",
    "\n",
    "\n",
    "print(\"✅ DataFrame with vega calculations created successfully using centralized module!\")\n",
    "df_option_with_vola_and_greeks.select(['strike', 'bidVola', 'midVola', 'askVola', 'vega'])"
   ]
  },
  {
   "cell_type": "code",
   "execution_count": 21,
   "id": "6fc063c1",
   "metadata": {},
   "outputs": [
    {
     "data": {
      "application/vnd.plotly.v1+json": {
       "config": {
        "plotlyServerURL": "https://plot.ly"
       },
       "data": [
        {
         "error_y": {
          "array": {
           "bdata": "WsGWU4ElSEDykdeI/59GQB2izHsNL0ZA29TJDvxKM0CKWiuI2ZExQIqpUPE3+iVApJVyt0/XIED8A+g5UGAbQMRSZNlPLhpA5L4N9sBCFkCQr/PSaE4VQJCbhxD5nhJAYJDSjMOBCUAgEGuaJeADQCA6rKW5SghAcPz1WCufBkCgpTGhhXP1P0DUrv+r/+4/gOhhm1lX7j/AdgKCJRfkP8As5J1vOOQ/QJiQPZOd5D9ArHpNR0DlP8B6RMThJOY/wGZG2JpN5z8AHaSsqEnqPwAYmD3JW+4/",
           "dtype": "f8"
          },
          "color": "blue",
          "type": "data",
          "visible": true
         },
         "marker": {
          "color": "blue",
          "symbol": "circle"
         },
         "mode": "markers",
         "name": "Call IV (Bid/Ask Error Bar)",
         "opacity": 0.8,
         "type": "scatter",
         "x": {
          "bdata": "4KsAAMivAACwswAAmLcAAIC7AABovwAAUMMAADjHAAAgywAACM8AAPDSAADY1gAAwNoAAKjeAACQ4gAAeOYAAGDqAABI7gAAMPIAABj2AAAA+gAA6P0AANABAQC4BQEAoAkBAHARAQBAGQEA",
          "dtype": "i4"
         },
         "y": {
          "bdata": "CAl4zpVTSUCg2bgDFM5HQMvprfYhXUdAkSc5OveuUEB81qNvjoFQQJRQ33AQe1JAFKR4kZ7DUUCNhtGvHalRQIo0obyydFFAl0YMHyg6UUCeiugHVjZRQNIwRQ9GEFFAEWq2dgwkUUCNgBwHuNJQQDJRuNnrw1BAdGKXk/TPUEC8JY0eR8RQQPhzNTU+4FBAzeIKiYP4UEAsS+iFFg9RQLqFild0JlFAtos+HjstUUAOuE3FL1BRQOZzTstialFA7uMs3YN/UUAQzmZoD+FRQBLbYSogQ1JA",
          "dtype": "f8"
         }
        },
        {
         "error_y": {
          "array": {
           "bdata": "cJtyFpKNAECgzV36iA78PwApD8NM3f4/4B69Wh5l+j9AN4bBIZL2PwDXwM1iYPM/IA4r44TB8z/gsiPtydL7PwCBQYWSgfg/4LrGDPFS9T9ALF0CEEbyP2Dr4tyJLvA/AInUonwB7T8gx0c03LjzP2BLUEQsI/I/QBgfLL2X5j8AckoRJRPwP4CFqHaxqOQ/wDGxw2dX7j/AYfHmeSHuP+CUFX6tOPQ/kPl70FM0B0AgvvgRYNb/P+InJzjOYCVAZKQvibbpJUCIJcb+G/1HQNKxkx4Yv0pA",
           "dtype": "f8"
          },
          "color": "orange",
          "type": "data",
          "visible": true
         },
         "marker": {
          "color": "orange",
          "symbol": "circle"
         },
         "mode": "markers",
         "name": "Put IV (Bid/Ask Error Bar)",
         "opacity": 0.8,
         "type": "scatter",
         "x": {
          "bdata": "4KsAAMivAACwswAAmLcAAIC7AABovwAAUMMAADjHAAAgywAACM8AAPDSAADY1gAAwNoAAKjeAACQ4gAAeOYAAGDqAABI7gAAMPIAABj2AAAA+gAA6P0AANABAQC4BQEAoAkBAHARAQBAGQEA",
          "dtype": "i4"
         },
         "y": {
          "bdata": "plti+iVTVkBSkvygH8dVQGV2+hP3A1VAkGlv2LVzVEBrdS2viOtTQM5KtdZyY1NA3hBQrNL9UkBo+l8SlLxSQBHdM6QpIlJA1MurA4e+UUDzb4PtaMJRQKSaXT/LgFFA0CxXXy1DUUD4Q861vBxRQHg5FYT3AlFAaB5KKfXuUEBKxQoSEPJQQEZcyMD6B1FATFLCbekGUUB4NOk1PC1RQOZRCcdNLFFALJVRHu0ZUUA6ROZRnHdRQKl+dV83+1BAoigQQKWDUkCIJcb+G31IQNKxkx4YP0tA",
          "dtype": "f8"
         }
        }
       ],
       "layout": {
        "legend": {
         "title": {
          "text": "Legend"
         }
        },
        "shapes": [
         {
          "line": {
           "color": "green",
           "dash": "dash"
          },
          "name": "Spot Price (S)",
          "type": "line",
          "x0": 61924.86,
          "x1": 61924.86,
          "xref": "x",
          "y0": 0,
          "y1": 1,
          "yref": "y domain"
         }
        ],
        "template": {
         "data": {
          "bar": [
           {
            "error_x": {
             "color": "#2a3f5f"
            },
            "error_y": {
             "color": "#2a3f5f"
            },
            "marker": {
             "line": {
              "color": "white",
              "width": 0.5
             },
             "pattern": {
              "fillmode": "overlay",
              "size": 10,
              "solidity": 0.2
             }
            },
            "type": "bar"
           }
          ],
          "barpolar": [
           {
            "marker": {
             "line": {
              "color": "white",
              "width": 0.5
             },
             "pattern": {
              "fillmode": "overlay",
              "size": 10,
              "solidity": 0.2
             }
            },
            "type": "barpolar"
           }
          ],
          "carpet": [
           {
            "aaxis": {
             "endlinecolor": "#2a3f5f",
             "gridcolor": "#C8D4E3",
             "linecolor": "#C8D4E3",
             "minorgridcolor": "#C8D4E3",
             "startlinecolor": "#2a3f5f"
            },
            "baxis": {
             "endlinecolor": "#2a3f5f",
             "gridcolor": "#C8D4E3",
             "linecolor": "#C8D4E3",
             "minorgridcolor": "#C8D4E3",
             "startlinecolor": "#2a3f5f"
            },
            "type": "carpet"
           }
          ],
          "choropleth": [
           {
            "colorbar": {
             "outlinewidth": 0,
             "ticks": ""
            },
            "type": "choropleth"
           }
          ],
          "contour": [
           {
            "colorbar": {
             "outlinewidth": 0,
             "ticks": ""
            },
            "colorscale": [
             [
              0,
              "#0d0887"
             ],
             [
              0.1111111111111111,
              "#46039f"
             ],
             [
              0.2222222222222222,
              "#7201a8"
             ],
             [
              0.3333333333333333,
              "#9c179e"
             ],
             [
              0.4444444444444444,
              "#bd3786"
             ],
             [
              0.5555555555555556,
              "#d8576b"
             ],
             [
              0.6666666666666666,
              "#ed7953"
             ],
             [
              0.7777777777777778,
              "#fb9f3a"
             ],
             [
              0.8888888888888888,
              "#fdca26"
             ],
             [
              1,
              "#f0f921"
             ]
            ],
            "type": "contour"
           }
          ],
          "contourcarpet": [
           {
            "colorbar": {
             "outlinewidth": 0,
             "ticks": ""
            },
            "type": "contourcarpet"
           }
          ],
          "heatmap": [
           {
            "colorbar": {
             "outlinewidth": 0,
             "ticks": ""
            },
            "colorscale": [
             [
              0,
              "#0d0887"
             ],
             [
              0.1111111111111111,
              "#46039f"
             ],
             [
              0.2222222222222222,
              "#7201a8"
             ],
             [
              0.3333333333333333,
              "#9c179e"
             ],
             [
              0.4444444444444444,
              "#bd3786"
             ],
             [
              0.5555555555555556,
              "#d8576b"
             ],
             [
              0.6666666666666666,
              "#ed7953"
             ],
             [
              0.7777777777777778,
              "#fb9f3a"
             ],
             [
              0.8888888888888888,
              "#fdca26"
             ],
             [
              1,
              "#f0f921"
             ]
            ],
            "type": "heatmap"
           }
          ],
          "histogram": [
           {
            "marker": {
             "pattern": {
              "fillmode": "overlay",
              "size": 10,
              "solidity": 0.2
             }
            },
            "type": "histogram"
           }
          ],
          "histogram2d": [
           {
            "colorbar": {
             "outlinewidth": 0,
             "ticks": ""
            },
            "colorscale": [
             [
              0,
              "#0d0887"
             ],
             [
              0.1111111111111111,
              "#46039f"
             ],
             [
              0.2222222222222222,
              "#7201a8"
             ],
             [
              0.3333333333333333,
              "#9c179e"
             ],
             [
              0.4444444444444444,
              "#bd3786"
             ],
             [
              0.5555555555555556,
              "#d8576b"
             ],
             [
              0.6666666666666666,
              "#ed7953"
             ],
             [
              0.7777777777777778,
              "#fb9f3a"
             ],
             [
              0.8888888888888888,
              "#fdca26"
             ],
             [
              1,
              "#f0f921"
             ]
            ],
            "type": "histogram2d"
           }
          ],
          "histogram2dcontour": [
           {
            "colorbar": {
             "outlinewidth": 0,
             "ticks": ""
            },
            "colorscale": [
             [
              0,
              "#0d0887"
             ],
             [
              0.1111111111111111,
              "#46039f"
             ],
             [
              0.2222222222222222,
              "#7201a8"
             ],
             [
              0.3333333333333333,
              "#9c179e"
             ],
             [
              0.4444444444444444,
              "#bd3786"
             ],
             [
              0.5555555555555556,
              "#d8576b"
             ],
             [
              0.6666666666666666,
              "#ed7953"
             ],
             [
              0.7777777777777778,
              "#fb9f3a"
             ],
             [
              0.8888888888888888,
              "#fdca26"
             ],
             [
              1,
              "#f0f921"
             ]
            ],
            "type": "histogram2dcontour"
           }
          ],
          "mesh3d": [
           {
            "colorbar": {
             "outlinewidth": 0,
             "ticks": ""
            },
            "type": "mesh3d"
           }
          ],
          "parcoords": [
           {
            "line": {
             "colorbar": {
              "outlinewidth": 0,
              "ticks": ""
             }
            },
            "type": "parcoords"
           }
          ],
          "pie": [
           {
            "automargin": true,
            "type": "pie"
           }
          ],
          "scatter": [
           {
            "fillpattern": {
             "fillmode": "overlay",
             "size": 10,
             "solidity": 0.2
            },
            "type": "scatter"
           }
          ],
          "scatter3d": [
           {
            "line": {
             "colorbar": {
              "outlinewidth": 0,
              "ticks": ""
             }
            },
            "marker": {
             "colorbar": {
              "outlinewidth": 0,
              "ticks": ""
             }
            },
            "type": "scatter3d"
           }
          ],
          "scattercarpet": [
           {
            "marker": {
             "colorbar": {
              "outlinewidth": 0,
              "ticks": ""
             }
            },
            "type": "scattercarpet"
           }
          ],
          "scattergeo": [
           {
            "marker": {
             "colorbar": {
              "outlinewidth": 0,
              "ticks": ""
             }
            },
            "type": "scattergeo"
           }
          ],
          "scattergl": [
           {
            "marker": {
             "colorbar": {
              "outlinewidth": 0,
              "ticks": ""
             }
            },
            "type": "scattergl"
           }
          ],
          "scattermap": [
           {
            "marker": {
             "colorbar": {
              "outlinewidth": 0,
              "ticks": ""
             }
            },
            "type": "scattermap"
           }
          ],
          "scattermapbox": [
           {
            "marker": {
             "colorbar": {
              "outlinewidth": 0,
              "ticks": ""
             }
            },
            "type": "scattermapbox"
           }
          ],
          "scatterpolar": [
           {
            "marker": {
             "colorbar": {
              "outlinewidth": 0,
              "ticks": ""
             }
            },
            "type": "scatterpolar"
           }
          ],
          "scatterpolargl": [
           {
            "marker": {
             "colorbar": {
              "outlinewidth": 0,
              "ticks": ""
             }
            },
            "type": "scatterpolargl"
           }
          ],
          "scatterternary": [
           {
            "marker": {
             "colorbar": {
              "outlinewidth": 0,
              "ticks": ""
             }
            },
            "type": "scatterternary"
           }
          ],
          "surface": [
           {
            "colorbar": {
             "outlinewidth": 0,
             "ticks": ""
            },
            "colorscale": [
             [
              0,
              "#0d0887"
             ],
             [
              0.1111111111111111,
              "#46039f"
             ],
             [
              0.2222222222222222,
              "#7201a8"
             ],
             [
              0.3333333333333333,
              "#9c179e"
             ],
             [
              0.4444444444444444,
              "#bd3786"
             ],
             [
              0.5555555555555556,
              "#d8576b"
             ],
             [
              0.6666666666666666,
              "#ed7953"
             ],
             [
              0.7777777777777778,
              "#fb9f3a"
             ],
             [
              0.8888888888888888,
              "#fdca26"
             ],
             [
              1,
              "#f0f921"
             ]
            ],
            "type": "surface"
           }
          ],
          "table": [
           {
            "cells": {
             "fill": {
              "color": "#EBF0F8"
             },
             "line": {
              "color": "white"
             }
            },
            "header": {
             "fill": {
              "color": "#C8D4E3"
             },
             "line": {
              "color": "white"
             }
            },
            "type": "table"
           }
          ]
         },
         "layout": {
          "annotationdefaults": {
           "arrowcolor": "#2a3f5f",
           "arrowhead": 0,
           "arrowwidth": 1
          },
          "autotypenumbers": "strict",
          "coloraxis": {
           "colorbar": {
            "outlinewidth": 0,
            "ticks": ""
           }
          },
          "colorscale": {
           "diverging": [
            [
             0,
             "#8e0152"
            ],
            [
             0.1,
             "#c51b7d"
            ],
            [
             0.2,
             "#de77ae"
            ],
            [
             0.3,
             "#f1b6da"
            ],
            [
             0.4,
             "#fde0ef"
            ],
            [
             0.5,
             "#f7f7f7"
            ],
            [
             0.6,
             "#e6f5d0"
            ],
            [
             0.7,
             "#b8e186"
            ],
            [
             0.8,
             "#7fbc41"
            ],
            [
             0.9,
             "#4d9221"
            ],
            [
             1,
             "#276419"
            ]
           ],
           "sequential": [
            [
             0,
             "#0d0887"
            ],
            [
             0.1111111111111111,
             "#46039f"
            ],
            [
             0.2222222222222222,
             "#7201a8"
            ],
            [
             0.3333333333333333,
             "#9c179e"
            ],
            [
             0.4444444444444444,
             "#bd3786"
            ],
            [
             0.5555555555555556,
             "#d8576b"
            ],
            [
             0.6666666666666666,
             "#ed7953"
            ],
            [
             0.7777777777777778,
             "#fb9f3a"
            ],
            [
             0.8888888888888888,
             "#fdca26"
            ],
            [
             1,
             "#f0f921"
            ]
           ],
           "sequentialminus": [
            [
             0,
             "#0d0887"
            ],
            [
             0.1111111111111111,
             "#46039f"
            ],
            [
             0.2222222222222222,
             "#7201a8"
            ],
            [
             0.3333333333333333,
             "#9c179e"
            ],
            [
             0.4444444444444444,
             "#bd3786"
            ],
            [
             0.5555555555555556,
             "#d8576b"
            ],
            [
             0.6666666666666666,
             "#ed7953"
            ],
            [
             0.7777777777777778,
             "#fb9f3a"
            ],
            [
             0.8888888888888888,
             "#fdca26"
            ],
            [
             1,
             "#f0f921"
            ]
           ]
          },
          "colorway": [
           "#636efa",
           "#EF553B",
           "#00cc96",
           "#ab63fa",
           "#FFA15A",
           "#19d3f3",
           "#FF6692",
           "#B6E880",
           "#FF97FF",
           "#FECB52"
          ],
          "font": {
           "color": "#2a3f5f"
          },
          "geo": {
           "bgcolor": "white",
           "lakecolor": "white",
           "landcolor": "white",
           "showlakes": true,
           "showland": true,
           "subunitcolor": "#C8D4E3"
          },
          "hoverlabel": {
           "align": "left"
          },
          "hovermode": "closest",
          "mapbox": {
           "style": "light"
          },
          "paper_bgcolor": "white",
          "plot_bgcolor": "white",
          "polar": {
           "angularaxis": {
            "gridcolor": "#EBF0F8",
            "linecolor": "#EBF0F8",
            "ticks": ""
           },
           "bgcolor": "white",
           "radialaxis": {
            "gridcolor": "#EBF0F8",
            "linecolor": "#EBF0F8",
            "ticks": ""
           }
          },
          "scene": {
           "xaxis": {
            "backgroundcolor": "white",
            "gridcolor": "#DFE8F3",
            "gridwidth": 2,
            "linecolor": "#EBF0F8",
            "showbackground": true,
            "ticks": "",
            "zerolinecolor": "#EBF0F8"
           },
           "yaxis": {
            "backgroundcolor": "white",
            "gridcolor": "#DFE8F3",
            "gridwidth": 2,
            "linecolor": "#EBF0F8",
            "showbackground": true,
            "ticks": "",
            "zerolinecolor": "#EBF0F8"
           },
           "zaxis": {
            "backgroundcolor": "white",
            "gridcolor": "#DFE8F3",
            "gridwidth": 2,
            "linecolor": "#EBF0F8",
            "showbackground": true,
            "ticks": "",
            "zerolinecolor": "#EBF0F8"
           }
          },
          "shapedefaults": {
           "line": {
            "color": "#2a3f5f"
           }
          },
          "ternary": {
           "aaxis": {
            "gridcolor": "#DFE8F3",
            "linecolor": "#A2B1C6",
            "ticks": ""
           },
           "baxis": {
            "gridcolor": "#DFE8F3",
            "linecolor": "#A2B1C6",
            "ticks": ""
           },
           "bgcolor": "white",
           "caxis": {
            "gridcolor": "#DFE8F3",
            "linecolor": "#A2B1C6",
            "ticks": ""
           }
          },
          "title": {
           "x": 0.05
          },
          "xaxis": {
           "automargin": true,
           "gridcolor": "#EBF0F8",
           "linecolor": "#EBF0F8",
           "ticks": "",
           "title": {
            "standoff": 15
           },
           "zerolinecolor": "#EBF0F8",
           "zerolinewidth": 2
          },
          "yaxis": {
           "automargin": true,
           "gridcolor": "#EBF0F8",
           "linecolor": "#EBF0F8",
           "ticks": "",
           "title": {
            "standoff": 15
           },
           "zerolinecolor": "#EBF0F8",
           "zerolinewidth": 2
          }
         }
        },
        "title": {
         "text": "2024-02-29 20:12: IV on DERIBIT BTC option for Expiry 15MAR24"
        },
        "xaxis": {
         "title": {
          "text": "Strike Price"
         }
        },
        "yaxis": {
         "title": {
          "text": "Implied Volatility (%)"
         }
        }
       }
      }
     },
     "metadata": {},
     "output_type": "display_data"
    }
   ],
   "source": [
    "fig = go.Figure()\n",
    "# Plot with error bars for bid/ask implied volatility\n",
    "fig.add_trace(go.Scatter(\n",
    "    x=df_option_with_vola_and_greeks['strike'],\n",
    "    y=(df_option_with_vola_and_greeks['bidVola_C']+df_option_with_vola_and_greeks['askVola_C'])/2,\n",
    "    error_y=dict(type='data', array=(df_option_with_vola_and_greeks['askVola_C'] - df_option_with_vola_and_greeks['bidVola_C']).abs()/2,\n",
    "        visible=True, color='blue'),\n",
    "    mode='markers',\n",
    "    name='Call IV (Bid/Ask Error Bar)',\n",
    "    marker=dict(color='blue', symbol='circle'),\n",
    "    opacity=0.8\n",
    "))\n",
    "fig.add_trace(go.Scatter(\n",
    "    x=df_option_with_vola_and_greeks['strike'],\n",
    "    y=(df_option_with_vola_and_greeks['bidVola_P']+df_option_with_vola_and_greeks['askVola_P'])/2,\n",
    "    error_y=dict(type='data', array=(df_option_with_vola_and_greeks['askVola_P'] - df_option_with_vola_and_greeks['bidVola_P']).abs()/2,\n",
    "        visible=True, color='orange'),\n",
    "    mode='markers',\n",
    "    name='Put IV (Bid/Ask Error Bar)',\n",
    "    marker=dict(color='orange', symbol='circle'),\n",
    "    opacity=0.8\n",
    "))\n",
    "\n",
    "fig.add_vline(x=df_option_with_vola_and_greeks['S'][0], line=dict(color='green', dash='dash'), name='Spot Price (S)')\n",
    "\n",
    "fig.update_layout(\n",
    "    title=f\"{snapshot_time.strftime('%Y-%m-%d %H:%M')}: IV on DERIBIT BTC option for Expiry {my_expiry}\",\n",
    "    xaxis_title=\"Strike Price\",\n",
    "    yaxis_title=\"Implied Volatility (%)\",\n",
    "    legend_title=\"Legend\",\n",
    "    template=\"plotly_white\"\n",
    ")\n",
    "fig.show()"
   ]
  },
  {
   "cell_type": "markdown",
   "id": "63136795",
   "metadata": {},
   "source": [
    "## 3. Model Initialization and Calibration"
   ]
  },
  {
   "cell_type": "code",
   "execution_count": 22,
   "id": "545ca052",
   "metadata": {},
   "outputs": [
    {
     "data": {
      "text/plain": [
       "TimeAdjustedCalibrationResult(success=True, parameters=TimeAdjustedWingModelParameters(atm_vol=np.float64(0.6814893342707722), slope=np.float64(0.0850350163621685), call_curve=np.float64(0.27950452794757963), put_curve=np.float64(0.4889194052733569), up_cutoff=np.float64(1.0), down_cutoff=np.float64(-1.0), up_smoothing=np.float64(0.5), down_smoothing=np.float64(0.5), forward_price=62416.0, time_to_expiry=0.03970319634703196), error=np.float64(100000.04961012185), message='Optimization terminated successfully')"
      ]
     },
     "execution_count": 22,
     "metadata": {},
     "output_type": "execute_result"
    }
   ],
   "source": [
    "from utils.volatility_fitter.time_adjusted_wing_model.time_adjusted_wing_model_calibrator import TimeAdjustedWingModelCalibrator\n",
    "\n",
    "my_calibrator = TimeAdjustedWingModelCalibrator(use_norm_term=True)\n",
    "\n",
    "strikes = df_option_with_vola_and_greeks['strike'].to_list()\n",
    "mid_vola = (df_option_with_vola_and_greeks['midVola']/100).to_list() \n",
    "market_vegas = df_option_with_vola_and_greeks['vega'].to_list()\n",
    "weights = (df_option_with_vola_and_greeks['vega'] / max(market_vegas)).to_list()\n",
    "\n",
    "# fitter_result =\\\n",
    "my_calibrator.calibrate(strike_list=strikes, market_vol_list=mid_vola, market_vega_list=market_vegas, weight_list=weights, forward_price=forward_price, time_to_expiry=time_to_expiry)\n",
    "# fitter_result"
   ]
  },
  {
   "cell_type": "code",
   "execution_count": 23,
   "id": "94c2221e",
   "metadata": {},
   "outputs": [
    {
     "name": "stdout",
     "output_type": "stream",
     "text": [
      "     message: Optimization terminated successfully\n",
      "     success: True\n",
      "      status: 0\n",
      "         fun: 0.04961040883703004\n",
      "           x: [ 6.815e-01  8.509e-02  2.791e-01  4.892e-01  5.000e-01\n",
      "               -8.500e-01  5.000e-01  1.500e+00]\n",
      "         nit: 11\n",
      "         jac: [ 4.595e-02 -3.439e-03 -5.743e-04  1.184e-03  0.000e+00\n",
      "                0.000e+00  0.000e+00  0.000e+00]\n",
      "        nfev: 109\n",
      "        njev: 11\n",
      " multipliers: []\n",
      "🔄 Calibrating Time-Adjusted Wing Model. RMSE: 0.049610\n",
      "atm_vol        : 0.68149\n",
      "slope          : 0.08509\n",
      "call_curve     : 0.27906\n",
      "put_curve      : 0.48915\n",
      "up_cutoff      : 0.50000\n",
      "down_cutoff    : -0.85000\n",
      "up_smoothing   : 0.50000\n",
      "down_smoothing : 1.50000\n"
     ]
    }
   ],
   "source": [
    "from scipy import optimize\n",
    "from utils.volatility_fitter.time_adjusted_wing_model.time_adjusted_wing_model_calibrator import TimeAdjustedCalibrationResult, create_time_adjusted_wing_model_from_result\n",
    "# for i in range(5):\n",
    "#     weights[i] = 1\n",
    "args = (strikes, mid_vola, market_vegas, weights, forward_price, time_to_expiry, True)\n",
    "initial_guess = [\n",
    "            0.726,    # atm_vol\n",
    "            0.12,                # slope\n",
    "            0.251,                # curve_up\n",
    "            0.37,                # curve_down\n",
    "            0.5,                # cut_up\n",
    "            -0.85,               # cut_dn\n",
    "            0.5,                # mSmUp\n",
    "            1.5                 # mSmDn\n",
    "        ]\n",
    "# initial_guess = my_optimized_paramter.get_fitted_vol_parameter()\n",
    "\n",
    "result=\\\n",
    "optimize.minimize(\n",
    "    fun=my_calibrator._loss_function,\n",
    "    x0=initial_guess,\n",
    "    args=args,\n",
    "    method=my_calibrator.method,\n",
    "    bounds=my_calibrator._get_parameter_bounds(),\n",
    "    # tol=my_calibrator.tolerance\n",
    ")\n",
    "print(result)\n",
    "my_optimized_paramter = create_time_adjusted_wing_model_from_result(result.x, forward_price, time_to_expiry)\n",
    "fitter_result = TimeAdjustedCalibrationResult(success=result.success, parameters=my_optimized_paramter, error=result.fun, message=result.message if hasattr(result, 'message') else \"\")\n",
    "print(f\"🔄 Calibrating Time-Adjusted Wing Model. RMSE: {fitter_result.error:.6f}\")\n",
    "\n",
    "for param, value in zip(my_optimized_paramter.get_parameter_names(), my_optimized_paramter.get_fitted_vol_parameter()):\n",
    "    print(f\"{param:15}: {value:.5f}\")"
   ]
  },
  {
   "cell_type": "markdown",
   "id": "e75f0e3a",
   "metadata": {},
   "source": [
    "## 4. Volatility Surface Analysis"
   ]
  },
  {
   "cell_type": "code",
   "execution_count": 24,
   "id": "ad2523b3",
   "metadata": {},
   "outputs": [],
   "source": [
    "# my_optimized_paramter.down_cutoff = -0.25\n",
    "# my_optimized_paramter.down_smoothing = 1.5"
   ]
  },
  {
   "cell_type": "code",
   "execution_count": 25,
   "id": "7b7a2b12",
   "metadata": {},
   "outputs": [
    {
     "name": "stdout",
     "output_type": "stream",
     "text": [
      "📈 Generated volatility surface with 57 points\n",
      "   Strike range: $10,000 - $112,000\n",
      "   Vol range: 67.8% - 143.8%\n"
     ]
    }
   ],
   "source": [
    "my_model = TimeAdjustedWingModel(parameters=my_optimized_paramter)\n",
    "# Generate fitted volatility surface\n",
    "strikes = df_option_with_vola_and_greeks['strike']\n",
    "mid_vola = df_option_with_vola_and_greeks['midVola']/100  # Convert from percentage to decimal\n",
    "bid_vola = df_option_with_vola_and_greeks['bidVola']/100  # Convert from percentage to decimal\n",
    "ask_vola = df_option_with_vola_and_greeks['askVola']/100  # Convert from percentage to decimal\n",
    "\n",
    "# Get fitted volatilities\n",
    "fitted_vols = []\n",
    "if (use_extended_strikes:=True):\n",
    "    extended_strikes = sorted(np.linspace(start=10000, stop=strikes[0], endpoint=False, num=10).tolist() +\n",
    "                              strikes.to_list() + \n",
    "                              [strikes[-1]+(x+1)*2000 for x in range(20)])\n",
    "else:\n",
    "    extended_strikes = strikes\n",
    "for strike in extended_strikes:\n",
    "    # print(strike, my_model.calculate_moneyness(forward_price, strike, time_to_expiry, my_optimized_paramter.atm_vol))    \n",
    "    fitted_vols.append(my_model.calculate_volatility_from_strike(strike))\n",
    "\n",
    "print(f\"📈 Generated volatility surface with {len(fitted_vols)} points\")\n",
    "print(f\"   Strike range: ${min(extended_strikes):,.0f} - ${max(extended_strikes):,.0f}\")\n",
    "print(f\"   Vol range: {min(fitted_vols):.1%} - {max(fitted_vols):.1%}\")"
   ]
  },
  {
   "cell_type": "code",
   "execution_count": 26,
   "id": "c14c7c34",
   "metadata": {},
   "outputs": [
    {
     "name": "stdout",
     "output_type": "stream",
     "text": [
      "Different ranges on the curve: {'downSmoothing': np.float64(23102.18126411087), 'downCutOff': np.float64(42173.65134807225), 'upCutOff': np.float64(79763.6826807874), 'upSmoothing': np.float64(89754.82170124608)}\n"
     ]
    },
    {
     "data": {
      "application/vnd.plotly.v1+json": {
       "config": {
        "plotlyServerURL": "https://plot.ly"
       },
       "data": [
        {
         "error_y": {
          "array": {
           "bdata": "YNobfGEylT8AUrgeheuRP6BOQBNhw5M/QDeJQWDlkD8AIv32deCMP8C3QILix4g/QGHD0ytliT+gNc07TtGRPwDIBz2bVY8/gJYhjnVxiz8ALGUZ4liHP8BMhA1Pr4Q/wBcmUwWjgj/AKO0NvjCJP8ArZRniWIc/gOkmMQisfD+A4seYu5aAP4AUrkfhenQ/gFN0JJf/gD8A2V92Tx52P4DSb18Hznk/ALTIdr6fej8AJXUCmgh7PwB4eqUsQ3w/AD0s1JrmfT9AG55eKcuAP8D5fmq8dIM/",
           "dtype": "f8"
          },
          "arrayminus": {
           "bdata": "QNobfGEylT/gUbgeheuRP8BOQBNhw5M/YDeJQWDlkD9AIv32deCMP0C3QILix4g/QCjtDb4wiT/ANc07TtGRPwAB3gIJio8/wF1LyAc9iz/AK2UZ4liHPwBNhA1Pr4Q/wBcmUwWjgj+AKO0NvjCJP4DzjlN0JIc/gFrTvOMUfT/AGp5eKcuAPwCjAbwFEnQ/QIxK6gQ0gT+ASQwCK4d2PwDSb18Hznk/gEMc6+I2ej+AliGOdXF7P4B4eqUsQ3w/ADws1JrmfT/AGp5eKcuAPwD6fmq8dIM/",
           "dtype": "f8"
          },
          "color": "blue",
          "symmetric": false,
          "thickness": 2,
          "type": "data",
          "visible": true,
          "width": 3
         },
         "marker": {
          "color": "blue",
          "size": 8,
          "symbol": "circle"
         },
         "mode": "markers",
         "name": "Market IV (Bid/Ask Range)",
         "opacity": 0.8,
         "type": "scatter",
         "x": {
          "bdata": "4KsAAMivAACwswAAmLcAAIC7AABovwAAUMMAADjHAAAgywAACM8AAPDSAADY1gAAwNoAAKjeAACQ4gAAeOYAAGDqAABI7gAAMPIAABj2AAAA+gAA6P0AANABAQC4BQEAoAkBAHARAQBAGQEA",
          "dtype": "i4"
         },
         "y": {
          "bdata": "+n5qvHST7D+OdXEbDeDrPy6QoPgx5uo/dnEbDeAt6j9Xfa62Yn/pPzeJQWDl0Og/yVTBqKRO6D+WQ4ts5/vnP7yWkA96Nuc/EhQ/xty15j9BguLHmLvmP0m/fR04Z+Y/f2q8dJMY5j+BlUOLbOflP0xZhjjWxeU/zO7Jw0Kt5T9uEoPAyqHlPxzr4jYawOU/w/UoXI/C5T8FEhQ/xtzlP8DKoUW28+U/lkOLbOf75T8MtaZ5xynmP1+YTBWMSuY/hA1Pr5Rl5j+lLEMc6+LmP8dLN4lBYOc/",
          "dtype": "f8"
         }
        },
        {
         "line": {
          "color": "black",
          "dash": "solid",
          "width": 3
         },
         "marker": {
          "color": "black",
          "size": 10,
          "symbol": "diamond"
         },
         "mode": "lines+markers",
         "name": "TimeAdjustedWingModel Fit",
         "opacity": 0.5,
         "type": "scatter",
         "x": [
          10000,
          13400,
          16800,
          20200,
          23600,
          27000,
          30400,
          33800,
          37200,
          40600,
          44000,
          45000,
          46000,
          47000,
          48000,
          49000,
          50000,
          51000,
          52000,
          53000,
          54000,
          55000,
          56000,
          57000,
          58000,
          59000,
          60000,
          61000,
          62000,
          63000,
          64000,
          65000,
          66000,
          67000,
          68000,
          70000,
          72000,
          74000,
          76000,
          78000,
          80000,
          82000,
          84000,
          86000,
          88000,
          90000,
          92000,
          94000,
          96000,
          98000,
          100000,
          102000,
          104000,
          106000,
          108000,
          110000,
          112000
         ],
         "y": [
          1.438445620423085,
          1.438445620423085,
          1.438445620423085,
          1.438445620423085,
          1.4378485214792094,
          1.4065131704211664,
          1.3394492604966555,
          1.2482188399176684,
          1.1403226457116047,
          1.020808960566848,
          0.8994824358521063,
          0.8692371545603186,
          0.8418013029470397,
          0.8170084002383673,
          0.7947043832756484,
          0.7747464657607122,
          0.7570021220702835,
          0.7413481799220224,
          0.727670008417029,
          0.7158607898703252,
          0.7058208654336877,
          0.6974571458644807,
          0.6906825799407317,
          0.6854156740000376,
          0.6815800569154329,
          0.6791040855376963,
          0.6779204862494165,
          0.6779660288069699,
          0.6791812291052997,
          0.6815100696844655,
          0.6846631871000022,
          0.6883742246846527,
          0.6926169516383099,
          0.6973665950570227,
          0.7025997414215187,
          0.7144291492880521,
          0.7279417851683593,
          0.7429908995074795,
          0.7594443544158436,
          0.7771828843919342,
          0.7960590351641326,
          0.8126372682537973,
          0.8249732669840402,
          0.8333560600028973,
          0.8380506768392719,
          0.8393248983556838,
          0.8393248983556838,
          0.8393248983556838,
          0.8393248983556838,
          0.8393248983556838,
          0.8393248983556838,
          0.8393248983556838,
          0.8393248983556838,
          0.8393248983556838,
          0.8393248983556838,
          0.8393248983556838,
          0.8393248983556838
         ]
        }
       ],
       "layout": {
        "annotations": [
         {
          "showarrow": false,
          "text": "Forward: 62416",
          "x": 62416,
          "xanchor": "left",
          "xref": "x",
          "y": 1,
          "yanchor": "top",
          "yref": "y domain"
         },
         {
          "font": {
           "color": "green",
           "size": 10
          },
          "showarrow": false,
          "text": "DSm:23102",
          "x": 23102.18126411087,
          "xanchor": "center",
          "xref": "x",
          "y": 0,
          "yanchor": "top",
          "yref": "y domain"
         },
         {
          "font": {
           "color": "green",
           "size": 10
          },
          "showarrow": false,
          "text": "DCO:42174",
          "x": 42173.65134807225,
          "xanchor": "center",
          "xref": "x",
          "y": 0,
          "yanchor": "top",
          "yref": "y domain"
         },
         {
          "font": {
           "color": "green",
           "size": 10
          },
          "showarrow": false,
          "text": "UCO:79764",
          "x": 79763.6826807874,
          "xanchor": "center",
          "xref": "x",
          "y": 0,
          "yanchor": "top",
          "yref": "y domain"
         },
         {
          "font": {
           "color": "green",
           "size": 10
          },
          "showarrow": false,
          "text": "USm:89755",
          "x": 89754.82170124608,
          "xanchor": "center",
          "xref": "x",
          "y": 0,
          "yanchor": "top",
          "yref": "y domain"
         }
        ],
        "height": 500,
        "shapes": [
         {
          "line": {
           "color": "purple",
           "dash": "dot",
           "width": 2
          },
          "type": "line",
          "x0": 62416,
          "x1": 62416,
          "xref": "x",
          "y0": 0,
          "y1": 1,
          "yref": "y domain"
         },
         {
          "line": {
           "color": "green",
           "dash": "dot",
           "width": 1
          },
          "type": "line",
          "x0": 23102.18126411087,
          "x1": 23102.18126411087,
          "xref": "x",
          "y0": 0,
          "y1": 1,
          "yref": "y domain"
         },
         {
          "line": {
           "color": "green",
           "dash": "dot",
           "width": 1
          },
          "type": "line",
          "x0": 42173.65134807225,
          "x1": 42173.65134807225,
          "xref": "x",
          "y0": 0,
          "y1": 1,
          "yref": "y domain"
         },
         {
          "line": {
           "color": "green",
           "dash": "dot",
           "width": 1
          },
          "type": "line",
          "x0": 79763.6826807874,
          "x1": 79763.6826807874,
          "xref": "x",
          "y0": 0,
          "y1": 1,
          "yref": "y domain"
         },
         {
          "line": {
           "color": "green",
           "dash": "dot",
           "width": 1
          },
          "type": "line",
          "x0": 89754.82170124608,
          "x1": 89754.82170124608,
          "xref": "x",
          "y0": 0,
          "y1": 1,
          "yref": "y domain"
         }
        ],
        "template": {
         "data": {
          "bar": [
           {
            "error_x": {
             "color": "#2a3f5f"
            },
            "error_y": {
             "color": "#2a3f5f"
            },
            "marker": {
             "line": {
              "color": "#E5ECF6",
              "width": 0.5
             },
             "pattern": {
              "fillmode": "overlay",
              "size": 10,
              "solidity": 0.2
             }
            },
            "type": "bar"
           }
          ],
          "barpolar": [
           {
            "marker": {
             "line": {
              "color": "#E5ECF6",
              "width": 0.5
             },
             "pattern": {
              "fillmode": "overlay",
              "size": 10,
              "solidity": 0.2
             }
            },
            "type": "barpolar"
           }
          ],
          "carpet": [
           {
            "aaxis": {
             "endlinecolor": "#2a3f5f",
             "gridcolor": "white",
             "linecolor": "white",
             "minorgridcolor": "white",
             "startlinecolor": "#2a3f5f"
            },
            "baxis": {
             "endlinecolor": "#2a3f5f",
             "gridcolor": "white",
             "linecolor": "white",
             "minorgridcolor": "white",
             "startlinecolor": "#2a3f5f"
            },
            "type": "carpet"
           }
          ],
          "choropleth": [
           {
            "colorbar": {
             "outlinewidth": 0,
             "ticks": ""
            },
            "type": "choropleth"
           }
          ],
          "contour": [
           {
            "colorbar": {
             "outlinewidth": 0,
             "ticks": ""
            },
            "colorscale": [
             [
              0,
              "#0d0887"
             ],
             [
              0.1111111111111111,
              "#46039f"
             ],
             [
              0.2222222222222222,
              "#7201a8"
             ],
             [
              0.3333333333333333,
              "#9c179e"
             ],
             [
              0.4444444444444444,
              "#bd3786"
             ],
             [
              0.5555555555555556,
              "#d8576b"
             ],
             [
              0.6666666666666666,
              "#ed7953"
             ],
             [
              0.7777777777777778,
              "#fb9f3a"
             ],
             [
              0.8888888888888888,
              "#fdca26"
             ],
             [
              1,
              "#f0f921"
             ]
            ],
            "type": "contour"
           }
          ],
          "contourcarpet": [
           {
            "colorbar": {
             "outlinewidth": 0,
             "ticks": ""
            },
            "type": "contourcarpet"
           }
          ],
          "heatmap": [
           {
            "colorbar": {
             "outlinewidth": 0,
             "ticks": ""
            },
            "colorscale": [
             [
              0,
              "#0d0887"
             ],
             [
              0.1111111111111111,
              "#46039f"
             ],
             [
              0.2222222222222222,
              "#7201a8"
             ],
             [
              0.3333333333333333,
              "#9c179e"
             ],
             [
              0.4444444444444444,
              "#bd3786"
             ],
             [
              0.5555555555555556,
              "#d8576b"
             ],
             [
              0.6666666666666666,
              "#ed7953"
             ],
             [
              0.7777777777777778,
              "#fb9f3a"
             ],
             [
              0.8888888888888888,
              "#fdca26"
             ],
             [
              1,
              "#f0f921"
             ]
            ],
            "type": "heatmap"
           }
          ],
          "histogram": [
           {
            "marker": {
             "pattern": {
              "fillmode": "overlay",
              "size": 10,
              "solidity": 0.2
             }
            },
            "type": "histogram"
           }
          ],
          "histogram2d": [
           {
            "colorbar": {
             "outlinewidth": 0,
             "ticks": ""
            },
            "colorscale": [
             [
              0,
              "#0d0887"
             ],
             [
              0.1111111111111111,
              "#46039f"
             ],
             [
              0.2222222222222222,
              "#7201a8"
             ],
             [
              0.3333333333333333,
              "#9c179e"
             ],
             [
              0.4444444444444444,
              "#bd3786"
             ],
             [
              0.5555555555555556,
              "#d8576b"
             ],
             [
              0.6666666666666666,
              "#ed7953"
             ],
             [
              0.7777777777777778,
              "#fb9f3a"
             ],
             [
              0.8888888888888888,
              "#fdca26"
             ],
             [
              1,
              "#f0f921"
             ]
            ],
            "type": "histogram2d"
           }
          ],
          "histogram2dcontour": [
           {
            "colorbar": {
             "outlinewidth": 0,
             "ticks": ""
            },
            "colorscale": [
             [
              0,
              "#0d0887"
             ],
             [
              0.1111111111111111,
              "#46039f"
             ],
             [
              0.2222222222222222,
              "#7201a8"
             ],
             [
              0.3333333333333333,
              "#9c179e"
             ],
             [
              0.4444444444444444,
              "#bd3786"
             ],
             [
              0.5555555555555556,
              "#d8576b"
             ],
             [
              0.6666666666666666,
              "#ed7953"
             ],
             [
              0.7777777777777778,
              "#fb9f3a"
             ],
             [
              0.8888888888888888,
              "#fdca26"
             ],
             [
              1,
              "#f0f921"
             ]
            ],
            "type": "histogram2dcontour"
           }
          ],
          "mesh3d": [
           {
            "colorbar": {
             "outlinewidth": 0,
             "ticks": ""
            },
            "type": "mesh3d"
           }
          ],
          "parcoords": [
           {
            "line": {
             "colorbar": {
              "outlinewidth": 0,
              "ticks": ""
             }
            },
            "type": "parcoords"
           }
          ],
          "pie": [
           {
            "automargin": true,
            "type": "pie"
           }
          ],
          "scatter": [
           {
            "fillpattern": {
             "fillmode": "overlay",
             "size": 10,
             "solidity": 0.2
            },
            "type": "scatter"
           }
          ],
          "scatter3d": [
           {
            "line": {
             "colorbar": {
              "outlinewidth": 0,
              "ticks": ""
             }
            },
            "marker": {
             "colorbar": {
              "outlinewidth": 0,
              "ticks": ""
             }
            },
            "type": "scatter3d"
           }
          ],
          "scattercarpet": [
           {
            "marker": {
             "colorbar": {
              "outlinewidth": 0,
              "ticks": ""
             }
            },
            "type": "scattercarpet"
           }
          ],
          "scattergeo": [
           {
            "marker": {
             "colorbar": {
              "outlinewidth": 0,
              "ticks": ""
             }
            },
            "type": "scattergeo"
           }
          ],
          "scattergl": [
           {
            "marker": {
             "colorbar": {
              "outlinewidth": 0,
              "ticks": ""
             }
            },
            "type": "scattergl"
           }
          ],
          "scattermap": [
           {
            "marker": {
             "colorbar": {
              "outlinewidth": 0,
              "ticks": ""
             }
            },
            "type": "scattermap"
           }
          ],
          "scattermapbox": [
           {
            "marker": {
             "colorbar": {
              "outlinewidth": 0,
              "ticks": ""
             }
            },
            "type": "scattermapbox"
           }
          ],
          "scatterpolar": [
           {
            "marker": {
             "colorbar": {
              "outlinewidth": 0,
              "ticks": ""
             }
            },
            "type": "scatterpolar"
           }
          ],
          "scatterpolargl": [
           {
            "marker": {
             "colorbar": {
              "outlinewidth": 0,
              "ticks": ""
             }
            },
            "type": "scatterpolargl"
           }
          ],
          "scatterternary": [
           {
            "marker": {
             "colorbar": {
              "outlinewidth": 0,
              "ticks": ""
             }
            },
            "type": "scatterternary"
           }
          ],
          "surface": [
           {
            "colorbar": {
             "outlinewidth": 0,
             "ticks": ""
            },
            "colorscale": [
             [
              0,
              "#0d0887"
             ],
             [
              0.1111111111111111,
              "#46039f"
             ],
             [
              0.2222222222222222,
              "#7201a8"
             ],
             [
              0.3333333333333333,
              "#9c179e"
             ],
             [
              0.4444444444444444,
              "#bd3786"
             ],
             [
              0.5555555555555556,
              "#d8576b"
             ],
             [
              0.6666666666666666,
              "#ed7953"
             ],
             [
              0.7777777777777778,
              "#fb9f3a"
             ],
             [
              0.8888888888888888,
              "#fdca26"
             ],
             [
              1,
              "#f0f921"
             ]
            ],
            "type": "surface"
           }
          ],
          "table": [
           {
            "cells": {
             "fill": {
              "color": "#EBF0F8"
             },
             "line": {
              "color": "white"
             }
            },
            "header": {
             "fill": {
              "color": "#C8D4E3"
             },
             "line": {
              "color": "white"
             }
            },
            "type": "table"
           }
          ]
         },
         "layout": {
          "annotationdefaults": {
           "arrowcolor": "#2a3f5f",
           "arrowhead": 0,
           "arrowwidth": 1
          },
          "autotypenumbers": "strict",
          "coloraxis": {
           "colorbar": {
            "outlinewidth": 0,
            "ticks": ""
           }
          },
          "colorscale": {
           "diverging": [
            [
             0,
             "#8e0152"
            ],
            [
             0.1,
             "#c51b7d"
            ],
            [
             0.2,
             "#de77ae"
            ],
            [
             0.3,
             "#f1b6da"
            ],
            [
             0.4,
             "#fde0ef"
            ],
            [
             0.5,
             "#f7f7f7"
            ],
            [
             0.6,
             "#e6f5d0"
            ],
            [
             0.7,
             "#b8e186"
            ],
            [
             0.8,
             "#7fbc41"
            ],
            [
             0.9,
             "#4d9221"
            ],
            [
             1,
             "#276419"
            ]
           ],
           "sequential": [
            [
             0,
             "#0d0887"
            ],
            [
             0.1111111111111111,
             "#46039f"
            ],
            [
             0.2222222222222222,
             "#7201a8"
            ],
            [
             0.3333333333333333,
             "#9c179e"
            ],
            [
             0.4444444444444444,
             "#bd3786"
            ],
            [
             0.5555555555555556,
             "#d8576b"
            ],
            [
             0.6666666666666666,
             "#ed7953"
            ],
            [
             0.7777777777777778,
             "#fb9f3a"
            ],
            [
             0.8888888888888888,
             "#fdca26"
            ],
            [
             1,
             "#f0f921"
            ]
           ],
           "sequentialminus": [
            [
             0,
             "#0d0887"
            ],
            [
             0.1111111111111111,
             "#46039f"
            ],
            [
             0.2222222222222222,
             "#7201a8"
            ],
            [
             0.3333333333333333,
             "#9c179e"
            ],
            [
             0.4444444444444444,
             "#bd3786"
            ],
            [
             0.5555555555555556,
             "#d8576b"
            ],
            [
             0.6666666666666666,
             "#ed7953"
            ],
            [
             0.7777777777777778,
             "#fb9f3a"
            ],
            [
             0.8888888888888888,
             "#fdca26"
            ],
            [
             1,
             "#f0f921"
            ]
           ]
          },
          "colorway": [
           "#636efa",
           "#EF553B",
           "#00cc96",
           "#ab63fa",
           "#FFA15A",
           "#19d3f3",
           "#FF6692",
           "#B6E880",
           "#FF97FF",
           "#FECB52"
          ],
          "font": {
           "color": "#2a3f5f"
          },
          "geo": {
           "bgcolor": "white",
           "lakecolor": "white",
           "landcolor": "#E5ECF6",
           "showlakes": true,
           "showland": true,
           "subunitcolor": "white"
          },
          "hoverlabel": {
           "align": "left"
          },
          "hovermode": "closest",
          "mapbox": {
           "style": "light"
          },
          "paper_bgcolor": "white",
          "plot_bgcolor": "#E5ECF6",
          "polar": {
           "angularaxis": {
            "gridcolor": "white",
            "linecolor": "white",
            "ticks": ""
           },
           "bgcolor": "#E5ECF6",
           "radialaxis": {
            "gridcolor": "white",
            "linecolor": "white",
            "ticks": ""
           }
          },
          "scene": {
           "xaxis": {
            "backgroundcolor": "#E5ECF6",
            "gridcolor": "white",
            "gridwidth": 2,
            "linecolor": "white",
            "showbackground": true,
            "ticks": "",
            "zerolinecolor": "white"
           },
           "yaxis": {
            "backgroundcolor": "#E5ECF6",
            "gridcolor": "white",
            "gridwidth": 2,
            "linecolor": "white",
            "showbackground": true,
            "ticks": "",
            "zerolinecolor": "white"
           },
           "zaxis": {
            "backgroundcolor": "#E5ECF6",
            "gridcolor": "white",
            "gridwidth": 2,
            "linecolor": "white",
            "showbackground": true,
            "ticks": "",
            "zerolinecolor": "white"
           }
          },
          "shapedefaults": {
           "line": {
            "color": "#2a3f5f"
           }
          },
          "ternary": {
           "aaxis": {
            "gridcolor": "white",
            "linecolor": "white",
            "ticks": ""
           },
           "baxis": {
            "gridcolor": "white",
            "linecolor": "white",
            "ticks": ""
           },
           "bgcolor": "#E5ECF6",
           "caxis": {
            "gridcolor": "white",
            "linecolor": "white",
            "ticks": ""
           }
          },
          "title": {
           "x": 0.05
          },
          "xaxis": {
           "automargin": true,
           "gridcolor": "white",
           "linecolor": "white",
           "ticks": "",
           "title": {
            "standoff": 15
           },
           "zerolinecolor": "white",
           "zerolinewidth": 2
          },
          "yaxis": {
           "automargin": true,
           "gridcolor": "white",
           "linecolor": "white",
           "ticks": "",
           "title": {
            "standoff": 15
           },
           "zerolinecolor": "white",
           "zerolinewidth": 2
          }
         }
        },
        "title": {
         "text": "2024-02-29 20:12:00: TimeAdjustedWingModel vs Market Data - 15MAR24 Expiry<br><span style='font-size:14px'>Forward: 62416 | τ: 0.0397 | RMSE: 0.049610<br> atm_vol=0.681 | slope=0.085 | call_curve=0.279 | put_curve=0.489 | up_cutoff=0.500 | down_cutoff=-0.850 | up_smoothing=0.500 | down_smoothing=1.500</span>",
         "x": 0.5
        },
        "xaxis": {
         "range": [
          41800,
          75600
         ],
         "title": {
          "text": "Strike Price ($)"
         }
        },
        "yaxis": {
         "title": {
          "text": "Implied Volatility (%)"
         }
        }
       }
      }
     },
     "metadata": {},
     "output_type": "display_data"
    }
   ],
   "source": [
    "# Create volatility smile plot\n",
    "fig = go.Figure()\n",
    "\n",
    "# Add market volatility with bid/ask error bars\n",
    "fig.add_trace(go.Scatter(\n",
    "    x=strikes, y=mid_vola, mode='markers', name='Market IV (Bid/Ask Range)',\n",
    "    marker=dict(color='blue', symbol='circle', size=8),\n",
    "    error_y=dict(type='data', symmetric=False, array=ask_vola-mid_vola, arrayminus=mid_vola-bid_vola,\n",
    "                 visible=True, color='blue', thickness=2, width=3),\n",
    "    opacity=0.8\n",
    "))\n",
    "\n",
    "# Add the fitted volatility curve\n",
    "fig.add_trace(go.Scatter(\n",
    "    x=extended_strikes, y=fitted_vols, mode='lines+markers',\n",
    "    name=f'{(model_name:=my_model.__class__.__name__)} Fit',\n",
    "    line=dict(color='black', width=3, dash='solid'),\n",
    "    marker=dict(color='black', symbol='diamond', size=10),\n",
    "    opacity=0.5\n",
    "))\n",
    "# Add vertical lines for reference\n",
    "forward_price = df_option_with_vola_and_greeks['F'][0]    \n",
    "fig.add_vline(x=forward_price, line=dict(color='purple', dash='dot', width=2), annotation_text=f\"Forward: {forward_price:.0f}\")\n",
    "\n",
    "# Add vertical lines for different ranges\n",
    "strike_ranges = my_model.get_strike_ranges()\n",
    "print(f\"Different ranges on the curve: {strike_ranges}\")\n",
    "fig.add_vline(x=(_price:=strike_ranges['downSmoothing']), line=(line_dict:=dict(color='green', dash='dot', width=1)), \n",
    "              annotation_text=f\"DSm:{_price:.0f}\", annotation_position=\"bottom\", annotation_font=(font_dict:=dict(size=10, color=\"green\")),)\n",
    "fig.add_vline(x=(_price:=strike_ranges['downCutOff']), line=line_dict,     annotation_text=f\"DCO:{_price:.0f}\", annotation_position=\"bottom\", annotation_font=font_dict)\n",
    "fig.add_vline(x=(_price:=strike_ranges['upCutOff']), line=line_dict, annotation_text=f\"UCO:{_price:.0f}\", annotation_position=\"bottom\", annotation_font=font_dict)\n",
    "fig.add_vline(x=(_price:=strike_ranges['upSmoothing']), line=line_dict,   annotation_text=f\"USm:{_price:.0f}\", annotation_position=\"bottom\", annotation_font=font_dict)\n",
    "\n",
    "param_names = my_optimized_paramter.get_parameter_names()\n",
    "param_values = my_optimized_paramter.get_fitted_vol_parameter()\n",
    "param_string = \" | \".join([f\"{name}={value:.3f}\" for name, value in zip(param_names, param_values)])\n",
    "ts = df_option_with_vola_and_greeks['timestamp'][0]\n",
    "title = f\"{ts}: {model_name} vs Market Data - {my_expiry} Expiry\"\n",
    "fig.update_layout(\n",
    "    title=dict(\n",
    "        text=f\"{title}<br><span style='font-size:14px'>Forward: {forward_price:.0f} | τ: {time_to_expiry:.4f} | RMSE: {fitter_result.error:.6f}<br> {param_string}</span>\",\n",
    "        x=0.5\n",
    "    ),\n",
    "    xaxis_title='Strike Price ($)',\n",
    "    yaxis_title='Implied Volatility (%)',\n",
    "    height=500\n",
    ")\n",
    "fig.update_xaxes(range=[strikes[0]*0.95, strikes[-1]*1.05])\n",
    "\n",
    "fig.show()"
   ]
  },
  {
   "cell_type": "code",
   "execution_count": 13,
   "id": "3fedb24a",
   "metadata": {},
   "outputs": [],
   "source": [
    "from utils.pricer.black76_option_pricer import Black76OptionPricer\n",
    "\n",
    "df_option_with_vola_and_greeks['strike']\n",
    "df_option_with_vola_and_greeks =\\\n",
    "df_option_with_vola_and_greeks.with_columns([\n",
    "    pl.struct(['strike']).map_elements(\n",
    "        lambda row: my_model.calculate_volatility_from_strike(row['strike'])*100, return_dtype=pl.Float64\n",
    "    ).round(2).alias('fitted_vol')\n",
    "]).with_columns([\n",
    "    # Calculate option prices and Greeks using fitted volatility\n",
    "    pl.struct(['F', 'strike', 'tau', 'r', 'fitted_vol']).map_elements(\n",
    "        lambda row: Black76OptionPricer(F=row['F'], K=row['strike'], T=row['tau'], r=row['r'], sigma=row['fitted_vol']/100).call_price(), return_dtype=pl.Float64\n",
    "    ).round(2).alias('TV_C'),\n",
    "    \n",
    "    pl.struct(['F', 'strike', 'tau', 'r', 'fitted_vol']).map_elements(\n",
    "        lambda row: Black76OptionPricer(F=row['F'], K=row['strike'], T=row['tau'], r=row['r'], sigma=row['fitted_vol']/100).put_price(), return_dtype=pl.Float64\n",
    "    ).round(2).alias('TV_P'),\n",
    "    \n",
    "    pl.struct(['F', 'strike', 'tau', 'r', 'fitted_vol']).map_elements(\n",
    "        lambda row: Black76OptionPricer(F=row['F'], K=row['strike'], T=row['tau'], r=row['r'], sigma=row['fitted_vol']/100).call_delta(), return_dtype=pl.Float64\n",
    "    ).round(2).alias('delta_C'),\n",
    "    \n",
    "    pl.struct(['F', 'strike', 'tau', 'r', 'fitted_vol']).map_elements(\n",
    "        lambda row: Black76OptionPricer(F=row['F'], K=row['strike'], T=row['tau'], r=row['r'], sigma=row['fitted_vol']/100).put_delta(), return_dtype=pl.Float64\n",
    "    ).round(2).alias('delta_P'),\n",
    "\n",
    "    pl.struct(['F', 'strike', 'tau', 'r', 'fitted_vol']).map_elements(\n",
    "        lambda row: Black76OptionPricer(F=row['F'], K=row['strike'], T=row['tau'], r=row['r'], sigma=row['fitted_vol']/100).vega()/100, return_dtype=pl.Float64\n",
    "    ).round(2).alias('vega'),\n",
    "\n",
    "    pl.struct(['F', 'strike', 'tau', 'r', 'fitted_vol']).map_elements(\n",
    "        lambda row: Black76OptionPricer(F=row['F'], K=row['strike'], T=row['tau'], r=row['r'], sigma=row['fitted_vol']/100).gamma(), return_dtype=pl.Float64\n",
    "    ).round(5).alias('gamma'),\n",
    "])"
   ]
  },
  {
   "cell_type": "code",
   "execution_count": 14,
   "id": "efef5d78",
   "metadata": {},
   "outputs": [
    {
     "data": {
      "text/html": [
       "<div><style>\n",
       ".dataframe > thead > tr,\n",
       ".dataframe > tbody > tr {\n",
       "  text-align: right;\n",
       "  white-space: pre-wrap;\n",
       "}\n",
       "</style>\n",
       "<small>shape: (41, 34)</small><table border=\"1\" class=\"dataframe\"><thead><tr><th>timestamp</th><th>bq0_C</th><th>bp0_C</th><th>bp0_C_usd</th><th>ap0_C_usd</th><th>ap0_C</th><th>aq0_C</th><th>strike</th><th>bq0_P</th><th>bp0_P</th><th>bp0_P_usd</th><th>ap0_P_usd</th><th>ap0_P</th><th>aq0_P</th><th>S</th><th>F</th><th>expiry</th><th>tau</th><th>r</th><th>bidVola_C</th><th>askVola_C</th><th>bidVola_P</th><th>askVola_P</th><th>bidVola</th><th>askVola</th><th>midVola</th><th>volSpread</th><th>vega</th><th>fitted_vol</th><th>TV_C</th><th>TV_P</th><th>delta_C</th><th>delta_P</th><th>gamma</th></tr><tr><td>datetime[ns]</td><td>f64</td><td>f64</td><td>f64</td><td>f64</td><td>f64</td><td>f64</td><td>i64</td><td>f64</td><td>f64</td><td>f64</td><td>f64</td><td>f64</td><td>f64</td><td>f64</td><td>f64</td><td>str</td><td>f64</td><td>f64</td><td>f64</td><td>f64</td><td>f64</td><td>f64</td><td>f64</td><td>f64</td><td>f64</td><td>f64</td><td>f64</td><td>f64</td><td>f64</td><td>f64</td><td>f64</td><td>f64</td><td>f64</td></tr></thead><tbody><tr><td>2024-02-29 20:12:00</td><td>6.4</td><td>0.312</td><td>19320.56</td><td>20304.64</td><td>0.327892</td><td>5.0</td><td>42000</td><td>7.5</td><td>0.0003</td><td>18.58</td><td>30.96</td><td>0.0005</td><td>7.9</td><td>61924.86</td><td>62229.04</td><td>&quot;8MAR24&quot;</td><td>0.020525</td><td>0.15</td><td>2.36</td><td>148.749663</td><td>111.668798</td><td>118.899911</td><td>111.67</td><td>118.9</td><td>115.28</td><td>7.23</td><td>1.92</td><td>117.76</td><td>20195.57</td><td>28.71</td><td>0.99</td><td>-0.01</td><td>0.0</td></tr><tr><td>2024-02-29 20:12:00</td><td>5.0</td><td>0.2805</td><td>17369.92</td><td>18304.64</td><td>0.295594</td><td>5.0</td><td>44000</td><td>0.2</td><td>0.0005</td><td>30.96</td><td>43.35</td><td>0.0007</td><td>18.2</td><td>61924.86</td><td>62229.04</td><td>&quot;8MAR24&quot;</td><td>0.020525</td><td>0.15</td><td>2.36</td><td>132.452305</td><td>106.229607</td><td>111.187094</td><td>106.23</td><td>111.19</td><td>108.71</td><td>4.96</td><td>2.45</td><td>108.33</td><td>18208.87</td><td>35.87</td><td>0.99</td><td>-0.01</td><td>0.0</td></tr><tr><td>2024-02-29 20:12:00</td><td>5.0</td><td>0.2645</td><td>16379.13</td><td>17304.64</td><td>0.279446</td><td>5.0</td><td>45000</td><td>3.4</td><td>0.0005</td><td>30.96</td><td>49.54</td><td>0.0008</td><td>17.4</td><td>61924.86</td><td>62229.04</td><td>&quot;8MAR24&quot;</td><td>0.020525</td><td>0.15</td><td>2.36</td><td>124.567595</td><td>100.07213</td><td>106.819493</td><td>100.07</td><td>106.82</td><td>103.44</td><td>6.75</td><td>2.75</td><td>103.44</td><td>17215.59</td><td>39.51</td><td>0.99</td><td>-0.01</td><td>0.0</td></tr><tr><td>2024-02-29 20:12:00</td><td>5.0</td><td>0.2485</td><td>15388.33</td><td>16304.64</td><td>0.263297</td><td>6.3</td><td>46000</td><td>3.1</td><td>0.0006</td><td>37.15</td><td>55.73</td><td>0.0009</td><td>8.3</td><td>61924.86</td><td>62229.04</td><td>&quot;8MAR24&quot;</td><td>0.020525</td><td>0.15</td><td>2.36</td><td>116.845755</td><td>96.390293</td><td>102.215326</td><td>96.39</td><td>102.22</td><td>99.3</td><td>5.83</td><td>3.11</td><td>98.78</td><td>16223.33</td><td>44.18</td><td>0.98</td><td>-0.01</td><td>0.0</td></tr><tr><td>2024-02-29 20:12:00</td><td>5.0</td><td>0.2335</td><td>14459.45</td><td>15304.64</td><td>0.247149</td><td>5.0</td><td>47000</td><td>4.0</td><td>0.0008</td><td>49.54</td><td>68.12</td><td>0.0011</td><td>12.2</td><td>61924.86</td><td>62229.04</td><td>&quot;8MAR24&quot;</td><td>0.020525</td><td>0.15</td><td>2.36</td><td>109.277389</td><td>94.161844</td><td>98.899332</td><td>94.16</td><td>98.9</td><td>96.53</td><td>4.74</td><td>3.59</td><td>94.56</td><td>15233.18</td><td>50.96</td><td>0.98</td><td>-0.02</td><td>0.0</td></tr><tr><td>&hellip;</td><td>&hellip;</td><td>&hellip;</td><td>&hellip;</td><td>&hellip;</td><td>&hellip;</td><td>&hellip;</td><td>&hellip;</td><td>&hellip;</td><td>&hellip;</td><td>&hellip;</td><td>&hellip;</td><td>&hellip;</td><td>&hellip;</td><td>&hellip;</td><td>&hellip;</td><td>&hellip;</td><td>&hellip;</td><td>&hellip;</td><td>&hellip;</td><td>&hellip;</td><td>&hellip;</td><td>&hellip;</td><td>&hellip;</td><td>&hellip;</td><td>&hellip;</td><td>&hellip;</td><td>&hellip;</td><td>&hellip;</td><td>&hellip;</td><td>&hellip;</td><td>&hellip;</td><td>&hellip;</td><td>&hellip;</td></tr><tr><td>2024-02-29 20:12:00</td><td>15.4</td><td>0.012</td><td>743.1</td><td>774.06</td><td>0.0125</td><td>1.4</td><td>68000</td><td>67.5</td><td>0.103</td><td>6378.26</td><td>6687.88</td><td>0.108</td><td>67.5</td><td>61924.86</td><td>62229.04</td><td>&quot;8MAR24&quot;</td><td>0.020525</td><td>0.15</td><td>72.811977</td><td>74.005566</td><td>68.119442</td><td>80.002616</td><td>72.81</td><td>74.01</td><td>73.41</td><td>1.2</td><td>25.95</td><td>73.44</td><td>759.35</td><td>6512.57</td><td>0.21</td><td>-0.78</td><td>0.00004</td></tr><tr><td>2024-02-29 20:12:00</td><td>44.6</td><td>0.0075</td><td>464.44</td><td>526.36</td><td>0.0085</td><td>49.3</td><td>70000</td><td>67.4</td><td>0.1305</td><td>8081.19</td><td>8421.78</td><td>0.136</td><td>68.0</td><td>61924.86</td><td>62229.04</td><td>&quot;8MAR24&quot;</td><td>0.020525</td><td>0.15</td><td>73.780292</td><td>76.771151</td><td>66.914015</td><td>83.458294</td><td>73.78</td><td>76.77</td><td>75.28</td><td>2.99</td><td>20.82</td><td>75.62</td><td>502.18</td><td>8249.25</td><td>0.15</td><td>-0.85</td><td>0.00003</td></tr><tr><td>2024-02-29 20:12:00</td><td>0.5</td><td>0.005</td><td>309.62</td><td>340.59</td><td>0.0055</td><td>19.8</td><td>72000</td><td>67.4</td><td>0.16</td><td>9907.98</td><td>10279.53</td><td>0.166</td><td>67.5</td><td>61924.86</td><td>62229.04</td><td>&quot;8MAR24&quot;</td><td>0.020525</td><td>0.15</td><td>76.381181</td><td>78.314902</td><td>65.951348</td><td>89.216938</td><td>76.38</td><td>78.31</td><td>77.34</td><td>1.93</td><td>16.23</td><td>77.96</td><td>334.81</td><td>10075.73</td><td>0.11</td><td>-0.89</td><td>0.00003</td></tr><tr><td>2024-02-29 20:12:00</td><td>27.5</td><td>0.0032</td><td>198.16</td><td>229.12</td><td>0.0037</td><td>14.5</td><td>74000</td><td>67.5</td><td>0.1905</td><td>11796.69</td><td>12106.31</td><td>0.1955</td><td>68.0</td><td>61924.86</td><td>62229.04</td><td>&quot;8MAR24&quot;</td><td>0.020525</td><td>0.15</td><td>78.08878</td><td>80.648921</td><td>62.636738</td><td>90.657009</td><td>78.09</td><td>80.65</td><td>79.37</td><td>2.56</td><td>12.14</td><td>79.51</td><td>215.06</td><td>11949.84</td><td>0.07</td><td>-0.93</td><td>0.00002</td></tr><tr><td>2024-02-29 20:12:00</td><td>20.4</td><td>0.0022</td><td>136.23</td><td>154.81</td><td>0.0025</td><td>10.0</td><td>76000</td><td>67.5</td><td>0.2215</td><td>13716.36</td><td>14106.31</td><td>0.227797</td><td>67.5</td><td>61924.86</td><td>62229.04</td><td>&quot;8MAR24&quot;</td><td>0.020525</td><td>0.15</td><td>80.860533</td><td>82.890083</td><td>1.0</td><td>100.973384</td><td>80.86</td><td>82.89</td><td>81.88</td><td>2.03</td><td>8.62</td><td>80.22</td><td>130.64</td><td>13859.27</td><td>0.05</td><td>-0.95</td><td>0.00001</td></tr></tbody></table></div>"
      ],
      "text/plain": [
       "shape: (41, 34)\n",
       "┌─────────────────────┬───────┬────────┬───────────┬───┬──────────┬─────────┬─────────┬─────────┐\n",
       "│ timestamp           ┆ bq0_C ┆ bp0_C  ┆ bp0_C_usd ┆ … ┆ TV_P     ┆ delta_C ┆ delta_P ┆ gamma   │\n",
       "│ ---                 ┆ ---   ┆ ---    ┆ ---       ┆   ┆ ---      ┆ ---     ┆ ---     ┆ ---     │\n",
       "│ datetime[ns]        ┆ f64   ┆ f64    ┆ f64       ┆   ┆ f64      ┆ f64     ┆ f64     ┆ f64     │\n",
       "╞═════════════════════╪═══════╪════════╪═══════════╪═══╪══════════╪═════════╪═════════╪═════════╡\n",
       "│ 2024-02-29 20:12:00 ┆ 6.4   ┆ 0.312  ┆ 19320.56  ┆ … ┆ 28.71    ┆ 0.99    ┆ -0.01   ┆ 0.0     │\n",
       "│ 2024-02-29 20:12:00 ┆ 5.0   ┆ 0.2805 ┆ 17369.92  ┆ … ┆ 35.87    ┆ 0.99    ┆ -0.01   ┆ 0.0     │\n",
       "│ 2024-02-29 20:12:00 ┆ 5.0   ┆ 0.2645 ┆ 16379.13  ┆ … ┆ 39.51    ┆ 0.99    ┆ -0.01   ┆ 0.0     │\n",
       "│ 2024-02-29 20:12:00 ┆ 5.0   ┆ 0.2485 ┆ 15388.33  ┆ … ┆ 44.18    ┆ 0.98    ┆ -0.01   ┆ 0.0     │\n",
       "│ 2024-02-29 20:12:00 ┆ 5.0   ┆ 0.2335 ┆ 14459.45  ┆ … ┆ 50.96    ┆ 0.98    ┆ -0.02   ┆ 0.0     │\n",
       "│ …                   ┆ …     ┆ …      ┆ …         ┆ … ┆ …        ┆ …       ┆ …       ┆ …       │\n",
       "│ 2024-02-29 20:12:00 ┆ 15.4  ┆ 0.012  ┆ 743.1     ┆ … ┆ 6512.57  ┆ 0.21    ┆ -0.78   ┆ 0.00004 │\n",
       "│ 2024-02-29 20:12:00 ┆ 44.6  ┆ 0.0075 ┆ 464.44    ┆ … ┆ 8249.25  ┆ 0.15    ┆ -0.85   ┆ 0.00003 │\n",
       "│ 2024-02-29 20:12:00 ┆ 0.5   ┆ 0.005  ┆ 309.62    ┆ … ┆ 10075.73 ┆ 0.11    ┆ -0.89   ┆ 0.00003 │\n",
       "│ 2024-02-29 20:12:00 ┆ 27.5  ┆ 0.0032 ┆ 198.16    ┆ … ┆ 11949.84 ┆ 0.07    ┆ -0.93   ┆ 0.00002 │\n",
       "│ 2024-02-29 20:12:00 ┆ 20.4  ┆ 0.0022 ┆ 136.23    ┆ … ┆ 13859.27 ┆ 0.05    ┆ -0.95   ┆ 0.00001 │\n",
       "└─────────────────────┴───────┴────────┴───────────┴───┴──────────┴─────────┴─────────┴─────────┘"
      ]
     },
     "execution_count": 14,
     "metadata": {},
     "output_type": "execute_result"
    }
   ],
   "source": [
    "df_option_with_vola_and_greeks"
   ]
  },
  {
   "cell_type": "code",
   "execution_count": 15,
   "id": "f6b38dfa",
   "metadata": {},
   "outputs": [
    {
     "name": "stdout",
     "output_type": "stream",
     "text": [
      "🔍 ARBITRAGE ANALYSIS REPORT: ✅ ARBITRAGE-FREE\n",
      "============================================================\n",
      "📊 Summary: 41 strikes analyzed\n",
      "   Strike range: 42000 - 76000\n",
      "   Total violations: 0\n",
      "\n",
      "🦋 Butterfly Arbitrage: 0 violations\n",
      "📈 Price Monotonicity:\n",
      "   Call prices (decreasing): ✅\n",
      "   Put prices (increasing): ✅\n",
      "⚖️ Call-Put Parity: 0 violations\n"
     ]
    }
   ],
   "source": [
    "# Comprehensive arbitrage analysis using new module\n",
    "from utils.analysis.arbitrage_checker import analyze_arbitrage_comprehensive, format_arbitrage_report\n",
    "\n",
    "\n",
    "strikes_list = df_option_with_vola_and_greeks['strike'].to_list()\n",
    "call_prices_list = df_option_with_vola_and_greeks['TV_C'].to_list()\n",
    "put_prices_list = df_option_with_vola_and_greeks['TV_P'].to_list()\n",
    "forward_price = df_option_with_vola_and_greeks['F'][0]\n",
    "interest_rate = df_option_with_vola_and_greeks['r'][0]\n",
    "\n",
    "# Perform comprehensive arbitrage analysis\n",
    "arbitrage_results = analyze_arbitrage_comprehensive(\n",
    "    strikes=strikes_list,\n",
    "    call_prices=call_prices_list, \n",
    "    put_prices=put_prices_list,\n",
    "    forward_price=forward_price,\n",
    "    discount_factor=np.exp(-interest_rate*time_to_expiry),  # For futures\n",
    "    butterfly_tolerance=0.1,\n",
    "    parity_tolerance=0.1\n",
    ")\n",
    "\n",
    "# Display formatted report\n",
    "print(format_arbitrage_report(arbitrage_results))"
   ]
  },
  {
   "cell_type": "code",
   "execution_count": 16,
   "id": "b760d1b4",
   "metadata": {},
   "outputs": [
    {
     "data": {
      "text/plain": [
       "[]"
      ]
     },
     "execution_count": 16,
     "metadata": {},
     "output_type": "execute_result"
    }
   ],
   "source": [
    "from utils.analysis.arbitrage_checker import check_call_put_parity\n",
    "\n",
    "\n",
    "check_call_put_parity(strikes_list, call_prices_list, put_prices_list, forward_price, discount_factor=np.exp(-interest_rate*time_to_expiry), tolerance=0.1)"
   ]
  },
  {
   "cell_type": "code",
   "execution_count": null,
   "id": "7092e79a",
   "metadata": {},
   "outputs": [],
   "source": []
  }
 ],
 "metadata": {
  "kernelspec": {
   "display_name": ".venv",
   "language": "python",
   "name": "python3"
  },
  "language_info": {
   "codemirror_mode": {
    "name": "ipython",
    "version": 3
   },
   "file_extension": ".py",
   "mimetype": "text/x-python",
   "name": "python",
   "nbconvert_exporter": "python",
   "pygments_lexer": "ipython3",
   "version": "3.12.3"
  }
 },
 "nbformat": 4,
 "nbformat_minor": 5
}
