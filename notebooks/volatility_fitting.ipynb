{
 "cells": [
  {
   "cell_type": "code",
   "execution_count": 1,
   "id": "4ef3d74e",
   "metadata": {},
   "outputs": [
    {
     "name": "stdout",
     "output_type": "stream",
     "text": [
      "Cleared 0 wing model modules from cache\n"
     ]
    }
   ],
   "source": [
    "# Restart kernel and reimport everything\n",
    "import importlib\n",
    "import sys\n",
    "\n",
    "# Clear module cache for wing model\n",
    "modules_to_clear = [name for name in sys.modules.keys() if 'wing_model' in name]\n",
    "for module in modules_to_clear:\n",
    "    del sys.modules[module]\n",
    "    \n",
    "print(f\"Cleared {len(modules_to_clear)} wing model modules from cache\")"
   ]
  },
  {
   "cell_type": "markdown",
   "id": "a647b5b5",
   "metadata": {},
   "source": [
    "# Unified Volatility Model Calibration\n",
    "\n",
    "This notebook demonstrates the **unified volatility calibrator framework** for comparing different volatility models using a single, consistent calibration approach.\n",
    "\n",
    "## Key Features\n",
    "- **UnifiedVolatilityCalibrator**: Single calibrator that works with any volatility model\n",
    "- **Multiple Models**: Compare Time-Adjusted Wing Model vs Traditional Wing Model  \n",
    "- **Visual Comparison**: Interactive plots showing model performance\n",
    "- **Performance Metrics**: RMSE comparison and parameter analysis\n",
    "\n",
    "## Architecture Benefits\n",
    "- Mathematically consistent optimization across all models\n",
    "- Easy extensibility for new volatility models\n",
    "- Unified parameter bounds and constraint handling\n",
    "- Backward compatibility with existing calibrators"
   ]
  },
  {
   "cell_type": "markdown",
   "id": "42f5acb6",
   "metadata": {},
   "source": [
    "## 1. Setup and Configuration"
   ]
  },
  {
   "cell_type": "code",
   "execution_count": 2,
   "id": "9dd5029e",
   "metadata": {},
   "outputs": [
    {
     "name": "stdout",
     "output_type": "stream",
     "text": [
      "📁 Current directory: /home/user/Python/Baseoffset-Fitting-Manager/notebooks\n",
      "📁 Project root: /home/user/Python/Baseoffset-Fitting-Manager\n",
      "✅ Environment setup complete\n"
     ]
    }
   ],
   "source": [
    "# Import required libraries\n",
    "import sys\n",
    "import os\n",
    "import plotly.graph_objects as go\n",
    "from datetime import datetime\n",
    "import warnings\n",
    "warnings.filterwarnings('ignore')\n",
    "\n",
    "# Project setup\n",
    "current_dir = os.getcwd()\n",
    "project_root = os.path.dirname(current_dir)\n",
    "sys.path.append(project_root)\n",
    "\n",
    "print(f\"📁 Current directory: {current_dir}\")\n",
    "print(f\"📁 Project root: {project_root}\")\n",
    "print(\"✅ Environment setup complete\")"
   ]
  },
  {
   "cell_type": "code",
   "execution_count": 3,
   "id": "8ab29eca",
   "metadata": {},
   "outputs": [
    {
     "name": "stdout",
     "output_type": "stream",
     "text": [
      "📋 Configuration created:\n",
      "  - Expiry: 8MAR24\n",
      "  - Date: 20240229\n",
      "  - Snapshot time: 2024-02-29T20:12:00\n"
     ]
    }
   ],
   "source": [
    "# Create configuration dictionary\n",
    "config = {\n",
    "    'date': '20240229',\n",
    "    'option_expiry': '8MAR24',#'15MAR24',\n",
    "    'snapshot_time': '2024-02-29T20:12:00',\n",
    "    'snapshot_tolerance_seconds': 30    \n",
    "}\n",
    "\n",
    "print(\"📋 Configuration created:\")\n",
    "print(f\"  - Expiry: {config['option_expiry']}\")\n",
    "print(f\"  - Date: {config['date']}\")\n",
    "print(f\"  - Snapshot time: {config['snapshot_time']}\")"
   ]
  },
  {
   "cell_type": "markdown",
   "id": "aa5d9ee6",
   "metadata": {},
   "source": [
    "## 2. Data Loading and Preparation"
   ]
  },
  {
   "cell_type": "code",
   "execution_count": 4,
   "id": "f05294a8",
   "metadata": {},
   "outputs": [
    {
     "name": "stdout",
     "output_type": "stream",
     "text": [
      "Available expiries: ['26APR24', '2MAR24', '27SEP24', '15MAR24', '31MAY24', '27DEC24', '8MAR24', '22MAR24', '29FEB24', '29MAR24', '1MAR24', '3MAR24', '28JUN24']\n",
      "📊 Loaded 41 option contracts\n",
      "📅 Expiry: 8MAR24 Time: 2024-02-29 20:12:00\n"
     ]
    },
    {
     "data": {
      "text/html": [
       "<div><style>\n",
       ".dataframe > thead > tr,\n",
       ".dataframe > tbody > tr {\n",
       "  text-align: right;\n",
       "  white-space: pre-wrap;\n",
       "}\n",
       "</style>\n",
       "<small>shape: (5, 16)</small><table border=\"1\" class=\"dataframe\"><thead><tr><th>timestamp</th><th>bid_price</th><th>ask_price</th><th>strike</th><th>bid_size</th><th>ask_size</th><th>bid_price_P</th><th>ask_price_P</th><th>S</th><th>bid_price_fut</th><th>ask_price_fut</th><th>expiry</th><th>tau</th><th>bid_size_P</th><th>ask_size_P</th><th>future_basis</th></tr><tr><td>datetime[ns]</td><td>f64</td><td>f64</td><td>i64</td><td>f64</td><td>f64</td><td>f64</td><td>f64</td><td>f64</td><td>f64</td><td>f64</td><td>str</td><td>f64</td><td>f64</td><td>f64</td><td>f64</td></tr></thead><tbody><tr><td>2024-02-29 20:12:00</td><td>0.312</td><td>0.3385</td><td>42000</td><td>6.4</td><td>5.0</td><td>0.0003</td><td>0.0005</td><td>61924.86</td><td>62229.04</td><td>62229.04</td><td>&quot;8MAR24&quot;</td><td>0.020525</td><td>7.5</td><td>7.9</td><td>304.18</td></tr><tr><td>2024-02-29 20:12:00</td><td>0.2805</td><td>0.307</td><td>44000</td><td>5.0</td><td>5.0</td><td>0.0005</td><td>0.0007</td><td>61924.86</td><td>62229.04</td><td>62229.04</td><td>&quot;8MAR24&quot;</td><td>0.020525</td><td>0.2</td><td>18.2</td><td>304.18</td></tr><tr><td>2024-02-29 20:12:00</td><td>0.2645</td><td>0.291</td><td>45000</td><td>5.0</td><td>5.0</td><td>0.0005</td><td>0.0008</td><td>61924.86</td><td>62229.04</td><td>62229.04</td><td>&quot;8MAR24&quot;</td><td>0.020525</td><td>3.4</td><td>17.4</td><td>304.18</td></tr><tr><td>2024-02-29 20:12:00</td><td>0.2485</td><td>0.2635</td><td>46000</td><td>5.0</td><td>6.3</td><td>0.0006</td><td>0.0009</td><td>61924.86</td><td>62229.04</td><td>62229.04</td><td>&quot;8MAR24&quot;</td><td>0.020525</td><td>3.1</td><td>8.3</td><td>304.18</td></tr><tr><td>2024-02-29 20:12:00</td><td>0.2335</td><td>0.2585</td><td>47000</td><td>5.0</td><td>5.0</td><td>0.0008</td><td>0.0011</td><td>61924.86</td><td>62229.04</td><td>62229.04</td><td>&quot;8MAR24&quot;</td><td>0.020525</td><td>4.0</td><td>12.2</td><td>304.18</td></tr></tbody></table></div>"
      ],
      "text/plain": [
       "shape: (5, 16)\n",
       "┌────────────┬───────────┬───────────┬────────┬───┬──────────┬────────────┬────────────┬───────────┐\n",
       "│ timestamp  ┆ bid_price ┆ ask_price ┆ strike ┆ … ┆ tau      ┆ bid_size_P ┆ ask_size_P ┆ future_ba │\n",
       "│ ---        ┆ ---       ┆ ---       ┆ ---    ┆   ┆ ---      ┆ ---        ┆ ---        ┆ sis       │\n",
       "│ datetime[n ┆ f64       ┆ f64       ┆ i64    ┆   ┆ f64      ┆ f64        ┆ f64        ┆ ---       │\n",
       "│ s]         ┆           ┆           ┆        ┆   ┆          ┆            ┆            ┆ f64       │\n",
       "╞════════════╪═══════════╪═══════════╪════════╪═══╪══════════╪════════════╪════════════╪═══════════╡\n",
       "│ 2024-02-29 ┆ 0.312     ┆ 0.3385    ┆ 42000  ┆ … ┆ 0.020525 ┆ 7.5        ┆ 7.9        ┆ 304.18    │\n",
       "│ 20:12:00   ┆           ┆           ┆        ┆   ┆          ┆            ┆            ┆           │\n",
       "│ 2024-02-29 ┆ 0.2805    ┆ 0.307     ┆ 44000  ┆ … ┆ 0.020525 ┆ 0.2        ┆ 18.2       ┆ 304.18    │\n",
       "│ 20:12:00   ┆           ┆           ┆        ┆   ┆          ┆            ┆            ┆           │\n",
       "│ 2024-02-29 ┆ 0.2645    ┆ 0.291     ┆ 45000  ┆ … ┆ 0.020525 ┆ 3.4        ┆ 17.4       ┆ 304.18    │\n",
       "│ 20:12:00   ┆           ┆           ┆        ┆   ┆          ┆            ┆            ┆           │\n",
       "│ 2024-02-29 ┆ 0.2485    ┆ 0.2635    ┆ 46000  ┆ … ┆ 0.020525 ┆ 3.1        ┆ 8.3        ┆ 304.18    │\n",
       "│ 20:12:00   ┆           ┆           ┆        ┆   ┆          ┆            ┆            ┆           │\n",
       "│ 2024-02-29 ┆ 0.2335    ┆ 0.2585    ┆ 47000  ┆ … ┆ 0.020525 ┆ 4.0        ┆ 12.2       ┆ 304.18    │\n",
       "│ 20:12:00   ┆           ┆           ┆        ┆   ┆          ┆            ┆            ┆           │\n",
       "└────────────┴───────────┴───────────┴────────┴───┴──────────┴────────────┴────────────┴───────────┘"
      ]
     },
     "execution_count": 4,
     "metadata": {},
     "output_type": "execute_result"
    }
   ],
   "source": [
    "# Load market data\n",
    "from utils.volatility_fitter.processed_data_loader import create_snapshot_option_chain, load_baseoffset_results, load_option_market_data\n",
    "from utils.volatility_fitter.volatility_calculator import get_option_chains\n",
    "\n",
    "date_str = config['date']\n",
    "snapshot_time = datetime.strptime(config['snapshot_time'], \"%Y-%m-%dT%H:%M:%S\")\n",
    "df_baseoffset = load_baseoffset_results(date_str)\n",
    "df_option_md = load_option_market_data(date_str)\n",
    "\n",
    "df_snapshot_md = create_snapshot_option_chain(df_option_md, df_baseoffset, snapshot_time)\n",
    "my_expiry = config['option_expiry']\n",
    "\n",
    "df_option_chain = get_option_chains(df_snapshot_md, my_expiry, snapshot_time)\n",
    "\n",
    "print(f\"📊 Loaded {len(df_option_chain)} option contracts\")\n",
    "print(f\"📅 Expiry: {my_expiry} Time: {snapshot_time}\")\n",
    "df_option_chain.head()"
   ]
  },
  {
   "cell_type": "code",
   "execution_count": 5,
   "id": "bf89f5a8",
   "metadata": {},
   "outputs": [
    {
     "name": "stdout",
     "output_type": "stream",
     "text": [
      "Comparison of old bid/ask proces and the tightened bid/ask price\n"
     ]
    },
    {
     "data": {
      "text/html": [
       "\n",
       "    <div style=\"color: white; font-family: monospace; margin-bottom: 10px; background-color: #333; padding: 5px; width: 70%;\">\n",
       "        <strong>📊 BTC Spot Price: $61924.86</strong>\n",
       "    </div>\n",
       "    <style>\n",
       "    .price-table {\n",
       "        border-collapse: collapse;\n",
       "        width: 70%;\n",
       "        font-family: monospace;\n",
       "        font-size: 10px;\n",
       "        background-color: black;\n",
       "        color: white;\n",
       "    }\n",
       "    .price-table th, .price-table td {\n",
       "        border: 1px solid #444;\n",
       "        padding: 2px;\n",
       "        text-align: center;\n",
       "        background-color: black;\n",
       "    }\n",
       "    .price-table th {\n",
       "        background-color: #222;\n",
       "        font-weight: bold;\n",
       "        color: white;\n",
       "    }\n",
       "    .price-table tr:nth-child(even) td {\n",
       "        background-color: #111;\n",
       "    }\n",
       "    .price-table tr:nth-child(odd) td {\n",
       "        background-color: black;\n",
       "    }\n",
       "    </style>\n",
       "    <table class=\"price-table\">\n",
       "    <thead>\n",
       "    <tr>\n",
       "        <th>Strike</th>\n",
       "        <th colspan=\"2\">Call Bid</th>\n",
       "        <th colspan=\"2\">Call Ask</th>\n",
       "        <th colspan=\"2\">Call Spread</th>\n",
       "        <th colspan=\"2\">Put Bid</th>\n",
       "        <th colspan=\"2\">Put Ask</th>\n",
       "        <th colspan=\"2\">Put Spread</th>\n",
       "    </tr>\n",
       "    <tr>\n",
       "        <th></th>\n",
       "        <th>Old</th><th>New</th>\n",
       "        <th>Old</th><th>New</th>\n",
       "        <th>Old</th><th>New</th>\n",
       "        <th>Old</th><th>New</th>\n",
       "        <th>Old</th><th>New</th>\n",
       "        <th>Old</th><th>New</th>\n",
       "    </tr>\n",
       "    </thead>\n",
       "    <tbody>\n",
       "    \n",
       "        <tr>\n",
       "            <td>42000</td>\n",
       "            <td>0.3120</td>\n",
       "            <td>0.3120</td>\n",
       "            <td>0.3385</td>\n",
       "            <td><span style=\"color: red; font-weight: bold;\">0.3279</span></td>\n",
       "            <td>0.0265</td>\n",
       "            <td><span style=\"color: red; font-weight: bold;\">0.0159</span></td>\n",
       "            <td>0.0003</td>\n",
       "            <td>0.0003</td>\n",
       "            <td>0.0005</td>\n",
       "            <td>0.0005</td>\n",
       "            <td>0.0002</td>\n",
       "            <td>0.0002</td>\n",
       "        </tr>\n",
       "        \n",
       "        <tr>\n",
       "            <td>44000</td>\n",
       "            <td>0.2805</td>\n",
       "            <td>0.2805</td>\n",
       "            <td>0.3070</td>\n",
       "            <td><span style=\"color: red; font-weight: bold;\">0.2956</span></td>\n",
       "            <td>0.0265</td>\n",
       "            <td><span style=\"color: red; font-weight: bold;\">0.0151</span></td>\n",
       "            <td>0.0005</td>\n",
       "            <td>0.0005</td>\n",
       "            <td>0.0007</td>\n",
       "            <td>0.0007</td>\n",
       "            <td>0.0002</td>\n",
       "            <td>0.0002</td>\n",
       "        </tr>\n",
       "        \n",
       "        <tr>\n",
       "            <td>45000</td>\n",
       "            <td>0.2645</td>\n",
       "            <td>0.2645</td>\n",
       "            <td>0.2910</td>\n",
       "            <td><span style=\"color: red; font-weight: bold;\">0.2794</span></td>\n",
       "            <td>0.0265</td>\n",
       "            <td><span style=\"color: red; font-weight: bold;\">0.0149</span></td>\n",
       "            <td>0.0005</td>\n",
       "            <td>0.0005</td>\n",
       "            <td>0.0008</td>\n",
       "            <td>0.0008</td>\n",
       "            <td>0.0003</td>\n",
       "            <td>0.0003</td>\n",
       "        </tr>\n",
       "        \n",
       "        <tr>\n",
       "            <td>46000</td>\n",
       "            <td>0.2485</td>\n",
       "            <td>0.2485</td>\n",
       "            <td>0.2635</td>\n",
       "            <td><span style=\"color: red; font-weight: bold;\">0.2633</span></td>\n",
       "            <td>0.0150</td>\n",
       "            <td><span style=\"color: red; font-weight: bold;\">0.0148</span></td>\n",
       "            <td>0.0006</td>\n",
       "            <td>0.0006</td>\n",
       "            <td>0.0009</td>\n",
       "            <td>0.0009</td>\n",
       "            <td>0.0003</td>\n",
       "            <td>0.0003</td>\n",
       "        </tr>\n",
       "        \n",
       "        <tr>\n",
       "            <td>47000</td>\n",
       "            <td>0.2335</td>\n",
       "            <td>0.2335</td>\n",
       "            <td>0.2585</td>\n",
       "            <td><span style=\"color: red; font-weight: bold;\">0.2471</span></td>\n",
       "            <td>0.0250</td>\n",
       "            <td><span style=\"color: red; font-weight: bold;\">0.0136</span></td>\n",
       "            <td>0.0008</td>\n",
       "            <td>0.0008</td>\n",
       "            <td>0.0011</td>\n",
       "            <td>0.0011</td>\n",
       "            <td>0.0003</td>\n",
       "            <td>0.0003</td>\n",
       "        </tr>\n",
       "        \n",
       "        <tr>\n",
       "            <td>48000</td>\n",
       "            <td>0.2280</td>\n",
       "            <td>0.2280</td>\n",
       "            <td>0.2310</td>\n",
       "            <td>0.2310</td>\n",
       "            <td>0.0030</td>\n",
       "            <td>0.0030</td>\n",
       "            <td>0.0010</td>\n",
       "            <td>0.0010</td>\n",
       "            <td>0.0013</td>\n",
       "            <td>0.0013</td>\n",
       "            <td>0.0003</td>\n",
       "            <td>0.0003</td>\n",
       "        </tr>\n",
       "        \n",
       "        <tr>\n",
       "            <td>49000</td>\n",
       "            <td>0.2120</td>\n",
       "            <td>0.2120</td>\n",
       "            <td>0.2150</td>\n",
       "            <td>0.2150</td>\n",
       "            <td>0.0030</td>\n",
       "            <td>0.0030</td>\n",
       "            <td>0.0012</td>\n",
       "            <td>0.0012</td>\n",
       "            <td>0.0016</td>\n",
       "            <td>0.0016</td>\n",
       "            <td>0.0004</td>\n",
       "            <td>0.0004</td>\n",
       "        </tr>\n",
       "        \n",
       "        <tr>\n",
       "            <td>50000</td>\n",
       "            <td>0.1960</td>\n",
       "            <td>0.1960</td>\n",
       "            <td>0.1990</td>\n",
       "            <td>0.1990</td>\n",
       "            <td>0.0030</td>\n",
       "            <td>0.0030</td>\n",
       "            <td>0.0015</td>\n",
       "            <td>0.0015</td>\n",
       "            <td>0.0019</td>\n",
       "            <td>0.0019</td>\n",
       "            <td>0.0004</td>\n",
       "            <td>0.0004</td>\n",
       "        </tr>\n",
       "        \n",
       "        <tr>\n",
       "            <td>51000</td>\n",
       "            <td>0.1805</td>\n",
       "            <td>0.1805</td>\n",
       "            <td>0.1835</td>\n",
       "            <td>0.1835</td>\n",
       "            <td>0.0030</td>\n",
       "            <td>0.0030</td>\n",
       "            <td>0.0019</td>\n",
       "            <td>0.0019</td>\n",
       "            <td>0.0023</td>\n",
       "            <td>0.0023</td>\n",
       "            <td>0.0004</td>\n",
       "            <td>0.0004</td>\n",
       "        </tr>\n",
       "        \n",
       "        <tr>\n",
       "            <td>52000</td>\n",
       "            <td>0.1650</td>\n",
       "            <td>0.1650</td>\n",
       "            <td>0.1680</td>\n",
       "            <td>0.1680</td>\n",
       "            <td>0.0030</td>\n",
       "            <td>0.0030</td>\n",
       "            <td>0.0024</td>\n",
       "            <td>0.0024</td>\n",
       "            <td>0.0029</td>\n",
       "            <td>0.0029</td>\n",
       "            <td>0.0005</td>\n",
       "            <td>0.0005</td>\n",
       "        </tr>\n",
       "        \n",
       "        <tr>\n",
       "            <td>53000</td>\n",
       "            <td>0.1495</td>\n",
       "            <td>0.1495</td>\n",
       "            <td>0.1535</td>\n",
       "            <td>0.1535</td>\n",
       "            <td>0.0040</td>\n",
       "            <td>0.0040</td>\n",
       "            <td>0.0032</td>\n",
       "            <td>0.0032</td>\n",
       "            <td>0.0037</td>\n",
       "            <td>0.0037</td>\n",
       "            <td>0.0005</td>\n",
       "            <td>0.0005</td>\n",
       "        </tr>\n",
       "        \n",
       "        <tr>\n",
       "            <td>54000</td>\n",
       "            <td>0.1345</td>\n",
       "            <td>0.1345</td>\n",
       "            <td>0.1380</td>\n",
       "            <td>0.1380</td>\n",
       "            <td>0.0035</td>\n",
       "            <td>0.0035</td>\n",
       "            <td>0.0043</td>\n",
       "            <td>0.0043</td>\n",
       "            <td>0.0048</td>\n",
       "            <td>0.0048</td>\n",
       "            <td>0.0005</td>\n",
       "            <td>0.0005</td>\n",
       "        </tr>\n",
       "        \n",
       "        <tr>\n",
       "            <td>55000</td>\n",
       "            <td>0.1200</td>\n",
       "            <td>0.1200</td>\n",
       "            <td>0.1235</td>\n",
       "            <td>0.1235</td>\n",
       "            <td>0.0035</td>\n",
       "            <td>0.0035</td>\n",
       "            <td>0.0055</td>\n",
       "            <td>0.0055</td>\n",
       "            <td>0.0065</td>\n",
       "            <td>0.0065</td>\n",
       "            <td>0.0010</td>\n",
       "            <td>0.0010</td>\n",
       "        </tr>\n",
       "        \n",
       "        <tr>\n",
       "            <td>55500</td>\n",
       "            <td>0.1115</td>\n",
       "            <td><span style=\"color: red; font-weight: bold;\">0.1119</span></td>\n",
       "            <td>0.1190</td>\n",
       "            <td><span style=\"color: red; font-weight: bold;\">0.1176</span></td>\n",
       "            <td>0.0075</td>\n",
       "            <td><span style=\"color: red; font-weight: bold;\">0.0056</span></td>\n",
       "            <td>0.0065</td>\n",
       "            <td>0.0065</td>\n",
       "            <td>0.0075</td>\n",
       "            <td>0.0075</td>\n",
       "            <td>0.0010</td>\n",
       "            <td>0.0010</td>\n",
       "        </tr>\n",
       "        \n",
       "        <tr>\n",
       "            <td>56000</td>\n",
       "            <td>0.1060</td>\n",
       "            <td>0.1060</td>\n",
       "            <td>0.1095</td>\n",
       "            <td>0.1095</td>\n",
       "            <td>0.0035</td>\n",
       "            <td>0.0035</td>\n",
       "            <td>0.0075</td>\n",
       "            <td>0.0075</td>\n",
       "            <td>0.0085</td>\n",
       "            <td>0.0085</td>\n",
       "            <td>0.0010</td>\n",
       "            <td>0.0010</td>\n",
       "        </tr>\n",
       "        \n",
       "        <tr>\n",
       "            <td>56500</td>\n",
       "            <td>0.0990</td>\n",
       "            <td>0.0990</td>\n",
       "            <td>0.1025</td>\n",
       "            <td>0.1025</td>\n",
       "            <td>0.0035</td>\n",
       "            <td>0.0035</td>\n",
       "            <td>0.0090</td>\n",
       "            <td>0.0090</td>\n",
       "            <td>0.0095</td>\n",
       "            <td>0.0095</td>\n",
       "            <td>0.0005</td>\n",
       "            <td>0.0005</td>\n",
       "        </tr>\n",
       "        \n",
       "        <tr>\n",
       "            <td>57000</td>\n",
       "            <td>0.0930</td>\n",
       "            <td>0.0930</td>\n",
       "            <td>0.0960</td>\n",
       "            <td>0.0960</td>\n",
       "            <td>0.0030</td>\n",
       "            <td>0.0030</td>\n",
       "            <td>0.0100</td>\n",
       "            <td>0.0100</td>\n",
       "            <td>0.0110</td>\n",
       "            <td>0.0110</td>\n",
       "            <td>0.0010</td>\n",
       "            <td>0.0010</td>\n",
       "        </tr>\n",
       "        \n",
       "        <tr>\n",
       "            <td>57500</td>\n",
       "            <td>0.0855</td>\n",
       "            <td>0.0855</td>\n",
       "            <td>0.0895</td>\n",
       "            <td>0.0895</td>\n",
       "            <td>0.0040</td>\n",
       "            <td>0.0040</td>\n",
       "            <td>0.0120</td>\n",
       "            <td>0.0120</td>\n",
       "            <td>0.0130</td>\n",
       "            <td>0.0130</td>\n",
       "            <td>0.0010</td>\n",
       "            <td>0.0010</td>\n",
       "        </tr>\n",
       "        \n",
       "        <tr>\n",
       "            <td>58000</td>\n",
       "            <td>0.0800</td>\n",
       "            <td>0.0800</td>\n",
       "            <td>0.0840</td>\n",
       "            <td>0.0840</td>\n",
       "            <td>0.0040</td>\n",
       "            <td>0.0040</td>\n",
       "            <td>0.0135</td>\n",
       "            <td>0.0135</td>\n",
       "            <td>0.0145</td>\n",
       "            <td>0.0145</td>\n",
       "            <td>0.0010</td>\n",
       "            <td>0.0010</td>\n",
       "        </tr>\n",
       "        \n",
       "        <tr>\n",
       "            <td>58500</td>\n",
       "            <td>0.0740</td>\n",
       "            <td>0.0740</td>\n",
       "            <td>0.0770</td>\n",
       "            <td>0.0770</td>\n",
       "            <td>0.0030</td>\n",
       "            <td>0.0030</td>\n",
       "            <td>0.0155</td>\n",
       "            <td>0.0155</td>\n",
       "            <td>0.0165</td>\n",
       "            <td>0.0165</td>\n",
       "            <td>0.0010</td>\n",
       "            <td>0.0010</td>\n",
       "        </tr>\n",
       "        \n",
       "        <tr>\n",
       "            <td>59000</td>\n",
       "            <td>0.0690</td>\n",
       "            <td>0.0690</td>\n",
       "            <td>0.0725</td>\n",
       "            <td>0.0725</td>\n",
       "            <td>0.0035</td>\n",
       "            <td>0.0035</td>\n",
       "            <td>0.0180</td>\n",
       "            <td>0.0180</td>\n",
       "            <td>0.0190</td>\n",
       "            <td>0.0190</td>\n",
       "            <td>0.0010</td>\n",
       "            <td>0.0010</td>\n",
       "        </tr>\n",
       "        \n",
       "        <tr>\n",
       "            <td>59500</td>\n",
       "            <td>0.0635</td>\n",
       "            <td>0.0635</td>\n",
       "            <td>0.0670</td>\n",
       "            <td>0.0670</td>\n",
       "            <td>0.0035</td>\n",
       "            <td>0.0035</td>\n",
       "            <td>0.0205</td>\n",
       "            <td>0.0205</td>\n",
       "            <td>0.0215</td>\n",
       "            <td>0.0215</td>\n",
       "            <td>0.0010</td>\n",
       "            <td>0.0010</td>\n",
       "        </tr>\n",
       "        \n",
       "        <tr>\n",
       "            <td>60000</td>\n",
       "            <td>0.0585</td>\n",
       "            <td>0.0585</td>\n",
       "            <td>0.0610</td>\n",
       "            <td>0.0610</td>\n",
       "            <td>0.0025</td>\n",
       "            <td>0.0025</td>\n",
       "            <td>0.0235</td>\n",
       "            <td>0.0235</td>\n",
       "            <td>0.0245</td>\n",
       "            <td>0.0245</td>\n",
       "            <td>0.0010</td>\n",
       "            <td>0.0010</td>\n",
       "        </tr>\n",
       "        \n",
       "        <tr>\n",
       "            <td>60500</td>\n",
       "            <td>0.0535</td>\n",
       "            <td>0.0535</td>\n",
       "            <td>0.0555</td>\n",
       "            <td>0.0555</td>\n",
       "            <td>0.0020</td>\n",
       "            <td>0.0020</td>\n",
       "            <td>0.0265</td>\n",
       "            <td>0.0265</td>\n",
       "            <td>0.0275</td>\n",
       "            <td>0.0275</td>\n",
       "            <td>0.0010</td>\n",
       "            <td>0.0010</td>\n",
       "        </tr>\n",
       "        \n",
       "        <tr>\n",
       "            <td>61000</td>\n",
       "            <td>0.0490</td>\n",
       "            <td>0.0490</td>\n",
       "            <td>0.0510</td>\n",
       "            <td>0.0510</td>\n",
       "            <td>0.0020</td>\n",
       "            <td>0.0020</td>\n",
       "            <td>0.0300</td>\n",
       "            <td>0.0300</td>\n",
       "            <td>0.0310</td>\n",
       "            <td>0.0310</td>\n",
       "            <td>0.0010</td>\n",
       "            <td>0.0010</td>\n",
       "        </tr>\n",
       "        \n",
       "        <tr>\n",
       "            <td>61500</td>\n",
       "            <td>0.0450</td>\n",
       "            <td>0.0450</td>\n",
       "            <td>0.0465</td>\n",
       "            <td>0.0465</td>\n",
       "            <td>0.0015</td>\n",
       "            <td>0.0015</td>\n",
       "            <td>0.0340</td>\n",
       "            <td>0.0340</td>\n",
       "            <td>0.0350</td>\n",
       "            <td>0.0350</td>\n",
       "            <td>0.0010</td>\n",
       "            <td>0.0010</td>\n",
       "        </tr>\n",
       "        \n",
       "        <tr>\n",
       "            <td>62000</td>\n",
       "            <td>0.0410</td>\n",
       "            <td>0.0410</td>\n",
       "            <td>0.0425</td>\n",
       "            <td>0.0425</td>\n",
       "            <td>0.0015</td>\n",
       "            <td>0.0015</td>\n",
       "            <td>0.0375</td>\n",
       "            <td>0.0375</td>\n",
       "            <td>0.0390</td>\n",
       "            <td>0.0390</td>\n",
       "            <td>0.0015</td>\n",
       "            <td>0.0015</td>\n",
       "        </tr>\n",
       "        \n",
       "        <tr>\n",
       "            <td>62500</td>\n",
       "            <td>0.0370</td>\n",
       "            <td>0.0370</td>\n",
       "            <td>0.0385</td>\n",
       "            <td>0.0385</td>\n",
       "            <td>0.0015</td>\n",
       "            <td>0.0015</td>\n",
       "            <td>0.0420</td>\n",
       "            <td>0.0420</td>\n",
       "            <td>0.0435</td>\n",
       "            <td>0.0435</td>\n",
       "            <td>0.0015</td>\n",
       "            <td>0.0015</td>\n",
       "        </tr>\n",
       "        \n",
       "        <tr>\n",
       "            <td>63000</td>\n",
       "            <td>0.0340</td>\n",
       "            <td>0.0340</td>\n",
       "            <td>0.0350</td>\n",
       "            <td>0.0350</td>\n",
       "            <td>0.0010</td>\n",
       "            <td>0.0010</td>\n",
       "            <td>0.0460</td>\n",
       "            <td>0.0460</td>\n",
       "            <td>0.0480</td>\n",
       "            <td>0.0480</td>\n",
       "            <td>0.0020</td>\n",
       "            <td>0.0020</td>\n",
       "        </tr>\n",
       "        \n",
       "        <tr>\n",
       "            <td>63500</td>\n",
       "            <td>0.0305</td>\n",
       "            <td>0.0305</td>\n",
       "            <td>0.0315</td>\n",
       "            <td>0.0315</td>\n",
       "            <td>0.0010</td>\n",
       "            <td>0.0010</td>\n",
       "            <td>0.0510</td>\n",
       "            <td>0.0510</td>\n",
       "            <td>0.0530</td>\n",
       "            <td>0.0530</td>\n",
       "            <td>0.0020</td>\n",
       "            <td>0.0020</td>\n",
       "        </tr>\n",
       "        \n",
       "        <tr>\n",
       "            <td>64000</td>\n",
       "            <td>0.0275</td>\n",
       "            <td>0.0275</td>\n",
       "            <td>0.0285</td>\n",
       "            <td>0.0285</td>\n",
       "            <td>0.0010</td>\n",
       "            <td>0.0010</td>\n",
       "            <td>0.0555</td>\n",
       "            <td>0.0555</td>\n",
       "            <td>0.0580</td>\n",
       "            <td>0.0580</td>\n",
       "            <td>0.0025</td>\n",
       "            <td>0.0025</td>\n",
       "        </tr>\n",
       "        \n",
       "        <tr>\n",
       "            <td>64500</td>\n",
       "            <td>0.0250</td>\n",
       "            <td>0.0250</td>\n",
       "            <td>0.0260</td>\n",
       "            <td>0.0260</td>\n",
       "            <td>0.0010</td>\n",
       "            <td>0.0010</td>\n",
       "            <td>0.0595</td>\n",
       "            <td>0.0595</td>\n",
       "            <td>0.0645</td>\n",
       "            <td>0.0645</td>\n",
       "            <td>0.0050</td>\n",
       "            <td>0.0050</td>\n",
       "        </tr>\n",
       "        \n",
       "        <tr>\n",
       "            <td>65000</td>\n",
       "            <td>0.0225</td>\n",
       "            <td>0.0225</td>\n",
       "            <td>0.0230</td>\n",
       "            <td>0.0230</td>\n",
       "            <td>0.0005</td>\n",
       "            <td>0.0005</td>\n",
       "            <td>0.0545</td>\n",
       "            <td><span style=\"color: red; font-weight: bold;\">0.0619</span></td>\n",
       "            <td>0.0800</td>\n",
       "            <td><span style=\"color: red; font-weight: bold;\">0.0726</span></td>\n",
       "            <td>0.0255</td>\n",
       "            <td><span style=\"color: red; font-weight: bold;\">0.0107</span></td>\n",
       "        </tr>\n",
       "        \n",
       "        <tr>\n",
       "            <td>65500</td>\n",
       "            <td>0.0205</td>\n",
       "            <td>0.0205</td>\n",
       "            <td>0.0215</td>\n",
       "            <td>0.0215</td>\n",
       "            <td>0.0010</td>\n",
       "            <td>0.0010</td>\n",
       "            <td>0.0605</td>\n",
       "            <td><span style=\"color: red; font-weight: bold;\">0.0699</span></td>\n",
       "            <td>0.0860</td>\n",
       "            <td><span style=\"color: red; font-weight: bold;\">0.0806</span></td>\n",
       "            <td>0.0255</td>\n",
       "            <td><span style=\"color: red; font-weight: bold;\">0.0107</span></td>\n",
       "        </tr>\n",
       "        \n",
       "        <tr>\n",
       "            <td>66000</td>\n",
       "            <td>0.0185</td>\n",
       "            <td>0.0185</td>\n",
       "            <td>0.0190</td>\n",
       "            <td>0.0190</td>\n",
       "            <td>0.0005</td>\n",
       "            <td>0.0005</td>\n",
       "            <td>0.0780</td>\n",
       "            <td>0.0780</td>\n",
       "            <td>0.0810</td>\n",
       "            <td>0.0810</td>\n",
       "            <td>0.0030</td>\n",
       "            <td>0.0030</td>\n",
       "        </tr>\n",
       "        \n",
       "        <tr>\n",
       "            <td>66500</td>\n",
       "            <td>0.0165</td>\n",
       "            <td>0.0165</td>\n",
       "            <td>0.0175</td>\n",
       "            <td>0.0175</td>\n",
       "            <td>0.0010</td>\n",
       "            <td>0.0010</td>\n",
       "            <td>0.0725</td>\n",
       "            <td><span style=\"color: red; font-weight: bold;\">0.0788</span></td>\n",
       "            <td>0.0970</td>\n",
       "            <td><span style=\"color: red; font-weight: bold;\">0.0891</span></td>\n",
       "            <td>0.0245</td>\n",
       "            <td><span style=\"color: red; font-weight: bold;\">0.0103</span></td>\n",
       "        </tr>\n",
       "        \n",
       "        <tr>\n",
       "            <td>68000</td>\n",
       "            <td>0.0120</td>\n",
       "            <td>0.0120</td>\n",
       "            <td>0.0125</td>\n",
       "            <td>0.0125</td>\n",
       "            <td>0.0005</td>\n",
       "            <td>0.0005</td>\n",
       "            <td>0.1030</td>\n",
       "            <td>0.1030</td>\n",
       "            <td>0.1080</td>\n",
       "            <td>0.1080</td>\n",
       "            <td>0.0050</td>\n",
       "            <td>0.0050</td>\n",
       "        </tr>\n",
       "        \n",
       "        <tr>\n",
       "            <td>70000</td>\n",
       "            <td>0.0075</td>\n",
       "            <td>0.0075</td>\n",
       "            <td>0.0085</td>\n",
       "            <td>0.0085</td>\n",
       "            <td>0.0010</td>\n",
       "            <td>0.0010</td>\n",
       "            <td>0.1305</td>\n",
       "            <td>0.1305</td>\n",
       "            <td>0.1360</td>\n",
       "            <td>0.1360</td>\n",
       "            <td>0.0055</td>\n",
       "            <td>0.0055</td>\n",
       "        </tr>\n",
       "        \n",
       "        <tr>\n",
       "            <td>72000</td>\n",
       "            <td>0.0050</td>\n",
       "            <td>0.0050</td>\n",
       "            <td>0.0055</td>\n",
       "            <td>0.0055</td>\n",
       "            <td>0.0005</td>\n",
       "            <td>0.0005</td>\n",
       "            <td>0.1600</td>\n",
       "            <td>0.1600</td>\n",
       "            <td>0.1660</td>\n",
       "            <td>0.1660</td>\n",
       "            <td>0.0060</td>\n",
       "            <td>0.0060</td>\n",
       "        </tr>\n",
       "        \n",
       "        <tr>\n",
       "            <td>74000</td>\n",
       "            <td>0.0032</td>\n",
       "            <td>0.0032</td>\n",
       "            <td>0.0037</td>\n",
       "            <td>0.0037</td>\n",
       "            <td>0.0005</td>\n",
       "            <td>0.0005</td>\n",
       "            <td>0.1905</td>\n",
       "            <td>0.1905</td>\n",
       "            <td>0.1955</td>\n",
       "            <td>0.1955</td>\n",
       "            <td>0.0050</td>\n",
       "            <td>0.0050</td>\n",
       "        </tr>\n",
       "        \n",
       "        <tr>\n",
       "            <td>76000</td>\n",
       "            <td>0.0022</td>\n",
       "            <td>0.0022</td>\n",
       "            <td>0.0025</td>\n",
       "            <td>0.0025</td>\n",
       "            <td>0.0003</td>\n",
       "            <td>0.0003</td>\n",
       "            <td>0.2215</td>\n",
       "            <td>0.2215</td>\n",
       "            <td>0.2280</td>\n",
       "            <td><span style=\"color: red; font-weight: bold;\">0.2278</span></td>\n",
       "            <td>0.0065</td>\n",
       "            <td><span style=\"color: red; font-weight: bold;\">0.0063</span></td>\n",
       "        </tr>\n",
       "        \n",
       "    </tbody>\n",
       "    </table>\n",
       "    "
      ],
      "text/plain": [
       "<IPython.core.display.HTML object>"
      ]
     },
     "metadata": {},
     "output_type": "display_data"
    }
   ],
   "source": [
    "from utils.pricer.option_constraints import tighten_option_spread\n",
    "from utils.reporting.html_table_generator import generate_price_comparison_table\n",
    "from IPython.display import HTML, display\n",
    "\n",
    "tightened_option_chain = tighten_option_spread(df_option_chain)\n",
    "print(f\"Comparison of old bid/ask proces and the tightened bid/ask price\")\n",
    "\n",
    "# Generate HTML table using external module\n",
    "display(HTML(generate_price_comparison_table(tightened_option_chain, table_width=\"70%\", font_size=\"10px\")))"
   ]
  },
  {
   "cell_type": "code",
   "execution_count": 6,
   "id": "fee6de0a",
   "metadata": {},
   "outputs": [
    {
     "name": "stdout",
     "output_type": "stream",
     "text": [
      "💰 Forward price: $62,229.04\n",
      "⏰ Time to expiry: 0.0205 years\n",
      "✅ DataFrame with vega calculations created successfully using centralized module!\n"
     ]
    },
    {
     "data": {
      "text/html": [
       "<div><style>\n",
       ".dataframe > thead > tr,\n",
       ".dataframe > tbody > tr {\n",
       "  text-align: right;\n",
       "  white-space: pre-wrap;\n",
       "}\n",
       "</style>\n",
       "<small>shape: (41, 5)</small><table border=\"1\" class=\"dataframe\"><thead><tr><th>strike</th><th>bidVola</th><th>midVola</th><th>askVola</th><th>vega</th></tr><tr><td>i64</td><td>f64</td><td>f64</td><td>f64</td><td>f64</td></tr></thead><tbody><tr><td>42000</td><td>111.67</td><td>115.28</td><td>118.9</td><td>1.71</td></tr><tr><td>44000</td><td>106.23</td><td>108.71</td><td>111.19</td><td>2.5</td></tr><tr><td>45000</td><td>100.07</td><td>103.44</td><td>106.82</td><td>2.75</td></tr><tr><td>46000</td><td>96.39</td><td>99.3</td><td>102.22</td><td>3.19</td></tr><tr><td>47000</td><td>94.16</td><td>96.53</td><td>98.9</td><td>3.92</td></tr><tr><td>&hellip;</td><td>&hellip;</td><td>&hellip;</td><td>&hellip;</td><td>&hellip;</td></tr><tr><td>68000</td><td>72.81</td><td>73.41</td><td>74.01</td><td>25.94</td></tr><tr><td>70000</td><td>73.78</td><td>75.28</td><td>76.77</td><td>20.71</td></tr><tr><td>72000</td><td>76.38</td><td>77.34</td><td>78.31</td><td>16.01</td></tr><tr><td>74000</td><td>78.09</td><td>79.37</td><td>80.65</td><td>12.09</td></tr><tr><td>76000</td><td>80.86</td><td>81.88</td><td>82.89</td><td>9.16</td></tr></tbody></table></div>"
      ],
      "text/plain": [
       "shape: (41, 5)\n",
       "┌────────┬─────────┬─────────┬─────────┬───────┐\n",
       "│ strike ┆ bidVola ┆ midVola ┆ askVola ┆ vega  │\n",
       "│ ---    ┆ ---     ┆ ---     ┆ ---     ┆ ---   │\n",
       "│ i64    ┆ f64     ┆ f64     ┆ f64     ┆ f64   │\n",
       "╞════════╪═════════╪═════════╪═════════╪═══════╡\n",
       "│ 42000  ┆ 111.67  ┆ 115.28  ┆ 118.9   ┆ 1.71  │\n",
       "│ 44000  ┆ 106.23  ┆ 108.71  ┆ 111.19  ┆ 2.5   │\n",
       "│ 45000  ┆ 100.07  ┆ 103.44  ┆ 106.82  ┆ 2.75  │\n",
       "│ 46000  ┆ 96.39   ┆ 99.3    ┆ 102.22  ┆ 3.19  │\n",
       "│ 47000  ┆ 94.16   ┆ 96.53   ┆ 98.9    ┆ 3.92  │\n",
       "│ …      ┆ …       ┆ …       ┆ …       ┆ …     │\n",
       "│ 68000  ┆ 72.81   ┆ 73.41   ┆ 74.01   ┆ 25.94 │\n",
       "│ 70000  ┆ 73.78   ┆ 75.28   ┆ 76.77   ┆ 20.71 │\n",
       "│ 72000  ┆ 76.38   ┆ 77.34   ┆ 78.31   ┆ 16.01 │\n",
       "│ 74000  ┆ 78.09   ┆ 79.37   ┆ 80.65   ┆ 12.09 │\n",
       "│ 76000  ┆ 80.86   ┆ 81.88   ┆ 82.89   ┆ 9.16  │\n",
       "└────────┴─────────┴─────────┴─────────┴───────┘"
      ]
     },
     "execution_count": 6,
     "metadata": {},
     "output_type": "execute_result"
    }
   ],
   "source": [
    "# Get forward price and time to expiry\n",
    "from utils.volatility_fitter.volatility_calculator import process_option_chain_with_volatilities, process_volatility_with_greeks\n",
    "\n",
    "df_option_with_vola = process_option_chain_with_volatilities(tightened_option_chain, interest_rate=0.15)\n",
    "df_option_with_vola_and_greeks = process_volatility_with_greeks(df_option_with_vola)\n",
    "\n",
    "assert len(df_option_with_vola['F'].unique().to_list()) == 1\n",
    "assert len(df_option_with_vola['tau'].unique().to_list()) == 1\n",
    "forward_price = df_option_with_vola['F'][0]\n",
    "time_to_expiry = df_option_with_vola['tau'][0]\n",
    "\n",
    "print(f\"💰 Forward price: ${forward_price:,.2f}\")\n",
    "print(f\"⏰ Time to expiry: {time_to_expiry:.4f} years\")\n",
    "\n",
    "\n",
    "print(\"✅ DataFrame with vega calculations created successfully using centralized module!\")\n",
    "df_option_with_vola_and_greeks.select(['strike', 'bidVola', 'midVola', 'askVola', 'vega'])"
   ]
  },
  {
   "cell_type": "code",
   "execution_count": 7,
   "id": "6fc063c1",
   "metadata": {},
   "outputs": [
    {
     "data": {
      "application/vnd.plotly.v1+json": {
       "config": {
        "plotlyServerURL": "https://plot.ly"
       },
       "data": [
        {
         "error_y": {
          "array": {
           "bdata": "ObuAH3hMUkBjEw0q9EJQQOg2PzxJjU5Ai5UOnRafTEDMxrR/trpKQES0JbSS30hAHndSKw5kR0BQwywOVuZFQKHnLkG5okVAhF9am1YyLED8SpuOjFkpQNQ2bjn+WiFASB+NPq08G0Bc/LSLpvwjQKgm0jozPxZAyCX9SyGIFEBYLza1egEQQNwU9O87HhRAIJNT9JSHEkDgWyMKBVkKQKBXYDya4QxAoKLZMZWjC0BQ4UAySgkDQEAFkGoujP0/wAwxcl3V/D/gd37JjEH1PwCcXKmJCfU/YGsQdlv19D9AvSZLmQPsP8AdStHfQ+w/wEu9bLOw7D+AszUvGELtP4B/45e6Cd4/QHUSSDrd7j8AVKIQU/zfPyAu635umvA/QLbdGPEY4z8AyPgTR+33PwA9d3CG8O4/gIQyMit79D9gmNQbhTzwPw==",
           "dtype": "f8"
          },
          "color": "blue",
          "type": "data",
          "visible": true
         },
         "marker": {
          "color": "blue",
          "symbol": "circle"
         },
         "mode": "markers",
         "name": "Call IV (Bid/Ask Error Bar)",
         "opacity": 0.8,
         "type": "scatter",
         "x": {
          "bdata": "EKQAAOCrAADIrwAAsLMAAJi3AACAuwAAaL8AAFDDAAA4xwAAIMsAAAjPAADw0gAA2NYAAMzYAADA2gAAtNwAAKjeAACc4AAAkOIAAITkAAB45gAAbOgAAGDqAABU7AAASO4AADzwAAAw8gAAJPQAABj2AAAM+AAAAPoAAPT7AADo/QAA3P8AANABAQDEAwEAoAkBAHARAQBAGQEAECEBAOAoAQA=",
          "dtype": "i4"
         },
         "y": {
          "bdata": "D1/xXILjUkA5t31n/tlQQJZ+ILddu09AOd3vFyvNTUB6Dpb6yuhLQPL7Bi+nDUpAzL4zpiKSSED+Cg6JahRHQKHnLkG5IkZA2hxD93+IUUBmav+JQhRSQLSLwEDpzVFAFGvmRDrHUUDqGUvR3qVRQJzjtwX7qlFAWtdTS39vUUDYdfPWcaBRQHtz0jgMLFFArHxdX32LUUDHWrgdezRRQB19tAGArVFAEJUlHiOeUUDcowm5EnJRQCZWrWrpR1FAmypwaVZYUUBiuPQJwWZRQPyjoT2Ac1FAnr/XvyFjUUAaJg7FE4pRQDbh06X2eFFAqPcJncGEUUCfyyU60K9RQOqyh7G7o1FAEpgSCqz3UUARCJkqMfdRQLqWqOsVH1JAvll/UClaUkCw0AFspdFSQH8V5U9GVlNAnGGpQJvXU0AoX1IMBXhUQA==",
          "dtype": "f8"
         }
        },
        {
         "error_y": {
          "array": {
           "bdata": "AC8p86jsDEAQQhFzd9QDQEDt/YlM/QpAcG86TtVMB0CgQqozMPMCQMB4u3bJ2P8/sD7/bKbXAUBAkKVULQz+P6BJI2XjH/k/IFaXyuUR+j8gMb/pvGj1P8B+NMnjoPE/gLe5zPJf/T/gGQSWvcX6PyAFOOhTrvg/QDT8/FzC5j8gZoMMHjL1P2Cc1/kblfM/APduw5168j/gYQ+QQnHxPwBYmO8niPA/wOVrpMCh7z/Al0EuOnHuP0DqjHUlhu0/gHdh86PS7D8AnF6zmVXsP2Ah5SaRCfU/wKZQoGn19D+ABwgNAgT8P+AoAdTWQPw/sCDmHgzsAUCAoPBVCksSQIJroCwYMSRAoHCvQxuIJEDw+QgxWP0HQKpGpU13DCZAYFxsey/EF0AAytDgVYsgQPwRmbb9QydAYMPodzAFLEDJbwvtS/5IQA==",
           "dtype": "f8"
          },
          "color": "orange",
          "type": "data",
          "visible": true
         },
         "marker": {
          "color": "orange",
          "symbol": "circle"
         },
         "mode": "markers",
         "name": "Put IV (Bid/Ask Error Bar)",
         "opacity": 0.8,
         "type": "scatter",
         "x": {
          "bdata": "EKQAAOCrAADIrwAAsLMAAJi3AACAuwAAaL8AAFDDAAA4xwAAIMsAAAjPAADw0gAA2NYAAMzYAADA2gAAtNwAAKjeAACc4AAAkOIAAITkAAB45gAAbOgAAGDqAABU7AAASO4AADzwAAAw8gAAJPQAABj2AAAM+AAAAPoAAPT7AADo/QAA3P8AANABAQDEAwEAoAkBAHARAQBAGQEAECEBAOAoAQA=",
          "dtype": "i4"
         },
         "y": {
          "bdata": "hk013jLSXECCpzWdVS1bQFn17iyI3FlAxHlsO2HTWEAqIaom9SFYQN6fC7vsQ1dAkg1wGY1nVkCH4uzzjYpVQJbUOMcdvVRA2pIpXjYEVECothkk4nBTQGr9B+tl8lJAMuFKXgR7UkDyF3diU1xSQLgi/3cnI1JAFBprtX8BUkCUYDXCSMRRQNj0ItrR5lFAZzjw1UecUUDyptVD94BRQA2Cc0Ldi1FA9lg0dDx3UUAA6mBp04JRQGRE2Jqrb1FA+WJ7KGR5UUDx4AMr8J1RQEyhQLCCiFFAbME83GqqUUAqpHI69JNRQEAQzOLXtVFAmvtYzBOgUUDzAHPipqdRQG6ILpBViVFAGfiCz3C1UkDuPwVtPPtRQPHM35OPDlFAJ1jP5eeDUkAjD0316ctSQGI71ZpiZVNAxC/DXmYpU0DJbwvtS35JQA==",
          "dtype": "f8"
         }
        }
       ],
       "layout": {
        "legend": {
         "title": {
          "text": "Legend"
         }
        },
        "shapes": [
         {
          "line": {
           "color": "green",
           "dash": "dash"
          },
          "name": "Spot Price (S)",
          "type": "line",
          "x0": 61924.86,
          "x1": 61924.86,
          "xref": "x",
          "y0": 0,
          "y1": 1,
          "yref": "y domain"
         }
        ],
        "template": {
         "data": {
          "bar": [
           {
            "error_x": {
             "color": "#2a3f5f"
            },
            "error_y": {
             "color": "#2a3f5f"
            },
            "marker": {
             "line": {
              "color": "white",
              "width": 0.5
             },
             "pattern": {
              "fillmode": "overlay",
              "size": 10,
              "solidity": 0.2
             }
            },
            "type": "bar"
           }
          ],
          "barpolar": [
           {
            "marker": {
             "line": {
              "color": "white",
              "width": 0.5
             },
             "pattern": {
              "fillmode": "overlay",
              "size": 10,
              "solidity": 0.2
             }
            },
            "type": "barpolar"
           }
          ],
          "carpet": [
           {
            "aaxis": {
             "endlinecolor": "#2a3f5f",
             "gridcolor": "#C8D4E3",
             "linecolor": "#C8D4E3",
             "minorgridcolor": "#C8D4E3",
             "startlinecolor": "#2a3f5f"
            },
            "baxis": {
             "endlinecolor": "#2a3f5f",
             "gridcolor": "#C8D4E3",
             "linecolor": "#C8D4E3",
             "minorgridcolor": "#C8D4E3",
             "startlinecolor": "#2a3f5f"
            },
            "type": "carpet"
           }
          ],
          "choropleth": [
           {
            "colorbar": {
             "outlinewidth": 0,
             "ticks": ""
            },
            "type": "choropleth"
           }
          ],
          "contour": [
           {
            "colorbar": {
             "outlinewidth": 0,
             "ticks": ""
            },
            "colorscale": [
             [
              0,
              "#0d0887"
             ],
             [
              0.1111111111111111,
              "#46039f"
             ],
             [
              0.2222222222222222,
              "#7201a8"
             ],
             [
              0.3333333333333333,
              "#9c179e"
             ],
             [
              0.4444444444444444,
              "#bd3786"
             ],
             [
              0.5555555555555556,
              "#d8576b"
             ],
             [
              0.6666666666666666,
              "#ed7953"
             ],
             [
              0.7777777777777778,
              "#fb9f3a"
             ],
             [
              0.8888888888888888,
              "#fdca26"
             ],
             [
              1,
              "#f0f921"
             ]
            ],
            "type": "contour"
           }
          ],
          "contourcarpet": [
           {
            "colorbar": {
             "outlinewidth": 0,
             "ticks": ""
            },
            "type": "contourcarpet"
           }
          ],
          "heatmap": [
           {
            "colorbar": {
             "outlinewidth": 0,
             "ticks": ""
            },
            "colorscale": [
             [
              0,
              "#0d0887"
             ],
             [
              0.1111111111111111,
              "#46039f"
             ],
             [
              0.2222222222222222,
              "#7201a8"
             ],
             [
              0.3333333333333333,
              "#9c179e"
             ],
             [
              0.4444444444444444,
              "#bd3786"
             ],
             [
              0.5555555555555556,
              "#d8576b"
             ],
             [
              0.6666666666666666,
              "#ed7953"
             ],
             [
              0.7777777777777778,
              "#fb9f3a"
             ],
             [
              0.8888888888888888,
              "#fdca26"
             ],
             [
              1,
              "#f0f921"
             ]
            ],
            "type": "heatmap"
           }
          ],
          "histogram": [
           {
            "marker": {
             "pattern": {
              "fillmode": "overlay",
              "size": 10,
              "solidity": 0.2
             }
            },
            "type": "histogram"
           }
          ],
          "histogram2d": [
           {
            "colorbar": {
             "outlinewidth": 0,
             "ticks": ""
            },
            "colorscale": [
             [
              0,
              "#0d0887"
             ],
             [
              0.1111111111111111,
              "#46039f"
             ],
             [
              0.2222222222222222,
              "#7201a8"
             ],
             [
              0.3333333333333333,
              "#9c179e"
             ],
             [
              0.4444444444444444,
              "#bd3786"
             ],
             [
              0.5555555555555556,
              "#d8576b"
             ],
             [
              0.6666666666666666,
              "#ed7953"
             ],
             [
              0.7777777777777778,
              "#fb9f3a"
             ],
             [
              0.8888888888888888,
              "#fdca26"
             ],
             [
              1,
              "#f0f921"
             ]
            ],
            "type": "histogram2d"
           }
          ],
          "histogram2dcontour": [
           {
            "colorbar": {
             "outlinewidth": 0,
             "ticks": ""
            },
            "colorscale": [
             [
              0,
              "#0d0887"
             ],
             [
              0.1111111111111111,
              "#46039f"
             ],
             [
              0.2222222222222222,
              "#7201a8"
             ],
             [
              0.3333333333333333,
              "#9c179e"
             ],
             [
              0.4444444444444444,
              "#bd3786"
             ],
             [
              0.5555555555555556,
              "#d8576b"
             ],
             [
              0.6666666666666666,
              "#ed7953"
             ],
             [
              0.7777777777777778,
              "#fb9f3a"
             ],
             [
              0.8888888888888888,
              "#fdca26"
             ],
             [
              1,
              "#f0f921"
             ]
            ],
            "type": "histogram2dcontour"
           }
          ],
          "mesh3d": [
           {
            "colorbar": {
             "outlinewidth": 0,
             "ticks": ""
            },
            "type": "mesh3d"
           }
          ],
          "parcoords": [
           {
            "line": {
             "colorbar": {
              "outlinewidth": 0,
              "ticks": ""
             }
            },
            "type": "parcoords"
           }
          ],
          "pie": [
           {
            "automargin": true,
            "type": "pie"
           }
          ],
          "scatter": [
           {
            "fillpattern": {
             "fillmode": "overlay",
             "size": 10,
             "solidity": 0.2
            },
            "type": "scatter"
           }
          ],
          "scatter3d": [
           {
            "line": {
             "colorbar": {
              "outlinewidth": 0,
              "ticks": ""
             }
            },
            "marker": {
             "colorbar": {
              "outlinewidth": 0,
              "ticks": ""
             }
            },
            "type": "scatter3d"
           }
          ],
          "scattercarpet": [
           {
            "marker": {
             "colorbar": {
              "outlinewidth": 0,
              "ticks": ""
             }
            },
            "type": "scattercarpet"
           }
          ],
          "scattergeo": [
           {
            "marker": {
             "colorbar": {
              "outlinewidth": 0,
              "ticks": ""
             }
            },
            "type": "scattergeo"
           }
          ],
          "scattergl": [
           {
            "marker": {
             "colorbar": {
              "outlinewidth": 0,
              "ticks": ""
             }
            },
            "type": "scattergl"
           }
          ],
          "scattermap": [
           {
            "marker": {
             "colorbar": {
              "outlinewidth": 0,
              "ticks": ""
             }
            },
            "type": "scattermap"
           }
          ],
          "scattermapbox": [
           {
            "marker": {
             "colorbar": {
              "outlinewidth": 0,
              "ticks": ""
             }
            },
            "type": "scattermapbox"
           }
          ],
          "scatterpolar": [
           {
            "marker": {
             "colorbar": {
              "outlinewidth": 0,
              "ticks": ""
             }
            },
            "type": "scatterpolar"
           }
          ],
          "scatterpolargl": [
           {
            "marker": {
             "colorbar": {
              "outlinewidth": 0,
              "ticks": ""
             }
            },
            "type": "scatterpolargl"
           }
          ],
          "scatterternary": [
           {
            "marker": {
             "colorbar": {
              "outlinewidth": 0,
              "ticks": ""
             }
            },
            "type": "scatterternary"
           }
          ],
          "surface": [
           {
            "colorbar": {
             "outlinewidth": 0,
             "ticks": ""
            },
            "colorscale": [
             [
              0,
              "#0d0887"
             ],
             [
              0.1111111111111111,
              "#46039f"
             ],
             [
              0.2222222222222222,
              "#7201a8"
             ],
             [
              0.3333333333333333,
              "#9c179e"
             ],
             [
              0.4444444444444444,
              "#bd3786"
             ],
             [
              0.5555555555555556,
              "#d8576b"
             ],
             [
              0.6666666666666666,
              "#ed7953"
             ],
             [
              0.7777777777777778,
              "#fb9f3a"
             ],
             [
              0.8888888888888888,
              "#fdca26"
             ],
             [
              1,
              "#f0f921"
             ]
            ],
            "type": "surface"
           }
          ],
          "table": [
           {
            "cells": {
             "fill": {
              "color": "#EBF0F8"
             },
             "line": {
              "color": "white"
             }
            },
            "header": {
             "fill": {
              "color": "#C8D4E3"
             },
             "line": {
              "color": "white"
             }
            },
            "type": "table"
           }
          ]
         },
         "layout": {
          "annotationdefaults": {
           "arrowcolor": "#2a3f5f",
           "arrowhead": 0,
           "arrowwidth": 1
          },
          "autotypenumbers": "strict",
          "coloraxis": {
           "colorbar": {
            "outlinewidth": 0,
            "ticks": ""
           }
          },
          "colorscale": {
           "diverging": [
            [
             0,
             "#8e0152"
            ],
            [
             0.1,
             "#c51b7d"
            ],
            [
             0.2,
             "#de77ae"
            ],
            [
             0.3,
             "#f1b6da"
            ],
            [
             0.4,
             "#fde0ef"
            ],
            [
             0.5,
             "#f7f7f7"
            ],
            [
             0.6,
             "#e6f5d0"
            ],
            [
             0.7,
             "#b8e186"
            ],
            [
             0.8,
             "#7fbc41"
            ],
            [
             0.9,
             "#4d9221"
            ],
            [
             1,
             "#276419"
            ]
           ],
           "sequential": [
            [
             0,
             "#0d0887"
            ],
            [
             0.1111111111111111,
             "#46039f"
            ],
            [
             0.2222222222222222,
             "#7201a8"
            ],
            [
             0.3333333333333333,
             "#9c179e"
            ],
            [
             0.4444444444444444,
             "#bd3786"
            ],
            [
             0.5555555555555556,
             "#d8576b"
            ],
            [
             0.6666666666666666,
             "#ed7953"
            ],
            [
             0.7777777777777778,
             "#fb9f3a"
            ],
            [
             0.8888888888888888,
             "#fdca26"
            ],
            [
             1,
             "#f0f921"
            ]
           ],
           "sequentialminus": [
            [
             0,
             "#0d0887"
            ],
            [
             0.1111111111111111,
             "#46039f"
            ],
            [
             0.2222222222222222,
             "#7201a8"
            ],
            [
             0.3333333333333333,
             "#9c179e"
            ],
            [
             0.4444444444444444,
             "#bd3786"
            ],
            [
             0.5555555555555556,
             "#d8576b"
            ],
            [
             0.6666666666666666,
             "#ed7953"
            ],
            [
             0.7777777777777778,
             "#fb9f3a"
            ],
            [
             0.8888888888888888,
             "#fdca26"
            ],
            [
             1,
             "#f0f921"
            ]
           ]
          },
          "colorway": [
           "#636efa",
           "#EF553B",
           "#00cc96",
           "#ab63fa",
           "#FFA15A",
           "#19d3f3",
           "#FF6692",
           "#B6E880",
           "#FF97FF",
           "#FECB52"
          ],
          "font": {
           "color": "#2a3f5f"
          },
          "geo": {
           "bgcolor": "white",
           "lakecolor": "white",
           "landcolor": "white",
           "showlakes": true,
           "showland": true,
           "subunitcolor": "#C8D4E3"
          },
          "hoverlabel": {
           "align": "left"
          },
          "hovermode": "closest",
          "mapbox": {
           "style": "light"
          },
          "paper_bgcolor": "white",
          "plot_bgcolor": "white",
          "polar": {
           "angularaxis": {
            "gridcolor": "#EBF0F8",
            "linecolor": "#EBF0F8",
            "ticks": ""
           },
           "bgcolor": "white",
           "radialaxis": {
            "gridcolor": "#EBF0F8",
            "linecolor": "#EBF0F8",
            "ticks": ""
           }
          },
          "scene": {
           "xaxis": {
            "backgroundcolor": "white",
            "gridcolor": "#DFE8F3",
            "gridwidth": 2,
            "linecolor": "#EBF0F8",
            "showbackground": true,
            "ticks": "",
            "zerolinecolor": "#EBF0F8"
           },
           "yaxis": {
            "backgroundcolor": "white",
            "gridcolor": "#DFE8F3",
            "gridwidth": 2,
            "linecolor": "#EBF0F8",
            "showbackground": true,
            "ticks": "",
            "zerolinecolor": "#EBF0F8"
           },
           "zaxis": {
            "backgroundcolor": "white",
            "gridcolor": "#DFE8F3",
            "gridwidth": 2,
            "linecolor": "#EBF0F8",
            "showbackground": true,
            "ticks": "",
            "zerolinecolor": "#EBF0F8"
           }
          },
          "shapedefaults": {
           "line": {
            "color": "#2a3f5f"
           }
          },
          "ternary": {
           "aaxis": {
            "gridcolor": "#DFE8F3",
            "linecolor": "#A2B1C6",
            "ticks": ""
           },
           "baxis": {
            "gridcolor": "#DFE8F3",
            "linecolor": "#A2B1C6",
            "ticks": ""
           },
           "bgcolor": "white",
           "caxis": {
            "gridcolor": "#DFE8F3",
            "linecolor": "#A2B1C6",
            "ticks": ""
           }
          },
          "title": {
           "x": 0.05
          },
          "xaxis": {
           "automargin": true,
           "gridcolor": "#EBF0F8",
           "linecolor": "#EBF0F8",
           "ticks": "",
           "title": {
            "standoff": 15
           },
           "zerolinecolor": "#EBF0F8",
           "zerolinewidth": 2
          },
          "yaxis": {
           "automargin": true,
           "gridcolor": "#EBF0F8",
           "linecolor": "#EBF0F8",
           "ticks": "",
           "title": {
            "standoff": 15
           },
           "zerolinecolor": "#EBF0F8",
           "zerolinewidth": 2
          }
         }
        },
        "title": {
         "text": "2024-02-29 20:12: IV on DERIBIT BTC option for Expiry 8MAR24"
        },
        "xaxis": {
         "title": {
          "text": "Strike Price"
         }
        },
        "yaxis": {
         "title": {
          "text": "Implied Volatility (%)"
         }
        }
       }
      }
     },
     "metadata": {},
     "output_type": "display_data"
    }
   ],
   "source": [
    "fig = go.Figure()\n",
    "# Plot with error bars for bid/ask implied volatility\n",
    "fig.add_trace(go.Scatter(\n",
    "    x=df_option_with_vola_and_greeks['strike'],\n",
    "    y=(df_option_with_vola_and_greeks['bidVola_C']+df_option_with_vola_and_greeks['askVola_C'])/2,\n",
    "    error_y=dict(type='data', array=(df_option_with_vola_and_greeks['askVola_C'] - df_option_with_vola_and_greeks['bidVola_C']).abs()/2,\n",
    "        visible=True, color='blue'),\n",
    "    mode='markers',\n",
    "    name='Call IV (Bid/Ask Error Bar)',\n",
    "    marker=dict(color='blue', symbol='circle'),\n",
    "    opacity=0.8\n",
    "))\n",
    "fig.add_trace(go.Scatter(\n",
    "    x=df_option_with_vola_and_greeks['strike'],\n",
    "    y=(df_option_with_vola_and_greeks['bidVola_P']+df_option_with_vola_and_greeks['askVola_P'])/2,\n",
    "    error_y=dict(type='data', array=(df_option_with_vola_and_greeks['askVola_P'] - df_option_with_vola_and_greeks['bidVola_P']).abs()/2,\n",
    "        visible=True, color='orange'),\n",
    "    mode='markers',\n",
    "    name='Put IV (Bid/Ask Error Bar)',\n",
    "    marker=dict(color='orange', symbol='circle'),\n",
    "    opacity=0.8\n",
    "))\n",
    "\n",
    "fig.add_vline(x=df_option_with_vola_and_greeks['S'][0], line=dict(color='green', dash='dash'), name='Spot Price (S)')\n",
    "\n",
    "fig.update_layout(\n",
    "    title=f\"{snapshot_time.strftime('%Y-%m-%d %H:%M')}: IV on DERIBIT BTC option for Expiry {my_expiry}\",\n",
    "    xaxis_title=\"Strike Price\",\n",
    "    yaxis_title=\"Implied Volatility (%)\",\n",
    "    legend_title=\"Legend\",\n",
    "    template=\"plotly_white\"\n",
    ")\n",
    "fig.show()"
   ]
  },
  {
   "cell_type": "markdown",
   "id": "b2fea760",
   "metadata": {},
   "source": [
    "## 3. Unified Volatility Model Calibration\n",
    "\n",
    "Compare different volatility models using the unified calibrator framework:"
   ]
  },
  {
   "cell_type": "code",
   "execution_count": 8,
   "id": "8e2afe42",
   "metadata": {},
   "outputs": [
    {
     "name": "stdout",
     "output_type": "stream",
     "text": [
      "🚀 Unified Volatility Model Calibration\n",
      "==================================================\n",
      "Market Data: 41 strikes\n",
      "Forward Price: 62229.04\n",
      "Time to Expiry: 0.0205 years\n",
      "Strike range: $42,000 - $76,000\n"
     ]
    }
   ],
   "source": [
    "# Import unified calibrator and both models\n",
    "from utils.volatility_fitter.unified_volatility_calibrator import UnifiedVolatilityCalibrator\n",
    "from utils.volatility_fitter.time_adjusted_wing_model.time_adjusted_wing_model import TimeAdjustedWingModel\n",
    "from utils.volatility_fitter.wing_model.wing_model import WingModel\n",
    "from utils.volatility_fitter.wing_model.wing_model_parameters import WingModelParameters\n",
    "\n",
    "# Extract required data from the processed dataframe\n",
    "strikes_list = df_option_with_vola_and_greeks['strike'].to_list()\n",
    "market_vols = (df_option_with_vola_and_greeks['midVola']/100).to_list()  # Convert from percentage\n",
    "market_vegas = df_option_with_vola_and_greeks['vega'].to_list()\n",
    "\n",
    "print(\"🚀 Unified Volatility Model Calibration\")\n",
    "print(\"=\" * 50)\n",
    "print(f\"Market Data: {len(strikes_list)} strikes\")\n",
    "print(f\"Forward Price: {forward_price:.2f}\")\n",
    "print(f\"Time to Expiry: {time_to_expiry:.4f} years\")\n",
    "print(f\"Strike range: ${min(strikes_list):,.0f} - ${max(strikes_list):,.0f}\")\n",
    "\n",
    "# Dictionary to store results for comparison\n",
    "model_results = {}"
   ]
  },
  {
   "cell_type": "code",
   "execution_count": 9,
   "id": "93e9d2cf",
   "metadata": {},
   "outputs": [
    {
     "name": "stdout",
     "output_type": "stream",
     "text": [
      "⚙️ Loading Volatility Configuration...\n",
      "✅ Configuration loaded: volatility\n",
      "📁 Config file: volatility_config.yaml\n",
      "📅 Date: 20240229\n",
      "🎯 Max RMSE threshold: 0.1\n",
      "🔧 Calibration method: SLSQP\n",
      "⚙️ Tolerance: 1e-10\n",
      "🔄 Max iterations: 1000\n",
      "\n",
      "🏗️ Available Model Configurations:\n",
      "   📈 Wing Model: ✅ CONFIGURED\n",
      "   ⏰ Time-Adjusted Wing Model: ✅ CONFIGURED\n",
      "   📊 Wing Model initial vr (ATM vol): 0.7\n",
      "🎉 Configuration ready for volatility calibration!\n"
     ]
    }
   ],
   "source": [
    "# 🔧 Load Volatility Configuration\n",
    "from config.config_loader import load_volatility_config\n",
    "\n",
    "print(\"⚙️ Loading Volatility Configuration...\")\n",
    "vol_config = load_volatility_config()\n",
    "\n",
    "print(f\"✅ Configuration loaded: {vol_config.config_type}\")\n",
    "print(f\"📁 Config file: {vol_config.config_path.split('/')[-1]}\")\n",
    "print(f\"📅 Date: {vol_config.date_str}\")\n",
    "print(f\"🎯 Max RMSE threshold: {vol_config.max_rmse_threshold}\")\n",
    "print(f\"🔧 Calibration method: {vol_config.calibration_method}\")\n",
    "print(f\"⚙️ Tolerance: {vol_config.calibration_tolerance}\")\n",
    "print(f\"🔄 Max iterations: {vol_config.max_calibration_iterations}\")\n",
    "\n",
    "# Show available model configurations\n",
    "wing_config = vol_config.get_model_config('wing_model')\n",
    "ta_config = vol_config.get_model_config('time_adjusted_wing_model')\n",
    "\n",
    "print(f\"\\n🏗️ Available Model Configurations:\")\n",
    "print(f\"   📈 Wing Model: {'✅ CONFIGURED' if wing_config else '❌ NOT FOUND'}\")\n",
    "print(f\"   ⏰ Time-Adjusted Wing Model: {'✅ CONFIGURED' if ta_config else '❌ NOT FOUND'}\")\n",
    "\n",
    "if wing_config and 'initial_params' in wing_config:\n",
    "    wing_params = vol_config.get_initial_params('wing_model')\n",
    "    print(f\"   📊 Wing Model initial vr (ATM vol): {wing_params.get('vr', 'N/A')}\")\n",
    "\n",
    "print(\"🎉 Configuration ready for volatility calibration!\")"
   ]
  },
  {
   "cell_type": "markdown",
   "id": "4d776bdf",
   "metadata": {},
   "source": [
    "### 3.1 Time-Adjusted Wing Model Calibration"
   ]
  },
  {
   "cell_type": "code",
   "execution_count": 19,
   "id": "53da9136",
   "metadata": {},
   "outputs": [
    {
     "name": "stdout",
     "output_type": "stream",
     "text": [
      "🔧 Calibrating Time-Adjusted Wing Model...\n",
      "   Using configuration-driven parameters and settings\n",
      "📋 Config initial parameters: {'vr': 0.7, 'sr': 0.01, 'cc': 1.0, 'pc': 1.0, 'uc': 0.2, 'dc': -0.2, 'usm': 0.5, 'dsm': 0.5}\n",
      "🔧 Calibrator settings from config:\n",
      "   Method: SLSQP\n",
      "   Tolerance: 1e-10\n",
      "   Max iterations: 1000\n",
      "📏 Parameter bounds from config: 8 parameters configured\n",
      "📏 Bounds: [(0.05, 5.0), (-2.0, 2.0), (-5.0, 5.0), (-5.0, 5.0), (-2.0, 0.0), (0.0, 2.0), (0.01, 2.0), (0.01, 2.0)]\n",
      "🔢 Data arrays converted: strikes=41, vols=41, vegas=41\n",
      "❌ Time-Adjusted Wing Model calibration: FAILED\n",
      "   Error: Calibration error: can't multiply sequence by non-int of type 'float'\n"
     ]
    }
   ],
   "source": [
    "# 1️⃣ Time-Adjusted Wing Model Calibration with Configuration\n",
    "from utils.volatility_fitter.time_adjusted_wing_model import create_time_adjusted_wing_model_from_result\n",
    "import numpy as np\n",
    "\n",
    "print(\"🔧 Calibrating Time-Adjusted Wing Model...\")\n",
    "print(\"   Using configuration-driven parameters and settings\")\n",
    "\n",
    "# Get initial parameters from configuration\n",
    "config_initial_params = vol_config.get_initial_params('time_adjusted_wing_model')\n",
    "print(f\"📋 Config initial parameters: {config_initial_params}\")\n",
    "\n",
    "# Convert config parameters to initial guess array\n",
    "# [atm_vol(vr), slope(sr), call_curve(cc), put_curve(pc), up_cutoff(uc), down_cutoff(dc), up_smoothing(usm), down_smoothing(dsm)]\n",
    "initial_guess = list(config_initial_params.values())\n",
    "\n",
    "# Create initial parameters using the helper function (creates WingModelParameters with proper mapping)\n",
    "ta_initial_params = create_time_adjusted_wing_model_from_result(\n",
    "    result=initial_guess,\n",
    "    forward_price=forward_price,\n",
    "    ref_price=forward_price,  # Use same as forward price\n",
    "    time_to_expiry=time_to_expiry\n",
    ")\n",
    "\n",
    "# Get calibrator settings from configuration\n",
    "calibration_config = vol_config.get_calibration_config()\n",
    "unified_config = calibration_config.get('unified_calibrator', {})\n",
    "\n",
    "# Create unified calibrator using configuration settings\n",
    "ta_calibrator = UnifiedVolatilityCalibrator(\n",
    "    model_class=TimeAdjustedWingModel,\n",
    "    enable_bounds=unified_config.get('enable_bounds', True), \n",
    "    tolerance=vol_config.calibration_tolerance,\n",
    "    method=vol_config.calibration_method,\n",
    "    max_iterations=vol_config.max_calibration_iterations,\n",
    "    arbitrage_penalty=unified_config.get('arbitrage_penalty', 1e5)\n",
    ")\n",
    "\n",
    "print(f\"🔧 Calibrator settings from config:\")\n",
    "print(f\"   Method: {vol_config.calibration_method}\")\n",
    "print(f\"   Tolerance: {vol_config.calibration_tolerance}\")\n",
    "print(f\"   Max iterations: {vol_config.max_calibration_iterations}\")\n",
    "\n",
    "# Get parameter bounds from configuration using the corrected method\n",
    "ta_bounds = vol_config.get_parameter_bounds('time_adjusted_wing_model')\n",
    "print(f\"📏 Parameter bounds from config: {len(ta_bounds)} parameters configured\")\n",
    "print(f\"📏 Bounds: {ta_bounds}\")\n",
    "\n",
    "# Ensure data is in correct format (convert to numpy arrays for safety)\n",
    "strikes_array = np.array(strikes_list, dtype=float)\n",
    "vols_array = np.array(market_vols, dtype=float)  \n",
    "vegas_array = np.array(market_vegas, dtype=float)\n",
    "\n",
    "print(f\"🔢 Data arrays converted: strikes={len(strikes_array)}, vols={len(vols_array)}, vegas={len(vegas_array)}\")\n",
    "\n",
    "# Perform calibration\n",
    "try:\n",
    "    ta_result = ta_calibrator.calibrate(\n",
    "        initial_params=ta_initial_params,\n",
    "        strikes=strikes_array,\n",
    "        market_volatilities=vols_array,\n",
    "        market_vegas=vegas_array,\n",
    "        parameter_bounds=ta_bounds,\n",
    "        enforce_arbitrage_free=True\n",
    "    )\n",
    "    \n",
    "    # Store results\n",
    "    model_results['Time-Adjusted Wing'] = {\n",
    "        'result': ta_result,\n",
    "        'calibrator': ta_calibrator,\n",
    "        'model_class': TimeAdjustedWingModel\n",
    "    }\n",
    "\n",
    "    if ta_result.success:\n",
    "        print(f\"✅ Time-Adjusted Wing Model calibration: SUCCESS\")\n",
    "        print(f\"   Final RMSE: {ta_result.error:.6f}\")\n",
    "        \n",
    "        # Check against configuration threshold\n",
    "        if ta_result.error <= vol_config.max_rmse_threshold:\n",
    "            print(f\"   🎯 RMSE below config threshold ({vol_config.max_rmse_threshold:.3f}): ✅ PASS\")\n",
    "        else:\n",
    "            print(f\"   ⚠️ RMSE above config threshold ({vol_config.max_rmse_threshold:.3f}): REVIEW NEEDED\")\n",
    "        \n",
    "        print(f\"   Optimized parameters:\")\n",
    "        \n",
    "        # Show parameter values using the updated mapping  \n",
    "        param_names = ta_result.parameters.get_parameter_names()\n",
    "        param_values = ta_result.parameters.get_fitted_vol_parameter()\n",
    "        for name, value in zip(param_names, param_values):\n",
    "            print(f\"     {name}: {value:.6f}\")\n",
    "    else:\n",
    "        print(f\"❌ Time-Adjusted Wing Model calibration: FAILED\")\n",
    "        print(f\"   Error: {ta_result.message}\")\n",
    "\n",
    "except Exception as e:\n",
    "    print(f\"🚨 EXCEPTION during calibration: {e}\")\n",
    "    import traceback\n",
    "    traceback.print_exc()"
   ]
  },
  {
   "cell_type": "code",
   "execution_count": 25,
   "id": "94c2221e",
   "metadata": {},
   "outputs": [
    {
     "name": "stdout",
     "output_type": "stream",
     "text": [
      "🔧 Calibrating Traditional Wing Model...\n",
      "   Using configuration-driven parameters and settings\n",
      "📋 Config wing parameters: {'vr': 0.7, 'sr': 0.01, 'pc': 1.0, 'cc': 1.0, 'dc': -0.2, 'uc': 0.2, 'dsm': 0.5, 'usm': 0.5}\n",
      "✅ Wing initial parameters: vr=0.700, sr=0.010\n",
      "   dc=-0.200, uc=0.200\n",
      "🔧 Wing calibrator settings (same as TA model from config):\n",
      "   Method: SLSQP\n",
      "   Tolerance: 1e-10\n",
      "❌ Traditional Wing Model calibration: FAILED\n",
      "   Error: Calibration error: can't multiply sequence by non-int of type 'float'\n",
      "\n"
     ]
    }
   ],
   "source": [
    "# 2️⃣ Traditional Wing Model Calibration with Configuration\n",
    "print(\"🔧 Calibrating Traditional Wing Model...\")\n",
    "print(\"   Using configuration-driven parameters and settings\")\n",
    "\n",
    "# Get initial parameters from configuration for wing model\n",
    "config_wing_params = vol_config.get_initial_params('wing_model')\n",
    "print(f\"📋 Config wing parameters: {config_wing_params}\")\n",
    "\n",
    "# Create initial parameters using configuration values\n",
    "wing_initial_params = WingModelParameters(\n",
    "    forward_price=forward_price,\n",
    "    ref_price=forward_price,\n",
    "    time_to_expiry=time_to_expiry,\n",
    "    vr=config_wing_params.get('vr', 0.7),        # volatility reference  \n",
    "    sr=config_wing_params.get('sr', 0.01),       # slope reference\n",
    "    pc=config_wing_params.get('pc', 1.0),        # put curvature\n",
    "    cc=config_wing_params.get('cc', 1.0),        # call curvature\n",
    "    dc=config_wing_params.get('dc', -0.2),       # down cutoff (LOG MONEYNESS) \n",
    "    uc=config_wing_params.get('uc', 0.2),        # up cutoff (LOG MONEYNESS)\n",
    "    dsm=config_wing_params.get('dsm', 0.5),      # down smoothing\n",
    "    usm=config_wing_params.get('usm', 0.5)       # up smoothing\n",
    ")\n",
    "\n",
    "print(f\"✅ Wing initial parameters: vr={wing_initial_params.vr:.3f}, sr={wing_initial_params.sr:.3f}\")\n",
    "print(f\"   dc={wing_initial_params.dc:.3f}, uc={wing_initial_params.uc:.3f}\")\n",
    "\n",
    "# Get parameter bounds from configuration\n",
    "wing_bounds = vol_config.get_parameter_bounds('wing_model')\n",
    "\n",
    "# Create calibrator using configuration settings\n",
    "wing_calibrator = UnifiedVolatilityCalibrator(\n",
    "    model_class=WingModel,\n",
    "    enable_bounds=unified_config.get('enable_bounds', True),\n",
    "    tolerance=vol_config.calibration_tolerance,\n",
    "    method=vol_config.calibration_method,\n",
    "    arbitrage_penalty=unified_config.get('arbitrage_penalty', 1e5),\n",
    "    max_iterations=vol_config.max_calibration_iterations\n",
    ")\n",
    "\n",
    "print(f\"🔧 Wing calibrator settings (same as TA model from config):\")\n",
    "print(f\"   Method: {vol_config.calibration_method}\")\n",
    "print(f\"   Tolerance: {vol_config.calibration_tolerance}\")\n",
    "\n",
    "# Calibrate\n",
    "wing_result = wing_calibrator.calibrate(\n",
    "    initial_params=wing_initial_params,\n",
    "    strikes=strikes_list,\n",
    "    market_volatilities=market_vols,\n",
    "    market_vegas=market_vegas,\n",
    "    parameter_bounds=wing_bounds,\n",
    "    enforce_arbitrage_free=True\n",
    ")\n",
    "\n",
    "# Store results\n",
    "model_results['Traditional Wing'] = {\n",
    "    'result': wing_result,\n",
    "    'calibrator': wing_calibrator,\n",
    "    'model_class': WingModel\n",
    "}\n",
    "\n",
    "if wing_result.success:\n",
    "    print(f\"✅ Traditional Wing Model calibration: SUCCESS\")\n",
    "    print(f\"   Final RMSE: {wing_result.error:.6f}\")\n",
    "    \n",
    "    # Check against configuration threshold\n",
    "    if wing_result.error <= vol_config.max_rmse_threshold:\n",
    "        print(f\"   🎯 RMSE below config threshold ({vol_config.max_rmse_threshold:.3f}): ✅ PASS\")\n",
    "    else:\n",
    "        print(f\"   ⚠️ RMSE above config threshold ({vol_config.max_rmse_threshold:.3f}): REVIEW NEEDED\")\n",
    "    \n",
    "    print(f\"   Optimized parameters:\")\n",
    "    \n",
    "    # Show parameter values\n",
    "    param_names = wing_result.parameters.get_parameter_names()\n",
    "    param_values = wing_result.parameters.get_fitted_vol_parameter()\n",
    "    for name, value in zip(param_names, param_values):\n",
    "        print(f\"     {name}: {value:.6f}\")\n",
    "else:\n",
    "    print(f\"❌ Traditional Wing Model calibration: FAILED\")\n",
    "    print(f\"   Error: {wing_result.message}\")\n",
    "\n",
    "print()"
   ]
  },
  {
   "cell_type": "markdown",
   "id": "06b953c5",
   "metadata": {},
   "source": [
    "### 3.2 Model Comparison & Visualization"
   ]
  },
  {
   "cell_type": "code",
   "execution_count": null,
   "id": "784e280f",
   "metadata": {},
   "outputs": [],
   "source": [
    "# 📊 Model Performance Comparison with Configuration Validation\n",
    "print(\"\\n📊 Model Performance Summary:\")\n",
    "print(\"=\" * 50)\n",
    "\n",
    "# Get validation config\n",
    "validation_config = vol_config.get_validation_config()\n",
    "quality_config = validation_config.get('quality', {})\n",
    "\n",
    "print(f\"🎯 Configuration thresholds:\")\n",
    "print(f\"   Max RMSE: {vol_config.max_rmse_threshold:.3f}\")\n",
    "print(f\"   Min R²: {quality_config.get('min_r_squared', 0.8):.3f}\")\n",
    "print()\n",
    "\n",
    "best_model = None\n",
    "best_rmse = float('inf')\n",
    "passing_models = []\n",
    "\n",
    "for model_name, data in model_results.items():\n",
    "    result = data['result']\n",
    "    rmse = result.error\n",
    "    \n",
    "    # Check against configuration thresholds\n",
    "    rmse_pass = rmse <= vol_config.max_rmse_threshold\n",
    "    status = \"✅ PASS\" if result.success and rmse_pass else \"❌ FAIL\"\n",
    "    \n",
    "    if result.success and rmse_pass:\n",
    "        passing_models.append(model_name)\n",
    "    \n",
    "    print(f\"{model_name:25}: RMSE = {rmse:.6f} {status}\")\n",
    "    \n",
    "    if result.success and rmse < best_rmse:\n",
    "        best_rmse = rmse\n",
    "        best_model = model_name\n",
    "\n",
    "print(f\"\\n🎯 Configuration Validation Results:\")\n",
    "print(f\"   Models meeting RMSE threshold: {len(passing_models)} / {len(model_results)}\")\n",
    "print(f\"   Passing models: {', '.join(passing_models) if passing_models else 'None'}\")\n",
    "\n",
    "if best_model:\n",
    "    if len(model_results) == 2:\n",
    "        model_errors = [data['result'].error for data in model_results.values()]\n",
    "        improvement = abs((model_errors[0] - model_errors[1]) / max(model_errors)) * 100\n",
    "        print(f\"\\n🏆 Best Model: {best_model} (RMSE: {best_rmse:.6f})\")\n",
    "        print(f\"🔧 Performance difference: {improvement:.2f}%\")\n",
    "        \n",
    "        if best_rmse <= vol_config.max_rmse_threshold:\n",
    "            print(f\"✅ Best model meets configuration quality threshold!\")\n",
    "        else:\n",
    "            print(f\"⚠️ Best model exceeds configuration RMSE threshold ({vol_config.max_rmse_threshold:.3f})\")\n",
    "else:\n",
    "    print(\"\\n❌ No successful calibrations found\")"
   ]
  },
  {
   "cell_type": "code",
   "execution_count": null,
   "id": "7578aedb",
   "metadata": {},
   "outputs": [],
   "source": [
    "# 📈 Generate Volatility Surface Comparison Plot\n",
    "import numpy as np\n",
    "\n",
    "# Create extended strike range for smooth curves\n",
    "min_strike = min(strikes_list) * 0.9\n",
    "max_strike = max(strikes_list) * 1.1\n",
    "extended_strikes = np.linspace(min_strike, max_strike, 100)\n",
    "\n",
    "fig = go.Figure()\n",
    "\n",
    "# Extract bid/ask volatilities for error bars\n",
    "market_bid_vols = (df_option_with_vola_and_greeks['bidVola']/100).to_list()\n",
    "market_ask_vols = (df_option_with_vola_and_greeks['askVola']/100).to_list()\n",
    "\n",
    "# Add market data points with bid/ask error bars\n",
    "fig.add_trace(go.Scatter(\n",
    "    x=strikes_list, y=market_vols, mode='markers', name='Market IV (Bid/Ask)',\n",
    "    error_y=dict(type='data', symmetric=False,\n",
    "        array=[ask - mid for ask, mid in zip(market_ask_vols, market_vols)],  # Upper error\n",
    "        arrayminus=[mid - bid for bid, mid in zip(market_bid_vols, market_vols)],  # Lower error\n",
    "        visible=True, color='rgba(0,0,0,0.3)', thickness=2, width=3\n",
    "    ),\n",
    "    marker=dict(size=6, color='black', symbol='circle'),\n",
    "    hovertemplate='Strike: %{x}<br>Mid Vol: %{y:.4f}<br>Bid-Ask Spread<extra></extra>',\n",
    "    opacity=0.8\n",
    "))\n",
    "# Add vertical lines for reference\n",
    "forward_price = df_option_with_vola_and_greeks['F'][0]    \n",
    "fig.add_vline(x=forward_price, line=dict(color='purple', dash='dot', width=2), annotation_text=f\"Forward: {forward_price:.0f}\")\n",
    "\n",
    "# Define colors for models\n",
    "model_colors = {'Wing Model': 'blue', 'Time-Adjusted Wing Model': 'red'}\n",
    "\n",
    "# Add model curves with fitted error bars\n",
    "for model_name, data in model_results.items():        \n",
    "    result = data['result']\n",
    "    model_class = data['model_class']\n",
    "    color = model_colors.get(model_name, 'green')\n",
    "    \n",
    "    # Create model instance with optimized parameters\n",
    "    model = model_class(result.parameters)\n",
    "    \n",
    "    # Calculate model volatilities for extended strikes\n",
    "    model_vols = []\n",
    "    for strike in extended_strikes:\n",
    "        try:\n",
    "            vol = model.calculate_volatility_from_strike(strike)\n",
    "            model_vols.append(vol)\n",
    "        except:\n",
    "            model_vols.append(np.nan)\n",
    "    \n",
    "    # Add model curve\n",
    "    fig.add_trace(go.Scatter(\n",
    "        x=extended_strikes, y=model_vols, mode='lines',\n",
    "        name=f'{model_name} (RMSE: {result.error:.6f})',\n",
    "        line=dict(color=color, width=2),\n",
    "        hovertemplate=f'{model_name}<br>Strike: %{{x}}<br>Vol: %{{y:.4f}}<extra></extra>'\n",
    "    ))    \n",
    "\n",
    "# Update layout\n",
    "title = f\"{(ts:=df_option_with_vola_and_greeks['timestamp'][0])}: Fitted Model vs Market Data - {my_expiry} Expiry\"\n",
    "\n",
    "fig.update_layout(\n",
    "    title=dict(\n",
    "        text=f\"{title}<br><span style='font-size:14px'>Forward: {forward_price:.0f} | τ: {time_to_expiry:.4f}\",# | RMSE: {fitter_result.error:.6f}<br> {param_string}</span>\",\n",
    "        x=0.5\n",
    "    ),\n",
    "    xaxis_title='Strike Price',\n",
    "    yaxis_title='Implied Volatility',\n",
    "    width=900,\n",
    "    height=600,\n",
    "    hovermode='closest',\n",
    "    legend=dict(x=0.02, y=0.98, bgcolor='rgba(255,255,255,0.8)'),\n",
    "    template='plotly_white'\n",
    ")\n",
    "\n",
    "fig.show()"
   ]
  },
  {
   "cell_type": "markdown",
   "id": "09ff8aba",
   "metadata": {},
   "source": [
    "## 4. Summary\n",
    "\n",
    "This notebook demonstrates the unified volatility calibrator framework that provides:"
   ]
  },
  {
   "cell_type": "code",
   "execution_count": null,
   "id": "974150bb",
   "metadata": {},
   "outputs": [],
   "source": [
    "# 🎯 Final Summary with Configuration Integration\n",
    "print(\"🎯 Configuration-Driven Volatility Calibrator Framework Summary\")\n",
    "print(\"=\" * 65)\n",
    "print()\n",
    "print(\"⚙️ Configuration Management:\")\n",
    "print(f\"   • Config file: {vol_config.config_path.split('/')[-1]}\")\n",
    "print(f\"   • Config type: {vol_config.config_type}\")\n",
    "print(f\"   • Date: {vol_config.date_str}\")\n",
    "print(f\"   • RMSE threshold: {vol_config.max_rmse_threshold:.3f}\")\n",
    "print(f\"   • Calibration method: {vol_config.calibration_method}\")\n",
    "print(f\"   • Max iterations: {vol_config.max_calibration_iterations}\")\n",
    "print()\n",
    "print(\"✅ Key Benefits:\")\n",
    "print(\"   • Configuration-driven parameter initialization\")\n",
    "print(\"   • Centralized calibration settings and validation thresholds\")\n",
    "print(\"   • Single calibrator works with multiple volatility models\")\n",
    "print(\"   • Mathematically consistent optimization across all models\")\n",
    "print(\"   • Easy to add new models by inheriting from BaseVolatilityModel\")\n",
    "print(\"   • Unified parameter bounds and constraints handling\")\n",
    "print()\n",
    "print(\"📊 Model Performance Results:\")\n",
    "for model_name, data in model_results.items():\n",
    "    result = data['result']\n",
    "    if result.success:\n",
    "        rmse_status = \"✅ PASS\" if result.error <= vol_config.max_rmse_threshold else \"⚠️ THRESHOLD\"\n",
    "        print(f\"   • {model_name}: RMSE = {result.error:.6f} {rmse_status}\")\n",
    "        \n",
    "        # Show top 3 parameters\n",
    "        param_names = result.parameters.get_parameter_names()[:3]\n",
    "        param_values = result.parameters.get_fitted_vol_parameter()[:3]\n",
    "        param_str = \", \".join([f\"{name}={val:.3f}\" for name, val in zip(param_names, param_values)])\n",
    "        print(f\"     Key params: {param_str}...\")\n",
    "\n",
    "if best_model:\n",
    "    print(f\"\\n🏆 Best performing model: {best_model} (RMSE: {best_rmse:.6f})\")\n",
    "    \n",
    "print(f\"\\n🔧 Configuration Benefits Demonstrated:\")\n",
    "print(f\"   • Parameters loaded from volatility_config.yaml\")\n",
    "print(f\"   • Calibrator settings centrally managed\")\n",
    "print(f\"   • Quality thresholds automatically applied\")\n",
    "print(f\"   • Consistent validation across all models\")\n",
    "print(f\"   • Easy to modify settings via config file\")\n",
    "print()\n",
    "print(\"📈 Visual comparison shows model fit quality against market data\")\n",
    "print(\"🎉 Configuration-driven volatility fitting complete!\")"
   ]
  }
 ],
 "metadata": {
  "kernelspec": {
   "display_name": ".venv",
   "language": "python",
   "name": "python3"
  },
  "language_info": {
   "codemirror_mode": {
    "name": "ipython",
    "version": 3
   },
   "file_extension": ".py",
   "mimetype": "text/x-python",
   "name": "python",
   "nbconvert_exporter": "python",
   "pygments_lexer": "ipython3",
   "version": "3.12.3"
  }
 },
 "nbformat": 4,
 "nbformat_minor": 5
}
