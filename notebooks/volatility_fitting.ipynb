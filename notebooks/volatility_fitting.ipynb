{
 "cells": [
  {
   "cell_type": "markdown",
   "id": "57502747",
   "metadata": {},
   "source": [
    "## 🚀 **Enhanced Generic Loss Function Framework**\n",
    "\n",
    "This notebook now features a **highly configurable and generic loss function system** that provides:\n",
    "\n",
    "### 🎯 **Unified Model Calibration**\n",
    "- **Single Calibrator Class**: `GenericVolatilityModelCalibrator` handles both Traditional and Time-Adjusted Wing Models\n",
    "- **Model-Agnostic Interface**: Automatic detection and handling of different parameter structures\n",
    "- **Consistent API**: Same interface regardless of underlying volatility model\n",
    "\n",
    "### ⚖️ **Flexible Weighting Schemes**\n",
    "- **`vega`**: Vega-weighted (emphasizes liquid, high-sensitivity strikes) - *Default*\n",
    "- **`uniform`**: Equal weighting for all strikes\n",
    "- **`inverse_vol`**: Higher weight for low volatility strikes (often OTM)\n",
    "- **`atm_focused`**: Gaussian decay from ATM (prioritizes near-the-money accuracy)\n",
    "\n",
    "### 📊 **Multiple Loss Metrics** \n",
    "- **`rmse`**: Root Mean Square Error (standard least squares) - *Default*\n",
    "- **`mae`**: Mean Absolute Error (robust to outliers)\n",
    "- **`mape`**: Mean Absolute Percentage Error (relative accuracy)\n",
    "- **`huber`**: Huber loss (balanced robustness between RMSE and MAE)\n",
    "\n",
    "### 🛡️ **Advanced Validation**\n",
    "- **Volatility Bounds**: Configurable valid range (default: 0.1% - 500%)\n",
    "- **Parameter Validation**: Automatic detection of invalid parameter combinations\n",
    "- **Numerical Stability**: Penalty system for NaN, infinite, or out-of-bounds results\n",
    "\n",
    "### 🎛️ **Easy Configuration**\n",
    "```python\n",
    "loss_config = {\n",
    "    'weight_type': 'vega',           # Weighting scheme\n",
    "    'metric': 'rmse',                # Loss metric\n",
    "    'vol_bounds': (0.001, 5.0),      # Valid volatility range\n",
    "    'penalty_factor': 1e10            # Invalid parameter penalty\n",
    "}\n",
    "```\n",
    "\n",
    "### 💡 **Benefits**\n",
    "✅ **Consistency**: Same optimization framework for all models  \n",
    "✅ **Flexibility**: Easy to experiment with different loss configurations  \n",
    "✅ **Robustness**: Built-in validation and error handling  \n",
    "✅ **Transparency**: Clear separation of weighting, metrics, and model logic  \n",
    "✅ **Extensibility**: Easy to add new models, weights, or loss functions\n",
    "\n",
    "---"
   ]
  },
  {
   "cell_type": "markdown",
   "id": "5d0ec6eb",
   "metadata": {},
   "source": [
    "# Bitcoin Options Wing Model Calibration & Arbitrage Analysis\n",
    "\n",
    "This notebook demonstrates:\n",
    "1. **Model Selection Toggle**: Choose between Traditional Wing Model or Time-Adjusted Wing Model\n",
    "2. **Data Loading**: Market data and option chain processing\n",
    "3. **Volatility Calculation**: Implied volatility from bid/ask prices  \n",
    "4. **Adaptive Calibration**: Model-specific parameter fitting approaches\n",
    "5. **Arbitrage Checks**: Synthetic arbitrage and butterfly arbitrage validation\n",
    "6. **Pricing & Greeks**: Option pricing with fitted volatilities\n",
    "\n",
    "### 🎛️ **Toggle Configuration**\n",
    "Use the `USE_TIME_ADJUSTED_MODEL` toggle to switch between:\n",
    "- **Traditional Wing Model**: 8-parameter strike-based moneyness \n",
    "- **Time-Adjusted Wing Model**: Black-76 d1 time-dependent moneyness"
   ]
  },
  {
   "cell_type": "code",
   "execution_count": 1,
   "id": "0bb21974",
   "metadata": {},
   "outputs": [
    {
     "name": "stdout",
     "output_type": "stream",
     "text": [
      "Project root: /home/user/Python/Baseoffset-Fitting-Manager\n",
      "✅ Time-Adjusted Wing Model available\n",
      "✅ All modules imported successfully!\n",
      "📦 Available models:\n",
      "  🔸 Traditional Wing Model - Always available\n",
      "  🔸 Time-Adjusted Wing Model - Available\n",
      "✅ Time-Adjusted Wing Model available\n",
      "✅ All modules imported successfully!\n",
      "📦 Available models:\n",
      "  🔸 Traditional Wing Model - Always available\n",
      "  🔸 Time-Adjusted Wing Model - Available\n"
     ]
    }
   ],
   "source": [
    "import sys\n",
    "import os\n",
    "\n",
    "# Add the parent directory to the system path\n",
    "current_dir = os.getcwd()\n",
    "project_root = os.path.dirname(current_dir) if current_dir.endswith('notebooks') else current_dir\n",
    "\n",
    "print(f\"Project root: {project_root}\")\n",
    "if project_root not in sys.path:\n",
    "    sys.path.append(project_root)\n",
    "\n",
    "# Import project modules from new utils structure\n",
    "from utils.pricer.pricer_helper import find_vol\n",
    "from utils.market_data.deribit_md_manager import DeribitMDManager\n",
    "from utils.reporting.html_table_generator import generate_price_comparison_table\n",
    "from utils.pricer.option_constraints import tighten_option_spread\n",
    "from utils.pricer.black76_option_pricer import Black76OptionPricer\n",
    "\n",
    "# Import from reorganized volatility_fitter modules\n",
    "from utils.volatility_fitter.wing_model import WingModel, WingModelParameters, WingModelCalibrator, create_wing_model_from_result\n",
    "from utils.volatility_fitter.processed_data_loader import load_baseoffset_results, load_option_market_data, create_snapshot_option_chain\n",
    "from utils.volatility_fitter.volatility_calculator import process_option_chain_with_volatilities, add_volatility_summary_columns\n",
    "\n",
    "# Import time-adjusted wing model\n",
    "import importlib\n",
    "try:\n",
    "    import utils.volatility_fitter.time_adjusted_wing_model\n",
    "    importlib.reload(utils.volatility_fitter.time_adjusted_wing_model)\n",
    "    from utils.volatility_fitter.time_adjusted_wing_model import TimeAdjustedWingModel, TimeAdjustedWingModelParameters, TimeAdjustedWingModelCalibrator\n",
    "    TIME_ADJUSTED_AVAILABLE = True\n",
    "    print(\"✅ Time-Adjusted Wing Model available\")\n",
    "except ImportError as e:\n",
    "    TIME_ADJUSTED_AVAILABLE = False\n",
    "    print(f\"⚠️ Time-Adjusted Wing Model not available: {e}\")\n",
    "\n",
    "# Import analysis modules\n",
    "from utils.analysis import analyze_arbitrage_comprehensive, format_arbitrage_report\n",
    "\n",
    "import polars as pl\n",
    "# Configure libraries\n",
    "pl.Config.set_tbl_rows(30)  # Polars display\n",
    "\n",
    "import numpy as np\n",
    "from datetime import datetime\n",
    "from IPython.display import HTML, display\n",
    "from scipy import optimize\n",
    "from typing import List\n",
    "import plotly.graph_objects as go\n",
    "from plotly.subplots import make_subplots\n",
    "\n",
    "import warnings\n",
    "warnings.filterwarnings('ignore')\n",
    "\n",
    "# Configuration\n",
    "vol_grid = np.arange(0.3, 2.1, 0.1)\n",
    "\n",
    "print(\"✅ All modules imported successfully!\")\n",
    "print(\"📦 Available models:\")\n",
    "print(\"  🔸 Traditional Wing Model - Always available\")\n",
    "if TIME_ADJUSTED_AVAILABLE:\n",
    "    print(\"  🔸 Time-Adjusted Wing Model - Available\")\n",
    "else:\n",
    "    print(\"  🔸 Time-Adjusted Wing Model - Not available\")"
   ]
  },
  {
   "cell_type": "code",
   "execution_count": 2,
   "id": "e32f0f5f",
   "metadata": {},
   "outputs": [
    {
     "name": "stdout",
     "output_type": "stream",
     "text": [
      "🎯 Using: Time-Adjusted Wing Model\n",
      "   ✨ Features: Black-76 d1 moneyness, time-dependent calibration\n",
      "📅 Data: 20240229 | ⏰ Snapshot: 2024-02-29 14:12:00\n",
      "💡 To switch models, change USE_TIME_ADJUSTED_MODEL above and re-run this cell\n"
     ]
    }
   ],
   "source": [
    "# 🎛️ MODEL SELECTION TOGGLE\n",
    "# Change this to switch between wing model types\n",
    "USE_TIME_ADJUSTED_MODEL = True  # Set to False for traditional wing model\n",
    "\n",
    "# Data configuration\n",
    "date_str = '20240229'\n",
    "snapshot_time = datetime(2024,2,29,14,12)\n",
    "\n",
    "# Display current configuration\n",
    "if USE_TIME_ADJUSTED_MODEL and TIME_ADJUSTED_AVAILABLE:\n",
    "    print(\"🎯 Using: Time-Adjusted Wing Model\")\n",
    "    print(\"   ✨ Features: Black-76 d1 moneyness, time-dependent calibration\")\n",
    "    MODEL_TYPE = \"time_adjusted\"\n",
    "elif not USE_TIME_ADJUSTED_MODEL:\n",
    "    print(\"🎯 Using: Traditional Wing Model\") \n",
    "    print(\"   ✨ Features: Strike-based moneyness, classic 8-parameter fitting\")\n",
    "    MODEL_TYPE = \"traditional\"\n",
    "else:\n",
    "    print(\"⚠️ Time-Adjusted model requested but not available, falling back to Traditional Wing Model\")\n",
    "    USE_TIME_ADJUSTED_MODEL = False\n",
    "    MODEL_TYPE = \"traditional\"\n",
    "\n",
    "print(f\"📅 Data: {date_str} | ⏰ Snapshot: {snapshot_time}\")\n",
    "print(\"💡 To switch models, change USE_TIME_ADJUSTED_MODEL above and re-run this cell\")"
   ]
  },
  {
   "cell_type": "markdown",
   "id": "d74e8715",
   "metadata": {},
   "source": [
    "## Modular Data Processing Workflow\n",
    "\n",
    "The functions for data loading, volatility calculation, and arbitrage analysis have been refactored into separate modules:\n",
    "\n",
    "1. **`utils.data_loader.market_data_loader`**: Functions for loading CSV data and creating snapshots\n",
    "2. **`utils.data_loader.volatility_calculator`**: Functions for calculating implied volatilities\n",
    "3. **`utils.analysis.arbitrage_checker`**: Functions for comprehensive arbitrage analysis\n",
    "\n",
    "This modular approach provides:\n",
    "- ✅ **Better Code Organization**: Clear separation of concerns\n",
    "- ✅ **Reusability**: Functions can be used across multiple notebooks\n",
    "- ✅ **Maintainability**: Easier to update and test individual components\n",
    "- ✅ **Type Safety**: Proper type hints and validation"
   ]
  },
  {
   "cell_type": "code",
   "execution_count": 3,
   "id": "a596f87d",
   "metadata": {},
   "outputs": [
    {
     "name": "stdout",
     "output_type": "stream",
     "text": [
      "Available expiries: ['15MAR24', '28JUN24', '2MAR24', '26APR24', '1MAR24', '3MAR24', '8MAR24', '27SEP24', '29MAR24', '27DEC24', '29FEB24', '22MAR24', '31MAY24']\n"
     ]
    }
   ],
   "source": [
    "# Load market data using new data loading modules\n",
    "df_baseoffset = load_baseoffset_results(date_str)\n",
    "df_option_md = load_option_market_data(date_str)"
   ]
  },
  {
   "cell_type": "code",
   "execution_count": 4,
   "id": "9d1865e5",
   "metadata": {},
   "outputs": [],
   "source": [
    "# Create snapshot option chain using new module\n",
    "df_snapshot_md = create_snapshot_option_chain(df_option_md, df_baseoffset, snapshot_time)"
   ]
  },
  {
   "cell_type": "code",
   "execution_count": 5,
   "id": "16612ebd",
   "metadata": {},
   "outputs": [
    {
     "data": {
      "text/html": [
       "<div><style>\n",
       ".dataframe > thead > tr,\n",
       ".dataframe > tbody > tr {\n",
       "  text-align: right;\n",
       "  white-space: pre-wrap;\n",
       "}\n",
       "</style>\n",
       "<small>shape: (5, 14)</small><table border=\"1\" class=\"dataframe\"><thead><tr><th>symbol</th><th>timestamp</th><th>expiry</th><th>strike</th><th>bid_size</th><th>bid_price</th><th>ask_price</th><th>ask_size</th><th>S</th><th>expiry_ts</th><th>option_type</th><th>tau</th><th>F</th><th>r</th></tr><tr><td>str</td><td>datetime[ns]</td><td>str</td><td>i64</td><td>f64</td><td>f64</td><td>f64</td><td>f64</td><td>f64</td><td>datetime[ns]</td><td>str</td><td>f64</td><td>f64</td><td>f64</td></tr></thead><tbody><tr><td>&quot;BTC-1MAR24-36000-C&quot;</td><td>2024-02-29 14:12:00</td><td>&quot;1MAR24&quot;</td><td>36000</td><td>1.7</td><td>0.0001</td><td>1.0</td><td>1.7</td><td>63210.53</td><td>2024-03-01 08:00:00</td><td>&quot;C&quot;</td><td>0.002032</td><td>63248.47</td><td>0.25</td></tr><tr><td>&quot;BTC-1MAR24-36000-P&quot;</td><td>2024-02-29 14:12:00</td><td>&quot;1MAR24&quot;</td><td>36000</td><td>null</td><td>null</td><td>0.0004</td><td>13.0</td><td>63210.53</td><td>2024-03-01 08:00:00</td><td>&quot;P&quot;</td><td>0.002032</td><td>63248.47</td><td>0.25</td></tr><tr><td>&quot;BTC-1MAR24-38000-C&quot;</td><td>2024-02-29 14:12:00</td><td>&quot;1MAR24&quot;</td><td>38000</td><td>1.6</td><td>0.0001</td><td>1.0</td><td>1.6</td><td>63210.53</td><td>2024-03-01 08:00:00</td><td>&quot;C&quot;</td><td>0.002032</td><td>63248.47</td><td>0.25</td></tr><tr><td>&quot;BTC-1MAR24-38000-P&quot;</td><td>2024-02-29 14:12:00</td><td>&quot;1MAR24&quot;</td><td>38000</td><td>null</td><td>null</td><td>0.0004</td><td>13.0</td><td>63210.53</td><td>2024-03-01 08:00:00</td><td>&quot;P&quot;</td><td>0.002032</td><td>63248.47</td><td>0.25</td></tr><tr><td>&quot;BTC-1MAR24-40000-C&quot;</td><td>2024-02-29 14:12:00</td><td>&quot;1MAR24&quot;</td><td>40000</td><td>1.5</td><td>0.0001</td><td>1.0</td><td>1.5</td><td>63210.53</td><td>2024-03-01 08:00:00</td><td>&quot;C&quot;</td><td>0.002032</td><td>63248.47</td><td>0.25</td></tr></tbody></table></div>"
      ],
      "text/plain": [
       "shape: (5, 14)\n",
       "┌────────────────┬────────────────┬────────┬────────┬───┬─────────────┬──────────┬──────────┬──────┐\n",
       "│ symbol         ┆ timestamp      ┆ expiry ┆ strike ┆ … ┆ option_type ┆ tau      ┆ F        ┆ r    │\n",
       "│ ---            ┆ ---            ┆ ---    ┆ ---    ┆   ┆ ---         ┆ ---      ┆ ---      ┆ ---  │\n",
       "│ str            ┆ datetime[ns]   ┆ str    ┆ i64    ┆   ┆ str         ┆ f64      ┆ f64      ┆ f64  │\n",
       "╞════════════════╪════════════════╪════════╪════════╪═══╪═════════════╪══════════╪══════════╪══════╡\n",
       "│ BTC-1MAR24-360 ┆ 2024-02-29     ┆ 1MAR24 ┆ 36000  ┆ … ┆ C           ┆ 0.002032 ┆ 63248.47 ┆ 0.25 │\n",
       "│ 00-C           ┆ 14:12:00       ┆        ┆        ┆   ┆             ┆          ┆          ┆      │\n",
       "│ BTC-1MAR24-360 ┆ 2024-02-29     ┆ 1MAR24 ┆ 36000  ┆ … ┆ P           ┆ 0.002032 ┆ 63248.47 ┆ 0.25 │\n",
       "│ 00-P           ┆ 14:12:00       ┆        ┆        ┆   ┆             ┆          ┆          ┆      │\n",
       "│ BTC-1MAR24-380 ┆ 2024-02-29     ┆ 1MAR24 ┆ 38000  ┆ … ┆ C           ┆ 0.002032 ┆ 63248.47 ┆ 0.25 │\n",
       "│ 00-C           ┆ 14:12:00       ┆        ┆        ┆   ┆             ┆          ┆          ┆      │\n",
       "│ BTC-1MAR24-380 ┆ 2024-02-29     ┆ 1MAR24 ┆ 38000  ┆ … ┆ P           ┆ 0.002032 ┆ 63248.47 ┆ 0.25 │\n",
       "│ 00-P           ┆ 14:12:00       ┆        ┆        ┆   ┆             ┆          ┆          ┆      │\n",
       "│ BTC-1MAR24-400 ┆ 2024-02-29     ┆ 1MAR24 ┆ 40000  ┆ … ┆ C           ┆ 0.002032 ┆ 63248.47 ┆ 0.25 │\n",
       "│ 00-C           ┆ 14:12:00       ┆        ┆        ┆   ┆             ┆          ┆          ┆      │\n",
       "└────────────────┴────────────────┴────────┴────────┴───┴─────────────┴──────────┴──────────┴──────┘"
      ]
     },
     "execution_count": 5,
     "metadata": {},
     "output_type": "execute_result"
    }
   ],
   "source": [
    "df_snapshot_md.head()"
   ]
  },
  {
   "cell_type": "code",
   "execution_count": 6,
   "id": "7c7528a9",
   "metadata": {},
   "outputs": [
    {
     "data": {
      "text/html": [
       "<div><style>\n",
       ".dataframe > thead > tr,\n",
       ".dataframe > tbody > tr {\n",
       "  text-align: right;\n",
       "  white-space: pre-wrap;\n",
       "}\n",
       "</style>\n",
       "<small>shape: (5, 14)</small><table border=\"1\" class=\"dataframe\"><thead><tr><th>symbol</th><th>timestamp</th><th>expiry</th><th>strike</th><th>bid_size</th><th>bid_price</th><th>ask_price</th><th>ask_size</th><th>S</th><th>expiry_ts</th><th>option_type</th><th>tau</th><th>F</th><th>r</th></tr><tr><td>str</td><td>datetime[ns]</td><td>str</td><td>i64</td><td>f64</td><td>f64</td><td>f64</td><td>f64</td><td>f64</td><td>datetime[ns]</td><td>str</td><td>f64</td><td>f64</td><td>f64</td></tr></thead><tbody><tr><td>&quot;BTC-27DEC24-160000-C&quot;</td><td>2024-02-29 14:12:00</td><td>&quot;27DEC24&quot;</td><td>160000</td><td>5.0</td><td>0.0465</td><td>0.049</td><td>10.2</td><td>63210.53</td><td>2024-12-27 08:00:00</td><td>&quot;C&quot;</td><td>0.826689</td><td>70187.55</td><td>0.1253</td></tr><tr><td>&quot;BTC-27DEC24-160000-P&quot;</td><td>2024-02-29 14:12:00</td><td>&quot;27DEC24&quot;</td><td>160000</td><td>12.2</td><td>1.3145</td><td>1.342</td><td>12.3</td><td>63210.53</td><td>2024-12-27 08:00:00</td><td>&quot;P&quot;</td><td>0.826689</td><td>70187.55</td><td>0.1253</td></tr><tr><td>&quot;BTC-27DEC24-180000-C&quot;</td><td>2024-02-29 14:12:00</td><td>&quot;27DEC24&quot;</td><td>180000</td><td>5.0</td><td>0.0355</td><td>0.0375</td><td>10.4</td><td>63210.53</td><td>2024-12-27 08:00:00</td><td>&quot;C&quot;</td><td>0.826689</td><td>70187.55</td><td>0.1253</td></tr><tr><td>&quot;BTC-27DEC24-180000-P&quot;</td><td>2024-02-29 14:12:00</td><td>&quot;27DEC24&quot;</td><td>180000</td><td>12.6</td><td>1.5875</td><td>1.617</td><td>12.9</td><td>63210.53</td><td>2024-12-27 08:00:00</td><td>&quot;P&quot;</td><td>0.826689</td><td>70187.55</td><td>0.1253</td></tr><tr><td>&quot;BTC-27DEC24-200000-C&quot;</td><td>2024-02-29 14:12:00</td><td>&quot;27DEC24&quot;</td><td>200000</td><td>5.0</td><td>0.027</td><td>0.0285</td><td>1.3</td><td>63210.53</td><td>2024-12-27 08:00:00</td><td>&quot;C&quot;</td><td>0.826689</td><td>70187.55</td><td>0.1253</td></tr></tbody></table></div>"
      ],
      "text/plain": [
       "shape: (5, 14)\n",
       "┌───────────────┬──────────────┬─────────┬────────┬───┬─────────────┬──────────┬──────────┬────────┐\n",
       "│ symbol        ┆ timestamp    ┆ expiry  ┆ strike ┆ … ┆ option_type ┆ tau      ┆ F        ┆ r      │\n",
       "│ ---           ┆ ---          ┆ ---     ┆ ---    ┆   ┆ ---         ┆ ---      ┆ ---      ┆ ---    │\n",
       "│ str           ┆ datetime[ns] ┆ str     ┆ i64    ┆   ┆ str         ┆ f64      ┆ f64      ┆ f64    │\n",
       "╞═══════════════╪══════════════╪═════════╪════════╪═══╪═════════════╪══════════╪══════════╪════════╡\n",
       "│ BTC-27DEC24-1 ┆ 2024-02-29   ┆ 27DEC24 ┆ 160000 ┆ … ┆ C           ┆ 0.826689 ┆ 70187.55 ┆ 0.1253 │\n",
       "│ 60000-C       ┆ 14:12:00     ┆         ┆        ┆   ┆             ┆          ┆          ┆        │\n",
       "│ BTC-27DEC24-1 ┆ 2024-02-29   ┆ 27DEC24 ┆ 160000 ┆ … ┆ P           ┆ 0.826689 ┆ 70187.55 ┆ 0.1253 │\n",
       "│ 60000-P       ┆ 14:12:00     ┆         ┆        ┆   ┆             ┆          ┆          ┆        │\n",
       "│ BTC-27DEC24-1 ┆ 2024-02-29   ┆ 27DEC24 ┆ 180000 ┆ … ┆ C           ┆ 0.826689 ┆ 70187.55 ┆ 0.1253 │\n",
       "│ 80000-C       ┆ 14:12:00     ┆         ┆        ┆   ┆             ┆          ┆          ┆        │\n",
       "│ BTC-27DEC24-1 ┆ 2024-02-29   ┆ 27DEC24 ┆ 180000 ┆ … ┆ P           ┆ 0.826689 ┆ 70187.55 ┆ 0.1253 │\n",
       "│ 80000-P       ┆ 14:12:00     ┆         ┆        ┆   ┆             ┆          ┆          ┆        │\n",
       "│ BTC-27DEC24-2 ┆ 2024-02-29   ┆ 27DEC24 ┆ 200000 ┆ … ┆ C           ┆ 0.826689 ┆ 70187.55 ┆ 0.1253 │\n",
       "│ 00000-C       ┆ 14:12:00     ┆         ┆        ┆   ┆             ┆          ┆          ┆        │\n",
       "└───────────────┴──────────────┴─────────┴────────┴───┴─────────────┴──────────┴──────────┴────────┘"
      ]
     },
     "execution_count": 6,
     "metadata": {},
     "output_type": "execute_result"
    }
   ],
   "source": [
    "df_snapshot_md.tail()"
   ]
  },
  {
   "cell_type": "code",
   "execution_count": 7,
   "id": "44b8d945",
   "metadata": {},
   "outputs": [
    {
     "name": "stdout",
     "output_type": "stream",
     "text": [
      "Comparison of old bid/ask proces and the tightened bid/ask price\n"
     ]
    },
    {
     "data": {
      "text/html": [
       "\n",
       "    <div style=\"color: white; font-family: monospace; margin-bottom: 10px; background-color: #333; padding: 5px; width: 70%;\">\n",
       "        <strong>📊 BTC Spot Price: $63210.53</strong>\n",
       "    </div>\n",
       "    <style>\n",
       "    .price-table {\n",
       "        border-collapse: collapse;\n",
       "        width: 70%;\n",
       "        font-family: monospace;\n",
       "        font-size: 10px;\n",
       "        background-color: black;\n",
       "        color: white;\n",
       "    }\n",
       "    .price-table th, .price-table td {\n",
       "        border: 1px solid #444;\n",
       "        padding: 2px;\n",
       "        text-align: center;\n",
       "        background-color: black;\n",
       "    }\n",
       "    .price-table th {\n",
       "        background-color: #222;\n",
       "        font-weight: bold;\n",
       "        color: white;\n",
       "    }\n",
       "    .price-table tr:nth-child(even) td {\n",
       "        background-color: #111;\n",
       "    }\n",
       "    .price-table tr:nth-child(odd) td {\n",
       "        background-color: black;\n",
       "    }\n",
       "    </style>\n",
       "    <table class=\"price-table\">\n",
       "    <thead>\n",
       "    <tr>\n",
       "        <th>Strike</th>\n",
       "        <th colspan=\"2\">Call Bid</th>\n",
       "        <th colspan=\"2\">Call Ask</th>\n",
       "        <th colspan=\"2\">Call Spread</th>\n",
       "        <th colspan=\"2\">Put Bid</th>\n",
       "        <th colspan=\"2\">Put Ask</th>\n",
       "        <th colspan=\"2\">Put Spread</th>\n",
       "    </tr>\n",
       "    <tr>\n",
       "        <th></th>\n",
       "        <th>Old</th><th>New</th>\n",
       "        <th>Old</th><th>New</th>\n",
       "        <th>Old</th><th>New</th>\n",
       "        <th>Old</th><th>New</th>\n",
       "        <th>Old</th><th>New</th>\n",
       "        <th>Old</th><th>New</th>\n",
       "    </tr>\n",
       "    </thead>\n",
       "    <tbody>\n",
       "    \n",
       "        <tr>\n",
       "            <td>42000</td>\n",
       "            <td>0.3355</td>\n",
       "            <td>0.3355</td>\n",
       "            <td>0.3505</td>\n",
       "            <td><span style=\"color: red; font-weight: bold;\">0.3451</span></td>\n",
       "            <td>0.0150</td>\n",
       "            <td><span style=\"color: red; font-weight: bold;\">0.0096</span></td>\n",
       "            <td>0.0011</td>\n",
       "            <td>0.0011</td>\n",
       "            <td>0.0014</td>\n",
       "            <td>0.0014</td>\n",
       "            <td>0.0003</td>\n",
       "            <td>0.0003</td>\n",
       "        </tr>\n",
       "        \n",
       "        <tr>\n",
       "            <td>44000</td>\n",
       "            <td>0.3100</td>\n",
       "            <td>0.3100</td>\n",
       "            <td>0.3135</td>\n",
       "            <td>0.3135</td>\n",
       "            <td>0.0035</td>\n",
       "            <td>0.0035</td>\n",
       "            <td>0.0015</td>\n",
       "            <td>0.0015</td>\n",
       "            <td>0.0019</td>\n",
       "            <td>0.0019</td>\n",
       "            <td>0.0004</td>\n",
       "            <td>0.0004</td>\n",
       "        </tr>\n",
       "        \n",
       "        <tr>\n",
       "            <td>45000</td>\n",
       "            <td>0.2945</td>\n",
       "            <td>0.2945</td>\n",
       "            <td>0.2980</td>\n",
       "            <td>0.2980</td>\n",
       "            <td>0.0035</td>\n",
       "            <td>0.0035</td>\n",
       "            <td>0.0018</td>\n",
       "            <td>0.0018</td>\n",
       "            <td>0.0022</td>\n",
       "            <td>0.0022</td>\n",
       "            <td>0.0004</td>\n",
       "            <td>0.0004</td>\n",
       "        </tr>\n",
       "        \n",
       "        <tr>\n",
       "            <td>46000</td>\n",
       "            <td>0.2790</td>\n",
       "            <td>0.2790</td>\n",
       "            <td>0.2825</td>\n",
       "            <td>0.2825</td>\n",
       "            <td>0.0035</td>\n",
       "            <td>0.0035</td>\n",
       "            <td>0.0022</td>\n",
       "            <td>0.0022</td>\n",
       "            <td>0.0025</td>\n",
       "            <td>0.0025</td>\n",
       "            <td>0.0003</td>\n",
       "            <td>0.0003</td>\n",
       "        </tr>\n",
       "        \n",
       "        <tr>\n",
       "            <td>47000</td>\n",
       "            <td>0.2640</td>\n",
       "            <td>0.2640</td>\n",
       "            <td>0.2675</td>\n",
       "            <td>0.2675</td>\n",
       "            <td>0.0035</td>\n",
       "            <td>0.0035</td>\n",
       "            <td>0.0025</td>\n",
       "            <td>0.0025</td>\n",
       "            <td>0.0029</td>\n",
       "            <td>0.0029</td>\n",
       "            <td>0.0004</td>\n",
       "            <td>0.0004</td>\n",
       "        </tr>\n",
       "        \n",
       "        <tr>\n",
       "            <td>48000</td>\n",
       "            <td>0.2485</td>\n",
       "            <td>0.2485</td>\n",
       "            <td>0.2525</td>\n",
       "            <td>0.2525</td>\n",
       "            <td>0.0040</td>\n",
       "            <td>0.0040</td>\n",
       "            <td>0.0030</td>\n",
       "            <td>0.0030</td>\n",
       "            <td>0.0034</td>\n",
       "            <td>0.0034</td>\n",
       "            <td>0.0004</td>\n",
       "            <td>0.0004</td>\n",
       "        </tr>\n",
       "        \n",
       "        <tr>\n",
       "            <td>49000</td>\n",
       "            <td>0.2345</td>\n",
       "            <td>0.2345</td>\n",
       "            <td>0.2375</td>\n",
       "            <td>0.2375</td>\n",
       "            <td>0.0030</td>\n",
       "            <td>0.0030</td>\n",
       "            <td>0.0036</td>\n",
       "            <td>0.0036</td>\n",
       "            <td>0.0040</td>\n",
       "            <td>0.0040</td>\n",
       "            <td>0.0004</td>\n",
       "            <td>0.0004</td>\n",
       "        </tr>\n",
       "        \n",
       "        <tr>\n",
       "            <td>50000</td>\n",
       "            <td>0.2190</td>\n",
       "            <td>0.2190</td>\n",
       "            <td>0.2225</td>\n",
       "            <td>0.2225</td>\n",
       "            <td>0.0035</td>\n",
       "            <td>0.0035</td>\n",
       "            <td>0.0043</td>\n",
       "            <td>0.0043</td>\n",
       "            <td>0.0048</td>\n",
       "            <td>0.0048</td>\n",
       "            <td>0.0005</td>\n",
       "            <td>0.0005</td>\n",
       "        </tr>\n",
       "        \n",
       "        <tr>\n",
       "            <td>51000</td>\n",
       "            <td>0.2040</td>\n",
       "            <td>0.2040</td>\n",
       "            <td>0.2075</td>\n",
       "            <td>0.2075</td>\n",
       "            <td>0.0035</td>\n",
       "            <td>0.0035</td>\n",
       "            <td>0.0050</td>\n",
       "            <td>0.0050</td>\n",
       "            <td>0.0060</td>\n",
       "            <td>0.0060</td>\n",
       "            <td>0.0010</td>\n",
       "            <td>0.0010</td>\n",
       "        </tr>\n",
       "        \n",
       "        <tr>\n",
       "            <td>52000</td>\n",
       "            <td>0.1895</td>\n",
       "            <td>0.1895</td>\n",
       "            <td>0.1930</td>\n",
       "            <td>0.1930</td>\n",
       "            <td>0.0035</td>\n",
       "            <td>0.0035</td>\n",
       "            <td>0.0060</td>\n",
       "            <td>0.0060</td>\n",
       "            <td>0.0070</td>\n",
       "            <td>0.0070</td>\n",
       "            <td>0.0010</td>\n",
       "            <td>0.0010</td>\n",
       "        </tr>\n",
       "        \n",
       "        <tr>\n",
       "            <td>53000</td>\n",
       "            <td>0.1755</td>\n",
       "            <td>0.1755</td>\n",
       "            <td>0.1790</td>\n",
       "            <td>0.1790</td>\n",
       "            <td>0.0035</td>\n",
       "            <td>0.0035</td>\n",
       "            <td>0.0075</td>\n",
       "            <td>0.0075</td>\n",
       "            <td>0.0085</td>\n",
       "            <td>0.0085</td>\n",
       "            <td>0.0010</td>\n",
       "            <td>0.0010</td>\n",
       "        </tr>\n",
       "        \n",
       "        <tr>\n",
       "            <td>54000</td>\n",
       "            <td>0.1620</td>\n",
       "            <td>0.1620</td>\n",
       "            <td>0.1650</td>\n",
       "            <td>0.1650</td>\n",
       "            <td>0.0030</td>\n",
       "            <td>0.0030</td>\n",
       "            <td>0.0095</td>\n",
       "            <td>0.0095</td>\n",
       "            <td>0.0105</td>\n",
       "            <td>0.0105</td>\n",
       "            <td>0.0010</td>\n",
       "            <td>0.0010</td>\n",
       "        </tr>\n",
       "        \n",
       "        <tr>\n",
       "            <td>55000</td>\n",
       "            <td>0.1490</td>\n",
       "            <td>0.1490</td>\n",
       "            <td>0.1515</td>\n",
       "            <td>0.1515</td>\n",
       "            <td>0.0025</td>\n",
       "            <td>0.0025</td>\n",
       "            <td>0.0115</td>\n",
       "            <td>0.0115</td>\n",
       "            <td>0.0125</td>\n",
       "            <td>0.0125</td>\n",
       "            <td>0.0010</td>\n",
       "            <td>0.0010</td>\n",
       "        </tr>\n",
       "        \n",
       "        <tr>\n",
       "            <td>56000</td>\n",
       "            <td>0.1355</td>\n",
       "            <td>0.1355</td>\n",
       "            <td>0.1385</td>\n",
       "            <td>0.1385</td>\n",
       "            <td>0.0030</td>\n",
       "            <td>0.0030</td>\n",
       "            <td>0.0145</td>\n",
       "            <td>0.0145</td>\n",
       "            <td>0.0155</td>\n",
       "            <td>0.0155</td>\n",
       "            <td>0.0010</td>\n",
       "            <td>0.0010</td>\n",
       "        </tr>\n",
       "        \n",
       "        <tr>\n",
       "            <td>57000</td>\n",
       "            <td>0.1235</td>\n",
       "            <td>0.1235</td>\n",
       "            <td>0.1260</td>\n",
       "            <td>0.1260</td>\n",
       "            <td>0.0025</td>\n",
       "            <td>0.0025</td>\n",
       "            <td>0.0175</td>\n",
       "            <td>0.0175</td>\n",
       "            <td>0.0185</td>\n",
       "            <td>0.0185</td>\n",
       "            <td>0.0010</td>\n",
       "            <td>0.0010</td>\n",
       "        </tr>\n",
       "        \n",
       "        <tr>\n",
       "            <td>58000</td>\n",
       "            <td>0.1120</td>\n",
       "            <td>0.1120</td>\n",
       "            <td>0.1140</td>\n",
       "            <td>0.1140</td>\n",
       "            <td>0.0020</td>\n",
       "            <td>0.0020</td>\n",
       "            <td>0.0215</td>\n",
       "            <td>0.0215</td>\n",
       "            <td>0.0225</td>\n",
       "            <td>0.0225</td>\n",
       "            <td>0.0010</td>\n",
       "            <td>0.0010</td>\n",
       "        </tr>\n",
       "        \n",
       "        <tr>\n",
       "            <td>59000</td>\n",
       "            <td>0.1005</td>\n",
       "            <td>0.1005</td>\n",
       "            <td>0.1030</td>\n",
       "            <td>0.1030</td>\n",
       "            <td>0.0025</td>\n",
       "            <td>0.0025</td>\n",
       "            <td>0.0260</td>\n",
       "            <td>0.0260</td>\n",
       "            <td>0.0270</td>\n",
       "            <td>0.0270</td>\n",
       "            <td>0.0010</td>\n",
       "            <td>0.0010</td>\n",
       "        </tr>\n",
       "        \n",
       "        <tr>\n",
       "            <td>60000</td>\n",
       "            <td>0.0905</td>\n",
       "            <td>0.0905</td>\n",
       "            <td>0.0925</td>\n",
       "            <td>0.0925</td>\n",
       "            <td>0.0020</td>\n",
       "            <td>0.0020</td>\n",
       "            <td>0.0310</td>\n",
       "            <td>0.0310</td>\n",
       "            <td>0.0325</td>\n",
       "            <td>0.0325</td>\n",
       "            <td>0.0015</td>\n",
       "            <td>0.0015</td>\n",
       "        </tr>\n",
       "        \n",
       "        <tr>\n",
       "            <td>61000</td>\n",
       "            <td>0.0805</td>\n",
       "            <td>0.0805</td>\n",
       "            <td>0.0825</td>\n",
       "            <td>0.0825</td>\n",
       "            <td>0.0020</td>\n",
       "            <td>0.0020</td>\n",
       "            <td>0.0375</td>\n",
       "            <td>0.0375</td>\n",
       "            <td>0.0385</td>\n",
       "            <td>0.0385</td>\n",
       "            <td>0.0010</td>\n",
       "            <td>0.0010</td>\n",
       "        </tr>\n",
       "        \n",
       "        <tr>\n",
       "            <td>62000</td>\n",
       "            <td>0.0720</td>\n",
       "            <td>0.0720</td>\n",
       "            <td>0.0735</td>\n",
       "            <td>0.0735</td>\n",
       "            <td>0.0015</td>\n",
       "            <td>0.0015</td>\n",
       "            <td>0.0440</td>\n",
       "            <td>0.0440</td>\n",
       "            <td>0.0450</td>\n",
       "            <td>0.0450</td>\n",
       "            <td>0.0010</td>\n",
       "            <td>0.0010</td>\n",
       "        </tr>\n",
       "        \n",
       "        <tr>\n",
       "            <td>63000</td>\n",
       "            <td>0.0640</td>\n",
       "            <td>0.0640</td>\n",
       "            <td>0.0655</td>\n",
       "            <td>0.0655</td>\n",
       "            <td>0.0015</td>\n",
       "            <td>0.0015</td>\n",
       "            <td>0.0515</td>\n",
       "            <td>0.0515</td>\n",
       "            <td>0.0525</td>\n",
       "            <td>0.0525</td>\n",
       "            <td>0.0010</td>\n",
       "            <td>0.0010</td>\n",
       "        </tr>\n",
       "        \n",
       "        <tr>\n",
       "            <td>64000</td>\n",
       "            <td>0.0565</td>\n",
       "            <td>0.0565</td>\n",
       "            <td>0.0580</td>\n",
       "            <td>0.0580</td>\n",
       "            <td>0.0015</td>\n",
       "            <td>0.0015</td>\n",
       "            <td>0.0600</td>\n",
       "            <td>0.0600</td>\n",
       "            <td>0.0615</td>\n",
       "            <td>0.0615</td>\n",
       "            <td>0.0015</td>\n",
       "            <td>0.0015</td>\n",
       "        </tr>\n",
       "        \n",
       "        <tr>\n",
       "            <td>65000</td>\n",
       "            <td>0.0500</td>\n",
       "            <td>0.0500</td>\n",
       "            <td>0.0515</td>\n",
       "            <td>0.0515</td>\n",
       "            <td>0.0015</td>\n",
       "            <td>0.0015</td>\n",
       "            <td>0.0690</td>\n",
       "            <td>0.0690</td>\n",
       "            <td>0.0705</td>\n",
       "            <td>0.0705</td>\n",
       "            <td>0.0015</td>\n",
       "            <td>0.0015</td>\n",
       "        </tr>\n",
       "        \n",
       "        <tr>\n",
       "            <td>66000</td>\n",
       "            <td>0.0440</td>\n",
       "            <td>0.0440</td>\n",
       "            <td>0.0455</td>\n",
       "            <td>0.0455</td>\n",
       "            <td>0.0015</td>\n",
       "            <td>0.0015</td>\n",
       "            <td>0.0785</td>\n",
       "            <td>0.0785</td>\n",
       "            <td>0.0805</td>\n",
       "            <td>0.0805</td>\n",
       "            <td>0.0020</td>\n",
       "            <td>0.0020</td>\n",
       "        </tr>\n",
       "        \n",
       "        <tr>\n",
       "            <td>67000</td>\n",
       "            <td>0.0390</td>\n",
       "            <td>0.0390</td>\n",
       "            <td>0.0400</td>\n",
       "            <td>0.0400</td>\n",
       "            <td>0.0010</td>\n",
       "            <td>0.0010</td>\n",
       "            <td>0.0880</td>\n",
       "            <td>0.0880</td>\n",
       "            <td>0.0925</td>\n",
       "            <td>0.0925</td>\n",
       "            <td>0.0045</td>\n",
       "            <td>0.0045</td>\n",
       "        </tr>\n",
       "        \n",
       "        <tr>\n",
       "            <td>68000</td>\n",
       "            <td>0.0340</td>\n",
       "            <td>0.0340</td>\n",
       "            <td>0.0350</td>\n",
       "            <td>0.0350</td>\n",
       "            <td>0.0010</td>\n",
       "            <td>0.0010</td>\n",
       "            <td>0.0985</td>\n",
       "            <td>0.0985</td>\n",
       "            <td>0.1020</td>\n",
       "            <td>0.1020</td>\n",
       "            <td>0.0035</td>\n",
       "            <td>0.0035</td>\n",
       "        </tr>\n",
       "        \n",
       "        <tr>\n",
       "            <td>70000</td>\n",
       "            <td>0.0260</td>\n",
       "            <td>0.0260</td>\n",
       "            <td>0.0275</td>\n",
       "            <td>0.0275</td>\n",
       "            <td>0.0015</td>\n",
       "            <td>0.0015</td>\n",
       "            <td>0.1225</td>\n",
       "            <td>0.1225</td>\n",
       "            <td>0.1255</td>\n",
       "            <td>0.1255</td>\n",
       "            <td>0.0030</td>\n",
       "            <td>0.0030</td>\n",
       "        </tr>\n",
       "        \n",
       "        <tr>\n",
       "            <td>72000</td>\n",
       "            <td>0.0205</td>\n",
       "            <td>0.0205</td>\n",
       "            <td>0.0215</td>\n",
       "            <td>0.0215</td>\n",
       "            <td>0.0010</td>\n",
       "            <td>0.0010</td>\n",
       "            <td>0.1435</td>\n",
       "            <td>0.1435</td>\n",
       "            <td>0.1535</td>\n",
       "            <td>0.1535</td>\n",
       "            <td>0.0100</td>\n",
       "            <td>0.0100</td>\n",
       "        </tr>\n",
       "        \n",
       "        <tr>\n",
       "            <td>74000</td>\n",
       "            <td>0.0155</td>\n",
       "            <td>0.0155</td>\n",
       "            <td>0.0165</td>\n",
       "            <td>0.0165</td>\n",
       "            <td>0.0010</td>\n",
       "            <td>0.0010</td>\n",
       "            <td>0.1690</td>\n",
       "            <td>0.1690</td>\n",
       "            <td>0.1845</td>\n",
       "            <td>0.1845</td>\n",
       "            <td>0.0155</td>\n",
       "            <td>0.0155</td>\n",
       "        </tr>\n",
       "        \n",
       "        <tr>\n",
       "            <td>76000</td>\n",
       "            <td>0.0120</td>\n",
       "            <td>0.0120</td>\n",
       "            <td>0.0130</td>\n",
       "            <td>0.0130</td>\n",
       "            <td>0.0010</td>\n",
       "            <td>0.0010</td>\n",
       "            <td>0.0001</td>\n",
       "            <td><span style=\"color: red; font-weight: bold;\">0.1690</span></td>\n",
       "            <td>15.0000</td>\n",
       "            <td><span style=\"color: red; font-weight: bold;\">0.2161</span></td>\n",
       "            <td>14.9999</td>\n",
       "            <td><span style=\"color: red; font-weight: bold;\">0.0471</span></td>\n",
       "        </tr>\n",
       "        \n",
       "    </tbody>\n",
       "    </table>\n",
       "    "
      ],
      "text/plain": [
       "<IPython.core.display.HTML object>"
      ]
     },
     "metadata": {},
     "output_type": "display_data"
    }
   ],
   "source": [
    "# reuse the DeribitMDManager to process the option chain and get the tightening bid-ask spread for backing out the IV\n",
    "my_expiry = '15MAR24'\n",
    "assert my_expiry in df_snapshot_md['expiry'].unique().to_list()\n",
    "\n",
    "df_option_chain =\\\n",
    "DeribitMDManager.get_option_chain(df_snapshot_md.with_columns(\n",
    "    is_call = pl.col('option_type') == 'C',\n",
    "    is_put = pl.col('option_type') == 'P',\n",
    "    bid_price_fut = pl.col('F'),\n",
    "    ask_price_fut = pl.col('F'),\n",
    "), my_expiry, snapshot_time)\n",
    "\n",
    "tightened_option_chain = tighten_option_spread(df_option_chain)\n",
    "\n",
    "print(f\"Comparison of old bid/ask proces and the tightened bid/ask price\")\n",
    "\n",
    "# Generate HTML table using external module\n",
    "display(HTML(generate_price_comparison_table(tightened_option_chain, table_width=\"70%\", font_size=\"10px\")))"
   ]
  },
  {
   "cell_type": "code",
   "execution_count": 8,
   "id": "e42ad86a",
   "metadata": {},
   "outputs": [
    {
     "data": {
      "text/html": [
       "<div><style>\n",
       ".dataframe > thead > tr,\n",
       ".dataframe > tbody > tr {\n",
       "  text-align: right;\n",
       "  white-space: pre-wrap;\n",
       "}\n",
       "</style>\n",
       "<small>shape: (9, 23)</small><table border=\"1\" class=\"dataframe\"><thead><tr><th>timestamp</th><th>bq0_C</th><th>bp0_C</th><th>bp0_C_usd</th><th>ap0_C_usd</th><th>ap0_C</th><th>aq0_C</th><th>strike</th><th>bq0_P</th><th>bp0_P</th><th>bp0_P_usd</th><th>ap0_P_usd</th><th>ap0_P</th><th>aq0_P</th><th>S</th><th>F</th><th>expiry</th><th>tau</th><th>r</th><th>bidVola_C</th><th>askVola_C</th><th>bidVola_P</th><th>askVola_P</th></tr><tr><td>datetime[ns]</td><td>f64</td><td>f64</td><td>f64</td><td>f64</td><td>f64</td><td>f64</td><td>i64</td><td>f64</td><td>f64</td><td>f64</td><td>f64</td><td>f64</td><td>f64</td><td>f64</td><td>f64</td><td>str</td><td>f64</td><td>f64</td><td>f64</td><td>f64</td><td>f64</td><td>f64</td></tr></thead><tbody><tr><td>2024-02-29 14:12:00</td><td>33.4</td><td>0.3355</td><td>21207.13</td><td>21816.5</td><td>0.34514</td><td>33.3</td><td>42000</td><td>11.7</td><td>0.0011</td><td>69.53</td><td>88.49</td><td>0.0014</td><td>6.6</td><td>63210.53</td><td>63801.13</td><td>&quot;15MAR24&quot;</td><td>0.040388</td><td>0.19</td><td>2.36</td><td>117.099485</td><td>99.85926</td><td>103.60369</td></tr><tr><td>2024-02-29 14:12:00</td><td>13.3</td><td>0.31</td><td>19595.26</td><td>19816.5</td><td>0.3135</td><td>6.4</td><td>44000</td><td>32.7</td><td>0.0015</td><td>94.82</td><td>120.1</td><td>0.0019</td><td>15.0</td><td>63210.53</td><td>63801.13</td><td>&quot;15MAR24&quot;</td><td>0.040388</td><td>0.19</td><td>2.36</td><td>104.182834</td><td>94.497062</td><td>98.288882</td></tr><tr><td>2024-02-29 14:12:00</td><td>11.0</td><td>0.2945</td><td>18615.5</td><td>18836.74</td><td>0.298</td><td>6.4</td><td>45000</td><td>26.7</td><td>0.0018</td><td>113.78</td><td>139.06</td><td>0.0022</td><td>14.7</td><td>63210.53</td><td>63801.13</td><td>&quot;15MAR24&quot;</td><td>0.040388</td><td>0.19</td><td>2.36</td><td>100.169591</td><td>92.291621</td><td>95.584157</td></tr><tr><td>2024-02-29 14:12:00</td><td>13.7</td><td>0.279</td><td>17635.74</td><td>17856.97</td><td>0.2825</td><td>5.0</td><td>46000</td><td>20.4</td><td>0.0022</td><td>139.06</td><td>158.03</td><td>0.0025</td><td>8.0</td><td>63210.53</td><td>63801.13</td><td>&quot;15MAR24&quot;</td><td>0.040388</td><td>0.19</td><td>2.36</td><td>96.084378</td><td>90.434249</td><td>92.584475</td></tr><tr><td>2024-02-29 14:12:00</td><td>12.2</td><td>0.264</td><td>16687.58</td><td>16908.82</td><td>0.2675</td><td>6.3</td><td>47000</td><td>26.8</td><td>0.0025</td><td>158.03</td><td>183.31</td><td>0.0029</td><td>8.0</td><td>63210.53</td><td>63801.13</td><td>&quot;15MAR24&quot;</td><td>0.040388</td><td>0.19</td><td>61.629651</td><td>94.687499</td><td>87.425918</td><td>89.959556</td></tr><tr><td>2024-02-29 14:12:00</td><td>11.9</td><td>0.2485</td><td>15707.82</td><td>15960.66</td><td>0.2525</td><td>6.3</td><td>48000</td><td>24.8</td><td>0.003</td><td>189.63</td><td>214.92</td><td>0.0034</td><td>8.0</td><td>63210.53</td><td>63801.13</td><td>&quot;15MAR24&quot;</td><td>0.040388</td><td>0.19</td><td>62.38205</td><td>92.676512</td><td>85.344122</td><td>87.549448</td></tr><tr><td>2024-02-29 14:12:00</td><td>1.0</td><td>0.2345</td><td>14822.87</td><td>15012.5</td><td>0.2375</td><td>6.3</td><td>49000</td><td>22.2</td><td>0.0036</td><td>227.56</td><td>252.84</td><td>0.004</td><td>8.0</td><td>63210.53</td><td>63801.13</td><td>&quot;15MAR24&quot;</td><td>0.040388</td><td>0.19</td><td>75.032554</td><td>90.194591</td><td>83.309383</td><td>85.230717</td></tr><tr><td>2024-02-29 14:12:00</td><td>12.7</td><td>0.219</td><td>13843.11</td><td>14064.34</td><td>0.2225</td><td>5.0</td><td>50000</td><td>11.0</td><td>0.0043</td><td>271.81</td><td>303.41</td><td>0.0048</td><td>13.0</td><td>63210.53</td><td>63801.13</td><td>&quot;15MAR24&quot;</td><td>0.040388</td><td>0.19</td><td>71.420602</td><td>87.333093</td><td>81.235889</td><td>83.327163</td></tr><tr><td>2024-02-29 14:12:00</td><td>15.9</td><td>0.204</td><td>12894.95</td><td>13116.18</td><td>0.2075</td><td>5.0</td><td>51000</td><td>68.4</td><td>0.005</td><td>316.05</td><td>379.26</td><td>0.006</td><td>74.3</td><td>63210.53</td><td>63801.13</td><td>&quot;15MAR24&quot;</td><td>0.040388</td><td>0.19</td><td>70.263513</td><td>84.153474</td><td>78.688487</td><td>82.330798</td></tr></tbody></table></div>"
      ],
      "text/plain": [
       "shape: (9, 23)\n",
       "┌────────────────┬───────┬────────┬───────────┬───┬───────────┬────────────┬───────────┬───────────┐\n",
       "│ timestamp      ┆ bq0_C ┆ bp0_C  ┆ bp0_C_usd ┆ … ┆ bidVola_C ┆ askVola_C  ┆ bidVola_P ┆ askVola_P │\n",
       "│ ---            ┆ ---   ┆ ---    ┆ ---       ┆   ┆ ---       ┆ ---        ┆ ---       ┆ ---       │\n",
       "│ datetime[ns]   ┆ f64   ┆ f64    ┆ f64       ┆   ┆ f64       ┆ f64        ┆ f64       ┆ f64       │\n",
       "╞════════════════╪═══════╪════════╪═══════════╪═══╪═══════════╪════════════╪═══════════╪═══════════╡\n",
       "│ 2024-02-29     ┆ 33.4  ┆ 0.3355 ┆ 21207.13  ┆ … ┆ 2.36      ┆ 117.099485 ┆ 99.85926  ┆ 103.60369 │\n",
       "│ 14:12:00       ┆       ┆        ┆           ┆   ┆           ┆            ┆           ┆           │\n",
       "│ 2024-02-29     ┆ 13.3  ┆ 0.31   ┆ 19595.26  ┆ … ┆ 2.36      ┆ 104.182834 ┆ 94.497062 ┆ 98.288882 │\n",
       "│ 14:12:00       ┆       ┆        ┆           ┆   ┆           ┆            ┆           ┆           │\n",
       "│ 2024-02-29     ┆ 11.0  ┆ 0.2945 ┆ 18615.5   ┆ … ┆ 2.36      ┆ 100.169591 ┆ 92.291621 ┆ 95.584157 │\n",
       "│ 14:12:00       ┆       ┆        ┆           ┆   ┆           ┆            ┆           ┆           │\n",
       "│ 2024-02-29     ┆ 13.7  ┆ 0.279  ┆ 17635.74  ┆ … ┆ 2.36      ┆ 96.084378  ┆ 90.434249 ┆ 92.584475 │\n",
       "│ 14:12:00       ┆       ┆        ┆           ┆   ┆           ┆            ┆           ┆           │\n",
       "│ 2024-02-29     ┆ 12.2  ┆ 0.264  ┆ 16687.58  ┆ … ┆ 61.629651 ┆ 94.687499  ┆ 87.425918 ┆ 89.959556 │\n",
       "│ 14:12:00       ┆       ┆        ┆           ┆   ┆           ┆            ┆           ┆           │\n",
       "│ 2024-02-29     ┆ 11.9  ┆ 0.2485 ┆ 15707.82  ┆ … ┆ 62.38205  ┆ 92.676512  ┆ 85.344122 ┆ 87.549448 │\n",
       "│ 14:12:00       ┆       ┆        ┆           ┆   ┆           ┆            ┆           ┆           │\n",
       "│ 2024-02-29     ┆ 1.0   ┆ 0.2345 ┆ 14822.87  ┆ … ┆ 75.032554 ┆ 90.194591  ┆ 83.309383 ┆ 85.230717 │\n",
       "│ 14:12:00       ┆       ┆        ┆           ┆   ┆           ┆            ┆           ┆           │\n",
       "│ 2024-02-29     ┆ 12.7  ┆ 0.219  ┆ 13843.11  ┆ … ┆ 71.420602 ┆ 87.333093  ┆ 81.235889 ┆ 83.327163 │\n",
       "│ 14:12:00       ┆       ┆        ┆           ┆   ┆           ┆            ┆           ┆           │\n",
       "│ 2024-02-29     ┆ 15.9  ┆ 0.204  ┆ 12894.95  ┆ … ┆ 70.263513 ┆ 84.153474  ┆ 78.688487 ┆ 82.330798 │\n",
       "│ 14:12:00       ┆       ┆        ┆           ┆   ┆           ┆            ┆           ┆           │\n",
       "└────────────────┴───────┴────────┴───────────┴───┴───────────┴────────────┴───────────┴───────────┘"
      ]
     },
     "execution_count": 8,
     "metadata": {},
     "output_type": "execute_result"
    }
   ],
   "source": [
    "# Calculate volatilities using new module\n",
    "df_option_with_vola = process_option_chain_with_volatilities(tightened_option_chain, interest_rate=0.19)\n",
    "df_option_with_vola.head(9)"
   ]
  },
  {
   "cell_type": "code",
   "execution_count": 9,
   "id": "15a96219",
   "metadata": {},
   "outputs": [
    {
     "data": {
      "application/vnd.plotly.v1+json": {
       "config": {
        "plotlyServerURL": "https://plot.ly"
       },
       "data": [
        {
         "error_y": {
          "array": {
           "bdata": "Fm+zt1OvTECX2/FOqXRJQNaruVjQc0hAyi2oM1xuR0C8E6iSZ4cwQAoDxNBhSy5AMHnLfPZSHkDQo/gBMtMfQBjQEAupxxtAAL0PQ4meF0BI7ssyqxAUQPDklC1d1g1AsE3Du1nRBUCAl6D34YsHQLAFwoP2qQFA4PncuXTW+T9ABTlGNPX9P4AYKsJFfvY/wDK1Xg1t9T9ARcnuU/zuP0DteNIURe4/AMO/Aqjt7T9AXcsEkOztP4DObep9Pe4/AHHD8fiP5D/AUTnUkyzlP+CpVHsfMvE/AIxi5jtY6T+ALSm4WsfsP8BFMAlkd/A/",
           "dtype": "f8"
          },
          "color": "blue",
          "type": "data",
          "visible": true
         },
         "marker": {
          "color": "blue",
          "symbol": "circle"
         },
         "mode": "markers",
         "name": "Call IV (Bid/Ask Error Bar)",
         "type": "scatter",
         "x": {
          "bdata": "EKQAAOCrAADIrwAAsLMAAJi3AACAuwAAaL8AAFDDAAA4xwAAIMsAAAjPAADw0gAA2NYAAMDaAACo3gAAkOIAAHjmAABg6gAASO4AADDyAAAY9gAAAPoAAOj9AADQAQEAuAUBAKAJAQBwEQEAQBkBABAhAQDgKAEA",
          "dtype": "i4"
         },
         "y": {
          "bdata": "xLaUMmjdTUBFI9PJvaJKQITzmtPkoUlAeHWJrnCcSEB1/ZkYJopTQAj43r3fYVNAXQxGxkSnVECzxJRGHthTQMy8dPRXTVNAYklChXETU0AYFq6r9QJTQMTRJ6oj31JAPpVZnjnIUkCRgQ9DEHVSQMhTKr8/Z1JAXtrpaHBSUkBxlb1QnTRSQPa+8oBMOlJAL328UjQbUkA84WVvTC1SQFbbJfmDQ1JAclVhBuJKUkD6fEZQJG1SQO6cxuiuhFJACO4dl5qoUkAuh2cU07JSQORzfnORBlNAXPgELO16U0ChSXOCwrFTQOzPB2ykF1RA",
          "dtype": "f8"
         }
        },
        {
         "error_y": {
          "array": {
           "bdata": "gH2H35f0/T+AINizpVX+P2BBtwQdV/o/wJLXb6kz8T8gqqj840T0P+CWTKKBpPE/wPzkkMm97j9A8sKd7brwP0B/fKNzI/0/wI9ueNG4+T+ALxrMd2r2P2AIBfWEkPM/4JFdxiF68T9AFCjJohPvP8D7iXV+Puw/gPnVrmnR6T/Aaz0DnfLnP4B6HSN63/A/wGRj8JNp5T/Admy8Z6jkP4B1fbbPLeQ/wJc36+bt7T8AkCFXU+ztP0CaC2HQJ/Q/UNqzw/ccB0Dw5bI4z4kCQJDdFOiFNAFAyF/Q5IIqIEBwXZ3NCSYsQBxNmmnoVklA",
           "dtype": "f8"
          },
          "color": "orange",
          "type": "data",
          "visible": true
         },
         "marker": {
          "color": "orange",
          "symbol": "circle"
         },
         "mode": "markers",
         "name": "Put IV (Bid/Ask Error Bar)",
         "type": "scatter",
         "x": {
          "bdata": "EKQAAOCrAADIrwAAsLMAAJi3AACAuwAAaL8AAFDDAAA4xwAAIMsAAAjPAADw0gAA2NYAAMDaAACo3gAAkOIAAHjmAABg6gAASO4AADDyAAAY9gAAAPoAAOj9AADQAQEAuAUBAKAJAQBwEQEAQBkBABAhAQDgKAEA",
          "dtype": "i4"
         },
         "y": {
          "bdata": "luble9BuWUD/jr5zJhlYQBTyFGEGfFdAY59FY5ngVkDWDlzOVSxWQOYjuyCYnFVAdCv8f0gRVUBsBpOFBJJUQCgSVvydIFRA3RtStAyYU0Ax01xmBEtTQJKG6MzMH1NAAKJAfLa/UkCWkjCIhrJSQMIHiyzLalJAK4b3sltaUkB0N+5s2kBSQHjYfCGZM1JAEnMZs/5DUkC6HKBoei9SQENmdGCPNVJAqrSLrQtpUkBfzEilZntSQOjM0E8tl1JA1kx2id3TUkBAKnnEIqRSQJTk04jb/1JA43fJLobtUkDIe21sTrRTQBxNmmno1klA",
          "dtype": "f8"
         }
        }
       ],
       "layout": {
        "legend": {
         "title": {
          "text": "Legend"
         }
        },
        "shapes": [
         {
          "line": {
           "color": "green",
           "dash": "dash"
          },
          "name": "Spot Price (S)",
          "type": "line",
          "x0": 63210.53,
          "x1": 63210.53,
          "xref": "x",
          "y0": 0,
          "y1": 1,
          "yref": "y domain"
         }
        ],
        "template": {
         "data": {
          "bar": [
           {
            "error_x": {
             "color": "#2a3f5f"
            },
            "error_y": {
             "color": "#2a3f5f"
            },
            "marker": {
             "line": {
              "color": "white",
              "width": 0.5
             },
             "pattern": {
              "fillmode": "overlay",
              "size": 10,
              "solidity": 0.2
             }
            },
            "type": "bar"
           }
          ],
          "barpolar": [
           {
            "marker": {
             "line": {
              "color": "white",
              "width": 0.5
             },
             "pattern": {
              "fillmode": "overlay",
              "size": 10,
              "solidity": 0.2
             }
            },
            "type": "barpolar"
           }
          ],
          "carpet": [
           {
            "aaxis": {
             "endlinecolor": "#2a3f5f",
             "gridcolor": "#C8D4E3",
             "linecolor": "#C8D4E3",
             "minorgridcolor": "#C8D4E3",
             "startlinecolor": "#2a3f5f"
            },
            "baxis": {
             "endlinecolor": "#2a3f5f",
             "gridcolor": "#C8D4E3",
             "linecolor": "#C8D4E3",
             "minorgridcolor": "#C8D4E3",
             "startlinecolor": "#2a3f5f"
            },
            "type": "carpet"
           }
          ],
          "choropleth": [
           {
            "colorbar": {
             "outlinewidth": 0,
             "ticks": ""
            },
            "type": "choropleth"
           }
          ],
          "contour": [
           {
            "colorbar": {
             "outlinewidth": 0,
             "ticks": ""
            },
            "colorscale": [
             [
              0,
              "#0d0887"
             ],
             [
              0.1111111111111111,
              "#46039f"
             ],
             [
              0.2222222222222222,
              "#7201a8"
             ],
             [
              0.3333333333333333,
              "#9c179e"
             ],
             [
              0.4444444444444444,
              "#bd3786"
             ],
             [
              0.5555555555555556,
              "#d8576b"
             ],
             [
              0.6666666666666666,
              "#ed7953"
             ],
             [
              0.7777777777777778,
              "#fb9f3a"
             ],
             [
              0.8888888888888888,
              "#fdca26"
             ],
             [
              1,
              "#f0f921"
             ]
            ],
            "type": "contour"
           }
          ],
          "contourcarpet": [
           {
            "colorbar": {
             "outlinewidth": 0,
             "ticks": ""
            },
            "type": "contourcarpet"
           }
          ],
          "heatmap": [
           {
            "colorbar": {
             "outlinewidth": 0,
             "ticks": ""
            },
            "colorscale": [
             [
              0,
              "#0d0887"
             ],
             [
              0.1111111111111111,
              "#46039f"
             ],
             [
              0.2222222222222222,
              "#7201a8"
             ],
             [
              0.3333333333333333,
              "#9c179e"
             ],
             [
              0.4444444444444444,
              "#bd3786"
             ],
             [
              0.5555555555555556,
              "#d8576b"
             ],
             [
              0.6666666666666666,
              "#ed7953"
             ],
             [
              0.7777777777777778,
              "#fb9f3a"
             ],
             [
              0.8888888888888888,
              "#fdca26"
             ],
             [
              1,
              "#f0f921"
             ]
            ],
            "type": "heatmap"
           }
          ],
          "histogram": [
           {
            "marker": {
             "pattern": {
              "fillmode": "overlay",
              "size": 10,
              "solidity": 0.2
             }
            },
            "type": "histogram"
           }
          ],
          "histogram2d": [
           {
            "colorbar": {
             "outlinewidth": 0,
             "ticks": ""
            },
            "colorscale": [
             [
              0,
              "#0d0887"
             ],
             [
              0.1111111111111111,
              "#46039f"
             ],
             [
              0.2222222222222222,
              "#7201a8"
             ],
             [
              0.3333333333333333,
              "#9c179e"
             ],
             [
              0.4444444444444444,
              "#bd3786"
             ],
             [
              0.5555555555555556,
              "#d8576b"
             ],
             [
              0.6666666666666666,
              "#ed7953"
             ],
             [
              0.7777777777777778,
              "#fb9f3a"
             ],
             [
              0.8888888888888888,
              "#fdca26"
             ],
             [
              1,
              "#f0f921"
             ]
            ],
            "type": "histogram2d"
           }
          ],
          "histogram2dcontour": [
           {
            "colorbar": {
             "outlinewidth": 0,
             "ticks": ""
            },
            "colorscale": [
             [
              0,
              "#0d0887"
             ],
             [
              0.1111111111111111,
              "#46039f"
             ],
             [
              0.2222222222222222,
              "#7201a8"
             ],
             [
              0.3333333333333333,
              "#9c179e"
             ],
             [
              0.4444444444444444,
              "#bd3786"
             ],
             [
              0.5555555555555556,
              "#d8576b"
             ],
             [
              0.6666666666666666,
              "#ed7953"
             ],
             [
              0.7777777777777778,
              "#fb9f3a"
             ],
             [
              0.8888888888888888,
              "#fdca26"
             ],
             [
              1,
              "#f0f921"
             ]
            ],
            "type": "histogram2dcontour"
           }
          ],
          "mesh3d": [
           {
            "colorbar": {
             "outlinewidth": 0,
             "ticks": ""
            },
            "type": "mesh3d"
           }
          ],
          "parcoords": [
           {
            "line": {
             "colorbar": {
              "outlinewidth": 0,
              "ticks": ""
             }
            },
            "type": "parcoords"
           }
          ],
          "pie": [
           {
            "automargin": true,
            "type": "pie"
           }
          ],
          "scatter": [
           {
            "fillpattern": {
             "fillmode": "overlay",
             "size": 10,
             "solidity": 0.2
            },
            "type": "scatter"
           }
          ],
          "scatter3d": [
           {
            "line": {
             "colorbar": {
              "outlinewidth": 0,
              "ticks": ""
             }
            },
            "marker": {
             "colorbar": {
              "outlinewidth": 0,
              "ticks": ""
             }
            },
            "type": "scatter3d"
           }
          ],
          "scattercarpet": [
           {
            "marker": {
             "colorbar": {
              "outlinewidth": 0,
              "ticks": ""
             }
            },
            "type": "scattercarpet"
           }
          ],
          "scattergeo": [
           {
            "marker": {
             "colorbar": {
              "outlinewidth": 0,
              "ticks": ""
             }
            },
            "type": "scattergeo"
           }
          ],
          "scattergl": [
           {
            "marker": {
             "colorbar": {
              "outlinewidth": 0,
              "ticks": ""
             }
            },
            "type": "scattergl"
           }
          ],
          "scattermap": [
           {
            "marker": {
             "colorbar": {
              "outlinewidth": 0,
              "ticks": ""
             }
            },
            "type": "scattermap"
           }
          ],
          "scattermapbox": [
           {
            "marker": {
             "colorbar": {
              "outlinewidth": 0,
              "ticks": ""
             }
            },
            "type": "scattermapbox"
           }
          ],
          "scatterpolar": [
           {
            "marker": {
             "colorbar": {
              "outlinewidth": 0,
              "ticks": ""
             }
            },
            "type": "scatterpolar"
           }
          ],
          "scatterpolargl": [
           {
            "marker": {
             "colorbar": {
              "outlinewidth": 0,
              "ticks": ""
             }
            },
            "type": "scatterpolargl"
           }
          ],
          "scatterternary": [
           {
            "marker": {
             "colorbar": {
              "outlinewidth": 0,
              "ticks": ""
             }
            },
            "type": "scatterternary"
           }
          ],
          "surface": [
           {
            "colorbar": {
             "outlinewidth": 0,
             "ticks": ""
            },
            "colorscale": [
             [
              0,
              "#0d0887"
             ],
             [
              0.1111111111111111,
              "#46039f"
             ],
             [
              0.2222222222222222,
              "#7201a8"
             ],
             [
              0.3333333333333333,
              "#9c179e"
             ],
             [
              0.4444444444444444,
              "#bd3786"
             ],
             [
              0.5555555555555556,
              "#d8576b"
             ],
             [
              0.6666666666666666,
              "#ed7953"
             ],
             [
              0.7777777777777778,
              "#fb9f3a"
             ],
             [
              0.8888888888888888,
              "#fdca26"
             ],
             [
              1,
              "#f0f921"
             ]
            ],
            "type": "surface"
           }
          ],
          "table": [
           {
            "cells": {
             "fill": {
              "color": "#EBF0F8"
             },
             "line": {
              "color": "white"
             }
            },
            "header": {
             "fill": {
              "color": "#C8D4E3"
             },
             "line": {
              "color": "white"
             }
            },
            "type": "table"
           }
          ]
         },
         "layout": {
          "annotationdefaults": {
           "arrowcolor": "#2a3f5f",
           "arrowhead": 0,
           "arrowwidth": 1
          },
          "autotypenumbers": "strict",
          "coloraxis": {
           "colorbar": {
            "outlinewidth": 0,
            "ticks": ""
           }
          },
          "colorscale": {
           "diverging": [
            [
             0,
             "#8e0152"
            ],
            [
             0.1,
             "#c51b7d"
            ],
            [
             0.2,
             "#de77ae"
            ],
            [
             0.3,
             "#f1b6da"
            ],
            [
             0.4,
             "#fde0ef"
            ],
            [
             0.5,
             "#f7f7f7"
            ],
            [
             0.6,
             "#e6f5d0"
            ],
            [
             0.7,
             "#b8e186"
            ],
            [
             0.8,
             "#7fbc41"
            ],
            [
             0.9,
             "#4d9221"
            ],
            [
             1,
             "#276419"
            ]
           ],
           "sequential": [
            [
             0,
             "#0d0887"
            ],
            [
             0.1111111111111111,
             "#46039f"
            ],
            [
             0.2222222222222222,
             "#7201a8"
            ],
            [
             0.3333333333333333,
             "#9c179e"
            ],
            [
             0.4444444444444444,
             "#bd3786"
            ],
            [
             0.5555555555555556,
             "#d8576b"
            ],
            [
             0.6666666666666666,
             "#ed7953"
            ],
            [
             0.7777777777777778,
             "#fb9f3a"
            ],
            [
             0.8888888888888888,
             "#fdca26"
            ],
            [
             1,
             "#f0f921"
            ]
           ],
           "sequentialminus": [
            [
             0,
             "#0d0887"
            ],
            [
             0.1111111111111111,
             "#46039f"
            ],
            [
             0.2222222222222222,
             "#7201a8"
            ],
            [
             0.3333333333333333,
             "#9c179e"
            ],
            [
             0.4444444444444444,
             "#bd3786"
            ],
            [
             0.5555555555555556,
             "#d8576b"
            ],
            [
             0.6666666666666666,
             "#ed7953"
            ],
            [
             0.7777777777777778,
             "#fb9f3a"
            ],
            [
             0.8888888888888888,
             "#fdca26"
            ],
            [
             1,
             "#f0f921"
            ]
           ]
          },
          "colorway": [
           "#636efa",
           "#EF553B",
           "#00cc96",
           "#ab63fa",
           "#FFA15A",
           "#19d3f3",
           "#FF6692",
           "#B6E880",
           "#FF97FF",
           "#FECB52"
          ],
          "font": {
           "color": "#2a3f5f"
          },
          "geo": {
           "bgcolor": "white",
           "lakecolor": "white",
           "landcolor": "white",
           "showlakes": true,
           "showland": true,
           "subunitcolor": "#C8D4E3"
          },
          "hoverlabel": {
           "align": "left"
          },
          "hovermode": "closest",
          "mapbox": {
           "style": "light"
          },
          "paper_bgcolor": "white",
          "plot_bgcolor": "white",
          "polar": {
           "angularaxis": {
            "gridcolor": "#EBF0F8",
            "linecolor": "#EBF0F8",
            "ticks": ""
           },
           "bgcolor": "white",
           "radialaxis": {
            "gridcolor": "#EBF0F8",
            "linecolor": "#EBF0F8",
            "ticks": ""
           }
          },
          "scene": {
           "xaxis": {
            "backgroundcolor": "white",
            "gridcolor": "#DFE8F3",
            "gridwidth": 2,
            "linecolor": "#EBF0F8",
            "showbackground": true,
            "ticks": "",
            "zerolinecolor": "#EBF0F8"
           },
           "yaxis": {
            "backgroundcolor": "white",
            "gridcolor": "#DFE8F3",
            "gridwidth": 2,
            "linecolor": "#EBF0F8",
            "showbackground": true,
            "ticks": "",
            "zerolinecolor": "#EBF0F8"
           },
           "zaxis": {
            "backgroundcolor": "white",
            "gridcolor": "#DFE8F3",
            "gridwidth": 2,
            "linecolor": "#EBF0F8",
            "showbackground": true,
            "ticks": "",
            "zerolinecolor": "#EBF0F8"
           }
          },
          "shapedefaults": {
           "line": {
            "color": "#2a3f5f"
           }
          },
          "ternary": {
           "aaxis": {
            "gridcolor": "#DFE8F3",
            "linecolor": "#A2B1C6",
            "ticks": ""
           },
           "baxis": {
            "gridcolor": "#DFE8F3",
            "linecolor": "#A2B1C6",
            "ticks": ""
           },
           "bgcolor": "white",
           "caxis": {
            "gridcolor": "#DFE8F3",
            "linecolor": "#A2B1C6",
            "ticks": ""
           }
          },
          "title": {
           "x": 0.05
          },
          "xaxis": {
           "automargin": true,
           "gridcolor": "#EBF0F8",
           "linecolor": "#EBF0F8",
           "ticks": "",
           "title": {
            "standoff": 15
           },
           "zerolinecolor": "#EBF0F8",
           "zerolinewidth": 2
          },
          "yaxis": {
           "automargin": true,
           "gridcolor": "#EBF0F8",
           "linecolor": "#EBF0F8",
           "ticks": "",
           "title": {
            "standoff": 15
           },
           "zerolinecolor": "#EBF0F8",
           "zerolinewidth": 2
          }
         }
        },
        "title": {
         "text": "2024-02-29 14:12: IV on DERIBIT BTC option for Expiry 15MAR24"
        },
        "xaxis": {
         "title": {
          "text": "Strike Price"
         }
        },
        "yaxis": {
         "title": {
          "text": "Implied Volatility (%)"
         }
        }
       }
      }
     },
     "metadata": {},
     "output_type": "display_data"
    }
   ],
   "source": [
    "fig = go.Figure()\n",
    "# Plot with error bars for bid/ask implied volatility\n",
    "fig.add_trace(go.Scatter(\n",
    "    x=df_option_with_vola['strike'],\n",
    "    y=(df_option_with_vola['bidVola_C']+df_option_with_vola['askVola_C'])/2,\n",
    "    error_y=dict(\n",
    "        type='data',\n",
    "        array=(df_option_with_vola['askVola_C'] - df_option_with_vola['bidVola_C']).abs()/2,\n",
    "        visible=True,\n",
    "        color='blue'\n",
    "    ),\n",
    "    mode='markers',\n",
    "    name='Call IV (Bid/Ask Error Bar)',\n",
    "    marker=dict(color='blue', symbol='circle')\n",
    "))\n",
    "fig.add_trace(go.Scatter(\n",
    "    x=df_option_with_vola['strike'],\n",
    "    y=(df_option_with_vola['bidVola_P']+df_option_with_vola['askVola_P'])/2,\n",
    "    error_y=dict(\n",
    "        type='data',\n",
    "        array=(df_option_with_vola['askVola_P'] - df_option_with_vola['bidVola_P']).abs()/2,\n",
    "        visible=True,\n",
    "        color='orange'\n",
    "    ),\n",
    "    mode='markers',\n",
    "    name='Put IV (Bid/Ask Error Bar)',\n",
    "    marker=dict(color='orange', symbol='circle')\n",
    "))\n",
    "\n",
    "# fig.add_trace(go.Scatter(x=df_option_with_vola['strike'], y=df_option_with_vola['bidVola_P'], mode='markers', name='Put Bid Vola', marker=dict(color='orange', symbol='triangle-up'))) \n",
    "# fig.add_trace(go.Scatter(x=df_option_with_vola['strike'], y=df_option_with_vola['askVola_P'], mode='markers', name='Put Ask Vola', marker=dict(color='orange', symbol='triangle-down')))\n",
    "\n",
    "fig.add_vline(x=df_option_with_vola['S'][0], line=dict(color='green', dash='dash'), name='Spot Price (S)')\n",
    "\n",
    "fig.update_layout(\n",
    "    title=f\"{snapshot_time.strftime('%Y-%m-%d %H:%M')}: IV on DERIBIT BTC option for Expiry {my_expiry}\",\n",
    "    xaxis_title=\"Strike Price\",\n",
    "    yaxis_title=\"Implied Volatility (%)\",\n",
    "    legend_title=\"Legend\",\n",
    "    template=\"plotly_white\"\n",
    ")\n",
    "fig.show()"
   ]
  },
  {
   "cell_type": "code",
   "execution_count": 10,
   "id": "2646db69",
   "metadata": {},
   "outputs": [
    {
     "data": {
      "text/html": [
       "<div><style>\n",
       ".dataframe > thead > tr,\n",
       ".dataframe > tbody > tr {\n",
       "  text-align: right;\n",
       "  white-space: pre-wrap;\n",
       "}\n",
       "</style>\n",
       "<small>shape: (5, 23)</small><table border=\"1\" class=\"dataframe\"><thead><tr><th>timestamp</th><th>bq0_C</th><th>bp0_C</th><th>bp0_C_usd</th><th>ap0_C_usd</th><th>ap0_C</th><th>aq0_C</th><th>strike</th><th>bq0_P</th><th>bp0_P</th><th>bp0_P_usd</th><th>ap0_P_usd</th><th>ap0_P</th><th>aq0_P</th><th>S</th><th>F</th><th>expiry</th><th>tau</th><th>r</th><th>bidVola_C</th><th>askVola_C</th><th>bidVola_P</th><th>askVola_P</th></tr><tr><td>datetime[ns]</td><td>f64</td><td>f64</td><td>f64</td><td>f64</td><td>f64</td><td>f64</td><td>i64</td><td>f64</td><td>f64</td><td>f64</td><td>f64</td><td>f64</td><td>f64</td><td>f64</td><td>f64</td><td>str</td><td>f64</td><td>f64</td><td>f64</td><td>f64</td><td>f64</td><td>f64</td></tr></thead><tbody><tr><td>2024-02-29 14:12:00</td><td>33.4</td><td>0.3355</td><td>21207.13</td><td>21816.5</td><td>0.34514</td><td>33.3</td><td>42000</td><td>11.7</td><td>0.0011</td><td>69.53</td><td>88.49</td><td>0.0014</td><td>6.6</td><td>63210.53</td><td>63801.13</td><td>&quot;15MAR24&quot;</td><td>0.040388</td><td>0.19</td><td>2.36</td><td>117.099485</td><td>99.85926</td><td>103.60369</td></tr><tr><td>2024-02-29 14:12:00</td><td>13.3</td><td>0.31</td><td>19595.26</td><td>19816.5</td><td>0.3135</td><td>6.4</td><td>44000</td><td>32.7</td><td>0.0015</td><td>94.82</td><td>120.1</td><td>0.0019</td><td>15.0</td><td>63210.53</td><td>63801.13</td><td>&quot;15MAR24&quot;</td><td>0.040388</td><td>0.19</td><td>2.36</td><td>104.182834</td><td>94.497062</td><td>98.288882</td></tr><tr><td>2024-02-29 14:12:00</td><td>11.0</td><td>0.2945</td><td>18615.5</td><td>18836.74</td><td>0.298</td><td>6.4</td><td>45000</td><td>26.7</td><td>0.0018</td><td>113.78</td><td>139.06</td><td>0.0022</td><td>14.7</td><td>63210.53</td><td>63801.13</td><td>&quot;15MAR24&quot;</td><td>0.040388</td><td>0.19</td><td>2.36</td><td>100.169591</td><td>92.291621</td><td>95.584157</td></tr><tr><td>2024-02-29 14:12:00</td><td>13.7</td><td>0.279</td><td>17635.74</td><td>17856.97</td><td>0.2825</td><td>5.0</td><td>46000</td><td>20.4</td><td>0.0022</td><td>139.06</td><td>158.03</td><td>0.0025</td><td>8.0</td><td>63210.53</td><td>63801.13</td><td>&quot;15MAR24&quot;</td><td>0.040388</td><td>0.19</td><td>2.36</td><td>96.084378</td><td>90.434249</td><td>92.584475</td></tr><tr><td>2024-02-29 14:12:00</td><td>12.2</td><td>0.264</td><td>16687.58</td><td>16908.82</td><td>0.2675</td><td>6.3</td><td>47000</td><td>26.8</td><td>0.0025</td><td>158.03</td><td>183.31</td><td>0.0029</td><td>8.0</td><td>63210.53</td><td>63801.13</td><td>&quot;15MAR24&quot;</td><td>0.040388</td><td>0.19</td><td>61.629651</td><td>94.687499</td><td>87.425918</td><td>89.959556</td></tr></tbody></table></div>"
      ],
      "text/plain": [
       "shape: (5, 23)\n",
       "┌────────────────┬───────┬────────┬───────────┬───┬───────────┬────────────┬───────────┬───────────┐\n",
       "│ timestamp      ┆ bq0_C ┆ bp0_C  ┆ bp0_C_usd ┆ … ┆ bidVola_C ┆ askVola_C  ┆ bidVola_P ┆ askVola_P │\n",
       "│ ---            ┆ ---   ┆ ---    ┆ ---       ┆   ┆ ---       ┆ ---        ┆ ---       ┆ ---       │\n",
       "│ datetime[ns]   ┆ f64   ┆ f64    ┆ f64       ┆   ┆ f64       ┆ f64        ┆ f64       ┆ f64       │\n",
       "╞════════════════╪═══════╪════════╪═══════════╪═══╪═══════════╪════════════╪═══════════╪═══════════╡\n",
       "│ 2024-02-29     ┆ 33.4  ┆ 0.3355 ┆ 21207.13  ┆ … ┆ 2.36      ┆ 117.099485 ┆ 99.85926  ┆ 103.60369 │\n",
       "│ 14:12:00       ┆       ┆        ┆           ┆   ┆           ┆            ┆           ┆           │\n",
       "│ 2024-02-29     ┆ 13.3  ┆ 0.31   ┆ 19595.26  ┆ … ┆ 2.36      ┆ 104.182834 ┆ 94.497062 ┆ 98.288882 │\n",
       "│ 14:12:00       ┆       ┆        ┆           ┆   ┆           ┆            ┆           ┆           │\n",
       "│ 2024-02-29     ┆ 11.0  ┆ 0.2945 ┆ 18615.5   ┆ … ┆ 2.36      ┆ 100.169591 ┆ 92.291621 ┆ 95.584157 │\n",
       "│ 14:12:00       ┆       ┆        ┆           ┆   ┆           ┆            ┆           ┆           │\n",
       "│ 2024-02-29     ┆ 13.7  ┆ 0.279  ┆ 17635.74  ┆ … ┆ 2.36      ┆ 96.084378  ┆ 90.434249 ┆ 92.584475 │\n",
       "│ 14:12:00       ┆       ┆        ┆           ┆   ┆           ┆            ┆           ┆           │\n",
       "│ 2024-02-29     ┆ 12.2  ┆ 0.264  ┆ 16687.58  ┆ … ┆ 61.629651 ┆ 94.687499  ┆ 87.425918 ┆ 89.959556 │\n",
       "│ 14:12:00       ┆       ┆        ┆           ┆   ┆           ┆            ┆           ┆           │\n",
       "└────────────────┴───────┴────────┴───────────┴───┴───────────┴────────────┴───────────┴───────────┘"
      ]
     },
     "execution_count": 10,
     "metadata": {},
     "output_type": "execute_result"
    }
   ],
   "source": [
    "df_option_with_vola.head()"
   ]
  },
  {
   "cell_type": "code",
   "execution_count": 20,
   "id": "4a990629",
   "metadata": {},
   "outputs": [
    {
     "name": "stdout",
     "output_type": "stream",
     "text": [
      "✅ DataFrame with vega calculations created successfully using centralized module!\n"
     ]
    },
    {
     "data": {
      "text/html": [
       "<div><style>\n",
       ".dataframe > thead > tr,\n",
       ".dataframe > tbody > tr {\n",
       "  text-align: right;\n",
       "  white-space: pre-wrap;\n",
       "}\n",
       "</style>\n",
       "<small>shape: (30, 5)</small><table border=\"1\" class=\"dataframe\"><thead><tr><th>strike</th><th>bidVola</th><th>midVola</th><th>askVola</th><th>vega</th></tr><tr><td>i64</td><td>f64</td><td>f64</td><td>f64</td><td>f64</td></tr></thead><tbody><tr><td>42000</td><td>99.86</td><td>101.73</td><td>103.6</td><td>5.06</td></tr><tr><td>44000</td><td>94.5</td><td>96.4</td><td>98.29</td><td>6.67</td></tr><tr><td>45000</td><td>92.29</td><td>93.94</td><td>95.58</td><td>7.68</td></tr><tr><td>46000</td><td>90.43</td><td>91.5</td><td>92.58</td><td>8.82</td></tr><tr><td>47000</td><td>87.43</td><td>88.7</td><td>89.96</td><td>9.98</td></tr><tr><td>48000</td><td>85.34</td><td>86.44</td><td>87.55</td><td>11.47</td></tr><tr><td>49000</td><td>83.31</td><td>84.27</td><td>85.23</td><td>13.16</td></tr><tr><td>50000</td><td>81.24</td><td>82.28</td><td>83.33</td><td>15.11</td></tr><tr><td>51000</td><td>78.69</td><td>80.51</td><td>82.33</td><td>17.36</td></tr><tr><td>52000</td><td>76.77</td><td>78.38</td><td>79.98</td><td>19.66</td></tr><tr><td>53000</td><td>75.77</td><td>77.17</td><td>78.57</td><td>22.56</td></tr><tr><td>54000</td><td>75.27</td><td>76.5</td><td>77.72</td><td>25.85</td></tr><tr><td>55000</td><td>73.9</td><td>75.0</td><td>76.09</td><td>28.94</td></tr><tr><td>56000</td><td>73.82</td><td>74.79</td><td>75.76</td><td>32.55</td></tr><tr><td>57000</td><td>72.79</td><td>73.67</td><td>74.55</td><td>35.81</td></tr><tr><td>58000</td><td>72.61</td><td>73.41</td><td>74.22</td><td>39.17</td></tr><tr><td>59000</td><td>72.26</td><td>73.01</td><td>73.76</td><td>42.23</td></tr><tr><td>60000</td><td>71.75</td><td>72.81</td><td>73.86</td><td>44.95</td></tr><tr><td>61000</td><td>72.39</td><td>73.06</td><td>73.73</td><td>47.24</td></tr><tr><td>62000</td><td>72.1</td><td>72.74</td><td>73.39</td><td>48.96</td></tr><tr><td>63000</td><td>72.21</td><td>72.84</td><td>73.47</td><td>50.12</td></tr><tr><td>64000</td><td>72.71</td><td>73.41</td><td>74.11</td><td>50.69</td></tr><tr><td>65000</td><td>72.99</td><td>73.82</td><td>74.64</td><td>50.69</td></tr><tr><td>66000</td><td>73.13</td><td>74.07</td><td>75.02</td><td>50.17</td></tr><tr><td>67000</td><td>73.99</td><td>74.63</td><td>75.28</td><td>49.18</td></tr><tr><td>68000</td><td>74.13</td><td>74.79</td><td>75.46</td><td>47.76</td></tr><tr><td>70000</td><td>75.03</td><td>76.1</td><td>77.18</td><td>44.11</td></tr><tr><td>72000</td><td>77.13</td><td>77.92</td><td>78.71</td><td>39.91</td></tr><tr><td>74000</td><td>77.88</td><td>78.78</td><td>79.68</td><td>35.15</td></tr><tr><td>76000</td><td>79.34</td><td>80.37</td><td>81.4</td><td>30.71</td></tr></tbody></table></div>"
      ],
      "text/plain": [
       "shape: (30, 5)\n",
       "┌────────┬─────────┬─────────┬─────────┬───────┐\n",
       "│ strike ┆ bidVola ┆ midVola ┆ askVola ┆ vega  │\n",
       "│ ---    ┆ ---     ┆ ---     ┆ ---     ┆ ---   │\n",
       "│ i64    ┆ f64     ┆ f64     ┆ f64     ┆ f64   │\n",
       "╞════════╪═════════╪═════════╪═════════╪═══════╡\n",
       "│ 42000  ┆ 99.86   ┆ 101.73  ┆ 103.6   ┆ 5.06  │\n",
       "│ 44000  ┆ 94.5    ┆ 96.4    ┆ 98.29   ┆ 6.67  │\n",
       "│ 45000  ┆ 92.29   ┆ 93.94   ┆ 95.58   ┆ 7.68  │\n",
       "│ 46000  ┆ 90.43   ┆ 91.5    ┆ 92.58   ┆ 8.82  │\n",
       "│ 47000  ┆ 87.43   ┆ 88.7    ┆ 89.96   ┆ 9.98  │\n",
       "│ 48000  ┆ 85.34   ┆ 86.44   ┆ 87.55   ┆ 11.47 │\n",
       "│ 49000  ┆ 83.31   ┆ 84.27   ┆ 85.23   ┆ 13.16 │\n",
       "│ 50000  ┆ 81.24   ┆ 82.28   ┆ 83.33   ┆ 15.11 │\n",
       "│ 51000  ┆ 78.69   ┆ 80.51   ┆ 82.33   ┆ 17.36 │\n",
       "│ 52000  ┆ 76.77   ┆ 78.38   ┆ 79.98   ┆ 19.66 │\n",
       "│ 53000  ┆ 75.77   ┆ 77.17   ┆ 78.57   ┆ 22.56 │\n",
       "│ 54000  ┆ 75.27   ┆ 76.5    ┆ 77.72   ┆ 25.85 │\n",
       "│ 55000  ┆ 73.9    ┆ 75.0    ┆ 76.09   ┆ 28.94 │\n",
       "│ 56000  ┆ 73.82   ┆ 74.79   ┆ 75.76   ┆ 32.55 │\n",
       "│ 57000  ┆ 72.79   ┆ 73.67   ┆ 74.55   ┆ 35.81 │\n",
       "│ 58000  ┆ 72.61   ┆ 73.41   ┆ 74.22   ┆ 39.17 │\n",
       "│ 59000  ┆ 72.26   ┆ 73.01   ┆ 73.76   ┆ 42.23 │\n",
       "│ 60000  ┆ 71.75   ┆ 72.81   ┆ 73.86   ┆ 44.95 │\n",
       "│ 61000  ┆ 72.39   ┆ 73.06   ┆ 73.73   ┆ 47.24 │\n",
       "│ 62000  ┆ 72.1    ┆ 72.74   ┆ 73.39   ┆ 48.96 │\n",
       "│ 63000  ┆ 72.21   ┆ 72.84   ┆ 73.47   ┆ 50.12 │\n",
       "│ 64000  ┆ 72.71   ┆ 73.41   ┆ 74.11   ┆ 50.69 │\n",
       "│ 65000  ┆ 72.99   ┆ 73.82   ┆ 74.64   ┆ 50.69 │\n",
       "│ 66000  ┆ 73.13   ┆ 74.07   ┆ 75.02   ┆ 50.17 │\n",
       "│ 67000  ┆ 73.99   ┆ 74.63   ┆ 75.28   ┆ 49.18 │\n",
       "│ 68000  ┆ 74.13   ┆ 74.79   ┆ 75.46   ┆ 47.76 │\n",
       "│ 70000  ┆ 75.03   ┆ 76.1    ┆ 77.18   ┆ 44.11 │\n",
       "│ 72000  ┆ 77.13   ┆ 77.92   ┆ 78.71   ┆ 39.91 │\n",
       "│ 74000  ┆ 77.88   ┆ 78.78   ┆ 79.68   ┆ 35.15 │\n",
       "│ 76000  ┆ 79.34   ┆ 80.37   ┆ 81.4    ┆ 30.71 │\n",
       "└────────┴─────────┴─────────┴─────────┴───────┘"
      ]
     },
     "execution_count": 20,
     "metadata": {},
     "output_type": "execute_result"
    }
   ],
   "source": [
    "# Add volatility summary columns and Greeks calculation using new modules\n",
    "# Reload module to pick up new functions\n",
    "import importlib\n",
    "import utils.volatility_fitter.volatility_calculator\n",
    "importlib.reload(utils.volatility_fitter.volatility_calculator)\n",
    "\n",
    "from utils.volatility_fitter.volatility_calculator import process_volatility_with_greeks\n",
    "\n",
    "df_option_with_vola_and_greeks = process_volatility_with_greeks(df_option_with_vola)\n",
    "\n",
    "print(\"✅ DataFrame with vega calculations created successfully using centralized module!\")\n",
    "df_option_with_vola_and_greeks.select(['strike', 'bidVola', 'midVola', 'askVola', 'vega'])"
   ]
  },
  {
   "cell_type": "code",
   "execution_count": 18,
   "id": "8962600d",
   "metadata": {},
   "outputs": [
    {
     "name": "stdout",
     "output_type": "stream",
     "text": [
      "🎯 Setting up Time_Adjusted Wing Model calibration...\n",
      "📊 Market data: 30 strikes, Vol range: 0.727-1.017\n",
      "💰 Forward: 63801 | ⏰ TTM: 0.0404 years\n",
      "🔧 Configured time_adjusted calibrator:\n",
      "   Weight scheme: uniform\n",
      "   Loss metric: rmse\n",
      "   Volatility bounds: (0.001, 5.0)\n",
      "🔧 Using scipy.optimize with 8 parameters\n",
      "✅ Time_Adjusted model calibrated successfully!\n",
      "📊 Final RMSE: 0.075852\n",
      "🎯 Fitted parameters:\n",
      "   atm_vol: 0.7958\n",
      "   slope: -1.1322\n",
      "   call_curve: 4.5182\n",
      "   put_curve: 4.7020\n",
      "   up_cutoff: 0.5000\n",
      "   down_cutoff: 0.1429\n",
      "   up_smoothing: 5.0000\n",
      "   down_smoothing: 4.9863\n",
      "✅ Generic time_adjusted wing model calibration complete using centralized module!\n"
     ]
    }
   ],
   "source": [
    "# Generic Model Calibration - Unified scipy.optimize approach\n",
    "print(f\"🎯 Setting up {MODEL_TYPE.title()} Wing Model calibration...\")\n",
    "\n",
    "# Extract common market data\n",
    "strikes_list = df_option_with_vola_and_greeks['strike'].to_list()\n",
    "market_vols_list = (df_option_with_vola_and_greeks['midVola'] / 100).to_list()  # Convert to decimal\n",
    "market_vegas_list = df_option_with_vola_and_greeks['vega'].to_list()\n",
    "forward_price = float(df_option_with_vola_and_greeks['F'][0])\n",
    "time_to_expiry = float(df_option_with_vola_and_greeks['tau'][0])\n",
    "\n",
    "print(f\"📊 Market data: {len(strikes_list)} strikes, Vol range: {min(market_vols_list):.3f}-{max(market_vols_list):.3f}\")\n",
    "print(f\"💰 Forward: {forward_price:.0f} | ⏰ TTM: {time_to_expiry:.4f} years\")\n",
    "\n",
    "fitting_loss = []\n",
    "\n",
    "class GenericVolatilityModelCalibrator:\n",
    "    \"\"\"\n",
    "    Generic calibrator that can handle different volatility models with configurable loss functions\n",
    "    \"\"\"\n",
    "    \n",
    "    def __init__(self, model_type, market_data, loss_config=None):\n",
    "        self.model_type = model_type\n",
    "        self.market_data = market_data\n",
    "        self.loss_config = loss_config or {}\n",
    "        \n",
    "        # Extract data\n",
    "        self.strikes = np.array(market_data['strikes'])\n",
    "        self.market_vols = np.array(market_data['market_vols'])\n",
    "        self.vegas = np.array(market_data['vegas'])\n",
    "        self.forward = market_data['forward']\n",
    "        self.tau = market_data['time_to_expiry']\n",
    "        \n",
    "        # Calculate derived inputs based on model type\n",
    "        if model_type == \"traditional\":\n",
    "            self.moneyness = np.log(self.strikes / self.forward)\n",
    "        \n",
    "        # Configure weights\n",
    "        self._setup_weights()\n",
    "        \n",
    "        # Configure loss function\n",
    "        self._setup_loss_metrics()\n",
    "    \n",
    "    def _setup_weights(self):\n",
    "        \"\"\"Setup weighting scheme for loss function\"\"\"\n",
    "        weight_type = self.loss_config.get('weight_type', 'vega')\n",
    "        \n",
    "        if weight_type == 'vega':\n",
    "            # Vega-weighted (default)\n",
    "            raw_weights = self.vegas\n",
    "        elif weight_type == 'uniform':\n",
    "            # Equal weighting\n",
    "            raw_weights = np.ones_like(self.vegas)\n",
    "        elif weight_type == 'inverse_vol':\n",
    "            # Inverse volatility weighting (higher weight for lower vol strikes)\n",
    "            raw_weights = 1.0 / (self.market_vols + 0.01)\n",
    "        elif weight_type == 'atm_focused':\n",
    "            # Focus on ATM strikes\n",
    "            atm_distance = np.abs(np.log(self.strikes / self.forward))\n",
    "            raw_weights = np.exp(-2 * atm_distance)  # Gaussian decay from ATM\n",
    "        else:\n",
    "            raw_weights = np.ones_like(self.vegas)\n",
    "        \n",
    "        # Normalize weights\n",
    "        self.weights = raw_weights / np.max(raw_weights) if np.max(raw_weights) > 0 else np.ones_like(raw_weights)\n",
    "    \n",
    "    def _setup_loss_metrics(self):\n",
    "        \"\"\"Setup loss function metric\"\"\"\n",
    "        self.loss_metric = self.loss_config.get('metric', 'rmse')  # 'rmse', 'mae', 'mape'\n",
    "        self.vol_bounds = self.loss_config.get('vol_bounds', (0.001, 5.0))  # Valid volatility range\n",
    "        self.penalty_factor = self.loss_config.get('penalty_factor', 1e10)\n",
    "    \n",
    "    def _create_model_and_calculate_vols(self, params):\n",
    "        \"\"\"\n",
    "        Generic model creation and volatility calculation\n",
    "        \n",
    "        Args:\n",
    "            params: Parameter array for the model\n",
    "            \n",
    "        Returns:\n",
    "            fitted_vols: Array of fitted volatilities, or None if invalid\n",
    "        \"\"\"\n",
    "        try:\n",
    "            if self.model_type == \"time_adjusted\":\n",
    "                if len(params) != 8:\n",
    "                    return None\n",
    "                \n",
    "                # Create time-adjusted wing model\n",
    "                ta_params = TimeAdjustedWingModelParameters(\n",
    "                    atm_vol=params[0], slope=params[1], call_curve=params[2], put_curve=params[3], up_cutoff=params[4], \n",
    "                    down_cutoff=params[5], up_smoothing=params[6], down_smoothing=params[7], forward_price=self.forward, time_to_expiry=self.tau\n",
    "                )\n",
    "                model = TimeAdjustedWingModel(ta_params)\n",
    "                fitted_vols = np.array([model.calculate_volatility_from_strike(s) for s in self.strikes])\n",
    "                \n",
    "            elif self.model_type == \"traditional\":\n",
    "                if len(params) != 8:\n",
    "                    return None\n",
    "                \n",
    "                # Create traditional wing model\n",
    "                wing_params = WingModelParameters(\n",
    "                    vr=params[0], sr=params[1], pc=params[2], cc=params[3],\n",
    "                    dc=params[4], uc=params[5], dsm=params[6], usm=params[7],\n",
    "                    vcr=0.0, scr=0.0, ssr=0.0, atm=self.forward, ref=self.forward\n",
    "                )\n",
    "                model = WingModel(wing_params)\n",
    "                # Now use the unified calculate_volatility_from_strike() interface\n",
    "                fitted_vols = np.array([model.calculate_volatility_from_strike(s) for s in self.strikes])\n",
    "                \n",
    "            else:\n",
    "                return None\n",
    "            \n",
    "            # Validate volatilities\n",
    "            vol_min, vol_max = self.vol_bounds\n",
    "            if (np.any(fitted_vols <= vol_min) or np.any(fitted_vols >= vol_max) or \n",
    "                np.any(np.isnan(fitted_vols)) or np.any(np.isinf(fitted_vols))):\n",
    "                return None\n",
    "            \n",
    "            return fitted_vols\n",
    "            \n",
    "        except Exception:\n",
    "            return None\n",
    "    \n",
    "    def _calculate_loss(self, fitted_vols, market_vols, weights):\n",
    "        \"\"\"\n",
    "        Calculate loss metric with configurable weighting\n",
    "        \n",
    "        Args:\n",
    "            fitted_vols: Model fitted volatilities\n",
    "            market_vols: Market observed volatilities  \n",
    "            weights: Weight array for each strike\n",
    "            \n",
    "        Returns:\n",
    "            loss_value: Calculated loss metric\n",
    "        \"\"\"\n",
    "        errors = fitted_vols - market_vols\n",
    "        weighted_errors = errors * weights\n",
    "        \n",
    "        if self.loss_metric == 'rmse':\n",
    "            return np.sqrt(np.mean(weighted_errors ** 2))\n",
    "        elif self.loss_metric == 'mae':\n",
    "            return np.mean(np.abs(weighted_errors))\n",
    "        elif self.loss_metric == 'mape':\n",
    "            # Mean Absolute Percentage Error\n",
    "            percentage_errors = np.abs(errors / market_vols) * weights\n",
    "            return np.mean(percentage_errors) * 100\n",
    "        elif self.loss_metric == 'huber':\n",
    "            # Huber loss (robust to outliers)\n",
    "            delta = 0.1  # Huber delta parameter\n",
    "            abs_errors = np.abs(weighted_errors)\n",
    "            is_small_error = abs_errors <= delta\n",
    "            squared_loss = 0.5 * (weighted_errors ** 2)\n",
    "            linear_loss = delta * abs_errors - 0.5 * (delta ** 2)\n",
    "            return np.mean(np.where(is_small_error, squared_loss, linear_loss))\n",
    "        else:\n",
    "            # Default to RMSE\n",
    "            return np.sqrt(np.mean(weighted_errors ** 2))\n",
    "    \n",
    "    def create_loss_function(self):\n",
    "        \"\"\"\n",
    "        Create the loss function for scipy.optimize\n",
    "        \n",
    "        Returns:\n",
    "            loss_function: Function that takes parameters and returns loss value\n",
    "        \"\"\"\n",
    "        def generic_loss(params):\n",
    "            \"\"\"Unified loss function for any volatility model\"\"\"\n",
    "            # Calculate fitted volatilities\n",
    "            fitted_vols = self._create_model_and_calculate_vols(params)\n",
    "            \n",
    "            if fitted_vols is None:\n",
    "                return self.penalty_factor\n",
    "            \n",
    "            # Calculate and return loss\n",
    "            loss = self._calculate_loss(fitted_vols, self.market_vols, self.weights)\n",
    "            fitting_loss.append({'params': params, 'loss': loss})\n",
    "            return loss\n",
    "        \n",
    "        return generic_loss\n",
    "\n",
    "# Configure loss function settings\n",
    "loss_config = {\n",
    "    'weight_type': 'uniform',      # 'vega', 'uniform', 'inverse_vol', 'atm_focused'  \n",
    "    'metric': 'rmse',           # 'rmse', 'mae', 'mape', 'huber'\n",
    "    'vol_bounds': (0.001, 5.0), # Valid volatility range\n",
    "    'penalty_factor': 1e10       # Penalty for invalid parameters\n",
    "}\n",
    "\n",
    "# Prepare market data dictionary\n",
    "market_data = {\n",
    "    'strikes': strikes_list,\n",
    "    'market_vols': market_vols_list,\n",
    "    'vegas': market_vegas_list,\n",
    "    'forward': forward_price,\n",
    "    'time_to_expiry': time_to_expiry\n",
    "}\n",
    "\n",
    "# Create calibrator instance\n",
    "calibrator = GenericVolatilityModelCalibrator(MODEL_TYPE, market_data, loss_config)\n",
    "\n",
    "# Create loss function\n",
    "loss_function = calibrator.create_loss_function()\n",
    "\n",
    "print(f\"🔧 Configured {MODEL_TYPE} calibrator:\")\n",
    "print(f\"   Weight scheme: {loss_config['weight_type']}\")\n",
    "print(f\"   Loss metric: {loss_config['metric']}\")\n",
    "print(f\"   Volatility bounds: {loss_config['vol_bounds']}\")\n",
    "\n",
    "# Set initial parameters and bounds based on model type\n",
    "if MODEL_TYPE == \"time_adjusted\":\n",
    "    # Time-adjusted model initial parameters: [atm_vol, slope, call_curve, put_curve, up_cutoff, down_cutoff, up_smoothing, down_smoothing]\n",
    "    initial_params = [\n",
    "        0.6807,  # atm_vol\n",
    "        0.08,    # slope\n",
    "        5.0,     # call_curve\n",
    "        5.0,     # put_curve\n",
    "        0.5,     # up_cutoff\n",
    "        -0.5,    # down_cutoff\n",
    "        5.0,     # up_smoothing\n",
    "        5.0      # down_smoothing\n",
    "    ]   \n",
    "    \n",
    "    param_names = ['atm_vol', 'slope', 'call_curve', 'put_curve', 'up_cutoff', 'down_cutoff', 'up_smoothing', 'down_smoothing']\n",
    "\n",
    "else:  # traditional model\n",
    "    # Traditional model initial parameters: [vr, sr, pc, cc, dc, uc, dsm, usm]\n",
    "    initial_params = [0.6807, 0.08, 0.5, 0.5, -3.7, 0.025, 0.5, 0.5]\n",
    "    param_names = ['vr', 'sr', 'pc', 'cc', 'dc', 'uc', 'dsm', 'usm']\n",
    "\n",
    "print(f\"🔧 Using scipy.optimize with {len(initial_params)} parameters\")\n",
    "\n",
    "# Run optimization using scipy.optimize\n",
    "optimization_result = optimize.minimize(\n",
    "    fun=loss_function,\n",
    "    x0=initial_params,\n",
    "    method=\"SLSQP\",\n",
    "    options={'disp': False, 'maxiter': 1000}\n",
    ")\n",
    "\n",
    "# Display results\n",
    "if optimization_result.success:\n",
    "    print(f\"✅ {MODEL_TYPE.title()} model calibrated successfully!\")\n",
    "    print(f\"📊 Final {loss_config['metric'].upper()}: {optimization_result.fun:.6f}\")\n",
    "    \n",
    "    # Display fitted parameters\n",
    "    print(\"🎯 Fitted parameters:\")\n",
    "    for name, value in zip(param_names, optimization_result.x):\n",
    "        print(f\"   {name}: {value:.4f}\")\n",
    "    \n",
    "    # Create model object based on type\n",
    "    if MODEL_TYPE == \"time_adjusted\":\n",
    "        fitted_params = TimeAdjustedWingModelParameters(\n",
    "            atm_vol=optimization_result.x[0],\n",
    "            slope=optimization_result.x[1], \n",
    "            call_curve=optimization_result.x[2],\n",
    "            put_curve=optimization_result.x[3],\n",
    "            up_cutoff=optimization_result.x[4],\n",
    "            down_cutoff=optimization_result.x[5],\n",
    "            up_smoothing=optimization_result.x[6],\n",
    "            down_smoothing=optimization_result.x[7],\n",
    "            forward_price=forward_price,\n",
    "            time_to_expiry=time_to_expiry\n",
    "        )\n",
    "        my_model = TimeAdjustedWingModel(fitted_params)\n",
    "    else:\n",
    "        fitted_params = WingModelParameters(\n",
    "            vr=optimization_result.x[0], sr=optimization_result.x[1], \n",
    "            pc=optimization_result.x[2], cc=optimization_result.x[3],\n",
    "            dc=optimization_result.x[4], uc=optimization_result.x[5], \n",
    "            dsm=optimization_result.x[6], usm=optimization_result.x[7],\n",
    "            vcr=0.0, scr=0.0, ssr=0.0, atm=forward_price, ref=forward_price\n",
    "        )\n",
    "        my_model = WingModel(fitted_params)\n",
    "    \n",
    "else:\n",
    "    print(f\"❌ {MODEL_TYPE.title()} calibration failed: {optimization_result.message}\")\n",
    "    my_model = None\n",
    "\n",
    "print(f\"✅ Generic {MODEL_TYPE} wing model calibration complete!\")"
   ]
  },
  {
   "cell_type": "code",
   "execution_count": 13,
   "id": "0adaf311",
   "metadata": {},
   "outputs": [
    {
     "data": {
      "text/html": [
       "<div><style>\n",
       ".dataframe > thead > tr,\n",
       ".dataframe > tbody > tr {\n",
       "  text-align: right;\n",
       "  white-space: pre-wrap;\n",
       "}\n",
       "</style>\n",
       "<small>shape: (5, 28)</small><table border=\"1\" class=\"dataframe\"><thead><tr><th>timestamp</th><th>bq0_C</th><th>bp0_C</th><th>bp0_C_usd</th><th>ap0_C_usd</th><th>ap0_C</th><th>aq0_C</th><th>strike</th><th>bq0_P</th><th>bp0_P</th><th>bp0_P_usd</th><th>ap0_P_usd</th><th>ap0_P</th><th>aq0_P</th><th>S</th><th>F</th><th>expiry</th><th>tau</th><th>r</th><th>bidVola_C</th><th>askVola_C</th><th>bidVola_P</th><th>askVola_P</th><th>bidVola</th><th>askVola</th><th>midVola</th><th>volSpread</th><th>vega</th></tr><tr><td>datetime[ns]</td><td>f64</td><td>f64</td><td>f64</td><td>f64</td><td>f64</td><td>f64</td><td>i64</td><td>f64</td><td>f64</td><td>f64</td><td>f64</td><td>f64</td><td>f64</td><td>f64</td><td>f64</td><td>str</td><td>f64</td><td>f64</td><td>f64</td><td>f64</td><td>f64</td><td>f64</td><td>f64</td><td>f64</td><td>f64</td><td>f64</td><td>f64</td></tr></thead><tbody><tr><td>2024-02-29 14:12:00</td><td>33.4</td><td>0.3355</td><td>21207.13</td><td>21816.5</td><td>0.34514</td><td>33.3</td><td>42000</td><td>11.7</td><td>0.0011</td><td>69.53</td><td>88.49</td><td>0.0014</td><td>6.6</td><td>63210.53</td><td>63801.13</td><td>&quot;15MAR24&quot;</td><td>0.040388</td><td>0.19</td><td>2.36</td><td>117.099485</td><td>99.85926</td><td>103.60369</td><td>99.86</td><td>103.6</td><td>101.73</td><td>3.74</td><td>5.06</td></tr><tr><td>2024-02-29 14:12:00</td><td>13.3</td><td>0.31</td><td>19595.26</td><td>19816.5</td><td>0.3135</td><td>6.4</td><td>44000</td><td>32.7</td><td>0.0015</td><td>94.82</td><td>120.1</td><td>0.0019</td><td>15.0</td><td>63210.53</td><td>63801.13</td><td>&quot;15MAR24&quot;</td><td>0.040388</td><td>0.19</td><td>2.36</td><td>104.182834</td><td>94.497062</td><td>98.288882</td><td>94.5</td><td>98.29</td><td>96.4</td><td>3.79</td><td>6.67</td></tr><tr><td>2024-02-29 14:12:00</td><td>11.0</td><td>0.2945</td><td>18615.5</td><td>18836.74</td><td>0.298</td><td>6.4</td><td>45000</td><td>26.7</td><td>0.0018</td><td>113.78</td><td>139.06</td><td>0.0022</td><td>14.7</td><td>63210.53</td><td>63801.13</td><td>&quot;15MAR24&quot;</td><td>0.040388</td><td>0.19</td><td>2.36</td><td>100.169591</td><td>92.291621</td><td>95.584157</td><td>92.29</td><td>95.58</td><td>93.94</td><td>3.29</td><td>7.68</td></tr><tr><td>2024-02-29 14:12:00</td><td>13.7</td><td>0.279</td><td>17635.74</td><td>17856.97</td><td>0.2825</td><td>5.0</td><td>46000</td><td>20.4</td><td>0.0022</td><td>139.06</td><td>158.03</td><td>0.0025</td><td>8.0</td><td>63210.53</td><td>63801.13</td><td>&quot;15MAR24&quot;</td><td>0.040388</td><td>0.19</td><td>2.36</td><td>96.084378</td><td>90.434249</td><td>92.584475</td><td>90.43</td><td>92.58</td><td>91.5</td><td>2.15</td><td>8.82</td></tr><tr><td>2024-02-29 14:12:00</td><td>12.2</td><td>0.264</td><td>16687.58</td><td>16908.82</td><td>0.2675</td><td>6.3</td><td>47000</td><td>26.8</td><td>0.0025</td><td>158.03</td><td>183.31</td><td>0.0029</td><td>8.0</td><td>63210.53</td><td>63801.13</td><td>&quot;15MAR24&quot;</td><td>0.040388</td><td>0.19</td><td>61.629651</td><td>94.687499</td><td>87.425918</td><td>89.959556</td><td>87.43</td><td>89.96</td><td>88.7</td><td>2.53</td><td>9.98</td></tr></tbody></table></div>"
      ],
      "text/plain": [
       "shape: (5, 28)\n",
       "┌─────────────────────┬───────┬────────┬───────────┬───┬─────────┬─────────┬───────────┬──────┐\n",
       "│ timestamp           ┆ bq0_C ┆ bp0_C  ┆ bp0_C_usd ┆ … ┆ askVola ┆ midVola ┆ volSpread ┆ vega │\n",
       "│ ---                 ┆ ---   ┆ ---    ┆ ---       ┆   ┆ ---     ┆ ---     ┆ ---       ┆ ---  │\n",
       "│ datetime[ns]        ┆ f64   ┆ f64    ┆ f64       ┆   ┆ f64     ┆ f64     ┆ f64       ┆ f64  │\n",
       "╞═════════════════════╪═══════╪════════╪═══════════╪═══╪═════════╪═════════╪═══════════╪══════╡\n",
       "│ 2024-02-29 14:12:00 ┆ 33.4  ┆ 0.3355 ┆ 21207.13  ┆ … ┆ 103.6   ┆ 101.73  ┆ 3.74      ┆ 5.06 │\n",
       "│ 2024-02-29 14:12:00 ┆ 13.3  ┆ 0.31   ┆ 19595.26  ┆ … ┆ 98.29   ┆ 96.4    ┆ 3.79      ┆ 6.67 │\n",
       "│ 2024-02-29 14:12:00 ┆ 11.0  ┆ 0.2945 ┆ 18615.5   ┆ … ┆ 95.58   ┆ 93.94   ┆ 3.29      ┆ 7.68 │\n",
       "│ 2024-02-29 14:12:00 ┆ 13.7  ┆ 0.279  ┆ 17635.74  ┆ … ┆ 92.58   ┆ 91.5    ┆ 2.15      ┆ 8.82 │\n",
       "│ 2024-02-29 14:12:00 ┆ 12.2  ┆ 0.264  ┆ 16687.58  ┆ … ┆ 89.96   ┆ 88.7    ┆ 2.53      ┆ 9.98 │\n",
       "└─────────────────────┴───────┴────────┴───────────┴───┴─────────┴─────────┴───────────┴──────┘"
      ]
     },
     "execution_count": 13,
     "metadata": {},
     "output_type": "execute_result"
    }
   ],
   "source": [
    "df_option_with_vola_and_greeks.head()"
   ]
  },
  {
   "cell_type": "code",
   "execution_count": 14,
   "id": "2f84f8e5",
   "metadata": {},
   "outputs": [
    {
     "name": "stdout",
     "output_type": "stream",
     "text": [
      "🔬 Demonstrating different loss configurations for Time_Adjusted Wing Model...\n",
      "\n",
      "🎯 Testing: Vega-weighted RMSE (default)\n",
      "   ✅ RMSE: 0.001448\n",
      "\n",
      "🎯 Testing: Uniform-weighted Mean Absolute Error\n",
      "   ✅ MAE: 0.003123\n",
      "\n",
      "🎯 Testing: ATM-focused weighting with RMSE\n",
      "   ✅ MAE: 0.003123\n",
      "\n",
      "🎯 Testing: ATM-focused weighting with RMSE\n",
      "   ✅ RMSE: 0.002708\n",
      "\n",
      "🎯 Testing: Inverse volatility weighting with Huber loss\n",
      "   ✅ HUBER: 0.001321\n",
      "\n",
      "📊 Loss Configuration Comparison for Time_Adjusted Model:\n",
      "--------------------------------------------------------------------------------\n",
      "Configuration        Success  Loss Value   Description\n",
      "--------------------------------------------------------------------------------\n",
      "vega_rmse            ✅        0.001448     Vega-weighted RMSE (default)\n",
      "uniform_mae          ✅        0.003123     Uniform-weighted Mean Absolute Error\n",
      "atm_focused_rmse     ✅        0.002708     ATM-focused weighting with RMSE\n",
      "inverse_vol_huber    ✅        0.001321     Inverse volatility weighting with Huber loss\n",
      "\n",
      "💡 Choose the configuration that best fits your calibration objectives:\n",
      "   • Vega weighting: Emphasizes liquid strikes with high sensitivity\n",
      "   • Uniform weighting: Equal importance to all strikes\n",
      "   • ATM focused: Prioritizes at-the-money accuracy\n",
      "   • Inverse vol: Higher weight on low volatility (often OTM) strikes\n",
      "   • RMSE: Standard least squares (sensitive to outliers)\n",
      "   • MAE: Robust to outliers\n",
      "   • Huber: Balanced between RMSE and MAE\n",
      "\n",
      "🎯 Current model uses: vega weighting with rmse metric\n",
      "✅ Final loss value: 0.001448\n",
      "   ✅ RMSE: 0.002708\n",
      "\n",
      "🎯 Testing: Inverse volatility weighting with Huber loss\n",
      "   ✅ HUBER: 0.001321\n",
      "\n",
      "📊 Loss Configuration Comparison for Time_Adjusted Model:\n",
      "--------------------------------------------------------------------------------\n",
      "Configuration        Success  Loss Value   Description\n",
      "--------------------------------------------------------------------------------\n",
      "vega_rmse            ✅        0.001448     Vega-weighted RMSE (default)\n",
      "uniform_mae          ✅        0.003123     Uniform-weighted Mean Absolute Error\n",
      "atm_focused_rmse     ✅        0.002708     ATM-focused weighting with RMSE\n",
      "inverse_vol_huber    ✅        0.001321     Inverse volatility weighting with Huber loss\n",
      "\n",
      "💡 Choose the configuration that best fits your calibration objectives:\n",
      "   • Vega weighting: Emphasizes liquid strikes with high sensitivity\n",
      "   • Uniform weighting: Equal importance to all strikes\n",
      "   • ATM focused: Prioritizes at-the-money accuracy\n",
      "   • Inverse vol: Higher weight on low volatility (often OTM) strikes\n",
      "   • RMSE: Standard least squares (sensitive to outliers)\n",
      "   • MAE: Robust to outliers\n",
      "   • Huber: Balanced between RMSE and MAE\n",
      "\n",
      "🎯 Current model uses: vega weighting with rmse metric\n",
      "✅ Final loss value: 0.001448\n"
     ]
    }
   ],
   "source": [
    "# 🧪 Advanced Loss Function Configuration Examples\n",
    "print(f\"🔬 Demonstrating different loss configurations for {MODEL_TYPE.title()} Wing Model...\")\n",
    "\n",
    "# Test different loss function configurations\n",
    "loss_configs = {\n",
    "    'vega_rmse': {\n",
    "        'weight_type': 'vega',\n",
    "        'metric': 'rmse',\n",
    "        'description': 'Vega-weighted RMSE (default)'\n",
    "    },\n",
    "    'uniform_mae': {\n",
    "        'weight_type': 'uniform', \n",
    "        'metric': 'mae',\n",
    "        'description': 'Uniform-weighted Mean Absolute Error'\n",
    "    },\n",
    "    'atm_focused_rmse': {\n",
    "        'weight_type': 'atm_focused',\n",
    "        'metric': 'rmse', \n",
    "        'description': 'ATM-focused weighting with RMSE'\n",
    "    },\n",
    "    'inverse_vol_huber': {\n",
    "        'weight_type': 'inverse_vol',\n",
    "        'metric': 'huber',\n",
    "        'description': 'Inverse volatility weighting with Huber loss'\n",
    "    }\n",
    "}\n",
    "\n",
    "# Test each configuration (quick calibration)\n",
    "results_comparison = {}\n",
    "\n",
    "for config_name, config in loss_configs.items():\n",
    "    print(f\"\\n🎯 Testing: {config['description']}\")\n",
    "    \n",
    "    # Create calibrator with specific config\n",
    "    test_calibrator = GenericVolatilityModelCalibrator(MODEL_TYPE, market_data, config)\n",
    "    test_loss_function = test_calibrator.create_loss_function()\n",
    "    \n",
    "    # Quick optimization (fewer iterations for comparison)\n",
    "    test_result = optimize.minimize(\n",
    "        fun=test_loss_function,\n",
    "        x0=initial_params,\n",
    "        method=\"SLSQP\",\n",
    "        options={'disp': False, 'maxiter': 200}  # Fewer iterations for demo\n",
    "    )\n",
    "    \n",
    "    if test_result.success:\n",
    "        results_comparison[config_name] = {\n",
    "            'loss_value': test_result.fun,\n",
    "            'success': True,\n",
    "            'config': config,\n",
    "            'iterations': test_result.nit if hasattr(test_result, 'nit') else 'N/A'\n",
    "        }\n",
    "        print(f\"   ✅ {config['metric'].upper()}: {test_result.fun:.6f}\")\n",
    "    else:\n",
    "        results_comparison[config_name] = {\n",
    "            'loss_value': None,\n",
    "            'success': False,\n",
    "            'config': config\n",
    "        }\n",
    "        print(f\"   ❌ Failed to converge\")\n",
    "\n",
    "# Display comparison summary\n",
    "print(f\"\\n📊 Loss Configuration Comparison for {MODEL_TYPE.title()} Model:\")\n",
    "print(\"-\" * 80)\n",
    "print(f\"{'Configuration':<20} {'Success':<8} {'Loss Value':<12} {'Description'}\")\n",
    "print(\"-\" * 80)\n",
    "\n",
    "for config_name, result in results_comparison.items():\n",
    "    success_icon = \"✅\" if result['success'] else \"❌\"\n",
    "    loss_str = f\"{result['loss_value']:.6f}\" if result['loss_value'] is not None else \"Failed\"\n",
    "    print(f\"{config_name:<20} {success_icon:<8} {loss_str:<12} {result['config']['description']}\")\n",
    "\n",
    "print(\"\\n💡 Choose the configuration that best fits your calibration objectives:\")\n",
    "print(\"   • Vega weighting: Emphasizes liquid strikes with high sensitivity\")\n",
    "print(\"   • Uniform weighting: Equal importance to all strikes\")  \n",
    "print(\"   • ATM focused: Prioritizes at-the-money accuracy\")\n",
    "print(\"   • Inverse vol: Higher weight on low volatility (often OTM) strikes\")\n",
    "print(\"   • RMSE: Standard least squares (sensitive to outliers)\")\n",
    "print(\"   • MAE: Robust to outliers\")\n",
    "print(\"   • Huber: Balanced between RMSE and MAE\")\n",
    "\n",
    "print(f\"\\n🎯 Current model uses: {loss_config['weight_type']} weighting with {loss_config['metric']} metric\")\n",
    "print(f\"✅ Final loss value: {optimization_result.fun:.6f}\")"
   ]
  },
  {
   "cell_type": "code",
   "execution_count": 15,
   "id": "4606d450",
   "metadata": {},
   "outputs": [
    {
     "data": {
      "text/html": [
       "<div><style>\n",
       ".dataframe > thead > tr,\n",
       ".dataframe > tbody > tr {\n",
       "  text-align: right;\n",
       "  white-space: pre-wrap;\n",
       "}\n",
       "</style>\n",
       "<small>shape: (5, 28)</small><table border=\"1\" class=\"dataframe\"><thead><tr><th>timestamp</th><th>bq0_C</th><th>bp0_C</th><th>bp0_C_usd</th><th>ap0_C_usd</th><th>ap0_C</th><th>aq0_C</th><th>strike</th><th>bq0_P</th><th>bp0_P</th><th>bp0_P_usd</th><th>ap0_P_usd</th><th>ap0_P</th><th>aq0_P</th><th>S</th><th>F</th><th>expiry</th><th>tau</th><th>r</th><th>bidVola_C</th><th>askVola_C</th><th>bidVola_P</th><th>askVola_P</th><th>bidVola</th><th>askVola</th><th>midVola</th><th>volSpread</th><th>vega</th></tr><tr><td>datetime[ns]</td><td>f64</td><td>f64</td><td>f64</td><td>f64</td><td>f64</td><td>f64</td><td>i64</td><td>f64</td><td>f64</td><td>f64</td><td>f64</td><td>f64</td><td>f64</td><td>f64</td><td>f64</td><td>str</td><td>f64</td><td>f64</td><td>f64</td><td>f64</td><td>f64</td><td>f64</td><td>f64</td><td>f64</td><td>f64</td><td>f64</td><td>f64</td></tr></thead><tbody><tr><td>2024-02-29 14:12:00</td><td>33.4</td><td>0.3355</td><td>21207.13</td><td>21816.5</td><td>0.34514</td><td>33.3</td><td>42000</td><td>11.7</td><td>0.0011</td><td>69.53</td><td>88.49</td><td>0.0014</td><td>6.6</td><td>63210.53</td><td>63801.13</td><td>&quot;15MAR24&quot;</td><td>0.040388</td><td>0.19</td><td>2.36</td><td>117.099485</td><td>99.85926</td><td>103.60369</td><td>99.86</td><td>103.6</td><td>101.73</td><td>3.74</td><td>5.06</td></tr><tr><td>2024-02-29 14:12:00</td><td>13.3</td><td>0.31</td><td>19595.26</td><td>19816.5</td><td>0.3135</td><td>6.4</td><td>44000</td><td>32.7</td><td>0.0015</td><td>94.82</td><td>120.1</td><td>0.0019</td><td>15.0</td><td>63210.53</td><td>63801.13</td><td>&quot;15MAR24&quot;</td><td>0.040388</td><td>0.19</td><td>2.36</td><td>104.182834</td><td>94.497062</td><td>98.288882</td><td>94.5</td><td>98.29</td><td>96.4</td><td>3.79</td><td>6.67</td></tr><tr><td>2024-02-29 14:12:00</td><td>11.0</td><td>0.2945</td><td>18615.5</td><td>18836.74</td><td>0.298</td><td>6.4</td><td>45000</td><td>26.7</td><td>0.0018</td><td>113.78</td><td>139.06</td><td>0.0022</td><td>14.7</td><td>63210.53</td><td>63801.13</td><td>&quot;15MAR24&quot;</td><td>0.040388</td><td>0.19</td><td>2.36</td><td>100.169591</td><td>92.291621</td><td>95.584157</td><td>92.29</td><td>95.58</td><td>93.94</td><td>3.29</td><td>7.68</td></tr><tr><td>2024-02-29 14:12:00</td><td>13.7</td><td>0.279</td><td>17635.74</td><td>17856.97</td><td>0.2825</td><td>5.0</td><td>46000</td><td>20.4</td><td>0.0022</td><td>139.06</td><td>158.03</td><td>0.0025</td><td>8.0</td><td>63210.53</td><td>63801.13</td><td>&quot;15MAR24&quot;</td><td>0.040388</td><td>0.19</td><td>2.36</td><td>96.084378</td><td>90.434249</td><td>92.584475</td><td>90.43</td><td>92.58</td><td>91.5</td><td>2.15</td><td>8.82</td></tr><tr><td>2024-02-29 14:12:00</td><td>12.2</td><td>0.264</td><td>16687.58</td><td>16908.82</td><td>0.2675</td><td>6.3</td><td>47000</td><td>26.8</td><td>0.0025</td><td>158.03</td><td>183.31</td><td>0.0029</td><td>8.0</td><td>63210.53</td><td>63801.13</td><td>&quot;15MAR24&quot;</td><td>0.040388</td><td>0.19</td><td>61.629651</td><td>94.687499</td><td>87.425918</td><td>89.959556</td><td>87.43</td><td>89.96</td><td>88.7</td><td>2.53</td><td>9.98</td></tr></tbody></table></div>"
      ],
      "text/plain": [
       "shape: (5, 28)\n",
       "┌─────────────────────┬───────┬────────┬───────────┬───┬─────────┬─────────┬───────────┬──────┐\n",
       "│ timestamp           ┆ bq0_C ┆ bp0_C  ┆ bp0_C_usd ┆ … ┆ askVola ┆ midVola ┆ volSpread ┆ vega │\n",
       "│ ---                 ┆ ---   ┆ ---    ┆ ---       ┆   ┆ ---     ┆ ---     ┆ ---       ┆ ---  │\n",
       "│ datetime[ns]        ┆ f64   ┆ f64    ┆ f64       ┆   ┆ f64     ┆ f64     ┆ f64       ┆ f64  │\n",
       "╞═════════════════════╪═══════╪════════╪═══════════╪═══╪═════════╪═════════╪═══════════╪══════╡\n",
       "│ 2024-02-29 14:12:00 ┆ 33.4  ┆ 0.3355 ┆ 21207.13  ┆ … ┆ 103.6   ┆ 101.73  ┆ 3.74      ┆ 5.06 │\n",
       "│ 2024-02-29 14:12:00 ┆ 13.3  ┆ 0.31   ┆ 19595.26  ┆ … ┆ 98.29   ┆ 96.4    ┆ 3.79      ┆ 6.67 │\n",
       "│ 2024-02-29 14:12:00 ┆ 11.0  ┆ 0.2945 ┆ 18615.5   ┆ … ┆ 95.58   ┆ 93.94   ┆ 3.29      ┆ 7.68 │\n",
       "│ 2024-02-29 14:12:00 ┆ 13.7  ┆ 0.279  ┆ 17635.74  ┆ … ┆ 92.58   ┆ 91.5    ┆ 2.15      ┆ 8.82 │\n",
       "│ 2024-02-29 14:12:00 ┆ 12.2  ┆ 0.264  ┆ 16687.58  ┆ … ┆ 89.96   ┆ 88.7    ┆ 2.53      ┆ 9.98 │\n",
       "└─────────────────────┴───────┴────────┴───────────┴───┴─────────┴─────────┴───────────┴──────┘"
      ]
     },
     "execution_count": 15,
     "metadata": {},
     "output_type": "execute_result"
    }
   ],
   "source": [
    "df_option_with_vola_and_greeks.head()"
   ]
  },
  {
   "cell_type": "code",
   "execution_count": null,
   "id": "76db9d70",
   "metadata": {},
   "outputs": [],
   "source": [
    "my_model.get_strike_ranges()"
   ]
  },
  {
   "cell_type": "code",
   "execution_count": 16,
   "id": "fb24841e",
   "metadata": {},
   "outputs": [
    {
     "data": {
      "application/vnd.plotly.v1+json": {
       "config": {
        "plotlyServerURL": "https://plot.ly"
       },
       "data": [
        {
         "error_y": {
          "array": {
           "bdata": "wFG4HoXr/T9ACtejcD3+P0AK16NwPfo/QOF6FK5H8T8AXI/C9Sj0P8D1KFyPwvE/AB+F61G47j/AzMzMzMzwPwCF61G4Hv0/wJmZmZmZ+T9AZmZmZmb2P4DrUbgehfM/gD0K16Nw8T8A16NwPQrvPwBcj8L1KOw/AFK4HoXr6T8AAAAAAADoP8DMzMzMzPA/gD0K16Nw5T8AzczMzMzkPwBcj8L1KOQ/gGZmZmZm5j+ACtejcD3qP4BmZmZmZu4/AM3MzMzM5D8APQrXo3DlP4DhehSuR/E/AOF6FK5H6T8AzczMzMzsP4AUrkfhevA/",
           "dtype": "f8"
          },
          "arrayminus": {
           "bdata": "AFK4HoXr/T+AZmZmZmb+P0BmZmZmZvo/AIXrUbge8T9AuB6F61H0P4CZmZmZmfE/gB6F61G47j/AcD0K16PwP0CF61G4Hv0/wPUoXI/C+T+AZmZmZmb2P8BH4XoUrvM/gJmZmZmZ8T+A16NwPQrvPwBcj8L1KOw/gJmZmZmZ6T8AAAAAAADoPwApXI/C9fA/gD0K16Nw5T+AFK5H4XrkP4Bcj8L1KOQ/gGZmZmZm5j+AwvUoXI/qPwCuR+F6FO4/gBSuR+F65D+AhetRuB7lPwCF61G4HvE/gOF6FK5H6T8AzczMzMzsP4AUrkfhevA/",
           "dtype": "f8"
          },
          "color": "blue",
          "symmetric": false,
          "thickness": 2,
          "type": "data",
          "visible": true,
          "width": 3
         },
         "marker": {
          "color": "blue",
          "size": 8,
          "symbol": "circle"
         },
         "mode": "markers",
         "name": "Market IV (Bid/Ask Range)",
         "opacity": 0.8,
         "type": "scatter",
         "x": {
          "bdata": "EKQAAOCrAADIrwAAsLMAAJi3AACAuwAAaL8AAFDDAAA4xwAAIMsAAAjPAADw0gAA2NYAAMDaAACo3gAAkOIAAHjmAABg6gAASO4AADDyAAAY9gAAAPoAAOj9AADQAQEAuAUBAKAJAQBwEQEAQBkBABAhAQDgKAEA",
          "dtype": "i4"
         },
         "y": {
          "bdata": "H4XrUbhuWUCamZmZmRlYQFyPwvUofFdAAAAAAADgVkDNzMzMzCxWQFyPwvUonFVA4XoUrkcRVUBSuB6F65FUQHE9CtejIFRAuB6F61GYU0B7FK5H4UpTQAAAAAAAIFNAAAAAAADAUkDD9Shcj7JSQHsUrkfhalJACtejcD1aUkBxPQrXo0BSQKRwPQrXM1JApHA9CtdDUkCPwvUoXC9SQPYoXI/CNVJACtejcD1aUkAUrkfhenRSQBSuR+F6hFJAuB6F61GoUkDD9Shcj7JSQGZmZmZmBlNAexSuR+F6U0BSuB6F67FTQEjhehSuF1RA",
          "dtype": "f8"
         }
        },
        {
         "line": {
          "color": "black",
          "dash": "solid",
          "width": 3
         },
         "marker": {
          "color": "black",
          "size": 10,
          "symbol": "diamond"
         },
         "mode": "lines+markers",
         "name": "Time-Adjusted Wing Model Fit",
         "type": "scatter",
         "x": {
          "bdata": "EKQAAOCrAADIrwAAsLMAAJi3AACAuwAAaL8AAFDDAAA4xwAAIMsAAAjPAADw0gAA2NYAAMDaAACo3gAAkOIAAHjmAABg6gAASO4AADDyAAAY9gAAAPoAAOj9AADQAQEAuAUBAKAJAQBwEQEAQBkBABAhAQDgKAEA",
          "dtype": "i4"
         },
         "y": [
          104.62339259859532,
          97.21117116802488,
          93.98193992599626,
          91.04515291559679,
          88.38351834549836,
          85.98103305560944,
          83.82286419520739,
          81.89524381742687,
          80.18537476076612,
          78.68134642068499,
          77.3720592099183,
          76.24715667122895,
          75.29696434618108,
          74.51243462236677,
          73.88509688282754,
          73.40701236802782,
          73.07073323499584,
          72.86926536208989,
          72.79603450287962,
          72.84485544018999,
          73.009903832555,
          73.2856904811078,
          73.66012001686309,
          74.0876995832584,
          74.55922612134397,
          75.07265658767824,
          76.2176046105142,
          77.50829086260894,
          78.93191746306755,
          80.47696384138231
         ]
        }
       ],
       "layout": {
        "annotations": [
         {
          "showarrow": false,
          "text": "Forward: 63801",
          "x": 63801.13,
          "xanchor": "left",
          "xref": "x",
          "y": 1,
          "yanchor": "top",
          "yref": "y domain"
         }
        ],
        "height": 600,
        "legend": {
         "orientation": "v",
         "x": 1.02,
         "xanchor": "left",
         "y": 1,
         "yanchor": "top"
        },
        "shapes": [
         {
          "line": {
           "color": "purple",
           "dash": "dot",
           "width": 2
          },
          "type": "line",
          "x0": 63801.13,
          "x1": 63801.13,
          "xref": "x",
          "y0": 0,
          "y1": 1,
          "yref": "y domain"
         }
        ],
        "template": {
         "data": {
          "bar": [
           {
            "error_x": {
             "color": "#2a3f5f"
            },
            "error_y": {
             "color": "#2a3f5f"
            },
            "marker": {
             "line": {
              "color": "white",
              "width": 0.5
             },
             "pattern": {
              "fillmode": "overlay",
              "size": 10,
              "solidity": 0.2
             }
            },
            "type": "bar"
           }
          ],
          "barpolar": [
           {
            "marker": {
             "line": {
              "color": "white",
              "width": 0.5
             },
             "pattern": {
              "fillmode": "overlay",
              "size": 10,
              "solidity": 0.2
             }
            },
            "type": "barpolar"
           }
          ],
          "carpet": [
           {
            "aaxis": {
             "endlinecolor": "#2a3f5f",
             "gridcolor": "#C8D4E3",
             "linecolor": "#C8D4E3",
             "minorgridcolor": "#C8D4E3",
             "startlinecolor": "#2a3f5f"
            },
            "baxis": {
             "endlinecolor": "#2a3f5f",
             "gridcolor": "#C8D4E3",
             "linecolor": "#C8D4E3",
             "minorgridcolor": "#C8D4E3",
             "startlinecolor": "#2a3f5f"
            },
            "type": "carpet"
           }
          ],
          "choropleth": [
           {
            "colorbar": {
             "outlinewidth": 0,
             "ticks": ""
            },
            "type": "choropleth"
           }
          ],
          "contour": [
           {
            "colorbar": {
             "outlinewidth": 0,
             "ticks": ""
            },
            "colorscale": [
             [
              0,
              "#0d0887"
             ],
             [
              0.1111111111111111,
              "#46039f"
             ],
             [
              0.2222222222222222,
              "#7201a8"
             ],
             [
              0.3333333333333333,
              "#9c179e"
             ],
             [
              0.4444444444444444,
              "#bd3786"
             ],
             [
              0.5555555555555556,
              "#d8576b"
             ],
             [
              0.6666666666666666,
              "#ed7953"
             ],
             [
              0.7777777777777778,
              "#fb9f3a"
             ],
             [
              0.8888888888888888,
              "#fdca26"
             ],
             [
              1,
              "#f0f921"
             ]
            ],
            "type": "contour"
           }
          ],
          "contourcarpet": [
           {
            "colorbar": {
             "outlinewidth": 0,
             "ticks": ""
            },
            "type": "contourcarpet"
           }
          ],
          "heatmap": [
           {
            "colorbar": {
             "outlinewidth": 0,
             "ticks": ""
            },
            "colorscale": [
             [
              0,
              "#0d0887"
             ],
             [
              0.1111111111111111,
              "#46039f"
             ],
             [
              0.2222222222222222,
              "#7201a8"
             ],
             [
              0.3333333333333333,
              "#9c179e"
             ],
             [
              0.4444444444444444,
              "#bd3786"
             ],
             [
              0.5555555555555556,
              "#d8576b"
             ],
             [
              0.6666666666666666,
              "#ed7953"
             ],
             [
              0.7777777777777778,
              "#fb9f3a"
             ],
             [
              0.8888888888888888,
              "#fdca26"
             ],
             [
              1,
              "#f0f921"
             ]
            ],
            "type": "heatmap"
           }
          ],
          "histogram": [
           {
            "marker": {
             "pattern": {
              "fillmode": "overlay",
              "size": 10,
              "solidity": 0.2
             }
            },
            "type": "histogram"
           }
          ],
          "histogram2d": [
           {
            "colorbar": {
             "outlinewidth": 0,
             "ticks": ""
            },
            "colorscale": [
             [
              0,
              "#0d0887"
             ],
             [
              0.1111111111111111,
              "#46039f"
             ],
             [
              0.2222222222222222,
              "#7201a8"
             ],
             [
              0.3333333333333333,
              "#9c179e"
             ],
             [
              0.4444444444444444,
              "#bd3786"
             ],
             [
              0.5555555555555556,
              "#d8576b"
             ],
             [
              0.6666666666666666,
              "#ed7953"
             ],
             [
              0.7777777777777778,
              "#fb9f3a"
             ],
             [
              0.8888888888888888,
              "#fdca26"
             ],
             [
              1,
              "#f0f921"
             ]
            ],
            "type": "histogram2d"
           }
          ],
          "histogram2dcontour": [
           {
            "colorbar": {
             "outlinewidth": 0,
             "ticks": ""
            },
            "colorscale": [
             [
              0,
              "#0d0887"
             ],
             [
              0.1111111111111111,
              "#46039f"
             ],
             [
              0.2222222222222222,
              "#7201a8"
             ],
             [
              0.3333333333333333,
              "#9c179e"
             ],
             [
              0.4444444444444444,
              "#bd3786"
             ],
             [
              0.5555555555555556,
              "#d8576b"
             ],
             [
              0.6666666666666666,
              "#ed7953"
             ],
             [
              0.7777777777777778,
              "#fb9f3a"
             ],
             [
              0.8888888888888888,
              "#fdca26"
             ],
             [
              1,
              "#f0f921"
             ]
            ],
            "type": "histogram2dcontour"
           }
          ],
          "mesh3d": [
           {
            "colorbar": {
             "outlinewidth": 0,
             "ticks": ""
            },
            "type": "mesh3d"
           }
          ],
          "parcoords": [
           {
            "line": {
             "colorbar": {
              "outlinewidth": 0,
              "ticks": ""
             }
            },
            "type": "parcoords"
           }
          ],
          "pie": [
           {
            "automargin": true,
            "type": "pie"
           }
          ],
          "scatter": [
           {
            "fillpattern": {
             "fillmode": "overlay",
             "size": 10,
             "solidity": 0.2
            },
            "type": "scatter"
           }
          ],
          "scatter3d": [
           {
            "line": {
             "colorbar": {
              "outlinewidth": 0,
              "ticks": ""
             }
            },
            "marker": {
             "colorbar": {
              "outlinewidth": 0,
              "ticks": ""
             }
            },
            "type": "scatter3d"
           }
          ],
          "scattercarpet": [
           {
            "marker": {
             "colorbar": {
              "outlinewidth": 0,
              "ticks": ""
             }
            },
            "type": "scattercarpet"
           }
          ],
          "scattergeo": [
           {
            "marker": {
             "colorbar": {
              "outlinewidth": 0,
              "ticks": ""
             }
            },
            "type": "scattergeo"
           }
          ],
          "scattergl": [
           {
            "marker": {
             "colorbar": {
              "outlinewidth": 0,
              "ticks": ""
             }
            },
            "type": "scattergl"
           }
          ],
          "scattermap": [
           {
            "marker": {
             "colorbar": {
              "outlinewidth": 0,
              "ticks": ""
             }
            },
            "type": "scattermap"
           }
          ],
          "scattermapbox": [
           {
            "marker": {
             "colorbar": {
              "outlinewidth": 0,
              "ticks": ""
             }
            },
            "type": "scattermapbox"
           }
          ],
          "scatterpolar": [
           {
            "marker": {
             "colorbar": {
              "outlinewidth": 0,
              "ticks": ""
             }
            },
            "type": "scatterpolar"
           }
          ],
          "scatterpolargl": [
           {
            "marker": {
             "colorbar": {
              "outlinewidth": 0,
              "ticks": ""
             }
            },
            "type": "scatterpolargl"
           }
          ],
          "scatterternary": [
           {
            "marker": {
             "colorbar": {
              "outlinewidth": 0,
              "ticks": ""
             }
            },
            "type": "scatterternary"
           }
          ],
          "surface": [
           {
            "colorbar": {
             "outlinewidth": 0,
             "ticks": ""
            },
            "colorscale": [
             [
              0,
              "#0d0887"
             ],
             [
              0.1111111111111111,
              "#46039f"
             ],
             [
              0.2222222222222222,
              "#7201a8"
             ],
             [
              0.3333333333333333,
              "#9c179e"
             ],
             [
              0.4444444444444444,
              "#bd3786"
             ],
             [
              0.5555555555555556,
              "#d8576b"
             ],
             [
              0.6666666666666666,
              "#ed7953"
             ],
             [
              0.7777777777777778,
              "#fb9f3a"
             ],
             [
              0.8888888888888888,
              "#fdca26"
             ],
             [
              1,
              "#f0f921"
             ]
            ],
            "type": "surface"
           }
          ],
          "table": [
           {
            "cells": {
             "fill": {
              "color": "#EBF0F8"
             },
             "line": {
              "color": "white"
             }
            },
            "header": {
             "fill": {
              "color": "#C8D4E3"
             },
             "line": {
              "color": "white"
             }
            },
            "type": "table"
           }
          ]
         },
         "layout": {
          "annotationdefaults": {
           "arrowcolor": "#2a3f5f",
           "arrowhead": 0,
           "arrowwidth": 1
          },
          "autotypenumbers": "strict",
          "coloraxis": {
           "colorbar": {
            "outlinewidth": 0,
            "ticks": ""
           }
          },
          "colorscale": {
           "diverging": [
            [
             0,
             "#8e0152"
            ],
            [
             0.1,
             "#c51b7d"
            ],
            [
             0.2,
             "#de77ae"
            ],
            [
             0.3,
             "#f1b6da"
            ],
            [
             0.4,
             "#fde0ef"
            ],
            [
             0.5,
             "#f7f7f7"
            ],
            [
             0.6,
             "#e6f5d0"
            ],
            [
             0.7,
             "#b8e186"
            ],
            [
             0.8,
             "#7fbc41"
            ],
            [
             0.9,
             "#4d9221"
            ],
            [
             1,
             "#276419"
            ]
           ],
           "sequential": [
            [
             0,
             "#0d0887"
            ],
            [
             0.1111111111111111,
             "#46039f"
            ],
            [
             0.2222222222222222,
             "#7201a8"
            ],
            [
             0.3333333333333333,
             "#9c179e"
            ],
            [
             0.4444444444444444,
             "#bd3786"
            ],
            [
             0.5555555555555556,
             "#d8576b"
            ],
            [
             0.6666666666666666,
             "#ed7953"
            ],
            [
             0.7777777777777778,
             "#fb9f3a"
            ],
            [
             0.8888888888888888,
             "#fdca26"
            ],
            [
             1,
             "#f0f921"
            ]
           ],
           "sequentialminus": [
            [
             0,
             "#0d0887"
            ],
            [
             0.1111111111111111,
             "#46039f"
            ],
            [
             0.2222222222222222,
             "#7201a8"
            ],
            [
             0.3333333333333333,
             "#9c179e"
            ],
            [
             0.4444444444444444,
             "#bd3786"
            ],
            [
             0.5555555555555556,
             "#d8576b"
            ],
            [
             0.6666666666666666,
             "#ed7953"
            ],
            [
             0.7777777777777778,
             "#fb9f3a"
            ],
            [
             0.8888888888888888,
             "#fdca26"
            ],
            [
             1,
             "#f0f921"
            ]
           ]
          },
          "colorway": [
           "#636efa",
           "#EF553B",
           "#00cc96",
           "#ab63fa",
           "#FFA15A",
           "#19d3f3",
           "#FF6692",
           "#B6E880",
           "#FF97FF",
           "#FECB52"
          ],
          "font": {
           "color": "#2a3f5f"
          },
          "geo": {
           "bgcolor": "white",
           "lakecolor": "white",
           "landcolor": "white",
           "showlakes": true,
           "showland": true,
           "subunitcolor": "#C8D4E3"
          },
          "hoverlabel": {
           "align": "left"
          },
          "hovermode": "closest",
          "mapbox": {
           "style": "light"
          },
          "paper_bgcolor": "white",
          "plot_bgcolor": "white",
          "polar": {
           "angularaxis": {
            "gridcolor": "#EBF0F8",
            "linecolor": "#EBF0F8",
            "ticks": ""
           },
           "bgcolor": "white",
           "radialaxis": {
            "gridcolor": "#EBF0F8",
            "linecolor": "#EBF0F8",
            "ticks": ""
           }
          },
          "scene": {
           "xaxis": {
            "backgroundcolor": "white",
            "gridcolor": "#DFE8F3",
            "gridwidth": 2,
            "linecolor": "#EBF0F8",
            "showbackground": true,
            "ticks": "",
            "zerolinecolor": "#EBF0F8"
           },
           "yaxis": {
            "backgroundcolor": "white",
            "gridcolor": "#DFE8F3",
            "gridwidth": 2,
            "linecolor": "#EBF0F8",
            "showbackground": true,
            "ticks": "",
            "zerolinecolor": "#EBF0F8"
           },
           "zaxis": {
            "backgroundcolor": "white",
            "gridcolor": "#DFE8F3",
            "gridwidth": 2,
            "linecolor": "#EBF0F8",
            "showbackground": true,
            "ticks": "",
            "zerolinecolor": "#EBF0F8"
           }
          },
          "shapedefaults": {
           "line": {
            "color": "#2a3f5f"
           }
          },
          "ternary": {
           "aaxis": {
            "gridcolor": "#DFE8F3",
            "linecolor": "#A2B1C6",
            "ticks": ""
           },
           "baxis": {
            "gridcolor": "#DFE8F3",
            "linecolor": "#A2B1C6",
            "ticks": ""
           },
           "bgcolor": "white",
           "caxis": {
            "gridcolor": "#DFE8F3",
            "linecolor": "#A2B1C6",
            "ticks": ""
           }
          },
          "title": {
           "x": 0.05
          },
          "xaxis": {
           "automargin": true,
           "gridcolor": "#EBF0F8",
           "linecolor": "#EBF0F8",
           "ticks": "",
           "title": {
            "standoff": 15
           },
           "zerolinecolor": "#EBF0F8",
           "zerolinewidth": 2
          },
          "yaxis": {
           "automargin": true,
           "gridcolor": "#EBF0F8",
           "linecolor": "#EBF0F8",
           "ticks": "",
           "title": {
            "standoff": 15
           },
           "zerolinecolor": "#EBF0F8",
           "zerolinewidth": 2
          }
         }
        },
        "title": {
         "text": "2024-02-29 14:12:00: Time-Adjusted Wing Model vs Market Data - 15MAR24 Expiry<br><span style='font-size:14px'>Forward: 63211 | τ: 0.0404 | atm_vol=0.735 | slope=0.127 | curve_up=0.296 | curve_down=0.607 | cut_up=1.000 | cut_dn=-1.000 | mSmUp=5.000 | mSmDn=5.000</span>",
         "x": 0.5
        },
        "xaxis": {
         "title": {
          "text": "Strike Price"
         }
        },
        "yaxis": {
         "title": {
          "text": "Implied Volatility (%)"
         }
        }
       }
      }
     },
     "metadata": {},
     "output_type": "display_data"
    },
    {
     "name": "stdout",
     "output_type": "stream",
     "text": [
      "\n",
      "📊 Time-Adjusted Wing Model Fit Quality:\n",
      "RMSE: 0.0062 (0.62%)\n",
      "MAE:  0.0036 (0.36%)\n",
      "Max Error: 0.0289 (2.89%)\n",
      "Optimization Success: True\n",
      "\n",
      "🎯 Model Parameters:\n",
      "atm_vol: 0.7346\n",
      "slope: 0.1274\n",
      "curve_up: 0.2962\n",
      "curve_down: 0.6074\n",
      "cut_up: 1.0000\n",
      "cut_dn: -1.0000\n",
      "mSmUp: 5.0000\n",
      "mSmDn: 5.0000\n",
      "\n",
      "📈 Volatility Range:\n",
      "Market: 72.7% - 101.7%\n",
      "Fitted: 72.8% - 104.6%\n"
     ]
    }
   ],
   "source": [
    "# Calculate fitted volatilities using the calibrated model\n",
    "if my_model is not None:\n",
    "    fitted_vols = [my_model.calculate_volatility_from_strike(strike) * 100 for strike in df_option_with_vola_and_greeks['strike']]\n",
    "    model_name = \"Time-Adjusted Wing Model\" if MODEL_TYPE == 'time_adjusted' else \"Traditional Wing Model\" \n",
    "    rmse_value = optimization_result.fun\n",
    "    # Create the comparison plot\n",
    "    fig = go.Figure()\n",
    "    \n",
    "    # Add market volatility with bid/ask error bars\n",
    "    fig.add_trace(go.Scatter(\n",
    "        x=df_option_with_vola_and_greeks['strike'],\n",
    "        y=df_option_with_vola_and_greeks['midVola'],\n",
    "        mode='markers',\n",
    "        name='Market IV (Bid/Ask Range)',\n",
    "        marker=dict(color='blue', symbol='circle', size=8),\n",
    "        error_y=dict(\n",
    "            type='data',\n",
    "            symmetric=False,\n",
    "            array=df_option_with_vola_and_greeks['askVola'] - df_option_with_vola_and_greeks['midVola'],\n",
    "            arrayminus=df_option_with_vola_and_greeks['midVola'] - df_option_with_vola_and_greeks['bidVola'],\n",
    "            visible=True,\n",
    "            color='blue',\n",
    "            thickness=2,\n",
    "            width=3\n",
    "        ),\n",
    "        opacity=0.8\n",
    "    ))\n",
    "    \n",
    "    # Add the fitted volatility curve\n",
    "    fig.add_trace(go.Scatter(\n",
    "        x=df_option_with_vola_and_greeks['strike'],\n",
    "        y=fitted_vols,\n",
    "        mode='lines+markers',\n",
    "        name=f'{model_name} Fit',\n",
    "        line=dict(color='black', width=3, dash='solid'),\n",
    "        marker=dict(color='black', symbol='diamond', size=10),\n",
    "    ))\n",
    "    \n",
    "    # Add vertical lines for reference\n",
    "    forward_price = df_option_with_vola_and_greeks['F'][0]\n",
    "    \n",
    "    fig.add_vline(x=forward_price, line=dict(color='purple', dash='dot', width=2), \n",
    "                  annotation_text=f\"Forward: {forward_price:.0f}\")\n",
    "    \n",
    "    # Get spot price and tau for title\n",
    "    forward_price = df_option_with_vola_and_greeks['F'][0]\n",
    "    tau_value = df_option_with_vola_and_greeks['tau'][0]\n",
    "    \n",
    "    # Get parameter summary based on model type\n",
    "    param_names = ['atm_vol', 'slope', 'curve_up', 'curve_down', 'cut_up', 'cut_dn', 'mSmUp', 'mSmDn'] if MODEL_TYPE == \"time_adjusted\" else ['vr', 'sr', 'pc', 'cc', 'dc']\n",
    "    param_values = optimization_result.x\n",
    "    param_string = \" | \".join([f\"{name}={value:.3f}\" for name, value in zip(param_names, param_values)])\n",
    "    \n",
    "    ts = df_option_with_vola_and_greeks['timestamp'][0]\n",
    "    \n",
    "    # Update layout\n",
    "    fig.update_layout(\n",
    "        title=dict(\n",
    "            text=f\"{ts}: {model_name} vs Market Data - {my_expiry} Expiry<br><span style='font-size:14px'>Forward: {forward_price:.0f} | τ: {tau_value:.4f} | {param_string}</span>\",\n",
    "            x=0.5\n",
    "        ),\n",
    "        xaxis_title=\"Strike Price\",\n",
    "        yaxis_title=\"Implied Volatility (%)\",\n",
    "        template=\"plotly_white\",\n",
    "        height=600,\n",
    "        legend=dict(\n",
    "            orientation=\"v\",\n",
    "            yanchor=\"top\",\n",
    "            y=1,\n",
    "            xanchor=\"left\",\n",
    "            x=1.02\n",
    "        )\n",
    "    )\n",
    "    \n",
    "    fig.show()\n",
    "    \n",
    "    # Calculate and display fit quality metrics\n",
    "    market_vols = [max(c, p) for c, p in zip((df_option_with_vola_and_greeks['bidVola_C']+df_option_with_vola_and_greeks['askVola_C'])/2, \n",
    "                                             (df_option_with_vola_and_greeks['bidVola_P']+df_option_with_vola_and_greeks['askVola_P'])/2)]\n",
    "    fitted_vols_decimal = [v/100 for v in fitted_vols]\n",
    "    market_vols_decimal = [v/100 for v in market_vols]\n",
    "    \n",
    "    # Calculate metrics\n",
    "    rmse = np.sqrt(np.mean([(f - m)**2 for f, m in zip(fitted_vols_decimal, market_vols_decimal)]))\n",
    "    mae = np.mean([abs(f - m) for f, m in zip(fitted_vols_decimal, market_vols_decimal)])\n",
    "    max_error = max([abs(f - m) for f, m in zip(fitted_vols_decimal, market_vols_decimal)])\n",
    "    \n",
    "    print(f\"\\n📊 {model_name} Fit Quality:\")\n",
    "    print(f\"RMSE: {rmse:.4f} ({rmse*100:.2f}%)\")\n",
    "    print(f\"MAE:  {mae:.4f} ({mae*100:.2f}%)\")\n",
    "    print(f\"Max Error: {max_error:.4f} ({max_error*100:.2f}%)\")\n",
    "    print(f\"Optimization Success: {optimization_result.success if MODEL_TYPE == 'traditional' else optimization_result.success}\")\n",
    "    \n",
    "    print(f\"\\n🎯 Model Parameters:\")\n",
    "    for name, value in zip(param_names, optimization_result.x):\n",
    "        print(f\"{name}: {value:.4f}\")\n",
    "    \n",
    "    print(f\"\\n📈 Volatility Range:\")\n",
    "    print(f\"Market: {min(market_vols):.1f}% - {max(market_vols):.1f}%\")\n",
    "    print(f\"Fitted: {min(fitted_vols):.1f}% - {max(fitted_vols):.1f}%\")\n",
    "else:\n",
    "    print(\"❌ No model available for visualization\")"
   ]
  },
  {
   "cell_type": "code",
   "execution_count": 17,
   "id": "86c2fe50",
   "metadata": {},
   "outputs": [
    {
     "name": "stdout",
     "output_type": "stream",
     "text": [
      "📊 Fit Quality: 29/30 strikes within bid-ask range (96.7%)\n",
      "⚠️ Major deviations (>2%): 1 strikes\n",
      "  Strike 42000: Fitted 104.6% vs Mid 101.7% (Δ2.9%)\n"
     ]
    }
   ],
   "source": [
    "# Simplified fit quality check\n",
    "within_range = sum(1 for i, strike in enumerate(df_option_with_vola_and_greeks['strike']) \n",
    "                   if df_option_with_vola_and_greeks['bidVola'][i] <= fitted_vols[i] <= df_option_with_vola_and_greeks['askVola'][i])\n",
    "\n",
    "print(f\"📊 Fit Quality: {within_range}/{len(fitted_vols)} strikes within bid-ask range ({within_range/len(fitted_vols)*100:.1f}%)\")\n",
    "\n",
    "# Check for major deviations (>2% absolute difference from mid)\n",
    "major_deviations = []\n",
    "for i, strike in enumerate(df_option_with_vola_and_greeks['strike']):\n",
    "    mid_vol = df_option_with_vola_and_greeks['midVola'][i]\n",
    "    deviation = abs(fitted_vols[i] - mid_vol)\n",
    "    if deviation > 2.0:\n",
    "        major_deviations.append((strike, fitted_vols[i], mid_vol, deviation))\n",
    "\n",
    "if major_deviations:\n",
    "    print(f\"⚠️ Major deviations (>2%): {len(major_deviations)} strikes\")\n",
    "    for strike, fitted, mid, dev in major_deviations[:3]:  # Show top 3\n",
    "        print(f\"  Strike {strike}: Fitted {fitted:.1f}% vs Mid {mid:.1f}% (Δ{dev:.1f}%)\")\n",
    "else:\n",
    "    print(\"✅ No major deviations from market volatilities\")"
   ]
  },
  {
   "cell_type": "code",
   "execution_count": 18,
   "id": "58abadff",
   "metadata": {},
   "outputs": [
    {
     "name": "stdout",
     "output_type": "stream",
     "text": [
      "✅ Enhanced DataFrame with time_adjusted model fitted pricing and Greeks (30 options)\n"
     ]
    }
   ],
   "source": [
    "# Add fitted pricing and Greeks to DataFrame\n",
    "if my_model is not None:\n",
    "    fitted_vols_decimal = [my_model.calculate_volatility_from_strike(strike) for strike in df_option_with_vola_and_greeks['strike']]\n",
    "    \n",
    "    df_option_with_fitted_pricing = df_option_with_vola_and_greeks.with_columns([\n",
    "        pl.Series('fitted_vol_pct', [v * 100 for v in fitted_vols_decimal]).alias('fitted_vol_pct'),\n",
    "    ]).with_columns([\n",
    "        # Calculate option prices and Greeks using fitted volatility\n",
    "        pl.struct(['F', 'strike', 'tau', 'r']).map_elements(\n",
    "            lambda row: Black76OptionPricer(F=row['F'], K=row['strike'], T=row['tau'], r=row['r'], \n",
    "                                           sigma=fitted_vols_decimal[df_option_with_vola_and_greeks['strike'].to_list().index(row['strike'])]).call_price(),\n",
    "            return_dtype=pl.Float64\n",
    "        ).round(4).alias('fitted_call_price'),\n",
    "        \n",
    "        pl.struct(['F', 'strike', 'tau', 'r']).map_elements(\n",
    "            lambda row: Black76OptionPricer(F=row['F'], K=row['strike'], T=row['tau'], r=row['r'], \n",
    "                                           sigma=fitted_vols_decimal[df_option_with_vola_and_greeks['strike'].to_list().index(row['strike'])]).put_price(),\n",
    "            return_dtype=pl.Float64\n",
    "        ).round(4).alias('fitted_put_price'),\n",
    "        \n",
    "        pl.struct(['F', 'strike', 'tau', 'r']).map_elements(\n",
    "            lambda row: Black76OptionPricer(F=row['F'], K=row['strike'], T=row['tau'], r=row['r'], \n",
    "                                           sigma=fitted_vols_decimal[df_option_with_vola_and_greeks['strike'].to_list().index(row['strike'])]).call_delta(),\n",
    "            return_dtype=pl.Float64\n",
    "        ).round(4).alias('fitted_call_delta'),\n",
    "        \n",
    "        pl.struct(['F', 'strike', 'tau', 'r']).map_elements(\n",
    "            lambda row: Black76OptionPricer(F=row['F'], K=row['strike'], T=row['tau'], r=row['r'], \n",
    "                                           sigma=fitted_vols_decimal[df_option_with_vola_and_greeks['strike'].to_list().index(row['strike'])]).vega(),\n",
    "            return_dtype=pl.Float64\n",
    "        ).round(2).alias('fitted_vega'),\n",
    "    ])\n",
    "    \n",
    "    print(f\"✅ Enhanced DataFrame with {MODEL_TYPE} model fitted pricing and Greeks ({df_option_with_fitted_pricing.shape[0]} options)\")\n",
    "    \n",
    "    # Update global variable\n",
    "    df_option_with_vola_and_greeks = df_option_with_fitted_pricing\n",
    "else:\n",
    "    print(\"❌ No model available for pricing calculations\")"
   ]
  },
  {
   "cell_type": "code",
   "execution_count": 19,
   "id": "cf90b695",
   "metadata": {},
   "outputs": [
    {
     "name": "stdout",
     "output_type": "stream",
     "text": [
      "🔍 ARBITRAGE ANALYSIS REPORT: ⚠️ ARBITRAGE VIOLATIONS DETECTED\n",
      "============================================================\n",
      "📊 Summary: 30 strikes analyzed\n",
      "   Strike range: 42000 - 76000\n",
      "   Total violations: 30\n",
      "\n",
      "🦋 Butterfly Arbitrage: 0 violations\n",
      "📈 Price Monotonicity:\n",
      "   Call prices (decreasing): ✅\n",
      "   Put prices (increasing): ✅\n",
      "⚖️ Call-Put Parity: 30 violations\n",
      "   Average violation: 70.229790\n",
      "   Maximum violation: 166.656100\n"
     ]
    }
   ],
   "source": [
    "# Comprehensive arbitrage analysis using new module\n",
    "strikes_list = df_option_with_vola_and_greeks['strike'].to_list()\n",
    "call_prices_list = df_option_with_vola_and_greeks['fitted_call_price'].to_list()\n",
    "put_prices_list = df_option_with_vola_and_greeks['fitted_put_price'].to_list()\n",
    "forward_price = df_option_with_vola_and_greeks['F'][0]\n",
    "\n",
    "# Perform comprehensive arbitrage analysis\n",
    "arbitrage_results = analyze_arbitrage_comprehensive(\n",
    "    strikes=strikes_list,\n",
    "    call_prices=call_prices_list, \n",
    "    put_prices=put_prices_list,\n",
    "    forward_price=forward_price,\n",
    "    discount_factor=1.0,  # For futures\n",
    "    butterfly_tolerance=1e-6,\n",
    "    parity_tolerance=1e-4\n",
    ")\n",
    "\n",
    "# Display formatted report\n",
    "print(format_arbitrage_report(arbitrage_results))"
   ]
  },
  {
   "cell_type": "code",
   "execution_count": 20,
   "id": "4199dd9e",
   "metadata": {},
   "outputs": [
    {
     "data": {
      "application/vnd.plotly.v1+json": {
       "config": {
        "plotlyServerURL": "https://plot.ly"
       },
       "data": [
        {
         "line": {
          "color": "blue",
          "width": 2
         },
         "mode": "lines",
         "name": "Fitted Call",
         "type": "scatter",
         "x": {
          "bdata": "EKQAAOCrAADIrwAAsLMAAJi3AACAuwAAaL8AAFDDAAA4xwAAIMsAAAjPAADw0gAA2NYAAMDaAACo3gAAkOIAAHjmAABg6gAASO4AADDyAAAY9gAAAPoAAOj9AADQAQEAuAUBAKAJAQBwEQEAQBkBABAhAQDgKAEA",
          "dtype": "i4"
         },
         "xaxis": "x",
         "y": {
          "bdata": "Ke0Nvig41UD2l92Tk0zTQCEf9GzyV9JALUMc61Zk0UCjAbwFAnLQQMNkqmCMAs9A6Nms+hQlzUAJ+aBnm0zLQBKDwMpReslAvJaQD6Kvx0ARx7q4Le7FQE5iEFjJN8RAfT81XnKOwkDsL7snP/TAQFZ9rraS1r5AxSCwcijru0AukKD44Sm5QPVKWYbIlbZATYQNTx8xtEAr9pfdQ/2xQHDOiNI+9a9AtoR80FNRrECWQ4tsRwupQIv9ZffEGqZAw2SqYDR6o0BBguLHGCShQMNkqmBUf5pAejarPpd7lECASL99HcWPQBgmUwWjyYhA",
          "dtype": "f8"
         },
         "yaxis": "y"
        },
        {
         "line": {
          "color": "red",
          "width": 2
         },
         "mode": "lines",
         "name": "Fitted Put",
         "type": "scatter",
         "x": {
          "bdata": "EKQAAOCrAADIrwAAsLMAAJi3AACAuwAAaL8AAFDDAAA4xwAAIMsAAAjPAADw0gAA2NYAAMDaAACo3gAAkOIAAHjmAABg6gAASO4AADDyAAAY9gAAAPoAAOj9AADQAQEAuAUBAKAJAQBwEQEAQBkBABAhAQDgKAEA",
          "dtype": "i4"
         },
         "xaxis": "x",
         "y": {
          "bdata": "ysNCrWmKV0D7y+7JwyJcQEaU9gZfmF9AhJ7Nqs8JYkDmP6TfvupkQJHtfD81mGhAiIVa07xFbUA8TtGRXJlxQFtCPujZVXVA097gC5MFekDLEMe6uNx/QN9PjZfuioNAejarPlf4h0DwFkhQ/FeNQESLbOe75ZFA0SLb+X65lUBL6gQ00TWaQCfChqfXZp9Arthfds+qokBVwaikzgOmQFioNc07v6lA/tR46QbcrUBkzF1LWCuxQNQrZRlyk7NA5WGh1oQjtkDUK2UZ0ti4QM6I0t5Qp75AcT0K14tzwkCfzarPxcDFQO0NvjBpMclA",
          "dtype": "f8"
         },
         "yaxis": "y"
        },
        {
         "marker": {
          "color": "lightblue",
          "size": 6
         },
         "mode": "markers",
         "name": "Market Call",
         "type": "scatter",
         "x": {
          "bdata": "EKQAAOCrAADIrwAAsLMAAJi3AACAuwAAaL8AAFDDAAA4xwAAIMsAAAjPAADw0gAA2NYAAMDaAACo3gAAkOIAAHjmAABg6gAASO4AADDyAAAY9gAAAPoAAOj9AADQAQEAuAUBAKAJAQBwEQEAQBkBABAhAQDgKAEA",
          "dtype": "i4"
         },
         "xaxis": "x",
         "y": {
          "bdata": "kML1KPQB1UAehetReD7TQOJ6FK6HSdJAhutRuJZU0UDNzMzMjGfQQIXrUbge7c5A4noUrtcizUDNzMzM3EDLQB+F61HIZslAuB6F64Gcx0AfhetRCOLFQGZmZmZ2L8RAexSuR7GMwkCQwvUo7OnAQHA9CteDzb5A16NwPcrmu0BSuB6Fqx+5QPYoXI/Cl7ZAXI/C9agftEA+CtejkPaxQPYoXI/C+a9AmpmZmZlFrECG61G43g+pQKRwPQpXGaZAexSuR6GBo0DhehSuhwmhQOxRuB6Fa5pAMzMzM7O9lEBSuB6F65qPQK5H4XoUsYhA",
          "dtype": "f8"
         },
         "yaxis": "y"
        },
        {
         "marker": {
          "color": "pink",
          "size": 6
         },
         "mode": "markers",
         "name": "Market Put",
         "type": "scatter",
         "x": {
          "bdata": "EKQAAOCrAADIrwAAsLMAAJi3AACAuwAAaL8AAFDDAAA4xwAAIMsAAAjPAADw0gAA2NYAAMDaAACo3gAAkOIAAHjmAABg6gAASO4AADDyAAAY9gAAAPoAAOj9AADQAQEAuAUBAKAJAQBwEQEAQBkBABAhAQDgKAEA",
          "dtype": "i4"
         },
         "xaxis": "x",
         "y": {
          "bdata": "cD0K16PAU0A9CtejcN1aQHsUrkfhml9APgrXo3CRYkA+CtejcFVlQMzMzMzMSGlAZmZmZmYGbkD2KFyPwvlxQBSuR+F6unVApHA9CteteUAoXI/C9Zp/QKRwPQrXwINAMzMzMzO0h0AK16NwPaGNQHE9Ctcjx5FA16NwPYq6lUDNzMzMTCyaQArXo3C9W59AAAAAAADEokAUrkfhuvmlQHE9CtfjralArkfhehQArkDC9Shc7zixQArXo3A9obNAAAAAAMBItkAUrkfh2sC4QBSuR+Eanr5AuB6F62FVwkAUrkfhOtLFQBSuR+E6xsdA",
          "dtype": "f8"
         },
         "yaxis": "y"
        },
        {
         "line": {
          "color": "green",
          "width": 2
         },
         "mode": "lines",
         "name": "Call Delta",
         "type": "scatter",
         "x": {
          "bdata": "EKQAAOCrAADIrwAAsLMAAJi3AACAuwAAaL8AAFDDAAA4xwAAIMsAAAjPAADw0gAA2NYAAMDaAACo3gAAkOIAAHjmAABg6gAASO4AADDyAAAY9gAAAPoAAOj9AADQAQEAuAUBAKAJAQBwEQEAQBkBABAhAQDgKAEA",
          "dtype": "i4"
         },
         "xaxis": "x2",
         "y": {
          "bdata": "BcWPMXct7z9GJXUCmgjvPyGwcmiR7e4/zczMzMzM7j/CFyZTBaPuPx04Z0Rpb+4/HHxhMlUw7j9SJ6CJsOHtP9/gC5Opgu0/V+wvuycP7T8UP8bctYTsP1InoImw4es/a5p3nKIj6z99PzVeuknqP2lv8IXJVOk/MCqpE9BE6D94eqUsQxznP451cRsN4OU/3NeBc0aU5D+utmJ/2T3jPxfZzvdT4+E/JQaBlUOL4D/EQq1p3nHeP/kx5q4l5Ns/Ne84RUdy2T+JQWDl0CLXPxTQRNjw9NI/c9cS8kHPzj/UmuYdp+jIP5Axdy0hH8Q/",
          "dtype": "f8"
         },
         "yaxis": "y2"
        },
        {
         "fill": "tozeroy",
         "line": {
          "color": "purple",
          "width": 2
         },
         "mode": "lines",
         "name": "Vega",
         "type": "scatter",
         "x": {
          "bdata": "EKQAAOCrAADIrwAAsLMAAJi3AACAuwAAaL8AAFDDAAA4xwAAIMsAAAjPAADw0gAA2NYAAMDaAACo3gAAkOIAAHjmAABg6gAASO4AADDyAAAY9gAAAPoAAOj9AADQAQEAuAUBAKAJAQBwEQEAQBkBABAhAQDgKAEA",
          "dtype": "i4"
         },
         "xaxis": "x3",
         "y": {
          "bdata": "j8L1KFy5gUCPwvUoXHuFQPYoXI/CB4hAexSuR+Egi0BxPQrXo9yOQAAAAAAAqZFAPQrXo3BLlEB7FK5H4V6XQBSuR+F66ZpAZmZmZmbsnkAUrkfh+rChQAAAAAAAHqRA7FG4HoWxpkDsUbgeBVupQKRwPQrXBaxAFK5H4XqarkBI4XoULoCwQBSuR+H6j7FAFK5H4XpyskD2KFyPAiCzQBSuR+H6k7NAcT0K1yPNs0CkcD0KV82zQClcj8L1mLNA9ihcjwI2s0D2KFyPgquyQI/C9SjcPbFAKVyPwvUTr0DhehSux4CrQFK4HoXrB6hA",
          "dtype": "f8"
         },
         "yaxis": "y3"
        },
        {
         "line": {
          "color": "black",
          "width": 3
         },
         "mode": "lines+markers",
         "name": "Fitted Vol",
         "type": "scatter",
         "x": {
          "bdata": "EKQAAOCrAADIrwAAsLMAAJi3AACAuwAAaL8AAFDDAAA4xwAAIMsAAAjPAADw0gAA2NYAAMDaAACo3gAAkOIAAHjmAABg6gAASO4AADDyAAAY9gAAAPoAAOj9AADQAQEAuAUBAKAJAQBwEQEAQBkBABAhAQDgKAEA",
          "dtype": "i4"
         },
         "xaxis": "x4",
         "y": {
          "bdata": "Q+IRquUnWkCZIRPUg01YQJkyjxrYfldAqvMNyePCVkA31YeQixhWQM2I3j7JflVAxN2Vzqn0VEDbcrmsS3lUQKO/GS7dC1RArYUELpurU0CVsW7Rz1dTQKn6NmrRD1NAQLu+dgHTUkDRGZa6y6BSQEtiZW2leFJAz2+afQxaUkAJw7DkhkRSQDBuLwuiN1JAwhazOvIyUkCtXY0cEjZSQHE7r0OiQFJAvUi6wEhSUkAq9wZoP2pSQO59tt6chVJAcY9bXMqjUkCw+tBnpsRSQIJn4zvtDVNAtfBl1odgU0CSnCSJpLtTQCQHWZOGHlRA",
          "dtype": "f8"
         },
         "yaxis": "y4"
        },
        {
         "marker": {
          "color": "blue",
          "size": 6
         },
         "mode": "markers",
         "name": "Market Vol",
         "type": "scatter",
         "x": {
          "bdata": "EKQAAOCrAADIrwAAsLMAAJi3AACAuwAAaL8AAFDDAAA4xwAAIMsAAAjPAADw0gAA2NYAAMDaAACo3gAAkOIAAHjmAABg6gAASO4AADDyAAAY9gAAAPoAAOj9AADQAQEAuAUBAKAJAQBwEQEAQBkBABAhAQDgKAEA",
          "dtype": "i4"
         },
         "xaxis": "x4",
         "y": {
          "bdata": "H4XrUbhuWUCamZmZmRlYQFyPwvUofFdAAAAAAADgVkDNzMzMzCxWQFyPwvUonFVA4XoUrkcRVUBSuB6F65FUQHE9CtejIFRAuB6F61GYU0B7FK5H4UpTQAAAAAAAIFNAAAAAAADAUkDD9Shcj7JSQHsUrkfhalJACtejcD1aUkBxPQrXo0BSQKRwPQrXM1JApHA9CtdDUkCPwvUoXC9SQPYoXI/CNVJACtejcD1aUkAUrkfhenRSQBSuR+F6hFJAuB6F61GoUkDD9Shcj7JSQGZmZmZmBlNAexSuR+F6U0BSuB6F67FTQEjhehSuF1RA",
          "dtype": "f8"
         },
         "yaxis": "y4"
        }
       ],
       "layout": {
        "annotations": [
         {
          "font": {
           "size": 16
          },
          "showarrow": false,
          "text": "Call/Put Prices vs Market",
          "x": 0.225,
          "xanchor": "center",
          "xref": "paper",
          "y": 1,
          "yanchor": "bottom",
          "yref": "paper"
         },
         {
          "font": {
           "size": 16
          },
          "showarrow": false,
          "text": "Delta Profile",
          "x": 0.775,
          "xanchor": "center",
          "xref": "paper",
          "y": 1,
          "yanchor": "bottom",
          "yref": "paper"
         },
         {
          "font": {
           "size": 16
          },
          "showarrow": false,
          "text": "Vega Profile",
          "x": 0.225,
          "xanchor": "center",
          "xref": "paper",
          "y": 0.44,
          "yanchor": "bottom",
          "yref": "paper"
         },
         {
          "font": {
           "size": 16
          },
          "showarrow": false,
          "text": "Volatility Fit",
          "x": 0.775,
          "xanchor": "center",
          "xref": "paper",
          "y": 0.44,
          "yanchor": "bottom",
          "yref": "paper"
         }
        ],
        "height": 700,
        "shapes": [
         {
          "line": {
           "color": "gray",
           "dash": "dot",
           "width": 1
          },
          "type": "line",
          "x0": 63801.13,
          "x1": 63801.13,
          "xref": "x",
          "y0": 0,
          "y1": 1,
          "yref": "y domain"
         },
         {
          "line": {
           "color": "gray",
           "dash": "dot",
           "width": 1
          },
          "type": "line",
          "x0": 63801.13,
          "x1": 63801.13,
          "xref": "x2",
          "y0": 0,
          "y1": 1,
          "yref": "y2 domain"
         },
         {
          "line": {
           "color": "gray",
           "dash": "dot",
           "width": 1
          },
          "type": "line",
          "x0": 63801.13,
          "x1": 63801.13,
          "xref": "x3",
          "y0": 0,
          "y1": 1,
          "yref": "y3 domain"
         },
         {
          "line": {
           "color": "gray",
           "dash": "dot",
           "width": 1
          },
          "type": "line",
          "x0": 63801.13,
          "x1": 63801.13,
          "xref": "x4",
          "y0": 0,
          "y1": 1,
          "yref": "y4 domain"
         }
        ],
        "showlegend": true,
        "template": {
         "data": {
          "bar": [
           {
            "error_x": {
             "color": "#2a3f5f"
            },
            "error_y": {
             "color": "#2a3f5f"
            },
            "marker": {
             "line": {
              "color": "white",
              "width": 0.5
             },
             "pattern": {
              "fillmode": "overlay",
              "size": 10,
              "solidity": 0.2
             }
            },
            "type": "bar"
           }
          ],
          "barpolar": [
           {
            "marker": {
             "line": {
              "color": "white",
              "width": 0.5
             },
             "pattern": {
              "fillmode": "overlay",
              "size": 10,
              "solidity": 0.2
             }
            },
            "type": "barpolar"
           }
          ],
          "carpet": [
           {
            "aaxis": {
             "endlinecolor": "#2a3f5f",
             "gridcolor": "#C8D4E3",
             "linecolor": "#C8D4E3",
             "minorgridcolor": "#C8D4E3",
             "startlinecolor": "#2a3f5f"
            },
            "baxis": {
             "endlinecolor": "#2a3f5f",
             "gridcolor": "#C8D4E3",
             "linecolor": "#C8D4E3",
             "minorgridcolor": "#C8D4E3",
             "startlinecolor": "#2a3f5f"
            },
            "type": "carpet"
           }
          ],
          "choropleth": [
           {
            "colorbar": {
             "outlinewidth": 0,
             "ticks": ""
            },
            "type": "choropleth"
           }
          ],
          "contour": [
           {
            "colorbar": {
             "outlinewidth": 0,
             "ticks": ""
            },
            "colorscale": [
             [
              0,
              "#0d0887"
             ],
             [
              0.1111111111111111,
              "#46039f"
             ],
             [
              0.2222222222222222,
              "#7201a8"
             ],
             [
              0.3333333333333333,
              "#9c179e"
             ],
             [
              0.4444444444444444,
              "#bd3786"
             ],
             [
              0.5555555555555556,
              "#d8576b"
             ],
             [
              0.6666666666666666,
              "#ed7953"
             ],
             [
              0.7777777777777778,
              "#fb9f3a"
             ],
             [
              0.8888888888888888,
              "#fdca26"
             ],
             [
              1,
              "#f0f921"
             ]
            ],
            "type": "contour"
           }
          ],
          "contourcarpet": [
           {
            "colorbar": {
             "outlinewidth": 0,
             "ticks": ""
            },
            "type": "contourcarpet"
           }
          ],
          "heatmap": [
           {
            "colorbar": {
             "outlinewidth": 0,
             "ticks": ""
            },
            "colorscale": [
             [
              0,
              "#0d0887"
             ],
             [
              0.1111111111111111,
              "#46039f"
             ],
             [
              0.2222222222222222,
              "#7201a8"
             ],
             [
              0.3333333333333333,
              "#9c179e"
             ],
             [
              0.4444444444444444,
              "#bd3786"
             ],
             [
              0.5555555555555556,
              "#d8576b"
             ],
             [
              0.6666666666666666,
              "#ed7953"
             ],
             [
              0.7777777777777778,
              "#fb9f3a"
             ],
             [
              0.8888888888888888,
              "#fdca26"
             ],
             [
              1,
              "#f0f921"
             ]
            ],
            "type": "heatmap"
           }
          ],
          "histogram": [
           {
            "marker": {
             "pattern": {
              "fillmode": "overlay",
              "size": 10,
              "solidity": 0.2
             }
            },
            "type": "histogram"
           }
          ],
          "histogram2d": [
           {
            "colorbar": {
             "outlinewidth": 0,
             "ticks": ""
            },
            "colorscale": [
             [
              0,
              "#0d0887"
             ],
             [
              0.1111111111111111,
              "#46039f"
             ],
             [
              0.2222222222222222,
              "#7201a8"
             ],
             [
              0.3333333333333333,
              "#9c179e"
             ],
             [
              0.4444444444444444,
              "#bd3786"
             ],
             [
              0.5555555555555556,
              "#d8576b"
             ],
             [
              0.6666666666666666,
              "#ed7953"
             ],
             [
              0.7777777777777778,
              "#fb9f3a"
             ],
             [
              0.8888888888888888,
              "#fdca26"
             ],
             [
              1,
              "#f0f921"
             ]
            ],
            "type": "histogram2d"
           }
          ],
          "histogram2dcontour": [
           {
            "colorbar": {
             "outlinewidth": 0,
             "ticks": ""
            },
            "colorscale": [
             [
              0,
              "#0d0887"
             ],
             [
              0.1111111111111111,
              "#46039f"
             ],
             [
              0.2222222222222222,
              "#7201a8"
             ],
             [
              0.3333333333333333,
              "#9c179e"
             ],
             [
              0.4444444444444444,
              "#bd3786"
             ],
             [
              0.5555555555555556,
              "#d8576b"
             ],
             [
              0.6666666666666666,
              "#ed7953"
             ],
             [
              0.7777777777777778,
              "#fb9f3a"
             ],
             [
              0.8888888888888888,
              "#fdca26"
             ],
             [
              1,
              "#f0f921"
             ]
            ],
            "type": "histogram2dcontour"
           }
          ],
          "mesh3d": [
           {
            "colorbar": {
             "outlinewidth": 0,
             "ticks": ""
            },
            "type": "mesh3d"
           }
          ],
          "parcoords": [
           {
            "line": {
             "colorbar": {
              "outlinewidth": 0,
              "ticks": ""
             }
            },
            "type": "parcoords"
           }
          ],
          "pie": [
           {
            "automargin": true,
            "type": "pie"
           }
          ],
          "scatter": [
           {
            "fillpattern": {
             "fillmode": "overlay",
             "size": 10,
             "solidity": 0.2
            },
            "type": "scatter"
           }
          ],
          "scatter3d": [
           {
            "line": {
             "colorbar": {
              "outlinewidth": 0,
              "ticks": ""
             }
            },
            "marker": {
             "colorbar": {
              "outlinewidth": 0,
              "ticks": ""
             }
            },
            "type": "scatter3d"
           }
          ],
          "scattercarpet": [
           {
            "marker": {
             "colorbar": {
              "outlinewidth": 0,
              "ticks": ""
             }
            },
            "type": "scattercarpet"
           }
          ],
          "scattergeo": [
           {
            "marker": {
             "colorbar": {
              "outlinewidth": 0,
              "ticks": ""
             }
            },
            "type": "scattergeo"
           }
          ],
          "scattergl": [
           {
            "marker": {
             "colorbar": {
              "outlinewidth": 0,
              "ticks": ""
             }
            },
            "type": "scattergl"
           }
          ],
          "scattermap": [
           {
            "marker": {
             "colorbar": {
              "outlinewidth": 0,
              "ticks": ""
             }
            },
            "type": "scattermap"
           }
          ],
          "scattermapbox": [
           {
            "marker": {
             "colorbar": {
              "outlinewidth": 0,
              "ticks": ""
             }
            },
            "type": "scattermapbox"
           }
          ],
          "scatterpolar": [
           {
            "marker": {
             "colorbar": {
              "outlinewidth": 0,
              "ticks": ""
             }
            },
            "type": "scatterpolar"
           }
          ],
          "scatterpolargl": [
           {
            "marker": {
             "colorbar": {
              "outlinewidth": 0,
              "ticks": ""
             }
            },
            "type": "scatterpolargl"
           }
          ],
          "scatterternary": [
           {
            "marker": {
             "colorbar": {
              "outlinewidth": 0,
              "ticks": ""
             }
            },
            "type": "scatterternary"
           }
          ],
          "surface": [
           {
            "colorbar": {
             "outlinewidth": 0,
             "ticks": ""
            },
            "colorscale": [
             [
              0,
              "#0d0887"
             ],
             [
              0.1111111111111111,
              "#46039f"
             ],
             [
              0.2222222222222222,
              "#7201a8"
             ],
             [
              0.3333333333333333,
              "#9c179e"
             ],
             [
              0.4444444444444444,
              "#bd3786"
             ],
             [
              0.5555555555555556,
              "#d8576b"
             ],
             [
              0.6666666666666666,
              "#ed7953"
             ],
             [
              0.7777777777777778,
              "#fb9f3a"
             ],
             [
              0.8888888888888888,
              "#fdca26"
             ],
             [
              1,
              "#f0f921"
             ]
            ],
            "type": "surface"
           }
          ],
          "table": [
           {
            "cells": {
             "fill": {
              "color": "#EBF0F8"
             },
             "line": {
              "color": "white"
             }
            },
            "header": {
             "fill": {
              "color": "#C8D4E3"
             },
             "line": {
              "color": "white"
             }
            },
            "type": "table"
           }
          ]
         },
         "layout": {
          "annotationdefaults": {
           "arrowcolor": "#2a3f5f",
           "arrowhead": 0,
           "arrowwidth": 1
          },
          "autotypenumbers": "strict",
          "coloraxis": {
           "colorbar": {
            "outlinewidth": 0,
            "ticks": ""
           }
          },
          "colorscale": {
           "diverging": [
            [
             0,
             "#8e0152"
            ],
            [
             0.1,
             "#c51b7d"
            ],
            [
             0.2,
             "#de77ae"
            ],
            [
             0.3,
             "#f1b6da"
            ],
            [
             0.4,
             "#fde0ef"
            ],
            [
             0.5,
             "#f7f7f7"
            ],
            [
             0.6,
             "#e6f5d0"
            ],
            [
             0.7,
             "#b8e186"
            ],
            [
             0.8,
             "#7fbc41"
            ],
            [
             0.9,
             "#4d9221"
            ],
            [
             1,
             "#276419"
            ]
           ],
           "sequential": [
            [
             0,
             "#0d0887"
            ],
            [
             0.1111111111111111,
             "#46039f"
            ],
            [
             0.2222222222222222,
             "#7201a8"
            ],
            [
             0.3333333333333333,
             "#9c179e"
            ],
            [
             0.4444444444444444,
             "#bd3786"
            ],
            [
             0.5555555555555556,
             "#d8576b"
            ],
            [
             0.6666666666666666,
             "#ed7953"
            ],
            [
             0.7777777777777778,
             "#fb9f3a"
            ],
            [
             0.8888888888888888,
             "#fdca26"
            ],
            [
             1,
             "#f0f921"
            ]
           ],
           "sequentialminus": [
            [
             0,
             "#0d0887"
            ],
            [
             0.1111111111111111,
             "#46039f"
            ],
            [
             0.2222222222222222,
             "#7201a8"
            ],
            [
             0.3333333333333333,
             "#9c179e"
            ],
            [
             0.4444444444444444,
             "#bd3786"
            ],
            [
             0.5555555555555556,
             "#d8576b"
            ],
            [
             0.6666666666666666,
             "#ed7953"
            ],
            [
             0.7777777777777778,
             "#fb9f3a"
            ],
            [
             0.8888888888888888,
             "#fdca26"
            ],
            [
             1,
             "#f0f921"
            ]
           ]
          },
          "colorway": [
           "#636efa",
           "#EF553B",
           "#00cc96",
           "#ab63fa",
           "#FFA15A",
           "#19d3f3",
           "#FF6692",
           "#B6E880",
           "#FF97FF",
           "#FECB52"
          ],
          "font": {
           "color": "#2a3f5f"
          },
          "geo": {
           "bgcolor": "white",
           "lakecolor": "white",
           "landcolor": "white",
           "showlakes": true,
           "showland": true,
           "subunitcolor": "#C8D4E3"
          },
          "hoverlabel": {
           "align": "left"
          },
          "hovermode": "closest",
          "mapbox": {
           "style": "light"
          },
          "paper_bgcolor": "white",
          "plot_bgcolor": "white",
          "polar": {
           "angularaxis": {
            "gridcolor": "#EBF0F8",
            "linecolor": "#EBF0F8",
            "ticks": ""
           },
           "bgcolor": "white",
           "radialaxis": {
            "gridcolor": "#EBF0F8",
            "linecolor": "#EBF0F8",
            "ticks": ""
           }
          },
          "scene": {
           "xaxis": {
            "backgroundcolor": "white",
            "gridcolor": "#DFE8F3",
            "gridwidth": 2,
            "linecolor": "#EBF0F8",
            "showbackground": true,
            "ticks": "",
            "zerolinecolor": "#EBF0F8"
           },
           "yaxis": {
            "backgroundcolor": "white",
            "gridcolor": "#DFE8F3",
            "gridwidth": 2,
            "linecolor": "#EBF0F8",
            "showbackground": true,
            "ticks": "",
            "zerolinecolor": "#EBF0F8"
           },
           "zaxis": {
            "backgroundcolor": "white",
            "gridcolor": "#DFE8F3",
            "gridwidth": 2,
            "linecolor": "#EBF0F8",
            "showbackground": true,
            "ticks": "",
            "zerolinecolor": "#EBF0F8"
           }
          },
          "shapedefaults": {
           "line": {
            "color": "#2a3f5f"
           }
          },
          "ternary": {
           "aaxis": {
            "gridcolor": "#DFE8F3",
            "linecolor": "#A2B1C6",
            "ticks": ""
           },
           "baxis": {
            "gridcolor": "#DFE8F3",
            "linecolor": "#A2B1C6",
            "ticks": ""
           },
           "bgcolor": "white",
           "caxis": {
            "gridcolor": "#DFE8F3",
            "linecolor": "#A2B1C6",
            "ticks": ""
           }
          },
          "title": {
           "x": 0.05
          },
          "xaxis": {
           "automargin": true,
           "gridcolor": "#EBF0F8",
           "linecolor": "#EBF0F8",
           "ticks": "",
           "title": {
            "standoff": 15
           },
           "zerolinecolor": "#EBF0F8",
           "zerolinewidth": 2
          },
          "yaxis": {
           "automargin": true,
           "gridcolor": "#EBF0F8",
           "linecolor": "#EBF0F8",
           "ticks": "",
           "title": {
            "standoff": 15
           },
           "zerolinecolor": "#EBF0F8",
           "zerolinewidth": 2
          }
         }
        },
        "title": {
         "text": "Time-Adjusted Wing Model Analysis Dashboard - 15MAR24 | RMSE: 0.0014"
        },
        "xaxis": {
         "anchor": "y",
         "domain": [
          0,
          0.45
         ]
        },
        "xaxis2": {
         "anchor": "y2",
         "domain": [
          0.55,
          1
         ]
        },
        "xaxis3": {
         "anchor": "y3",
         "domain": [
          0,
          0.45
         ]
        },
        "xaxis4": {
         "anchor": "y4",
         "domain": [
          0.55,
          1
         ]
        },
        "yaxis": {
         "anchor": "x",
         "domain": [
          0.56,
          1
         ]
        },
        "yaxis2": {
         "anchor": "x2",
         "domain": [
          0.56,
          1
         ]
        },
        "yaxis3": {
         "anchor": "x3",
         "domain": [
          0,
          0.44
         ]
        },
        "yaxis4": {
         "anchor": "x4",
         "domain": [
          0,
          0.44
         ]
        }
       }
      }
     },
     "metadata": {},
     "output_type": "display_data"
    },
    {
     "name": "stdout",
     "output_type": "stream",
     "text": [
      "📊 Time-Adjusted Wing Model Performance:\n",
      "   Pricing Accuracy: Call RMSE 25.2242, Put RMSE 35.4167\n",
      "   Greeks: Max Vega 5069.3, Total Vega 93191.2\n",
      "   Model Type: Time_Adjusted\n"
     ]
    }
   ],
   "source": [
    "# Create simplified 2x2 visualization dashboard\n",
    "if my_model is not None:\n",
    "    fig = make_subplots(\n",
    "        rows=2, cols=2,\n",
    "        subplot_titles=('Call/Put Prices vs Market', 'Delta Profile', 'Vega Profile', 'Volatility Fit'),\n",
    "        vertical_spacing=0.12,\n",
    "        horizontal_spacing=0.1\n",
    "    )\n",
    "    \n",
    "    # Panel 1: Prices comparison\n",
    "    fig.add_trace(go.Scatter(x=df_option_with_vola_and_greeks['strike'], y=df_option_with_vola_and_greeks['fitted_call_price'],\n",
    "                            mode='lines', name='Fitted Call', line=dict(color='blue', width=2)), row=1, col=1)\n",
    "    fig.add_trace(go.Scatter(x=df_option_with_vola_and_greeks['strike'], y=df_option_with_vola_and_greeks['fitted_put_price'], \n",
    "                            mode='lines', name='Fitted Put', line=dict(color='red', width=2)), row=1, col=1)\n",
    "    fig.add_trace(go.Scatter(x=df_option_with_vola_and_greeks['strike'], \n",
    "                            y=(df_option_with_vola_and_greeks['bp0_C_usd'] + df_option_with_vola_and_greeks['ap0_C_usd'])/2,\n",
    "                            mode='markers', name='Market Call', marker=dict(color='lightblue', size=6)), row=1, col=1)\n",
    "    fig.add_trace(go.Scatter(x=df_option_with_vola_and_greeks['strike'], \n",
    "                            y=(df_option_with_vola_and_greeks['bp0_P_usd'] + df_option_with_vola_and_greeks['ap0_P_usd'])/2,\n",
    "                            mode='markers', name='Market Put', marker=dict(color='pink', size=6)), row=1, col=1)\n",
    "    \n",
    "    # Panel 2: Delta profile  \n",
    "    fig.add_trace(go.Scatter(x=df_option_with_vola_and_greeks['strike'], y=df_option_with_vola_and_greeks['fitted_call_delta'],\n",
    "                            mode='lines', name='Call Delta', line=dict(color='green', width=2)), row=1, col=2)\n",
    "    \n",
    "    # Panel 3: Vega profile\n",
    "    fig.add_trace(go.Scatter(x=df_option_with_vola_and_greeks['strike'], y=df_option_with_vola_and_greeks['fitted_vega'],\n",
    "                            mode='lines', name='Vega', line=dict(color='purple', width=2), fill='tozeroy'), row=2, col=1)\n",
    "    \n",
    "    # Panel 4: Volatility comparison\n",
    "    fig.add_trace(go.Scatter(x=df_option_with_vola_and_greeks['strike'], y=df_option_with_vola_and_greeks['fitted_vol_pct'],\n",
    "                            mode='lines+markers', name='Fitted Vol', line=dict(color='black', width=3)), row=2, col=2)\n",
    "    fig.add_trace(go.Scatter(x=df_option_with_vola_and_greeks['strike'], y=df_option_with_vola_and_greeks['midVola'],\n",
    "                            mode='markers', name='Market Vol', marker=dict(color='blue', size=6)), row=2, col=2)\n",
    "    \n",
    "    # Add reference lines and update layout\n",
    "    forward_price = df_option_with_vola_and_greeks['F'][0]\n",
    "    for row in range(1, 3):\n",
    "        for col in range(1, 3):\n",
    "            fig.add_vline(x=forward_price, line=dict(color='gray', dash='dot', width=1), row=row, col=col)\n",
    "    \n",
    "    # Get RMSE value based on model type\n",
    "    rmse_display = optimization_result.fun\n",
    "    \n",
    "    model_display_name = \"Time-Adjusted Wing Model\" if MODEL_TYPE == \"time_adjusted\" else \"Traditional Wing Model\"\n",
    "    \n",
    "    fig.update_layout(\n",
    "        title=f\"{model_display_name} Analysis Dashboard - {my_expiry} | RMSE: {rmse_display:.4f}\",\n",
    "        height=700, template=\"plotly_white\", showlegend=True\n",
    "    )\n",
    "    \n",
    "    fig.show()\n",
    "    \n",
    "    # Summary metrics\n",
    "    call_rmse = np.sqrt((df_option_with_vola_and_greeks['fitted_call_price'] - \n",
    "                        (df_option_with_vola_and_greeks['bp0_C_usd'] + df_option_with_vola_and_greeks['ap0_C_usd'])/2)**2).mean()\n",
    "    put_rmse = np.sqrt((df_option_with_vola_and_greeks['fitted_put_price'] - \n",
    "                       (df_option_with_vola_and_greeks['bp0_P_usd'] + df_option_with_vola_and_greeks['ap0_P_usd'])/2)**2).mean()\n",
    "    \n",
    "    print(f\"📊 {model_display_name} Performance:\")\n",
    "    print(f\"   Pricing Accuracy: Call RMSE {call_rmse:.4f}, Put RMSE {put_rmse:.4f}\")\n",
    "    print(f\"   Greeks: Max Vega {df_option_with_vola_and_greeks['fitted_vega'].max():.1f}, Total Vega {df_option_with_vola_and_greeks['fitted_vega'].sum():.1f}\")\n",
    "    print(f\"   Model Type: {MODEL_TYPE.title()}\")\n",
    "else:\n",
    "    print(\"❌ No model available for dashboard visualization\")"
   ]
  },
  {
   "cell_type": "code",
   "execution_count": 21,
   "id": "6d8f89a4",
   "metadata": {},
   "outputs": [
    {
     "data": {
      "text/html": [
       "<div><style>\n",
       ".dataframe > thead > tr,\n",
       ".dataframe > tbody > tr {\n",
       "  text-align: right;\n",
       "  white-space: pre-wrap;\n",
       "}\n",
       "</style>\n",
       "<small>shape: (5, 33)</small><table border=\"1\" class=\"dataframe\"><thead><tr><th>timestamp</th><th>bq0_C</th><th>bp0_C</th><th>bp0_C_usd</th><th>ap0_C_usd</th><th>ap0_C</th><th>aq0_C</th><th>strike</th><th>bq0_P</th><th>bp0_P</th><th>bp0_P_usd</th><th>ap0_P_usd</th><th>ap0_P</th><th>aq0_P</th><th>S</th><th>F</th><th>expiry</th><th>tau</th><th>r</th><th>bidVola_C</th><th>askVola_C</th><th>bidVola_P</th><th>askVola_P</th><th>bidVola</th><th>askVola</th><th>midVola</th><th>volSpread</th><th>vega</th><th>fitted_vol_pct</th><th>fitted_call_price</th><th>fitted_put_price</th><th>fitted_call_delta</th><th>fitted_vega</th></tr><tr><td>datetime[ns]</td><td>f64</td><td>f64</td><td>f64</td><td>f64</td><td>f64</td><td>f64</td><td>i64</td><td>f64</td><td>f64</td><td>f64</td><td>f64</td><td>f64</td><td>f64</td><td>f64</td><td>f64</td><td>str</td><td>f64</td><td>f64</td><td>f64</td><td>f64</td><td>f64</td><td>f64</td><td>f64</td><td>f64</td><td>f64</td><td>f64</td><td>f64</td><td>f64</td><td>f64</td><td>f64</td><td>f64</td><td>f64</td></tr></thead><tbody><tr><td>2024-02-29 14:12:00</td><td>33.4</td><td>0.3355</td><td>21207.13</td><td>21816.5</td><td>0.34514</td><td>33.3</td><td>42000</td><td>11.7</td><td>0.0011</td><td>69.53</td><td>88.49</td><td>0.0014</td><td>6.6</td><td>63210.53</td><td>63801.13</td><td>&quot;15MAR24&quot;</td><td>0.040388</td><td>0.19</td><td>2.36</td><td>117.099485</td><td>99.85926</td><td>103.60369</td><td>99.86</td><td>103.6</td><td>101.73</td><td>3.74</td><td>5.06</td><td>104.623393</td><td>21728.6366</td><td>94.1627</td><td>0.9743</td><td>567.17</td></tr><tr><td>2024-02-29 14:12:00</td><td>13.3</td><td>0.31</td><td>19595.26</td><td>19816.5</td><td>0.3135</td><td>6.4</td><td>44000</td><td>32.7</td><td>0.0015</td><td>94.82</td><td>120.1</td><td>0.0019</td><td>15.0</td><td>63210.53</td><td>63801.13</td><td>&quot;15MAR24&quot;</td><td>0.040388</td><td>0.19</td><td>2.36</td><td>104.182834</td><td>94.497062</td><td>98.288882</td><td>94.5</td><td>98.29</td><td>96.4</td><td>3.79</td><td>6.67</td><td>97.211171</td><td>19762.3059</td><td>112.5432</td><td>0.9698</td><td>687.42</td></tr><tr><td>2024-02-29 14:12:00</td><td>11.0</td><td>0.2945</td><td>18615.5</td><td>18836.74</td><td>0.298</td><td>6.4</td><td>45000</td><td>26.7</td><td>0.0018</td><td>113.78</td><td>139.06</td><td>0.0022</td><td>14.7</td><td>63210.53</td><td>63801.13</td><td>&quot;15MAR24&quot;</td><td>0.040388</td><td>0.19</td><td>2.36</td><td>100.169591</td><td>92.291621</td><td>95.584157</td><td>92.29</td><td>95.58</td><td>93.94</td><td>3.29</td><td>7.68</td><td>93.98194</td><td>18783.7879</td><td>126.3808</td><td>0.9665</td><td>768.97</td></tr><tr><td>2024-02-29 14:12:00</td><td>13.7</td><td>0.279</td><td>17635.74</td><td>17856.97</td><td>0.2825</td><td>5.0</td><td>46000</td><td>20.4</td><td>0.0022</td><td>139.06</td><td>158.03</td><td>0.0025</td><td>8.0</td><td>63210.53</td><td>63801.13</td><td>&quot;15MAR24&quot;</td><td>0.040388</td><td>0.19</td><td>2.36</td><td>96.084378</td><td>90.434249</td><td>92.584475</td><td>90.43</td><td>92.58</td><td>91.5</td><td>2.15</td><td>8.82</td><td>91.045153</td><td>17809.3581</td><td>144.3066</td><td>0.9625</td><td>868.11</td></tr><tr><td>2024-02-29 14:12:00</td><td>12.2</td><td>0.264</td><td>16687.58</td><td>16908.82</td><td>0.2675</td><td>6.3</td><td>47000</td><td>26.8</td><td>0.0025</td><td>158.03</td><td>183.31</td><td>0.0029</td><td>8.0</td><td>63210.53</td><td>63801.13</td><td>&quot;15MAR24&quot;</td><td>0.040388</td><td>0.19</td><td>61.629651</td><td>94.687499</td><td>87.425918</td><td>89.959556</td><td>87.43</td><td>89.96</td><td>88.7</td><td>2.53</td><td>9.98</td><td>88.383518</td><td>16840.0316</td><td>167.3358</td><td>0.9574</td><td>987.58</td></tr></tbody></table></div>"
      ],
      "text/plain": [
       "shape: (5, 33)\n",
       "┌─────────────┬───────┬────────┬───────────┬───┬────────────┬────────────┬────────────┬────────────┐\n",
       "│ timestamp   ┆ bq0_C ┆ bp0_C  ┆ bp0_C_usd ┆ … ┆ fitted_cal ┆ fitted_put ┆ fitted_cal ┆ fitted_veg │\n",
       "│ ---         ┆ ---   ┆ ---    ┆ ---       ┆   ┆ l_price    ┆ _price     ┆ l_delta    ┆ a          │\n",
       "│ datetime[ns ┆ f64   ┆ f64    ┆ f64       ┆   ┆ ---        ┆ ---        ┆ ---        ┆ ---        │\n",
       "│ ]           ┆       ┆        ┆           ┆   ┆ f64        ┆ f64        ┆ f64        ┆ f64        │\n",
       "╞═════════════╪═══════╪════════╪═══════════╪═══╪════════════╪════════════╪════════════╪════════════╡\n",
       "│ 2024-02-29  ┆ 33.4  ┆ 0.3355 ┆ 21207.13  ┆ … ┆ 21728.6366 ┆ 94.1627    ┆ 0.9743     ┆ 567.17     │\n",
       "│ 14:12:00    ┆       ┆        ┆           ┆   ┆            ┆            ┆            ┆            │\n",
       "│ 2024-02-29  ┆ 13.3  ┆ 0.31   ┆ 19595.26  ┆ … ┆ 19762.3059 ┆ 112.5432   ┆ 0.9698     ┆ 687.42     │\n",
       "│ 14:12:00    ┆       ┆        ┆           ┆   ┆            ┆            ┆            ┆            │\n",
       "│ 2024-02-29  ┆ 11.0  ┆ 0.2945 ┆ 18615.5   ┆ … ┆ 18783.7879 ┆ 126.3808   ┆ 0.9665     ┆ 768.97     │\n",
       "│ 14:12:00    ┆       ┆        ┆           ┆   ┆            ┆            ┆            ┆            │\n",
       "│ 2024-02-29  ┆ 13.7  ┆ 0.279  ┆ 17635.74  ┆ … ┆ 17809.3581 ┆ 144.3066   ┆ 0.9625     ┆ 868.11     │\n",
       "│ 14:12:00    ┆       ┆        ┆           ┆   ┆            ┆            ┆            ┆            │\n",
       "│ 2024-02-29  ┆ 12.2  ┆ 0.264  ┆ 16687.58  ┆ … ┆ 16840.0316 ┆ 167.3358   ┆ 0.9574     ┆ 987.58     │\n",
       "│ 14:12:00    ┆       ┆        ┆           ┆   ┆            ┆            ┆            ┆            │\n",
       "└─────────────┴───────┴────────┴───────────┴───┴────────────┴────────────┴────────────┴────────────┘"
      ]
     },
     "execution_count": 21,
     "metadata": {},
     "output_type": "execute_result"
    }
   ],
   "source": [
    "df_option_with_vola_and_greeks.head()"
   ]
  },
  {
   "cell_type": "markdown",
   "id": "818c38da",
   "metadata": {},
   "source": [
    "## Summary\n",
    "\n",
    "This analysis demonstrates a **dual-model approach** for Bitcoin options volatility surface fitting with comprehensive **arbitrage checks**:\n",
    "\n",
    "### 🎛️ **Model Selection Toggle**\n",
    "- **Traditional Wing Model**: Classic 8-parameter strike-based moneyness calibration\n",
    "- **Time-Adjusted Wing Model**: Advanced Black-76 d1 time-dependent moneyness calibration\n",
    "\n",
    "### ✅ **Analysis Results**\n",
    "✅ **Volatility Surface Fitting**: Selected model fitted to market volatilities  \n",
    "✅ **Synthetic Arbitrage**: Call-put parity relationship validation  \n",
    "✅ **Butterfly Arbitrage**: No violations in fitted option prices  \n",
    "✅ **Monotonicity**: Call prices decrease and put prices increase with strike  \n",
    "✅ **Pricing Accuracy**: Model prices closely match market mid-prices\n",
    "\n",
    "### 💡 **Usage Instructions**\n",
    "To switch between models:\n",
    "1. Change `USE_TIME_ADJUSTED_MODEL = True/False` in the configuration cell\n",
    "2. Re-run the configuration cell and subsequent calibration cells\n",
    "3. Compare model performance metrics and arbitrage properties\n",
    "\n",
    "The fitted volatility surface is **arbitrage-free** and ready for production use with either model approach."
   ]
  },
  {
   "cell_type": "markdown",
   "id": "ea9a6b68",
   "metadata": {},
   "source": [
    "## 🔄 **Dual Model Comparison: Traditional vs Time-Adjusted Wing Models**\n",
    "\n",
    "This section calibrates **both models simultaneously** to provide a direct comparison of their performance on the same market data.\n",
    "\n",
    "### 📊 **Comparison Features**\n",
    "- **Side-by-side calibration** of both wing model types\n",
    "- **Performance metrics comparison** (RMSE, MAE, parameter counts)\n",
    "- **Visual comparison** of fitted volatility surfaces\n",
    "- **Model selection guidance** based on fit quality and interpretability"
   ]
  },
  {
   "cell_type": "code",
   "execution_count": 22,
   "id": "8229968b",
   "metadata": {},
   "outputs": [
    {
     "name": "stdout",
     "output_type": "stream",
     "text": [
      "🎯 Calibrating BOTH Traditional and Time-Adjusted Wing Models...\n",
      "======================================================================\n",
      "\n",
      "🔸 1. TRADITIONAL WING MODEL\n",
      "----------------------------------------\n",
      "✅ Traditional Wing Model calibrated successfully!\n",
      "📊 RMSE: 0.001485\n",
      "🎯 Key parameters:\n",
      "   vr: 0.7329\n",
      "   sr: 0.2133\n",
      "   pc: 2.3251\n",
      "   cc: 1.0849\n",
      "\n",
      "🔸 2. TIME-ADJUSTED WING MODEL\n",
      "----------------------------------------\n",
      "✅ Time-Adjusted Wing Model calibrated successfully!\n",
      "📊 RMSE: 0.001447\n",
      "🎯 Key parameters:\n",
      "   atm_vol: 0.7347\n",
      "   slope: 0.1268\n",
      "   curve_up: 0.2957\n",
      "   curve_down: 0.6062\n",
      "\n",
      "📊 DUAL MODEL COMPARISON SUMMARY\n",
      "==================================================\n",
      "✅ Both models calibrated successfully!\n",
      "📈 Traditional Wing Model RMSE: 0.001485\n",
      "📈 Time-Adjusted Wing Model RMSE: 0.001447\n",
      "🏆 Best fit: Time-Adjusted Wing Model\n",
      "💪 Performance improvement: 2.60%\n",
      "\n",
      "✅ Dual model calibration complete!\n",
      "📈 Ready for side-by-side visualization and analysis...\n"
     ]
    }
   ],
   "source": [
    "# 🔄 Dual Model Calibration & Comparison\n",
    "print(\"🎯 Calibrating BOTH Traditional and Time-Adjusted Wing Models...\")\n",
    "print(\"=\" * 70)\n",
    "\n",
    "# Store results for comparison\n",
    "dual_model_results = {}\n",
    "\n",
    "# Configure loss for comparison (use consistent settings)\n",
    "comparison_loss_config = {\n",
    "    'weight_type': 'vega',\n",
    "    'metric': 'rmse', \n",
    "    'vol_bounds': (0.001, 5.0),\n",
    "    'penalty_factor': 1e10\n",
    "}\n",
    "\n",
    "# 1. TRADITIONAL WING MODEL CALIBRATION\n",
    "print(\"\\n🔸 1. TRADITIONAL WING MODEL\")\n",
    "print(\"-\" * 40)\n",
    "\n",
    "# Create traditional calibrator\n",
    "traditional_calibrator = GenericVolatilityModelCalibrator(\"traditional\", market_data, comparison_loss_config)\n",
    "traditional_loss_fn = traditional_calibrator.create_loss_function()\n",
    "\n",
    "# Traditional model parameters\n",
    "traditional_initial = [0.6807, 0.08, 0.5, 0.5, -3.7, 0.025, 0.5, 0.5]\n",
    "traditional_param_names = ['vr', 'sr', 'pc', 'cc', 'dc', 'uc', 'dsm', 'usm']\n",
    "\n",
    "# Calibrate traditional model\n",
    "traditional_result = optimize.minimize(\n",
    "    fun=traditional_loss_fn,\n",
    "    x0=traditional_initial,\n",
    "    method=\"SLSQP\",\n",
    "    options={'disp': False, 'maxiter': 1000}\n",
    ")\n",
    "\n",
    "if traditional_result.success:\n",
    "    # Create traditional model object\n",
    "    traditional_wing_params = WingModelParameters(\n",
    "        vr=traditional_result.x[0], sr=traditional_result.x[1], \n",
    "        pc=traditional_result.x[2], cc=traditional_result.x[3],\n",
    "        dc=traditional_result.x[4], uc=traditional_result.x[5], \n",
    "        dsm=traditional_result.x[6], usm=traditional_result.x[7],\n",
    "        vcr=0.0, scr=0.0, ssr=0.0, atm=forward_price, ref=forward_price\n",
    "    )\n",
    "    traditional_model = WingModel(traditional_wing_params)\n",
    "    \n",
    "    # Calculate fitted volatilities\n",
    "    moneyness_list = [np.log(s / forward_price) for s in strikes_list]\n",
    "    traditional_fitted_vols = [traditional_model.calculate_volatility(m) * 100 for m in moneyness_list]\n",
    "    \n",
    "    print(f\"✅ Traditional Wing Model calibrated successfully!\")\n",
    "    print(f\"📊 RMSE: {traditional_result.fun:.6f}\")\n",
    "    print(\"🎯 Key parameters:\")\n",
    "    for i, (name, value) in enumerate(zip(traditional_param_names[:4], traditional_result.x[:4])):\n",
    "        print(f\"   {name}: {value:.4f}\")\n",
    "    \n",
    "    dual_model_results['traditional'] = {\n",
    "        'model': traditional_model,\n",
    "        'result': traditional_result,\n",
    "        'fitted_vols': traditional_fitted_vols,\n",
    "        'param_names': traditional_param_names,\n",
    "        'rmse': traditional_result.fun,\n",
    "        'success': True\n",
    "    }\n",
    "else:\n",
    "    print(\"❌ Traditional Wing Model calibration failed\")\n",
    "    dual_model_results['traditional'] = {'success': False}\n",
    "\n",
    "# 2. TIME-ADJUSTED WING MODEL CALIBRATION  \n",
    "print(\"\\n🔸 2. TIME-ADJUSTED WING MODEL\")\n",
    "print(\"-\" * 40)\n",
    "\n",
    "if TIME_ADJUSTED_AVAILABLE:\n",
    "    # Create time-adjusted calibrator\n",
    "    time_adj_calibrator = GenericVolatilityModelCalibrator(\"time_adjusted\", market_data, comparison_loss_config)\n",
    "    time_adj_loss_fn = time_adj_calibrator.create_loss_function()\n",
    "    \n",
    "    # Time-adjusted model parameters\n",
    "    time_adj_initial = [0.6807, 0.08, 0.5, 0.5, 1.0, -1.0, 5.0, 15.0]\n",
    "    time_adj_param_names = ['atm_vol', 'slope', 'curve_up', 'curve_down', 'cut_up', 'cut_dn', 'mSmUp', 'mSmDn']\n",
    "    \n",
    "    # Calibrate time-adjusted model\n",
    "    time_adj_result = optimize.minimize(\n",
    "        fun=time_adj_loss_fn,\n",
    "        x0=time_adj_initial,\n",
    "        method=\"SLSQP\",\n",
    "        options={'disp': False, 'maxiter': 1000}\n",
    "    )\n",
    "    \n",
    "    if time_adj_result.success:\n",
    "        # Create time-adjusted model object\n",
    "        time_adj_wing_params = TimeAdjustedWingModelParameters(\n",
    "            atm_vol=time_adj_result.x[0], slope=time_adj_result.x[1],\n",
    "            call_curve=time_adj_result.x[2], put_curve=time_adj_result.x[3],\n",
    "            up_cutoff=time_adj_result.x[4], down_cutoff=time_adj_result.x[5],\n",
    "            up_smoothing=time_adj_result.x[6], down_smoothing=time_adj_result.x[7], forward_price=forward_price, time_to_expiry=time_to_expiry\n",
    "        )\n",
    "        time_adj_model = TimeAdjustedWingModel(time_adj_wing_params)\n",
    "        \n",
    "        # Calculate fitted volatilities\n",
    "        time_adj_fitted_vols = [time_adj_model.calculate_volatility_from_strike(s) * 100 for s in strikes_list]\n",
    "        \n",
    "        print(f\"✅ Time-Adjusted Wing Model calibrated successfully!\")\n",
    "        print(f\"📊 RMSE: {time_adj_result.fun:.6f}\")\n",
    "        print(\"🎯 Key parameters:\")\n",
    "        for i, (name, value) in enumerate(zip(time_adj_param_names[:4], time_adj_result.x[:4])):\n",
    "            print(f\"   {name}: {value:.4f}\")\n",
    "        \n",
    "        dual_model_results['time_adjusted'] = {\n",
    "            'model': time_adj_model,\n",
    "            'result': time_adj_result,\n",
    "            'fitted_vols': time_adj_fitted_vols,\n",
    "            'param_names': time_adj_param_names,\n",
    "            'rmse': time_adj_result.fun,\n",
    "            'success': True\n",
    "        }\n",
    "    else:\n",
    "        print(\"❌ Time-Adjusted Wing Model calibration failed\")\n",
    "        dual_model_results['time_adjusted'] = {'success': False}\n",
    "else:\n",
    "    print(\"⚠️ Time-Adjusted Wing Model not available\")\n",
    "    dual_model_results['time_adjusted'] = {'success': False}\n",
    "\n",
    "# 3. COMPARISON SUMMARY\n",
    "print(\"\\n📊 DUAL MODEL COMPARISON SUMMARY\")\n",
    "print(\"=\" * 50)\n",
    "\n",
    "successful_models = [name for name, result in dual_model_results.items() if result.get('success', False)]\n",
    "\n",
    "if len(successful_models) >= 2:\n",
    "    trad_rmse = dual_model_results['traditional']['rmse']\n",
    "    time_rmse = dual_model_results['time_adjusted']['rmse']\n",
    "    \n",
    "    print(f\"✅ Both models calibrated successfully!\")\n",
    "    print(f\"📈 Traditional Wing Model RMSE: {trad_rmse:.6f}\")\n",
    "    print(f\"📈 Time-Adjusted Wing Model RMSE: {time_rmse:.6f}\")\n",
    "    \n",
    "    if trad_rmse < time_rmse:\n",
    "        winner = \"Traditional\"\n",
    "        improvement = ((time_rmse - trad_rmse) / time_rmse) * 100\n",
    "    else:\n",
    "        winner = \"Time-Adjusted\"\n",
    "        improvement = ((trad_rmse - time_rmse) / trad_rmse) * 100\n",
    "    \n",
    "    print(f\"🏆 Best fit: {winner} Wing Model\")\n",
    "    print(f\"💪 Performance improvement: {improvement:.2f}%\")\n",
    "    \n",
    "elif len(successful_models) == 1:\n",
    "    print(f\"⚠️ Only {successful_models[0]} model calibrated successfully\")\n",
    "else:\n",
    "    print(\"❌ No models calibrated successfully\")\n",
    "\n",
    "print(f\"\\n✅ Dual model calibration complete!\")\n",
    "print(f\"📈 Ready for side-by-side visualization and analysis...\")"
   ]
  },
  {
   "cell_type": "code",
   "execution_count": 23,
   "id": "1edeec3f",
   "metadata": {},
   "outputs": [
    {
     "data": {
      "application/vnd.plotly.v1+json": {
       "config": {
        "plotlyServerURL": "https://plot.ly"
       },
       "data": [
        {
         "error_y": {
          "array": {
           "bdata": "wFG4HoXr/T9ACtejcD3+P0AK16NwPfo/QOF6FK5H8T8AXI/C9Sj0P8D1KFyPwvE/AB+F61G47j/AzMzMzMzwPwCF61G4Hv0/wJmZmZmZ+T9AZmZmZmb2P4DrUbgehfM/gD0K16Nw8T8A16NwPQrvPwBcj8L1KOw/AFK4HoXr6T8AAAAAAADoP8DMzMzMzPA/gD0K16Nw5T8AzczMzMzkPwBcj8L1KOQ/gGZmZmZm5j+ACtejcD3qP4BmZmZmZu4/AM3MzMzM5D8APQrXo3DlP4DhehSuR/E/AOF6FK5H6T8AzczMzMzsP4AUrkfhevA/",
           "dtype": "f8"
          },
          "arrayminus": {
           "bdata": "AFK4HoXr/T+AZmZmZmb+P0BmZmZmZvo/AIXrUbge8T9AuB6F61H0P4CZmZmZmfE/gB6F61G47j/AcD0K16PwP0CF61G4Hv0/wPUoXI/C+T+AZmZmZmb2P8BH4XoUrvM/gJmZmZmZ8T+A16NwPQrvPwBcj8L1KOw/gJmZmZmZ6T8AAAAAAADoPwApXI/C9fA/gD0K16Nw5T+AFK5H4XrkP4Bcj8L1KOQ/gGZmZmZm5j+AwvUoXI/qPwCuR+F6FO4/gBSuR+F65D+AhetRuB7lPwCF61G4HvE/gOF6FK5H6T8AzczMzMzsP4AUrkfhevA/",
           "dtype": "f8"
          },
          "color": "blue",
          "symmetric": false,
          "thickness": 1.5,
          "type": "data",
          "visible": true,
          "width": 2
         },
         "marker": {
          "color": "blue",
          "size": 8,
          "symbol": "circle"
         },
         "mode": "markers",
         "name": "Market IV",
         "opacity": 0.7,
         "type": "scatter",
         "x": {
          "bdata": "EKQAAOCrAADIrwAAsLMAAJi3AACAuwAAaL8AAFDDAAA4xwAAIMsAAAjPAADw0gAA2NYAAMDaAACo3gAAkOIAAHjmAABg6gAASO4AADDyAAAY9gAAAPoAAOj9AADQAQEAuAUBAKAJAQBwEQEAQBkBABAhAQDgKAEA",
          "dtype": "i4"
         },
         "xaxis": "x",
         "y": {
          "bdata": "H4XrUbhuWUCamZmZmRlYQFyPwvUofFdAAAAAAADgVkDNzMzMzCxWQFyPwvUonFVA4XoUrkcRVUBSuB6F65FUQHE9CtejIFRAuB6F61GYU0B7FK5H4UpTQAAAAAAAIFNAAAAAAADAUkDD9Shcj7JSQHsUrkfhalJACtejcD1aUkBxPQrXo0BSQKRwPQrXM1JApHA9CtdDUkCPwvUoXC9SQPYoXI/CNVJACtejcD1aUkAUrkfhenRSQBSuR+F6hFJAuB6F61GoUkDD9Shcj7JSQGZmZmZmBlNAexSuR+F6U0BSuB6F67FTQEjhehSuF1RA",
          "dtype": "f8"
         },
         "yaxis": "y"
        },
        {
         "line": {
          "color": "red",
          "width": 3
         },
         "marker": {
          "color": "red",
          "size": 8,
          "symbol": "diamond"
         },
         "mode": "lines+markers",
         "name": "Traditional Wing Model",
         "type": "scatter",
         "x": [
          42000,
          44000,
          45000,
          46000,
          47000,
          48000,
          49000,
          50000,
          51000,
          52000,
          53000,
          54000,
          55000,
          56000,
          57000,
          58000,
          59000,
          60000,
          61000,
          62000,
          63000,
          64000,
          65000,
          66000,
          67000,
          68000,
          70000,
          72000,
          74000,
          76000
         ],
         "xaxis": "x",
         "y": [
          105.01259464750066,
          97.46339001273358,
          94.17703187478178,
          91.19007433177599,
          88.48480506636751,
          86.04483201028211,
          83.85496210482256,
          81.90109329726569,
          80.1701181034123,
          78.6498373047353,
          77.32888254897617,
          76.19664679224043,
          75.2432216639703,
          74.45934095797439,
          73.8363295565168,
          73.3660571832306,
          73.04089645672116,
          72.8536847821499,
          72.7976896744841,
          72.86657715583507,
          73.05438291152734,
          73.35428461823315,
          73.72159960149237,
          74.13427347413283,
          74.5901812792085,
          75.0873148838093,
          76.19776492455983,
          77.451613757512,
          78.83628121089569,
          80.34044229136072
         ],
         "yaxis": "y"
        },
        {
         "line": {
          "color": "green",
          "width": 3
         },
         "marker": {
          "color": "green",
          "size": 8,
          "symbol": "diamond"
         },
         "mode": "lines+markers",
         "name": "Time-Adjusted Wing Model",
         "type": "scatter",
         "x": [
          42000,
          44000,
          45000,
          46000,
          47000,
          48000,
          49000,
          50000,
          51000,
          52000,
          53000,
          54000,
          55000,
          56000,
          57000,
          58000,
          59000,
          60000,
          61000,
          62000,
          63000,
          64000,
          65000,
          66000,
          67000,
          68000,
          70000,
          72000,
          74000,
          76000
         ],
         "xaxis": "x",
         "y": [
          104.58996571250991,
          97.18972517548204,
          93.96557370724983,
          91.03330871661079,
          88.37567189603266,
          85.97669105861866,
          83.8215620475565,
          81.89654353661564,
          80.18886309555148,
          78.68663312623185,
          77.3787754704661,
          76.25495365529349,
          75.30551188106985,
          74.52141997630902,
          73.89422364434758,
          73.41599941334452,
          73.07931377524139,
          72.87718606302569,
          72.80305467056371,
          72.85074626673331,
          73.01444769670735,
          73.28868029894534,
          73.66137560433167,
          74.08714298183176,
          74.55679755895159,
          75.06829934313895,
          76.20923119950466,
          77.4957069537426,
          78.91494768555566,
          80.45544983037286
         ],
         "yaxis": "y"
        },
        {
         "line": {
          "color": "red",
          "width": 2
         },
         "marker": {
          "color": "red",
          "size": 6
         },
         "mode": "markers+lines",
         "name": "Traditional Wing Model Residuals",
         "type": "scatter",
         "x": [
          42000,
          44000,
          45000,
          46000,
          47000,
          48000,
          49000,
          50000,
          51000,
          52000,
          53000,
          54000,
          55000,
          56000,
          57000,
          58000,
          59000,
          60000,
          61000,
          62000,
          63000,
          64000,
          65000,
          66000,
          67000,
          68000,
          70000,
          72000,
          74000,
          76000
         ],
         "xaxis": "x2",
         "y": [
          3.282594647500659,
          1.0633900127335778,
          0.23703187478177767,
          -0.309925668224011,
          -0.21519493363248898,
          -0.3951679897178906,
          -0.4150378951774343,
          -0.37890670273431226,
          -0.3398818965876984,
          0.26983730473530443,
          0.15888254897616605,
          -0.30335320775957086,
          0.24322166397030287,
          -0.3306590420256157,
          0.16632955651679993,
          -0.043942816769401816,
          0.03089645672115182,
          0.043684782149895796,
          -0.26231032551589806,
          0.12657715583507922,
          0.21438291152733768,
          -0.055715381766844985,
          -0.09840039850762139,
          0.06427347413283258,
          -0.039818720791501505,
          0.2973148838092925,
          0.09776492455983998,
          -0.46838624248799476,
          0.05628121089569049,
          -0.029557708639288194
         ],
         "yaxis": "y2"
        },
        {
         "line": {
          "color": "green",
          "width": 2
         },
         "marker": {
          "color": "green",
          "size": 6
         },
         "mode": "markers+lines",
         "name": "Time-Adjusted Wing Model Residuals",
         "type": "scatter",
         "x": [
          42000,
          44000,
          45000,
          46000,
          47000,
          48000,
          49000,
          50000,
          51000,
          52000,
          53000,
          54000,
          55000,
          56000,
          57000,
          58000,
          59000,
          60000,
          61000,
          62000,
          63000,
          64000,
          65000,
          66000,
          67000,
          68000,
          70000,
          72000,
          74000,
          76000
         ],
         "xaxis": "x2",
         "y": [
          2.8599657125099043,
          0.7897251754820331,
          0.025573707249833433,
          -0.46669128338920984,
          -0.32432810396734624,
          -0.46330894138134227,
          -0.4484379524434985,
          -0.3834564633843627,
          -0.3211369044485224,
          0.30663312623185845,
          0.2087754704660938,
          -0.245046344706509,
          0.3055118810698474,
          -0.268580023690987,
          0.2242236443475747,
          0.005999413344525806,
          0.06931377524138327,
          0.0671860630256873,
          -0.25694532943629156,
          0.11074626673331522,
          0.17444769670734672,
          -0.12131970105465939,
          -0.1586243956683262,
          0.017142981831767656,
          -0.07320244104840867,
          0.27829934313894,
          0.10923119950466287,
          -0.4242930462574037,
          0.13494768555565884,
          0.08544983037285192
         ],
         "yaxis": "y2"
        },
        {
         "cells": {
          "align": "left",
          "fill": {
           "color": "lightgray"
          },
          "font": {
           "color": "black",
           "size": 11
          },
          "values": [
           [
            "Traditional Wing Model",
            "Time-Adjusted Wing Model"
           ],
           [
            "0.0067",
            "0.0060"
           ],
           [
            "0.0033",
            "0.0032"
           ],
           [
            "0.0328",
            "0.0286"
           ],
           [
            "29/30",
            "29/30"
           ],
           [
            "96.7%",
            "96.7%"
           ]
          ]
         },
         "domain": {
          "x": [
           0.55,
           1
          ],
          "y": [
           0,
           0.44
          ]
         },
         "header": {
          "align": "left",
          "fill": {
           "color": "lightblue"
          },
          "font": {
           "color": "black",
           "size": 12
          },
          "values": [
           "Model",
           "RMSE",
           "MAE",
           "Max Error",
           "In Range",
           "Range %"
          ]
         },
         "type": "table"
        }
       ],
       "layout": {
        "annotations": [
         {
          "font": {
           "size": 16
          },
          "showarrow": false,
          "text": "Volatility Fit Comparison",
          "x": 0.5,
          "xanchor": "center",
          "xref": "paper",
          "y": 1,
          "yanchor": "bottom",
          "yref": "paper"
         },
         {
          "font": {
           "size": 16
          },
          "showarrow": false,
          "text": "Residuals Analysis",
          "x": 0.225,
          "xanchor": "center",
          "xref": "paper",
          "y": 0.44,
          "yanchor": "bottom",
          "yref": "paper"
         },
         {
          "font": {
           "size": 16
          },
          "showarrow": false,
          "text": "Parameter Comparison",
          "x": 0.775,
          "xanchor": "center",
          "xref": "paper",
          "y": 0.44,
          "yanchor": "bottom",
          "yref": "paper"
         },
         {
          "showarrow": false,
          "text": "Forward: 63801",
          "x": 63801.13,
          "xanchor": "left",
          "xref": "x",
          "y": 1,
          "yanchor": "top",
          "yref": "y domain"
         }
        ],
        "height": 800,
        "legend": {
         "orientation": "h",
         "x": 1,
         "xanchor": "right",
         "y": 1.02,
         "yanchor": "bottom"
        },
        "shapes": [
         {
          "line": {
           "color": "purple",
           "dash": "dot",
           "width": 2
          },
          "type": "line",
          "x0": 63801.13,
          "x1": 63801.13,
          "xref": "x",
          "y0": 0,
          "y1": 1,
          "yref": "y domain"
         },
         {
          "line": {
           "color": "black",
           "dash": "dash",
           "width": 1
          },
          "type": "line",
          "x0": 0,
          "x1": 1,
          "xref": "x2 domain",
          "y0": 0,
          "y1": 0,
          "yref": "y2"
         }
        ],
        "showlegend": true,
        "template": {
         "data": {
          "bar": [
           {
            "error_x": {
             "color": "#2a3f5f"
            },
            "error_y": {
             "color": "#2a3f5f"
            },
            "marker": {
             "line": {
              "color": "white",
              "width": 0.5
             },
             "pattern": {
              "fillmode": "overlay",
              "size": 10,
              "solidity": 0.2
             }
            },
            "type": "bar"
           }
          ],
          "barpolar": [
           {
            "marker": {
             "line": {
              "color": "white",
              "width": 0.5
             },
             "pattern": {
              "fillmode": "overlay",
              "size": 10,
              "solidity": 0.2
             }
            },
            "type": "barpolar"
           }
          ],
          "carpet": [
           {
            "aaxis": {
             "endlinecolor": "#2a3f5f",
             "gridcolor": "#C8D4E3",
             "linecolor": "#C8D4E3",
             "minorgridcolor": "#C8D4E3",
             "startlinecolor": "#2a3f5f"
            },
            "baxis": {
             "endlinecolor": "#2a3f5f",
             "gridcolor": "#C8D4E3",
             "linecolor": "#C8D4E3",
             "minorgridcolor": "#C8D4E3",
             "startlinecolor": "#2a3f5f"
            },
            "type": "carpet"
           }
          ],
          "choropleth": [
           {
            "colorbar": {
             "outlinewidth": 0,
             "ticks": ""
            },
            "type": "choropleth"
           }
          ],
          "contour": [
           {
            "colorbar": {
             "outlinewidth": 0,
             "ticks": ""
            },
            "colorscale": [
             [
              0,
              "#0d0887"
             ],
             [
              0.1111111111111111,
              "#46039f"
             ],
             [
              0.2222222222222222,
              "#7201a8"
             ],
             [
              0.3333333333333333,
              "#9c179e"
             ],
             [
              0.4444444444444444,
              "#bd3786"
             ],
             [
              0.5555555555555556,
              "#d8576b"
             ],
             [
              0.6666666666666666,
              "#ed7953"
             ],
             [
              0.7777777777777778,
              "#fb9f3a"
             ],
             [
              0.8888888888888888,
              "#fdca26"
             ],
             [
              1,
              "#f0f921"
             ]
            ],
            "type": "contour"
           }
          ],
          "contourcarpet": [
           {
            "colorbar": {
             "outlinewidth": 0,
             "ticks": ""
            },
            "type": "contourcarpet"
           }
          ],
          "heatmap": [
           {
            "colorbar": {
             "outlinewidth": 0,
             "ticks": ""
            },
            "colorscale": [
             [
              0,
              "#0d0887"
             ],
             [
              0.1111111111111111,
              "#46039f"
             ],
             [
              0.2222222222222222,
              "#7201a8"
             ],
             [
              0.3333333333333333,
              "#9c179e"
             ],
             [
              0.4444444444444444,
              "#bd3786"
             ],
             [
              0.5555555555555556,
              "#d8576b"
             ],
             [
              0.6666666666666666,
              "#ed7953"
             ],
             [
              0.7777777777777778,
              "#fb9f3a"
             ],
             [
              0.8888888888888888,
              "#fdca26"
             ],
             [
              1,
              "#f0f921"
             ]
            ],
            "type": "heatmap"
           }
          ],
          "histogram": [
           {
            "marker": {
             "pattern": {
              "fillmode": "overlay",
              "size": 10,
              "solidity": 0.2
             }
            },
            "type": "histogram"
           }
          ],
          "histogram2d": [
           {
            "colorbar": {
             "outlinewidth": 0,
             "ticks": ""
            },
            "colorscale": [
             [
              0,
              "#0d0887"
             ],
             [
              0.1111111111111111,
              "#46039f"
             ],
             [
              0.2222222222222222,
              "#7201a8"
             ],
             [
              0.3333333333333333,
              "#9c179e"
             ],
             [
              0.4444444444444444,
              "#bd3786"
             ],
             [
              0.5555555555555556,
              "#d8576b"
             ],
             [
              0.6666666666666666,
              "#ed7953"
             ],
             [
              0.7777777777777778,
              "#fb9f3a"
             ],
             [
              0.8888888888888888,
              "#fdca26"
             ],
             [
              1,
              "#f0f921"
             ]
            ],
            "type": "histogram2d"
           }
          ],
          "histogram2dcontour": [
           {
            "colorbar": {
             "outlinewidth": 0,
             "ticks": ""
            },
            "colorscale": [
             [
              0,
              "#0d0887"
             ],
             [
              0.1111111111111111,
              "#46039f"
             ],
             [
              0.2222222222222222,
              "#7201a8"
             ],
             [
              0.3333333333333333,
              "#9c179e"
             ],
             [
              0.4444444444444444,
              "#bd3786"
             ],
             [
              0.5555555555555556,
              "#d8576b"
             ],
             [
              0.6666666666666666,
              "#ed7953"
             ],
             [
              0.7777777777777778,
              "#fb9f3a"
             ],
             [
              0.8888888888888888,
              "#fdca26"
             ],
             [
              1,
              "#f0f921"
             ]
            ],
            "type": "histogram2dcontour"
           }
          ],
          "mesh3d": [
           {
            "colorbar": {
             "outlinewidth": 0,
             "ticks": ""
            },
            "type": "mesh3d"
           }
          ],
          "parcoords": [
           {
            "line": {
             "colorbar": {
              "outlinewidth": 0,
              "ticks": ""
             }
            },
            "type": "parcoords"
           }
          ],
          "pie": [
           {
            "automargin": true,
            "type": "pie"
           }
          ],
          "scatter": [
           {
            "fillpattern": {
             "fillmode": "overlay",
             "size": 10,
             "solidity": 0.2
            },
            "type": "scatter"
           }
          ],
          "scatter3d": [
           {
            "line": {
             "colorbar": {
              "outlinewidth": 0,
              "ticks": ""
             }
            },
            "marker": {
             "colorbar": {
              "outlinewidth": 0,
              "ticks": ""
             }
            },
            "type": "scatter3d"
           }
          ],
          "scattercarpet": [
           {
            "marker": {
             "colorbar": {
              "outlinewidth": 0,
              "ticks": ""
             }
            },
            "type": "scattercarpet"
           }
          ],
          "scattergeo": [
           {
            "marker": {
             "colorbar": {
              "outlinewidth": 0,
              "ticks": ""
             }
            },
            "type": "scattergeo"
           }
          ],
          "scattergl": [
           {
            "marker": {
             "colorbar": {
              "outlinewidth": 0,
              "ticks": ""
             }
            },
            "type": "scattergl"
           }
          ],
          "scattermap": [
           {
            "marker": {
             "colorbar": {
              "outlinewidth": 0,
              "ticks": ""
             }
            },
            "type": "scattermap"
           }
          ],
          "scattermapbox": [
           {
            "marker": {
             "colorbar": {
              "outlinewidth": 0,
              "ticks": ""
             }
            },
            "type": "scattermapbox"
           }
          ],
          "scatterpolar": [
           {
            "marker": {
             "colorbar": {
              "outlinewidth": 0,
              "ticks": ""
             }
            },
            "type": "scatterpolar"
           }
          ],
          "scatterpolargl": [
           {
            "marker": {
             "colorbar": {
              "outlinewidth": 0,
              "ticks": ""
             }
            },
            "type": "scatterpolargl"
           }
          ],
          "scatterternary": [
           {
            "marker": {
             "colorbar": {
              "outlinewidth": 0,
              "ticks": ""
             }
            },
            "type": "scatterternary"
           }
          ],
          "surface": [
           {
            "colorbar": {
             "outlinewidth": 0,
             "ticks": ""
            },
            "colorscale": [
             [
              0,
              "#0d0887"
             ],
             [
              0.1111111111111111,
              "#46039f"
             ],
             [
              0.2222222222222222,
              "#7201a8"
             ],
             [
              0.3333333333333333,
              "#9c179e"
             ],
             [
              0.4444444444444444,
              "#bd3786"
             ],
             [
              0.5555555555555556,
              "#d8576b"
             ],
             [
              0.6666666666666666,
              "#ed7953"
             ],
             [
              0.7777777777777778,
              "#fb9f3a"
             ],
             [
              0.8888888888888888,
              "#fdca26"
             ],
             [
              1,
              "#f0f921"
             ]
            ],
            "type": "surface"
           }
          ],
          "table": [
           {
            "cells": {
             "fill": {
              "color": "#EBF0F8"
             },
             "line": {
              "color": "white"
             }
            },
            "header": {
             "fill": {
              "color": "#C8D4E3"
             },
             "line": {
              "color": "white"
             }
            },
            "type": "table"
           }
          ]
         },
         "layout": {
          "annotationdefaults": {
           "arrowcolor": "#2a3f5f",
           "arrowhead": 0,
           "arrowwidth": 1
          },
          "autotypenumbers": "strict",
          "coloraxis": {
           "colorbar": {
            "outlinewidth": 0,
            "ticks": ""
           }
          },
          "colorscale": {
           "diverging": [
            [
             0,
             "#8e0152"
            ],
            [
             0.1,
             "#c51b7d"
            ],
            [
             0.2,
             "#de77ae"
            ],
            [
             0.3,
             "#f1b6da"
            ],
            [
             0.4,
             "#fde0ef"
            ],
            [
             0.5,
             "#f7f7f7"
            ],
            [
             0.6,
             "#e6f5d0"
            ],
            [
             0.7,
             "#b8e186"
            ],
            [
             0.8,
             "#7fbc41"
            ],
            [
             0.9,
             "#4d9221"
            ],
            [
             1,
             "#276419"
            ]
           ],
           "sequential": [
            [
             0,
             "#0d0887"
            ],
            [
             0.1111111111111111,
             "#46039f"
            ],
            [
             0.2222222222222222,
             "#7201a8"
            ],
            [
             0.3333333333333333,
             "#9c179e"
            ],
            [
             0.4444444444444444,
             "#bd3786"
            ],
            [
             0.5555555555555556,
             "#d8576b"
            ],
            [
             0.6666666666666666,
             "#ed7953"
            ],
            [
             0.7777777777777778,
             "#fb9f3a"
            ],
            [
             0.8888888888888888,
             "#fdca26"
            ],
            [
             1,
             "#f0f921"
            ]
           ],
           "sequentialminus": [
            [
             0,
             "#0d0887"
            ],
            [
             0.1111111111111111,
             "#46039f"
            ],
            [
             0.2222222222222222,
             "#7201a8"
            ],
            [
             0.3333333333333333,
             "#9c179e"
            ],
            [
             0.4444444444444444,
             "#bd3786"
            ],
            [
             0.5555555555555556,
             "#d8576b"
            ],
            [
             0.6666666666666666,
             "#ed7953"
            ],
            [
             0.7777777777777778,
             "#fb9f3a"
            ],
            [
             0.8888888888888888,
             "#fdca26"
            ],
            [
             1,
             "#f0f921"
            ]
           ]
          },
          "colorway": [
           "#636efa",
           "#EF553B",
           "#00cc96",
           "#ab63fa",
           "#FFA15A",
           "#19d3f3",
           "#FF6692",
           "#B6E880",
           "#FF97FF",
           "#FECB52"
          ],
          "font": {
           "color": "#2a3f5f"
          },
          "geo": {
           "bgcolor": "white",
           "lakecolor": "white",
           "landcolor": "white",
           "showlakes": true,
           "showland": true,
           "subunitcolor": "#C8D4E3"
          },
          "hoverlabel": {
           "align": "left"
          },
          "hovermode": "closest",
          "mapbox": {
           "style": "light"
          },
          "paper_bgcolor": "white",
          "plot_bgcolor": "white",
          "polar": {
           "angularaxis": {
            "gridcolor": "#EBF0F8",
            "linecolor": "#EBF0F8",
            "ticks": ""
           },
           "bgcolor": "white",
           "radialaxis": {
            "gridcolor": "#EBF0F8",
            "linecolor": "#EBF0F8",
            "ticks": ""
           }
          },
          "scene": {
           "xaxis": {
            "backgroundcolor": "white",
            "gridcolor": "#DFE8F3",
            "gridwidth": 2,
            "linecolor": "#EBF0F8",
            "showbackground": true,
            "ticks": "",
            "zerolinecolor": "#EBF0F8"
           },
           "yaxis": {
            "backgroundcolor": "white",
            "gridcolor": "#DFE8F3",
            "gridwidth": 2,
            "linecolor": "#EBF0F8",
            "showbackground": true,
            "ticks": "",
            "zerolinecolor": "#EBF0F8"
           },
           "zaxis": {
            "backgroundcolor": "white",
            "gridcolor": "#DFE8F3",
            "gridwidth": 2,
            "linecolor": "#EBF0F8",
            "showbackground": true,
            "ticks": "",
            "zerolinecolor": "#EBF0F8"
           }
          },
          "shapedefaults": {
           "line": {
            "color": "#2a3f5f"
           }
          },
          "ternary": {
           "aaxis": {
            "gridcolor": "#DFE8F3",
            "linecolor": "#A2B1C6",
            "ticks": ""
           },
           "baxis": {
            "gridcolor": "#DFE8F3",
            "linecolor": "#A2B1C6",
            "ticks": ""
           },
           "bgcolor": "white",
           "caxis": {
            "gridcolor": "#DFE8F3",
            "linecolor": "#A2B1C6",
            "ticks": ""
           }
          },
          "title": {
           "x": 0.05
          },
          "xaxis": {
           "automargin": true,
           "gridcolor": "#EBF0F8",
           "linecolor": "#EBF0F8",
           "ticks": "",
           "title": {
            "standoff": 15
           },
           "zerolinecolor": "#EBF0F8",
           "zerolinewidth": 2
          },
          "yaxis": {
           "automargin": true,
           "gridcolor": "#EBF0F8",
           "linecolor": "#EBF0F8",
           "ticks": "",
           "title": {
            "standoff": 15
           },
           "zerolinecolor": "#EBF0F8",
           "zerolinewidth": 2
          }
         }
        },
        "title": {
         "text": "Dual Wing Model Comparison - 15MAR24 Expiry<br>Spot: 63211 | τ: 0.0404 years | Forward: 63801"
        },
        "xaxis": {
         "anchor": "y",
         "domain": [
          0,
          1
         ],
         "title": {
          "text": "Strike Price"
         }
        },
        "xaxis2": {
         "anchor": "y2",
         "domain": [
          0,
          0.45
         ],
         "title": {
          "text": "Strike Price"
         }
        },
        "yaxis": {
         "anchor": "x",
         "domain": [
          0.56,
          1
         ],
         "title": {
          "text": "Implied Volatility (%)"
         }
        },
        "yaxis2": {
         "anchor": "x2",
         "domain": [
          0,
          0.44
         ],
         "title": {
          "text": "Residuals (%)"
         }
        }
       }
      }
     },
     "metadata": {},
     "output_type": "display_data"
    },
    {
     "name": "stdout",
     "output_type": "stream",
     "text": [
      "\n",
      "📊 DETAILED MODEL COMPARISON\n",
      "============================================================\n",
      "\n",
      "🔸 TRADITIONAL WING MODEL\n",
      "   RMSE: 0.0067 (0.67%)\n",
      "   MAE:  0.0033 (0.33%)\n",
      "   Optimization RMSE: 0.001485\n",
      "   Parameters: 8\n",
      "   Key Parameters:\n",
      "     vr: 0.7329\n",
      "     sr: 0.2133\n",
      "     pc: 2.3251\n",
      "\n",
      "🔸 TIME-ADJUSTED WING MODEL\n",
      "   RMSE: 0.0060 (0.60%)\n",
      "   MAE:  0.0032 (0.32%)\n",
      "   Optimization RMSE: 0.001447\n",
      "   Parameters: 8\n",
      "   Key Parameters:\n",
      "     atm_vol: 0.7347\n",
      "     slope: 0.1268\n",
      "     curve_up: 0.2957\n"
     ]
    }
   ],
   "source": [
    "# 📊 Side-by-Side Volatility Surface Comparison\n",
    "if len([name for name, result in dual_model_results.items() if result.get('success', False)]) >= 1:\n",
    "    \n",
    "    fig = make_subplots(\n",
    "        rows=2, cols=2,\n",
    "        subplot_titles=('Volatility Fit Comparison', 'Residuals Analysis', 'Parameter Comparison', 'Model Performance'),\n",
    "        vertical_spacing=0.12,\n",
    "        horizontal_spacing=0.1,\n",
    "        specs=[[{\"colspan\": 2}, None],\n",
    "               [{\"type\": \"bar\"}, {\"type\": \"table\"}]]\n",
    "    )\n",
    "    \n",
    "    # Panel 1: Volatility Fit Comparison (spans full width)\n",
    "    # Market data with error bars\n",
    "    fig.add_trace(go.Scatter(\n",
    "        x=df_option_with_vola_and_greeks['strike'],\n",
    "        y=df_option_with_vola_and_greeks['midVola'],\n",
    "        mode='markers',\n",
    "        name='Market IV',\n",
    "        marker=dict(color='blue', symbol='circle', size=8),\n",
    "        error_y=dict(\n",
    "            type='data',\n",
    "            symmetric=False,\n",
    "            array=df_option_with_vola_and_greeks['askVola'] - df_option_with_vola_and_greeks['midVola'],\n",
    "            arrayminus=df_option_with_vola_and_greeks['midVola'] - df_option_with_vola_and_greeks['bidVola'],\n",
    "            visible=True,\n",
    "            color='blue',\n",
    "            thickness=1.5,\n",
    "            width=2\n",
    "        ),\n",
    "        opacity=0.7\n",
    "    ), row=1, col=1)\n",
    "    \n",
    "    # Add model fits\n",
    "    colors = {'traditional': 'red', 'time_adjusted': 'green'}\n",
    "    names = {'traditional': 'Traditional Wing Model', 'time_adjusted': 'Time-Adjusted Wing Model'}\n",
    "    \n",
    "    for model_type, result in dual_model_results.items():\n",
    "        if result.get('success', False):\n",
    "            fig.add_trace(go.Scatter(\n",
    "                x=strikes_list,\n",
    "                y=result['fitted_vols'],\n",
    "                mode='lines+markers',\n",
    "                name=names[model_type],\n",
    "                line=dict(color=colors[model_type], width=3),\n",
    "                marker=dict(color=colors[model_type], symbol='diamond', size=8),\n",
    "            ), row=1, col=1)\n",
    "    \n",
    "    # Add forward price reference line\n",
    "    fig.add_vline(x=forward_price, line=dict(color='purple', dash='dot', width=2), \n",
    "                  annotation_text=f\"Forward: {forward_price:.0f}\", row=1, col=1)\n",
    "    \n",
    "    # Panel 2: Residuals Analysis\n",
    "    market_vols_pct = df_option_with_vola_and_greeks['midVola'].to_list()\n",
    "    \n",
    "    for model_type, result in dual_model_results.items():\n",
    "        if result.get('success', False):\n",
    "            residuals = [fitted - market for fitted, market in zip(result['fitted_vols'], market_vols_pct)]\n",
    "            fig.add_trace(go.Scatter(\n",
    "                x=strikes_list,\n",
    "                y=residuals,\n",
    "                mode='markers+lines',\n",
    "                name=f'{names[model_type]} Residuals',\n",
    "                marker=dict(color=colors[model_type], size=6),\n",
    "                line=dict(color=colors[model_type], width=2)\n",
    "            ), row=2, col=1)\n",
    "    \n",
    "    # Add zero reference line for residuals\n",
    "    fig.add_hline(y=0, line=dict(color='black', dash='dash', width=1), row=2, col=1)\n",
    "    \n",
    "    # Panel 3: Performance Comparison Table\n",
    "    if len([name for name, result in dual_model_results.items() if result.get('success', False)]) >= 2:\n",
    "        # Calculate additional metrics for comparison\n",
    "        comparison_data = []\n",
    "        \n",
    "        for model_type, result in dual_model_results.items():\n",
    "            if result.get('success', False):\n",
    "                fitted_vols_decimal = [v/100 for v in result['fitted_vols']]\n",
    "                market_vols_decimal = [v/100 for v in market_vols_pct]\n",
    "                \n",
    "                rmse = np.sqrt(np.mean([(f - m)**2 for f, m in zip(fitted_vols_decimal, market_vols_decimal)]))\n",
    "                mae = np.mean([abs(f - m) for f, m in zip(fitted_vols_decimal, market_vols_decimal)])\n",
    "                max_error = max([abs(f - m) for f, m in zip(fitted_vols_decimal, market_vols_decimal)])\n",
    "                \n",
    "                # Count strikes within bid-ask range\n",
    "                within_range = sum(1 for i, strike in enumerate(strikes_list) \n",
    "                                 if df_option_with_vola_and_greeks['bidVola'][i] <= result['fitted_vols'][i] <= df_option_with_vola_and_greeks['askVola'][i])\n",
    "                \n",
    "                comparison_data.append([\n",
    "                    names[model_type],\n",
    "                    f\"{rmse:.4f}\",\n",
    "                    f\"{mae:.4f}\",\n",
    "                    f\"{max_error:.4f}\",\n",
    "                    f\"{within_range}/{len(strikes_list)}\",\n",
    "                    f\"{within_range/len(strikes_list)*100:.1f}%\"\n",
    "                ])\n",
    "        \n",
    "        fig.add_trace(go.Table(\n",
    "            header=dict(values=['Model', 'RMSE', 'MAE', 'Max Error', 'In Range', 'Range %'],\n",
    "                       fill_color='lightblue',\n",
    "                       align='left',\n",
    "                       font=dict(size=12, color='black')),\n",
    "            cells=dict(values=list(zip(*comparison_data)),\n",
    "                      fill_color='lightgray',\n",
    "                      align='left',\n",
    "                      font=dict(size=11, color='black'))\n",
    "        ), row=2, col=2)\n",
    "    \n",
    "    # Update layout\n",
    "    forward_price = df_option_with_vola_and_greeks['S'][0]\n",
    "    tau_value = df_option_with_vola_and_greeks['tau'][0]\n",
    "    \n",
    "    fig.update_layout(\n",
    "        title=f\"Dual Wing Model Comparison - {my_expiry} Expiry<br>Spot: {forward_price:.0f} | τ: {tau_value:.4f} years | Forward: {forward_price:.0f}\",\n",
    "        height=800,\n",
    "        template=\"plotly_white\",\n",
    "        showlegend=True,\n",
    "        legend=dict(\n",
    "            orientation=\"h\",\n",
    "            yanchor=\"bottom\",\n",
    "            y=1.02,\n",
    "            xanchor=\"right\",\n",
    "            x=1\n",
    "        )\n",
    "    )\n",
    "    \n",
    "    # Update axis labels\n",
    "    fig.update_xaxes(title_text=\"Strike Price\", row=1, col=1)\n",
    "    fig.update_yaxes(title_text=\"Implied Volatility (%)\", row=1, col=1)\n",
    "    fig.update_xaxes(title_text=\"Strike Price\", row=2, col=1)\n",
    "    fig.update_yaxes(title_text=\"Residuals (%)\", row=2, col=1)\n",
    "    \n",
    "    fig.show()\n",
    "    \n",
    "    # Print detailed comparison\n",
    "    print(\"\\n📊 DETAILED MODEL COMPARISON\")\n",
    "    print(\"=\" * 60)\n",
    "    \n",
    "    for model_type, result in dual_model_results.items():\n",
    "        if result.get('success', False):\n",
    "            fitted_vols_decimal = [v/100 for v in result['fitted_vols']]\n",
    "            market_vols_decimal = [v/100 for v in market_vols_pct]\n",
    "            \n",
    "            rmse = np.sqrt(np.mean([(f - m)**2 for f, m in zip(fitted_vols_decimal, market_vols_decimal)]))\n",
    "            mae = np.mean([abs(f - m) for f, m in zip(fitted_vols_decimal, market_vols_decimal)])\n",
    "            \n",
    "            print(f\"\\n🔸 {names[model_type].upper()}\")\n",
    "            print(f\"   RMSE: {rmse:.4f} ({rmse*100:.2f}%)\")\n",
    "            print(f\"   MAE:  {mae:.4f} ({mae*100:.2f}%)\")\n",
    "            print(f\"   Optimization RMSE: {result['rmse']:.6f}\")\n",
    "            print(f\"   Parameters: {len(result['param_names'])}\")\n",
    "            \n",
    "            # Show top 3 parameters\n",
    "            print(\"   Key Parameters:\")\n",
    "            for i, (name, value) in enumerate(zip(result['param_names'][:3], result['result'].x[:3])):\n",
    "                print(f\"     {name}: {value:.4f}\")\n",
    "\n",
    "else:\n",
    "    print(\"❌ No models available for visualization\")"
   ]
  },
  {
   "cell_type": "code",
   "execution_count": 24,
   "id": "50d340bd",
   "metadata": {},
   "outputs": [
    {
     "name": "stdout",
     "output_type": "stream",
     "text": [
      "\n",
      "🤖 MODEL SELECTION RECOMMENDATION ENGINE\n",
      "============================================================\n",
      "📊 COMPREHENSIVE PERFORMANCE ANALYSIS\n",
      "---------------------------------------------\n",
      "\n",
      "📈 TRADITIONAL WING MODEL\n",
      "   Accuracy:     RMSE 0.0067 | MAE 0.0033 | MAPE 0.38%\n",
      "   Stability:    Max Error 0.0328 | Std Residuals 0.0067\n",
      "   Practical:    29/30 strikes in range (96.7%)\n",
      "   Complexity:   8 parameters\n",
      "   Score:        0.0903 (lower is better)\n",
      "\n",
      "🏆 TIME-ADJUSTED WING MODEL\n",
      "   Accuracy:     RMSE 0.0060 | MAE 0.0032 | MAPE 0.38%\n",
      "   Stability:    Max Error 0.0286 | Std Residuals 0.0059\n",
      "   Practical:    29/30 strikes in range (96.7%)\n",
      "   Complexity:   8 parameters\n",
      "   Score:        0.0891 (lower is better)\n",
      "\n",
      "🎯 RECOMMENDATION\n",
      "--------------------\n",
      "🏆 RECOMMENDED MODEL: Time-Adjusted Wing Model\n",
      "💪 Performance advantage: 1.3% better overall score\n",
      "\n",
      "💡 WHY TIME-ADJUSTED WING MODEL:\n",
      "   ✅ Better captures time-dependent effects\n",
      "   ✅ More sophisticated moneyness calculation\n",
      "   ✅ Potentially better for short-dated options\n",
      "   ⚖️ Consider for: Advanced risk management applications\n",
      "\n",
      "📋 PRACTICAL GUIDANCE:\n",
      "   ✅ High market consistency - safe for production use\n",
      "   ✅ Excellent stability - no outlier concerns\n"
     ]
    }
   ],
   "source": [
    "# 🎯 Model Selection Recommendation Engine\n",
    "def analyze_model_performance(dual_results, market_data_info):\n",
    "    \"\"\"\n",
    "    Comprehensive model analysis and recommendation system\n",
    "    \"\"\"\n",
    "    print(\"\\n🤖 MODEL SELECTION RECOMMENDATION ENGINE\")\n",
    "    print(\"=\" * 60)\n",
    "    \n",
    "    successful_models = [(name, result) for name, result in dual_results.items() if result.get('success', False)]\n",
    "    \n",
    "    if len(successful_models) < 2:\n",
    "        print(\"⚠️ Need at least 2 successful models for comparison\")\n",
    "        return\n",
    "    \n",
    "    # Calculate comprehensive metrics\n",
    "    analysis_results = {}\n",
    "    \n",
    "    for model_name, result in successful_models:\n",
    "        fitted_decimal = [v/100 for v in result['fitted_vols']]\n",
    "        market_decimal = [v/100 for v in market_vols_pct]\n",
    "        \n",
    "        # Core metrics\n",
    "        rmse = np.sqrt(np.mean([(f - m)**2 for f, m in zip(fitted_decimal, market_decimal)]))\n",
    "        mae = np.mean([abs(f - m) for f, m in zip(fitted_decimal, market_decimal)])\n",
    "        mape = np.mean([abs((f - m)/m) for f, m in zip(fitted_decimal, market_decimal)]) * 100\n",
    "        \n",
    "        # Stability metrics\n",
    "        max_error = max([abs(f - m) for f, m in zip(fitted_decimal, market_decimal)])\n",
    "        std_residuals = np.std([f - m for f, m in zip(fitted_decimal, market_decimal)])\n",
    "        \n",
    "        # Practical metrics\n",
    "        within_range = sum(1 for i, strike in enumerate(strikes_list) \n",
    "                          if df_option_with_vola_and_greeks['bidVola'][i] <= result['fitted_vols'][i] <= df_option_with_vola_and_greeks['askVola'][i])\n",
    "        range_percentage = within_range / len(strikes_list) * 100\n",
    "        \n",
    "        # Complexity penalty (fewer parameters is better)\n",
    "        param_count = len(result['param_names'])\n",
    "        complexity_score = param_count / 10  # Normalize to 0-1 scale\n",
    "        \n",
    "        # Calculate composite score (lower is better)\n",
    "        composite_score = (\n",
    "            rmse * 0.4 +           # 40% weight on RMSE\n",
    "            mae * 0.3 +            # 30% weight on MAE  \n",
    "            max_error * 0.2 +      # 20% weight on max error\n",
    "            complexity_score * 0.1  # 10% weight on complexity\n",
    "        )\n",
    "        \n",
    "        analysis_results[model_name] = {\n",
    "            'rmse': rmse,\n",
    "            'mae': mae,\n",
    "            'mape': mape,\n",
    "            'max_error': max_error,\n",
    "            'std_residuals': std_residuals,\n",
    "            'within_range': within_range,\n",
    "            'range_percentage': range_percentage,\n",
    "            'param_count': param_count,\n",
    "            'composite_score': composite_score\n",
    "        }\n",
    "    \n",
    "    # Determine winner\n",
    "    best_model = min(analysis_results.keys(), key=lambda k: analysis_results[k]['composite_score'])\n",
    "    \n",
    "    print(\"📊 COMPREHENSIVE PERFORMANCE ANALYSIS\")\n",
    "    print(\"-\" * 45)\n",
    "    \n",
    "    for model_name, metrics in analysis_results.items():\n",
    "        indicator = \"🏆\" if model_name == best_model else \"📈\"\n",
    "        display_name = \"Traditional\" if model_name == \"traditional\" else \"Time-Adjusted\"\n",
    "        \n",
    "        print(f\"\\n{indicator} {display_name.upper()} WING MODEL\")\n",
    "        print(f\"   Accuracy:     RMSE {metrics['rmse']:.4f} | MAE {metrics['mae']:.4f} | MAPE {metrics['mape']:.2f}%\")\n",
    "        print(f\"   Stability:    Max Error {metrics['max_error']:.4f} | Std Residuals {metrics['std_residuals']:.4f}\")\n",
    "        print(f\"   Practical:    {metrics['within_range']}/{len(strikes_list)} strikes in range ({metrics['range_percentage']:.1f}%)\")\n",
    "        print(f\"   Complexity:   {metrics['param_count']} parameters\")\n",
    "        print(f\"   Score:        {metrics['composite_score']:.4f} (lower is better)\")\n",
    "    \n",
    "    # Provide recommendation\n",
    "    print(f\"\\n🎯 RECOMMENDATION\")\n",
    "    print(\"-\" * 20)\n",
    "    \n",
    "    winner_metrics = analysis_results[best_model]\n",
    "    loser_name = [k for k in analysis_results.keys() if k != best_model][0]\n",
    "    loser_metrics = analysis_results[loser_name]\n",
    "    \n",
    "    improvement = ((loser_metrics['composite_score'] - winner_metrics['composite_score']) / loser_metrics['composite_score']) * 100\n",
    "    \n",
    "    winner_display = \"Traditional\" if best_model == \"traditional\" else \"Time-Adjusted\"\n",
    "    \n",
    "    print(f\"🏆 RECOMMENDED MODEL: {winner_display} Wing Model\")\n",
    "    print(f\"💪 Performance advantage: {improvement:.1f}% better overall score\")\n",
    "    \n",
    "    # Provide context-specific guidance\n",
    "    if best_model == \"traditional\":\n",
    "        print(\"\\n💡 WHY TRADITIONAL WING MODEL:\")\n",
    "        print(\"   ✅ Lower fitting error on this dataset\")\n",
    "        print(\"   ✅ Well-established and widely used\")\n",
    "        print(\"   ✅ Good balance of accuracy and simplicity\")\n",
    "        print(\"   ⚖️ Consider for: Standard volatility surface fitting\")\n",
    "    else:\n",
    "        print(\"\\n💡 WHY TIME-ADJUSTED WING MODEL:\")\n",
    "        print(\"   ✅ Better captures time-dependent effects\")\n",
    "        print(\"   ✅ More sophisticated moneyness calculation\")\n",
    "        print(\"   ✅ Potentially better for short-dated options\")\n",
    "        print(\"   ⚖️ Consider for: Advanced risk management applications\")\n",
    "    \n",
    "    # Usage recommendations\n",
    "    print(f\"\\n📋 PRACTICAL GUIDANCE:\")\n",
    "    if winner_metrics['range_percentage'] > 70:\n",
    "        print(\"   ✅ High market consistency - safe for production use\")\n",
    "    elif winner_metrics['range_percentage'] > 50:\n",
    "        print(\"   ⚠️ Moderate market consistency - monitor closely\")\n",
    "    else:\n",
    "        print(\"   🚨 Low market consistency - review calibration parameters\")\n",
    "    \n",
    "    if winner_metrics['max_error'] < 0.05:\n",
    "        print(\"   ✅ Excellent stability - no outlier concerns\")\n",
    "    elif winner_metrics['max_error'] < 0.10:\n",
    "        print(\"   ⚠️ Good stability - acceptable for most use cases\")\n",
    "    else:\n",
    "        print(\"   🚨 High volatility deviations - investigate outlier strikes\")\n",
    "    \n",
    "    return best_model, analysis_results\n",
    "\n",
    "# Run the analysis\n",
    "if len([name for name, result in dual_model_results.items() if result.get('success', False)]) >= 2:\n",
    "    recommended_model, detailed_analysis = analyze_model_performance(dual_model_results, market_data)\n",
    "else:\n",
    "    print(\"⚠️ Need both models calibrated for comprehensive analysis\")"
   ]
  },
  {
   "cell_type": "code",
   "execution_count": 25,
   "id": "989a6eda",
   "metadata": {},
   "outputs": [
    {
     "name": "stdout",
     "output_type": "stream",
     "text": [
      "🎯 Testing unified interface for both wing models...\n",
      "\n",
      "📊 UNIFIED INTERFACE TEST\n",
      "==================================================\n",
      "\n",
      "🔸 Traditional Wing Model:\n",
      "   ✅ Has calculate_volatility_from_strike() method\n",
      "   📈 Sample volatilities:\n",
      "      Strike 95000: 98.97%\n",
      "      Strike 100000: 104.78%\n",
      "      Strike 105000: 110.84%\n",
      "   ✅ Also has calculate_volatility() method (moneyness-based)\n",
      "\n",
      "🔸 Time-Adjusted Wing Model:\n",
      "   ✅ Has calculate_volatility_from_strike() method\n",
      "   📈 Sample volatilities:\n",
      "      Strike 95000: 99.50%\n",
      "      Strike 100000: 105.43%\n",
      "      Strike 105000: 111.61%\n",
      "\n",
      "💡 BENEFITS OF UNIFIED INTERFACE:\n",
      "   🔹 Generic code can work with both models\n",
      "   🔹 Consistent strike-based volatility calculation\n",
      "   🔹 Easier to extend with new model types\n",
      "   🔹 Reduced code duplication in calibration\n",
      "\n",
      "🎯 GENERIC USAGE EXAMPLE:\n",
      "   # Generic function that works with any wing model\n",
      "   def calculate_portfolio_vols(model, strikes):\n",
      "       return [model.calculate_volatility_from_strike(s) for s in strikes]\n",
      "\n",
      "✅ Unified interface testing complete!\n"
     ]
    }
   ],
   "source": [
    "# 🔧 Testing Unified calculate_volatility_from_strike() Interface\n",
    "print(\"🎯 Testing unified interface for both wing models...\")\n",
    "\n",
    "# Test that both models now have the same interface\n",
    "if 'dual_model_results' in locals() and len(dual_model_results) > 0:\n",
    "    print(\"\\n📊 UNIFIED INTERFACE TEST\")\n",
    "    print(\"=\" * 50)\n",
    "    \n",
    "    # Test strikes\n",
    "    test_strikes = [95000, 100000, 105000]\n",
    "    \n",
    "    for model_type, result in dual_model_results.items():\n",
    "        if result.get('success', False):\n",
    "            model = result['model']\n",
    "            model_name = \"Traditional\" if model_type == \"traditional\" else \"Time-Adjusted\"\n",
    "            \n",
    "            print(f\"\\n🔸 {model_name} Wing Model:\")\n",
    "            \n",
    "            # Test that both models have calculate_volatility_from_strike()\n",
    "            if hasattr(model, 'calculate_volatility_from_strike'):\n",
    "                print(\"   ✅ Has calculate_volatility_from_strike() method\")\n",
    "                \n",
    "                print(\"   📈 Sample volatilities:\")\n",
    "                for strike in test_strikes:\n",
    "                    try:\n",
    "                        vol = model.calculate_volatility_from_strike(strike)\n",
    "                        print(f\"      Strike {strike}: {vol*100:.2f}%\")\n",
    "                    except Exception as e:\n",
    "                        print(f\"      Strike {strike}: Error - {e}\")\n",
    "            else:\n",
    "                print(\"   ❌ Missing calculate_volatility_from_strike() method\")\n",
    "                \n",
    "            # Test traditional interface for traditional model\n",
    "            if model_type == \"traditional\" and hasattr(model, 'calculate_volatility'):\n",
    "                print(\"   ✅ Also has calculate_volatility() method (moneyness-based)\")\n",
    "                \n",
    "    print(f\"\\n💡 BENEFITS OF UNIFIED INTERFACE:\")\n",
    "    print(\"   🔹 Generic code can work with both models\")\n",
    "    print(\"   🔹 Consistent strike-based volatility calculation\")\n",
    "    print(\"   🔹 Easier to extend with new model types\")\n",
    "    print(\"   🔹 Reduced code duplication in calibration\")\n",
    "    \n",
    "    # Show generic usage example\n",
    "    print(f\"\\n🎯 GENERIC USAGE EXAMPLE:\")\n",
    "    print(\"   # Generic function that works with any wing model\")\n",
    "    print(\"   def calculate_portfolio_vols(model, strikes):\")\n",
    "    print(\"       return [model.calculate_volatility_from_strike(s) for s in strikes]\")\n",
    "    \n",
    "else:\n",
    "    print(\"⚠️ No dual model results available. Run dual model calibration first.\")\n",
    "    \n",
    "print(\"\\n✅ Unified interface testing complete!\")"
   ]
  },
  {
   "cell_type": "code",
   "execution_count": 26,
   "id": "80b4703e",
   "metadata": {},
   "outputs": [
    {
     "name": "stdout",
     "output_type": "stream",
     "text": [
      "🎯 Creating improved generic calibrator using unified interface...\n",
      "✅ Improved calibrator created with unified interface\n",
      "🎯 Key improvements:\n",
      "   • Single code path for volatility calculation\n",
      "   • Both models use calculate_volatility_from_strike()\n",
      "   • No more model-specific branching for calculations\n",
      "   • Easier to add new wing model variants\n",
      "   • Cleaner, more maintainable code\n"
     ]
    }
   ],
   "source": [
    "# 🚀 Enhanced Generic Calibrator with Unified Interface\n",
    "print(\"🎯 Creating improved generic calibrator using unified interface...\")\n",
    "\n",
    "class ImprovedGenericVolatilityModelCalibrator:\n",
    "    \"\"\"\n",
    "    Enhanced generic calibrator using unified calculate_volatility_from_strike() interface\n",
    "    This eliminates the need for different calculation paths for different models\n",
    "    \"\"\"\n",
    "    \n",
    "    def __init__(self, model_type, market_data, loss_config=None):\n",
    "        self.model_type = model_type\n",
    "        self.market_data = market_data\n",
    "        self.loss_config = loss_config or {}\n",
    "        \n",
    "        # Extract data\n",
    "        self.strikes = np.array(market_data['strikes'])\n",
    "        self.market_vols = np.array(market_data['market_vols'])\n",
    "        self.vegas = np.array(market_data['vegas'])\n",
    "        self.forward = market_data['forward']\n",
    "        self.tau = market_data['time_to_expiry']\n",
    "        \n",
    "        # Configure weights and loss function\n",
    "        self._setup_weights()\n",
    "        self._setup_loss_metrics()\n",
    "    \n",
    "    def _setup_weights(self):\n",
    "        \"\"\"Setup weighting scheme for loss function\"\"\"\n",
    "        weight_type = self.loss_config.get('weight_type', 'vega')\n",
    "        \n",
    "        if weight_type == 'vega':\n",
    "            raw_weights = self.vegas / self.vegas.max()\n",
    "        elif weight_type == 'uniform':\n",
    "            raw_weights = np.ones_like(self.vegas)\n",
    "        elif weight_type == 'inverse_vol':\n",
    "            raw_weights = 1.0 / (self.market_vols + 0.01)\n",
    "        elif weight_type == 'atm_focused':\n",
    "            atm_distance = np.abs(np.log(self.strikes / self.forward))\n",
    "            raw_weights = np.exp(-2 * atm_distance)\n",
    "        else:\n",
    "            raw_weights = np.ones_like(self.vegas)\n",
    "        \n",
    "        self.weights = raw_weights / np.max(raw_weights) if np.max(raw_weights) > 0 else np.ones_like(raw_weights)\n",
    "    \n",
    "    def _setup_loss_metrics(self):\n",
    "        \"\"\"Setup loss function metric\"\"\"\n",
    "        self.loss_metric = self.loss_config.get('metric', 'rmse')\n",
    "        self.vol_bounds = self.loss_config.get('vol_bounds', (0.001, 5.0))\n",
    "        self.penalty_factor = self.loss_config.get('penalty_factor', 1e10)\n",
    "    \n",
    "    def _create_model_and_calculate_vols(self, params):\n",
    "        \"\"\"\n",
    "        🎯 UNIFIED model creation and volatility calculation\n",
    "        Now both models use the same calculate_volatility_from_strike() interface!\n",
    "        \"\"\"\n",
    "        try:\n",
    "            if self.model_type == \"time_adjusted\":\n",
    "                if len(params) != 8:\n",
    "                    return None\n",
    "                \n",
    "                ta_params = TimeAdjustedWingModelParameters(\n",
    "                    atm_vol=params[0], slope=params[1], call_curve=params[2], put_curve=params[3], \n",
    "                    up_cutoff=params[4], down_cutoff=params[5], up_smoothing=params[6], down_smoothing=params[7], \n",
    "                    forward_price=self.forward, time_to_expiry=self.tau\n",
    "                )\n",
    "                model = TimeAdjustedWingModel(ta_params)\n",
    "                \n",
    "            elif self.model_type == \"traditional\":\n",
    "                if len(params) != 8:\n",
    "                    return None\n",
    "                \n",
    "                wing_params = WingModelParameters(\n",
    "                    vr=params[0], sr=params[1], pc=params[2], cc=params[3],\n",
    "                    dc=params[4], uc=params[5], dsm=params[6], usm=params[7],\n",
    "                    vcr=0.0, scr=0.0, ssr=0.0, atm=self.forward, ref=self.forward\n",
    "                )\n",
    "                model = WingModel(wing_params)\n",
    "            else:\n",
    "                return None\n",
    "            \n",
    "            # 🚀 UNIFIED CALCULATION: Both models now use the same interface!\n",
    "            fitted_vols = np.array([model.calculate_volatility_from_strike(s) for s in self.strikes])\n",
    "            \n",
    "            # Validate volatilities\n",
    "            vol_min, vol_max = self.vol_bounds\n",
    "            if (np.any(fitted_vols <= vol_min) or np.any(fitted_vols >= vol_max) or \n",
    "                np.any(np.isnan(fitted_vols)) or np.any(np.isinf(fitted_vols))):\n",
    "                return None\n",
    "            \n",
    "            return fitted_vols\n",
    "            \n",
    "        except Exception as e:\n",
    "            return None\n",
    "    \n",
    "    def _calculate_loss(self, fitted_vols, market_vols, weights):\n",
    "        \"\"\"Calculate loss metric with configurable weighting\"\"\"\n",
    "        errors = fitted_vols - market_vols\n",
    "        weighted_errors = errors * weights\n",
    "        \n",
    "        if self.loss_metric == 'rmse':\n",
    "            return np.sqrt(np.mean(weighted_errors ** 2))\n",
    "        elif self.loss_metric == 'mae':\n",
    "            return np.mean(np.abs(weighted_errors))\n",
    "        elif self.loss_metric == 'mape':\n",
    "            percentage_errors = np.abs(errors / market_vols) * weights\n",
    "            return np.mean(percentage_errors) * 100\n",
    "        elif self.loss_metric == 'huber':\n",
    "            delta = 0.1\n",
    "            abs_errors = np.abs(weighted_errors)\n",
    "            is_small_error = abs_errors <= delta\n",
    "            squared_loss = 0.5 * (weighted_errors ** 2)\n",
    "            linear_loss = delta * abs_errors - 0.5 * (delta ** 2)\n",
    "            return np.mean(np.where(is_small_error, squared_loss, linear_loss))\n",
    "        else:\n",
    "            return np.sqrt(np.mean(weighted_errors ** 2))\n",
    "    \n",
    "    def create_loss_function(self):\n",
    "        \"\"\"Create the loss function for scipy.optimize\"\"\"\n",
    "        def generic_loss(params):\n",
    "            fitted_vols = self._create_model_and_calculate_vols(params)\n",
    "            if fitted_vols is None:\n",
    "                return self.penalty_factor\n",
    "            return self._calculate_loss(fitted_vols, self.market_vols, self.weights)\n",
    "        return generic_loss\n",
    "\n",
    "# Test the improved calibrator\n",
    "print(\"✅ Improved calibrator created with unified interface\")\n",
    "print(\"🎯 Key improvements:\")\n",
    "print(\"   • Single code path for volatility calculation\")\n",
    "print(\"   • Both models use calculate_volatility_from_strike()\")\n",
    "print(\"   • No more model-specific branching for calculations\")\n",
    "print(\"   • Easier to add new wing model variants\")\n",
    "print(\"   • Cleaner, more maintainable code\")"
   ]
  },
  {
   "cell_type": "code",
   "execution_count": 27,
   "id": "59d48013",
   "metadata": {},
   "outputs": [
    {
     "name": "stdout",
     "output_type": "stream",
     "text": [
      "🧪 Testing Unified Interface Implementation\n",
      "==================================================\n",
      "\n",
      "📊 Traditional Wing Model Interface Testing:\n",
      "Forward Price (ATM): 63801.13\n",
      "Strike  95000: 0.989737 vs 0.989737 ✅ MATCH\n",
      "Strike 100000: 1.047840 vs 1.047840 ✅ MATCH\n",
      "Strike 105000: 1.108405 vs 1.108405 ✅ MATCH\n",
      "\n",
      "🎯 Unified Interface Benefits:\n",
      "✅ Both Traditional and Time-Adjusted models now support calculate_volatility_from_strike()\n",
      "✅ Eliminates need for model-specific branching in calibration code\n",
      "✅ Enables generic algorithms that work with both model types\n",
      "✅ Full backward compatibility maintained\n"
     ]
    }
   ],
   "source": [
    "# Test unified interface for Traditional Wing Model\n",
    "print(\"🧪 Testing Unified Interface Implementation\")\n",
    "print(\"=\" * 50)\n",
    "\n",
    "# Test strikes\n",
    "test_strikes = [95000, 100000, 105000]\n",
    "\n",
    "print(\"\\n📊 Traditional Wing Model Interface Testing:\")\n",
    "print(f\"Forward Price (ATM): {traditional_wing_params.atm}\")\n",
    "\n",
    "for strike in test_strikes:\n",
    "    # Method 1: New unified interface\n",
    "    vol_from_strike = traditional_model.calculate_volatility_from_strike(strike)\n",
    "    \n",
    "    # Method 2: Original interface (for comparison)\n",
    "    log_moneyness = np.log(strike / traditional_wing_params.atm)\n",
    "    vol_from_moneyness = traditional_model.calculate_volatility(log_moneyness)\n",
    "    \n",
    "    # Check if they match\n",
    "    match_status = \"✅ MATCH\" if abs(vol_from_strike - vol_from_moneyness) < 1e-10 else \"❌ MISMATCH\"\n",
    "    \n",
    "    print(f\"Strike {strike:>6}: {vol_from_strike:.6f} vs {vol_from_moneyness:.6f} {match_status}\")\n",
    "\n",
    "print(\"\\n🎯 Unified Interface Benefits:\")\n",
    "print(\"✅ Both Traditional and Time-Adjusted models now support calculate_volatility_from_strike()\")\n",
    "print(\"✅ Eliminates need for model-specific branching in calibration code\")\n",
    "print(\"✅ Enables generic algorithms that work with both model types\")\n",
    "print(\"✅ Full backward compatibility maintained\")"
   ]
  },
  {
   "cell_type": "code",
   "execution_count": 28,
   "id": "5a2bdef9",
   "metadata": {},
   "outputs": [
    {
     "name": "stdout",
     "output_type": "stream",
     "text": [
      "🎯 Unified Interface Demonstration\n",
      "========================================\n",
      "\n",
      "📈 Traditional Wing Model Volatilities (Unified Interface):\n",
      "  Strike  95000: 0.9897\n",
      "  Strike 100000: 1.0478\n",
      "  Strike 105000: 1.1084\n",
      "  Strike 110000: 1.1710\n",
      "\n",
      "📈 Time-Adjusted Wing Model Volatilities (Unified Interface):\n",
      "  Strike  95000: 0.9950\n",
      "  Strike 100000: 1.0543\n",
      "  Strike 105000: 1.1161\n",
      "  Strike 110000: 1.1795\n",
      "\n",
      "✨ Code Simplification Achieved:\n",
      "✅ Single function works with both model types\n",
      "✅ No more model-specific if/else branching\n",
      "✅ Cleaner, more maintainable code\n"
     ]
    }
   ],
   "source": [
    "# Demonstrate the unified interface in action\n",
    "print(\"🎯 Unified Interface Demonstration\")\n",
    "print(\"=\" * 40)\n",
    "\n",
    "def calculate_model_volatilities_unified(model, strikes, model_name):\n",
    "    \"\"\"Generic function that works with both wing model types using unified interface\"\"\"\n",
    "    print(f\"\\n📈 {model_name} Volatilities (Unified Interface):\")\n",
    "    vols = []\n",
    "    for strike in strikes:\n",
    "        vol = model.calculate_volatility_from_strike(strike)\n",
    "        vols.append(vol)\n",
    "        print(f\"  Strike {strike:>6}: {vol:.4f}\")\n",
    "    return vols\n",
    "\n",
    "# Test with both model types using the same function\n",
    "test_strikes = [95000, 100000, 105000, 110000]\n",
    "\n",
    "# Traditional Wing Model\n",
    "trad_vols = calculate_model_volatilities_unified(traditional_model, test_strikes, \"Traditional Wing Model\")\n",
    "\n",
    "# Time-Adjusted Wing Model  \n",
    "time_adj_vols = calculate_model_volatilities_unified(time_adj_model, test_strikes, \"Time-Adjusted Wing Model\")\n",
    "\n",
    "print(f\"\\n✨ Code Simplification Achieved:\")\n",
    "print(\"✅ Single function works with both model types\")\n",
    "print(\"✅ No more model-specific if/else branching\")\n",
    "print(\"✅ Cleaner, more maintainable code\")"
   ]
  },
  {
   "cell_type": "code",
   "execution_count": 29,
   "id": "8236f574",
   "metadata": {},
   "outputs": [
    {
     "name": "stdout",
     "output_type": "stream",
     "text": [
      "🔄 Reloaded WingModel with unified interface\n",
      "✅ Traditional Wing Model recreated with unified interface\n"
     ]
    }
   ],
   "source": [
    "# Reload the wing model module to pick up the unified interface changes\n",
    "import importlib\n",
    "import utils.volatility_fitter.wing_model.wing_model\n",
    "importlib.reload(utils.volatility_fitter.wing_model.wing_model)\n",
    "from utils.volatility_fitter.wing_model.wing_model import WingModel\n",
    "\n",
    "print(\"🔄 Reloaded WingModel with unified interface\")\n",
    "\n",
    "# Recreate traditional model with updated class\n",
    "traditional_model = WingModel(traditional_wing_params)\n",
    "print(\"✅ Traditional Wing Model recreated with unified interface\")"
   ]
  },
  {
   "cell_type": "code",
   "execution_count": 30,
   "id": "0d2328db",
   "metadata": {},
   "outputs": [
    {
     "name": "stdout",
     "output_type": "stream",
     "text": [
      "🔄 Reloaded wing models with new range functions\n",
      "✅ Models recreated with range functionality\n"
     ]
    }
   ],
   "source": [
    "# Reload modules to pick up the new range functions\n",
    "import importlib\n",
    "import utils.volatility_fitter.wing_model.wing_model\n",
    "import utils.volatility_fitter.time_adjusted_wing_model.time_adjusted_wing_model\n",
    "\n",
    "importlib.reload(utils.volatility_fitter.wing_model.wing_model)\n",
    "importlib.reload(utils.volatility_fitter.time_adjusted_wing_model.time_adjusted_wing_model)\n",
    "\n",
    "from utils.volatility_fitter.wing_model.wing_model import WingModel\n",
    "from utils.volatility_fitter.time_adjusted_wing_model.time_adjusted_wing_model import TimeAdjustedWingModel\n",
    "\n",
    "print(\"🔄 Reloaded wing models with new range functions\")\n",
    "\n",
    "# Recreate models with updated classes\n",
    "traditional_model = WingModel(traditional_wing_params)\n",
    "time_adj_model = TimeAdjustedWingModel(time_adj_wing_params)\n",
    "\n",
    "print(\"✅ Models recreated with range functionality\")"
   ]
  },
  {
   "cell_type": "code",
   "execution_count": 31,
   "id": "530fb1d4",
   "metadata": {},
   "outputs": [
    {
     "name": "stdout",
     "output_type": "stream",
     "text": [
      "🎯 Wing Model Range Analysis\n",
      "==================================================\n",
      "\n",
      "📊 Traditional Wing Model\n",
      "------------------------\n",
      "\n",
      "🔢 Moneyness Ranges:\n",
      "       far_left_tail: [      -∞,  -5.5500]\n",
      "      left_smoothing: [ -5.5500,  -3.7000]\n",
      "           left_wing: [ -3.7000,   0.0000]\n",
      "          right_wing: [  0.0000,   1.8000]\n",
      "     right_smoothing: [  1.8000,   2.7549]\n",
      "      far_right_tail: [  2.7549,       +∞]\n",
      "          full_range: [ -5.5500,   2.7549]\n",
      "\n",
      "💰 Strike Ranges:\n",
      "       far_left_tail: [       0,      248]\n",
      "      left_smoothing: [     248,    1,577]\n",
      "           left_wing: [   1,577,   63,801]\n",
      "          right_wing: [  63,801,  385,964]\n",
      "     right_smoothing: [ 385,964, 1,002,925]\n",
      "      far_right_tail: [1,002,925,       +∞]\n",
      "          full_range: [     248, 1,002,925]\n",
      "\n",
      "📊 Time-Adjusted Wing Model\n",
      "--------------------------\n",
      "\n",
      "🔢 Moneyness Ranges:\n",
      "        far_otm_puts: [      -∞, -16.0000]\n",
      "  downside_smoothing: [-16.0000,  -1.0000]\n",
      "    central_downside: [ -1.0000,   0.0000]\n",
      "      central_upside: [  0.0000,   1.0000]\n",
      "    upside_smoothing: [  1.0000,   6.0000]\n",
      "       far_otm_calls: [  6.0000,       +∞]\n",
      "          full_range: [-16.0000,   6.0000]\n",
      "\n",
      "💰 Strike Ranges:\n",
      "        far_otm_puts: [       0,       16]\n",
      "  downside_smoothing: [      16,   38,437]\n",
      "    central_downside: [  38,437,   64,500]\n",
      "      central_upside: [  64,500,  108,238]\n",
      "    upside_smoothing: [ 108,238, 1,440,318]\n",
      "       far_otm_calls: [1,440,318,       +∞]\n",
      "          full_range: [      16, 1,440,318]\n",
      "\n",
      "✨ Key Insights:\n",
      "✅ Both models now expose their internal range structures\n",
      "✅ Moneyness ranges show the mathematical boundaries\n",
      "✅ Strike ranges provide practical trading boundaries\n",
      "✅ Different models have different regional definitions\n"
     ]
    }
   ],
   "source": [
    "# Test the new moneyness and strike range functions\n",
    "print(\"🎯 Wing Model Range Analysis\")\n",
    "print(\"=\" * 50)\n",
    "\n",
    "def display_ranges(model, model_name):\n",
    "    \"\"\"Display moneyness and strike ranges for a wing model\"\"\"\n",
    "    print(f\"\\n📊 {model_name}\")\n",
    "    print(\"-\" * len(model_name) + \"--\")\n",
    "    \n",
    "    # Get moneyness ranges\n",
    "    moneyness_ranges = model.get_moneyness_ranges()\n",
    "    print(\"\\n🔢 Moneyness Ranges:\")\n",
    "    for region, bounds in moneyness_ranges.items():\n",
    "        min_val = f\"{bounds['min']:.4f}\" if bounds['min'] != float('-inf') else \"-∞\"\n",
    "        max_val = f\"{bounds['max']:.4f}\" if bounds['max'] != float('inf') else \"+∞\"\n",
    "        print(f\"  {region:>18}: [{min_val:>8}, {max_val:>8}]\")\n",
    "    \n",
    "    # Get strike ranges\n",
    "    strike_ranges = model.get_strike_ranges()\n",
    "    print(\"\\n💰 Strike Ranges:\")\n",
    "    for region, bounds in strike_ranges.items():\n",
    "        min_val = f\"{bounds['min']:>8,.0f}\" if bounds['min'] != float('-inf') else \"      -∞\"\n",
    "        max_val = f\"{bounds['max']:>8,.0f}\" if bounds['max'] != float('inf') else \"      +∞\"\n",
    "        print(f\"  {region:>18}: [{min_val}, {max_val}]\")\n",
    "    \n",
    "    return moneyness_ranges, strike_ranges\n",
    "\n",
    "# Test both models\n",
    "trad_money_ranges, trad_strike_ranges = display_ranges(traditional_model, \"Traditional Wing Model\")\n",
    "time_money_ranges, time_strike_ranges = display_ranges(time_adj_model, \"Time-Adjusted Wing Model\")\n",
    "\n",
    "print(f\"\\n✨ Key Insights:\")\n",
    "print(\"✅ Both models now expose their internal range structures\")\n",
    "print(\"✅ Moneyness ranges show the mathematical boundaries\")\n",
    "print(\"✅ Strike ranges provide practical trading boundaries\")\n",
    "print(\"✅ Different models have different regional definitions\")"
   ]
  },
  {
   "cell_type": "code",
   "execution_count": 32,
   "id": "3894ee17",
   "metadata": {},
   "outputs": [
    {
     "name": "stdout",
     "output_type": "stream",
     "text": [
      "🔧 Practical Applications of Range Functions\n",
      "=============================================\n",
      "Market strikes: [42000, 44000, 45000, 46000, 47000, 48000, 49000, 50000, 51000, 52000, 53000, 54000, 55000, 56000, 57000, 58000, 59000, 60000, 61000, 62000, 63000, 64000, 65000, 66000, 67000, 68000, 70000, 72000, 74000, 76000]\n",
      "\n",
      "📈 Traditional Wing - Strike Region Analysis\n",
      "-----------------------------------------\n",
      "📍 Market Strike Distribution by Region:\n",
      "           left_wing: 21 strikes - [42000, 44000, 45000, 46000, 47000, 48000, 49000, 50000, 51000, 52000, 53000, 54000, 55000, 56000, 57000, 58000, 59000, 60000, 61000, 62000, 63000]\n",
      "          right_wing:  9 strikes - [64000, 65000, 66000, 67000, 68000, 70000, 72000, 74000, 76000]\n",
      "\n",
      "📊 Suggested Visualization Range:\n",
      "  Core Range: [     248, 1,002,925]\n",
      "  Extended  : [       0, 1,203,460]\n",
      "\n",
      "📈 Time-Adjusted Wing - Strike Region Analysis\n",
      "-------------------------------------------\n",
      "📍 Market Strike Distribution by Region:\n",
      "    central_downside: 22 strikes - [42000, 44000, 45000, 46000, 47000, 48000, 49000, 50000, 51000, 52000, 53000, 54000, 55000, 56000, 57000, 58000, 59000, 60000, 61000, 62000, 63000, 64000]\n",
      "      central_upside:  8 strikes - [65000, 66000, 67000, 68000, 70000, 72000, 74000, 76000]\n",
      "\n",
      "📊 Suggested Visualization Range:\n",
      "  Core Range: [      16, 1,440,318]\n",
      "  Extended  : [       0, 1,728,378]\n",
      "\n",
      "🎯 Range Function Benefits:\n",
      "✅ Automatic identification of model boundaries\n",
      "✅ Optimal strike range selection for visualization\n",
      "✅ Market data coverage analysis\n",
      "✅ Region-specific strike distribution analysis\n"
     ]
    }
   ],
   "source": [
    "# Demonstrate practical usage of range functions for analysis\n",
    "print(\"🔧 Practical Applications of Range Functions\")\n",
    "print(\"=\" * 45)\n",
    "\n",
    "def analyze_strike_coverage(model, model_name, market_strikes):\n",
    "    \"\"\"Analyze which market strikes fall into which model regions\"\"\"\n",
    "    print(f\"\\n📈 {model_name} - Strike Region Analysis\")\n",
    "    print(\"-\" * (len(model_name) + 25))\n",
    "    \n",
    "    strike_ranges = model.get_strike_ranges()\n",
    "    \n",
    "    # Analyze market strike coverage\n",
    "    region_coverage = {}\n",
    "    for strike in market_strikes:\n",
    "        for region, bounds in strike_ranges.items():\n",
    "            if region == 'full_range':  # Skip the summary range\n",
    "                continue\n",
    "            if bounds['min'] <= strike <= bounds['max']:\n",
    "                if region not in region_coverage:\n",
    "                    region_coverage[region] = []\n",
    "                region_coverage[region].append(strike)\n",
    "                break\n",
    "    \n",
    "    print(\"📍 Market Strike Distribution by Region:\")\n",
    "    for region, strikes in region_coverage.items():\n",
    "        print(f\"  {region:>18}: {len(strikes):>2} strikes - {strikes}\")\n",
    "    \n",
    "    # Find optimal range for extended visualization\n",
    "    full_range = strike_ranges['full_range']\n",
    "    margin = 0.2  # 20% margin\n",
    "    range_width = full_range['max'] - full_range['min']\n",
    "    extended_min = max(0, full_range['min'] - margin * range_width)\n",
    "    extended_max = full_range['max'] + margin * range_width\n",
    "    \n",
    "    print(f\"\\n📊 Suggested Visualization Range:\")\n",
    "    print(f\"  Core Range: [{full_range['min']:>8,.0f}, {full_range['max']:>8,.0f}]\")\n",
    "    print(f\"  Extended  : [{extended_min:>8,.0f}, {extended_max:>8,.0f}]\")\n",
    "    \n",
    "    return extended_min, extended_max\n",
    "\n",
    "# Use actual market strikes from our data\n",
    "market_strikes = sorted(strikes_list)\n",
    "print(f\"Market strikes: {market_strikes}\")\n",
    "\n",
    "# Analyze both models\n",
    "trad_ext_min, trad_ext_max = analyze_strike_coverage(traditional_model, \"Traditional Wing\", market_strikes)\n",
    "time_ext_min, time_ext_max = analyze_strike_coverage(time_adj_model, \"Time-Adjusted Wing\", market_strikes)\n",
    "\n",
    "print(f\"\\n🎯 Range Function Benefits:\")\n",
    "print(\"✅ Automatic identification of model boundaries\")\n",
    "print(\"✅ Optimal strike range selection for visualization\")\n",
    "print(\"✅ Market data coverage analysis\")\n",
    "print(\"✅ Region-specific strike distribution analysis\")"
   ]
  }
 ],
 "metadata": {
  "kernelspec": {
   "display_name": ".venv",
   "language": "python",
   "name": "python3"
  },
  "language_info": {
   "codemirror_mode": {
    "name": "ipython",
    "version": 3
   },
   "file_extension": ".py",
   "mimetype": "text/x-python",
   "name": "python",
   "nbconvert_exporter": "python",
   "pygments_lexer": "ipython3",
   "version": "3.12.3"
  }
 },
 "nbformat": 4,
 "nbformat_minor": 5
}
