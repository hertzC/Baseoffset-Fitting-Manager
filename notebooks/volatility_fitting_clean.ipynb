{
 "cells": [
  {
   "cell_type": "markdown",
   "id": "a647b5b5",
   "metadata": {},
   "source": [
    "# Bitcoin Options Volatility Surface Fitting\n",
    "\n",
    "This notebook demonstrates the volatility surface fitting process using both Traditional Wing Model and Time-Adjusted Wing Model.\n",
    "\n",
    "## Overview\n",
    "- **Traditional Wing Model**: Standard parameterized volatility surface\n",
    "- **Time-Adjusted Wing Model**: Enhanced model with time-dependent adjustments\n",
    "- **Model Comparison**: Side-by-side analysis of fitting performance\n",
    "\n",
    "## Key Features\n",
    "- Automated model selection based on RMSE\n",
    "- Interactive volatility surface visualization\n",
    "- Greeks calculation (Delta, Gamma, Vega)\n",
    "- Range analysis for moneyness and strike boundaries"
   ]
  },
  {
   "cell_type": "markdown",
   "id": "42f5acb6",
   "metadata": {},
   "source": [
    "## 1. Setup and Configuration"
   ]
  },
  {
   "cell_type": "code",
   "execution_count": 1,
   "id": "9dd5029e",
   "metadata": {},
   "outputs": [
    {
     "name": "stdout",
     "output_type": "stream",
     "text": [
      "📁 Current directory: /home/user/Python/Baseoffset-Fitting-Manager/notebooks\n",
      "📁 Project root: /home/user/Python/Baseoffset-Fitting-Manager\n",
      "✅ Environment setup complete\n"
     ]
    }
   ],
   "source": [
    "# Import required libraries\n",
    "import sys\n",
    "import os\n",
    "import numpy as np\n",
    "import polars as pl\n",
    "import plotly.graph_objects as go\n",
    "from plotly.subplots import make_subplots\n",
    "from datetime import datetime\n",
    "import warnings\n",
    "warnings.filterwarnings('ignore')\n",
    "\n",
    "# Project setup\n",
    "current_dir = os.getcwd()\n",
    "project_root = os.path.dirname(current_dir)\n",
    "sys.path.append(project_root)\n",
    "\n",
    "print(f\"📁 Current directory: {current_dir}\")\n",
    "print(f\"📁 Project root: {project_root}\")\n",
    "print(\"✅ Environment setup complete\")"
   ]
  },
  {
   "cell_type": "code",
   "execution_count": 2,
   "id": "6ea126e0",
   "metadata": {},
   "outputs": [
    {
     "name": "stdout",
     "output_type": "stream",
     "text": [
      "✅ All modules imported successfully\n"
     ]
    }
   ],
   "source": [
    "# Import project modules\n",
    "from utils.market_data.orderbook_deribit_md_manager import OrderbookDeribitMDManager\n",
    "from utils.volatility_fitter.wing_model.wing_model import WingModel\n",
    "from utils.volatility_fitter.time_adjusted_wing_model.time_adjusted_wing_model import TimeAdjustedWingModel\n",
    "\n",
    "print(\"✅ All modules imported successfully\")"
   ]
  },
  {
   "cell_type": "code",
   "execution_count": 3,
   "id": "8ab29eca",
   "metadata": {},
   "outputs": [
    {
     "name": "stdout",
     "output_type": "stream",
     "text": [
      "📋 Configuration created:\n",
      "  - Expiry: 8MAR24\n",
      "  - Date: 20240229\n",
      "  - Snapshot time: 2024-02-29T20:12:00\n"
     ]
    }
   ],
   "source": [
    "# Create configuration dictionary\n",
    "config = {\n",
    "    'date': '20240229',\n",
    "    'option_expiry': '8MAR24',#'15MAR24',\n",
    "    'snapshot_time': '2024-02-29T20:12:00',\n",
    "    'snapshot_tolerance_seconds': 30    \n",
    "}\n",
    "\n",
    "print(\"📋 Configuration created:\")\n",
    "print(f\"  - Expiry: {config['option_expiry']}\")\n",
    "print(f\"  - Date: {config['date']}\")\n",
    "print(f\"  - Snapshot time: {config['snapshot_time']}\")"
   ]
  },
  {
   "cell_type": "markdown",
   "id": "aa5d9ee6",
   "metadata": {},
   "source": [
    "## 2. Data Loading and Preparation"
   ]
  },
  {
   "cell_type": "code",
   "execution_count": 4,
   "id": "f05294a8",
   "metadata": {},
   "outputs": [
    {
     "name": "stdout",
     "output_type": "stream",
     "text": [
      "Available expiries: ['8MAR24', '22MAR24', '15MAR24', '29MAR24', '31MAY24', '27SEP24', '1MAR24', '28JUN24', '29FEB24', '27DEC24', '26APR24', '3MAR24', '2MAR24']\n",
      "📊 Loaded 41 option contracts\n",
      "📅 Expiry: 8MAR24 Time: 2024-02-29 20:12:00\n"
     ]
    },
    {
     "data": {
      "text/html": [
       "<div><style>\n",
       ".dataframe > thead > tr,\n",
       ".dataframe > tbody > tr {\n",
       "  text-align: right;\n",
       "  white-space: pre-wrap;\n",
       "}\n",
       "</style>\n",
       "<small>shape: (5, 16)</small><table border=\"1\" class=\"dataframe\"><thead><tr><th>timestamp</th><th>bid_price</th><th>ask_price</th><th>strike</th><th>bid_size</th><th>ask_size</th><th>bid_price_P</th><th>ask_price_P</th><th>S</th><th>bid_price_fut</th><th>ask_price_fut</th><th>expiry</th><th>tau</th><th>bid_size_P</th><th>ask_size_P</th><th>future_basis</th></tr><tr><td>datetime[ns]</td><td>f64</td><td>f64</td><td>i64</td><td>f64</td><td>f64</td><td>f64</td><td>f64</td><td>f64</td><td>f64</td><td>f64</td><td>str</td><td>f64</td><td>f64</td><td>f64</td><td>f64</td></tr></thead><tbody><tr><td>2024-02-29 20:12:00</td><td>0.312</td><td>0.3385</td><td>42000</td><td>6.4</td><td>5.0</td><td>0.0003</td><td>0.0005</td><td>61924.86</td><td>62229.04</td><td>62229.04</td><td>&quot;8MAR24&quot;</td><td>0.020525</td><td>7.5</td><td>7.9</td><td>304.18</td></tr><tr><td>2024-02-29 20:12:00</td><td>0.2805</td><td>0.307</td><td>44000</td><td>5.0</td><td>5.0</td><td>0.0005</td><td>0.0007</td><td>61924.86</td><td>62229.04</td><td>62229.04</td><td>&quot;8MAR24&quot;</td><td>0.020525</td><td>0.2</td><td>18.2</td><td>304.18</td></tr><tr><td>2024-02-29 20:12:00</td><td>0.2645</td><td>0.291</td><td>45000</td><td>5.0</td><td>5.0</td><td>0.0005</td><td>0.0008</td><td>61924.86</td><td>62229.04</td><td>62229.04</td><td>&quot;8MAR24&quot;</td><td>0.020525</td><td>3.4</td><td>17.4</td><td>304.18</td></tr><tr><td>2024-02-29 20:12:00</td><td>0.2485</td><td>0.2635</td><td>46000</td><td>5.0</td><td>6.3</td><td>0.0006</td><td>0.0009</td><td>61924.86</td><td>62229.04</td><td>62229.04</td><td>&quot;8MAR24&quot;</td><td>0.020525</td><td>3.1</td><td>8.3</td><td>304.18</td></tr><tr><td>2024-02-29 20:12:00</td><td>0.2335</td><td>0.2585</td><td>47000</td><td>5.0</td><td>5.0</td><td>0.0008</td><td>0.0011</td><td>61924.86</td><td>62229.04</td><td>62229.04</td><td>&quot;8MAR24&quot;</td><td>0.020525</td><td>4.0</td><td>12.2</td><td>304.18</td></tr></tbody></table></div>"
      ],
      "text/plain": [
       "shape: (5, 16)\n",
       "┌────────────┬───────────┬───────────┬────────┬───┬──────────┬────────────┬────────────┬───────────┐\n",
       "│ timestamp  ┆ bid_price ┆ ask_price ┆ strike ┆ … ┆ tau      ┆ bid_size_P ┆ ask_size_P ┆ future_ba │\n",
       "│ ---        ┆ ---       ┆ ---       ┆ ---    ┆   ┆ ---      ┆ ---        ┆ ---        ┆ sis       │\n",
       "│ datetime[n ┆ f64       ┆ f64       ┆ i64    ┆   ┆ f64      ┆ f64        ┆ f64        ┆ ---       │\n",
       "│ s]         ┆           ┆           ┆        ┆   ┆          ┆            ┆            ┆ f64       │\n",
       "╞════════════╪═══════════╪═══════════╪════════╪═══╪══════════╪════════════╪════════════╪═══════════╡\n",
       "│ 2024-02-29 ┆ 0.312     ┆ 0.3385    ┆ 42000  ┆ … ┆ 0.020525 ┆ 7.5        ┆ 7.9        ┆ 304.18    │\n",
       "│ 20:12:00   ┆           ┆           ┆        ┆   ┆          ┆            ┆            ┆           │\n",
       "│ 2024-02-29 ┆ 0.2805    ┆ 0.307     ┆ 44000  ┆ … ┆ 0.020525 ┆ 0.2        ┆ 18.2       ┆ 304.18    │\n",
       "│ 20:12:00   ┆           ┆           ┆        ┆   ┆          ┆            ┆            ┆           │\n",
       "│ 2024-02-29 ┆ 0.2645    ┆ 0.291     ┆ 45000  ┆ … ┆ 0.020525 ┆ 3.4        ┆ 17.4       ┆ 304.18    │\n",
       "│ 20:12:00   ┆           ┆           ┆        ┆   ┆          ┆            ┆            ┆           │\n",
       "│ 2024-02-29 ┆ 0.2485    ┆ 0.2635    ┆ 46000  ┆ … ┆ 0.020525 ┆ 3.1        ┆ 8.3        ┆ 304.18    │\n",
       "│ 20:12:00   ┆           ┆           ┆        ┆   ┆          ┆            ┆            ┆           │\n",
       "│ 2024-02-29 ┆ 0.2335    ┆ 0.2585    ┆ 47000  ┆ … ┆ 0.020525 ┆ 4.0        ┆ 12.2       ┆ 304.18    │\n",
       "│ 20:12:00   ┆           ┆           ┆        ┆   ┆          ┆            ┆            ┆           │\n",
       "└────────────┴───────────┴───────────┴────────┴───┴──────────┴────────────┴────────────┴───────────┘"
      ]
     },
     "execution_count": 4,
     "metadata": {},
     "output_type": "execute_result"
    }
   ],
   "source": [
    "# Load market data\n",
    "from utils.volatility_fitter.processed_data_loader import create_snapshot_option_chain, load_baseoffset_results, load_option_market_data\n",
    "from utils.volatility_fitter.volatility_calculator import get_option_chains\n",
    "\n",
    "date_str = config['date']\n",
    "snapshot_time = datetime.strptime(config['snapshot_time'], \"%Y-%m-%dT%H:%M:%S\")\n",
    "df_baseoffset = load_baseoffset_results(date_str)\n",
    "df_option_md = load_option_market_data(date_str)\n",
    "\n",
    "df_snapshot_md = create_snapshot_option_chain(df_option_md, df_baseoffset, snapshot_time)\n",
    "my_expiry = config['option_expiry']\n",
    "\n",
    "df_option_chain = get_option_chains(df_snapshot_md, my_expiry, snapshot_time)\n",
    "\n",
    "print(f\"📊 Loaded {len(df_option_chain)} option contracts\")\n",
    "print(f\"📅 Expiry: {my_expiry} Time: {snapshot_time}\")\n",
    "df_option_chain.head()"
   ]
  },
  {
   "cell_type": "code",
   "execution_count": 5,
   "id": "bf89f5a8",
   "metadata": {},
   "outputs": [
    {
     "name": "stdout",
     "output_type": "stream",
     "text": [
      "Comparison of old bid/ask proces and the tightened bid/ask price\n"
     ]
    },
    {
     "data": {
      "text/html": [
       "\n",
       "    <div style=\"color: white; font-family: monospace; margin-bottom: 10px; background-color: #333; padding: 5px; width: 70%;\">\n",
       "        <strong>📊 BTC Spot Price: $61924.86</strong>\n",
       "    </div>\n",
       "    <style>\n",
       "    .price-table {\n",
       "        border-collapse: collapse;\n",
       "        width: 70%;\n",
       "        font-family: monospace;\n",
       "        font-size: 10px;\n",
       "        background-color: black;\n",
       "        color: white;\n",
       "    }\n",
       "    .price-table th, .price-table td {\n",
       "        border: 1px solid #444;\n",
       "        padding: 2px;\n",
       "        text-align: center;\n",
       "        background-color: black;\n",
       "    }\n",
       "    .price-table th {\n",
       "        background-color: #222;\n",
       "        font-weight: bold;\n",
       "        color: white;\n",
       "    }\n",
       "    .price-table tr:nth-child(even) td {\n",
       "        background-color: #111;\n",
       "    }\n",
       "    .price-table tr:nth-child(odd) td {\n",
       "        background-color: black;\n",
       "    }\n",
       "    </style>\n",
       "    <table class=\"price-table\">\n",
       "    <thead>\n",
       "    <tr>\n",
       "        <th>Strike</th>\n",
       "        <th colspan=\"2\">Call Bid</th>\n",
       "        <th colspan=\"2\">Call Ask</th>\n",
       "        <th colspan=\"2\">Call Spread</th>\n",
       "        <th colspan=\"2\">Put Bid</th>\n",
       "        <th colspan=\"2\">Put Ask</th>\n",
       "        <th colspan=\"2\">Put Spread</th>\n",
       "    </tr>\n",
       "    <tr>\n",
       "        <th></th>\n",
       "        <th>Old</th><th>New</th>\n",
       "        <th>Old</th><th>New</th>\n",
       "        <th>Old</th><th>New</th>\n",
       "        <th>Old</th><th>New</th>\n",
       "        <th>Old</th><th>New</th>\n",
       "        <th>Old</th><th>New</th>\n",
       "    </tr>\n",
       "    </thead>\n",
       "    <tbody>\n",
       "    \n",
       "        <tr>\n",
       "            <td>42000</td>\n",
       "            <td>0.3120</td>\n",
       "            <td>0.3120</td>\n",
       "            <td>0.3385</td>\n",
       "            <td><span style=\"color: red; font-weight: bold;\">0.3279</span></td>\n",
       "            <td>0.0265</td>\n",
       "            <td><span style=\"color: red; font-weight: bold;\">0.0159</span></td>\n",
       "            <td>0.0003</td>\n",
       "            <td>0.0003</td>\n",
       "            <td>0.0005</td>\n",
       "            <td>0.0005</td>\n",
       "            <td>0.0002</td>\n",
       "            <td>0.0002</td>\n",
       "        </tr>\n",
       "        \n",
       "        <tr>\n",
       "            <td>44000</td>\n",
       "            <td>0.2805</td>\n",
       "            <td>0.2805</td>\n",
       "            <td>0.3070</td>\n",
       "            <td><span style=\"color: red; font-weight: bold;\">0.2956</span></td>\n",
       "            <td>0.0265</td>\n",
       "            <td><span style=\"color: red; font-weight: bold;\">0.0151</span></td>\n",
       "            <td>0.0005</td>\n",
       "            <td>0.0005</td>\n",
       "            <td>0.0007</td>\n",
       "            <td>0.0007</td>\n",
       "            <td>0.0002</td>\n",
       "            <td>0.0002</td>\n",
       "        </tr>\n",
       "        \n",
       "        <tr>\n",
       "            <td>45000</td>\n",
       "            <td>0.2645</td>\n",
       "            <td>0.2645</td>\n",
       "            <td>0.2910</td>\n",
       "            <td><span style=\"color: red; font-weight: bold;\">0.2794</span></td>\n",
       "            <td>0.0265</td>\n",
       "            <td><span style=\"color: red; font-weight: bold;\">0.0149</span></td>\n",
       "            <td>0.0005</td>\n",
       "            <td>0.0005</td>\n",
       "            <td>0.0008</td>\n",
       "            <td>0.0008</td>\n",
       "            <td>0.0003</td>\n",
       "            <td>0.0003</td>\n",
       "        </tr>\n",
       "        \n",
       "        <tr>\n",
       "            <td>46000</td>\n",
       "            <td>0.2485</td>\n",
       "            <td>0.2485</td>\n",
       "            <td>0.2635</td>\n",
       "            <td><span style=\"color: red; font-weight: bold;\">0.2633</span></td>\n",
       "            <td>0.0150</td>\n",
       "            <td><span style=\"color: red; font-weight: bold;\">0.0148</span></td>\n",
       "            <td>0.0006</td>\n",
       "            <td>0.0006</td>\n",
       "            <td>0.0009</td>\n",
       "            <td>0.0009</td>\n",
       "            <td>0.0003</td>\n",
       "            <td>0.0003</td>\n",
       "        </tr>\n",
       "        \n",
       "        <tr>\n",
       "            <td>47000</td>\n",
       "            <td>0.2335</td>\n",
       "            <td>0.2335</td>\n",
       "            <td>0.2585</td>\n",
       "            <td><span style=\"color: red; font-weight: bold;\">0.2471</span></td>\n",
       "            <td>0.0250</td>\n",
       "            <td><span style=\"color: red; font-weight: bold;\">0.0136</span></td>\n",
       "            <td>0.0008</td>\n",
       "            <td>0.0008</td>\n",
       "            <td>0.0011</td>\n",
       "            <td>0.0011</td>\n",
       "            <td>0.0003</td>\n",
       "            <td>0.0003</td>\n",
       "        </tr>\n",
       "        \n",
       "        <tr>\n",
       "            <td>48000</td>\n",
       "            <td>0.2280</td>\n",
       "            <td>0.2280</td>\n",
       "            <td>0.2310</td>\n",
       "            <td>0.2310</td>\n",
       "            <td>0.0030</td>\n",
       "            <td>0.0030</td>\n",
       "            <td>0.0010</td>\n",
       "            <td>0.0010</td>\n",
       "            <td>0.0013</td>\n",
       "            <td>0.0013</td>\n",
       "            <td>0.0003</td>\n",
       "            <td>0.0003</td>\n",
       "        </tr>\n",
       "        \n",
       "        <tr>\n",
       "            <td>49000</td>\n",
       "            <td>0.2120</td>\n",
       "            <td>0.2120</td>\n",
       "            <td>0.2150</td>\n",
       "            <td>0.2150</td>\n",
       "            <td>0.0030</td>\n",
       "            <td>0.0030</td>\n",
       "            <td>0.0012</td>\n",
       "            <td>0.0012</td>\n",
       "            <td>0.0016</td>\n",
       "            <td>0.0016</td>\n",
       "            <td>0.0004</td>\n",
       "            <td>0.0004</td>\n",
       "        </tr>\n",
       "        \n",
       "        <tr>\n",
       "            <td>50000</td>\n",
       "            <td>0.1960</td>\n",
       "            <td>0.1960</td>\n",
       "            <td>0.1990</td>\n",
       "            <td>0.1990</td>\n",
       "            <td>0.0030</td>\n",
       "            <td>0.0030</td>\n",
       "            <td>0.0015</td>\n",
       "            <td>0.0015</td>\n",
       "            <td>0.0019</td>\n",
       "            <td>0.0019</td>\n",
       "            <td>0.0004</td>\n",
       "            <td>0.0004</td>\n",
       "        </tr>\n",
       "        \n",
       "        <tr>\n",
       "            <td>51000</td>\n",
       "            <td>0.1805</td>\n",
       "            <td>0.1805</td>\n",
       "            <td>0.1835</td>\n",
       "            <td>0.1835</td>\n",
       "            <td>0.0030</td>\n",
       "            <td>0.0030</td>\n",
       "            <td>0.0019</td>\n",
       "            <td>0.0019</td>\n",
       "            <td>0.0023</td>\n",
       "            <td>0.0023</td>\n",
       "            <td>0.0004</td>\n",
       "            <td>0.0004</td>\n",
       "        </tr>\n",
       "        \n",
       "        <tr>\n",
       "            <td>52000</td>\n",
       "            <td>0.1650</td>\n",
       "            <td>0.1650</td>\n",
       "            <td>0.1680</td>\n",
       "            <td>0.1680</td>\n",
       "            <td>0.0030</td>\n",
       "            <td>0.0030</td>\n",
       "            <td>0.0024</td>\n",
       "            <td>0.0024</td>\n",
       "            <td>0.0029</td>\n",
       "            <td>0.0029</td>\n",
       "            <td>0.0005</td>\n",
       "            <td>0.0005</td>\n",
       "        </tr>\n",
       "        \n",
       "        <tr>\n",
       "            <td>53000</td>\n",
       "            <td>0.1495</td>\n",
       "            <td>0.1495</td>\n",
       "            <td>0.1535</td>\n",
       "            <td>0.1535</td>\n",
       "            <td>0.0040</td>\n",
       "            <td>0.0040</td>\n",
       "            <td>0.0032</td>\n",
       "            <td>0.0032</td>\n",
       "            <td>0.0037</td>\n",
       "            <td>0.0037</td>\n",
       "            <td>0.0005</td>\n",
       "            <td>0.0005</td>\n",
       "        </tr>\n",
       "        \n",
       "        <tr>\n",
       "            <td>54000</td>\n",
       "            <td>0.1345</td>\n",
       "            <td>0.1345</td>\n",
       "            <td>0.1380</td>\n",
       "            <td>0.1380</td>\n",
       "            <td>0.0035</td>\n",
       "            <td>0.0035</td>\n",
       "            <td>0.0043</td>\n",
       "            <td>0.0043</td>\n",
       "            <td>0.0048</td>\n",
       "            <td>0.0048</td>\n",
       "            <td>0.0005</td>\n",
       "            <td>0.0005</td>\n",
       "        </tr>\n",
       "        \n",
       "        <tr>\n",
       "            <td>55000</td>\n",
       "            <td>0.1200</td>\n",
       "            <td>0.1200</td>\n",
       "            <td>0.1235</td>\n",
       "            <td>0.1235</td>\n",
       "            <td>0.0035</td>\n",
       "            <td>0.0035</td>\n",
       "            <td>0.0055</td>\n",
       "            <td>0.0055</td>\n",
       "            <td>0.0065</td>\n",
       "            <td>0.0065</td>\n",
       "            <td>0.0010</td>\n",
       "            <td>0.0010</td>\n",
       "        </tr>\n",
       "        \n",
       "        <tr>\n",
       "            <td>55500</td>\n",
       "            <td>0.1115</td>\n",
       "            <td><span style=\"color: red; font-weight: bold;\">0.1119</span></td>\n",
       "            <td>0.1190</td>\n",
       "            <td><span style=\"color: red; font-weight: bold;\">0.1176</span></td>\n",
       "            <td>0.0075</td>\n",
       "            <td><span style=\"color: red; font-weight: bold;\">0.0056</span></td>\n",
       "            <td>0.0065</td>\n",
       "            <td>0.0065</td>\n",
       "            <td>0.0075</td>\n",
       "            <td>0.0075</td>\n",
       "            <td>0.0010</td>\n",
       "            <td>0.0010</td>\n",
       "        </tr>\n",
       "        \n",
       "        <tr>\n",
       "            <td>56000</td>\n",
       "            <td>0.1060</td>\n",
       "            <td>0.1060</td>\n",
       "            <td>0.1095</td>\n",
       "            <td>0.1095</td>\n",
       "            <td>0.0035</td>\n",
       "            <td>0.0035</td>\n",
       "            <td>0.0075</td>\n",
       "            <td>0.0075</td>\n",
       "            <td>0.0085</td>\n",
       "            <td>0.0085</td>\n",
       "            <td>0.0010</td>\n",
       "            <td>0.0010</td>\n",
       "        </tr>\n",
       "        \n",
       "        <tr>\n",
       "            <td>56500</td>\n",
       "            <td>0.0990</td>\n",
       "            <td>0.0990</td>\n",
       "            <td>0.1025</td>\n",
       "            <td>0.1025</td>\n",
       "            <td>0.0035</td>\n",
       "            <td>0.0035</td>\n",
       "            <td>0.0090</td>\n",
       "            <td>0.0090</td>\n",
       "            <td>0.0095</td>\n",
       "            <td>0.0095</td>\n",
       "            <td>0.0005</td>\n",
       "            <td>0.0005</td>\n",
       "        </tr>\n",
       "        \n",
       "        <tr>\n",
       "            <td>57000</td>\n",
       "            <td>0.0930</td>\n",
       "            <td>0.0930</td>\n",
       "            <td>0.0960</td>\n",
       "            <td>0.0960</td>\n",
       "            <td>0.0030</td>\n",
       "            <td>0.0030</td>\n",
       "            <td>0.0100</td>\n",
       "            <td>0.0100</td>\n",
       "            <td>0.0110</td>\n",
       "            <td>0.0110</td>\n",
       "            <td>0.0010</td>\n",
       "            <td>0.0010</td>\n",
       "        </tr>\n",
       "        \n",
       "        <tr>\n",
       "            <td>57500</td>\n",
       "            <td>0.0855</td>\n",
       "            <td>0.0855</td>\n",
       "            <td>0.0895</td>\n",
       "            <td>0.0895</td>\n",
       "            <td>0.0040</td>\n",
       "            <td>0.0040</td>\n",
       "            <td>0.0120</td>\n",
       "            <td>0.0120</td>\n",
       "            <td>0.0130</td>\n",
       "            <td>0.0130</td>\n",
       "            <td>0.0010</td>\n",
       "            <td>0.0010</td>\n",
       "        </tr>\n",
       "        \n",
       "        <tr>\n",
       "            <td>58000</td>\n",
       "            <td>0.0800</td>\n",
       "            <td>0.0800</td>\n",
       "            <td>0.0840</td>\n",
       "            <td>0.0840</td>\n",
       "            <td>0.0040</td>\n",
       "            <td>0.0040</td>\n",
       "            <td>0.0135</td>\n",
       "            <td>0.0135</td>\n",
       "            <td>0.0145</td>\n",
       "            <td>0.0145</td>\n",
       "            <td>0.0010</td>\n",
       "            <td>0.0010</td>\n",
       "        </tr>\n",
       "        \n",
       "        <tr>\n",
       "            <td>58500</td>\n",
       "            <td>0.0740</td>\n",
       "            <td>0.0740</td>\n",
       "            <td>0.0770</td>\n",
       "            <td>0.0770</td>\n",
       "            <td>0.0030</td>\n",
       "            <td>0.0030</td>\n",
       "            <td>0.0155</td>\n",
       "            <td>0.0155</td>\n",
       "            <td>0.0165</td>\n",
       "            <td>0.0165</td>\n",
       "            <td>0.0010</td>\n",
       "            <td>0.0010</td>\n",
       "        </tr>\n",
       "        \n",
       "        <tr>\n",
       "            <td>59000</td>\n",
       "            <td>0.0690</td>\n",
       "            <td>0.0690</td>\n",
       "            <td>0.0725</td>\n",
       "            <td>0.0725</td>\n",
       "            <td>0.0035</td>\n",
       "            <td>0.0035</td>\n",
       "            <td>0.0180</td>\n",
       "            <td>0.0180</td>\n",
       "            <td>0.0190</td>\n",
       "            <td>0.0190</td>\n",
       "            <td>0.0010</td>\n",
       "            <td>0.0010</td>\n",
       "        </tr>\n",
       "        \n",
       "        <tr>\n",
       "            <td>59500</td>\n",
       "            <td>0.0635</td>\n",
       "            <td>0.0635</td>\n",
       "            <td>0.0670</td>\n",
       "            <td>0.0670</td>\n",
       "            <td>0.0035</td>\n",
       "            <td>0.0035</td>\n",
       "            <td>0.0205</td>\n",
       "            <td>0.0205</td>\n",
       "            <td>0.0215</td>\n",
       "            <td>0.0215</td>\n",
       "            <td>0.0010</td>\n",
       "            <td>0.0010</td>\n",
       "        </tr>\n",
       "        \n",
       "        <tr>\n",
       "            <td>60000</td>\n",
       "            <td>0.0585</td>\n",
       "            <td>0.0585</td>\n",
       "            <td>0.0610</td>\n",
       "            <td>0.0610</td>\n",
       "            <td>0.0025</td>\n",
       "            <td>0.0025</td>\n",
       "            <td>0.0235</td>\n",
       "            <td>0.0235</td>\n",
       "            <td>0.0245</td>\n",
       "            <td>0.0245</td>\n",
       "            <td>0.0010</td>\n",
       "            <td>0.0010</td>\n",
       "        </tr>\n",
       "        \n",
       "        <tr>\n",
       "            <td>60500</td>\n",
       "            <td>0.0535</td>\n",
       "            <td>0.0535</td>\n",
       "            <td>0.0555</td>\n",
       "            <td>0.0555</td>\n",
       "            <td>0.0020</td>\n",
       "            <td>0.0020</td>\n",
       "            <td>0.0265</td>\n",
       "            <td>0.0265</td>\n",
       "            <td>0.0275</td>\n",
       "            <td>0.0275</td>\n",
       "            <td>0.0010</td>\n",
       "            <td>0.0010</td>\n",
       "        </tr>\n",
       "        \n",
       "        <tr>\n",
       "            <td>61000</td>\n",
       "            <td>0.0490</td>\n",
       "            <td>0.0490</td>\n",
       "            <td>0.0510</td>\n",
       "            <td>0.0510</td>\n",
       "            <td>0.0020</td>\n",
       "            <td>0.0020</td>\n",
       "            <td>0.0300</td>\n",
       "            <td>0.0300</td>\n",
       "            <td>0.0310</td>\n",
       "            <td>0.0310</td>\n",
       "            <td>0.0010</td>\n",
       "            <td>0.0010</td>\n",
       "        </tr>\n",
       "        \n",
       "        <tr>\n",
       "            <td>61500</td>\n",
       "            <td>0.0450</td>\n",
       "            <td>0.0450</td>\n",
       "            <td>0.0465</td>\n",
       "            <td>0.0465</td>\n",
       "            <td>0.0015</td>\n",
       "            <td>0.0015</td>\n",
       "            <td>0.0340</td>\n",
       "            <td>0.0340</td>\n",
       "            <td>0.0350</td>\n",
       "            <td>0.0350</td>\n",
       "            <td>0.0010</td>\n",
       "            <td>0.0010</td>\n",
       "        </tr>\n",
       "        \n",
       "        <tr>\n",
       "            <td>62000</td>\n",
       "            <td>0.0410</td>\n",
       "            <td>0.0410</td>\n",
       "            <td>0.0425</td>\n",
       "            <td>0.0425</td>\n",
       "            <td>0.0015</td>\n",
       "            <td>0.0015</td>\n",
       "            <td>0.0375</td>\n",
       "            <td>0.0375</td>\n",
       "            <td>0.0390</td>\n",
       "            <td>0.0390</td>\n",
       "            <td>0.0015</td>\n",
       "            <td>0.0015</td>\n",
       "        </tr>\n",
       "        \n",
       "        <tr>\n",
       "            <td>62500</td>\n",
       "            <td>0.0370</td>\n",
       "            <td>0.0370</td>\n",
       "            <td>0.0385</td>\n",
       "            <td>0.0385</td>\n",
       "            <td>0.0015</td>\n",
       "            <td>0.0015</td>\n",
       "            <td>0.0420</td>\n",
       "            <td>0.0420</td>\n",
       "            <td>0.0435</td>\n",
       "            <td>0.0435</td>\n",
       "            <td>0.0015</td>\n",
       "            <td>0.0015</td>\n",
       "        </tr>\n",
       "        \n",
       "        <tr>\n",
       "            <td>63000</td>\n",
       "            <td>0.0340</td>\n",
       "            <td>0.0340</td>\n",
       "            <td>0.0350</td>\n",
       "            <td>0.0350</td>\n",
       "            <td>0.0010</td>\n",
       "            <td>0.0010</td>\n",
       "            <td>0.0460</td>\n",
       "            <td>0.0460</td>\n",
       "            <td>0.0480</td>\n",
       "            <td>0.0480</td>\n",
       "            <td>0.0020</td>\n",
       "            <td>0.0020</td>\n",
       "        </tr>\n",
       "        \n",
       "        <tr>\n",
       "            <td>63500</td>\n",
       "            <td>0.0305</td>\n",
       "            <td>0.0305</td>\n",
       "            <td>0.0315</td>\n",
       "            <td>0.0315</td>\n",
       "            <td>0.0010</td>\n",
       "            <td>0.0010</td>\n",
       "            <td>0.0510</td>\n",
       "            <td>0.0510</td>\n",
       "            <td>0.0530</td>\n",
       "            <td>0.0530</td>\n",
       "            <td>0.0020</td>\n",
       "            <td>0.0020</td>\n",
       "        </tr>\n",
       "        \n",
       "        <tr>\n",
       "            <td>64000</td>\n",
       "            <td>0.0275</td>\n",
       "            <td>0.0275</td>\n",
       "            <td>0.0285</td>\n",
       "            <td>0.0285</td>\n",
       "            <td>0.0010</td>\n",
       "            <td>0.0010</td>\n",
       "            <td>0.0555</td>\n",
       "            <td>0.0555</td>\n",
       "            <td>0.0580</td>\n",
       "            <td>0.0580</td>\n",
       "            <td>0.0025</td>\n",
       "            <td>0.0025</td>\n",
       "        </tr>\n",
       "        \n",
       "        <tr>\n",
       "            <td>64500</td>\n",
       "            <td>0.0250</td>\n",
       "            <td>0.0250</td>\n",
       "            <td>0.0260</td>\n",
       "            <td>0.0260</td>\n",
       "            <td>0.0010</td>\n",
       "            <td>0.0010</td>\n",
       "            <td>0.0595</td>\n",
       "            <td>0.0595</td>\n",
       "            <td>0.0645</td>\n",
       "            <td>0.0645</td>\n",
       "            <td>0.0050</td>\n",
       "            <td>0.0050</td>\n",
       "        </tr>\n",
       "        \n",
       "        <tr>\n",
       "            <td>65000</td>\n",
       "            <td>0.0225</td>\n",
       "            <td>0.0225</td>\n",
       "            <td>0.0230</td>\n",
       "            <td>0.0230</td>\n",
       "            <td>0.0005</td>\n",
       "            <td>0.0005</td>\n",
       "            <td>0.0545</td>\n",
       "            <td><span style=\"color: red; font-weight: bold;\">0.0619</span></td>\n",
       "            <td>0.0800</td>\n",
       "            <td><span style=\"color: red; font-weight: bold;\">0.0726</span></td>\n",
       "            <td>0.0255</td>\n",
       "            <td><span style=\"color: red; font-weight: bold;\">0.0107</span></td>\n",
       "        </tr>\n",
       "        \n",
       "        <tr>\n",
       "            <td>65500</td>\n",
       "            <td>0.0205</td>\n",
       "            <td>0.0205</td>\n",
       "            <td>0.0215</td>\n",
       "            <td>0.0215</td>\n",
       "            <td>0.0010</td>\n",
       "            <td>0.0010</td>\n",
       "            <td>0.0605</td>\n",
       "            <td><span style=\"color: red; font-weight: bold;\">0.0699</span></td>\n",
       "            <td>0.0860</td>\n",
       "            <td><span style=\"color: red; font-weight: bold;\">0.0806</span></td>\n",
       "            <td>0.0255</td>\n",
       "            <td><span style=\"color: red; font-weight: bold;\">0.0107</span></td>\n",
       "        </tr>\n",
       "        \n",
       "        <tr>\n",
       "            <td>66000</td>\n",
       "            <td>0.0185</td>\n",
       "            <td>0.0185</td>\n",
       "            <td>0.0190</td>\n",
       "            <td>0.0190</td>\n",
       "            <td>0.0005</td>\n",
       "            <td>0.0005</td>\n",
       "            <td>0.0780</td>\n",
       "            <td>0.0780</td>\n",
       "            <td>0.0810</td>\n",
       "            <td>0.0810</td>\n",
       "            <td>0.0030</td>\n",
       "            <td>0.0030</td>\n",
       "        </tr>\n",
       "        \n",
       "        <tr>\n",
       "            <td>66500</td>\n",
       "            <td>0.0165</td>\n",
       "            <td>0.0165</td>\n",
       "            <td>0.0175</td>\n",
       "            <td>0.0175</td>\n",
       "            <td>0.0010</td>\n",
       "            <td>0.0010</td>\n",
       "            <td>0.0725</td>\n",
       "            <td><span style=\"color: red; font-weight: bold;\">0.0788</span></td>\n",
       "            <td>0.0970</td>\n",
       "            <td><span style=\"color: red; font-weight: bold;\">0.0891</span></td>\n",
       "            <td>0.0245</td>\n",
       "            <td><span style=\"color: red; font-weight: bold;\">0.0103</span></td>\n",
       "        </tr>\n",
       "        \n",
       "        <tr>\n",
       "            <td>68000</td>\n",
       "            <td>0.0120</td>\n",
       "            <td>0.0120</td>\n",
       "            <td>0.0125</td>\n",
       "            <td>0.0125</td>\n",
       "            <td>0.0005</td>\n",
       "            <td>0.0005</td>\n",
       "            <td>0.1030</td>\n",
       "            <td>0.1030</td>\n",
       "            <td>0.1080</td>\n",
       "            <td>0.1080</td>\n",
       "            <td>0.0050</td>\n",
       "            <td>0.0050</td>\n",
       "        </tr>\n",
       "        \n",
       "        <tr>\n",
       "            <td>70000</td>\n",
       "            <td>0.0075</td>\n",
       "            <td>0.0075</td>\n",
       "            <td>0.0085</td>\n",
       "            <td>0.0085</td>\n",
       "            <td>0.0010</td>\n",
       "            <td>0.0010</td>\n",
       "            <td>0.1305</td>\n",
       "            <td>0.1305</td>\n",
       "            <td>0.1360</td>\n",
       "            <td>0.1360</td>\n",
       "            <td>0.0055</td>\n",
       "            <td>0.0055</td>\n",
       "        </tr>\n",
       "        \n",
       "        <tr>\n",
       "            <td>72000</td>\n",
       "            <td>0.0050</td>\n",
       "            <td>0.0050</td>\n",
       "            <td>0.0055</td>\n",
       "            <td>0.0055</td>\n",
       "            <td>0.0005</td>\n",
       "            <td>0.0005</td>\n",
       "            <td>0.1600</td>\n",
       "            <td>0.1600</td>\n",
       "            <td>0.1660</td>\n",
       "            <td>0.1660</td>\n",
       "            <td>0.0060</td>\n",
       "            <td>0.0060</td>\n",
       "        </tr>\n",
       "        \n",
       "        <tr>\n",
       "            <td>74000</td>\n",
       "            <td>0.0032</td>\n",
       "            <td>0.0032</td>\n",
       "            <td>0.0037</td>\n",
       "            <td>0.0037</td>\n",
       "            <td>0.0005</td>\n",
       "            <td>0.0005</td>\n",
       "            <td>0.1905</td>\n",
       "            <td>0.1905</td>\n",
       "            <td>0.1955</td>\n",
       "            <td>0.1955</td>\n",
       "            <td>0.0050</td>\n",
       "            <td>0.0050</td>\n",
       "        </tr>\n",
       "        \n",
       "        <tr>\n",
       "            <td>76000</td>\n",
       "            <td>0.0022</td>\n",
       "            <td>0.0022</td>\n",
       "            <td>0.0025</td>\n",
       "            <td>0.0025</td>\n",
       "            <td>0.0003</td>\n",
       "            <td>0.0003</td>\n",
       "            <td>0.2215</td>\n",
       "            <td>0.2215</td>\n",
       "            <td>0.2280</td>\n",
       "            <td><span style=\"color: red; font-weight: bold;\">0.2278</span></td>\n",
       "            <td>0.0065</td>\n",
       "            <td><span style=\"color: red; font-weight: bold;\">0.0063</span></td>\n",
       "        </tr>\n",
       "        \n",
       "    </tbody>\n",
       "    </table>\n",
       "    "
      ],
      "text/plain": [
       "<IPython.core.display.HTML object>"
      ]
     },
     "metadata": {},
     "output_type": "display_data"
    }
   ],
   "source": [
    "from utils.pricer.option_constraints import tighten_option_spread\n",
    "from utils.reporting.html_table_generator import generate_price_comparison_table\n",
    "from IPython.display import HTML, display\n",
    "\n",
    "tightened_option_chain = tighten_option_spread(df_option_chain)\n",
    "print(f\"Comparison of old bid/ask proces and the tightened bid/ask price\")\n",
    "\n",
    "# Generate HTML table using external module\n",
    "display(HTML(generate_price_comparison_table(tightened_option_chain, table_width=\"70%\", font_size=\"10px\")))"
   ]
  },
  {
   "cell_type": "code",
   "execution_count": 6,
   "id": "fee6de0a",
   "metadata": {},
   "outputs": [
    {
     "name": "stdout",
     "output_type": "stream",
     "text": [
      "💰 Forward price: $62,229.04\n",
      "⏰ Time to expiry: 0.0205 years\n",
      "✅ DataFrame with vega calculations created successfully using centralized module!\n"
     ]
    },
    {
     "data": {
      "text/html": [
       "<div><style>\n",
       ".dataframe > thead > tr,\n",
       ".dataframe > tbody > tr {\n",
       "  text-align: right;\n",
       "  white-space: pre-wrap;\n",
       "}\n",
       "</style>\n",
       "<small>shape: (41, 5)</small><table border=\"1\" class=\"dataframe\"><thead><tr><th>strike</th><th>bidVola</th><th>midVola</th><th>askVola</th><th>vega</th></tr><tr><td>i64</td><td>f64</td><td>f64</td><td>f64</td><td>f64</td></tr></thead><tbody><tr><td>42000</td><td>111.67</td><td>115.28</td><td>118.9</td><td>1.71</td></tr><tr><td>44000</td><td>106.23</td><td>108.71</td><td>111.19</td><td>2.5</td></tr><tr><td>45000</td><td>100.07</td><td>103.44</td><td>106.82</td><td>2.75</td></tr><tr><td>46000</td><td>96.39</td><td>99.3</td><td>102.22</td><td>3.19</td></tr><tr><td>47000</td><td>94.16</td><td>96.53</td><td>98.9</td><td>3.92</td></tr><tr><td>&hellip;</td><td>&hellip;</td><td>&hellip;</td><td>&hellip;</td><td>&hellip;</td></tr><tr><td>68000</td><td>72.81</td><td>73.41</td><td>74.01</td><td>25.94</td></tr><tr><td>70000</td><td>73.78</td><td>75.28</td><td>76.77</td><td>20.71</td></tr><tr><td>72000</td><td>76.38</td><td>77.34</td><td>78.31</td><td>16.01</td></tr><tr><td>74000</td><td>78.09</td><td>79.37</td><td>80.65</td><td>12.09</td></tr><tr><td>76000</td><td>80.86</td><td>81.88</td><td>82.89</td><td>9.16</td></tr></tbody></table></div>"
      ],
      "text/plain": [
       "shape: (41, 5)\n",
       "┌────────┬─────────┬─────────┬─────────┬───────┐\n",
       "│ strike ┆ bidVola ┆ midVola ┆ askVola ┆ vega  │\n",
       "│ ---    ┆ ---     ┆ ---     ┆ ---     ┆ ---   │\n",
       "│ i64    ┆ f64     ┆ f64     ┆ f64     ┆ f64   │\n",
       "╞════════╪═════════╪═════════╪═════════╪═══════╡\n",
       "│ 42000  ┆ 111.67  ┆ 115.28  ┆ 118.9   ┆ 1.71  │\n",
       "│ 44000  ┆ 106.23  ┆ 108.71  ┆ 111.19  ┆ 2.5   │\n",
       "│ 45000  ┆ 100.07  ┆ 103.44  ┆ 106.82  ┆ 2.75  │\n",
       "│ 46000  ┆ 96.39   ┆ 99.3    ┆ 102.22  ┆ 3.19  │\n",
       "│ 47000  ┆ 94.16   ┆ 96.53   ┆ 98.9    ┆ 3.92  │\n",
       "│ …      ┆ …       ┆ …       ┆ …       ┆ …     │\n",
       "│ 68000  ┆ 72.81   ┆ 73.41   ┆ 74.01   ┆ 25.94 │\n",
       "│ 70000  ┆ 73.78   ┆ 75.28   ┆ 76.77   ┆ 20.71 │\n",
       "│ 72000  ┆ 76.38   ┆ 77.34   ┆ 78.31   ┆ 16.01 │\n",
       "│ 74000  ┆ 78.09   ┆ 79.37   ┆ 80.65   ┆ 12.09 │\n",
       "│ 76000  ┆ 80.86   ┆ 81.88   ┆ 82.89   ┆ 9.16  │\n",
       "└────────┴─────────┴─────────┴─────────┴───────┘"
      ]
     },
     "execution_count": 6,
     "metadata": {},
     "output_type": "execute_result"
    }
   ],
   "source": [
    "# Get forward price and time to expiry\n",
    "from utils.volatility_fitter.volatility_calculator import process_option_chain_with_volatilities, process_volatility_with_greeks\n",
    "\n",
    "df_option_with_vola = process_option_chain_with_volatilities(tightened_option_chain, interest_rate=0.15)\n",
    "df_option_with_vola_and_greeks = process_volatility_with_greeks(df_option_with_vola)\n",
    "\n",
    "assert len(df_option_with_vola['F'].unique().to_list()) == 1\n",
    "assert len(df_option_with_vola['tau'].unique().to_list()) == 1\n",
    "forward_price = df_option_with_vola['F'][0]\n",
    "time_to_expiry = df_option_with_vola['tau'][0]\n",
    "\n",
    "print(f\"💰 Forward price: ${forward_price:,.2f}\")\n",
    "print(f\"⏰ Time to expiry: {time_to_expiry:.4f} years\")\n",
    "\n",
    "\n",
    "print(\"✅ DataFrame with vega calculations created successfully using centralized module!\")\n",
    "df_option_with_vola_and_greeks.select(['strike', 'bidVola', 'midVola', 'askVola', 'vega'])"
   ]
  },
  {
   "cell_type": "code",
   "execution_count": 7,
   "id": "6fc063c1",
   "metadata": {},
   "outputs": [
    {
     "data": {
      "application/vnd.plotly.v1+json": {
       "config": {
        "plotlyServerURL": "https://plot.ly"
       },
       "data": [
        {
         "error_y": {
          "array": {
           "bdata": "ObuAH3hMUkBjEw0q9EJQQOg2PzxJjU5Ai5UOnRafTEDMxrR/trpKQES0JbSS30hAHndSKw5kR0BQwywOVuZFQKHnLkG5okVAhF9am1YyLED8SpuOjFkpQNQ2bjn+WiFASB+NPq08G0Bc/LSLpvwjQKgm0jozPxZAyCX9SyGIFEBYLza1egEQQNwU9O87HhRAIJNT9JSHEkDgWyMKBVkKQKBXYDya4QxAoKLZMZWjC0BQ4UAySgkDQEAFkGoujP0/wAwxcl3V/D/gd37JjEH1PwCcXKmJCfU/YGsQdlv19D9AvSZLmQPsP8AdStHfQ+w/wEu9bLOw7D+AszUvGELtP4B/45e6Cd4/QHUSSDrd7j8AVKIQU/zfPyAu635umvA/QLbdGPEY4z8AyPgTR+33PwA9d3CG8O4/gIQyMit79D9gmNQbhTzwPw==",
           "dtype": "f8"
          },
          "color": "blue",
          "type": "data",
          "visible": true
         },
         "marker": {
          "color": "blue",
          "symbol": "circle"
         },
         "mode": "markers",
         "name": "Call IV (Bid/Ask Error Bar)",
         "opacity": 0.8,
         "type": "scatter",
         "x": {
          "bdata": "EKQAAOCrAADIrwAAsLMAAJi3AACAuwAAaL8AAFDDAAA4xwAAIMsAAAjPAADw0gAA2NYAAMzYAADA2gAAtNwAAKjeAACc4AAAkOIAAITkAAB45gAAbOgAAGDqAABU7AAASO4AADzwAAAw8gAAJPQAABj2AAAM+AAAAPoAAPT7AADo/QAA3P8AANABAQDEAwEAoAkBAHARAQBAGQEAECEBAOAoAQA=",
          "dtype": "i4"
         },
         "y": {
          "bdata": "D1/xXILjUkA5t31n/tlQQJZ+ILddu09AOd3vFyvNTUB6Dpb6yuhLQPL7Bi+nDUpAzL4zpiKSSED+Cg6JahRHQKHnLkG5IkZA2hxD93+IUUBmav+JQhRSQLSLwEDpzVFAFGvmRDrHUUDqGUvR3qVRQJzjtwX7qlFAWtdTS39vUUDYdfPWcaBRQHtz0jgMLFFArHxdX32LUUDHWrgdezRRQB19tAGArVFAEJUlHiOeUUDcowm5EnJRQCZWrWrpR1FAmypwaVZYUUBiuPQJwWZRQPyjoT2Ac1FAnr/XvyFjUUAaJg7FE4pRQDbh06X2eFFAqPcJncGEUUCfyyU60K9RQOqyh7G7o1FAEpgSCqz3UUARCJkqMfdRQLqWqOsVH1JAvll/UClaUkCw0AFspdFSQH8V5U9GVlNAnGGpQJvXU0AoX1IMBXhUQA==",
          "dtype": "f8"
         }
        },
        {
         "error_y": {
          "array": {
           "bdata": "AC8p86jsDEAQQhFzd9QDQEDt/YlM/QpAcG86TtVMB0CgQqozMPMCQMB4u3bJ2P8/sD7/bKbXAUBAkKVULQz+P6BJI2XjH/k/IFaXyuUR+j8gMb/pvGj1P8B+NMnjoPE/gLe5zPJf/T/gGQSWvcX6PyAFOOhTrvg/QDT8/FzC5j8gZoMMHjL1P2Cc1/kblfM/APduw5168j/gYQ+QQnHxPwBYmO8niPA/wOVrpMCh7z/Al0EuOnHuP0DqjHUlhu0/gHdh86PS7D8AnF6zmVXsP2Ah5SaRCfU/wKZQoGn19D+ABwgNAgT8P+AoAdTWQPw/sCDmHgzsAUCAoPBVCksSQIJroCwYMSRAoHCvQxuIJEDw+QgxWP0HQKpGpU13DCZAYFxsey/EF0AAytDgVYsgQPwRmbb9QydAYMPodzAFLEDJbwvtS/5IQA==",
           "dtype": "f8"
          },
          "color": "orange",
          "type": "data",
          "visible": true
         },
         "marker": {
          "color": "orange",
          "symbol": "circle"
         },
         "mode": "markers",
         "name": "Put IV (Bid/Ask Error Bar)",
         "opacity": 0.8,
         "type": "scatter",
         "x": {
          "bdata": "EKQAAOCrAADIrwAAsLMAAJi3AACAuwAAaL8AAFDDAAA4xwAAIMsAAAjPAADw0gAA2NYAAMzYAADA2gAAtNwAAKjeAACc4AAAkOIAAITkAAB45gAAbOgAAGDqAABU7AAASO4AADzwAAAw8gAAJPQAABj2AAAM+AAAAPoAAPT7AADo/QAA3P8AANABAQDEAwEAoAkBAHARAQBAGQEAECEBAOAoAQA=",
          "dtype": "i4"
         },
         "y": {
          "bdata": "hk013jLSXECCpzWdVS1bQFn17iyI3FlAxHlsO2HTWEAqIaom9SFYQN6fC7vsQ1dAkg1wGY1nVkCH4uzzjYpVQJbUOMcdvVRA2pIpXjYEVECothkk4nBTQGr9B+tl8lJAMuFKXgR7UkDyF3diU1xSQLgi/3cnI1JAFBprtX8BUkCUYDXCSMRRQNj0ItrR5lFAZzjw1UecUUDyptVD94BRQA2Cc0Ldi1FA9lg0dDx3UUAA6mBp04JRQGRE2Jqrb1FA+WJ7KGR5UUDx4AMr8J1RQEyhQLCCiFFAbME83GqqUUAqpHI69JNRQEAQzOLXtVFAmvtYzBOgUUDzAHPipqdRQG6ILpBViVFAGfiCz3C1UkDuPwVtPPtRQPHM35OPDlFAJ1jP5eeDUkAjD0316ctSQGI71ZpiZVNAxC/DXmYpU0DJbwvtS35JQA==",
          "dtype": "f8"
         }
        }
       ],
       "layout": {
        "legend": {
         "title": {
          "text": "Legend"
         }
        },
        "shapes": [
         {
          "line": {
           "color": "green",
           "dash": "dash"
          },
          "name": "Spot Price (S)",
          "type": "line",
          "x0": 61924.86,
          "x1": 61924.86,
          "xref": "x",
          "y0": 0,
          "y1": 1,
          "yref": "y domain"
         }
        ],
        "template": {
         "data": {
          "bar": [
           {
            "error_x": {
             "color": "#2a3f5f"
            },
            "error_y": {
             "color": "#2a3f5f"
            },
            "marker": {
             "line": {
              "color": "white",
              "width": 0.5
             },
             "pattern": {
              "fillmode": "overlay",
              "size": 10,
              "solidity": 0.2
             }
            },
            "type": "bar"
           }
          ],
          "barpolar": [
           {
            "marker": {
             "line": {
              "color": "white",
              "width": 0.5
             },
             "pattern": {
              "fillmode": "overlay",
              "size": 10,
              "solidity": 0.2
             }
            },
            "type": "barpolar"
           }
          ],
          "carpet": [
           {
            "aaxis": {
             "endlinecolor": "#2a3f5f",
             "gridcolor": "#C8D4E3",
             "linecolor": "#C8D4E3",
             "minorgridcolor": "#C8D4E3",
             "startlinecolor": "#2a3f5f"
            },
            "baxis": {
             "endlinecolor": "#2a3f5f",
             "gridcolor": "#C8D4E3",
             "linecolor": "#C8D4E3",
             "minorgridcolor": "#C8D4E3",
             "startlinecolor": "#2a3f5f"
            },
            "type": "carpet"
           }
          ],
          "choropleth": [
           {
            "colorbar": {
             "outlinewidth": 0,
             "ticks": ""
            },
            "type": "choropleth"
           }
          ],
          "contour": [
           {
            "colorbar": {
             "outlinewidth": 0,
             "ticks": ""
            },
            "colorscale": [
             [
              0,
              "#0d0887"
             ],
             [
              0.1111111111111111,
              "#46039f"
             ],
             [
              0.2222222222222222,
              "#7201a8"
             ],
             [
              0.3333333333333333,
              "#9c179e"
             ],
             [
              0.4444444444444444,
              "#bd3786"
             ],
             [
              0.5555555555555556,
              "#d8576b"
             ],
             [
              0.6666666666666666,
              "#ed7953"
             ],
             [
              0.7777777777777778,
              "#fb9f3a"
             ],
             [
              0.8888888888888888,
              "#fdca26"
             ],
             [
              1,
              "#f0f921"
             ]
            ],
            "type": "contour"
           }
          ],
          "contourcarpet": [
           {
            "colorbar": {
             "outlinewidth": 0,
             "ticks": ""
            },
            "type": "contourcarpet"
           }
          ],
          "heatmap": [
           {
            "colorbar": {
             "outlinewidth": 0,
             "ticks": ""
            },
            "colorscale": [
             [
              0,
              "#0d0887"
             ],
             [
              0.1111111111111111,
              "#46039f"
             ],
             [
              0.2222222222222222,
              "#7201a8"
             ],
             [
              0.3333333333333333,
              "#9c179e"
             ],
             [
              0.4444444444444444,
              "#bd3786"
             ],
             [
              0.5555555555555556,
              "#d8576b"
             ],
             [
              0.6666666666666666,
              "#ed7953"
             ],
             [
              0.7777777777777778,
              "#fb9f3a"
             ],
             [
              0.8888888888888888,
              "#fdca26"
             ],
             [
              1,
              "#f0f921"
             ]
            ],
            "type": "heatmap"
           }
          ],
          "histogram": [
           {
            "marker": {
             "pattern": {
              "fillmode": "overlay",
              "size": 10,
              "solidity": 0.2
             }
            },
            "type": "histogram"
           }
          ],
          "histogram2d": [
           {
            "colorbar": {
             "outlinewidth": 0,
             "ticks": ""
            },
            "colorscale": [
             [
              0,
              "#0d0887"
             ],
             [
              0.1111111111111111,
              "#46039f"
             ],
             [
              0.2222222222222222,
              "#7201a8"
             ],
             [
              0.3333333333333333,
              "#9c179e"
             ],
             [
              0.4444444444444444,
              "#bd3786"
             ],
             [
              0.5555555555555556,
              "#d8576b"
             ],
             [
              0.6666666666666666,
              "#ed7953"
             ],
             [
              0.7777777777777778,
              "#fb9f3a"
             ],
             [
              0.8888888888888888,
              "#fdca26"
             ],
             [
              1,
              "#f0f921"
             ]
            ],
            "type": "histogram2d"
           }
          ],
          "histogram2dcontour": [
           {
            "colorbar": {
             "outlinewidth": 0,
             "ticks": ""
            },
            "colorscale": [
             [
              0,
              "#0d0887"
             ],
             [
              0.1111111111111111,
              "#46039f"
             ],
             [
              0.2222222222222222,
              "#7201a8"
             ],
             [
              0.3333333333333333,
              "#9c179e"
             ],
             [
              0.4444444444444444,
              "#bd3786"
             ],
             [
              0.5555555555555556,
              "#d8576b"
             ],
             [
              0.6666666666666666,
              "#ed7953"
             ],
             [
              0.7777777777777778,
              "#fb9f3a"
             ],
             [
              0.8888888888888888,
              "#fdca26"
             ],
             [
              1,
              "#f0f921"
             ]
            ],
            "type": "histogram2dcontour"
           }
          ],
          "mesh3d": [
           {
            "colorbar": {
             "outlinewidth": 0,
             "ticks": ""
            },
            "type": "mesh3d"
           }
          ],
          "parcoords": [
           {
            "line": {
             "colorbar": {
              "outlinewidth": 0,
              "ticks": ""
             }
            },
            "type": "parcoords"
           }
          ],
          "pie": [
           {
            "automargin": true,
            "type": "pie"
           }
          ],
          "scatter": [
           {
            "fillpattern": {
             "fillmode": "overlay",
             "size": 10,
             "solidity": 0.2
            },
            "type": "scatter"
           }
          ],
          "scatter3d": [
           {
            "line": {
             "colorbar": {
              "outlinewidth": 0,
              "ticks": ""
             }
            },
            "marker": {
             "colorbar": {
              "outlinewidth": 0,
              "ticks": ""
             }
            },
            "type": "scatter3d"
           }
          ],
          "scattercarpet": [
           {
            "marker": {
             "colorbar": {
              "outlinewidth": 0,
              "ticks": ""
             }
            },
            "type": "scattercarpet"
           }
          ],
          "scattergeo": [
           {
            "marker": {
             "colorbar": {
              "outlinewidth": 0,
              "ticks": ""
             }
            },
            "type": "scattergeo"
           }
          ],
          "scattergl": [
           {
            "marker": {
             "colorbar": {
              "outlinewidth": 0,
              "ticks": ""
             }
            },
            "type": "scattergl"
           }
          ],
          "scattermap": [
           {
            "marker": {
             "colorbar": {
              "outlinewidth": 0,
              "ticks": ""
             }
            },
            "type": "scattermap"
           }
          ],
          "scattermapbox": [
           {
            "marker": {
             "colorbar": {
              "outlinewidth": 0,
              "ticks": ""
             }
            },
            "type": "scattermapbox"
           }
          ],
          "scatterpolar": [
           {
            "marker": {
             "colorbar": {
              "outlinewidth": 0,
              "ticks": ""
             }
            },
            "type": "scatterpolar"
           }
          ],
          "scatterpolargl": [
           {
            "marker": {
             "colorbar": {
              "outlinewidth": 0,
              "ticks": ""
             }
            },
            "type": "scatterpolargl"
           }
          ],
          "scatterternary": [
           {
            "marker": {
             "colorbar": {
              "outlinewidth": 0,
              "ticks": ""
             }
            },
            "type": "scatterternary"
           }
          ],
          "surface": [
           {
            "colorbar": {
             "outlinewidth": 0,
             "ticks": ""
            },
            "colorscale": [
             [
              0,
              "#0d0887"
             ],
             [
              0.1111111111111111,
              "#46039f"
             ],
             [
              0.2222222222222222,
              "#7201a8"
             ],
             [
              0.3333333333333333,
              "#9c179e"
             ],
             [
              0.4444444444444444,
              "#bd3786"
             ],
             [
              0.5555555555555556,
              "#d8576b"
             ],
             [
              0.6666666666666666,
              "#ed7953"
             ],
             [
              0.7777777777777778,
              "#fb9f3a"
             ],
             [
              0.8888888888888888,
              "#fdca26"
             ],
             [
              1,
              "#f0f921"
             ]
            ],
            "type": "surface"
           }
          ],
          "table": [
           {
            "cells": {
             "fill": {
              "color": "#EBF0F8"
             },
             "line": {
              "color": "white"
             }
            },
            "header": {
             "fill": {
              "color": "#C8D4E3"
             },
             "line": {
              "color": "white"
             }
            },
            "type": "table"
           }
          ]
         },
         "layout": {
          "annotationdefaults": {
           "arrowcolor": "#2a3f5f",
           "arrowhead": 0,
           "arrowwidth": 1
          },
          "autotypenumbers": "strict",
          "coloraxis": {
           "colorbar": {
            "outlinewidth": 0,
            "ticks": ""
           }
          },
          "colorscale": {
           "diverging": [
            [
             0,
             "#8e0152"
            ],
            [
             0.1,
             "#c51b7d"
            ],
            [
             0.2,
             "#de77ae"
            ],
            [
             0.3,
             "#f1b6da"
            ],
            [
             0.4,
             "#fde0ef"
            ],
            [
             0.5,
             "#f7f7f7"
            ],
            [
             0.6,
             "#e6f5d0"
            ],
            [
             0.7,
             "#b8e186"
            ],
            [
             0.8,
             "#7fbc41"
            ],
            [
             0.9,
             "#4d9221"
            ],
            [
             1,
             "#276419"
            ]
           ],
           "sequential": [
            [
             0,
             "#0d0887"
            ],
            [
             0.1111111111111111,
             "#46039f"
            ],
            [
             0.2222222222222222,
             "#7201a8"
            ],
            [
             0.3333333333333333,
             "#9c179e"
            ],
            [
             0.4444444444444444,
             "#bd3786"
            ],
            [
             0.5555555555555556,
             "#d8576b"
            ],
            [
             0.6666666666666666,
             "#ed7953"
            ],
            [
             0.7777777777777778,
             "#fb9f3a"
            ],
            [
             0.8888888888888888,
             "#fdca26"
            ],
            [
             1,
             "#f0f921"
            ]
           ],
           "sequentialminus": [
            [
             0,
             "#0d0887"
            ],
            [
             0.1111111111111111,
             "#46039f"
            ],
            [
             0.2222222222222222,
             "#7201a8"
            ],
            [
             0.3333333333333333,
             "#9c179e"
            ],
            [
             0.4444444444444444,
             "#bd3786"
            ],
            [
             0.5555555555555556,
             "#d8576b"
            ],
            [
             0.6666666666666666,
             "#ed7953"
            ],
            [
             0.7777777777777778,
             "#fb9f3a"
            ],
            [
             0.8888888888888888,
             "#fdca26"
            ],
            [
             1,
             "#f0f921"
            ]
           ]
          },
          "colorway": [
           "#636efa",
           "#EF553B",
           "#00cc96",
           "#ab63fa",
           "#FFA15A",
           "#19d3f3",
           "#FF6692",
           "#B6E880",
           "#FF97FF",
           "#FECB52"
          ],
          "font": {
           "color": "#2a3f5f"
          },
          "geo": {
           "bgcolor": "white",
           "lakecolor": "white",
           "landcolor": "white",
           "showlakes": true,
           "showland": true,
           "subunitcolor": "#C8D4E3"
          },
          "hoverlabel": {
           "align": "left"
          },
          "hovermode": "closest",
          "mapbox": {
           "style": "light"
          },
          "paper_bgcolor": "white",
          "plot_bgcolor": "white",
          "polar": {
           "angularaxis": {
            "gridcolor": "#EBF0F8",
            "linecolor": "#EBF0F8",
            "ticks": ""
           },
           "bgcolor": "white",
           "radialaxis": {
            "gridcolor": "#EBF0F8",
            "linecolor": "#EBF0F8",
            "ticks": ""
           }
          },
          "scene": {
           "xaxis": {
            "backgroundcolor": "white",
            "gridcolor": "#DFE8F3",
            "gridwidth": 2,
            "linecolor": "#EBF0F8",
            "showbackground": true,
            "ticks": "",
            "zerolinecolor": "#EBF0F8"
           },
           "yaxis": {
            "backgroundcolor": "white",
            "gridcolor": "#DFE8F3",
            "gridwidth": 2,
            "linecolor": "#EBF0F8",
            "showbackground": true,
            "ticks": "",
            "zerolinecolor": "#EBF0F8"
           },
           "zaxis": {
            "backgroundcolor": "white",
            "gridcolor": "#DFE8F3",
            "gridwidth": 2,
            "linecolor": "#EBF0F8",
            "showbackground": true,
            "ticks": "",
            "zerolinecolor": "#EBF0F8"
           }
          },
          "shapedefaults": {
           "line": {
            "color": "#2a3f5f"
           }
          },
          "ternary": {
           "aaxis": {
            "gridcolor": "#DFE8F3",
            "linecolor": "#A2B1C6",
            "ticks": ""
           },
           "baxis": {
            "gridcolor": "#DFE8F3",
            "linecolor": "#A2B1C6",
            "ticks": ""
           },
           "bgcolor": "white",
           "caxis": {
            "gridcolor": "#DFE8F3",
            "linecolor": "#A2B1C6",
            "ticks": ""
           }
          },
          "title": {
           "x": 0.05
          },
          "xaxis": {
           "automargin": true,
           "gridcolor": "#EBF0F8",
           "linecolor": "#EBF0F8",
           "ticks": "",
           "title": {
            "standoff": 15
           },
           "zerolinecolor": "#EBF0F8",
           "zerolinewidth": 2
          },
          "yaxis": {
           "automargin": true,
           "gridcolor": "#EBF0F8",
           "linecolor": "#EBF0F8",
           "ticks": "",
           "title": {
            "standoff": 15
           },
           "zerolinecolor": "#EBF0F8",
           "zerolinewidth": 2
          }
         }
        },
        "title": {
         "text": "2024-02-29 20:12: IV on DERIBIT BTC option for Expiry 8MAR24"
        },
        "xaxis": {
         "title": {
          "text": "Strike Price"
         }
        },
        "yaxis": {
         "title": {
          "text": "Implied Volatility (%)"
         }
        }
       }
      }
     },
     "metadata": {},
     "output_type": "display_data"
    }
   ],
   "source": [
    "fig = go.Figure()\n",
    "# Plot with error bars for bid/ask implied volatility\n",
    "fig.add_trace(go.Scatter(\n",
    "    x=df_option_with_vola_and_greeks['strike'],\n",
    "    y=(df_option_with_vola_and_greeks['bidVola_C']+df_option_with_vola_and_greeks['askVola_C'])/2,\n",
    "    error_y=dict(type='data', array=(df_option_with_vola_and_greeks['askVola_C'] - df_option_with_vola_and_greeks['bidVola_C']).abs()/2,\n",
    "        visible=True, color='blue'),\n",
    "    mode='markers',\n",
    "    name='Call IV (Bid/Ask Error Bar)',\n",
    "    marker=dict(color='blue', symbol='circle'),\n",
    "    opacity=0.8\n",
    "))\n",
    "fig.add_trace(go.Scatter(\n",
    "    x=df_option_with_vola_and_greeks['strike'],\n",
    "    y=(df_option_with_vola_and_greeks['bidVola_P']+df_option_with_vola_and_greeks['askVola_P'])/2,\n",
    "    error_y=dict(type='data', array=(df_option_with_vola_and_greeks['askVola_P'] - df_option_with_vola_and_greeks['bidVola_P']).abs()/2,\n",
    "        visible=True, color='orange'),\n",
    "    mode='markers',\n",
    "    name='Put IV (Bid/Ask Error Bar)',\n",
    "    marker=dict(color='orange', symbol='circle'),\n",
    "    opacity=0.8\n",
    "))\n",
    "\n",
    "fig.add_vline(x=df_option_with_vola_and_greeks['S'][0], line=dict(color='green', dash='dash'), name='Spot Price (S)')\n",
    "\n",
    "fig.update_layout(\n",
    "    title=f\"{snapshot_time.strftime('%Y-%m-%d %H:%M')}: IV on DERIBIT BTC option for Expiry {my_expiry}\",\n",
    "    xaxis_title=\"Strike Price\",\n",
    "    yaxis_title=\"Implied Volatility (%)\",\n",
    "    legend_title=\"Legend\",\n",
    "    template=\"plotly_white\"\n",
    ")\n",
    "fig.show()"
   ]
  },
  {
   "cell_type": "markdown",
   "id": "63136795",
   "metadata": {},
   "source": [
    "## 3. Model Initialization and Calibration"
   ]
  },
  {
   "cell_type": "code",
   "execution_count": 8,
   "id": "545ca052",
   "metadata": {},
   "outputs": [
    {
     "data": {
      "text/plain": [
       "TimeAdjustedCalibrationResult(success=True, parameters=TimeAdjustedWingModelParameters(atm_vol=np.float64(0.6998369742097663), slope=np.float64(0.044502875456347527), call_curve=np.float64(0.16589892726891303), put_curve=np.float64(0.23312841016301322), up_cutoff=np.float64(1.0), down_cutoff=np.float64(-1.0971511809853007), up_smoothing=np.float64(0.5), down_smoothing=np.float64(0.5371414870742401), forward_price=62229.04, time_to_expiry=0.020525114155251142), error=np.float64(100000.06450151306), message='Optimization terminated successfully')"
      ]
     },
     "execution_count": 8,
     "metadata": {},
     "output_type": "execute_result"
    }
   ],
   "source": [
    "from utils.volatility_fitter.time_adjusted_wing_model.time_adjusted_wing_model_calibrator import TimeAdjustedWingModelCalibrator\n",
    "\n",
    "my_calibrator = TimeAdjustedWingModelCalibrator(use_norm_term=True)\n",
    "\n",
    "strikes = df_option_with_vola_and_greeks['strike'].to_list()\n",
    "mid_vola = (df_option_with_vola_and_greeks['midVola']/100).to_list() \n",
    "market_vegas = df_option_with_vola_and_greeks['vega'].to_list()\n",
    "weights = (df_option_with_vola_and_greeks['vega'] / max(market_vegas)).to_list()\n",
    "\n",
    "# fitter_result =\\\n",
    "my_calibrator.calibrate(strike_list=strikes, market_vol_list=mid_vola, market_vega_list=market_vegas, weight_list=weights, forward_price=forward_price, time_to_expiry=time_to_expiry)\n",
    "# fitter_result"
   ]
  },
  {
   "cell_type": "code",
   "execution_count": 9,
   "id": "94c2221e",
   "metadata": {},
   "outputs": [
    {
     "name": "stdout",
     "output_type": "stream",
     "text": [
      "     message: Optimization terminated successfully\n",
      "     success: True\n",
      "      status: 0\n",
      "         fun: 0.06356804225030342\n",
      "           x: [ 6.997e-01  4.097e-02  1.884e-01  2.251e-01  4.920e-01\n",
      "               -1.325e+00  6.730e-01  1.518e+00]\n",
      "         nit: 24\n",
      "         jac: [ 6.482e-02  1.110e-02  4.347e-03 -5.255e-03 -9.892e-05\n",
      "               -9.730e-06 -1.024e-03  3.865e-07]\n",
      "        nfev: 235\n",
      "        njev: 24\n",
      " multipliers: []\n",
      "🔄 Calibrating Time-Adjusted Wing Model. RMSE: 0.063568\n",
      "atm_vol        : 0.69968\n",
      "slope          : 0.04097\n",
      "call_curve     : 0.18842\n",
      "put_curve      : 0.22508\n",
      "up_cutoff      : 0.49195\n",
      "down_cutoff    : -1.32469\n",
      "up_smoothing   : 0.67303\n",
      "down_smoothing : 1.51799\n"
     ]
    }
   ],
   "source": [
    "from scipy import optimize\n",
    "from utils.volatility_fitter.time_adjusted_wing_model.time_adjusted_wing_model_calibrator import TimeAdjustedCalibrationResult, create_time_adjusted_wing_model_from_result\n",
    "# for i in range(5):\n",
    "#     weights[i] = 1\n",
    "args = (strikes, mid_vola, market_vegas, weights, forward_price, time_to_expiry, True)\n",
    "initial_guess = [\n",
    "            0.726,    # atm_vol\n",
    "            0.12,                # slope\n",
    "            0.251,                # curve_up\n",
    "            0.37,                # curve_down\n",
    "            0.5,                # cut_up\n",
    "            -0.85,               # cut_dn\n",
    "            0.5,                # mSmUp\n",
    "            1.5                 # mSmDn\n",
    "        ]\n",
    "# initial_guess = my_optimized_paramter.get_fitted_vol_parameter()\n",
    "\n",
    "result=\\\n",
    "optimize.minimize(\n",
    "    fun=my_calibrator._loss_function,\n",
    "    x0=initial_guess,\n",
    "    args=args,\n",
    "    method=my_calibrator.method,\n",
    "    bounds=my_calibrator._get_parameter_bounds(),\n",
    "    # tol=my_calibrator.tolerance\n",
    ")\n",
    "print(result)\n",
    "my_optimized_paramter = create_time_adjusted_wing_model_from_result(result.x, forward_price, time_to_expiry)\n",
    "fitter_result = TimeAdjustedCalibrationResult(success=result.success, parameters=my_optimized_paramter, error=result.fun, message=result.message if hasattr(result, 'message') else \"\")\n",
    "print(f\"🔄 Calibrating Time-Adjusted Wing Model. RMSE: {fitter_result.error:.6f}\")\n",
    "\n",
    "for param, value in zip(my_optimized_paramter.get_parameter_names(), my_optimized_paramter.get_fitted_vol_parameter()):\n",
    "    print(f\"{param:15}: {value:.5f}\")"
   ]
  },
  {
   "cell_type": "markdown",
   "id": "e75f0e3a",
   "metadata": {},
   "source": [
    "## 4. Volatility Surface Analysis"
   ]
  },
  {
   "cell_type": "code",
   "execution_count": 17,
   "id": "ad2523b3",
   "metadata": {},
   "outputs": [],
   "source": [
    "# my_optimized_paramter.down_cutoff = -0.25\n",
    "# my_optimized_paramter.down_smoothing = 1.5"
   ]
  },
  {
   "cell_type": "code",
   "execution_count": 18,
   "id": "7b7a2b12",
   "metadata": {},
   "outputs": [
    {
     "name": "stdout",
     "output_type": "stream",
     "text": [
      "📈 Generated volatility surface with 71 points\n",
      "   Strike range: $10,000 - $116,000\n",
      "   Vol range: 69.8% - 159.9%\n"
     ]
    }
   ],
   "source": [
    "my_model = TimeAdjustedWingModel(parameters=my_optimized_paramter)\n",
    "# Generate fitted volatility surface\n",
    "strikes = df_option_with_vola_and_greeks['strike']\n",
    "mid_vola = df_option_with_vola_and_greeks['midVola']/100  # Convert from percentage to decimal\n",
    "bid_vola = df_option_with_vola_and_greeks['bidVola']/100  # Convert from percentage to decimal\n",
    "ask_vola = df_option_with_vola_and_greeks['askVola']/100  # Convert from percentage to decimal\n",
    "\n",
    "# Get fitted volatilities\n",
    "fitted_vols = []\n",
    "if (use_extended_strikes:=True):\n",
    "    extended_strikes = sorted(np.linspace(start=10000, stop=strikes[0], endpoint=False, num=10).tolist() +\n",
    "                              strikes.to_list() + \n",
    "                              [strikes[-1]+(x+1)*2000 for x in range(20)])\n",
    "else:\n",
    "    extended_strikes = strikes\n",
    "for strike in extended_strikes:\n",
    "    # print(strike, my_model.calculate_moneyness(forward_price, strike, time_to_expiry, my_optimized_paramter.atm_vol))    \n",
    "    fitted_vols.append(my_model.calculate_volatility_from_strike(strike))\n",
    "\n",
    "print(f\"📈 Generated volatility surface with {len(fitted_vols)} points\")\n",
    "print(f\"   Strike range: ${min(extended_strikes):,.0f} - ${max(extended_strikes):,.0f}\")\n",
    "print(f\"   Vol range: {min(fitted_vols):.1%} - {max(fitted_vols):.1%}\")"
   ]
  },
  {
   "cell_type": "code",
   "execution_count": 19,
   "id": "c14c7c34",
   "metadata": {},
   "outputs": [
    {
     "name": "stdout",
     "output_type": "stream",
     "text": [
      "Different ranges on the curve: {'downSmoothing': np.float64(27116.251226401215), 'downCutOff': np.float64(44878.062009974674), 'upCutOff': np.float64(70746.47399318326), 'upSmoothing': np.float64(76865.62075711225)}\n"
     ]
    },
    {
     "data": {
      "application/vnd.plotly.v1+json": {
       "config": {
        "plotlyServerURL": "https://plot.ly"
       },
       "data": [
        {
         "error_y": {
          "array": {
           "bdata": "gPs6cM6Ioj9AYcPTK2WZP2CoNc07TqE/oDws1JrmnT9AKqkT0ESYPyD4wmSqYJQ/YJ7Nqs/Vlj9gwaikTkCTP0BVMCqpE5A/4P6ye/KwkD8AliGOdXGLP4BJDAIrh4Y/ADQRNjy9kj9AjErqBDSRP8AA3gIJio8/AFvTvOMUfT/AXUvIBz2LP4Ao7Q2+MIk/wJwRpb3Bhz9AETY8vVKGP4D2Bl+YTIU/wNvXgXNGhD9AMlUwKqmDPwCJ0t7gC4M/AN9PjZdugj8AliGOdXF7P4BkO99PjYc/AJAxdy0hfz/ANc07TtGBP4DEILByaIE/wKZ5xyk6gj+AUPwYc9eCP4DBqKROQHM/QDJVMCqpgz+AFK5H4Xp0P4D2Bl+YTIU/gH9qvHSTeD8A5q4l5IOOP8BqK/aX3YM/QEMc6+I2ij8ATYQNT6+EPw==",
           "dtype": "f8"
          },
          "arrayminus": {
           "bdata": "YG3F/rJ7oj8AYcPTK2WZP0AawFsgQaE/YCBB8WPMnT9AKqkT0ESYP2D4wmSqYJQ/oJ7Nqs/Vlj8Apb3BFyaTP4BxGw3gLZA/wP6ye/KwkD/AXUvIBz2LPwBKDAIrh4Y/QFD8GHPXkj/Ab18HzhmRP8AA3gIJio8/AFrTvOMUfT+AJXUCmgiLPwDwFkhQ/Ig/QGQ730+Nhz+ASQwCK4eGPwC+MJkqGIU/wNvXgXNGhD/A+X5qvHSDP0BQ/Bhz14I/QN9PjZdugj8ACM4ZUdp7P4BkO99PjYc/gB6F61G4fj9AbqMBvAWCP0CMSuoENIE/AN9PjZdugj+AFyZTBaOCPwDBqKROQHM/gDJVMCqpgz+AFK5H4Xp0PwC+MJkqGIU/gH5qvHSTeD/AHoXrUbiOP8AyVTAqqYM/QEMc6+I2ij+AhVrTvOOEPw==",
           "dtype": "f8"
          },
          "color": "blue",
          "symmetric": false,
          "thickness": 2,
          "type": "data",
          "visible": true,
          "width": 3
         },
         "marker": {
          "color": "blue",
          "size": 8,
          "symbol": "circle"
         },
         "mode": "markers",
         "name": "Market IV (Bid/Ask Range)",
         "opacity": 0.8,
         "type": "scatter",
         "x": {
          "bdata": "EKQAAOCrAADIrwAAsLMAAJi3AACAuwAAaL8AAFDDAAA4xwAAIMsAAAjPAADw0gAA2NYAAMzYAADA2gAAtNwAAKjeAACc4AAAkOIAAITkAAB45gAAbOgAAGDqAABU7AAASO4AADzwAAAw8gAAJPQAABj2AAAM+AAAAPoAAPT7AADo/QAA3P8AANABAQDEAwEAoAkBAHARAQBAGQEAECEBAOAoAQA=",
          "dtype": "i4"
         },
         "y": {
          "bdata": "xEKtad5x8j+itDf4wmTxP+m3rwPnjPA/LbKd76fG7z+IhVrTvOPuPxALtaZ5x+0/PptVn6ut7D+neccpOpLrPwdfmEwVjOo/yAc9m1Wf6T/E0ytlGeLoP8dtNIC3QOg/gNk9eVio5z841sVtNIDnP57vp8ZLN+c/zojS3uAL5z8FNBE2PL3mP7bz/dR46eY/Q61p3nGK5j8qGJXUCWjmP02mCkYldeY/CYofY+5a5j/vycNCrWnmP29fB84ZUeY/ku18PzVe5j9ebcX+snvmP8BbIEHxY+Y/O99PjZdu5j+I9NvXgXPmP1afq63YX+Y/dy0hH/Rs5j/BFyZTBaPmP9zXgXNGlOY/j1N0JJf/5j+t+lxtxf7mP2+BBMWPMec/kst/SL995z+7uI0G8BboP6w+V1uxv+g/9rnaiv1l6T+k374OnDPqPw==",
          "dtype": "f8"
         }
        },
        {
         "line": {
          "color": "black",
          "dash": "solid",
          "width": 3
         },
         "marker": {
          "color": "black",
          "size": 10,
          "symbol": "diamond"
         },
         "mode": "lines+markers",
         "name": "TimeAdjustedWingModel Fit",
         "opacity": 0.5,
         "type": "scatter",
         "x": [
          10000,
          13200,
          16400,
          19600,
          22800,
          26000,
          29200,
          32400,
          35600,
          38800,
          42000,
          44000,
          45000,
          46000,
          47000,
          48000,
          49000,
          50000,
          51000,
          52000,
          53000,
          54000,
          55000,
          55500,
          56000,
          56500,
          57000,
          57500,
          58000,
          58500,
          59000,
          59500,
          60000,
          60500,
          61000,
          61500,
          62000,
          62500,
          63000,
          63500,
          64000,
          64500,
          65000,
          65500,
          66000,
          66500,
          68000,
          70000,
          72000,
          74000,
          76000,
          78000,
          80000,
          82000,
          84000,
          86000,
          88000,
          90000,
          92000,
          94000,
          96000,
          98000,
          100000,
          102000,
          104000,
          106000,
          108000,
          110000,
          112000,
          114000,
          116000
         ],
         "y": [
          1.5987507331073962,
          1.5987507331073962,
          1.5987507331073962,
          1.5987507331073962,
          1.5987507331073962,
          1.5987507331073962,
          1.586693152222977,
          1.5290329946496444,
          1.4357475122064807,
          1.316365170463528,
          1.1776279865335901,
          1.083317657360588,
          1.034390192184712,
          0.9878321186441719,
          0.9456286434160512,
          0.9075265342971117,
          0.8732910768670767,
          0.8427044067130719,
          0.8155640202387666,
          0.7916814419562234,
          0.7708810292523538,
          0.7529988982340834,
          0.7378819564690973,
          0.7313153244406305,
          0.7253870303194793,
          0.7200805978303229,
          0.7153800761684752,
          0.7112700192953162,
          0.7077354662109921,
          0.70476192215059,
          0.7023353406533753,
          0.7004421064578255,
          0.699069019178106,
          0.6982032777203694,
          0.6978324653997716,
          0.6979445357214777,
          0.6985277987911127,
          0.6995709083221733,
          0.7010318211004312,
          0.7028580975045494,
          0.7050407984594048,
          0.7075715023974161,
          0.7104420270652857,
          0.7136444211759099,
          0.7171709564084021,
          0.7210141197393123,
          0.7343713252112801,
          0.7561927050257186,
          0.7796267871526066,
          0.7950520967653794,
          0.8022142830981913,
          0.8029127436983697,
          0.8029127436983697,
          0.8029127436983697,
          0.8029127436983697,
          0.8029127436983697,
          0.8029127436983697,
          0.8029127436983697,
          0.8029127436983697,
          0.8029127436983697,
          0.8029127436983697,
          0.8029127436983697,
          0.8029127436983697,
          0.8029127436983697,
          0.8029127436983697,
          0.8029127436983697,
          0.8029127436983697,
          0.8029127436983697,
          0.8029127436983697,
          0.8029127436983697,
          0.8029127436983697
         ]
        }
       ],
       "layout": {
        "annotations": [
         {
          "showarrow": false,
          "text": "Forward: 62229",
          "x": 62229.04,
          "xanchor": "left",
          "xref": "x",
          "y": 1,
          "yanchor": "top",
          "yref": "y domain"
         },
         {
          "font": {
           "color": "green",
           "size": 10
          },
          "showarrow": false,
          "text": "DSm:27116",
          "x": 27116.251226401215,
          "xanchor": "center",
          "xref": "x",
          "y": 0,
          "yanchor": "top",
          "yref": "y domain"
         },
         {
          "font": {
           "color": "green",
           "size": 10
          },
          "showarrow": false,
          "text": "DCO:44878",
          "x": 44878.062009974674,
          "xanchor": "center",
          "xref": "x",
          "y": 0,
          "yanchor": "top",
          "yref": "y domain"
         },
         {
          "font": {
           "color": "green",
           "size": 10
          },
          "showarrow": false,
          "text": "UCO:70746",
          "x": 70746.47399318326,
          "xanchor": "center",
          "xref": "x",
          "y": 0,
          "yanchor": "top",
          "yref": "y domain"
         },
         {
          "font": {
           "color": "green",
           "size": 10
          },
          "showarrow": false,
          "text": "USm:76866",
          "x": 76865.62075711225,
          "xanchor": "center",
          "xref": "x",
          "y": 0,
          "yanchor": "top",
          "yref": "y domain"
         }
        ],
        "height": 500,
        "shapes": [
         {
          "line": {
           "color": "purple",
           "dash": "dot",
           "width": 2
          },
          "type": "line",
          "x0": 62229.04,
          "x1": 62229.04,
          "xref": "x",
          "y0": 0,
          "y1": 1,
          "yref": "y domain"
         },
         {
          "line": {
           "color": "green",
           "dash": "dot",
           "width": 1
          },
          "type": "line",
          "x0": 27116.251226401215,
          "x1": 27116.251226401215,
          "xref": "x",
          "y0": 0,
          "y1": 1,
          "yref": "y domain"
         },
         {
          "line": {
           "color": "green",
           "dash": "dot",
           "width": 1
          },
          "type": "line",
          "x0": 44878.062009974674,
          "x1": 44878.062009974674,
          "xref": "x",
          "y0": 0,
          "y1": 1,
          "yref": "y domain"
         },
         {
          "line": {
           "color": "green",
           "dash": "dot",
           "width": 1
          },
          "type": "line",
          "x0": 70746.47399318326,
          "x1": 70746.47399318326,
          "xref": "x",
          "y0": 0,
          "y1": 1,
          "yref": "y domain"
         },
         {
          "line": {
           "color": "green",
           "dash": "dot",
           "width": 1
          },
          "type": "line",
          "x0": 76865.62075711225,
          "x1": 76865.62075711225,
          "xref": "x",
          "y0": 0,
          "y1": 1,
          "yref": "y domain"
         }
        ],
        "template": {
         "data": {
          "bar": [
           {
            "error_x": {
             "color": "#2a3f5f"
            },
            "error_y": {
             "color": "#2a3f5f"
            },
            "marker": {
             "line": {
              "color": "#E5ECF6",
              "width": 0.5
             },
             "pattern": {
              "fillmode": "overlay",
              "size": 10,
              "solidity": 0.2
             }
            },
            "type": "bar"
           }
          ],
          "barpolar": [
           {
            "marker": {
             "line": {
              "color": "#E5ECF6",
              "width": 0.5
             },
             "pattern": {
              "fillmode": "overlay",
              "size": 10,
              "solidity": 0.2
             }
            },
            "type": "barpolar"
           }
          ],
          "carpet": [
           {
            "aaxis": {
             "endlinecolor": "#2a3f5f",
             "gridcolor": "white",
             "linecolor": "white",
             "minorgridcolor": "white",
             "startlinecolor": "#2a3f5f"
            },
            "baxis": {
             "endlinecolor": "#2a3f5f",
             "gridcolor": "white",
             "linecolor": "white",
             "minorgridcolor": "white",
             "startlinecolor": "#2a3f5f"
            },
            "type": "carpet"
           }
          ],
          "choropleth": [
           {
            "colorbar": {
             "outlinewidth": 0,
             "ticks": ""
            },
            "type": "choropleth"
           }
          ],
          "contour": [
           {
            "colorbar": {
             "outlinewidth": 0,
             "ticks": ""
            },
            "colorscale": [
             [
              0,
              "#0d0887"
             ],
             [
              0.1111111111111111,
              "#46039f"
             ],
             [
              0.2222222222222222,
              "#7201a8"
             ],
             [
              0.3333333333333333,
              "#9c179e"
             ],
             [
              0.4444444444444444,
              "#bd3786"
             ],
             [
              0.5555555555555556,
              "#d8576b"
             ],
             [
              0.6666666666666666,
              "#ed7953"
             ],
             [
              0.7777777777777778,
              "#fb9f3a"
             ],
             [
              0.8888888888888888,
              "#fdca26"
             ],
             [
              1,
              "#f0f921"
             ]
            ],
            "type": "contour"
           }
          ],
          "contourcarpet": [
           {
            "colorbar": {
             "outlinewidth": 0,
             "ticks": ""
            },
            "type": "contourcarpet"
           }
          ],
          "heatmap": [
           {
            "colorbar": {
             "outlinewidth": 0,
             "ticks": ""
            },
            "colorscale": [
             [
              0,
              "#0d0887"
             ],
             [
              0.1111111111111111,
              "#46039f"
             ],
             [
              0.2222222222222222,
              "#7201a8"
             ],
             [
              0.3333333333333333,
              "#9c179e"
             ],
             [
              0.4444444444444444,
              "#bd3786"
             ],
             [
              0.5555555555555556,
              "#d8576b"
             ],
             [
              0.6666666666666666,
              "#ed7953"
             ],
             [
              0.7777777777777778,
              "#fb9f3a"
             ],
             [
              0.8888888888888888,
              "#fdca26"
             ],
             [
              1,
              "#f0f921"
             ]
            ],
            "type": "heatmap"
           }
          ],
          "histogram": [
           {
            "marker": {
             "pattern": {
              "fillmode": "overlay",
              "size": 10,
              "solidity": 0.2
             }
            },
            "type": "histogram"
           }
          ],
          "histogram2d": [
           {
            "colorbar": {
             "outlinewidth": 0,
             "ticks": ""
            },
            "colorscale": [
             [
              0,
              "#0d0887"
             ],
             [
              0.1111111111111111,
              "#46039f"
             ],
             [
              0.2222222222222222,
              "#7201a8"
             ],
             [
              0.3333333333333333,
              "#9c179e"
             ],
             [
              0.4444444444444444,
              "#bd3786"
             ],
             [
              0.5555555555555556,
              "#d8576b"
             ],
             [
              0.6666666666666666,
              "#ed7953"
             ],
             [
              0.7777777777777778,
              "#fb9f3a"
             ],
             [
              0.8888888888888888,
              "#fdca26"
             ],
             [
              1,
              "#f0f921"
             ]
            ],
            "type": "histogram2d"
           }
          ],
          "histogram2dcontour": [
           {
            "colorbar": {
             "outlinewidth": 0,
             "ticks": ""
            },
            "colorscale": [
             [
              0,
              "#0d0887"
             ],
             [
              0.1111111111111111,
              "#46039f"
             ],
             [
              0.2222222222222222,
              "#7201a8"
             ],
             [
              0.3333333333333333,
              "#9c179e"
             ],
             [
              0.4444444444444444,
              "#bd3786"
             ],
             [
              0.5555555555555556,
              "#d8576b"
             ],
             [
              0.6666666666666666,
              "#ed7953"
             ],
             [
              0.7777777777777778,
              "#fb9f3a"
             ],
             [
              0.8888888888888888,
              "#fdca26"
             ],
             [
              1,
              "#f0f921"
             ]
            ],
            "type": "histogram2dcontour"
           }
          ],
          "mesh3d": [
           {
            "colorbar": {
             "outlinewidth": 0,
             "ticks": ""
            },
            "type": "mesh3d"
           }
          ],
          "parcoords": [
           {
            "line": {
             "colorbar": {
              "outlinewidth": 0,
              "ticks": ""
             }
            },
            "type": "parcoords"
           }
          ],
          "pie": [
           {
            "automargin": true,
            "type": "pie"
           }
          ],
          "scatter": [
           {
            "fillpattern": {
             "fillmode": "overlay",
             "size": 10,
             "solidity": 0.2
            },
            "type": "scatter"
           }
          ],
          "scatter3d": [
           {
            "line": {
             "colorbar": {
              "outlinewidth": 0,
              "ticks": ""
             }
            },
            "marker": {
             "colorbar": {
              "outlinewidth": 0,
              "ticks": ""
             }
            },
            "type": "scatter3d"
           }
          ],
          "scattercarpet": [
           {
            "marker": {
             "colorbar": {
              "outlinewidth": 0,
              "ticks": ""
             }
            },
            "type": "scattercarpet"
           }
          ],
          "scattergeo": [
           {
            "marker": {
             "colorbar": {
              "outlinewidth": 0,
              "ticks": ""
             }
            },
            "type": "scattergeo"
           }
          ],
          "scattergl": [
           {
            "marker": {
             "colorbar": {
              "outlinewidth": 0,
              "ticks": ""
             }
            },
            "type": "scattergl"
           }
          ],
          "scattermap": [
           {
            "marker": {
             "colorbar": {
              "outlinewidth": 0,
              "ticks": ""
             }
            },
            "type": "scattermap"
           }
          ],
          "scattermapbox": [
           {
            "marker": {
             "colorbar": {
              "outlinewidth": 0,
              "ticks": ""
             }
            },
            "type": "scattermapbox"
           }
          ],
          "scatterpolar": [
           {
            "marker": {
             "colorbar": {
              "outlinewidth": 0,
              "ticks": ""
             }
            },
            "type": "scatterpolar"
           }
          ],
          "scatterpolargl": [
           {
            "marker": {
             "colorbar": {
              "outlinewidth": 0,
              "ticks": ""
             }
            },
            "type": "scatterpolargl"
           }
          ],
          "scatterternary": [
           {
            "marker": {
             "colorbar": {
              "outlinewidth": 0,
              "ticks": ""
             }
            },
            "type": "scatterternary"
           }
          ],
          "surface": [
           {
            "colorbar": {
             "outlinewidth": 0,
             "ticks": ""
            },
            "colorscale": [
             [
              0,
              "#0d0887"
             ],
             [
              0.1111111111111111,
              "#46039f"
             ],
             [
              0.2222222222222222,
              "#7201a8"
             ],
             [
              0.3333333333333333,
              "#9c179e"
             ],
             [
              0.4444444444444444,
              "#bd3786"
             ],
             [
              0.5555555555555556,
              "#d8576b"
             ],
             [
              0.6666666666666666,
              "#ed7953"
             ],
             [
              0.7777777777777778,
              "#fb9f3a"
             ],
             [
              0.8888888888888888,
              "#fdca26"
             ],
             [
              1,
              "#f0f921"
             ]
            ],
            "type": "surface"
           }
          ],
          "table": [
           {
            "cells": {
             "fill": {
              "color": "#EBF0F8"
             },
             "line": {
              "color": "white"
             }
            },
            "header": {
             "fill": {
              "color": "#C8D4E3"
             },
             "line": {
              "color": "white"
             }
            },
            "type": "table"
           }
          ]
         },
         "layout": {
          "annotationdefaults": {
           "arrowcolor": "#2a3f5f",
           "arrowhead": 0,
           "arrowwidth": 1
          },
          "autotypenumbers": "strict",
          "coloraxis": {
           "colorbar": {
            "outlinewidth": 0,
            "ticks": ""
           }
          },
          "colorscale": {
           "diverging": [
            [
             0,
             "#8e0152"
            ],
            [
             0.1,
             "#c51b7d"
            ],
            [
             0.2,
             "#de77ae"
            ],
            [
             0.3,
             "#f1b6da"
            ],
            [
             0.4,
             "#fde0ef"
            ],
            [
             0.5,
             "#f7f7f7"
            ],
            [
             0.6,
             "#e6f5d0"
            ],
            [
             0.7,
             "#b8e186"
            ],
            [
             0.8,
             "#7fbc41"
            ],
            [
             0.9,
             "#4d9221"
            ],
            [
             1,
             "#276419"
            ]
           ],
           "sequential": [
            [
             0,
             "#0d0887"
            ],
            [
             0.1111111111111111,
             "#46039f"
            ],
            [
             0.2222222222222222,
             "#7201a8"
            ],
            [
             0.3333333333333333,
             "#9c179e"
            ],
            [
             0.4444444444444444,
             "#bd3786"
            ],
            [
             0.5555555555555556,
             "#d8576b"
            ],
            [
             0.6666666666666666,
             "#ed7953"
            ],
            [
             0.7777777777777778,
             "#fb9f3a"
            ],
            [
             0.8888888888888888,
             "#fdca26"
            ],
            [
             1,
             "#f0f921"
            ]
           ],
           "sequentialminus": [
            [
             0,
             "#0d0887"
            ],
            [
             0.1111111111111111,
             "#46039f"
            ],
            [
             0.2222222222222222,
             "#7201a8"
            ],
            [
             0.3333333333333333,
             "#9c179e"
            ],
            [
             0.4444444444444444,
             "#bd3786"
            ],
            [
             0.5555555555555556,
             "#d8576b"
            ],
            [
             0.6666666666666666,
             "#ed7953"
            ],
            [
             0.7777777777777778,
             "#fb9f3a"
            ],
            [
             0.8888888888888888,
             "#fdca26"
            ],
            [
             1,
             "#f0f921"
            ]
           ]
          },
          "colorway": [
           "#636efa",
           "#EF553B",
           "#00cc96",
           "#ab63fa",
           "#FFA15A",
           "#19d3f3",
           "#FF6692",
           "#B6E880",
           "#FF97FF",
           "#FECB52"
          ],
          "font": {
           "color": "#2a3f5f"
          },
          "geo": {
           "bgcolor": "white",
           "lakecolor": "white",
           "landcolor": "#E5ECF6",
           "showlakes": true,
           "showland": true,
           "subunitcolor": "white"
          },
          "hoverlabel": {
           "align": "left"
          },
          "hovermode": "closest",
          "mapbox": {
           "style": "light"
          },
          "paper_bgcolor": "white",
          "plot_bgcolor": "#E5ECF6",
          "polar": {
           "angularaxis": {
            "gridcolor": "white",
            "linecolor": "white",
            "ticks": ""
           },
           "bgcolor": "#E5ECF6",
           "radialaxis": {
            "gridcolor": "white",
            "linecolor": "white",
            "ticks": ""
           }
          },
          "scene": {
           "xaxis": {
            "backgroundcolor": "#E5ECF6",
            "gridcolor": "white",
            "gridwidth": 2,
            "linecolor": "white",
            "showbackground": true,
            "ticks": "",
            "zerolinecolor": "white"
           },
           "yaxis": {
            "backgroundcolor": "#E5ECF6",
            "gridcolor": "white",
            "gridwidth": 2,
            "linecolor": "white",
            "showbackground": true,
            "ticks": "",
            "zerolinecolor": "white"
           },
           "zaxis": {
            "backgroundcolor": "#E5ECF6",
            "gridcolor": "white",
            "gridwidth": 2,
            "linecolor": "white",
            "showbackground": true,
            "ticks": "",
            "zerolinecolor": "white"
           }
          },
          "shapedefaults": {
           "line": {
            "color": "#2a3f5f"
           }
          },
          "ternary": {
           "aaxis": {
            "gridcolor": "white",
            "linecolor": "white",
            "ticks": ""
           },
           "baxis": {
            "gridcolor": "white",
            "linecolor": "white",
            "ticks": ""
           },
           "bgcolor": "#E5ECF6",
           "caxis": {
            "gridcolor": "white",
            "linecolor": "white",
            "ticks": ""
           }
          },
          "title": {
           "x": 0.05
          },
          "xaxis": {
           "automargin": true,
           "gridcolor": "white",
           "linecolor": "white",
           "ticks": "",
           "title": {
            "standoff": 15
           },
           "zerolinecolor": "white",
           "zerolinewidth": 2
          },
          "yaxis": {
           "automargin": true,
           "gridcolor": "white",
           "linecolor": "white",
           "ticks": "",
           "title": {
            "standoff": 15
           },
           "zerolinecolor": "white",
           "zerolinewidth": 2
          }
         }
        },
        "title": {
         "text": "2024-02-29 20:12:00: TimeAdjustedWingModel vs Market Data - 8MAR24 Expiry<br><span style='font-size:14px'>Forward: 62229 | τ: 0.0205 | RMSE: 0.063568<br> atm_vol=0.700 | slope=0.041 | call_curve=0.188 | put_curve=0.225 | up_cutoff=0.492 | down_cutoff=-1.325 | up_smoothing=0.673 | down_smoothing=1.518</span>",
         "x": 0.5
        },
        "xaxis": {
         "range": [
          39900,
          79800
         ],
         "title": {
          "text": "Strike Price ($)"
         }
        },
        "yaxis": {
         "title": {
          "text": "Implied Volatility (%)"
         }
        }
       }
      }
     },
     "metadata": {},
     "output_type": "display_data"
    }
   ],
   "source": [
    "# Create volatility smile plot\n",
    "fig = go.Figure()\n",
    "\n",
    "# Add market volatility with bid/ask error bars\n",
    "fig.add_trace(go.Scatter(\n",
    "    x=strikes, y=mid_vola, mode='markers', name='Market IV (Bid/Ask Range)',\n",
    "    marker=dict(color='blue', symbol='circle', size=8),\n",
    "    error_y=dict(type='data', symmetric=False, array=ask_vola-mid_vola, arrayminus=mid_vola-bid_vola,\n",
    "                 visible=True, color='blue', thickness=2, width=3),\n",
    "    opacity=0.8\n",
    "))\n",
    "\n",
    "# Add the fitted volatility curve\n",
    "fig.add_trace(go.Scatter(\n",
    "    x=extended_strikes, y=fitted_vols, mode='lines+markers',\n",
    "    name=f'{(model_name:=my_model.__class__.__name__)} Fit',\n",
    "    line=dict(color='black', width=3, dash='solid'),\n",
    "    marker=dict(color='black', symbol='diamond', size=10),\n",
    "    opacity=0.5\n",
    "))\n",
    "# Add vertical lines for reference\n",
    "forward_price = df_option_with_vola_and_greeks['F'][0]    \n",
    "fig.add_vline(x=forward_price, line=dict(color='purple', dash='dot', width=2), annotation_text=f\"Forward: {forward_price:.0f}\")\n",
    "\n",
    "# Add vertical lines for different ranges\n",
    "strike_ranges = my_model.get_strike_ranges()\n",
    "print(f\"Different ranges on the curve: {strike_ranges}\")\n",
    "fig.add_vline(x=(_price:=strike_ranges['downSmoothing']), line=(line_dict:=dict(color='green', dash='dot', width=1)), \n",
    "              annotation_text=f\"DSm:{_price:.0f}\", annotation_position=\"bottom\", annotation_font=(font_dict:=dict(size=10, color=\"green\")),)\n",
    "fig.add_vline(x=(_price:=strike_ranges['downCutOff']), line=line_dict,     annotation_text=f\"DCO:{_price:.0f}\", annotation_position=\"bottom\", annotation_font=font_dict)\n",
    "fig.add_vline(x=(_price:=strike_ranges['upCutOff']), line=line_dict, annotation_text=f\"UCO:{_price:.0f}\", annotation_position=\"bottom\", annotation_font=font_dict)\n",
    "fig.add_vline(x=(_price:=strike_ranges['upSmoothing']), line=line_dict,   annotation_text=f\"USm:{_price:.0f}\", annotation_position=\"bottom\", annotation_font=font_dict)\n",
    "\n",
    "param_names = my_optimized_paramter.get_parameter_names()\n",
    "param_values = my_optimized_paramter.get_fitted_vol_parameter()\n",
    "param_string = \" | \".join([f\"{name}={value:.3f}\" for name, value in zip(param_names, param_values)])\n",
    "ts = df_option_with_vola_and_greeks['timestamp'][0]\n",
    "title = f\"{ts}: {model_name} vs Market Data - {my_expiry} Expiry\"\n",
    "fig.update_layout(\n",
    "    title=dict(\n",
    "        text=f\"{title}<br><span style='font-size:14px'>Forward: {forward_price:.0f} | τ: {time_to_expiry:.4f} | RMSE: {fitter_result.error:.6f}<br> {param_string}</span>\",\n",
    "        x=0.5\n",
    "    ),\n",
    "    xaxis_title='Strike Price ($)',\n",
    "    yaxis_title='Implied Volatility (%)',\n",
    "    height=500\n",
    ")\n",
    "fig.update_xaxes(range=[strikes[0]*0.95, strikes[-1]*1.05])\n",
    "\n",
    "fig.show()"
   ]
  },
  {
   "cell_type": "code",
   "execution_count": 20,
   "id": "3fedb24a",
   "metadata": {},
   "outputs": [],
   "source": [
    "from utils.pricer.black76_option_pricer import Black76OptionPricer\n",
    "\n",
    "df_option_with_vola_and_greeks['strike']\n",
    "df_option_with_vola_and_greeks =\\\n",
    "df_option_with_vola_and_greeks.with_columns([\n",
    "    pl.struct(['strike']).map_elements(\n",
    "        lambda row: my_model.calculate_volatility_from_strike(row['strike'])*100, return_dtype=pl.Float64\n",
    "    ).round(2).alias('fitted_vol')\n",
    "]).with_columns([\n",
    "    # Calculate option prices and Greeks using fitted volatility\n",
    "    pl.struct(['F', 'strike', 'tau', 'r', 'fitted_vol']).map_elements(\n",
    "        lambda row: Black76OptionPricer(F=row['F'], K=row['strike'], T=row['tau'], r=row['r'], sigma=row['fitted_vol']/100).call_price(), return_dtype=pl.Float64\n",
    "    ).round(2).alias('TV_C'),\n",
    "    \n",
    "    pl.struct(['F', 'strike', 'tau', 'r', 'fitted_vol']).map_elements(\n",
    "        lambda row: Black76OptionPricer(F=row['F'], K=row['strike'], T=row['tau'], r=row['r'], sigma=row['fitted_vol']/100).put_price(), return_dtype=pl.Float64\n",
    "    ).round(2).alias('TV_P'),\n",
    "    \n",
    "    pl.struct(['F', 'strike', 'tau', 'r', 'fitted_vol']).map_elements(\n",
    "        lambda row: Black76OptionPricer(F=row['F'], K=row['strike'], T=row['tau'], r=row['r'], sigma=row['fitted_vol']/100).call_delta(), return_dtype=pl.Float64\n",
    "    ).round(2).alias('delta_C'),\n",
    "    \n",
    "    pl.struct(['F', 'strike', 'tau', 'r', 'fitted_vol']).map_elements(\n",
    "        lambda row: Black76OptionPricer(F=row['F'], K=row['strike'], T=row['tau'], r=row['r'], sigma=row['fitted_vol']/100).put_delta(), return_dtype=pl.Float64\n",
    "    ).round(2).alias('delta_P'),\n",
    "\n",
    "    pl.struct(['F', 'strike', 'tau', 'r', 'fitted_vol']).map_elements(\n",
    "        lambda row: Black76OptionPricer(F=row['F'], K=row['strike'], T=row['tau'], r=row['r'], sigma=row['fitted_vol']/100).vega()/100, return_dtype=pl.Float64\n",
    "    ).round(2).alias('vega'),\n",
    "\n",
    "    pl.struct(['F', 'strike', 'tau', 'r', 'fitted_vol']).map_elements(\n",
    "        lambda row: Black76OptionPricer(F=row['F'], K=row['strike'], T=row['tau'], r=row['r'], sigma=row['fitted_vol']/100).gamma(), return_dtype=pl.Float64\n",
    "    ).round(5).alias('gamma'),\n",
    "])"
   ]
  },
  {
   "cell_type": "code",
   "execution_count": 21,
   "id": "efef5d78",
   "metadata": {},
   "outputs": [
    {
     "data": {
      "text/html": [
       "<div><style>\n",
       ".dataframe > thead > tr,\n",
       ".dataframe > tbody > tr {\n",
       "  text-align: right;\n",
       "  white-space: pre-wrap;\n",
       "}\n",
       "</style>\n",
       "<small>shape: (41, 34)</small><table border=\"1\" class=\"dataframe\"><thead><tr><th>timestamp</th><th>bq0_C</th><th>bp0_C</th><th>bp0_C_usd</th><th>ap0_C_usd</th><th>ap0_C</th><th>aq0_C</th><th>strike</th><th>bq0_P</th><th>bp0_P</th><th>bp0_P_usd</th><th>ap0_P_usd</th><th>ap0_P</th><th>aq0_P</th><th>S</th><th>F</th><th>expiry</th><th>tau</th><th>r</th><th>bidVola_C</th><th>askVola_C</th><th>bidVola_P</th><th>askVola_P</th><th>bidVola</th><th>askVola</th><th>midVola</th><th>volSpread</th><th>vega</th><th>fitted_vol</th><th>TV_C</th><th>TV_P</th><th>delta_C</th><th>delta_P</th><th>gamma</th></tr><tr><td>datetime[ns]</td><td>f64</td><td>f64</td><td>f64</td><td>f64</td><td>f64</td><td>f64</td><td>i64</td><td>f64</td><td>f64</td><td>f64</td><td>f64</td><td>f64</td><td>f64</td><td>f64</td><td>f64</td><td>str</td><td>f64</td><td>f64</td><td>f64</td><td>f64</td><td>f64</td><td>f64</td><td>f64</td><td>f64</td><td>f64</td><td>f64</td><td>f64</td><td>f64</td><td>f64</td><td>f64</td><td>f64</td><td>f64</td><td>f64</td></tr></thead><tbody><tr><td>2024-02-29 20:12:00</td><td>6.4</td><td>0.312</td><td>19320.56</td><td>20304.64</td><td>0.327892</td><td>5.0</td><td>42000</td><td>7.5</td><td>0.0003</td><td>18.58</td><td>30.96</td><td>0.0005</td><td>7.9</td><td>61924.86</td><td>62229.04</td><td>&quot;8MAR24&quot;</td><td>0.020525</td><td>0.15</td><td>2.36</td><td>148.749663</td><td>111.668798</td><td>118.899911</td><td>111.67</td><td>118.9</td><td>115.28</td><td>7.23</td><td>1.92</td><td>117.76</td><td>20195.57</td><td>28.71</td><td>0.99</td><td>-0.01</td><td>0.0</td></tr><tr><td>2024-02-29 20:12:00</td><td>5.0</td><td>0.2805</td><td>17369.92</td><td>18304.64</td><td>0.295594</td><td>5.0</td><td>44000</td><td>0.2</td><td>0.0005</td><td>30.96</td><td>43.35</td><td>0.0007</td><td>18.2</td><td>61924.86</td><td>62229.04</td><td>&quot;8MAR24&quot;</td><td>0.020525</td><td>0.15</td><td>2.36</td><td>132.452305</td><td>106.229607</td><td>111.187094</td><td>106.23</td><td>111.19</td><td>108.71</td><td>4.96</td><td>2.45</td><td>108.33</td><td>18208.87</td><td>35.87</td><td>0.99</td><td>-0.01</td><td>0.0</td></tr><tr><td>2024-02-29 20:12:00</td><td>5.0</td><td>0.2645</td><td>16379.13</td><td>17304.64</td><td>0.279446</td><td>5.0</td><td>45000</td><td>3.4</td><td>0.0005</td><td>30.96</td><td>49.54</td><td>0.0008</td><td>17.4</td><td>61924.86</td><td>62229.04</td><td>&quot;8MAR24&quot;</td><td>0.020525</td><td>0.15</td><td>2.36</td><td>124.567595</td><td>100.07213</td><td>106.819493</td><td>100.07</td><td>106.82</td><td>103.44</td><td>6.75</td><td>2.75</td><td>103.44</td><td>17215.59</td><td>39.51</td><td>0.99</td><td>-0.01</td><td>0.0</td></tr><tr><td>2024-02-29 20:12:00</td><td>5.0</td><td>0.2485</td><td>15388.33</td><td>16304.64</td><td>0.263297</td><td>6.3</td><td>46000</td><td>3.1</td><td>0.0006</td><td>37.15</td><td>55.73</td><td>0.0009</td><td>8.3</td><td>61924.86</td><td>62229.04</td><td>&quot;8MAR24&quot;</td><td>0.020525</td><td>0.15</td><td>2.36</td><td>116.845755</td><td>96.390293</td><td>102.215326</td><td>96.39</td><td>102.22</td><td>99.3</td><td>5.83</td><td>3.11</td><td>98.78</td><td>16223.33</td><td>44.18</td><td>0.98</td><td>-0.01</td><td>0.0</td></tr><tr><td>2024-02-29 20:12:00</td><td>5.0</td><td>0.2335</td><td>14459.45</td><td>15304.64</td><td>0.247149</td><td>5.0</td><td>47000</td><td>4.0</td><td>0.0008</td><td>49.54</td><td>68.12</td><td>0.0011</td><td>12.2</td><td>61924.86</td><td>62229.04</td><td>&quot;8MAR24&quot;</td><td>0.020525</td><td>0.15</td><td>2.36</td><td>109.277389</td><td>94.161844</td><td>98.899332</td><td>94.16</td><td>98.9</td><td>96.53</td><td>4.74</td><td>3.59</td><td>94.56</td><td>15233.18</td><td>50.96</td><td>0.98</td><td>-0.02</td><td>0.0</td></tr><tr><td>&hellip;</td><td>&hellip;</td><td>&hellip;</td><td>&hellip;</td><td>&hellip;</td><td>&hellip;</td><td>&hellip;</td><td>&hellip;</td><td>&hellip;</td><td>&hellip;</td><td>&hellip;</td><td>&hellip;</td><td>&hellip;</td><td>&hellip;</td><td>&hellip;</td><td>&hellip;</td><td>&hellip;</td><td>&hellip;</td><td>&hellip;</td><td>&hellip;</td><td>&hellip;</td><td>&hellip;</td><td>&hellip;</td><td>&hellip;</td><td>&hellip;</td><td>&hellip;</td><td>&hellip;</td><td>&hellip;</td><td>&hellip;</td><td>&hellip;</td><td>&hellip;</td><td>&hellip;</td><td>&hellip;</td><td>&hellip;</td></tr><tr><td>2024-02-29 20:12:00</td><td>15.4</td><td>0.012</td><td>743.1</td><td>774.06</td><td>0.0125</td><td>1.4</td><td>68000</td><td>67.5</td><td>0.103</td><td>6378.26</td><td>6687.88</td><td>0.108</td><td>67.5</td><td>61924.86</td><td>62229.04</td><td>&quot;8MAR24&quot;</td><td>0.020525</td><td>0.15</td><td>72.811977</td><td>74.005566</td><td>68.119442</td><td>80.002616</td><td>72.81</td><td>74.01</td><td>73.41</td><td>1.2</td><td>25.95</td><td>73.44</td><td>759.35</td><td>6512.57</td><td>0.21</td><td>-0.78</td><td>0.00004</td></tr><tr><td>2024-02-29 20:12:00</td><td>44.6</td><td>0.0075</td><td>464.44</td><td>526.36</td><td>0.0085</td><td>49.3</td><td>70000</td><td>67.4</td><td>0.1305</td><td>8081.19</td><td>8421.78</td><td>0.136</td><td>68.0</td><td>61924.86</td><td>62229.04</td><td>&quot;8MAR24&quot;</td><td>0.020525</td><td>0.15</td><td>73.780292</td><td>76.771151</td><td>66.914015</td><td>83.458294</td><td>73.78</td><td>76.77</td><td>75.28</td><td>2.99</td><td>20.82</td><td>75.62</td><td>502.18</td><td>8249.25</td><td>0.15</td><td>-0.85</td><td>0.00003</td></tr><tr><td>2024-02-29 20:12:00</td><td>0.5</td><td>0.005</td><td>309.62</td><td>340.59</td><td>0.0055</td><td>19.8</td><td>72000</td><td>67.4</td><td>0.16</td><td>9907.98</td><td>10279.53</td><td>0.166</td><td>67.5</td><td>61924.86</td><td>62229.04</td><td>&quot;8MAR24&quot;</td><td>0.020525</td><td>0.15</td><td>76.381181</td><td>78.314902</td><td>65.951348</td><td>89.216938</td><td>76.38</td><td>78.31</td><td>77.34</td><td>1.93</td><td>16.23</td><td>77.96</td><td>334.81</td><td>10075.73</td><td>0.11</td><td>-0.89</td><td>0.00003</td></tr><tr><td>2024-02-29 20:12:00</td><td>27.5</td><td>0.0032</td><td>198.16</td><td>229.12</td><td>0.0037</td><td>14.5</td><td>74000</td><td>67.5</td><td>0.1905</td><td>11796.69</td><td>12106.31</td><td>0.1955</td><td>68.0</td><td>61924.86</td><td>62229.04</td><td>&quot;8MAR24&quot;</td><td>0.020525</td><td>0.15</td><td>78.08878</td><td>80.648921</td><td>62.636738</td><td>90.657009</td><td>78.09</td><td>80.65</td><td>79.37</td><td>2.56</td><td>12.14</td><td>79.51</td><td>215.06</td><td>11949.84</td><td>0.07</td><td>-0.93</td><td>0.00002</td></tr><tr><td>2024-02-29 20:12:00</td><td>20.4</td><td>0.0022</td><td>136.23</td><td>154.81</td><td>0.0025</td><td>10.0</td><td>76000</td><td>67.5</td><td>0.2215</td><td>13716.36</td><td>14106.31</td><td>0.227797</td><td>67.5</td><td>61924.86</td><td>62229.04</td><td>&quot;8MAR24&quot;</td><td>0.020525</td><td>0.15</td><td>80.860533</td><td>82.890083</td><td>1.0</td><td>100.973384</td><td>80.86</td><td>82.89</td><td>81.88</td><td>2.03</td><td>8.62</td><td>80.22</td><td>130.64</td><td>13859.27</td><td>0.05</td><td>-0.95</td><td>0.00001</td></tr></tbody></table></div>"
      ],
      "text/plain": [
       "shape: (41, 34)\n",
       "┌─────────────────────┬───────┬────────┬───────────┬───┬──────────┬─────────┬─────────┬─────────┐\n",
       "│ timestamp           ┆ bq0_C ┆ bp0_C  ┆ bp0_C_usd ┆ … ┆ TV_P     ┆ delta_C ┆ delta_P ┆ gamma   │\n",
       "│ ---                 ┆ ---   ┆ ---    ┆ ---       ┆   ┆ ---      ┆ ---     ┆ ---     ┆ ---     │\n",
       "│ datetime[ns]        ┆ f64   ┆ f64    ┆ f64       ┆   ┆ f64      ┆ f64     ┆ f64     ┆ f64     │\n",
       "╞═════════════════════╪═══════╪════════╪═══════════╪═══╪══════════╪═════════╪═════════╪═════════╡\n",
       "│ 2024-02-29 20:12:00 ┆ 6.4   ┆ 0.312  ┆ 19320.56  ┆ … ┆ 28.71    ┆ 0.99    ┆ -0.01   ┆ 0.0     │\n",
       "│ 2024-02-29 20:12:00 ┆ 5.0   ┆ 0.2805 ┆ 17369.92  ┆ … ┆ 35.87    ┆ 0.99    ┆ -0.01   ┆ 0.0     │\n",
       "│ 2024-02-29 20:12:00 ┆ 5.0   ┆ 0.2645 ┆ 16379.13  ┆ … ┆ 39.51    ┆ 0.99    ┆ -0.01   ┆ 0.0     │\n",
       "│ 2024-02-29 20:12:00 ┆ 5.0   ┆ 0.2485 ┆ 15388.33  ┆ … ┆ 44.18    ┆ 0.98    ┆ -0.01   ┆ 0.0     │\n",
       "│ 2024-02-29 20:12:00 ┆ 5.0   ┆ 0.2335 ┆ 14459.45  ┆ … ┆ 50.96    ┆ 0.98    ┆ -0.02   ┆ 0.0     │\n",
       "│ …                   ┆ …     ┆ …      ┆ …         ┆ … ┆ …        ┆ …       ┆ …       ┆ …       │\n",
       "│ 2024-02-29 20:12:00 ┆ 15.4  ┆ 0.012  ┆ 743.1     ┆ … ┆ 6512.57  ┆ 0.21    ┆ -0.78   ┆ 0.00004 │\n",
       "│ 2024-02-29 20:12:00 ┆ 44.6  ┆ 0.0075 ┆ 464.44    ┆ … ┆ 8249.25  ┆ 0.15    ┆ -0.85   ┆ 0.00003 │\n",
       "│ 2024-02-29 20:12:00 ┆ 0.5   ┆ 0.005  ┆ 309.62    ┆ … ┆ 10075.73 ┆ 0.11    ┆ -0.89   ┆ 0.00003 │\n",
       "│ 2024-02-29 20:12:00 ┆ 27.5  ┆ 0.0032 ┆ 198.16    ┆ … ┆ 11949.84 ┆ 0.07    ┆ -0.93   ┆ 0.00002 │\n",
       "│ 2024-02-29 20:12:00 ┆ 20.4  ┆ 0.0022 ┆ 136.23    ┆ … ┆ 13859.27 ┆ 0.05    ┆ -0.95   ┆ 0.00001 │\n",
       "└─────────────────────┴───────┴────────┴───────────┴───┴──────────┴─────────┴─────────┴─────────┘"
      ]
     },
     "execution_count": 21,
     "metadata": {},
     "output_type": "execute_result"
    }
   ],
   "source": [
    "df_option_with_vola_and_greeks"
   ]
  },
  {
   "cell_type": "code",
   "execution_count": 22,
   "id": "f6b38dfa",
   "metadata": {},
   "outputs": [
    {
     "name": "stdout",
     "output_type": "stream",
     "text": [
      "🔍 ARBITRAGE ANALYSIS REPORT: ✅ ARBITRAGE-FREE\n",
      "============================================================\n",
      "📊 Summary: 41 strikes analyzed\n",
      "   Strike range: 42000 - 76000\n",
      "   Total violations: 0\n",
      "\n",
      "🦋 Butterfly Arbitrage: 0 violations\n",
      "📈 Price Monotonicity:\n",
      "   Call prices (decreasing): ✅\n",
      "   Put prices (increasing): ✅\n",
      "⚖️ Call-Put Parity: 0 violations\n"
     ]
    }
   ],
   "source": [
    "# Comprehensive arbitrage analysis using new module\n",
    "from utils.analysis.arbitrage_checker import analyze_arbitrage_comprehensive, format_arbitrage_report\n",
    "\n",
    "\n",
    "strikes_list = df_option_with_vola_and_greeks['strike'].to_list()\n",
    "call_prices_list = df_option_with_vola_and_greeks['TV_C'].to_list()\n",
    "put_prices_list = df_option_with_vola_and_greeks['TV_P'].to_list()\n",
    "forward_price = df_option_with_vola_and_greeks['F'][0]\n",
    "interest_rate = df_option_with_vola_and_greeks['r'][0]\n",
    "\n",
    "# Perform comprehensive arbitrage analysis\n",
    "arbitrage_results = analyze_arbitrage_comprehensive(\n",
    "    strikes=strikes_list,\n",
    "    call_prices=call_prices_list, \n",
    "    put_prices=put_prices_list,\n",
    "    forward_price=forward_price,\n",
    "    discount_factor=np.exp(-interest_rate*time_to_expiry),  # For futures\n",
    "    butterfly_tolerance=0.1,\n",
    "    parity_tolerance=0.1\n",
    ")\n",
    "\n",
    "# Display formatted report\n",
    "print(format_arbitrage_report(arbitrage_results))"
   ]
  },
  {
   "cell_type": "code",
   "execution_count": 23,
   "id": "b760d1b4",
   "metadata": {},
   "outputs": [
    {
     "data": {
      "text/plain": [
       "[]"
      ]
     },
     "execution_count": 23,
     "metadata": {},
     "output_type": "execute_result"
    }
   ],
   "source": [
    "from utils.analysis.arbitrage_checker import check_call_put_parity\n",
    "\n",
    "\n",
    "check_call_put_parity(strikes_list, call_prices_list, put_prices_list, forward_price, discount_factor=np.exp(-interest_rate*time_to_expiry), tolerance=0.1)"
   ]
  },
  {
   "cell_type": "code",
   "execution_count": null,
   "id": "7092e79a",
   "metadata": {},
   "outputs": [],
   "source": []
  }
 ],
 "metadata": {
  "kernelspec": {
   "display_name": ".venv",
   "language": "python",
   "name": "python3"
  },
  "language_info": {
   "codemirror_mode": {
    "name": "ipython",
    "version": 3
   },
   "file_extension": ".py",
   "mimetype": "text/x-python",
   "name": "python",
   "nbconvert_exporter": "python",
   "pygments_lexer": "ipython3",
   "version": "3.12.3"
  }
 },
 "nbformat": 4,
 "nbformat_minor": 5
}
