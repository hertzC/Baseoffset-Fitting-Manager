{
 "cells": [
  {
   "cell_type": "code",
   "execution_count": 1,
   "id": "0bb21974",
   "metadata": {},
   "outputs": [
    {
     "name": "stdout",
     "output_type": "stream",
     "text": [
      "Project root: /home/user/Python/Baseoffset-Fitting-Manager\n"
     ]
    }
   ],
   "source": [
    "import polars as pl\n",
    "pl.Config.set_tbl_rows(40)\n",
    "\n",
    "from datetime import datetime\n",
    "\n",
    "# Add parent directory to Python path to access project modules\n",
    "import os, sys\n",
    "current_dir = os.getcwd()\n",
    "project_root = os.path.dirname(current_dir) if current_dir.endswith('notebooks') else current_dir\n",
    "\n",
    "print(f\"Project root: {project_root}\")\n",
    "if project_root not in sys.path:\n",
    "    sys.path.append(project_root)\n",
    "\n",
    "import numpy as np\n",
    "from IPython.display import display, HTML\n",
    "\n",
    "from pricer.pricer_helper import find_vol\n",
    "from parity_analysis.market_data.deribit_md_manager import DeribitMDManager\n",
    "from parity_analysis.reporting.html_table_generator import generate_price_comparison_table\n",
    "from pricer.option_constraints import tighten_option_spread"
   ]
  },
  {
   "cell_type": "code",
   "execution_count": 2,
   "id": "5cd71a3d",
   "metadata": {},
   "outputs": [],
   "source": [
    "def find_bid_ask_vola(df: pl.DataFrame, rate: float, is_call: bool, **kwargs) -> tuple[np.ndarray, np.ndarray]:\n",
    "    \"\"\"\n",
    "    Calculate implied volatilities for bid and ask prices.\n",
    "    \n",
    "    Args:\n",
    "        df: DataFrame with option market data\n",
    "        rate: Risk-free interest rate\n",
    "        \n",
    "    Returns:\n",
    "        Tuple of (bid_volatilities, ask_volatilities)\n",
    "    \"\"\"\n",
    "    bid_col = 'bp0_C_usd' if is_call else 'bp0_P_usd'\n",
    "    ask_col = 'ap0_C_usd' if is_call else 'ap0_P_usd'\n",
    "    \n",
    "    # Extract data for volatility calculation\n",
    "    input_data = df[bid_col, ask_col, 'F', 'strike', 'tau']\n",
    "    \n",
    "    bid_vola = find_vol(target_value=input_data[:, 0], \n",
    "                        F=input_data[:, 2], \n",
    "                        K=input_data[:, 3], \n",
    "                        T=input_data[:, 4], \n",
    "                        r=rate, \n",
    "                        option_type='C' if is_call else 'P',\n",
    "                        kwargs=kwargs)\n",
    "    \n",
    "    ask_vola = find_vol(target_value=input_data[:, 1], \n",
    "                        F=input_data[:, 2], \n",
    "                        K=input_data[:, 3], \n",
    "                        T=input_data[:, 4], \n",
    "                        r=rate, \n",
    "                        option_type='C' if is_call else 'P',\n",
    "                        kwargs=kwargs)\n",
    "\n",
    "    return bid_vola, ask_vola\n",
    "\n",
    "\n",
    "def get_bid_ask_vola(df_option_chain: pl.DataFrame, interest_rate: float, **kwargs) -> pl.DataFrame:\n",
    "    \" get bid and ask implied volatilities for calls and puts, with synthetic arbitrage checks and tightened spreads \"\n",
    "\n",
    "    # tighten the bid-ask spread\n",
    "    df =\\\n",
    "    df_option_chain.with_columns(\n",
    "        bp0_C_usd = (pl.col('tightened_bid_price') * pl.col('S')).round(2),\n",
    "        ap0_C_usd = (pl.col('tightened_ask_price') * pl.col('S')).round(2),\n",
    "        bp0_P_usd = (pl.col('tightened_bid_price_P') * pl.col('S')).round(2),\n",
    "        ap0_P_usd = (pl.col('tightened_ask_price_P') * pl.col('S')).round(2),\n",
    "    ).select(\n",
    "        ['timestamp','bid_size','tightened_bid_price','bp0_C_usd','ap0_C_usd','tightened_ask_price','ask_size','strike','bid_size_P',\n",
    "        'tightened_bid_price_P','bp0_P_usd','ap0_P_usd','tightened_ask_price_P','ask_size_P','S','bid_price_fut','expiry','tau']\n",
    "    ).rename({'bid_size': 'bq0_C', 'tightened_bid_price': 'bp0_C', 'tightened_ask_price': 'ap0_C', 'ask_size': 'aq0_C',\n",
    "            'bid_size_P': 'bq0_P', 'tightened_bid_price_P': 'bp0_P', 'tightened_ask_price_P': 'ap0_P', 'ask_size_P': 'aq0_P', 'bid_price_fut': 'F'})\n",
    "    \n",
    "    # convert from price term into volatility term\n",
    "    df = df.with_columns(\n",
    "        r = interest_rate,\n",
    "        bidVola_C = (pl.Series('bidVola_C', find_bid_ask_vola(df, interest_rate, is_call=True, **kwargs)[0])*100).round(2),\n",
    "        askVola_C = (pl.Series('askVola_C', find_bid_ask_vola(df, interest_rate, is_call=True, **kwargs)[1])*100).round(2),\n",
    "        bidVola_P = (pl.Series('bidVola_P', find_bid_ask_vola(df, interest_rate, is_call=False, **kwargs)[0])*100).round(2),\n",
    "        askVola_P = (pl.Series('askVola_P', find_bid_ask_vola(df, interest_rate, is_call=False, **kwargs)[1])*100).round(2),\n",
    "    )\n",
    "    # Check for synthetic arbitrage: ask vol of put >= bid vol of call, and ask vol of call >= bid vol of put\n",
    "    mask_cross_cp = (df['askVola_P'] < df['bidVola_C'])\n",
    "    mask_cross_pc = (df['askVola_C'] < df['bidVola_P'])\n",
    "\n",
    "    if mask_cross_cp.any():\n",
    "        raise ValueError(\n",
    "            f\"Synthetic violation: ask vol of Put < bid vol of Call at strikes:\\n\"\n",
    "            f\"{df.filter(mask_cross_cp)[['strike', 'bidVola_C', 'askVola_P']]}\"\n",
    "        )\n",
    "\n",
    "    if mask_cross_pc.any():\n",
    "        raise ValueError(\n",
    "            f\"Synthetic violation: ask vol of Call < bid vol of Put at strikes:\\n\"\n",
    "            f\"{df.filter(mask_cross_pc)[['strike', 'bidVola_P', 'askVola_C']]}\"\n",
    "        )\n",
    "    return df"
   ]
  },
  {
   "cell_type": "code",
   "execution_count": 3,
   "id": "e32f0f5f",
   "metadata": {},
   "outputs": [],
   "source": [
    "# read the data files generated by the baseoffset fitting process\n",
    "date_str = '20240229'\n",
    "# find the snapshot market data\n",
    "snapshot_time = datetime(2024,2,29,0,12)"
   ]
  },
  {
   "cell_type": "code",
   "execution_count": 4,
   "id": "db9542ef",
   "metadata": {},
   "outputs": [],
   "source": [
    "def get_baseoffset_df(data_str: str) -> pl.DataFrame:\n",
    "    return pl.read_csv(f'../results/{data_str}/baseoffset_results.csv').with_columns(\n",
    "        timestamp = pl.col('timestamp').cast(pl.Datetime('ns'))\n",
    "    )\n",
    "\n",
    "def get_option_md_df(data_str: str) -> pl.DataFrame:\n",
    "    df = pl.read_csv(f'../results/{data_str}/conflated_md.csv').with_columns(\n",
    "        timestamp = pl.col('timestamp').cast(pl.Datetime('ns')),\n",
    "        expiry_ts = pl.col('expiry_ts').cast(pl.Datetime('ns'))\n",
    "    ).select(\n",
    "        ['symbol','timestamp','expiry','strike','bid_size','bid_price','ask_price','ask_size','S','expiry_ts','is_option','is_call','tau']\n",
    "    ).sort(['timestamp','expiry_ts'])\n",
    "    print(f\"available expiries: {df['expiry'].unique().to_list()}\")\n",
    "    return df"
   ]
  },
  {
   "cell_type": "code",
   "execution_count": 5,
   "id": "a596f87d",
   "metadata": {},
   "outputs": [
    {
     "name": "stdout",
     "output_type": "stream",
     "text": [
      "available expiries: ['3MAR24', '15MAR24', '31MAY24', '8MAR24', '26APR24', '27DEC24', '1MAR24', '29MAR24', '22MAR24', '27SEP24', '28JUN24', '29FEB24', '2MAR24']\n"
     ]
    }
   ],
   "source": [
    "df_baseoffset = get_baseoffset_df(date_str)\n",
    "df_option_md = get_option_md_df(date_str)"
   ]
  },
  {
   "cell_type": "code",
   "execution_count": 6,
   "id": "8de1e04a",
   "metadata": {},
   "outputs": [],
   "source": [
    "def get_snapshot_option_chain(option_md_df: pl.DataFrame, baseoffset_df: pl.DataFrame, snapshot_time: datetime) -> pl.DataFrame:\n",
    "    assert snapshot_time in option_md_df['timestamp'].unique().to_list()\n",
    "    assert snapshot_time in baseoffset_df['timestamp'].unique().to_list()\n",
    "    \n",
    "    df = option_md_df.filter(pl.col('timestamp')==snapshot_time).with_columns(\n",
    "        option_type = pl.when(pl.col('is_call')).then(pl.lit('C')).otherwise(pl.lit('P'))\n",
    "    ).select(\n",
    "        ['symbol','timestamp','expiry','strike','bid_size','bid_price','ask_price','ask_size','S','expiry_ts','option_type','tau']\n",
    "    ).join(\n",
    "        baseoffset_df.filter(pl.col('timestamp')==snapshot_time).select(['expiry','timestamp','F','r']),\n",
    "        on=['timestamp','expiry']\n",
    "    ).sort(['expiry_ts','strike','option_type'])\n",
    "\n",
    "    assert df['S'].unique().len() == 1, \"S should be unique and constant across all options at the same timestamp\"\n",
    "\n",
    "    return df"
   ]
  },
  {
   "cell_type": "code",
   "execution_count": 7,
   "id": "9d1865e5",
   "metadata": {},
   "outputs": [],
   "source": [
    "df_snapshot_md = get_snapshot_option_chain(df_option_md, df_baseoffset, snapshot_time)"
   ]
  },
  {
   "cell_type": "code",
   "execution_count": 8,
   "id": "16612ebd",
   "metadata": {},
   "outputs": [
    {
     "data": {
      "text/html": [
       "<div><style>\n",
       ".dataframe > thead > tr,\n",
       ".dataframe > tbody > tr {\n",
       "  text-align: right;\n",
       "  white-space: pre-wrap;\n",
       "}\n",
       "</style>\n",
       "<small>shape: (5, 14)</small><table border=\"1\" class=\"dataframe\"><thead><tr><th>symbol</th><th>timestamp</th><th>expiry</th><th>strike</th><th>bid_size</th><th>bid_price</th><th>ask_price</th><th>ask_size</th><th>S</th><th>expiry_ts</th><th>option_type</th><th>tau</th><th>F</th><th>r</th></tr><tr><td>str</td><td>datetime[ns]</td><td>str</td><td>i64</td><td>f64</td><td>f64</td><td>f64</td><td>f64</td><td>f64</td><td>datetime[ns]</td><td>str</td><td>f64</td><td>f64</td><td>f64</td></tr></thead><tbody><tr><td>&quot;BTC-29FEB24-45000-P&quot;</td><td>2024-02-29 00:12:00</td><td>&quot;29FEB24&quot;</td><td>45000</td><td>null</td><td>null</td><td>0.0004</td><td>13.0</td><td>62166.15</td><td>2024-02-29 08:00:00</td><td>&quot;P&quot;</td><td>0.00089</td><td>62184.8</td><td>0.4</td></tr><tr><td>&quot;BTC-29FEB24-46000-P&quot;</td><td>2024-02-29 00:12:00</td><td>&quot;29FEB24&quot;</td><td>46000</td><td>null</td><td>null</td><td>0.0004</td><td>13.0</td><td>62166.15</td><td>2024-02-29 08:00:00</td><td>&quot;P&quot;</td><td>0.00089</td><td>62184.8</td><td>0.4</td></tr><tr><td>&quot;BTC-29FEB24-47000-P&quot;</td><td>2024-02-29 00:12:00</td><td>&quot;29FEB24&quot;</td><td>47000</td><td>null</td><td>null</td><td>0.0004</td><td>13.0</td><td>62166.15</td><td>2024-02-29 08:00:00</td><td>&quot;P&quot;</td><td>0.00089</td><td>62184.8</td><td>0.4</td></tr><tr><td>&quot;BTC-29FEB24-47500-P&quot;</td><td>2024-02-29 00:12:00</td><td>&quot;29FEB24&quot;</td><td>47500</td><td>null</td><td>null</td><td>0.0004</td><td>13.0</td><td>62166.15</td><td>2024-02-29 08:00:00</td><td>&quot;P&quot;</td><td>0.00089</td><td>62184.8</td><td>0.4</td></tr><tr><td>&quot;BTC-29FEB24-48000-P&quot;</td><td>2024-02-29 00:12:00</td><td>&quot;29FEB24&quot;</td><td>48000</td><td>null</td><td>null</td><td>0.0004</td><td>13.0</td><td>62166.15</td><td>2024-02-29 08:00:00</td><td>&quot;P&quot;</td><td>0.00089</td><td>62184.8</td><td>0.4</td></tr></tbody></table></div>"
      ],
      "text/plain": [
       "shape: (5, 14)\n",
       "┌────────────────────┬──────────────┬─────────┬────────┬───┬─────────────┬─────────┬─────────┬─────┐\n",
       "│ symbol             ┆ timestamp    ┆ expiry  ┆ strike ┆ … ┆ option_type ┆ tau     ┆ F       ┆ r   │\n",
       "│ ---                ┆ ---          ┆ ---     ┆ ---    ┆   ┆ ---         ┆ ---     ┆ ---     ┆ --- │\n",
       "│ str                ┆ datetime[ns] ┆ str     ┆ i64    ┆   ┆ str         ┆ f64     ┆ f64     ┆ f64 │\n",
       "╞════════════════════╪══════════════╪═════════╪════════╪═══╪═════════════╪═════════╪═════════╪═════╡\n",
       "│ BTC-29FEB24-45000- ┆ 2024-02-29   ┆ 29FEB24 ┆ 45000  ┆ … ┆ P           ┆ 0.00089 ┆ 62184.8 ┆ 0.4 │\n",
       "│ P                  ┆ 00:12:00     ┆         ┆        ┆   ┆             ┆         ┆         ┆     │\n",
       "│ BTC-29FEB24-46000- ┆ 2024-02-29   ┆ 29FEB24 ┆ 46000  ┆ … ┆ P           ┆ 0.00089 ┆ 62184.8 ┆ 0.4 │\n",
       "│ P                  ┆ 00:12:00     ┆         ┆        ┆   ┆             ┆         ┆         ┆     │\n",
       "│ BTC-29FEB24-47000- ┆ 2024-02-29   ┆ 29FEB24 ┆ 47000  ┆ … ┆ P           ┆ 0.00089 ┆ 62184.8 ┆ 0.4 │\n",
       "│ P                  ┆ 00:12:00     ┆         ┆        ┆   ┆             ┆         ┆         ┆     │\n",
       "│ BTC-29FEB24-47500- ┆ 2024-02-29   ┆ 29FEB24 ┆ 47500  ┆ … ┆ P           ┆ 0.00089 ┆ 62184.8 ┆ 0.4 │\n",
       "│ P                  ┆ 00:12:00     ┆         ┆        ┆   ┆             ┆         ┆         ┆     │\n",
       "│ BTC-29FEB24-48000- ┆ 2024-02-29   ┆ 29FEB24 ┆ 48000  ┆ … ┆ P           ┆ 0.00089 ┆ 62184.8 ┆ 0.4 │\n",
       "│ P                  ┆ 00:12:00     ┆         ┆        ┆   ┆             ┆         ┆         ┆     │\n",
       "└────────────────────┴──────────────┴─────────┴────────┴───┴─────────────┴─────────┴─────────┴─────┘"
      ]
     },
     "execution_count": 8,
     "metadata": {},
     "output_type": "execute_result"
    }
   ],
   "source": [
    "df_snapshot_md.head()"
   ]
  },
  {
   "cell_type": "code",
   "execution_count": 9,
   "id": "7c7528a9",
   "metadata": {},
   "outputs": [
    {
     "data": {
      "text/html": [
       "<div><style>\n",
       ".dataframe > thead > tr,\n",
       ".dataframe > tbody > tr {\n",
       "  text-align: right;\n",
       "  white-space: pre-wrap;\n",
       "}\n",
       "</style>\n",
       "<small>shape: (5, 14)</small><table border=\"1\" class=\"dataframe\"><thead><tr><th>symbol</th><th>timestamp</th><th>expiry</th><th>strike</th><th>bid_size</th><th>bid_price</th><th>ask_price</th><th>ask_size</th><th>S</th><th>expiry_ts</th><th>option_type</th><th>tau</th><th>F</th><th>r</th></tr><tr><td>str</td><td>datetime[ns]</td><td>str</td><td>i64</td><td>f64</td><td>f64</td><td>f64</td><td>f64</td><td>f64</td><td>datetime[ns]</td><td>str</td><td>f64</td><td>f64</td><td>f64</td></tr></thead><tbody><tr><td>&quot;BTC-27DEC24-140000-C&quot;</td><td>2024-02-29 00:12:00</td><td>&quot;27DEC24&quot;</td><td>140000</td><td>7.0</td><td>0.054</td><td>0.0585</td><td>6.0</td><td>62166.15</td><td>2024-12-27 08:00:00</td><td>&quot;C&quot;</td><td>0.828288</td><td>68876.2</td><td>0.1243</td></tr><tr><td>&quot;BTC-27DEC24-140000-P&quot;</td><td>2024-02-29 00:12:00</td><td>&quot;27DEC24&quot;</td><td>140000</td><td>null</td><td>null</td><td>null</td><td>null</td><td>62166.15</td><td>2024-12-27 08:00:00</td><td>&quot;P&quot;</td><td>0.828288</td><td>68876.2</td><td>0.1243</td></tr><tr><td>&quot;BTC-27DEC24-160000-C&quot;</td><td>2024-02-29 00:12:00</td><td>&quot;27DEC24&quot;</td><td>160000</td><td>7.0</td><td>0.039</td><td>0.043</td><td>7.0</td><td>62166.15</td><td>2024-12-27 08:00:00</td><td>&quot;C&quot;</td><td>0.828288</td><td>68876.2</td><td>0.1243</td></tr><tr><td>&quot;BTC-27DEC24-180000-C&quot;</td><td>2024-02-29 00:12:00</td><td>&quot;27DEC24&quot;</td><td>180000</td><td>7.0</td><td>0.029</td><td>0.033</td><td>7.0</td><td>62166.15</td><td>2024-12-27 08:00:00</td><td>&quot;C&quot;</td><td>0.828288</td><td>68876.2</td><td>0.1243</td></tr><tr><td>&quot;BTC-27DEC24-200000-C&quot;</td><td>2024-02-29 00:12:00</td><td>&quot;27DEC24&quot;</td><td>200000</td><td>11.0</td><td>0.0225</td><td>0.026</td><td>10.8</td><td>62166.15</td><td>2024-12-27 08:00:00</td><td>&quot;C&quot;</td><td>0.828288</td><td>68876.2</td><td>0.1243</td></tr></tbody></table></div>"
      ],
      "text/plain": [
       "shape: (5, 14)\n",
       "┌───────────────┬───────────────┬─────────┬────────┬───┬─────────────┬──────────┬─────────┬────────┐\n",
       "│ symbol        ┆ timestamp     ┆ expiry  ┆ strike ┆ … ┆ option_type ┆ tau      ┆ F       ┆ r      │\n",
       "│ ---           ┆ ---           ┆ ---     ┆ ---    ┆   ┆ ---         ┆ ---      ┆ ---     ┆ ---    │\n",
       "│ str           ┆ datetime[ns]  ┆ str     ┆ i64    ┆   ┆ str         ┆ f64      ┆ f64     ┆ f64    │\n",
       "╞═══════════════╪═══════════════╪═════════╪════════╪═══╪═════════════╪══════════╪═════════╪════════╡\n",
       "│ BTC-27DEC24-1 ┆ 2024-02-29    ┆ 27DEC24 ┆ 140000 ┆ … ┆ C           ┆ 0.828288 ┆ 68876.2 ┆ 0.1243 │\n",
       "│ 40000-C       ┆ 00:12:00      ┆         ┆        ┆   ┆             ┆          ┆         ┆        │\n",
       "│ BTC-27DEC24-1 ┆ 2024-02-29    ┆ 27DEC24 ┆ 140000 ┆ … ┆ P           ┆ 0.828288 ┆ 68876.2 ┆ 0.1243 │\n",
       "│ 40000-P       ┆ 00:12:00      ┆         ┆        ┆   ┆             ┆          ┆         ┆        │\n",
       "│ BTC-27DEC24-1 ┆ 2024-02-29    ┆ 27DEC24 ┆ 160000 ┆ … ┆ C           ┆ 0.828288 ┆ 68876.2 ┆ 0.1243 │\n",
       "│ 60000-C       ┆ 00:12:00      ┆         ┆        ┆   ┆             ┆          ┆         ┆        │\n",
       "│ BTC-27DEC24-1 ┆ 2024-02-29    ┆ 27DEC24 ┆ 180000 ┆ … ┆ C           ┆ 0.828288 ┆ 68876.2 ┆ 0.1243 │\n",
       "│ 80000-C       ┆ 00:12:00      ┆         ┆        ┆   ┆             ┆          ┆         ┆        │\n",
       "│ BTC-27DEC24-2 ┆ 2024-02-29    ┆ 27DEC24 ┆ 200000 ┆ … ┆ C           ┆ 0.828288 ┆ 68876.2 ┆ 0.1243 │\n",
       "│ 00000-C       ┆ 00:12:00      ┆         ┆        ┆   ┆             ┆          ┆         ┆        │\n",
       "└───────────────┴───────────────┴─────────┴────────┴───┴─────────────┴──────────┴─────────┴────────┘"
      ]
     },
     "execution_count": 9,
     "metadata": {},
     "output_type": "execute_result"
    }
   ],
   "source": [
    "df_snapshot_md.tail()"
   ]
  },
  {
   "cell_type": "code",
   "execution_count": 10,
   "id": "44b8d945",
   "metadata": {},
   "outputs": [
    {
     "name": "stdout",
     "output_type": "stream",
     "text": [
      "Comparison of old bid/ask proces and the tightened bid/ask price\n"
     ]
    },
    {
     "data": {
      "text/html": [
       "\n",
       "    <div style=\"color: white; font-family: monospace; margin-bottom: 10px; background-color: #333; padding: 5px; width: 70%;\">\n",
       "        <strong>📊 BTC Spot Price: $62166.15</strong>\n",
       "    </div>\n",
       "    <style>\n",
       "    .price-table {\n",
       "        border-collapse: collapse;\n",
       "        width: 70%;\n",
       "        font-family: monospace;\n",
       "        font-size: 10px;\n",
       "        background-color: black;\n",
       "        color: white;\n",
       "    }\n",
       "    .price-table th, .price-table td {\n",
       "        border: 1px solid #444;\n",
       "        padding: 2px;\n",
       "        text-align: center;\n",
       "        background-color: black;\n",
       "    }\n",
       "    .price-table th {\n",
       "        background-color: #222;\n",
       "        font-weight: bold;\n",
       "        color: white;\n",
       "    }\n",
       "    .price-table tr:nth-child(even) td {\n",
       "        background-color: #111;\n",
       "    }\n",
       "    .price-table tr:nth-child(odd) td {\n",
       "        background-color: black;\n",
       "    }\n",
       "    </style>\n",
       "    <table class=\"price-table\">\n",
       "    <thead>\n",
       "    <tr>\n",
       "        <th>Strike</th>\n",
       "        <th colspan=\"2\">Call Bid</th>\n",
       "        <th colspan=\"2\">Call Ask</th>\n",
       "        <th colspan=\"2\">Call Spread</th>\n",
       "        <th colspan=\"2\">Put Bid</th>\n",
       "        <th colspan=\"2\">Put Ask</th>\n",
       "        <th colspan=\"2\">Put Spread</th>\n",
       "    </tr>\n",
       "    <tr>\n",
       "        <th></th>\n",
       "        <th>Old</th><th>New</th>\n",
       "        <th>Old</th><th>New</th>\n",
       "        <th>Old</th><th>New</th>\n",
       "        <th>Old</th><th>New</th>\n",
       "        <th>Old</th><th>New</th>\n",
       "        <th>Old</th><th>New</th>\n",
       "    </tr>\n",
       "    </thead>\n",
       "    <tbody>\n",
       "    \n",
       "        <tr>\n",
       "            <td>45000</td>\n",
       "            <td>0.2810</td>\n",
       "            <td>0.2810</td>\n",
       "            <td>0.2855</td>\n",
       "            <td>0.2855</td>\n",
       "            <td>0.0045</td>\n",
       "            <td>0.0045</td>\n",
       "            <td>0.0013</td>\n",
       "            <td>0.0013</td>\n",
       "            <td>0.0020</td>\n",
       "            <td>0.0020</td>\n",
       "            <td>0.0007</td>\n",
       "            <td>0.0007</td>\n",
       "        </tr>\n",
       "        \n",
       "        <tr>\n",
       "            <td>46000</td>\n",
       "            <td>0.2655</td>\n",
       "            <td>0.2655</td>\n",
       "            <td>0.2700</td>\n",
       "            <td>0.2700</td>\n",
       "            <td>0.0045</td>\n",
       "            <td>0.0045</td>\n",
       "            <td>0.0016</td>\n",
       "            <td>0.0016</td>\n",
       "            <td>0.0023</td>\n",
       "            <td>0.0023</td>\n",
       "            <td>0.0007</td>\n",
       "            <td>0.0007</td>\n",
       "        </tr>\n",
       "        \n",
       "        <tr>\n",
       "            <td>47000</td>\n",
       "            <td>0.2500</td>\n",
       "            <td>0.2500</td>\n",
       "            <td>0.2545</td>\n",
       "            <td>0.2545</td>\n",
       "            <td>0.0045</td>\n",
       "            <td>0.0045</td>\n",
       "            <td>0.0020</td>\n",
       "            <td>0.0020</td>\n",
       "            <td>0.0027</td>\n",
       "            <td>0.0027</td>\n",
       "            <td>0.0007</td>\n",
       "            <td>0.0007</td>\n",
       "        </tr>\n",
       "        \n",
       "        <tr>\n",
       "            <td>48000</td>\n",
       "            <td>0.2345</td>\n",
       "            <td>0.2345</td>\n",
       "            <td>0.2390</td>\n",
       "            <td>0.2390</td>\n",
       "            <td>0.0045</td>\n",
       "            <td>0.0045</td>\n",
       "            <td>0.0024</td>\n",
       "            <td>0.0024</td>\n",
       "            <td>0.0032</td>\n",
       "            <td>0.0032</td>\n",
       "            <td>0.0008</td>\n",
       "            <td>0.0008</td>\n",
       "        </tr>\n",
       "        \n",
       "        <tr>\n",
       "            <td>49000</td>\n",
       "            <td>0.2190</td>\n",
       "            <td>0.2190</td>\n",
       "            <td>0.2235</td>\n",
       "            <td>0.2235</td>\n",
       "            <td>0.0045</td>\n",
       "            <td>0.0045</td>\n",
       "            <td>0.0030</td>\n",
       "            <td>0.0030</td>\n",
       "            <td>0.0038</td>\n",
       "            <td>0.0038</td>\n",
       "            <td>0.0008</td>\n",
       "            <td>0.0008</td>\n",
       "        </tr>\n",
       "        \n",
       "        <tr>\n",
       "            <td>50000</td>\n",
       "            <td>0.2035</td>\n",
       "            <td>0.2035</td>\n",
       "            <td>0.2085</td>\n",
       "            <td>0.2085</td>\n",
       "            <td>0.0050</td>\n",
       "            <td>0.0050</td>\n",
       "            <td>0.0037</td>\n",
       "            <td>0.0037</td>\n",
       "            <td>0.0044</td>\n",
       "            <td>0.0044</td>\n",
       "            <td>0.0007</td>\n",
       "            <td>0.0007</td>\n",
       "        </tr>\n",
       "        \n",
       "        <tr>\n",
       "            <td>51000</td>\n",
       "            <td>0.1885</td>\n",
       "            <td>0.1885</td>\n",
       "            <td>0.1935</td>\n",
       "            <td>0.1935</td>\n",
       "            <td>0.0050</td>\n",
       "            <td>0.0050</td>\n",
       "            <td>0.0047</td>\n",
       "            <td>0.0047</td>\n",
       "            <td>0.0055</td>\n",
       "            <td>0.0055</td>\n",
       "            <td>0.0008</td>\n",
       "            <td>0.0008</td>\n",
       "        </tr>\n",
       "        \n",
       "        <tr>\n",
       "            <td>52000</td>\n",
       "            <td>0.1740</td>\n",
       "            <td>0.1740</td>\n",
       "            <td>0.1790</td>\n",
       "            <td>0.1790</td>\n",
       "            <td>0.0050</td>\n",
       "            <td>0.0050</td>\n",
       "            <td>0.0060</td>\n",
       "            <td>0.0060</td>\n",
       "            <td>0.0070</td>\n",
       "            <td>0.0070</td>\n",
       "            <td>0.0010</td>\n",
       "            <td>0.0010</td>\n",
       "        </tr>\n",
       "        \n",
       "        <tr>\n",
       "            <td>53000</td>\n",
       "            <td>0.1595</td>\n",
       "            <td>0.1595</td>\n",
       "            <td>0.1650</td>\n",
       "            <td>0.1650</td>\n",
       "            <td>0.0055</td>\n",
       "            <td>0.0055</td>\n",
       "            <td>0.0075</td>\n",
       "            <td>0.0075</td>\n",
       "            <td>0.0085</td>\n",
       "            <td>0.0085</td>\n",
       "            <td>0.0010</td>\n",
       "            <td>0.0010</td>\n",
       "        </tr>\n",
       "        \n",
       "        <tr>\n",
       "            <td>54000</td>\n",
       "            <td>0.1450</td>\n",
       "            <td>0.1450</td>\n",
       "            <td>0.1515</td>\n",
       "            <td>0.1515</td>\n",
       "            <td>0.0065</td>\n",
       "            <td>0.0065</td>\n",
       "            <td>0.0095</td>\n",
       "            <td>0.0095</td>\n",
       "            <td>0.0105</td>\n",
       "            <td>0.0105</td>\n",
       "            <td>0.0010</td>\n",
       "            <td>0.0010</td>\n",
       "        </tr>\n",
       "        \n",
       "        <tr>\n",
       "            <td>55000</td>\n",
       "            <td>0.1325</td>\n",
       "            <td>0.1325</td>\n",
       "            <td>0.1375</td>\n",
       "            <td>0.1375</td>\n",
       "            <td>0.0050</td>\n",
       "            <td>0.0050</td>\n",
       "            <td>0.0120</td>\n",
       "            <td>0.0120</td>\n",
       "            <td>0.0130</td>\n",
       "            <td>0.0130</td>\n",
       "            <td>0.0010</td>\n",
       "            <td>0.0010</td>\n",
       "        </tr>\n",
       "        \n",
       "        <tr>\n",
       "            <td>56000</td>\n",
       "            <td>0.1205</td>\n",
       "            <td>0.1205</td>\n",
       "            <td>0.1245</td>\n",
       "            <td>0.1245</td>\n",
       "            <td>0.0040</td>\n",
       "            <td>0.0040</td>\n",
       "            <td>0.0150</td>\n",
       "            <td>0.0150</td>\n",
       "            <td>0.0160</td>\n",
       "            <td>0.0160</td>\n",
       "            <td>0.0010</td>\n",
       "            <td>0.0010</td>\n",
       "        </tr>\n",
       "        \n",
       "        <tr>\n",
       "            <td>57000</td>\n",
       "            <td>0.1085</td>\n",
       "            <td>0.1085</td>\n",
       "            <td>0.1105</td>\n",
       "            <td>0.1105</td>\n",
       "            <td>0.0020</td>\n",
       "            <td>0.0020</td>\n",
       "            <td>0.0185</td>\n",
       "            <td>0.0185</td>\n",
       "            <td>0.0200</td>\n",
       "            <td>0.0200</td>\n",
       "            <td>0.0015</td>\n",
       "            <td>0.0015</td>\n",
       "        </tr>\n",
       "        \n",
       "        <tr>\n",
       "            <td>58000</td>\n",
       "            <td>0.0960</td>\n",
       "            <td>0.0960</td>\n",
       "            <td>0.1005</td>\n",
       "            <td>0.1005</td>\n",
       "            <td>0.0045</td>\n",
       "            <td>0.0045</td>\n",
       "            <td>0.0230</td>\n",
       "            <td>0.0230</td>\n",
       "            <td>0.0245</td>\n",
       "            <td>0.0245</td>\n",
       "            <td>0.0015</td>\n",
       "            <td>0.0015</td>\n",
       "        </tr>\n",
       "        \n",
       "        <tr>\n",
       "            <td>59000</td>\n",
       "            <td>0.0855</td>\n",
       "            <td>0.0855</td>\n",
       "            <td>0.0900</td>\n",
       "            <td>0.0900</td>\n",
       "            <td>0.0045</td>\n",
       "            <td>0.0045</td>\n",
       "            <td>0.0285</td>\n",
       "            <td>0.0285</td>\n",
       "            <td>0.0300</td>\n",
       "            <td>0.0300</td>\n",
       "            <td>0.0015</td>\n",
       "            <td>0.0015</td>\n",
       "        </tr>\n",
       "        \n",
       "        <tr>\n",
       "            <td>60000</td>\n",
       "            <td>0.0760</td>\n",
       "            <td>0.0760</td>\n",
       "            <td>0.0800</td>\n",
       "            <td>0.0800</td>\n",
       "            <td>0.0040</td>\n",
       "            <td>0.0040</td>\n",
       "            <td>0.0345</td>\n",
       "            <td>0.0345</td>\n",
       "            <td>0.0360</td>\n",
       "            <td>0.0360</td>\n",
       "            <td>0.0015</td>\n",
       "            <td>0.0015</td>\n",
       "        </tr>\n",
       "        \n",
       "        <tr>\n",
       "            <td>61000</td>\n",
       "            <td>0.0680</td>\n",
       "            <td>0.0680</td>\n",
       "            <td>0.0705</td>\n",
       "            <td>0.0705</td>\n",
       "            <td>0.0025</td>\n",
       "            <td>0.0025</td>\n",
       "            <td>0.0415</td>\n",
       "            <td>0.0415</td>\n",
       "            <td>0.0435</td>\n",
       "            <td>0.0435</td>\n",
       "            <td>0.0020</td>\n",
       "            <td>0.0020</td>\n",
       "        </tr>\n",
       "        \n",
       "        <tr>\n",
       "            <td>62000</td>\n",
       "            <td>0.0595</td>\n",
       "            <td>0.0595</td>\n",
       "            <td>0.0615</td>\n",
       "            <td>0.0615</td>\n",
       "            <td>0.0020</td>\n",
       "            <td>0.0020</td>\n",
       "            <td>0.0495</td>\n",
       "            <td>0.0495</td>\n",
       "            <td>0.0510</td>\n",
       "            <td>0.0510</td>\n",
       "            <td>0.0015</td>\n",
       "            <td>0.0015</td>\n",
       "        </tr>\n",
       "        \n",
       "        <tr>\n",
       "            <td>63000</td>\n",
       "            <td>0.0525</td>\n",
       "            <td>0.0525</td>\n",
       "            <td>0.0540</td>\n",
       "            <td>0.0540</td>\n",
       "            <td>0.0015</td>\n",
       "            <td>0.0015</td>\n",
       "            <td>0.0580</td>\n",
       "            <td>0.0580</td>\n",
       "            <td>0.0600</td>\n",
       "            <td>0.0600</td>\n",
       "            <td>0.0020</td>\n",
       "            <td>0.0020</td>\n",
       "        </tr>\n",
       "        \n",
       "        <tr>\n",
       "            <td>64000</td>\n",
       "            <td>0.0460</td>\n",
       "            <td>0.0460</td>\n",
       "            <td>0.0475</td>\n",
       "            <td>0.0475</td>\n",
       "            <td>0.0015</td>\n",
       "            <td>0.0015</td>\n",
       "            <td>0.0660</td>\n",
       "            <td>0.0660</td>\n",
       "            <td>0.0700</td>\n",
       "            <td>0.0700</td>\n",
       "            <td>0.0040</td>\n",
       "            <td>0.0040</td>\n",
       "        </tr>\n",
       "        \n",
       "        <tr>\n",
       "            <td>65000</td>\n",
       "            <td>0.0400</td>\n",
       "            <td>0.0400</td>\n",
       "            <td>0.0415</td>\n",
       "            <td>0.0415</td>\n",
       "            <td>0.0015</td>\n",
       "            <td>0.0015</td>\n",
       "            <td>0.0060</td>\n",
       "            <td><span style=\"color: red; font-weight: bold;\">0.0714</span></td>\n",
       "            <td>0.0800</td>\n",
       "            <td>0.0800</td>\n",
       "            <td>0.0740</td>\n",
       "            <td><span style=\"color: red; font-weight: bold;\">0.0086</span></td>\n",
       "        </tr>\n",
       "        \n",
       "        <tr>\n",
       "            <td>66000</td>\n",
       "            <td>0.0350</td>\n",
       "            <td>0.0350</td>\n",
       "            <td>0.0365</td>\n",
       "            <td>0.0365</td>\n",
       "            <td>0.0015</td>\n",
       "            <td>0.0015</td>\n",
       "            <td>0.0875</td>\n",
       "            <td>0.0875</td>\n",
       "            <td>0.0915</td>\n",
       "            <td>0.0915</td>\n",
       "            <td>0.0040</td>\n",
       "            <td>0.0040</td>\n",
       "        </tr>\n",
       "        \n",
       "        <tr>\n",
       "            <td>68000</td>\n",
       "            <td>0.0265</td>\n",
       "            <td>0.0265</td>\n",
       "            <td>0.0275</td>\n",
       "            <td>0.0275</td>\n",
       "            <td>0.0010</td>\n",
       "            <td>0.0010</td>\n",
       "            <td>0.0235</td>\n",
       "            <td><span style=\"color: red; font-weight: bold;\">0.0875</span></td>\n",
       "            <td>0.1250</td>\n",
       "            <td><span style=\"color: red; font-weight: bold;\">0.1237</span></td>\n",
       "            <td>0.1015</td>\n",
       "            <td><span style=\"color: red; font-weight: bold;\">0.0362</span></td>\n",
       "        </tr>\n",
       "        \n",
       "        <tr>\n",
       "            <td>70000</td>\n",
       "            <td>0.0200</td>\n",
       "            <td>0.0200</td>\n",
       "            <td>0.0210</td>\n",
       "            <td>0.0210</td>\n",
       "            <td>0.0010</td>\n",
       "            <td>0.0010</td>\n",
       "            <td>0.0380</td>\n",
       "            <td><span style=\"color: red; font-weight: bold;\">0.0875</span></td>\n",
       "            <td>0.1505</td>\n",
       "            <td>0.1505</td>\n",
       "            <td>0.1125</td>\n",
       "            <td><span style=\"color: red; font-weight: bold;\">0.0630</span></td>\n",
       "        </tr>\n",
       "        \n",
       "        <tr>\n",
       "            <td>72000</td>\n",
       "            <td>0.0150</td>\n",
       "            <td>0.0150</td>\n",
       "            <td>0.0160</td>\n",
       "            <td>0.0160</td>\n",
       "            <td>0.0010</td>\n",
       "            <td>0.0010</td>\n",
       "            <td>0.0540</td>\n",
       "            <td><span style=\"color: red; font-weight: bold;\">0.0875</span></td>\n",
       "            <td>0.2735</td>\n",
       "            <td><span style=\"color: red; font-weight: bold;\">0.1827</span></td>\n",
       "            <td>0.2195</td>\n",
       "            <td><span style=\"color: red; font-weight: bold;\">0.0952</span></td>\n",
       "        </tr>\n",
       "        \n",
       "    </tbody>\n",
       "    </table>\n",
       "    "
      ],
      "text/plain": [
       "<IPython.core.display.HTML object>"
      ]
     },
     "metadata": {},
     "output_type": "display_data"
    }
   ],
   "source": [
    "# reuse the DeribitMDManager to process the option chain and get the tightening bid-ask spread for backing out the IV\n",
    "my_expiry = '15MAR24'\n",
    "assert my_expiry in df_snapshot_md['expiry'].unique().to_list()\n",
    "\n",
    "df_option_chain =\\\n",
    "DeribitMDManager.get_option_chain(df_snapshot_md.with_columns(\n",
    "    is_call = pl.col('option_type') == 'C',\n",
    "    is_put = pl.col('option_type') == 'P',\n",
    "    bid_price_fut = pl.col('F'),\n",
    "    ask_price_fut = pl.col('F'),\n",
    "), my_expiry, snapshot_time)\n",
    "\n",
    "tightened_option_chain = tighten_option_spread(df_option_chain)\n",
    "\n",
    "print(f\"Comparison of old bid/ask proces and the tightened bid/ask price\")\n",
    "\n",
    "# Generate HTML table using external module\n",
    "display(HTML(generate_price_comparison_table(tightened_option_chain, table_width=\"70%\", font_size=\"10px\")))"
   ]
  },
  {
   "cell_type": "code",
   "execution_count": 11,
   "id": "e42ad86a",
   "metadata": {},
   "outputs": [
    {
     "data": {
      "text/html": [
       "<div><style>\n",
       ".dataframe > thead > tr,\n",
       ".dataframe > tbody > tr {\n",
       "  text-align: right;\n",
       "  white-space: pre-wrap;\n",
       "}\n",
       "</style>\n",
       "<small>shape: (5, 23)</small><table border=\"1\" class=\"dataframe\"><thead><tr><th>timestamp</th><th>bq0_C</th><th>bp0_C</th><th>bp0_C_usd</th><th>ap0_C_usd</th><th>ap0_C</th><th>aq0_C</th><th>strike</th><th>bq0_P</th><th>bp0_P</th><th>bp0_P_usd</th><th>ap0_P_usd</th><th>ap0_P</th><th>aq0_P</th><th>S</th><th>F</th><th>expiry</th><th>tau</th><th>r</th><th>bidVola_C</th><th>askVola_C</th><th>bidVola_P</th><th>askVola_P</th></tr><tr><td>datetime[ns]</td><td>f64</td><td>f64</td><td>f64</td><td>f64</td><td>f64</td><td>f64</td><td>i64</td><td>f64</td><td>f64</td><td>f64</td><td>f64</td><td>f64</td><td>f64</td><td>f64</td><td>f64</td><td>str</td><td>f64</td><td>f64</td><td>f64</td><td>f64</td><td>f64</td><td>f64</td></tr></thead><tbody><tr><td>2024-02-29 00:12:00</td><td>2.0</td><td>0.281</td><td>17468.69</td><td>17748.44</td><td>0.2855</td><td>61.0</td><td>45000</td><td>19.9</td><td>0.0013</td><td>80.82</td><td>124.33</td><td>0.002</td><td>7.8</td><td>62166.15</td><td>62665.47</td><td>&quot;15MAR24&quot;</td><td>0.041986</td><td>0.1</td><td>2.36</td><td>91.88</td><td>81.92</td><td>88.08</td></tr><tr><td>2024-02-29 00:12:00</td><td>2.0</td><td>0.2655</td><td>16505.11</td><td>16784.86</td><td>0.27</td><td>60.9</td><td>46000</td><td>42.2</td><td>0.0016</td><td>99.47</td><td>142.98</td><td>0.0023</td><td>12.8</td><td>62166.15</td><td>62665.47</td><td>&quot;15MAR24&quot;</td><td>0.041986</td><td>0.1</td><td>2.36</td><td>89.9</td><td>79.9</td><td>85.21</td></tr><tr><td>2024-02-29 00:12:00</td><td>2.0</td><td>0.25</td><td>15541.54</td><td>15821.29</td><td>0.2545</td><td>60.9</td><td>47000</td><td>16.2</td><td>0.002</td><td>124.33</td><td>167.85</td><td>0.0027</td><td>13.1</td><td>62166.15</td><td>62665.47</td><td>&quot;15MAR24&quot;</td><td>0.041986</td><td>0.1</td><td>2.36</td><td>87.44</td><td>78.15</td><td>82.68</td></tr><tr><td>2024-02-29 00:12:00</td><td>2.0</td><td>0.2345</td><td>14577.96</td><td>14857.71</td><td>0.239</td><td>60.9</td><td>48000</td><td>41.9</td><td>0.0024</td><td>149.2</td><td>198.93</td><td>0.0032</td><td>12.3</td><td>62166.15</td><td>62665.47</td><td>&quot;15MAR24&quot;</td><td>0.041986</td><td>0.1</td><td>1.0</td><td>84.61</td><td>75.85</td><td>80.33</td></tr><tr><td>2024-02-29 00:12:00</td><td>2.0</td><td>0.219</td><td>13614.39</td><td>13894.13</td><td>0.2235</td><td>60.9</td><td>49000</td><td>41.7</td><td>0.003</td><td>186.5</td><td>236.23</td><td>0.0038</td><td>12.5</td><td>62166.15</td><td>62665.47</td><td>&quot;15MAR24&quot;</td><td>0.041986</td><td>0.1</td><td>45.15</td><td>81.47</td><td>74.2</td><td>78.04</td></tr></tbody></table></div>"
      ],
      "text/plain": [
       "shape: (5, 23)\n",
       "┌──────────────┬───────┬────────┬───────────┬───┬───────────┬───────────┬───────────┬───────────┐\n",
       "│ timestamp    ┆ bq0_C ┆ bp0_C  ┆ bp0_C_usd ┆ … ┆ bidVola_C ┆ askVola_C ┆ bidVola_P ┆ askVola_P │\n",
       "│ ---          ┆ ---   ┆ ---    ┆ ---       ┆   ┆ ---       ┆ ---       ┆ ---       ┆ ---       │\n",
       "│ datetime[ns] ┆ f64   ┆ f64    ┆ f64       ┆   ┆ f64       ┆ f64       ┆ f64       ┆ f64       │\n",
       "╞══════════════╪═══════╪════════╪═══════════╪═══╪═══════════╪═══════════╪═══════════╪═══════════╡\n",
       "│ 2024-02-29   ┆ 2.0   ┆ 0.281  ┆ 17468.69  ┆ … ┆ 2.36      ┆ 91.88     ┆ 81.92     ┆ 88.08     │\n",
       "│ 00:12:00     ┆       ┆        ┆           ┆   ┆           ┆           ┆           ┆           │\n",
       "│ 2024-02-29   ┆ 2.0   ┆ 0.2655 ┆ 16505.11  ┆ … ┆ 2.36      ┆ 89.9      ┆ 79.9      ┆ 85.21     │\n",
       "│ 00:12:00     ┆       ┆        ┆           ┆   ┆           ┆           ┆           ┆           │\n",
       "│ 2024-02-29   ┆ 2.0   ┆ 0.25   ┆ 15541.54  ┆ … ┆ 2.36      ┆ 87.44     ┆ 78.15     ┆ 82.68     │\n",
       "│ 00:12:00     ┆       ┆        ┆           ┆   ┆           ┆           ┆           ┆           │\n",
       "│ 2024-02-29   ┆ 2.0   ┆ 0.2345 ┆ 14577.96  ┆ … ┆ 1.0       ┆ 84.61     ┆ 75.85     ┆ 80.33     │\n",
       "│ 00:12:00     ┆       ┆        ┆           ┆   ┆           ┆           ┆           ┆           │\n",
       "│ 2024-02-29   ┆ 2.0   ┆ 0.219  ┆ 13614.39  ┆ … ┆ 45.15     ┆ 81.47     ┆ 74.2      ┆ 78.04     │\n",
       "│ 00:12:00     ┆       ┆        ┆           ┆   ┆           ┆           ┆           ┆           │\n",
       "└──────────────┴───────┴────────┴───────────┴───┴───────────┴───────────┴───────────┴───────────┘"
      ]
     },
     "execution_count": 11,
     "metadata": {},
     "output_type": "execute_result"
    }
   ],
   "source": [
    "df_option_with_vola = get_bid_ask_vola(tightened_option_chain, interest_rate=0.1)\n",
    "df_option_with_vola.head()"
   ]
  },
  {
   "cell_type": "code",
   "execution_count": 12,
   "id": "15a96219",
   "metadata": {},
   "outputs": [
    {
     "data": {
      "application/vnd.plotly.v1+json": {
       "config": {
        "plotlyServerURL": "https://plot.ly"
       },
       "data": [
        {
         "error_y": {
          "array": {
           "bdata": "4XoUrkdhRkDD9Shcj+JFQIXrUbgeRUVA16NwPQrnREApXI/C9SgyQLgehetReCtAzszMzMzMJEBwPQrXo3AgQKxH4XoULh5AMDMzMzOzHkBUuB6F61EUQLBwPQrXowxAAK5H4XoU+j/Qo3A9CtcKQPAoXI/C9QhAAClcj8L1BEBA4XoUrkf5P+D1KFyPwvM/gOF6FK5H7T+APQrXo3DtP8BRuB6F6+0/wML1KFyP7j8ArkfhehTmP4AUrkfheug/AAAAAAAA7D8=",
           "dtype": "f8"
          },
          "color": "blue",
          "type": "data",
          "visible": true
         },
         "marker": {
          "color": "blue",
          "symbol": "circle"
         },
         "mode": "markers",
         "name": "Call IV (Bid/Ask Error Bar)",
         "type": "scatter",
         "x": {
          "bdata": "yK8AALCzAACYtwAAgLsAAGi/AABQwwAAOMcAACDLAAAIzwAA8NIAANjWAADA2gAAqN4AAJDiAAB45gAAYOoAAEjuAAAw8gAAGPYAAAD6AADo/QAA0AEBAKAJAQBwEQEAQBkBAA==",
          "dtype": "i4"
         },
         "y": {
          "bdata": "j8L1KFyPR0BxPQrXoxBHQDMzMzMzc0ZA16NwPQpnRUBI4XoUrqdPQOF6FK5HiVBAMzMzMzPTUEBcj8L1KAxRQD0K16NwBVFAMzMzMzPbUEDsUbgehetQQML1KFyPAlFArkfhehSeUED2KFyPwq1QQHA9CtejwFBAUrgehevRUED2KFyPwvVQQBSuR+F63FBA16NwPQr/UEAzMzMzMyNRQHA9CtejOFFAwvUoXI9qUUApXI/C9ahRQClcj8L1AFJAXI/C9ShUUkA=",
          "dtype": "f8"
         }
        },
        {
         "error_y": {
          "array": {
           "bdata": "oHA9CtejCEAwCtejcD0FQCCF61G4HgJA8FG4HoXrAUDAHoXrUbj+P0CPwvUoXPc/oHA9Ctej9j8ArkfhehT4PwApXI/C9fQ/QArXo3A98j8grkfhehTwP4BwPQrXo+w/gD0K16Nw8z/go3A9CtfxP6BwPQrXo/A/gOtRuB6F7z9AXI/C9Sj0P4A9CtejcO0/oOtRuB6F8z+QwvUoXI8DQGCPwvUoXBVAULgehetRBEDE9Shcj+I8QLgehetRSEZAcT0K16PwSEA=",
           "dtype": "f8"
          },
          "color": "orange",
          "type": "data",
          "visible": true
         },
         "marker": {
          "color": "orange",
          "symbol": "circle"
         },
         "mode": "markers",
         "name": "Put IV (Bid/Ask Error Bar)",
         "type": "scatter",
         "x": {
          "bdata": "yK8AALCzAACYtwAAgLsAAGi/AABQwwAAOMcAACDLAAAIzwAA8NIAANjWAADA2gAAqN4AAJDiAAB45gAAYOoAAEjuAAAw8gAAGPYAAAD6AADo/QAA0AEBAKAJAQBwEQEAQBkBAA==",
          "dtype": "i4"
         },
         "y": {
          "bdata": "AAAAAABAVUDsUbgehaNUQMP1KFyPGlRA9ihcj8KFU0BI4XoUrgdTQNejcD0Kd1JAzMzMzMwkUkBSuB6F6+lRQM3MzMzMjFFAPQrXo3BNUUA0MzMzMxtRQKRwPQrX61BAexSuR+HSUEA+CtejcMVQQBSuR+F61FBA9ihcj8LNUEAAAAAAAPBQQM3MzMzM/FBAPgrXo3AdUUDiehSuRxlRQPYoXI/CdVBA9ihcj8KFUUBSuB6F62FMQLgehetRyEZAcT0K16NwSUA=",
          "dtype": "f8"
         }
        }
       ],
       "layout": {
        "legend": {
         "title": {
          "text": "Legend"
         }
        },
        "shapes": [
         {
          "line": {
           "color": "green",
           "dash": "dash"
          },
          "name": "Spot Price (S)",
          "type": "line",
          "x0": 62166.15,
          "x1": 62166.15,
          "xref": "x",
          "y0": 0,
          "y1": 1,
          "yref": "y domain"
         }
        ],
        "template": {
         "data": {
          "bar": [
           {
            "error_x": {
             "color": "#2a3f5f"
            },
            "error_y": {
             "color": "#2a3f5f"
            },
            "marker": {
             "line": {
              "color": "white",
              "width": 0.5
             },
             "pattern": {
              "fillmode": "overlay",
              "size": 10,
              "solidity": 0.2
             }
            },
            "type": "bar"
           }
          ],
          "barpolar": [
           {
            "marker": {
             "line": {
              "color": "white",
              "width": 0.5
             },
             "pattern": {
              "fillmode": "overlay",
              "size": 10,
              "solidity": 0.2
             }
            },
            "type": "barpolar"
           }
          ],
          "carpet": [
           {
            "aaxis": {
             "endlinecolor": "#2a3f5f",
             "gridcolor": "#C8D4E3",
             "linecolor": "#C8D4E3",
             "minorgridcolor": "#C8D4E3",
             "startlinecolor": "#2a3f5f"
            },
            "baxis": {
             "endlinecolor": "#2a3f5f",
             "gridcolor": "#C8D4E3",
             "linecolor": "#C8D4E3",
             "minorgridcolor": "#C8D4E3",
             "startlinecolor": "#2a3f5f"
            },
            "type": "carpet"
           }
          ],
          "choropleth": [
           {
            "colorbar": {
             "outlinewidth": 0,
             "ticks": ""
            },
            "type": "choropleth"
           }
          ],
          "contour": [
           {
            "colorbar": {
             "outlinewidth": 0,
             "ticks": ""
            },
            "colorscale": [
             [
              0,
              "#0d0887"
             ],
             [
              0.1111111111111111,
              "#46039f"
             ],
             [
              0.2222222222222222,
              "#7201a8"
             ],
             [
              0.3333333333333333,
              "#9c179e"
             ],
             [
              0.4444444444444444,
              "#bd3786"
             ],
             [
              0.5555555555555556,
              "#d8576b"
             ],
             [
              0.6666666666666666,
              "#ed7953"
             ],
             [
              0.7777777777777778,
              "#fb9f3a"
             ],
             [
              0.8888888888888888,
              "#fdca26"
             ],
             [
              1,
              "#f0f921"
             ]
            ],
            "type": "contour"
           }
          ],
          "contourcarpet": [
           {
            "colorbar": {
             "outlinewidth": 0,
             "ticks": ""
            },
            "type": "contourcarpet"
           }
          ],
          "heatmap": [
           {
            "colorbar": {
             "outlinewidth": 0,
             "ticks": ""
            },
            "colorscale": [
             [
              0,
              "#0d0887"
             ],
             [
              0.1111111111111111,
              "#46039f"
             ],
             [
              0.2222222222222222,
              "#7201a8"
             ],
             [
              0.3333333333333333,
              "#9c179e"
             ],
             [
              0.4444444444444444,
              "#bd3786"
             ],
             [
              0.5555555555555556,
              "#d8576b"
             ],
             [
              0.6666666666666666,
              "#ed7953"
             ],
             [
              0.7777777777777778,
              "#fb9f3a"
             ],
             [
              0.8888888888888888,
              "#fdca26"
             ],
             [
              1,
              "#f0f921"
             ]
            ],
            "type": "heatmap"
           }
          ],
          "histogram": [
           {
            "marker": {
             "pattern": {
              "fillmode": "overlay",
              "size": 10,
              "solidity": 0.2
             }
            },
            "type": "histogram"
           }
          ],
          "histogram2d": [
           {
            "colorbar": {
             "outlinewidth": 0,
             "ticks": ""
            },
            "colorscale": [
             [
              0,
              "#0d0887"
             ],
             [
              0.1111111111111111,
              "#46039f"
             ],
             [
              0.2222222222222222,
              "#7201a8"
             ],
             [
              0.3333333333333333,
              "#9c179e"
             ],
             [
              0.4444444444444444,
              "#bd3786"
             ],
             [
              0.5555555555555556,
              "#d8576b"
             ],
             [
              0.6666666666666666,
              "#ed7953"
             ],
             [
              0.7777777777777778,
              "#fb9f3a"
             ],
             [
              0.8888888888888888,
              "#fdca26"
             ],
             [
              1,
              "#f0f921"
             ]
            ],
            "type": "histogram2d"
           }
          ],
          "histogram2dcontour": [
           {
            "colorbar": {
             "outlinewidth": 0,
             "ticks": ""
            },
            "colorscale": [
             [
              0,
              "#0d0887"
             ],
             [
              0.1111111111111111,
              "#46039f"
             ],
             [
              0.2222222222222222,
              "#7201a8"
             ],
             [
              0.3333333333333333,
              "#9c179e"
             ],
             [
              0.4444444444444444,
              "#bd3786"
             ],
             [
              0.5555555555555556,
              "#d8576b"
             ],
             [
              0.6666666666666666,
              "#ed7953"
             ],
             [
              0.7777777777777778,
              "#fb9f3a"
             ],
             [
              0.8888888888888888,
              "#fdca26"
             ],
             [
              1,
              "#f0f921"
             ]
            ],
            "type": "histogram2dcontour"
           }
          ],
          "mesh3d": [
           {
            "colorbar": {
             "outlinewidth": 0,
             "ticks": ""
            },
            "type": "mesh3d"
           }
          ],
          "parcoords": [
           {
            "line": {
             "colorbar": {
              "outlinewidth": 0,
              "ticks": ""
             }
            },
            "type": "parcoords"
           }
          ],
          "pie": [
           {
            "automargin": true,
            "type": "pie"
           }
          ],
          "scatter": [
           {
            "fillpattern": {
             "fillmode": "overlay",
             "size": 10,
             "solidity": 0.2
            },
            "type": "scatter"
           }
          ],
          "scatter3d": [
           {
            "line": {
             "colorbar": {
              "outlinewidth": 0,
              "ticks": ""
             }
            },
            "marker": {
             "colorbar": {
              "outlinewidth": 0,
              "ticks": ""
             }
            },
            "type": "scatter3d"
           }
          ],
          "scattercarpet": [
           {
            "marker": {
             "colorbar": {
              "outlinewidth": 0,
              "ticks": ""
             }
            },
            "type": "scattercarpet"
           }
          ],
          "scattergeo": [
           {
            "marker": {
             "colorbar": {
              "outlinewidth": 0,
              "ticks": ""
             }
            },
            "type": "scattergeo"
           }
          ],
          "scattergl": [
           {
            "marker": {
             "colorbar": {
              "outlinewidth": 0,
              "ticks": ""
             }
            },
            "type": "scattergl"
           }
          ],
          "scattermap": [
           {
            "marker": {
             "colorbar": {
              "outlinewidth": 0,
              "ticks": ""
             }
            },
            "type": "scattermap"
           }
          ],
          "scattermapbox": [
           {
            "marker": {
             "colorbar": {
              "outlinewidth": 0,
              "ticks": ""
             }
            },
            "type": "scattermapbox"
           }
          ],
          "scatterpolar": [
           {
            "marker": {
             "colorbar": {
              "outlinewidth": 0,
              "ticks": ""
             }
            },
            "type": "scatterpolar"
           }
          ],
          "scatterpolargl": [
           {
            "marker": {
             "colorbar": {
              "outlinewidth": 0,
              "ticks": ""
             }
            },
            "type": "scatterpolargl"
           }
          ],
          "scatterternary": [
           {
            "marker": {
             "colorbar": {
              "outlinewidth": 0,
              "ticks": ""
             }
            },
            "type": "scatterternary"
           }
          ],
          "surface": [
           {
            "colorbar": {
             "outlinewidth": 0,
             "ticks": ""
            },
            "colorscale": [
             [
              0,
              "#0d0887"
             ],
             [
              0.1111111111111111,
              "#46039f"
             ],
             [
              0.2222222222222222,
              "#7201a8"
             ],
             [
              0.3333333333333333,
              "#9c179e"
             ],
             [
              0.4444444444444444,
              "#bd3786"
             ],
             [
              0.5555555555555556,
              "#d8576b"
             ],
             [
              0.6666666666666666,
              "#ed7953"
             ],
             [
              0.7777777777777778,
              "#fb9f3a"
             ],
             [
              0.8888888888888888,
              "#fdca26"
             ],
             [
              1,
              "#f0f921"
             ]
            ],
            "type": "surface"
           }
          ],
          "table": [
           {
            "cells": {
             "fill": {
              "color": "#EBF0F8"
             },
             "line": {
              "color": "white"
             }
            },
            "header": {
             "fill": {
              "color": "#C8D4E3"
             },
             "line": {
              "color": "white"
             }
            },
            "type": "table"
           }
          ]
         },
         "layout": {
          "annotationdefaults": {
           "arrowcolor": "#2a3f5f",
           "arrowhead": 0,
           "arrowwidth": 1
          },
          "autotypenumbers": "strict",
          "coloraxis": {
           "colorbar": {
            "outlinewidth": 0,
            "ticks": ""
           }
          },
          "colorscale": {
           "diverging": [
            [
             0,
             "#8e0152"
            ],
            [
             0.1,
             "#c51b7d"
            ],
            [
             0.2,
             "#de77ae"
            ],
            [
             0.3,
             "#f1b6da"
            ],
            [
             0.4,
             "#fde0ef"
            ],
            [
             0.5,
             "#f7f7f7"
            ],
            [
             0.6,
             "#e6f5d0"
            ],
            [
             0.7,
             "#b8e186"
            ],
            [
             0.8,
             "#7fbc41"
            ],
            [
             0.9,
             "#4d9221"
            ],
            [
             1,
             "#276419"
            ]
           ],
           "sequential": [
            [
             0,
             "#0d0887"
            ],
            [
             0.1111111111111111,
             "#46039f"
            ],
            [
             0.2222222222222222,
             "#7201a8"
            ],
            [
             0.3333333333333333,
             "#9c179e"
            ],
            [
             0.4444444444444444,
             "#bd3786"
            ],
            [
             0.5555555555555556,
             "#d8576b"
            ],
            [
             0.6666666666666666,
             "#ed7953"
            ],
            [
             0.7777777777777778,
             "#fb9f3a"
            ],
            [
             0.8888888888888888,
             "#fdca26"
            ],
            [
             1,
             "#f0f921"
            ]
           ],
           "sequentialminus": [
            [
             0,
             "#0d0887"
            ],
            [
             0.1111111111111111,
             "#46039f"
            ],
            [
             0.2222222222222222,
             "#7201a8"
            ],
            [
             0.3333333333333333,
             "#9c179e"
            ],
            [
             0.4444444444444444,
             "#bd3786"
            ],
            [
             0.5555555555555556,
             "#d8576b"
            ],
            [
             0.6666666666666666,
             "#ed7953"
            ],
            [
             0.7777777777777778,
             "#fb9f3a"
            ],
            [
             0.8888888888888888,
             "#fdca26"
            ],
            [
             1,
             "#f0f921"
            ]
           ]
          },
          "colorway": [
           "#636efa",
           "#EF553B",
           "#00cc96",
           "#ab63fa",
           "#FFA15A",
           "#19d3f3",
           "#FF6692",
           "#B6E880",
           "#FF97FF",
           "#FECB52"
          ],
          "font": {
           "color": "#2a3f5f"
          },
          "geo": {
           "bgcolor": "white",
           "lakecolor": "white",
           "landcolor": "white",
           "showlakes": true,
           "showland": true,
           "subunitcolor": "#C8D4E3"
          },
          "hoverlabel": {
           "align": "left"
          },
          "hovermode": "closest",
          "mapbox": {
           "style": "light"
          },
          "paper_bgcolor": "white",
          "plot_bgcolor": "white",
          "polar": {
           "angularaxis": {
            "gridcolor": "#EBF0F8",
            "linecolor": "#EBF0F8",
            "ticks": ""
           },
           "bgcolor": "white",
           "radialaxis": {
            "gridcolor": "#EBF0F8",
            "linecolor": "#EBF0F8",
            "ticks": ""
           }
          },
          "scene": {
           "xaxis": {
            "backgroundcolor": "white",
            "gridcolor": "#DFE8F3",
            "gridwidth": 2,
            "linecolor": "#EBF0F8",
            "showbackground": true,
            "ticks": "",
            "zerolinecolor": "#EBF0F8"
           },
           "yaxis": {
            "backgroundcolor": "white",
            "gridcolor": "#DFE8F3",
            "gridwidth": 2,
            "linecolor": "#EBF0F8",
            "showbackground": true,
            "ticks": "",
            "zerolinecolor": "#EBF0F8"
           },
           "zaxis": {
            "backgroundcolor": "white",
            "gridcolor": "#DFE8F3",
            "gridwidth": 2,
            "linecolor": "#EBF0F8",
            "showbackground": true,
            "ticks": "",
            "zerolinecolor": "#EBF0F8"
           }
          },
          "shapedefaults": {
           "line": {
            "color": "#2a3f5f"
           }
          },
          "ternary": {
           "aaxis": {
            "gridcolor": "#DFE8F3",
            "linecolor": "#A2B1C6",
            "ticks": ""
           },
           "baxis": {
            "gridcolor": "#DFE8F3",
            "linecolor": "#A2B1C6",
            "ticks": ""
           },
           "bgcolor": "white",
           "caxis": {
            "gridcolor": "#DFE8F3",
            "linecolor": "#A2B1C6",
            "ticks": ""
           }
          },
          "title": {
           "x": 0.05
          },
          "xaxis": {
           "automargin": true,
           "gridcolor": "#EBF0F8",
           "linecolor": "#EBF0F8",
           "ticks": "",
           "title": {
            "standoff": 15
           },
           "zerolinecolor": "#EBF0F8",
           "zerolinewidth": 2
          },
          "yaxis": {
           "automargin": true,
           "gridcolor": "#EBF0F8",
           "linecolor": "#EBF0F8",
           "ticks": "",
           "title": {
            "standoff": 15
           },
           "zerolinecolor": "#EBF0F8",
           "zerolinewidth": 2
          }
         }
        },
        "title": {
         "text": "Implied Volatility on DERIBIT BTC option at 2024-02-29 00:12 for Expiry 15MAR24"
        },
        "xaxis": {
         "title": {
          "text": "Strike Price"
         }
        },
        "yaxis": {
         "title": {
          "text": "Implied Volatility (%)"
         }
        }
       }
      }
     },
     "metadata": {},
     "output_type": "display_data"
    }
   ],
   "source": [
    "import plotly.graph_objects as go\n",
    "\n",
    "fig = go.Figure()\n",
    "# Plot with error bars for bid/ask implied volatility\n",
    "fig.add_trace(go.Scatter(\n",
    "    x=df_option_with_vola['strike'],\n",
    "    y=(df_option_with_vola['bidVola_C']+df_option_with_vola['askVola_C'])/2,\n",
    "    error_y=dict(\n",
    "        type='data',\n",
    "        array=(df_option_with_vola['askVola_C'] - df_option_with_vola['bidVola_C']).abs()/2,\n",
    "        visible=True,\n",
    "        color='blue'\n",
    "    ),\n",
    "    mode='markers',\n",
    "    name='Call IV (Bid/Ask Error Bar)',\n",
    "    marker=dict(color='blue', symbol='circle')\n",
    "))\n",
    "fig.add_trace(go.Scatter(\n",
    "    x=df_option_with_vola['strike'],\n",
    "    y=(df_option_with_vola['bidVola_P']+df_option_with_vola['askVola_P'])/2,\n",
    "    error_y=dict(\n",
    "        type='data',\n",
    "        array=(df_option_with_vola['askVola_P'] - df_option_with_vola['bidVola_P']).abs()/2,\n",
    "        visible=True,\n",
    "        color='orange'\n",
    "    ),\n",
    "    mode='markers',\n",
    "    name='Put IV (Bid/Ask Error Bar)',\n",
    "    marker=dict(color='orange', symbol='circle')\n",
    "))\n",
    "\n",
    "# fig.add_trace(go.Scatter(x=df_option_with_vola['strike'], y=df_option_with_vola['bidVola_P'], mode='markers', name='Put Bid Vola', marker=dict(color='orange', symbol='triangle-up'))) \n",
    "# fig.add_trace(go.Scatter(x=df_option_with_vola['strike'], y=df_option_with_vola['askVola_P'], mode='markers', name='Put Ask Vola', marker=dict(color='orange', symbol='triangle-down')))\n",
    "\n",
    "fig.add_vline(x=df_option_with_vola['S'][0], line=dict(color='green', dash='dash'), name='Spot Price (S)')\n",
    "\n",
    "fig.update_layout(\n",
    "    title=f\"Implied Volatility on DERIBIT BTC option at {snapshot_time.strftime('%Y-%m-%d %H:%M')} for Expiry {my_expiry}\",\n",
    "    xaxis_title=\"Strike Price\",\n",
    "    yaxis_title=\"Implied Volatility (%)\",\n",
    "    legend_title=\"Legend\",\n",
    "    template=\"plotly_white\"\n",
    ")\n",
    "fig.show()\n"
   ]
  },
  {
   "cell_type": "code",
   "execution_count": 13,
   "id": "4a990629",
   "metadata": {},
   "outputs": [
    {
     "data": {
      "text/html": [
       "<div><style>\n",
       ".dataframe > thead > tr,\n",
       ".dataframe > tbody > tr {\n",
       "  text-align: right;\n",
       "  white-space: pre-wrap;\n",
       "}\n",
       "</style>\n",
       "<small>shape: (25, 23)</small><table border=\"1\" class=\"dataframe\"><thead><tr><th>timestamp</th><th>bq0_C</th><th>bp0_C</th><th>bp0_C_usd</th><th>ap0_C_usd</th><th>ap0_C</th><th>aq0_C</th><th>strike</th><th>bq0_P</th><th>bp0_P</th><th>bp0_P_usd</th><th>ap0_P_usd</th><th>ap0_P</th><th>aq0_P</th><th>S</th><th>F</th><th>expiry</th><th>tau</th><th>r</th><th>bidVola_C</th><th>askVola_C</th><th>bidVola_P</th><th>askVola_P</th></tr><tr><td>datetime[ns]</td><td>f64</td><td>f64</td><td>f64</td><td>f64</td><td>f64</td><td>f64</td><td>i64</td><td>f64</td><td>f64</td><td>f64</td><td>f64</td><td>f64</td><td>f64</td><td>f64</td><td>f64</td><td>str</td><td>f64</td><td>f64</td><td>f64</td><td>f64</td><td>f64</td><td>f64</td></tr></thead><tbody><tr><td>2024-02-29 00:12:00</td><td>2.0</td><td>0.281</td><td>17468.69</td><td>17748.44</td><td>0.2855</td><td>61.0</td><td>45000</td><td>19.9</td><td>0.0013</td><td>80.82</td><td>124.33</td><td>0.002</td><td>7.8</td><td>62166.15</td><td>62665.47</td><td>&quot;15MAR24&quot;</td><td>0.041986</td><td>0.1</td><td>2.36</td><td>91.88</td><td>81.92</td><td>88.08</td></tr><tr><td>2024-02-29 00:12:00</td><td>2.0</td><td>0.2655</td><td>16505.11</td><td>16784.86</td><td>0.27</td><td>60.9</td><td>46000</td><td>42.2</td><td>0.0016</td><td>99.47</td><td>142.98</td><td>0.0023</td><td>12.8</td><td>62166.15</td><td>62665.47</td><td>&quot;15MAR24&quot;</td><td>0.041986</td><td>0.1</td><td>2.36</td><td>89.9</td><td>79.9</td><td>85.21</td></tr><tr><td>2024-02-29 00:12:00</td><td>2.0</td><td>0.25</td><td>15541.54</td><td>15821.29</td><td>0.2545</td><td>60.9</td><td>47000</td><td>16.2</td><td>0.002</td><td>124.33</td><td>167.85</td><td>0.0027</td><td>13.1</td><td>62166.15</td><td>62665.47</td><td>&quot;15MAR24&quot;</td><td>0.041986</td><td>0.1</td><td>2.36</td><td>87.44</td><td>78.15</td><td>82.68</td></tr><tr><td>2024-02-29 00:12:00</td><td>2.0</td><td>0.2345</td><td>14577.96</td><td>14857.71</td><td>0.239</td><td>60.9</td><td>48000</td><td>41.9</td><td>0.0024</td><td>149.2</td><td>198.93</td><td>0.0032</td><td>12.3</td><td>62166.15</td><td>62665.47</td><td>&quot;15MAR24&quot;</td><td>0.041986</td><td>0.1</td><td>1.0</td><td>84.61</td><td>75.85</td><td>80.33</td></tr><tr><td>2024-02-29 00:12:00</td><td>2.0</td><td>0.219</td><td>13614.39</td><td>13894.13</td><td>0.2235</td><td>60.9</td><td>49000</td><td>41.7</td><td>0.003</td><td>186.5</td><td>236.23</td><td>0.0038</td><td>12.5</td><td>62166.15</td><td>62665.47</td><td>&quot;15MAR24&quot;</td><td>0.041986</td><td>0.1</td><td>45.15</td><td>81.47</td><td>74.2</td><td>78.04</td></tr><tr><td>2024-02-29 00:12:00</td><td>2.0</td><td>0.2035</td><td>12650.81</td><td>12961.64</td><td>0.2085</td><td>60.9</td><td>50000</td><td>41.4</td><td>0.0037</td><td>230.01</td><td>273.53</td><td>0.0044</td><td>7.7</td><td>62166.15</td><td>62665.47</td><td>&quot;15MAR24&quot;</td><td>0.041986</td><td>0.1</td><td>52.41</td><td>79.88</td><td>72.4</td><td>75.32</td></tr><tr><td>2024-02-29 00:12:00</td><td>2.0</td><td>0.1885</td><td>11718.32</td><td>12029.15</td><td>0.1935</td><td>60.9</td><td>51000</td><td>40.1</td><td>0.0047</td><td>292.18</td><td>341.91</td><td>0.0055</td><td>21.4</td><td>62166.15</td><td>62665.47</td><td>&quot;15MAR24&quot;</td><td>0.041986</td><td>0.1</td><td>56.9</td><td>77.7</td><td>71.16</td><td>73.99</td></tr><tr><td>2024-02-29 00:12:00</td><td>2.0</td><td>0.174</td><td>10816.91</td><td>11127.74</td><td>0.179</td><td>60.9</td><td>52000</td><td>27.4</td><td>0.006</td><td>373.0</td><td>435.16</td><td>0.007</td><td>67.4</td><td>62166.15</td><td>62665.47</td><td>&quot;15MAR24&quot;</td><td>0.041986</td><td>0.1</td><td>59.97</td><td>76.41</td><td>70.15</td><td>73.16</td></tr><tr><td>2024-02-29 00:12:00</td><td>2.0</td><td>0.1595</td><td>9915.5</td><td>10257.41</td><td>0.165</td><td>62.2</td><td>53000</td><td>32.0</td><td>0.0075</td><td>466.25</td><td>528.41</td><td>0.0085</td><td>42.9</td><td>62166.15</td><td>62665.47</td><td>&quot;15MAR24&quot;</td><td>0.041986</td><td>0.1</td><td>60.54</td><td>75.63</td><td>68.89</td><td>71.51</td></tr><tr><td>2024-02-29 00:12:00</td><td>2.0</td><td>0.145</td><td>9014.09</td><td>9418.17</td><td>0.1515</td><td>62.2</td><td>54000</td><td>19.7</td><td>0.0095</td><td>590.58</td><td>652.74</td><td>0.0105</td><td>33.0</td><td>62166.15</td><td>62665.47</td><td>&quot;15MAR24&quot;</td><td>0.041986</td><td>0.1</td><td>59.75</td><td>75.1</td><td>68.07</td><td>70.35</td></tr><tr><td>2024-02-29 00:12:00</td><td>2.0</td><td>0.1325</td><td>8237.01</td><td>8547.85</td><td>0.1375</td><td>62.2</td><td>55000</td><td>13.3</td><td>0.012</td><td>745.99</td><td>808.16</td><td>0.013</td><td>31.0</td><td>62166.15</td><td>62665.47</td><td>&quot;15MAR24&quot;</td><td>0.041986</td><td>0.1</td><td>62.6</td><td>72.76</td><td>67.42</td><td>69.43</td></tr><tr><td>2024-02-29 00:12:00</td><td>7.0</td><td>0.1205</td><td>7491.02</td><td>7739.69</td><td>0.1245</td><td>11.4</td><td>56000</td><td>12.9</td><td>0.015</td><td>932.49</td><td>994.66</td><td>0.016</td><td>15.0</td><td>62166.15</td><td>62665.47</td><td>&quot;15MAR24&quot;</td><td>0.041986</td><td>0.1</td><td>64.46</td><td>71.62</td><td>66.79</td><td>68.58</td></tr><tr><td>2024-02-29 00:12:00</td><td>5.6</td><td>0.1085</td><td>6745.03</td><td>6869.36</td><td>0.1105</td><td>21.6</td><td>57000</td><td>12.3</td><td>0.0185</td><td>1150.07</td><td>1243.32</td><td>0.02</td><td>62.4</td><td>62166.15</td><td>62665.47</td><td>&quot;15MAR24&quot;</td><td>0.041986</td><td>0.1</td><td>64.84</td><td>68.1</td><td>66.08</td><td>68.51</td></tr><tr><td>2024-02-29 00:12:00</td><td>2.0</td><td>0.096</td><td>5967.95</td><td>6247.7</td><td>0.1005</td><td>5.5</td><td>58000</td><td>12.0</td><td>0.023</td><td>1429.82</td><td>1523.07</td><td>0.0245</td><td>59.7</td><td>62166.15</td><td>62665.47</td><td>&quot;15MAR24&quot;</td><td>0.041986</td><td>0.1</td><td>63.36</td><td>70.07</td><td>65.97</td><td>68.2</td></tr><tr><td>2024-02-29 00:12:00</td><td>3.6</td><td>0.0855</td><td>5315.21</td><td>5594.95</td><td>0.09</td><td>5.6</td><td>59000</td><td>11.3</td><td>0.0285</td><td>1771.74</td><td>1864.98</td><td>0.03</td><td>55.4</td><td>62166.15</td><td>62665.47</td><td>&quot;15MAR24&quot;</td><td>0.041986</td><td>0.1</td><td>63.89</td><td>70.13</td><td>66.28</td><td>68.36</td></tr><tr><td>2024-02-29 00:12:00</td><td>2.0</td><td>0.076</td><td>4724.63</td><td>4973.29</td><td>0.08</td><td>62.5</td><td>60000</td><td>36.1</td><td>0.0345</td><td>2144.73</td><td>2237.98</td><td>0.036</td><td>26.9</td><td>62166.15</td><td>62665.47</td><td>&quot;15MAR24&quot;</td><td>0.041986</td><td>0.1</td><td>64.66</td><td>69.9</td><td>66.23</td><td>68.2</td></tr><tr><td>2024-02-29 00:12:00</td><td>0.5</td><td>0.068</td><td>4227.3</td><td>4382.71</td><td>0.0705</td><td>5.5</td><td>61000</td><td>19.5</td><td>0.0415</td><td>2579.9</td><td>2704.23</td><td>0.0435</td><td>34.5</td><td>62166.15</td><td>62665.47</td><td>&quot;15MAR24&quot;</td><td>0.041986</td><td>0.1</td><td>66.26</td><td>69.42</td><td>66.49</td><td>69.01</td></tr><tr><td>2024-02-29 00:12:00</td><td>29.9</td><td>0.0595</td><td>3698.89</td><td>3823.22</td><td>0.0615</td><td>23.4</td><td>62000</td><td>19.1</td><td>0.0495</td><td>3077.22</td><td>3170.47</td><td>0.051</td><td>7.6</td><td>62166.15</td><td>62665.47</td><td>&quot;15MAR24&quot;</td><td>0.041986</td><td>0.1</td><td>66.21</td><td>68.68</td><td>67.03</td><td>68.87</td></tr><tr><td>2024-02-29 00:12:00</td><td>0.5</td><td>0.0525</td><td>3263.72</td><td>3356.97</td><td>0.054</td><td>26.5</td><td>63000</td><td>18.8</td><td>0.058</td><td>3605.64</td><td>3729.97</td><td>0.06</td><td>16.4</td><td>62166.15</td><td>62665.47</td><td>&quot;15MAR24&quot;</td><td>0.041986</td><td>0.1</td><td>67.07</td><td>68.9</td><td>67.24</td><td>69.68</td></tr><tr><td>2024-02-29 00:12:00</td><td>2.0</td><td>0.046</td><td>2859.64</td><td>2952.89</td><td>0.0475</td><td>26.5</td><td>64000</td><td>62.5</td><td>0.066</td><td>4102.97</td><td>4351.63</td><td>0.07</td><td>2.0</td><td>62166.15</td><td>62665.47</td><td>&quot;15MAR24&quot;</td><td>0.041986</td><td>0.1</td><td>67.63</td><td>69.47</td><td>65.95</td><td>70.84</td></tr><tr><td>2024-02-29 00:12:00</td><td>20.2</td><td>0.04</td><td>2486.65</td><td>2579.9</td><td>0.0415</td><td>9.0</td><td>65000</td><td>4.0</td><td>0.071414</td><td>4439.54</td><td>4973.29</td><td>0.08</td><td>2.0</td><td>62166.15</td><td>62665.47</td><td>&quot;15MAR24&quot;</td><td>0.041986</td><td>0.1</td><td>67.95</td><td>69.82</td><td>60.5</td><td>71.18</td></tr><tr><td>2024-02-29 00:12:00</td><td>14.3</td><td>0.035</td><td>2175.82</td><td>2269.06</td><td>0.0365</td><td>28.6</td><td>66000</td><td>60.9</td><td>0.0875</td><td>5439.54</td><td>5688.2</td><td>0.0915</td><td>6.0</td><td>62166.15</td><td>62665.47</td><td>&quot;15MAR24&quot;</td><td>0.041986</td><td>0.1</td><td>68.71</td><td>70.62</td><td>67.55</td><td>72.63</td></tr><tr><td>2024-02-29 00:12:00</td><td>11.3</td><td>0.0265</td><td>1647.4</td><td>1709.57</td><td>0.0275</td><td>9.7</td><td>68000</td><td>4.0</td><td>0.0875</td><td>5439.54</td><td>7688.2</td><td>0.123672</td><td>6.0</td><td>62166.15</td><td>62665.47</td><td>&quot;15MAR24&quot;</td><td>0.041986</td><td>0.1</td><td>69.95</td><td>71.33</td><td>27.88</td><td>85.65</td></tr><tr><td>2024-02-29 00:12:00</td><td>2.2</td><td>0.02</td><td>1243.32</td><td>1305.49</td><td>0.021</td><td>11.9</td><td>70000</td><td>4.0</td><td>0.0875</td><td>5439.54</td><td>9356.01</td><td>0.1505</td><td>5.0</td><td>62166.15</td><td>62665.47</td><td>&quot;15MAR24&quot;</td><td>0.041986</td><td>0.1</td><td>71.25</td><td>72.78</td><td>1.0</td><td>90.13</td></tr><tr><td>2024-02-29 00:12:00</td><td>20.8</td><td>0.015</td><td>932.49</td><td>994.66</td><td>0.016</td><td>14.1</td><td>72000</td><td>4.0</td><td>0.0875</td><td>5439.54</td><td>11356.01</td><td>0.182672</td><td>4.0</td><td>62166.15</td><td>62665.47</td><td>&quot;15MAR24&quot;</td><td>0.041986</td><td>0.1</td><td>72.44</td><td>74.19</td><td>1.0</td><td>100.76</td></tr></tbody></table></div>"
      ],
      "text/plain": [
       "shape: (25, 23)\n",
       "┌──────────────┬───────┬────────┬───────────┬───┬───────────┬───────────┬───────────┬───────────┐\n",
       "│ timestamp    ┆ bq0_C ┆ bp0_C  ┆ bp0_C_usd ┆ … ┆ bidVola_C ┆ askVola_C ┆ bidVola_P ┆ askVola_P │\n",
       "│ ---          ┆ ---   ┆ ---    ┆ ---       ┆   ┆ ---       ┆ ---       ┆ ---       ┆ ---       │\n",
       "│ datetime[ns] ┆ f64   ┆ f64    ┆ f64       ┆   ┆ f64       ┆ f64       ┆ f64       ┆ f64       │\n",
       "╞══════════════╪═══════╪════════╪═══════════╪═══╪═══════════╪═══════════╪═══════════╪═══════════╡\n",
       "│ 2024-02-29   ┆ 2.0   ┆ 0.281  ┆ 17468.69  ┆ … ┆ 2.36      ┆ 91.88     ┆ 81.92     ┆ 88.08     │\n",
       "│ 00:12:00     ┆       ┆        ┆           ┆   ┆           ┆           ┆           ┆           │\n",
       "│ 2024-02-29   ┆ 2.0   ┆ 0.2655 ┆ 16505.11  ┆ … ┆ 2.36      ┆ 89.9      ┆ 79.9      ┆ 85.21     │\n",
       "│ 00:12:00     ┆       ┆        ┆           ┆   ┆           ┆           ┆           ┆           │\n",
       "│ 2024-02-29   ┆ 2.0   ┆ 0.25   ┆ 15541.54  ┆ … ┆ 2.36      ┆ 87.44     ┆ 78.15     ┆ 82.68     │\n",
       "│ 00:12:00     ┆       ┆        ┆           ┆   ┆           ┆           ┆           ┆           │\n",
       "│ 2024-02-29   ┆ 2.0   ┆ 0.2345 ┆ 14577.96  ┆ … ┆ 1.0       ┆ 84.61     ┆ 75.85     ┆ 80.33     │\n",
       "│ 00:12:00     ┆       ┆        ┆           ┆   ┆           ┆           ┆           ┆           │\n",
       "│ 2024-02-29   ┆ 2.0   ┆ 0.219  ┆ 13614.39  ┆ … ┆ 45.15     ┆ 81.47     ┆ 74.2      ┆ 78.04     │\n",
       "│ 00:12:00     ┆       ┆        ┆           ┆   ┆           ┆           ┆           ┆           │\n",
       "│ 2024-02-29   ┆ 2.0   ┆ 0.2035 ┆ 12650.81  ┆ … ┆ 52.41     ┆ 79.88     ┆ 72.4      ┆ 75.32     │\n",
       "│ 00:12:00     ┆       ┆        ┆           ┆   ┆           ┆           ┆           ┆           │\n",
       "│ 2024-02-29   ┆ 2.0   ┆ 0.1885 ┆ 11718.32  ┆ … ┆ 56.9      ┆ 77.7      ┆ 71.16     ┆ 73.99     │\n",
       "│ 00:12:00     ┆       ┆        ┆           ┆   ┆           ┆           ┆           ┆           │\n",
       "│ 2024-02-29   ┆ 2.0   ┆ 0.174  ┆ 10816.91  ┆ … ┆ 59.97     ┆ 76.41     ┆ 70.15     ┆ 73.16     │\n",
       "│ 00:12:00     ┆       ┆        ┆           ┆   ┆           ┆           ┆           ┆           │\n",
       "│ 2024-02-29   ┆ 2.0   ┆ 0.1595 ┆ 9915.5    ┆ … ┆ 60.54     ┆ 75.63     ┆ 68.89     ┆ 71.51     │\n",
       "│ 00:12:00     ┆       ┆        ┆           ┆   ┆           ┆           ┆           ┆           │\n",
       "│ 2024-02-29   ┆ 2.0   ┆ 0.145  ┆ 9014.09   ┆ … ┆ 59.75     ┆ 75.1      ┆ 68.07     ┆ 70.35     │\n",
       "│ 00:12:00     ┆       ┆        ┆           ┆   ┆           ┆           ┆           ┆           │\n",
       "│ 2024-02-29   ┆ 2.0   ┆ 0.1325 ┆ 8237.01   ┆ … ┆ 62.6      ┆ 72.76     ┆ 67.42     ┆ 69.43     │\n",
       "│ 00:12:00     ┆       ┆        ┆           ┆   ┆           ┆           ┆           ┆           │\n",
       "│ 2024-02-29   ┆ 7.0   ┆ 0.1205 ┆ 7491.02   ┆ … ┆ 64.46     ┆ 71.62     ┆ 66.79     ┆ 68.58     │\n",
       "│ 00:12:00     ┆       ┆        ┆           ┆   ┆           ┆           ┆           ┆           │\n",
       "│ 2024-02-29   ┆ 5.6   ┆ 0.1085 ┆ 6745.03   ┆ … ┆ 64.84     ┆ 68.1      ┆ 66.08     ┆ 68.51     │\n",
       "│ 00:12:00     ┆       ┆        ┆           ┆   ┆           ┆           ┆           ┆           │\n",
       "│ 2024-02-29   ┆ 2.0   ┆ 0.096  ┆ 5967.95   ┆ … ┆ 63.36     ┆ 70.07     ┆ 65.97     ┆ 68.2      │\n",
       "│ 00:12:00     ┆       ┆        ┆           ┆   ┆           ┆           ┆           ┆           │\n",
       "│ 2024-02-29   ┆ 3.6   ┆ 0.0855 ┆ 5315.21   ┆ … ┆ 63.89     ┆ 70.13     ┆ 66.28     ┆ 68.36     │\n",
       "│ 00:12:00     ┆       ┆        ┆           ┆   ┆           ┆           ┆           ┆           │\n",
       "│ 2024-02-29   ┆ 2.0   ┆ 0.076  ┆ 4724.63   ┆ … ┆ 64.66     ┆ 69.9      ┆ 66.23     ┆ 68.2      │\n",
       "│ 00:12:00     ┆       ┆        ┆           ┆   ┆           ┆           ┆           ┆           │\n",
       "│ 2024-02-29   ┆ 0.5   ┆ 0.068  ┆ 4227.3    ┆ … ┆ 66.26     ┆ 69.42     ┆ 66.49     ┆ 69.01     │\n",
       "│ 00:12:00     ┆       ┆        ┆           ┆   ┆           ┆           ┆           ┆           │\n",
       "│ 2024-02-29   ┆ 29.9  ┆ 0.0595 ┆ 3698.89   ┆ … ┆ 66.21     ┆ 68.68     ┆ 67.03     ┆ 68.87     │\n",
       "│ 00:12:00     ┆       ┆        ┆           ┆   ┆           ┆           ┆           ┆           │\n",
       "│ 2024-02-29   ┆ 0.5   ┆ 0.0525 ┆ 3263.72   ┆ … ┆ 67.07     ┆ 68.9      ┆ 67.24     ┆ 69.68     │\n",
       "│ 00:12:00     ┆       ┆        ┆           ┆   ┆           ┆           ┆           ┆           │\n",
       "│ 2024-02-29   ┆ 2.0   ┆ 0.046  ┆ 2859.64   ┆ … ┆ 67.63     ┆ 69.47     ┆ 65.95     ┆ 70.84     │\n",
       "│ 00:12:00     ┆       ┆        ┆           ┆   ┆           ┆           ┆           ┆           │\n",
       "│ 2024-02-29   ┆ 20.2  ┆ 0.04   ┆ 2486.65   ┆ … ┆ 67.95     ┆ 69.82     ┆ 60.5      ┆ 71.18     │\n",
       "│ 00:12:00     ┆       ┆        ┆           ┆   ┆           ┆           ┆           ┆           │\n",
       "│ 2024-02-29   ┆ 14.3  ┆ 0.035  ┆ 2175.82   ┆ … ┆ 68.71     ┆ 70.62     ┆ 67.55     ┆ 72.63     │\n",
       "│ 00:12:00     ┆       ┆        ┆           ┆   ┆           ┆           ┆           ┆           │\n",
       "│ 2024-02-29   ┆ 11.3  ┆ 0.0265 ┆ 1647.4    ┆ … ┆ 69.95     ┆ 71.33     ┆ 27.88     ┆ 85.65     │\n",
       "│ 00:12:00     ┆       ┆        ┆           ┆   ┆           ┆           ┆           ┆           │\n",
       "│ 2024-02-29   ┆ 2.2   ┆ 0.02   ┆ 1243.32   ┆ … ┆ 71.25     ┆ 72.78     ┆ 1.0       ┆ 90.13     │\n",
       "│ 00:12:00     ┆       ┆        ┆           ┆   ┆           ┆           ┆           ┆           │\n",
       "│ 2024-02-29   ┆ 20.8  ┆ 0.015  ┆ 932.49    ┆ … ┆ 72.44     ┆ 74.19     ┆ 1.0       ┆ 100.76    │\n",
       "│ 00:12:00     ┆       ┆        ┆           ┆   ┆           ┆           ┆           ┆           │\n",
       "└──────────────┴───────┴────────┴───────────┴───┴───────────┴───────────┴───────────┴───────────┘"
      ]
     },
     "execution_count": 13,
     "metadata": {},
     "output_type": "execute_result"
    }
   ],
   "source": [
    "df_option_with_vola"
   ]
  },
  {
   "cell_type": "code",
   "execution_count": null,
   "id": "8a5cc6b4",
   "metadata": {},
   "outputs": [],
   "source": []
  }
 ],
 "metadata": {
  "kernelspec": {
   "display_name": ".venv",
   "language": "python",
   "name": "python3"
  },
  "language_info": {
   "codemirror_mode": {
    "name": "ipython",
    "version": 3
   },
   "file_extension": ".py",
   "mimetype": "text/x-python",
   "name": "python",
   "nbconvert_exporter": "python",
   "pygments_lexer": "ipython3",
   "version": "3.12.3"
  }
 },
 "nbformat": 4,
 "nbformat_minor": 5
}
