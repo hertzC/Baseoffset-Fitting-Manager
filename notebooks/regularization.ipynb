{
 "cells": [
  {
   "cell_type": "code",
   "execution_count": 1,
   "id": "c68bbe05",
   "metadata": {},
   "outputs": [
    {
     "data": {
      "text/plain": [
       "'/home/user/Python/Baseoffset-Fitting-Manager/notebooks'"
      ]
     },
     "execution_count": 1,
     "metadata": {},
     "output_type": "execute_result"
    }
   ],
   "source": [
    "import polars as pl\n",
    "import os\n",
    "\n",
    "os.getcwd()"
   ]
  },
  {
   "cell_type": "code",
   "execution_count": 48,
   "id": "8d8959c4",
   "metadata": {},
   "outputs": [
    {
     "ename": "ImportError",
     "evalue": "cannot import name 'convert_rate_into_parameter' from 'btc_options.analytics.maths' (/home/user/Python/Baseoffset-Fitting-Manager/btc_options/analytics/maths.py)",
     "output_type": "error",
     "traceback": [
      "\u001b[31m---------------------------------------------------------------------------\u001b[39m",
      "\u001b[31mImportError\u001b[39m                               Traceback (most recent call last)",
      "\u001b[36mCell\u001b[39m\u001b[36m \u001b[39m\u001b[32mIn[48]\u001b[39m\u001b[32m, line 4\u001b[39m\n\u001b[32m      1\u001b[39m \u001b[38;5;28;01mimport\u001b[39;00m\u001b[38;5;250m \u001b[39m\u001b[34;01msys\u001b[39;00m\n\u001b[32m      2\u001b[39m sys.path.append(os.path.dirname(os.getcwd()))\n\u001b[32m----> \u001b[39m\u001b[32m4\u001b[39m \u001b[38;5;28;01mfrom\u001b[39;00m\u001b[38;5;250m \u001b[39m\u001b[34;01mbtc_options\u001b[39;00m\u001b[34;01m.\u001b[39;00m\u001b[34;01manalytics\u001b[39;00m\u001b[34;01m.\u001b[39;00m\u001b[34;01mmaths\u001b[39;00m\u001b[38;5;250m \u001b[39m\u001b[38;5;28;01mimport\u001b[39;00m convert_paramter_into_rate, convert_rate_into_parameter\n\u001b[32m      5\u001b[39m \u001b[38;5;28;01mfrom\u001b[39;00m\u001b[38;5;250m \u001b[39m\u001b[34;01mscipy\u001b[39;00m\u001b[34;01m.\u001b[39;00m\u001b[34;01moptimize\u001b[39;00m\u001b[38;5;250m \u001b[39m\u001b[38;5;28;01mimport\u001b[39;00m minimize\n\u001b[32m      6\u001b[39m \u001b[38;5;28;01mimport\u001b[39;00m\u001b[38;5;250m \u001b[39m\u001b[34;01mnumpy\u001b[39;00m\u001b[38;5;250m \u001b[39m\u001b[38;5;28;01mas\u001b[39;00m\u001b[38;5;250m \u001b[39m\u001b[34;01mnp\u001b[39;00m\n",
      "\u001b[31mImportError\u001b[39m: cannot import name 'convert_rate_into_parameter' from 'btc_options.analytics.maths' (/home/user/Python/Baseoffset-Fitting-Manager/btc_options/analytics/maths.py)"
     ]
    }
   ],
   "source": [
    "import sys\n",
    "sys.path.append(os.path.dirname(os.getcwd()))\n",
    "\n",
    "from btc_options.analytics.maths import convert_paramter_into_rate, convert_rate_into_parameter\n",
    "from scipy.optimize import minimize\n",
    "import numpy as np\n",
    "from datetime import datetime"
   ]
  },
  {
   "cell_type": "code",
   "execution_count": 10,
   "id": "365a9292",
   "metadata": {},
   "outputs": [],
   "source": [
    "df = pl.read_csv('synthetic.csv')"
   ]
  },
  {
   "cell_type": "code",
   "execution_count": 11,
   "id": "de176a6a",
   "metadata": {},
   "outputs": [],
   "source": [
    "my_dt = datetime(2025,8,29,12,32)"
   ]
  },
  {
   "cell_type": "code",
   "execution_count": 12,
   "id": "ff2e4641",
   "metadata": {},
   "outputs": [
    {
     "data": {
      "text/html": [
       "<div><style>\n",
       ".dataframe > thead > tr,\n",
       ".dataframe > tbody > tr {\n",
       "  text-align: right;\n",
       "  white-space: pre-wrap;\n",
       "}\n",
       "</style>\n",
       "<small>shape: (6, 15)</small><table border=\"1\" class=\"dataframe\"><thead><tr><th>strike</th><th>bid</th><th>ask</th><th>mid</th><th>spread</th><th>S</th><th>tau</th><th>bid_price_fut</th><th>ask_price_fut</th><th>bid_size</th><th>ask_size</th><th>bid_size_P</th><th>ask_size_P</th><th>bid_size_fut</th><th>ask_size_fut</th></tr><tr><td>i64</td><td>f64</td><td>f64</td><td>f64</td><td>f64</td><td>f64</td><td>f64</td><td>str</td><td>str</td><td>f64</td><td>f64</td><td>f64</td><td>f64</td><td>str</td><td>str</td></tr></thead><tbody><tr><td>108000</td><td>-3436.76</td><td>-3069.73</td><td>-3253.25</td><td>367.03</td><td>111222.07</td><td>0.002222</td><td>null</td><td>null</td><td>28.4</td><td>28.4</td><td>1.0</td><td>2.2</td><td>null</td><td>null</td></tr><tr><td>109000</td><td>-2424.64</td><td>-2046.49</td><td>-2235.56</td><td>378.16</td><td>111222.07</td><td>0.002222</td><td>null</td><td>null</td><td>30.5</td><td>30.4</td><td>13.0</td><td>4.2</td><td>null</td><td>null</td></tr><tr><td>110000</td><td>-1434.76</td><td>-1045.49</td><td>-1240.13</td><td>389.28</td><td>111222.07</td><td>0.002222</td><td>null</td><td>null</td><td>49.6</td><td>49.7</td><td>1.0</td><td>0.3</td><td>null</td><td>null</td></tr><tr><td>111000</td><td>-333.67</td><td>-55.61</td><td>-194.64</td><td>278.06</td><td>111222.07</td><td>0.002222</td><td>null</td><td>null</td><td>26.6</td><td>29.2</td><td>47.8</td><td>14.0</td><td>null</td><td>null</td></tr><tr><td>112000</td><td>556.11</td><td>956.51</td><td>756.31</td><td>400.4</td><td>111222.07</td><td>0.002222</td><td>null</td><td>null</td><td>8.5</td><td>10.0</td><td>58.0</td><td>56.6</td><td>null</td><td>null</td></tr><tr><td>113000</td><td>1557.11</td><td>1957.51</td><td>1757.31</td><td>400.4</td><td>111222.07</td><td>0.002222</td><td>null</td><td>null</td><td>5.0</td><td>35.9</td><td>33.8</td><td>33.6</td><td>null</td><td>null</td></tr></tbody></table></div>"
      ],
      "text/plain": [
       "shape: (6, 15)\n",
       "┌────────┬──────────┬──────────┬──────────┬───┬────────────┬────────────┬─────────────┬────────────┐\n",
       "│ strike ┆ bid      ┆ ask      ┆ mid      ┆ … ┆ bid_size_P ┆ ask_size_P ┆ bid_size_fu ┆ ask_size_f │\n",
       "│ ---    ┆ ---      ┆ ---      ┆ ---      ┆   ┆ ---        ┆ ---        ┆ t           ┆ ut         │\n",
       "│ i64    ┆ f64      ┆ f64      ┆ f64      ┆   ┆ f64        ┆ f64        ┆ ---         ┆ ---        │\n",
       "│        ┆          ┆          ┆          ┆   ┆            ┆            ┆ str         ┆ str        │\n",
       "╞════════╪══════════╪══════════╪══════════╪═══╪════════════╪════════════╪═════════════╪════════════╡\n",
       "│ 108000 ┆ -3436.76 ┆ -3069.73 ┆ -3253.25 ┆ … ┆ 1.0        ┆ 2.2        ┆ null        ┆ null       │\n",
       "│ 109000 ┆ -2424.64 ┆ -2046.49 ┆ -2235.56 ┆ … ┆ 13.0       ┆ 4.2        ┆ null        ┆ null       │\n",
       "│ 110000 ┆ -1434.76 ┆ -1045.49 ┆ -1240.13 ┆ … ┆ 1.0        ┆ 0.3        ┆ null        ┆ null       │\n",
       "│ 111000 ┆ -333.67  ┆ -55.61   ┆ -194.64  ┆ … ┆ 47.8       ┆ 14.0       ┆ null        ┆ null       │\n",
       "│ 112000 ┆ 556.11   ┆ 956.51   ┆ 756.31   ┆ … ┆ 58.0       ┆ 56.6       ┆ null        ┆ null       │\n",
       "│ 113000 ┆ 1557.11  ┆ 1957.51  ┆ 1757.31  ┆ … ┆ 33.8       ┆ 33.6       ┆ null        ┆ null       │\n",
       "└────────┴──────────┴──────────┴──────────┴───┴────────────┴────────────┴─────────────┴────────────┘"
      ]
     },
     "execution_count": 12,
     "metadata": {},
     "output_type": "execute_result"
    }
   ],
   "source": [
    "df"
   ]
  },
  {
   "cell_type": "code",
   "execution_count": 13,
   "id": "1d23e6a7",
   "metadata": {},
   "outputs": [
    {
     "name": "stdout",
     "output_type": "stream",
     "text": [
      "[-1.11197357e+05  9.99240067e-01]\n"
     ]
    }
   ],
   "source": [
    "previous_param = (0.3421, 0.1)  # r and q\n",
    "tau = df['tau'][0]\n",
    "S = df['S'][0]\n",
    "\n",
    "initial_guess_coef = float(np.exp(-previous_param[0] * tau))\n",
    "initial_guess_const = float(-S * np.exp(-previous_param[1] * tau))\n",
    "\n",
    "initial_guess = np.array([initial_guess_const, initial_guess_coef])\n",
    "\n",
    "print(initial_guess)"
   ]
  },
  {
   "cell_type": "code",
   "execution_count": 39,
   "id": "0582ce0d",
   "metadata": {},
   "outputs": [],
   "source": [
    "# y = df[\"mid\"].to_numpy()\n",
    "# X = df[\"strike\"].to_numpy()\n",
    "# weight = 1 / df[\"spread\"].to_numpy()\n",
    "# weight = weight * weight\n",
    "# lambda_reg = 1\n",
    "\n",
    "def objective(params, x, y, weight, past_params, lambda_reg, spot, tau):\n",
    "    const, coef = params\n",
    "    optimized_rate = convert_paramter_into_rate(params, spot, tau)\n",
    "    residuals = y - (const + coef * x)\n",
    "    sse =  np.sum(weight * residuals**2)\n",
    "    penalty = lambda_reg * np.sum((optimized_rate - past_params)**2)\n",
    "    print(f\"constant={const:10.2f} coefficient={coef:8.4f} r={optimized_rate[0]:10.4f} q={optimized_rate[1]:.4f} sse={sse:18.4f} penalty={penalty:12.4f}\")\n",
    "    return sse + penalty"
   ]
  },
  {
   "cell_type": "code",
   "execution_count": 43,
   "id": "e415a03a",
   "metadata": {},
   "outputs": [
    {
     "name": "stdout",
     "output_type": "stream",
     "text": [
      "initial_r=  0.3421  initital_q= 0.1000\n",
      "constant=-111197.36 coefficient=  0.9992 r=    0.3421 q=0.1000 sse=            0.1477 penalty=      0.0000\n",
      "constant=-111197.36 coefficient=  0.9992 r=    0.3421 q=0.1000 sse=            0.1477 penalty=      0.0000\n",
      "constant=-111197.36 coefficient=  0.9992 r=    0.3421 q=0.1000 sse=            0.1477 penalty=      0.0000\n",
      "constant=-111197.35 coefficient=531.5628 r=-2824.1196 q=0.1000 sse= 159541419491.8255 penalty=79775837.3688\n",
      "constant=-111197.36 coefficient= 54.0556 r=-1795.5058 q=0.1000 sse=   1595388858.4298 penalty=32250698.5810\n",
      "constant=-111197.36 coefficient=  6.3049 r= -828.5954 q=0.1000 sse=     15951355.0670 penalty=6871374.3437\n",
      "constant=-111197.36 coefficient=  1.5298 r= -191.3127 q=0.1000 sse=       159260.3305 penalty= 367315.6562\n",
      "constant=-111197.36 coefficient=  1.0523 r=  -22.9387 q=0.1000 sse=         1567.4129 penalty=   5419.9465\n",
      "constant=-111197.36 coefficient=  1.0045 r=   -2.0409 q=0.1000 sse=           13.2867 penalty=     56.7883\n",
      "constant=-111197.36 coefficient=  0.9998 r=    0.1032 q=0.1000 sse=            0.0257 penalty=      0.5706\n",
      "constant=-111197.36 coefficient=  0.9993 r=    0.2960 q=0.1000 sse=            0.0994 penalty=      0.0212\n",
      "constant=-111197.36 coefficient=  0.9993 r=    0.2960 q=0.1000 sse=            0.0994 penalty=      0.0212\n",
      "constant=-111197.36 coefficient=  0.9993 r=    0.2960 q=0.1000 sse=            0.0993 penalty=      0.0212\n",
      "constant=-111197.35 coefficient=  0.9993 r=    0.2961 q=0.1000 sse=            0.0994 penalty=      0.0212\n",
      "constant=-111197.35 coefficient=  0.9993 r=    0.2961 q=0.1000 sse=            0.0994 penalty=      0.0212\n",
      "constant=-111197.35 coefficient=  0.9993 r=    0.2961 q=0.1000 sse=            0.0993 penalty=      0.0212\n",
      "constant=-111197.33 coefficient=  0.9993 r=    0.2961 q=0.1001 sse=            0.0993 penalty=      0.0212\n",
      "constant=-111197.33 coefficient=  0.9993 r=    0.2961 q=0.1001 sse=            0.0993 penalty=      0.0212\n",
      "constant=-111197.33 coefficient=  0.9993 r=    0.2961 q=0.1001 sse=            0.0993 penalty=      0.0212\n",
      "constant=-111197.24 coefficient=  0.9993 r=    0.2962 q=0.1005 sse=            0.0990 penalty=      0.0211\n",
      "constant=-111197.24 coefficient=  0.9993 r=    0.2962 q=0.1005 sse=            0.0990 penalty=      0.0211\n",
      "constant=-111197.24 coefficient=  0.9993 r=    0.2962 q=0.1005 sse=            0.0990 penalty=      0.0211\n",
      "constant=-111196.78 coefficient=  0.9993 r=    0.2966 q=0.1023 sse=            0.0977 penalty=      0.0208\n",
      "constant=-111196.78 coefficient=  0.9993 r=    0.2966 q=0.1023 sse=            0.0977 penalty=      0.0208\n",
      "constant=-111196.78 coefficient=  0.9993 r=    0.2966 q=0.1023 sse=            0.0977 penalty=      0.0208\n",
      "constant=-111194.58 coefficient=  0.9993 r=    0.2985 q=0.1112 sse=            0.0915 penalty=      0.0202\n",
      "constant=-111194.58 coefficient=  0.9993 r=    0.2985 q=0.1112 sse=            0.0915 penalty=      0.0202\n",
      "constant=-111194.58 coefficient=  0.9993 r=    0.2985 q=0.1112 sse=            0.0915 penalty=      0.0203\n",
      "constant=-111188.00 coefficient=  0.9993 r=    0.3044 q=0.1379 sse=            0.0745 penalty=      0.0286\n",
      "constant=-111188.00 coefficient=  0.9993 r=    0.3044 q=0.1379 sse=            0.0745 penalty=      0.0286\n",
      "constant=-111188.00 coefficient=  0.9993 r=    0.3044 q=0.1379 sse=            0.0745 penalty=      0.0286\n"
     ]
    }
   ],
   "source": [
    "\n",
    "spot, tau = df['S'][0], df['tau'][0]\n",
    "initial_rate = convert_paramter_into_rate(initial_guess, spot, tau)\n",
    "print(f\"initial_r={initial_rate[0]:8.4f}  initital_q= {initial_rate[1]:6.4f}\")\n",
    "result =\\\n",
    "minimize(fun=objective, \n",
    "         x0=initial_guess, \n",
    "         args=(\n",
    "                (X:=df['strike'].to_numpy()),\n",
    "                (Y:=df['mid'].to_numpy()),\n",
    "                (weight:= (1 / df['spread'].to_numpy())**2),\n",
    "                initial_rate,\n",
    "                (lambda_reg:=10),\n",
    "                spot,\n",
    "                tau\n",
    "               ),\n",
    "         method='SLSQP')"
   ]
  },
  {
   "cell_type": "code",
   "execution_count": 46,
   "id": "716c830f",
   "metadata": {},
   "outputs": [
    {
     "data": {
      "text/plain": [
       "array([0.30438643, 0.13786739])"
      ]
     },
     "execution_count": 46,
     "metadata": {},
     "output_type": "execute_result"
    }
   ],
   "source": [
    "convert_paramter_into_rate(result.x, spot, tau)"
   ]
  },
  {
   "cell_type": "code",
   "execution_count": 47,
   "id": "c601945a",
   "metadata": {},
   "outputs": [
    {
     "ename": "AttributeError",
     "evalue": "params",
     "output_type": "error",
     "traceback": [
      "\u001b[31m---------------------------------------------------------------------------\u001b[39m",
      "\u001b[31mKeyError\u001b[39m                                  Traceback (most recent call last)",
      "\u001b[36mFile \u001b[39m\u001b[32m~/Python/Baseoffset-Fitting-Manager/.venv/lib/python3.12/site-packages/scipy/_lib/_util.py:1073\u001b[39m, in \u001b[36m_RichResult.__getattr__\u001b[39m\u001b[34m(self, name)\u001b[39m\n\u001b[32m   1072\u001b[39m \u001b[38;5;28;01mtry\u001b[39;00m:\n\u001b[32m-> \u001b[39m\u001b[32m1073\u001b[39m     \u001b[38;5;28;01mreturn\u001b[39;00m \u001b[38;5;28;43mself\u001b[39;49m\u001b[43m[\u001b[49m\u001b[43mname\u001b[49m\u001b[43m]\u001b[49m\n\u001b[32m   1074\u001b[39m \u001b[38;5;28;01mexcept\u001b[39;00m \u001b[38;5;167;01mKeyError\u001b[39;00m \u001b[38;5;28;01mas\u001b[39;00m e:\n",
      "\u001b[31mKeyError\u001b[39m: 'params'",
      "\nThe above exception was the direct cause of the following exception:\n",
      "\u001b[31mAttributeError\u001b[39m                            Traceback (most recent call last)",
      "\u001b[36mCell\u001b[39m\u001b[36m \u001b[39m\u001b[32mIn[47]\u001b[39m\u001b[32m, line 1\u001b[39m\n\u001b[32m----> \u001b[39m\u001b[32m1\u001b[39m \u001b[43mresult\u001b[49m\u001b[43m.\u001b[49m\u001b[43mparams\u001b[49m\n",
      "\u001b[36mFile \u001b[39m\u001b[32m~/Python/Baseoffset-Fitting-Manager/.venv/lib/python3.12/site-packages/scipy/_lib/_util.py:1075\u001b[39m, in \u001b[36m_RichResult.__getattr__\u001b[39m\u001b[34m(self, name)\u001b[39m\n\u001b[32m   1073\u001b[39m     \u001b[38;5;28;01mreturn\u001b[39;00m \u001b[38;5;28mself\u001b[39m[name]\n\u001b[32m   1074\u001b[39m \u001b[38;5;28;01mexcept\u001b[39;00m \u001b[38;5;167;01mKeyError\u001b[39;00m \u001b[38;5;28;01mas\u001b[39;00m e:\n\u001b[32m-> \u001b[39m\u001b[32m1075\u001b[39m     \u001b[38;5;28;01mraise\u001b[39;00m \u001b[38;5;167;01mAttributeError\u001b[39;00m(name) \u001b[38;5;28;01mfrom\u001b[39;00m\u001b[38;5;250m \u001b[39m\u001b[34;01me\u001b[39;00m\n",
      "\u001b[31mAttributeError\u001b[39m: params"
     ]
    }
   ],
   "source": [
    "result.params"
   ]
  },
  {
   "cell_type": "code",
   "execution_count": null,
   "id": "bb71ff27",
   "metadata": {},
   "outputs": [],
   "source": []
  }
 ],
 "metadata": {
  "kernelspec": {
   "display_name": ".venv",
   "language": "python",
   "name": "python3"
  },
  "language_info": {
   "codemirror_mode": {
    "name": "ipython",
    "version": 3
   },
   "file_extension": ".py",
   "mimetype": "text/x-python",
   "name": "python",
   "nbconvert_exporter": "python",
   "pygments_lexer": "ipython3",
   "version": "3.12.3"
  }
 },
 "nbformat": 4,
 "nbformat_minor": 5
}
