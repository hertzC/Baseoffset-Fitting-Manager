{
 "cells": [
  {
   "cell_type": "code",
   "execution_count": 1,
   "id": "3a4a53c1",
   "metadata": {},
   "outputs": [],
   "source": [
    "import polars as pl\n",
    "pl.Config.set_tbl_rows(40)\n",
    "\n",
    "import numpy as np\n",
    "from scipy.stats import norm\n",
    "from scipy.special import ndtr"
   ]
  },
  {
   "cell_type": "code",
   "execution_count": null,
   "id": "0c1945cb",
   "metadata": {},
   "outputs": [],
   "source": [
    "\n",
    "date_str = '20250829'\n",
    "\n",
    "df = pl.read_csv('temp.csv')\n",
    "df = df.with_columns(\n",
    "    [(pl.col(col) * pl.col('S')).round(1).alias(col+'_usd') for col in ['bid_price','ask_price','bid_price_P','ask_price_P']]\n",
    ")"
   ]
  },
  {
   "cell_type": "code",
   "execution_count": null,
   "id": "294b462b",
   "metadata": {},
   "outputs": [],
   "source": [
    "pl.read_csv(f'{date_str}/btc')"
   ]
  },
  {
   "cell_type": "code",
   "execution_count": 3,
   "id": "a343b600",
   "metadata": {},
   "outputs": [
    {
     "data": {
      "text/html": [
       "<div><style>\n",
       ".dataframe > thead > tr,\n",
       ".dataframe > tbody > tr {\n",
       "  text-align: right;\n",
       "  white-space: pre-wrap;\n",
       "}\n",
       "</style>\n",
       "<small>shape: (5, 14)</small><table border=\"1\" class=\"dataframe\"><thead><tr><th>timestamp</th><th>bid_price</th><th>ask_price</th><th>strike</th><th>bid_price_P</th><th>ask_price_P</th><th>expiry</th><th>S</th><th>tau</th><th>F</th><th>bid_price_usd</th><th>ask_price_usd</th><th>bid_price_P_usd</th><th>ask_price_P_usd</th></tr><tr><td>str</td><td>f64</td><td>f64</td><td>i64</td><td>f64</td><td>f64</td><td>str</td><td>f64</td><td>f64</td><td>f64</td><td>f64</td><td>f64</td><td>f64</td><td>f64</td></tr></thead><tbody><tr><td>&quot;2025-08-29T12:00:00.000000&quot;</td><td>0.013</td><td>0.0135</td><td>117000</td><td>0.063</td><td>0.075582</td><td>&quot;19SEP25&quot;</td><td>110106.62</td><td>0.057078</td><td>110618.96</td><td>1431.4</td><td>1486.4</td><td>6936.7</td><td>8322.1</td></tr><tr><td>&quot;2025-08-29T12:00:00.000000&quot;</td><td>0.011</td><td>0.0115</td><td>118000</td><td>0.063</td><td>0.084664</td><td>&quot;19SEP25&quot;</td><td>110106.62</td><td>0.057078</td><td>110618.96</td><td>1211.2</td><td>1266.2</td><td>6936.7</td><td>9322.1</td></tr><tr><td>&quot;2025-08-29T12:00:00.000000&quot;</td><td>0.008</td><td>0.0085</td><td>120000</td><td>0.063</td><td>0.102828</td><td>&quot;19SEP25&quot;</td><td>110106.62</td><td>0.057078</td><td>110618.96</td><td>880.9</td><td>935.9</td><td>6936.7</td><td>11322.1</td></tr><tr><td>&quot;2025-08-29T12:00:00.000000&quot;</td><td>0.0035</td><td>0.0039</td><td>125000</td><td>0.095</td><td>0.148239</td><td>&quot;19SEP25&quot;</td><td>110106.62</td><td>0.057078</td><td>110618.96</td><td>385.4</td><td>429.4</td><td>10460.1</td><td>16322.1</td></tr><tr><td>&quot;2025-08-29T12:00:00.000000&quot;</td><td>0.0017</td><td>0.0021</td><td>130000</td><td>0.137</td><td>0.193649</td><td>&quot;19SEP25&quot;</td><td>110106.62</td><td>0.057078</td><td>110618.96</td><td>187.2</td><td>231.2</td><td>15084.6</td><td>21322.1</td></tr></tbody></table></div>"
      ],
      "text/plain": [
       "shape: (5, 14)\n",
       "┌────────────┬───────────┬───────────┬────────┬───┬────────────┬───────────┬───────────┬───────────┐\n",
       "│ timestamp  ┆ bid_price ┆ ask_price ┆ strike ┆ … ┆ bid_price_ ┆ ask_price ┆ bid_price ┆ ask_price │\n",
       "│ ---        ┆ ---       ┆ ---       ┆ ---    ┆   ┆ usd        ┆ _usd      ┆ _P_usd    ┆ _P_usd    │\n",
       "│ str        ┆ f64       ┆ f64       ┆ i64    ┆   ┆ ---        ┆ ---       ┆ ---       ┆ ---       │\n",
       "│            ┆           ┆           ┆        ┆   ┆ f64        ┆ f64       ┆ f64       ┆ f64       │\n",
       "╞════════════╪═══════════╪═══════════╪════════╪═══╪════════════╪═══════════╪═══════════╪═══════════╡\n",
       "│ 2025-08-29 ┆ 0.013     ┆ 0.0135    ┆ 117000 ┆ … ┆ 1431.4     ┆ 1486.4    ┆ 6936.7    ┆ 8322.1    │\n",
       "│ T12:00:00. ┆           ┆           ┆        ┆   ┆            ┆           ┆           ┆           │\n",
       "│ 000000     ┆           ┆           ┆        ┆   ┆            ┆           ┆           ┆           │\n",
       "│ 2025-08-29 ┆ 0.011     ┆ 0.0115    ┆ 118000 ┆ … ┆ 1211.2     ┆ 1266.2    ┆ 6936.7    ┆ 9322.1    │\n",
       "│ T12:00:00. ┆           ┆           ┆        ┆   ┆            ┆           ┆           ┆           │\n",
       "│ 000000     ┆           ┆           ┆        ┆   ┆            ┆           ┆           ┆           │\n",
       "│ 2025-08-29 ┆ 0.008     ┆ 0.0085    ┆ 120000 ┆ … ┆ 880.9      ┆ 935.9     ┆ 6936.7    ┆ 11322.1   │\n",
       "│ T12:00:00. ┆           ┆           ┆        ┆   ┆            ┆           ┆           ┆           │\n",
       "│ 000000     ┆           ┆           ┆        ┆   ┆            ┆           ┆           ┆           │\n",
       "│ 2025-08-29 ┆ 0.0035    ┆ 0.0039    ┆ 125000 ┆ … ┆ 385.4      ┆ 429.4     ┆ 10460.1   ┆ 16322.1   │\n",
       "│ T12:00:00. ┆           ┆           ┆        ┆   ┆            ┆           ┆           ┆           │\n",
       "│ 000000     ┆           ┆           ┆        ┆   ┆            ┆           ┆           ┆           │\n",
       "│ 2025-08-29 ┆ 0.0017    ┆ 0.0021    ┆ 130000 ┆ … ┆ 187.2      ┆ 231.2     ┆ 15084.6   ┆ 21322.1   │\n",
       "│ T12:00:00. ┆           ┆           ┆        ┆   ┆            ┆           ┆           ┆           │\n",
       "│ 000000     ┆           ┆           ┆        ┆   ┆            ┆           ┆           ┆           │\n",
       "└────────────┴───────────┴───────────┴────────┴───┴────────────┴───────────┴───────────┴───────────┘"
      ]
     },
     "execution_count": 3,
     "metadata": {},
     "output_type": "execute_result"
    }
   ],
   "source": [
    "df.tail(5)"
   ]
  },
  {
   "cell_type": "code",
   "execution_count": null,
   "id": "c4ef5c08",
   "metadata": {},
   "outputs": [],
   "source": [
    "\n",
    "\n",
    "N = ndtr  # Normal CDF function\n",
    "# N = norm.cdf\n",
    "\n",
    "def black76_call(F, K, T, r, vol):\n",
    "    \"\"\"\n",
    "    Black-76 call option price for forward contracts\n",
    "    \n",
    "    Parameters:\n",
    "    F: Forward price\n",
    "    K: Strike price \n",
    "    T: Time to expiration (years)\n",
    "    r: Risk-free rate (for discounting)\n",
    "    vol: Volatility\n",
    "    \"\"\"\n",
    "    d1 = (np.log(F/K) + 0.5*vol**2*T) / (vol*np.sqrt(T))\n",
    "    d2 = d1 - vol * np.sqrt(T)\n",
    "    return np.exp(-r * T) * (F * N(d1) - K * N(d2))\n",
    "\n",
    "def black76_put(F, K, T, r, vol):\n",
    "    \"\"\"\n",
    "    Black-76 put option price for forward contracts\n",
    "    \n",
    "    Parameters:\n",
    "    F: Forward price\n",
    "    K: Strike price\n",
    "    T: Time to expiration (years) \n",
    "    r: Risk-free rate (for discounting)\n",
    "    vol: Volatility\n",
    "    \"\"\"\n",
    "    d1 = (np.log(F/K) + 0.5*vol**2*T) / (vol*np.sqrt(T))\n",
    "    d2 = d1 - vol * np.sqrt(T)\n",
    "    return np.exp(-r * T) * (K * N(-d2) - F * N(-d1))\n",
    "\n",
    "def black76_vega(F, K, T, r, sigma):\n",
    "    \"\"\"\n",
    "    Black-76 vega (sensitivity to volatility) for forward contracts\n",
    "    \n",
    "    Parameters:\n",
    "    F: Forward price\n",
    "    K: Strike price\n",
    "    T: Time to expiration (years)\n",
    "    r: Risk-free rate  \n",
    "    sigma: Volatility\n",
    "    \"\"\"\n",
    "    d1 = (np.log(F / K) + 0.5 * sigma ** 2 * T) / (sigma * np.sqrt(T))\n",
    "    return np.exp(-r * T) * F * norm.pdf(d1) * np.sqrt(T)\n",
    "\n",
    "# Keep aliases for backward compatibility\n",
    "bs_call = black76_call\n",
    "bs_put = black76_put\n",
    "bs_vega = black76_vega"
   ]
  },
  {
   "cell_type": "code",
   "execution_count": 5,
   "id": "50646097",
   "metadata": {},
   "outputs": [],
   "source": [
    "def find_vol(target_value, F, K, T, r, **kwargs):\n",
    "    \"\"\"\n",
    "    Vectorized implied volatility solver using Newton-Raphson method with Black-76 model.\n",
    "    \n",
    "    All arguments can be numpy arrays, scalars, or Polars expressions.\n",
    "    Returns array of implied volatilities or scalar if all inputs are scalar.\n",
    "    \n",
    "    Parameters:\n",
    "    -----------\n",
    "    target_value : array-like or scalar\n",
    "        Option market prices\n",
    "    F : array-like or scalar  \n",
    "        Forward prices\n",
    "    K : array-like or scalar\n",
    "        Strike prices\n",
    "    T : array-like or scalar\n",
    "        Time to expiration (in years)\n",
    "    r : array-like or scalar\n",
    "        Risk-free interest rate (for discounting)\n",
    "    option_type : str, optional\n",
    "        'C' for call (default), 'P' for put\n",
    "    \n",
    "    Returns:\n",
    "    --------\n",
    "    numpy.ndarray or float\n",
    "        Implied volatilities\n",
    "    \"\"\"\n",
    "    MAX_ITERATIONS = 200\n",
    "    PRECISION = 1.0e-5\n",
    "    \n",
    "    # Convert all inputs to numpy arrays for vectorization\n",
    "    target_value = np.asarray(target_value, dtype=float)\n",
    "    F = np.asarray(F, dtype=float)\n",
    "    K = np.asarray(K, dtype=float)\n",
    "    T = np.asarray(T, dtype=float)\n",
    "    r = np.asarray(r, dtype=float)\n",
    "    option_type = kwargs.get('option_type', 'C')\n",
    "    \n",
    "    # Get the broadcasted shape\n",
    "    try:\n",
    "        shape = np.broadcast(target_value, F, K, T, r).shape\n",
    "    except ValueError as e:\n",
    "        raise ValueError(f\"Input arrays could not be broadcast together: {e}\")\n",
    "    \n",
    "    # Initialize volatility array\n",
    "    sigmas = np.full(shape, 0.5, dtype=float)\n",
    "    done = np.zeros(shape, dtype=bool)\n",
    "    \n",
    "    # Newton-Raphson iterations\n",
    "    for iteration in range(MAX_ITERATIONS):\n",
    "        # Calculate option prices and vegas using Black-76\n",
    "        if option_type == 'P':\n",
    "            prices = black76_put(F, K, T, r, sigmas)\n",
    "        else:\n",
    "            prices = black76_call(F, K, T, r, sigmas)\n",
    "        \n",
    "        vegas = black76_vega(F, K, T, r, sigmas)\n",
    "        \n",
    "        # Calculate price differences\n",
    "        diff = target_value - prices\n",
    "        \n",
    "        # Check convergence\n",
    "        converged = np.abs(diff) < PRECISION\n",
    "        \n",
    "        # Only update where not converged and vega is not zero\n",
    "        update_mask = ~done & (vegas != 0) & np.isfinite(vegas) & np.isfinite(diff)\n",
    "        \n",
    "        # Newton-Raphson update\n",
    "        sigmas[update_mask] += diff[update_mask] / vegas[update_mask]\n",
    "        \n",
    "        # Ensure volatility stays positive\n",
    "        sigmas = np.maximum(sigmas, 1e-6)\n",
    "        \n",
    "        # Mark converged elements as done\n",
    "        done = done | converged\n",
    "        \n",
    "        # Early exit if all converged\n",
    "        if np.all(done):\n",
    "            break\n",
    "    \n",
    "    # Return scalar if input was scalar, otherwise return array\n",
    "    if sigmas.shape == ():\n",
    "        return float(sigmas)\n",
    "    else:\n",
    "        return sigmas"
   ]
  },
  {
   "cell_type": "code",
   "execution_count": 6,
   "id": "e1c5a284",
   "metadata": {},
   "outputs": [],
   "source": [
    "df_vola =\\\n",
    "df.with_columns(\n",
    "    call_bid_vola = find_vol(\n",
    "        target_value=df['bid_price_usd'].to_numpy(),\n",
    "        F=df['F'].to_numpy(),\n",
    "        K=df['strike'].to_numpy(),\n",
    "        T=df['tau'].to_numpy(),\n",
    "        r=(interest_rate:=0.08),\n",
    "        option_type='C'\n",
    "    ).round(4),\n",
    "    call_ask_vola = find_vol(\n",
    "        target_value=df['ask_price_usd'].to_numpy(),\n",
    "        F=df['F'].to_numpy(),\n",
    "        K=df['strike'].to_numpy(),\n",
    "        T=df['tau'].to_numpy(), \n",
    "        r=interest_rate,\n",
    "        option_type='C'\n",
    "    ).round(4),\n",
    "    put_bid_vola = find_vol(\n",
    "        target_value=df['bid_price_P_usd'].to_numpy(),\n",
    "        F=df['F'].to_numpy(),\n",
    "        K=df['strike'].to_numpy(),\n",
    "        T=df['tau'].to_numpy(),\n",
    "        r=interest_rate,\n",
    "        option_type='P'\n",
    "    ).round(4),\n",
    "    put_ask_vola = find_vol(\n",
    "        target_value=df['ask_price_P_usd'].to_numpy(),\n",
    "        F=df['F'].to_numpy(),\n",
    "        K=df['strike'].to_numpy(),\n",
    "        T=df['tau'].to_numpy(),\n",
    "        r=interest_rate,\n",
    "        option_type='P'\n",
    "    ).round(4)\n",
    ")"
   ]
  },
  {
   "cell_type": "code",
   "execution_count": 7,
   "id": "3fa3e857",
   "metadata": {},
   "outputs": [
    {
     "data": {
      "text/html": [
       "<div><style>\n",
       ".dataframe > thead > tr,\n",
       ".dataframe > tbody > tr {\n",
       "  text-align: right;\n",
       "  white-space: pre-wrap;\n",
       "}\n",
       "</style>\n",
       "<small>shape: (22, 18)</small><table border=\"1\" class=\"dataframe\"><thead><tr><th>timestamp</th><th>bid_price</th><th>ask_price</th><th>strike</th><th>bid_price_P</th><th>ask_price_P</th><th>expiry</th><th>S</th><th>tau</th><th>F</th><th>bid_price_usd</th><th>ask_price_usd</th><th>bid_price_P_usd</th><th>ask_price_P_usd</th><th>call_bid_vola</th><th>call_ask_vola</th><th>put_bid_vola</th><th>put_ask_vola</th></tr><tr><td>str</td><td>f64</td><td>f64</td><td>i64</td><td>f64</td><td>f64</td><td>str</td><td>f64</td><td>f64</td><td>f64</td><td>f64</td><td>f64</td><td>f64</td><td>f64</td><td>f64</td><td>f64</td><td>f64</td><td>f64</td></tr></thead><tbody><tr><td>&quot;2025-08-29T12:00:00.000000&quot;</td><td>0.1125</td><td>0.156739</td><td>95000</td><td>0.004</td><td>0.0043</td><td>&quot;19SEP25&quot;</td><td>110106.62</td><td>0.057078</td><td>110618.96</td><td>12387.0</td><td>17258.0</td><td>440.4</td><td>473.5</td><td>0.0</td><td>0.7049</td><td>0.4642</td><td>0.4728</td></tr><tr><td>&quot;2025-08-29T12:00:00.000000&quot;</td><td>0.087</td><td>0.129493</td><td>98000</td><td>0.0055</td><td>0.0065</td><td>&quot;19SEP25&quot;</td><td>110106.62</td><td>0.057078</td><td>110618.96</td><td>9579.3</td><td>14258.0</td><td>605.6</td><td>715.7</td><td>0.0</td><td>0.6073</td><td>0.4265</td><td>0.4483</td></tr><tr><td>&quot;2025-08-29T12:00:00.000000&quot;</td><td>0.073</td><td>0.111328</td><td>100000</td><td>0.0075</td><td>0.0085</td><td>&quot;19SEP25&quot;</td><td>110106.62</td><td>0.057078</td><td>110618.96</td><td>8037.8</td><td>12258.0</td><td>825.8</td><td>935.9</td><td>0.0</td><td>0.542</td><td>0.4134</td><td>0.4316</td></tr><tr><td>&quot;2025-08-29T12:00:00.000000&quot;</td><td>0.073</td><td>0.093164</td><td>102000</td><td>0.0105</td><td>0.011</td><td>&quot;19SEP25&quot;</td><td>110106.62</td><td>0.057078</td><td>110618.96</td><td>8037.8</td><td>10258.0</td><td>1156.1</td><td>1211.2</td><td>0.0</td><td>0.476</td><td>0.4061</td><td>0.4138</td></tr><tr><td>&quot;2025-08-29T12:00:00.000000&quot;</td><td>0.073</td><td>0.075</td><td>104000</td><td>0.014</td><td>0.0145</td><td>&quot;19SEP25&quot;</td><td>110106.62</td><td>0.057078</td><td>110618.96</td><td>8037.8</td><td>8258.0</td><td>1541.5</td><td>1596.5</td><td>0.382</td><td>0.4089</td><td>0.3934</td><td>0.4001</td></tr><tr><td>&quot;2025-08-29T12:00:00.000000&quot;</td><td>0.066</td><td>0.068</td><td>105000</td><td>0.016</td><td>0.0165</td><td>&quot;19SEP25&quot;</td><td>110106.62</td><td>0.057078</td><td>110618.96</td><td>7267.0</td><td>7487.3</td><td>1761.7</td><td>1816.8</td><td>0.3756</td><td>0.4008</td><td>0.3857</td><td>0.3921</td></tr><tr><td>&quot;2025-08-29T12:00:00.000000&quot;</td><td>0.0595</td><td>0.0615</td><td>106000</td><td>0.0185</td><td>0.019</td><td>&quot;19SEP25&quot;</td><td>110106.62</td><td>0.057078</td><td>110618.96</td><td>6551.3</td><td>6771.6</td><td>2037.0</td><td>2092.0</td><td>0.3719</td><td>0.3959</td><td>0.3811</td><td>0.387</td></tr><tr><td>&quot;2025-08-29T12:00:00.000000&quot;</td><td>0.053</td><td>0.0555</td><td>107000</td><td>0.021</td><td>0.022</td><td>&quot;19SEP25&quot;</td><td>110106.62</td><td>0.057078</td><td>110618.96</td><td>5835.7</td><td>6110.9</td><td>2312.2</td><td>2422.3</td><td>0.3647</td><td>0.3932</td><td>0.3729</td><td>0.3843</td></tr><tr><td>&quot;2025-08-29T12:00:00.000000&quot;</td><td>0.0475</td><td>0.049</td><td>108000</td><td>0.024</td><td>0.025</td><td>&quot;19SEP25&quot;</td><td>110106.62</td><td>0.057078</td><td>110618.96</td><td>5230.1</td><td>5395.2</td><td>2642.6</td><td>2752.7</td><td>0.3651</td><td>0.3816</td><td>0.367</td><td>0.378</td></tr><tr><td>&quot;2025-08-29T12:00:00.000000&quot;</td><td>0.0425</td><td>0.0435</td><td>109000</td><td>0.0275</td><td>0.0285</td><td>&quot;19SEP25&quot;</td><td>110106.62</td><td>0.057078</td><td>110618.96</td><td>4679.5</td><td>4789.6</td><td>3027.9</td><td>3138.0</td><td>0.3668</td><td>0.3775</td><td>0.3629</td><td>0.3736</td></tr><tr><td>&quot;2025-08-29T12:00:00.000000&quot;</td><td>0.037</td><td>0.038</td><td>110000</td><td>0.0315</td><td>0.0325</td><td>&quot;19SEP25&quot;</td><td>110106.62</td><td>0.057078</td><td>110618.96</td><td>4073.9</td><td>4184.1</td><td>3468.4</td><td>3578.5</td><td>0.3592</td><td>0.3697</td><td>0.3602</td><td>0.3707</td></tr><tr><td>&quot;2025-08-29T12:00:00.000000&quot;</td><td>0.0325</td><td>0.0335</td><td>111000</td><td>0.036</td><td>0.0365</td><td>&quot;19SEP25&quot;</td><td>110106.62</td><td>0.057078</td><td>110618.96</td><td>3578.5</td><td>3688.6</td><td>3963.8</td><td>4018.9</td><td>0.3582</td><td>0.3687</td><td>0.3588</td><td>0.3641</td></tr><tr><td>&quot;2025-08-29T12:00:00.000000&quot;</td><td>0.028</td><td>0.029</td><td>112000</td><td>0.0405</td><td>0.0415</td><td>&quot;19SEP25&quot;</td><td>110106.62</td><td>0.057078</td><td>110618.96</td><td>3083.0</td><td>3193.1</td><td>4459.3</td><td>4569.4</td><td>0.3533</td><td>0.3639</td><td>0.3535</td><td>0.364</td></tr><tr><td>&quot;2025-08-29T12:00:00.000000&quot;</td><td>0.0245</td><td>0.025</td><td>113000</td><td>0.046</td><td>0.047</td><td>&quot;19SEP25&quot;</td><td>110106.62</td><td>0.057078</td><td>110618.96</td><td>2697.6</td><td>2752.7</td><td>5064.9</td><td>5175.0</td><td>0.355</td><td>0.3604</td><td>0.3547</td><td>0.3654</td></tr><tr><td>&quot;2025-08-29T12:00:00.000000&quot;</td><td>0.021</td><td>0.0215</td><td>114000</td><td>0.051</td><td>0.053</td><td>&quot;19SEP25&quot;</td><td>110106.62</td><td>0.057078</td><td>110618.96</td><td>2312.2</td><td>2367.3</td><td>5615.4</td><td>5835.7</td><td>0.3528</td><td>0.3583</td><td>0.3465</td><td>0.3685</td></tr><tr><td>&quot;2025-08-29T12:00:00.000000&quot;</td><td>0.018</td><td>0.0185</td><td>115000</td><td>0.0565</td><td>0.0595</td><td>&quot;19SEP25&quot;</td><td>110106.62</td><td>0.057078</td><td>110618.96</td><td>1981.9</td><td>2037.0</td><td>6221.0</td><td>6551.3</td><td>0.3522</td><td>0.3579</td><td>0.3394</td><td>0.3737</td></tr><tr><td>&quot;2025-08-29T12:00:00.000000&quot;</td><td>0.015</td><td>0.016</td><td>116000</td><td>0.063</td><td>0.0665</td><td>&quot;19SEP25&quot;</td><td>110106.62</td><td>0.057078</td><td>110618.96</td><td>1651.6</td><td>1761.7</td><td>6936.7</td><td>7322.1</td><td>0.3476</td><td>0.3596</td><td>0.3397</td><td>0.3815</td></tr><tr><td>&quot;2025-08-29T12:00:00.000000&quot;</td><td>0.013</td><td>0.0135</td><td>117000</td><td>0.063</td><td>0.075582</td><td>&quot;19SEP25&quot;</td><td>110106.62</td><td>0.057078</td><td>110618.96</td><td>1431.4</td><td>1486.4</td><td>6936.7</td><td>8322.1</td><td>0.3512</td><td>0.3576</td><td>0.2431</td><td>0.4117</td></tr><tr><td>&quot;2025-08-29T12:00:00.000000&quot;</td><td>0.011</td><td>0.0115</td><td>118000</td><td>0.063</td><td>0.084664</td><td>&quot;19SEP25&quot;</td><td>110106.62</td><td>0.057078</td><td>110618.96</td><td>1211.2</td><td>1266.2</td><td>6936.7</td><td>9322.1</td><td>0.3515</td><td>0.3583</td><td>0.0</td><td>0.4407</td></tr><tr><td>&quot;2025-08-29T12:00:00.000000&quot;</td><td>0.008</td><td>0.0085</td><td>120000</td><td>0.063</td><td>0.102828</td><td>&quot;19SEP25&quot;</td><td>110106.62</td><td>0.057078</td><td>110618.96</td><td>880.9</td><td>935.9</td><td>6936.7</td><td>11322.1</td><td>0.356</td><td>0.3639</td><td>0.0</td><td>0.4961</td></tr><tr><td>&quot;2025-08-29T12:00:00.000000&quot;</td><td>0.0035</td><td>0.0039</td><td>125000</td><td>0.095</td><td>0.148239</td><td>&quot;19SEP25&quot;</td><td>110106.62</td><td>0.057078</td><td>110618.96</td><td>385.4</td><td>429.4</td><td>10460.1</td><td>16322.1</td><td>0.368</td><td>0.3781</td><td>0.0</td><td>0.6221</td></tr><tr><td>&quot;2025-08-29T12:00:00.000000&quot;</td><td>0.0017</td><td>0.0021</td><td>130000</td><td>0.137</td><td>0.193649</td><td>&quot;19SEP25&quot;</td><td>110106.62</td><td>0.057078</td><td>110618.96</td><td>187.2</td><td>231.2</td><td>15084.6</td><td>21322.1</td><td>0.3898</td><td>0.4062</td><td>0.0</td><td>0.7354</td></tr></tbody></table></div>"
      ],
      "text/plain": [
       "shape: (22, 18)\n",
       "┌────────────┬───────────┬───────────┬────────┬───┬────────────┬───────────┬───────────┬───────────┐\n",
       "│ timestamp  ┆ bid_price ┆ ask_price ┆ strike ┆ … ┆ call_bid_v ┆ call_ask_ ┆ put_bid_v ┆ put_ask_v │\n",
       "│ ---        ┆ ---       ┆ ---       ┆ ---    ┆   ┆ ola        ┆ vola      ┆ ola       ┆ ola       │\n",
       "│ str        ┆ f64       ┆ f64       ┆ i64    ┆   ┆ ---        ┆ ---       ┆ ---       ┆ ---       │\n",
       "│            ┆           ┆           ┆        ┆   ┆ f64        ┆ f64       ┆ f64       ┆ f64       │\n",
       "╞════════════╪═══════════╪═══════════╪════════╪═══╪════════════╪═══════════╪═══════════╪═══════════╡\n",
       "│ 2025-08-29 ┆ 0.1125    ┆ 0.156739  ┆ 95000  ┆ … ┆ 0.0        ┆ 0.7049    ┆ 0.4642    ┆ 0.4728    │\n",
       "│ T12:00:00. ┆           ┆           ┆        ┆   ┆            ┆           ┆           ┆           │\n",
       "│ 000000     ┆           ┆           ┆        ┆   ┆            ┆           ┆           ┆           │\n",
       "│ 2025-08-29 ┆ 0.087     ┆ 0.129493  ┆ 98000  ┆ … ┆ 0.0        ┆ 0.6073    ┆ 0.4265    ┆ 0.4483    │\n",
       "│ T12:00:00. ┆           ┆           ┆        ┆   ┆            ┆           ┆           ┆           │\n",
       "│ 000000     ┆           ┆           ┆        ┆   ┆            ┆           ┆           ┆           │\n",
       "│ 2025-08-29 ┆ 0.073     ┆ 0.111328  ┆ 100000 ┆ … ┆ 0.0        ┆ 0.542     ┆ 0.4134    ┆ 0.4316    │\n",
       "│ T12:00:00. ┆           ┆           ┆        ┆   ┆            ┆           ┆           ┆           │\n",
       "│ 000000     ┆           ┆           ┆        ┆   ┆            ┆           ┆           ┆           │\n",
       "│ 2025-08-29 ┆ 0.073     ┆ 0.093164  ┆ 102000 ┆ … ┆ 0.0        ┆ 0.476     ┆ 0.4061    ┆ 0.4138    │\n",
       "│ T12:00:00. ┆           ┆           ┆        ┆   ┆            ┆           ┆           ┆           │\n",
       "│ 000000     ┆           ┆           ┆        ┆   ┆            ┆           ┆           ┆           │\n",
       "│ 2025-08-29 ┆ 0.073     ┆ 0.075     ┆ 104000 ┆ … ┆ 0.382      ┆ 0.4089    ┆ 0.3934    ┆ 0.4001    │\n",
       "│ T12:00:00. ┆           ┆           ┆        ┆   ┆            ┆           ┆           ┆           │\n",
       "│ 000000     ┆           ┆           ┆        ┆   ┆            ┆           ┆           ┆           │\n",
       "│ 2025-08-29 ┆ 0.066     ┆ 0.068     ┆ 105000 ┆ … ┆ 0.3756     ┆ 0.4008    ┆ 0.3857    ┆ 0.3921    │\n",
       "│ T12:00:00. ┆           ┆           ┆        ┆   ┆            ┆           ┆           ┆           │\n",
       "│ 000000     ┆           ┆           ┆        ┆   ┆            ┆           ┆           ┆           │\n",
       "│ 2025-08-29 ┆ 0.0595    ┆ 0.0615    ┆ 106000 ┆ … ┆ 0.3719     ┆ 0.3959    ┆ 0.3811    ┆ 0.387     │\n",
       "│ T12:00:00. ┆           ┆           ┆        ┆   ┆            ┆           ┆           ┆           │\n",
       "│ 000000     ┆           ┆           ┆        ┆   ┆            ┆           ┆           ┆           │\n",
       "│ 2025-08-29 ┆ 0.053     ┆ 0.0555    ┆ 107000 ┆ … ┆ 0.3647     ┆ 0.3932    ┆ 0.3729    ┆ 0.3843    │\n",
       "│ T12:00:00. ┆           ┆           ┆        ┆   ┆            ┆           ┆           ┆           │\n",
       "│ 000000     ┆           ┆           ┆        ┆   ┆            ┆           ┆           ┆           │\n",
       "│ 2025-08-29 ┆ 0.0475    ┆ 0.049     ┆ 108000 ┆ … ┆ 0.3651     ┆ 0.3816    ┆ 0.367     ┆ 0.378     │\n",
       "│ T12:00:00. ┆           ┆           ┆        ┆   ┆            ┆           ┆           ┆           │\n",
       "│ 000000     ┆           ┆           ┆        ┆   ┆            ┆           ┆           ┆           │\n",
       "│ 2025-08-29 ┆ 0.0425    ┆ 0.0435    ┆ 109000 ┆ … ┆ 0.3668     ┆ 0.3775    ┆ 0.3629    ┆ 0.3736    │\n",
       "│ T12:00:00. ┆           ┆           ┆        ┆   ┆            ┆           ┆           ┆           │\n",
       "│ 000000     ┆           ┆           ┆        ┆   ┆            ┆           ┆           ┆           │\n",
       "│ 2025-08-29 ┆ 0.037     ┆ 0.038     ┆ 110000 ┆ … ┆ 0.3592     ┆ 0.3697    ┆ 0.3602    ┆ 0.3707    │\n",
       "│ T12:00:00. ┆           ┆           ┆        ┆   ┆            ┆           ┆           ┆           │\n",
       "│ 000000     ┆           ┆           ┆        ┆   ┆            ┆           ┆           ┆           │\n",
       "│ 2025-08-29 ┆ 0.0325    ┆ 0.0335    ┆ 111000 ┆ … ┆ 0.3582     ┆ 0.3687    ┆ 0.3588    ┆ 0.3641    │\n",
       "│ T12:00:00. ┆           ┆           ┆        ┆   ┆            ┆           ┆           ┆           │\n",
       "│ 000000     ┆           ┆           ┆        ┆   ┆            ┆           ┆           ┆           │\n",
       "│ 2025-08-29 ┆ 0.028     ┆ 0.029     ┆ 112000 ┆ … ┆ 0.3533     ┆ 0.3639    ┆ 0.3535    ┆ 0.364     │\n",
       "│ T12:00:00. ┆           ┆           ┆        ┆   ┆            ┆           ┆           ┆           │\n",
       "│ 000000     ┆           ┆           ┆        ┆   ┆            ┆           ┆           ┆           │\n",
       "│ 2025-08-29 ┆ 0.0245    ┆ 0.025     ┆ 113000 ┆ … ┆ 0.355      ┆ 0.3604    ┆ 0.3547    ┆ 0.3654    │\n",
       "│ T12:00:00. ┆           ┆           ┆        ┆   ┆            ┆           ┆           ┆           │\n",
       "│ 000000     ┆           ┆           ┆        ┆   ┆            ┆           ┆           ┆           │\n",
       "│ 2025-08-29 ┆ 0.021     ┆ 0.0215    ┆ 114000 ┆ … ┆ 0.3528     ┆ 0.3583    ┆ 0.3465    ┆ 0.3685    │\n",
       "│ T12:00:00. ┆           ┆           ┆        ┆   ┆            ┆           ┆           ┆           │\n",
       "│ 000000     ┆           ┆           ┆        ┆   ┆            ┆           ┆           ┆           │\n",
       "│ 2025-08-29 ┆ 0.018     ┆ 0.0185    ┆ 115000 ┆ … ┆ 0.3522     ┆ 0.3579    ┆ 0.3394    ┆ 0.3737    │\n",
       "│ T12:00:00. ┆           ┆           ┆        ┆   ┆            ┆           ┆           ┆           │\n",
       "│ 000000     ┆           ┆           ┆        ┆   ┆            ┆           ┆           ┆           │\n",
       "│ 2025-08-29 ┆ 0.015     ┆ 0.016     ┆ 116000 ┆ … ┆ 0.3476     ┆ 0.3596    ┆ 0.3397    ┆ 0.3815    │\n",
       "│ T12:00:00. ┆           ┆           ┆        ┆   ┆            ┆           ┆           ┆           │\n",
       "│ 000000     ┆           ┆           ┆        ┆   ┆            ┆           ┆           ┆           │\n",
       "│ 2025-08-29 ┆ 0.013     ┆ 0.0135    ┆ 117000 ┆ … ┆ 0.3512     ┆ 0.3576    ┆ 0.2431    ┆ 0.4117    │\n",
       "│ T12:00:00. ┆           ┆           ┆        ┆   ┆            ┆           ┆           ┆           │\n",
       "│ 000000     ┆           ┆           ┆        ┆   ┆            ┆           ┆           ┆           │\n",
       "│ 2025-08-29 ┆ 0.011     ┆ 0.0115    ┆ 118000 ┆ … ┆ 0.3515     ┆ 0.3583    ┆ 0.0       ┆ 0.4407    │\n",
       "│ T12:00:00. ┆           ┆           ┆        ┆   ┆            ┆           ┆           ┆           │\n",
       "│ 000000     ┆           ┆           ┆        ┆   ┆            ┆           ┆           ┆           │\n",
       "│ 2025-08-29 ┆ 0.008     ┆ 0.0085    ┆ 120000 ┆ … ┆ 0.356      ┆ 0.3639    ┆ 0.0       ┆ 0.4961    │\n",
       "│ T12:00:00. ┆           ┆           ┆        ┆   ┆            ┆           ┆           ┆           │\n",
       "│ 000000     ┆           ┆           ┆        ┆   ┆            ┆           ┆           ┆           │\n",
       "│ 2025-08-29 ┆ 0.0035    ┆ 0.0039    ┆ 125000 ┆ … ┆ 0.368      ┆ 0.3781    ┆ 0.0       ┆ 0.6221    │\n",
       "│ T12:00:00. ┆           ┆           ┆        ┆   ┆            ┆           ┆           ┆           │\n",
       "│ 000000     ┆           ┆           ┆        ┆   ┆            ┆           ┆           ┆           │\n",
       "│ 2025-08-29 ┆ 0.0017    ┆ 0.0021    ┆ 130000 ┆ … ┆ 0.3898     ┆ 0.4062    ┆ 0.0       ┆ 0.7354    │\n",
       "│ T12:00:00. ┆           ┆           ┆        ┆   ┆            ┆           ┆           ┆           │\n",
       "│ 000000     ┆           ┆           ┆        ┆   ┆            ┆           ┆           ┆           │\n",
       "└────────────┴───────────┴───────────┴────────┴───┴────────────┴───────────┴───────────┴───────────┘"
      ]
     },
     "execution_count": 7,
     "metadata": {},
     "output_type": "execute_result"
    }
   ],
   "source": [
    "df_vola"
   ]
  },
  {
   "cell_type": "code",
   "execution_count": 8,
   "id": "7e339b81",
   "metadata": {},
   "outputs": [
    {
     "data": {
      "application/vnd.plotly.v1+json": {
       "config": {
        "plotlyServerURL": "https://plot.ly"
       },
       "data": [
        {
         "marker": {
          "color": "blue",
          "symbol": "triangle-up"
         },
         "mode": "markers",
         "name": "Call Bid Vola",
         "type": "scatter",
         "x": {
          "bdata": "GHMBANB+AQCghgEAcI4BAECWAQAomgEAEJ4BAPihAQDgpQEAyKkBALCtAQCYsQEAgLUBAGi5AQBQvQEAOMEBACDFAQAIyQEA8MwBAMDUAQBI6AEA0PsBAA==",
          "dtype": "i4"
         },
         "y": {
          "bdata": "AAAAAAAAAAAAAAAAAAAAAAAAAAAAAAAAAAAAAAAAAACmm8QgsHLYP5kqGJXUCdg/PnlYqDXN1z8QejarPlfXPyBB8WPMXdc/KA8LtaZ51z/pSC7/If3WPz9XW7G/7NY/sVBrmnec1j+4HoXrUbjWP9zXgXNGlNY/Q61p3nGK1j8CvAUSFD/WP5m7lpAPetY/5dAi2/l+1j9iEFg5tMjWP1pkO99Pjdc/bcX+snvy2D8=",
          "dtype": "f8"
         }
        },
        {
         "marker": {
          "color": "blue",
          "symbol": "triangle-down"
         },
         "mode": "markers",
         "name": "Call Ask Vola",
         "type": "scatter",
         "x": {
          "bdata": "GHMBANB+AQCghgEAcI4BAECWAQAomgEAEJ4BAPihAQDgpQEAyKkBALCtAQCYsQEAgLUBAGi5AQBQvQEAOMEBACDFAQAIyQEA8MwBAMDUAQBI6AEA0PsBAA==",
          "dtype": "i4"
         },
         "y": {
          "bdata": "rWnecYqO5j+si9toAG/jP/LSTWIQWOE/EFg5tMh23j/PZtXnaivaP7snDwu1ptk/LSEf9GxW2T98YTJVMCrZP5XUCWgibNg/KVyPwvUo2D9hMlUwKqnXP7hAguLHmNc/7uvAOSNK1z8bnl4pyxDXPwMJih9j7tY/8kHPZtXn1j/5D+m3rwPXP6UsQxzr4tY/AwmKH2Pu1j/u68A5I0rXP8KGp1fKMtg/HqfoSC7/2T8=",
          "dtype": "f8"
         }
        },
        {
         "marker": {
          "color": "red",
          "symbol": "triangle-up"
         },
         "mode": "markers",
         "name": "Put Bid Vola",
         "type": "scatter",
         "x": {
          "bdata": "GHMBANB+AQCghgEAcI4BAECWAQAomgEAEJ4BAPihAQDgpQEAyKkBALCtAQCYsQEAgLUBAGi5AQBQvQEAOMEBACDFAQAIyQEA8MwBAMDUAQBI6AEA0PsBAA==",
          "dtype": "i4"
         },
         "y": {
          "bdata": "oWez6nO13T+yne+nxkvbP0ymCkYlddo/WvW52or92T8FxY8xdy3ZPwFNhA1Pr9g/wFsgQfFj2D/oaiv2l93XP7ByaJHtfNc/RPrt68A51z+TOgFNhA3XP9iBc0aU9tY/ObTIdr6f1j9sCfmgZ7PWP5MYBFYOLdY/KcsQx7q41T924JwRpb3VPz0s1JrmHc8/AAAAAAAAAAAAAAAAAAAAAAAAAAAAAAAAAAAAAAAAAAA=",
          "dtype": "f8"
         }
        },
        {
         "marker": {
          "color": "red",
          "symbol": "triangle-down"
         },
         "mode": "markers",
         "name": "Put Ask Vola",
         "type": "scatter",
         "x": {
          "bdata": "GHMBANB+AQCghgEAcI4BAECWAQAomgEAEJ4BAPihAQDgpQEAyKkBALCtAQCYsQEAgLUBAGi5AQBQvQEAOMEBACDFAQAIyQEA8MwBAMDUAQBI6AEA0PsBAA==",
          "dtype": "i4"
         },
         "y": {
          "bdata": "ih9j7lpC3j/F/rJ78rDcP8gHPZtVn9s/XW3F/rJ72j9eS8gHPZvZPw6+MJkqGNk/+FPjpZvE2D9GlPYGX5jYP/7UeOkmMdg/RUdy+Q/p1z8LJCh+jLnXP3ZPHhZqTdc/sp3vp8ZL1z9tVn2utmLXPy/dJAaBldc/CfmgZ7Pq1z/RItv5fmrYP0XY8PRKWdo/hjjWxW003D8c6+I2GsDfP2PuWkI+6OM/Dk+vlGWI5z8=",
          "dtype": "f8"
         }
        }
       ],
       "layout": {
        "annotations": [
         {
          "showarrow": false,
          "text": "Spot (S)",
          "x": 110106.62,
          "xanchor": "center",
          "xref": "x",
          "y": 1,
          "yanchor": "bottom",
          "yref": "y domain"
         }
        ],
        "shapes": [
         {
          "line": {
           "color": "black"
          },
          "type": "line",
          "x0": 110106.62,
          "x1": 110106.62,
          "xref": "x",
          "y0": 0,
          "y1": 1,
          "yref": "y domain"
         }
        ],
        "template": {
         "data": {
          "bar": [
           {
            "error_x": {
             "color": "#2a3f5f"
            },
            "error_y": {
             "color": "#2a3f5f"
            },
            "marker": {
             "line": {
              "color": "#E5ECF6",
              "width": 0.5
             },
             "pattern": {
              "fillmode": "overlay",
              "size": 10,
              "solidity": 0.2
             }
            },
            "type": "bar"
           }
          ],
          "barpolar": [
           {
            "marker": {
             "line": {
              "color": "#E5ECF6",
              "width": 0.5
             },
             "pattern": {
              "fillmode": "overlay",
              "size": 10,
              "solidity": 0.2
             }
            },
            "type": "barpolar"
           }
          ],
          "carpet": [
           {
            "aaxis": {
             "endlinecolor": "#2a3f5f",
             "gridcolor": "white",
             "linecolor": "white",
             "minorgridcolor": "white",
             "startlinecolor": "#2a3f5f"
            },
            "baxis": {
             "endlinecolor": "#2a3f5f",
             "gridcolor": "white",
             "linecolor": "white",
             "minorgridcolor": "white",
             "startlinecolor": "#2a3f5f"
            },
            "type": "carpet"
           }
          ],
          "choropleth": [
           {
            "colorbar": {
             "outlinewidth": 0,
             "ticks": ""
            },
            "type": "choropleth"
           }
          ],
          "contour": [
           {
            "colorbar": {
             "outlinewidth": 0,
             "ticks": ""
            },
            "colorscale": [
             [
              0,
              "#0d0887"
             ],
             [
              0.1111111111111111,
              "#46039f"
             ],
             [
              0.2222222222222222,
              "#7201a8"
             ],
             [
              0.3333333333333333,
              "#9c179e"
             ],
             [
              0.4444444444444444,
              "#bd3786"
             ],
             [
              0.5555555555555556,
              "#d8576b"
             ],
             [
              0.6666666666666666,
              "#ed7953"
             ],
             [
              0.7777777777777778,
              "#fb9f3a"
             ],
             [
              0.8888888888888888,
              "#fdca26"
             ],
             [
              1,
              "#f0f921"
             ]
            ],
            "type": "contour"
           }
          ],
          "contourcarpet": [
           {
            "colorbar": {
             "outlinewidth": 0,
             "ticks": ""
            },
            "type": "contourcarpet"
           }
          ],
          "heatmap": [
           {
            "colorbar": {
             "outlinewidth": 0,
             "ticks": ""
            },
            "colorscale": [
             [
              0,
              "#0d0887"
             ],
             [
              0.1111111111111111,
              "#46039f"
             ],
             [
              0.2222222222222222,
              "#7201a8"
             ],
             [
              0.3333333333333333,
              "#9c179e"
             ],
             [
              0.4444444444444444,
              "#bd3786"
             ],
             [
              0.5555555555555556,
              "#d8576b"
             ],
             [
              0.6666666666666666,
              "#ed7953"
             ],
             [
              0.7777777777777778,
              "#fb9f3a"
             ],
             [
              0.8888888888888888,
              "#fdca26"
             ],
             [
              1,
              "#f0f921"
             ]
            ],
            "type": "heatmap"
           }
          ],
          "histogram": [
           {
            "marker": {
             "pattern": {
              "fillmode": "overlay",
              "size": 10,
              "solidity": 0.2
             }
            },
            "type": "histogram"
           }
          ],
          "histogram2d": [
           {
            "colorbar": {
             "outlinewidth": 0,
             "ticks": ""
            },
            "colorscale": [
             [
              0,
              "#0d0887"
             ],
             [
              0.1111111111111111,
              "#46039f"
             ],
             [
              0.2222222222222222,
              "#7201a8"
             ],
             [
              0.3333333333333333,
              "#9c179e"
             ],
             [
              0.4444444444444444,
              "#bd3786"
             ],
             [
              0.5555555555555556,
              "#d8576b"
             ],
             [
              0.6666666666666666,
              "#ed7953"
             ],
             [
              0.7777777777777778,
              "#fb9f3a"
             ],
             [
              0.8888888888888888,
              "#fdca26"
             ],
             [
              1,
              "#f0f921"
             ]
            ],
            "type": "histogram2d"
           }
          ],
          "histogram2dcontour": [
           {
            "colorbar": {
             "outlinewidth": 0,
             "ticks": ""
            },
            "colorscale": [
             [
              0,
              "#0d0887"
             ],
             [
              0.1111111111111111,
              "#46039f"
             ],
             [
              0.2222222222222222,
              "#7201a8"
             ],
             [
              0.3333333333333333,
              "#9c179e"
             ],
             [
              0.4444444444444444,
              "#bd3786"
             ],
             [
              0.5555555555555556,
              "#d8576b"
             ],
             [
              0.6666666666666666,
              "#ed7953"
             ],
             [
              0.7777777777777778,
              "#fb9f3a"
             ],
             [
              0.8888888888888888,
              "#fdca26"
             ],
             [
              1,
              "#f0f921"
             ]
            ],
            "type": "histogram2dcontour"
           }
          ],
          "mesh3d": [
           {
            "colorbar": {
             "outlinewidth": 0,
             "ticks": ""
            },
            "type": "mesh3d"
           }
          ],
          "parcoords": [
           {
            "line": {
             "colorbar": {
              "outlinewidth": 0,
              "ticks": ""
             }
            },
            "type": "parcoords"
           }
          ],
          "pie": [
           {
            "automargin": true,
            "type": "pie"
           }
          ],
          "scatter": [
           {
            "fillpattern": {
             "fillmode": "overlay",
             "size": 10,
             "solidity": 0.2
            },
            "type": "scatter"
           }
          ],
          "scatter3d": [
           {
            "line": {
             "colorbar": {
              "outlinewidth": 0,
              "ticks": ""
             }
            },
            "marker": {
             "colorbar": {
              "outlinewidth": 0,
              "ticks": ""
             }
            },
            "type": "scatter3d"
           }
          ],
          "scattercarpet": [
           {
            "marker": {
             "colorbar": {
              "outlinewidth": 0,
              "ticks": ""
             }
            },
            "type": "scattercarpet"
           }
          ],
          "scattergeo": [
           {
            "marker": {
             "colorbar": {
              "outlinewidth": 0,
              "ticks": ""
             }
            },
            "type": "scattergeo"
           }
          ],
          "scattergl": [
           {
            "marker": {
             "colorbar": {
              "outlinewidth": 0,
              "ticks": ""
             }
            },
            "type": "scattergl"
           }
          ],
          "scattermap": [
           {
            "marker": {
             "colorbar": {
              "outlinewidth": 0,
              "ticks": ""
             }
            },
            "type": "scattermap"
           }
          ],
          "scattermapbox": [
           {
            "marker": {
             "colorbar": {
              "outlinewidth": 0,
              "ticks": ""
             }
            },
            "type": "scattermapbox"
           }
          ],
          "scatterpolar": [
           {
            "marker": {
             "colorbar": {
              "outlinewidth": 0,
              "ticks": ""
             }
            },
            "type": "scatterpolar"
           }
          ],
          "scatterpolargl": [
           {
            "marker": {
             "colorbar": {
              "outlinewidth": 0,
              "ticks": ""
             }
            },
            "type": "scatterpolargl"
           }
          ],
          "scatterternary": [
           {
            "marker": {
             "colorbar": {
              "outlinewidth": 0,
              "ticks": ""
             }
            },
            "type": "scatterternary"
           }
          ],
          "surface": [
           {
            "colorbar": {
             "outlinewidth": 0,
             "ticks": ""
            },
            "colorscale": [
             [
              0,
              "#0d0887"
             ],
             [
              0.1111111111111111,
              "#46039f"
             ],
             [
              0.2222222222222222,
              "#7201a8"
             ],
             [
              0.3333333333333333,
              "#9c179e"
             ],
             [
              0.4444444444444444,
              "#bd3786"
             ],
             [
              0.5555555555555556,
              "#d8576b"
             ],
             [
              0.6666666666666666,
              "#ed7953"
             ],
             [
              0.7777777777777778,
              "#fb9f3a"
             ],
             [
              0.8888888888888888,
              "#fdca26"
             ],
             [
              1,
              "#f0f921"
             ]
            ],
            "type": "surface"
           }
          ],
          "table": [
           {
            "cells": {
             "fill": {
              "color": "#EBF0F8"
             },
             "line": {
              "color": "white"
             }
            },
            "header": {
             "fill": {
              "color": "#C8D4E3"
             },
             "line": {
              "color": "white"
             }
            },
            "type": "table"
           }
          ]
         },
         "layout": {
          "annotationdefaults": {
           "arrowcolor": "#2a3f5f",
           "arrowhead": 0,
           "arrowwidth": 1
          },
          "autotypenumbers": "strict",
          "coloraxis": {
           "colorbar": {
            "outlinewidth": 0,
            "ticks": ""
           }
          },
          "colorscale": {
           "diverging": [
            [
             0,
             "#8e0152"
            ],
            [
             0.1,
             "#c51b7d"
            ],
            [
             0.2,
             "#de77ae"
            ],
            [
             0.3,
             "#f1b6da"
            ],
            [
             0.4,
             "#fde0ef"
            ],
            [
             0.5,
             "#f7f7f7"
            ],
            [
             0.6,
             "#e6f5d0"
            ],
            [
             0.7,
             "#b8e186"
            ],
            [
             0.8,
             "#7fbc41"
            ],
            [
             0.9,
             "#4d9221"
            ],
            [
             1,
             "#276419"
            ]
           ],
           "sequential": [
            [
             0,
             "#0d0887"
            ],
            [
             0.1111111111111111,
             "#46039f"
            ],
            [
             0.2222222222222222,
             "#7201a8"
            ],
            [
             0.3333333333333333,
             "#9c179e"
            ],
            [
             0.4444444444444444,
             "#bd3786"
            ],
            [
             0.5555555555555556,
             "#d8576b"
            ],
            [
             0.6666666666666666,
             "#ed7953"
            ],
            [
             0.7777777777777778,
             "#fb9f3a"
            ],
            [
             0.8888888888888888,
             "#fdca26"
            ],
            [
             1,
             "#f0f921"
            ]
           ],
           "sequentialminus": [
            [
             0,
             "#0d0887"
            ],
            [
             0.1111111111111111,
             "#46039f"
            ],
            [
             0.2222222222222222,
             "#7201a8"
            ],
            [
             0.3333333333333333,
             "#9c179e"
            ],
            [
             0.4444444444444444,
             "#bd3786"
            ],
            [
             0.5555555555555556,
             "#d8576b"
            ],
            [
             0.6666666666666666,
             "#ed7953"
            ],
            [
             0.7777777777777778,
             "#fb9f3a"
            ],
            [
             0.8888888888888888,
             "#fdca26"
            ],
            [
             1,
             "#f0f921"
            ]
           ]
          },
          "colorway": [
           "#636efa",
           "#EF553B",
           "#00cc96",
           "#ab63fa",
           "#FFA15A",
           "#19d3f3",
           "#FF6692",
           "#B6E880",
           "#FF97FF",
           "#FECB52"
          ],
          "font": {
           "color": "#2a3f5f"
          },
          "geo": {
           "bgcolor": "white",
           "lakecolor": "white",
           "landcolor": "#E5ECF6",
           "showlakes": true,
           "showland": true,
           "subunitcolor": "white"
          },
          "hoverlabel": {
           "align": "left"
          },
          "hovermode": "closest",
          "mapbox": {
           "style": "light"
          },
          "paper_bgcolor": "white",
          "plot_bgcolor": "#E5ECF6",
          "polar": {
           "angularaxis": {
            "gridcolor": "white",
            "linecolor": "white",
            "ticks": ""
           },
           "bgcolor": "#E5ECF6",
           "radialaxis": {
            "gridcolor": "white",
            "linecolor": "white",
            "ticks": ""
           }
          },
          "scene": {
           "xaxis": {
            "backgroundcolor": "#E5ECF6",
            "gridcolor": "white",
            "gridwidth": 2,
            "linecolor": "white",
            "showbackground": true,
            "ticks": "",
            "zerolinecolor": "white"
           },
           "yaxis": {
            "backgroundcolor": "#E5ECF6",
            "gridcolor": "white",
            "gridwidth": 2,
            "linecolor": "white",
            "showbackground": true,
            "ticks": "",
            "zerolinecolor": "white"
           },
           "zaxis": {
            "backgroundcolor": "#E5ECF6",
            "gridcolor": "white",
            "gridwidth": 2,
            "linecolor": "white",
            "showbackground": true,
            "ticks": "",
            "zerolinecolor": "white"
           }
          },
          "shapedefaults": {
           "line": {
            "color": "#2a3f5f"
           }
          },
          "ternary": {
           "aaxis": {
            "gridcolor": "white",
            "linecolor": "white",
            "ticks": ""
           },
           "baxis": {
            "gridcolor": "white",
            "linecolor": "white",
            "ticks": ""
           },
           "bgcolor": "#E5ECF6",
           "caxis": {
            "gridcolor": "white",
            "linecolor": "white",
            "ticks": ""
           }
          },
          "title": {
           "x": 0.05
          },
          "xaxis": {
           "automargin": true,
           "gridcolor": "white",
           "linecolor": "white",
           "ticks": "",
           "title": {
            "standoff": 15
           },
           "zerolinecolor": "white",
           "zerolinewidth": 2
          },
          "yaxis": {
           "automargin": true,
           "gridcolor": "white",
           "linecolor": "white",
           "ticks": "",
           "title": {
            "standoff": 15
           },
           "zerolinecolor": "white",
           "zerolinewidth": 2
          }
         }
        },
        "title": {
         "text": "Implied Volatility vs Strike Price"
        },
        "xaxis": {
         "title": {
          "text": "Strike Price"
         }
        },
        "yaxis": {
         "range": [
          0.2,
          0.8
         ],
         "title": {
          "text": "Implied Volatility"
         }
        }
       }
      }
     },
     "metadata": {},
     "output_type": "display_data"
    }
   ],
   "source": [
    "import plotly.graph_objects as go\n",
    "\n",
    "fig = go.Figure()\n",
    "fig.add_trace(go.Scatter(x=df_vola['strike'], y=df_vola['call_bid_vola'], mode='markers', name='Call Bid Vola', marker=dict(symbol='triangle-up', color='blue')))\n",
    "fig.add_trace(go.Scatter(x=df_vola['strike'], y=df_vola['call_ask_vola'], mode='markers', name='Call Ask Vola', marker=dict(symbol='triangle-down', color='blue')))\n",
    "fig.add_trace(go.Scatter(x=df_vola['strike'], y=df_vola['put_bid_vola'], mode='markers', name='Put Bid Vola', marker=dict(symbol='triangle-up', color='red')))\n",
    "fig.add_trace(go.Scatter(x=df_vola['strike'], y=df_vola['put_ask_vola'], mode='markers', name='Put Ask Vola', marker=dict(symbol='triangle-down', color='red')))\n",
    "fig.add_vline(x=df_vola['S'][0], line_color=\"black\", annotation_text=\"Spot (S)\", annotation_position=\"top\")\n",
    "fig.update_layout(\n",
    "    title='Implied Volatility vs Strike Price',\n",
    "    xaxis_title='Strike Price',\n",
    "    yaxis_title='Implied Volatility',\n",
    "    yaxis=dict(range=[0.2, 0.8])  # Set the y-axis range as needed\n",
    ")\n",
    "fig.show()"
   ]
  },
  {
   "cell_type": "code",
   "execution_count": 20,
   "id": "3549c845",
   "metadata": {},
   "outputs": [
    {
     "data": {
      "text/html": [
       "<div><style>\n",
       ".dataframe > thead > tr,\n",
       ".dataframe > tbody > tr {\n",
       "  text-align: right;\n",
       "  white-space: pre-wrap;\n",
       "}\n",
       "</style>\n",
       "<small>shape: (5, 8)</small><table border=\"1\" class=\"dataframe\"><thead><tr><th>data</th><th>expiry</th><th>spot</th><th>time_to_expiry</th><th>strike</th><th>pminusc</th><th>weight</th><th>timestamp</th></tr><tr><td>str</td><td>i64</td><td>f64</td><td>f64</td><td>f64</td><td>f64</td><td>f64</td><td>datetime[ns]</td></tr></thead><tbody><tr><td>&quot;Data&quot;</td><td>20240301</td><td>62480.71</td><td>0.003653</td><td>48000.0</td><td>-14492.400685</td><td>0.000012</td><td>2024-02-29 00:00:06</td></tr><tr><td>&quot;Data&quot;</td><td>20240301</td><td>62480.71</td><td>0.003653</td><td>49000.0</td><td>-13489.585289</td><td>0.000011</td><td>2024-02-29 00:00:06</td></tr><tr><td>&quot;Data&quot;</td><td>20240301</td><td>62480.71</td><td>0.003653</td><td>50000.0</td><td>-12474.273752</td><td>0.000015</td><td>2024-02-29 00:00:06</td></tr><tr><td>&quot;Data&quot;</td><td>20240301</td><td>62480.71</td><td>0.003653</td><td>50500.0</td><td>-11971.304036</td><td>0.000015</td><td>2024-02-29 00:00:06</td></tr><tr><td>&quot;Data&quot;</td><td>20240301</td><td>62480.71</td><td>0.003653</td><td>51000.0</td><td>-11452.714143</td><td>0.000011</td><td>2024-02-29 00:00:06</td></tr></tbody></table></div>"
      ],
      "text/plain": [
       "shape: (5, 8)\n",
       "┌──────┬──────────┬──────────┬────────────────┬─────────┬───────────────┬──────────┬───────────────┐\n",
       "│ data ┆ expiry   ┆ spot     ┆ time_to_expiry ┆ strike  ┆ pminusc       ┆ weight   ┆ timestamp     │\n",
       "│ ---  ┆ ---      ┆ ---      ┆ ---            ┆ ---     ┆ ---           ┆ ---      ┆ ---           │\n",
       "│ str  ┆ i64      ┆ f64      ┆ f64            ┆ f64     ┆ f64           ┆ f64      ┆ datetime[ns]  │\n",
       "╞══════╪══════════╪══════════╪════════════════╪═════════╪═══════════════╪══════════╪═══════════════╡\n",
       "│ Data ┆ 20240301 ┆ 62480.71 ┆ 0.003653       ┆ 48000.0 ┆ -14492.400685 ┆ 0.000012 ┆ 2024-02-29    │\n",
       "│      ┆          ┆          ┆                ┆         ┆               ┆          ┆ 00:00:06      │\n",
       "│ Data ┆ 20240301 ┆ 62480.71 ┆ 0.003653       ┆ 49000.0 ┆ -13489.585289 ┆ 0.000011 ┆ 2024-02-29    │\n",
       "│      ┆          ┆          ┆                ┆         ┆               ┆          ┆ 00:00:06      │\n",
       "│ Data ┆ 20240301 ┆ 62480.71 ┆ 0.003653       ┆ 50000.0 ┆ -12474.273752 ┆ 0.000015 ┆ 2024-02-29    │\n",
       "│      ┆          ┆          ┆                ┆         ┆               ┆          ┆ 00:00:06      │\n",
       "│ Data ┆ 20240301 ┆ 62480.71 ┆ 0.003653       ┆ 50500.0 ┆ -11971.304036 ┆ 0.000015 ┆ 2024-02-29    │\n",
       "│      ┆          ┆          ┆                ┆         ┆               ┆          ┆ 00:00:06      │\n",
       "│ Data ┆ 20240301 ┆ 62480.71 ┆ 0.003653       ┆ 51000.0 ┆ -11452.714143 ┆ 0.000011 ┆ 2024-02-29    │\n",
       "│      ┆          ┆          ┆                ┆         ┆               ┆          ┆ 00:00:06      │\n",
       "└──────┴──────────┴──────────┴────────────────┴─────────┴───────────────┴──────────┴───────────────┘"
      ]
     },
     "execution_count": 20,
     "metadata": {},
     "output_type": "execute_result"
    }
   ],
   "source": [
    "date_str = \"20240229\"  # Fixed: removed extra digit\n",
    "df = pl.read_csv('sample_data_2.csv').with_columns(\n",
    "            timestamp=(pl.lit(date_str) + \" \" + pl.col(\"time\")).str.strptime(pl.Datetime('ns'), \"%Y%m%d %H:%M:%S%.f\"),\n",
    "        ).drop('time')\n",
    "df.head()"
   ]
  },
  {
   "cell_type": "code",
   "execution_count": 21,
   "id": "291c2d9f",
   "metadata": {},
   "outputs": [
    {
     "data": {
      "text/html": [
       "<div><style>\n",
       ".dataframe > thead > tr,\n",
       ".dataframe > tbody > tr {\n",
       "  text-align: right;\n",
       "  white-space: pre-wrap;\n",
       "}\n",
       "</style>\n",
       "<small>shape: (35, 8)</small><table border=\"1\" class=\"dataframe\"><thead><tr><th>data</th><th>expiry</th><th>spot</th><th>time_to_expiry</th><th>strike</th><th>pminusc</th><th>weight</th><th>timestamp</th></tr><tr><td>str</td><td>i64</td><td>f64</td><td>f64</td><td>f64</td><td>f64</td><td>f64</td><td>datetime[ns]</td></tr></thead><tbody><tr><td>&quot;Data&quot;</td><td>20240301</td><td>62192.34</td><td>0.003643</td><td>48000.0</td><td>-14192.291988</td><td>0.000015</td><td>2024-02-29 00:05:00</td></tr><tr><td>&quot;Data&quot;</td><td>20240301</td><td>62192.34</td><td>0.003643</td><td>49000.0</td><td>-13178.556846</td><td>0.000018</td><td>2024-02-29 00:05:00</td></tr><tr><td>&quot;Data&quot;</td><td>20240301</td><td>62192.34</td><td>0.003643</td><td>50000.0</td><td>-12214.575576</td><td>0.00002</td><td>2024-02-29 00:05:00</td></tr><tr><td>&quot;Data&quot;</td><td>20240301</td><td>62192.34</td><td>0.003643</td><td>50500.0</td><td>-11713.927239</td><td>0.000019</td><td>2024-02-29 00:05:00</td></tr><tr><td>&quot;Data&quot;</td><td>20240301</td><td>62192.34</td><td>0.003643</td><td>51000.0</td><td>-11179.073115</td><td>0.000019</td><td>2024-02-29 00:05:00</td></tr><tr><td>&quot;Data&quot;</td><td>20240301</td><td>62192.34</td><td>0.003643</td><td>51500.0</td><td>-10712.630565</td><td>0.000019</td><td>2024-02-29 00:05:00</td></tr><tr><td>&quot;Data&quot;</td><td>20240301</td><td>62192.34</td><td>0.003643</td><td>52000.0</td><td>-10162.228356</td><td>0.000015</td><td>2024-02-29 00:05:00</td></tr><tr><td>&quot;Data&quot;</td><td>20240301</td><td>62192.34</td><td>0.003643</td><td>52500.0</td><td>-9714.443508</td><td>0.000018</td><td>2024-02-29 00:05:00</td></tr><tr><td>&quot;Data&quot;</td><td>20240301</td><td>62192.34</td><td>0.003643</td><td>53000.0</td><td>-9195.137469</td><td>0.000014</td><td>2024-02-29 00:05:00</td></tr><tr><td>&quot;Data&quot;</td><td>20240301</td><td>62192.34</td><td>0.003643</td><td>53500.0</td><td>-8694.489132</td><td>0.000013</td><td>2024-02-29 00:05:00</td></tr><tr><td>&quot;Data&quot;</td><td>20240301</td><td>62192.34</td><td>0.003643</td><td>54000.0</td><td>-8193.840795</td><td>0.000014</td><td>2024-02-29 00:05:00</td></tr><tr><td>&quot;Data&quot;</td><td>20240301</td><td>62192.34</td><td>0.003643</td><td>54500.0</td><td>-7693.192458</td><td>0.000013</td><td>2024-02-29 00:05:00</td></tr><tr><td>&quot;Data&quot;</td><td>20240301</td><td>62192.34</td><td>0.003643</td><td>55000.0</td><td>-7198.763355</td><td>0.000031</td><td>2024-02-29 00:05:00</td></tr><tr><td>&quot;Data&quot;</td><td>20240301</td><td>62192.34</td><td>0.003643</td><td>55500.0</td><td>-6707.443869</td><td>0.000014</td><td>2024-02-29 00:05:00</td></tr><tr><td>&quot;Data&quot;</td><td>20240301</td><td>62192.34</td><td>0.003643</td><td>56000.0</td><td>-6206.795532</td><td>0.000022</td><td>2024-02-29 00:05:00</td></tr><tr><td>&quot;Data&quot;</td><td>20240301</td><td>62192.34</td><td>0.003643</td><td>56500.0</td><td>-5709.256812</td><td>0.000011</td><td>2024-02-29 00:05:00</td></tr><tr><td>&quot;Data&quot;</td><td>20240301</td><td>62192.34</td><td>0.003643</td><td>57000.0</td><td>-5193.06039</td><td>0.00001</td><td>2024-02-29 00:05:00</td></tr><tr><td>&quot;Data&quot;</td><td>20240301</td><td>62192.34</td><td>0.003643</td><td>57500.0</td><td>-4723.508223</td><td>0.000014</td><td>2024-02-29 00:05:00</td></tr><tr><td>&quot;Data&quot;</td><td>20240301</td><td>62192.34</td><td>0.003643</td><td>58000.0</td><td>-4222.859886</td><td>0.000013</td><td>2024-02-29 00:05:00</td></tr><tr><td>&quot;Data&quot;</td><td>20240301</td><td>62192.34</td><td>0.003643</td><td>58500.0</td><td>-3691.115379</td><td>0.00001</td><td>2024-02-29 00:05:00</td></tr><tr><td>&quot;Data&quot;</td><td>20240301</td><td>62192.34</td><td>0.003643</td><td>59000.0</td><td>-3199.795893</td><td>0.00001</td><td>2024-02-29 00:05:00</td></tr><tr><td>&quot;Data&quot;</td><td>20240301</td><td>62192.34</td><td>0.003643</td><td>59500.0</td><td>-2689.818705</td><td>0.000009</td><td>2024-02-29 00:05:00</td></tr><tr><td>&quot;Data&quot;</td><td>20240301</td><td>62192.34</td><td>0.003643</td><td>60000.0</td><td>-2223.376155</td><td>0.000009</td><td>2024-02-29 00:05:00</td></tr><tr><td>&quot;Data&quot;</td><td>20240301</td><td>62192.34</td><td>0.003643</td><td>60500.0</td><td>-1710.28935</td><td>0.00001</td><td>2024-02-29 00:05:00</td></tr><tr><td>&quot;Data&quot;</td><td>20240301</td><td>62192.34</td><td>0.003643</td><td>61000.0</td><td>-1212.75063</td><td>0.00001</td><td>2024-02-29 00:05:00</td></tr><tr><td>&quot;Data&quot;</td><td>20240301</td><td>62192.34</td><td>0.003643</td><td>61500.0</td><td>-730.759995</td><td>0.000021</td><td>2024-02-29 00:05:00</td></tr><tr><td>&quot;Data&quot;</td><td>20240301</td><td>62192.34</td><td>0.003643</td><td>62000.0</td><td>-217.67319</td><td>0.000065</td><td>2024-02-29 00:05:00</td></tr><tr><td>&quot;Data&quot;</td><td>20240301</td><td>62192.34</td><td>0.003643</td><td>62500.0</td><td>279.86553</td><td>0.000029</td><td>2024-02-29 00:05:00</td></tr><tr><td>&quot;Data&quot;</td><td>20240301</td><td>62192.34</td><td>0.003643</td><td>63000.0</td><td>761.856165</td><td>0.000021</td><td>2024-02-29 00:05:00</td></tr><tr><td>&quot;Data&quot;</td><td>20240301</td><td>62192.34</td><td>0.003643</td><td>63500.0</td><td>1274.94297</td><td>0.000007</td><td>2024-02-29 00:05:00</td></tr><tr><td>&quot;Data&quot;</td><td>20240301</td><td>62192.34</td><td>0.003643</td><td>64000.0</td><td>1803.57786</td><td>0.00001</td><td>2024-02-29 00:05:00</td></tr><tr><td>&quot;Data&quot;</td><td>20240301</td><td>62192.34</td><td>0.003643</td><td>64500.0</td><td>2347.760835</td><td>0.000004</td><td>2024-02-29 00:05:00</td></tr><tr><td>&quot;Data&quot;</td><td>20240301</td><td>62192.34</td><td>0.003643</td><td>66000.0</td><td>466172.013321</td><td>0.0</td><td>2024-02-29 00:05:00</td></tr><tr><td>&quot;Data&quot;</td><td>20240301</td><td>62192.34</td><td>0.003643</td><td>68000.0</td><td>466318.16532</td><td>0.0</td><td>2024-02-29 00:05:00</td></tr><tr><td>&quot;Data&quot;</td><td>20240301</td><td>62192.34</td><td>0.003643</td><td>70000.0</td><td>466380.35766</td><td>0.0</td><td>2024-02-29 00:05:00</td></tr></tbody></table></div>"
      ],
      "text/plain": [
       "shape: (35, 8)\n",
       "┌──────┬──────────┬──────────┬────────────────┬─────────┬───────────────┬──────────┬───────────────┐\n",
       "│ data ┆ expiry   ┆ spot     ┆ time_to_expiry ┆ strike  ┆ pminusc       ┆ weight   ┆ timestamp     │\n",
       "│ ---  ┆ ---      ┆ ---      ┆ ---            ┆ ---     ┆ ---           ┆ ---      ┆ ---           │\n",
       "│ str  ┆ i64      ┆ f64      ┆ f64            ┆ f64     ┆ f64           ┆ f64      ┆ datetime[ns]  │\n",
       "╞══════╪══════════╪══════════╪════════════════╪═════════╪═══════════════╪══════════╪═══════════════╡\n",
       "│ Data ┆ 20240301 ┆ 62192.34 ┆ 0.003643       ┆ 48000.0 ┆ -14192.291988 ┆ 0.000015 ┆ 2024-02-29    │\n",
       "│      ┆          ┆          ┆                ┆         ┆               ┆          ┆ 00:05:00      │\n",
       "│ Data ┆ 20240301 ┆ 62192.34 ┆ 0.003643       ┆ 49000.0 ┆ -13178.556846 ┆ 0.000018 ┆ 2024-02-29    │\n",
       "│      ┆          ┆          ┆                ┆         ┆               ┆          ┆ 00:05:00      │\n",
       "│ Data ┆ 20240301 ┆ 62192.34 ┆ 0.003643       ┆ 50000.0 ┆ -12214.575576 ┆ 0.00002  ┆ 2024-02-29    │\n",
       "│      ┆          ┆          ┆                ┆         ┆               ┆          ┆ 00:05:00      │\n",
       "│ Data ┆ 20240301 ┆ 62192.34 ┆ 0.003643       ┆ 50500.0 ┆ -11713.927239 ┆ 0.000019 ┆ 2024-02-29    │\n",
       "│      ┆          ┆          ┆                ┆         ┆               ┆          ┆ 00:05:00      │\n",
       "│ Data ┆ 20240301 ┆ 62192.34 ┆ 0.003643       ┆ 51000.0 ┆ -11179.073115 ┆ 0.000019 ┆ 2024-02-29    │\n",
       "│      ┆          ┆          ┆                ┆         ┆               ┆          ┆ 00:05:00      │\n",
       "│ Data ┆ 20240301 ┆ 62192.34 ┆ 0.003643       ┆ 51500.0 ┆ -10712.630565 ┆ 0.000019 ┆ 2024-02-29    │\n",
       "│      ┆          ┆          ┆                ┆         ┆               ┆          ┆ 00:05:00      │\n",
       "│ Data ┆ 20240301 ┆ 62192.34 ┆ 0.003643       ┆ 52000.0 ┆ -10162.228356 ┆ 0.000015 ┆ 2024-02-29    │\n",
       "│      ┆          ┆          ┆                ┆         ┆               ┆          ┆ 00:05:00      │\n",
       "│ Data ┆ 20240301 ┆ 62192.34 ┆ 0.003643       ┆ 52500.0 ┆ -9714.443508  ┆ 0.000018 ┆ 2024-02-29    │\n",
       "│      ┆          ┆          ┆                ┆         ┆               ┆          ┆ 00:05:00      │\n",
       "│ Data ┆ 20240301 ┆ 62192.34 ┆ 0.003643       ┆ 53000.0 ┆ -9195.137469  ┆ 0.000014 ┆ 2024-02-29    │\n",
       "│      ┆          ┆          ┆                ┆         ┆               ┆          ┆ 00:05:00      │\n",
       "│ Data ┆ 20240301 ┆ 62192.34 ┆ 0.003643       ┆ 53500.0 ┆ -8694.489132  ┆ 0.000013 ┆ 2024-02-29    │\n",
       "│      ┆          ┆          ┆                ┆         ┆               ┆          ┆ 00:05:00      │\n",
       "│ Data ┆ 20240301 ┆ 62192.34 ┆ 0.003643       ┆ 54000.0 ┆ -8193.840795  ┆ 0.000014 ┆ 2024-02-29    │\n",
       "│      ┆          ┆          ┆                ┆         ┆               ┆          ┆ 00:05:00      │\n",
       "│ Data ┆ 20240301 ┆ 62192.34 ┆ 0.003643       ┆ 54500.0 ┆ -7693.192458  ┆ 0.000013 ┆ 2024-02-29    │\n",
       "│      ┆          ┆          ┆                ┆         ┆               ┆          ┆ 00:05:00      │\n",
       "│ Data ┆ 20240301 ┆ 62192.34 ┆ 0.003643       ┆ 55000.0 ┆ -7198.763355  ┆ 0.000031 ┆ 2024-02-29    │\n",
       "│      ┆          ┆          ┆                ┆         ┆               ┆          ┆ 00:05:00      │\n",
       "│ Data ┆ 20240301 ┆ 62192.34 ┆ 0.003643       ┆ 55500.0 ┆ -6707.443869  ┆ 0.000014 ┆ 2024-02-29    │\n",
       "│      ┆          ┆          ┆                ┆         ┆               ┆          ┆ 00:05:00      │\n",
       "│ Data ┆ 20240301 ┆ 62192.34 ┆ 0.003643       ┆ 56000.0 ┆ -6206.795532  ┆ 0.000022 ┆ 2024-02-29    │\n",
       "│      ┆          ┆          ┆                ┆         ┆               ┆          ┆ 00:05:00      │\n",
       "│ Data ┆ 20240301 ┆ 62192.34 ┆ 0.003643       ┆ 56500.0 ┆ -5709.256812  ┆ 0.000011 ┆ 2024-02-29    │\n",
       "│      ┆          ┆          ┆                ┆         ┆               ┆          ┆ 00:05:00      │\n",
       "│ Data ┆ 20240301 ┆ 62192.34 ┆ 0.003643       ┆ 57000.0 ┆ -5193.06039   ┆ 0.00001  ┆ 2024-02-29    │\n",
       "│      ┆          ┆          ┆                ┆         ┆               ┆          ┆ 00:05:00      │\n",
       "│ Data ┆ 20240301 ┆ 62192.34 ┆ 0.003643       ┆ 57500.0 ┆ -4723.508223  ┆ 0.000014 ┆ 2024-02-29    │\n",
       "│      ┆          ┆          ┆                ┆         ┆               ┆          ┆ 00:05:00      │\n",
       "│ Data ┆ 20240301 ┆ 62192.34 ┆ 0.003643       ┆ 58000.0 ┆ -4222.859886  ┆ 0.000013 ┆ 2024-02-29    │\n",
       "│      ┆          ┆          ┆                ┆         ┆               ┆          ┆ 00:05:00      │\n",
       "│ Data ┆ 20240301 ┆ 62192.34 ┆ 0.003643       ┆ 58500.0 ┆ -3691.115379  ┆ 0.00001  ┆ 2024-02-29    │\n",
       "│      ┆          ┆          ┆                ┆         ┆               ┆          ┆ 00:05:00      │\n",
       "│ Data ┆ 20240301 ┆ 62192.34 ┆ 0.003643       ┆ 59000.0 ┆ -3199.795893  ┆ 0.00001  ┆ 2024-02-29    │\n",
       "│      ┆          ┆          ┆                ┆         ┆               ┆          ┆ 00:05:00      │\n",
       "│ Data ┆ 20240301 ┆ 62192.34 ┆ 0.003643       ┆ 59500.0 ┆ -2689.818705  ┆ 0.000009 ┆ 2024-02-29    │\n",
       "│      ┆          ┆          ┆                ┆         ┆               ┆          ┆ 00:05:00      │\n",
       "│ Data ┆ 20240301 ┆ 62192.34 ┆ 0.003643       ┆ 60000.0 ┆ -2223.376155  ┆ 0.000009 ┆ 2024-02-29    │\n",
       "│      ┆          ┆          ┆                ┆         ┆               ┆          ┆ 00:05:00      │\n",
       "│ Data ┆ 20240301 ┆ 62192.34 ┆ 0.003643       ┆ 60500.0 ┆ -1710.28935   ┆ 0.00001  ┆ 2024-02-29    │\n",
       "│      ┆          ┆          ┆                ┆         ┆               ┆          ┆ 00:05:00      │\n",
       "│ Data ┆ 20240301 ┆ 62192.34 ┆ 0.003643       ┆ 61000.0 ┆ -1212.75063   ┆ 0.00001  ┆ 2024-02-29    │\n",
       "│      ┆          ┆          ┆                ┆         ┆               ┆          ┆ 00:05:00      │\n",
       "│ Data ┆ 20240301 ┆ 62192.34 ┆ 0.003643       ┆ 61500.0 ┆ -730.759995   ┆ 0.000021 ┆ 2024-02-29    │\n",
       "│      ┆          ┆          ┆                ┆         ┆               ┆          ┆ 00:05:00      │\n",
       "│ Data ┆ 20240301 ┆ 62192.34 ┆ 0.003643       ┆ 62000.0 ┆ -217.67319    ┆ 0.000065 ┆ 2024-02-29    │\n",
       "│      ┆          ┆          ┆                ┆         ┆               ┆          ┆ 00:05:00      │\n",
       "│ Data ┆ 20240301 ┆ 62192.34 ┆ 0.003643       ┆ 62500.0 ┆ 279.86553     ┆ 0.000029 ┆ 2024-02-29    │\n",
       "│      ┆          ┆          ┆                ┆         ┆               ┆          ┆ 00:05:00      │\n",
       "│ Data ┆ 20240301 ┆ 62192.34 ┆ 0.003643       ┆ 63000.0 ┆ 761.856165    ┆ 0.000021 ┆ 2024-02-29    │\n",
       "│      ┆          ┆          ┆                ┆         ┆               ┆          ┆ 00:05:00      │\n",
       "│ Data ┆ 20240301 ┆ 62192.34 ┆ 0.003643       ┆ 63500.0 ┆ 1274.94297    ┆ 0.000007 ┆ 2024-02-29    │\n",
       "│      ┆          ┆          ┆                ┆         ┆               ┆          ┆ 00:05:00      │\n",
       "│ Data ┆ 20240301 ┆ 62192.34 ┆ 0.003643       ┆ 64000.0 ┆ 1803.57786    ┆ 0.00001  ┆ 2024-02-29    │\n",
       "│      ┆          ┆          ┆                ┆         ┆               ┆          ┆ 00:05:00      │\n",
       "│ Data ┆ 20240301 ┆ 62192.34 ┆ 0.003643       ┆ 64500.0 ┆ 2347.760835   ┆ 0.000004 ┆ 2024-02-29    │\n",
       "│      ┆          ┆          ┆                ┆         ┆               ┆          ┆ 00:05:00      │\n",
       "│ Data ┆ 20240301 ┆ 62192.34 ┆ 0.003643       ┆ 66000.0 ┆ 466172.013321 ┆ 0.0      ┆ 2024-02-29    │\n",
       "│      ┆          ┆          ┆                ┆         ┆               ┆          ┆ 00:05:00      │\n",
       "│ Data ┆ 20240301 ┆ 62192.34 ┆ 0.003643       ┆ 68000.0 ┆ 466318.16532  ┆ 0.0      ┆ 2024-02-29    │\n",
       "│      ┆          ┆          ┆                ┆         ┆               ┆          ┆ 00:05:00      │\n",
       "│ Data ┆ 20240301 ┆ 62192.34 ┆ 0.003643       ┆ 70000.0 ┆ 466380.35766  ┆ 0.0      ┆ 2024-02-29    │\n",
       "│      ┆          ┆          ┆                ┆         ┆               ┆          ┆ 00:05:00      │\n",
       "└──────┴──────────┴──────────┴────────────────┴─────────┴───────────────┴──────────┴───────────────┘"
      ]
     },
     "execution_count": 21,
     "metadata": {},
     "output_type": "execute_result"
    }
   ],
   "source": [
    "from datetime import datetime\n",
    "\n",
    "df.filter(pl.col('timestamp')==datetime(2024,2,29,0,5))"
   ]
  },
  {
   "cell_type": "code",
   "execution_count": null,
   "id": "5a9a5374",
   "metadata": {},
   "outputs": [],
   "source": []
  }
 ],
 "metadata": {
  "kernelspec": {
   "display_name": ".venv",
   "language": "python",
   "name": "python3"
  },
  "language_info": {
   "codemirror_mode": {
    "name": "ipython",
    "version": 3
   },
   "file_extension": ".py",
   "mimetype": "text/x-python",
   "name": "python",
   "nbconvert_exporter": "python",
   "pygments_lexer": "ipython3",
   "version": "3.12.3"
  }
 },
 "nbformat": 4,
 "nbformat_minor": 5
}
