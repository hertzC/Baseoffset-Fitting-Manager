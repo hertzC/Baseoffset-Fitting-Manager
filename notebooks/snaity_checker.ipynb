{
 "cells": [
  {
   "cell_type": "code",
   "execution_count": 92,
   "id": "0c1945cb",
   "metadata": {},
   "outputs": [],
   "source": [
    "import polars as pl\n",
    "pl.Config.set_tbl_rows(40)\n",
    "\n",
    "df = pl.read_csv('temp.csv')\n",
    "df = df.with_columns(\n",
    "    [(pl.col(col) * pl.col('S')).round(1).alias(col+'_usd') for col in ['bid_price','ask_price','bid_price_P','ask_price_P']]\n",
    ")"
   ]
  },
  {
   "cell_type": "code",
   "execution_count": 93,
   "id": "a343b600",
   "metadata": {},
   "outputs": [
    {
     "data": {
      "text/html": [
       "<div><style>\n",
       ".dataframe > thead > tr,\n",
       ".dataframe > tbody > tr {\n",
       "  text-align: right;\n",
       "  white-space: pre-wrap;\n",
       "}\n",
       "</style>\n",
       "<small>shape: (5, 14)</small><table border=\"1\" class=\"dataframe\"><thead><tr><th>timestamp</th><th>bid_price</th><th>ask_price</th><th>strike</th><th>bid_price_P</th><th>ask_price_P</th><th>expiry</th><th>S</th><th>tau</th><th>F</th><th>bid_price_usd</th><th>ask_price_usd</th><th>bid_price_P_usd</th><th>ask_price_P_usd</th></tr><tr><td>str</td><td>f64</td><td>f64</td><td>i64</td><td>f64</td><td>f64</td><td>str</td><td>f64</td><td>f64</td><td>f64</td><td>f64</td><td>f64</td><td>f64</td><td>f64</td></tr></thead><tbody><tr><td>&quot;2025-08-29T12:00:00.000000&quot;</td><td>0.0003</td><td>0.0005</td><td>126000</td><td>0.141672</td><td>0.144328</td><td>&quot;5SEP25&quot;</td><td>110106.62</td><td>0.018721</td><td>110271.67</td><td>33.0</td><td>55.1</td><td>15599.0</td><td>15891.5</td></tr><tr><td>&quot;2025-08-29T12:00:00.000000&quot;</td><td>0.0002</td><td>0.0004</td><td>128000</td><td>0.159836</td><td>0.162493</td><td>&quot;5SEP25&quot;</td><td>110106.62</td><td>0.018721</td><td>110271.67</td><td>22.0</td><td>44.0</td><td>17599.0</td><td>17891.5</td></tr><tr><td>&quot;2025-08-29T12:00:00.000000&quot;</td><td>0.0002</td><td>0.0004</td><td>130000</td><td>0.178</td><td>0.18</td><td>&quot;5SEP25&quot;</td><td>110106.62</td><td>0.018721</td><td>110271.67</td><td>22.0</td><td>44.0</td><td>19599.0</td><td>19819.2</td></tr><tr><td>&quot;2025-08-29T12:00:00.000000&quot;</td><td>0.0001</td><td>0.0003</td><td>135000</td><td>0.223089</td><td>0.225411</td><td>&quot;5SEP25&quot;</td><td>110106.62</td><td>0.018721</td><td>110271.67</td><td>11.0</td><td>33.0</td><td>24563.6</td><td>24819.2</td></tr><tr><td>&quot;2025-08-29T12:00:00.000000&quot;</td><td>0.0001</td><td>0.0002</td><td>140000</td><td>0.2685</td><td>0.270821</td><td>&quot;5SEP25&quot;</td><td>110106.62</td><td>0.018721</td><td>110271.67</td><td>11.0</td><td>22.0</td><td>29563.6</td><td>29819.2</td></tr></tbody></table></div>"
      ],
      "text/plain": [
       "shape: (5, 14)\n",
       "┌────────────┬───────────┬───────────┬────────┬───┬────────────┬───────────┬───────────┬───────────┐\n",
       "│ timestamp  ┆ bid_price ┆ ask_price ┆ strike ┆ … ┆ bid_price_ ┆ ask_price ┆ bid_price ┆ ask_price │\n",
       "│ ---        ┆ ---       ┆ ---       ┆ ---    ┆   ┆ usd        ┆ _usd      ┆ _P_usd    ┆ _P_usd    │\n",
       "│ str        ┆ f64       ┆ f64       ┆ i64    ┆   ┆ ---        ┆ ---       ┆ ---       ┆ ---       │\n",
       "│            ┆           ┆           ┆        ┆   ┆ f64        ┆ f64       ┆ f64       ┆ f64       │\n",
       "╞════════════╪═══════════╪═══════════╪════════╪═══╪════════════╪═══════════╪═══════════╪═══════════╡\n",
       "│ 2025-08-29 ┆ 0.0003    ┆ 0.0005    ┆ 126000 ┆ … ┆ 33.0       ┆ 55.1      ┆ 15599.0   ┆ 15891.5   │\n",
       "│ T12:00:00. ┆           ┆           ┆        ┆   ┆            ┆           ┆           ┆           │\n",
       "│ 000000     ┆           ┆           ┆        ┆   ┆            ┆           ┆           ┆           │\n",
       "│ 2025-08-29 ┆ 0.0002    ┆ 0.0004    ┆ 128000 ┆ … ┆ 22.0       ┆ 44.0      ┆ 17599.0   ┆ 17891.5   │\n",
       "│ T12:00:00. ┆           ┆           ┆        ┆   ┆            ┆           ┆           ┆           │\n",
       "│ 000000     ┆           ┆           ┆        ┆   ┆            ┆           ┆           ┆           │\n",
       "│ 2025-08-29 ┆ 0.0002    ┆ 0.0004    ┆ 130000 ┆ … ┆ 22.0       ┆ 44.0      ┆ 19599.0   ┆ 19819.2   │\n",
       "│ T12:00:00. ┆           ┆           ┆        ┆   ┆            ┆           ┆           ┆           │\n",
       "│ 000000     ┆           ┆           ┆        ┆   ┆            ┆           ┆           ┆           │\n",
       "│ 2025-08-29 ┆ 0.0001    ┆ 0.0003    ┆ 135000 ┆ … ┆ 11.0       ┆ 33.0      ┆ 24563.6   ┆ 24819.2   │\n",
       "│ T12:00:00. ┆           ┆           ┆        ┆   ┆            ┆           ┆           ┆           │\n",
       "│ 000000     ┆           ┆           ┆        ┆   ┆            ┆           ┆           ┆           │\n",
       "│ 2025-08-29 ┆ 0.0001    ┆ 0.0002    ┆ 140000 ┆ … ┆ 11.0       ┆ 22.0      ┆ 29563.6   ┆ 29819.2   │\n",
       "│ T12:00:00. ┆           ┆           ┆        ┆   ┆            ┆           ┆           ┆           │\n",
       "│ 000000     ┆           ┆           ┆        ┆   ┆            ┆           ┆           ┆           │\n",
       "└────────────┴───────────┴───────────┴────────┴───┴────────────┴───────────┴───────────┴───────────┘"
      ]
     },
     "execution_count": 93,
     "metadata": {},
     "output_type": "execute_result"
    }
   ],
   "source": [
    "df.tail(5)"
   ]
  },
  {
   "cell_type": "code",
   "execution_count": null,
   "id": "c4ef5c08",
   "metadata": {},
   "outputs": [],
   "source": [
    "import numpy as np\n",
    "from scipy.stats import norm\n",
    "from scipy.special import ndtr\n",
    "\n",
    "N = ndtr  # Normal CDF function\n",
    "# N = norm.cdf\n",
    "\n",
    "def black76_call(F, K, T, r, vol):\n",
    "    \"\"\"\n",
    "    Black-76 call option price for forward contracts\n",
    "    \n",
    "    Parameters:\n",
    "    F: Forward price\n",
    "    K: Strike price \n",
    "    T: Time to expiration (years)\n",
    "    r: Risk-free rate (for discounting)\n",
    "    vol: Volatility\n",
    "    \"\"\"\n",
    "    d1 = (np.log(F/K) + 0.5*vol**2*T) / (vol*np.sqrt(T))\n",
    "    d2 = d1 - vol * np.sqrt(T)\n",
    "    return np.exp(-r * T) * (F * N(d1) - K * N(d2))\n",
    "\n",
    "def black76_put(F, K, T, r, vol):\n",
    "    \"\"\"\n",
    "    Black-76 put option price for forward contracts\n",
    "    \n",
    "    Parameters:\n",
    "    F: Forward price\n",
    "    K: Strike price\n",
    "    T: Time to expiration (years) \n",
    "    r: Risk-free rate (for discounting)\n",
    "    vol: Volatility\n",
    "    \"\"\"\n",
    "    d1 = (np.log(F/K) + 0.5*vol**2*T) / (vol*np.sqrt(T))\n",
    "    d2 = d1 - vol * np.sqrt(T)\n",
    "    return np.exp(-r * T) * (K * N(-d2) - F * N(-d1))\n",
    "\n",
    "def black76_vega(F, K, T, r, sigma):\n",
    "    \"\"\"\n",
    "    Black-76 vega (sensitivity to volatility) for forward contracts\n",
    "    \n",
    "    Parameters:\n",
    "    F: Forward price\n",
    "    K: Strike price\n",
    "    T: Time to expiration (years)\n",
    "    r: Risk-free rate  \n",
    "    sigma: Volatility\n",
    "    \"\"\"\n",
    "    d1 = (np.log(F / K) + 0.5 * sigma ** 2 * T) / (sigma * np.sqrt(T))\n",
    "    return np.exp(-r * T) * F * norm.pdf(d1) * np.sqrt(T)\n",
    "\n",
    "# Keep aliases for backward compatibility\n",
    "bs_call = black76_call\n",
    "bs_put = black76_put\n",
    "bs_vega = black76_vega"
   ]
  },
  {
   "cell_type": "code",
   "execution_count": null,
   "id": "50646097",
   "metadata": {},
   "outputs": [],
   "source": [
    "def find_vol(target_value, F, K, T, r, **kwargs):\n",
    "    \"\"\"\n",
    "    Vectorized implied volatility solver using Newton-Raphson method with Black-76 model.\n",
    "    \n",
    "    All arguments can be numpy arrays, scalars, or Polars expressions.\n",
    "    Returns array of implied volatilities or scalar if all inputs are scalar.\n",
    "    \n",
    "    Parameters:\n",
    "    -----------\n",
    "    target_value : array-like or scalar\n",
    "        Option market prices\n",
    "    F : array-like or scalar  \n",
    "        Forward prices\n",
    "    K : array-like or scalar\n",
    "        Strike prices\n",
    "    T : array-like or scalar\n",
    "        Time to expiration (in years)\n",
    "    r : array-like or scalar\n",
    "        Risk-free interest rate (for discounting)\n",
    "    option_type : str, optional\n",
    "        'C' for call (default), 'P' for put\n",
    "    \n",
    "    Returns:\n",
    "    --------\n",
    "    numpy.ndarray or float\n",
    "        Implied volatilities\n",
    "    \"\"\"\n",
    "    MAX_ITERATIONS = 200\n",
    "    PRECISION = 1.0e-5\n",
    "    \n",
    "    # Convert all inputs to numpy arrays for vectorization\n",
    "    target_value = np.asarray(target_value, dtype=float)\n",
    "    F = np.asarray(F, dtype=float)\n",
    "    K = np.asarray(K, dtype=float)\n",
    "    T = np.asarray(T, dtype=float)\n",
    "    r = np.asarray(r, dtype=float)\n",
    "    option_type = kwargs.get('option_type', 'C')\n",
    "    \n",
    "    # Get the broadcasted shape\n",
    "    try:\n",
    "        shape = np.broadcast(target_value, F, K, T, r).shape\n",
    "    except ValueError as e:\n",
    "        raise ValueError(f\"Input arrays could not be broadcast together: {e}\")\n",
    "    \n",
    "    # Initialize volatility array\n",
    "    sigmas = np.full(shape, 0.5, dtype=float)\n",
    "    done = np.zeros(shape, dtype=bool)\n",
    "    \n",
    "    # Newton-Raphson iterations\n",
    "    for iteration in range(MAX_ITERATIONS):\n",
    "        # Calculate option prices and vegas using Black-76\n",
    "        if option_type == 'P':\n",
    "            prices = black76_put(F, K, T, r, sigmas)\n",
    "        else:\n",
    "            prices = black76_call(F, K, T, r, sigmas)\n",
    "        \n",
    "        vegas = black76_vega(F, K, T, r, sigmas)\n",
    "        \n",
    "        # Calculate price differences\n",
    "        diff = target_value - prices\n",
    "        \n",
    "        # Check convergence\n",
    "        converged = np.abs(diff) < PRECISION\n",
    "        \n",
    "        # Only update where not converged and vega is not zero\n",
    "        update_mask = ~done & (vegas != 0) & np.isfinite(vegas) & np.isfinite(diff)\n",
    "        \n",
    "        # Newton-Raphson update\n",
    "        sigmas[update_mask] += diff[update_mask] / vegas[update_mask]\n",
    "        \n",
    "        # Ensure volatility stays positive\n",
    "        sigmas = np.maximum(sigmas, 1e-6)\n",
    "        \n",
    "        # Mark converged elements as done\n",
    "        done = done | converged\n",
    "        \n",
    "        # Early exit if all converged\n",
    "        if np.all(done):\n",
    "            break\n",
    "    \n",
    "    # Return scalar if input was scalar, otherwise return array\n",
    "    if sigmas.shape == ():\n",
    "        return float(sigmas)\n",
    "    else:\n",
    "        return sigmas"
   ]
  },
  {
   "cell_type": "code",
   "execution_count": 96,
   "id": "c224082b",
   "metadata": {},
   "outputs": [
    {
     "name": "stdout",
     "output_type": "stream",
     "text": [
      "=== Testing Vectorized find_vol ===\n",
      "Vectorized test: [0.50553489 0.41001943 0.38630858]\n",
      "Mixed broadcasting: [0.50553489 0.69626799]\n",
      "\n",
      "=== Ready for Polars integration ===\n",
      "The function now works with numpy arrays and can be used with pl.map_elements() or pl.map_batches()\n"
     ]
    }
   ],
   "source": [
    "# Test vectorized find_vol function\n",
    "import numpy as np\n",
    "\n",
    "print(\"=== Testing Vectorized find_vol ===\")\n",
    "\n",
    "# Test 1: Scalar input (should work as before)\n",
    "# scalar_vol = find_vol(10.5, 100.0, 105.0, 0.25, 0.05, option_type='C')\n",
    "# print(f\"Scalar test: {scalar_vol:.4f}\")\n",
    "\n",
    "# Test 2: Array input\n",
    "prices = np.array([8.5, 10.5, 12.8])\n",
    "S_vals = np.array([100.0, 100.0, 100.0])\n",
    "K_vals = np.array([105.0, 105.0, 105.0])\n",
    "T_vals = np.array([0.25, 0.5, 0.75])\n",
    "r_vals = 0.05\n",
    "\n",
    "vectorized_vols = find_vol(prices, S_vals, K_vals, T_vals, r_vals, option_type='C')\n",
    "print(f\"Vectorized test: {vectorized_vols}\")\n",
    "\n",
    "# Test 3: Mixed broadcasting (scalar and array)\n",
    "mixed_vols = find_vol([8.5, 10.5], 100.0, [105.0, 110.0], 0.25, 0.05, option_type='C')\n",
    "print(f\"Mixed broadcasting: {mixed_vols}\")\n",
    "\n",
    "print(\"\\n=== Ready for Polars integration ===\")\n",
    "print(\"The function now works with numpy arrays and can be used with pl.map_elements() or pl.map_batches()\")"
   ]
  },
  {
   "cell_type": "code",
   "execution_count": 100,
   "id": "e1c5a284",
   "metadata": {},
   "outputs": [],
   "source": [
    "df_vola =\\\n",
    "df.with_columns(\n",
    "    call_bid_vola = find_vol(\n",
    "        target_value=df['bid_price_usd'].to_numpy(),\n",
    "        S=df['F'].to_numpy(),\n",
    "        K=df['strike'].to_numpy(),\n",
    "        T=df['tau'].to_numpy(),\n",
    "        r=(interest_rate:=0.0),\n",
    "        option_type='C'\n",
    "    ).round(4),\n",
    "    call_ask_vola = find_vol(\n",
    "        target_value=df['ask_price_usd'].to_numpy(),\n",
    "        S=df['F'].to_numpy(),\n",
    "        K=df['strike'].to_numpy(),\n",
    "        T=df['tau'].to_numpy(), \n",
    "        r=interest_rate,\n",
    "        option_type='C'\n",
    "    ).round(4),\n",
    "    put_bid_vola = find_vol(\n",
    "        target_value=df['bid_price_P_usd'].to_numpy(),\n",
    "        S=df['F'].to_numpy(),\n",
    "        K=df['strike'].to_numpy(),\n",
    "        T=df['tau'].to_numpy(),\n",
    "        r=interest_rate,\n",
    "        option_type='P'\n",
    "    ).round(4),\n",
    "    put_ask_vola = find_vol(\n",
    "        target_value=df['ask_price_P_usd'].to_numpy(),\n",
    "        S=df['F'].to_numpy(),\n",
    "        K=df['strike'].to_numpy(),\n",
    "        T=df['tau'].to_numpy(),\n",
    "        r=interest_rate,\n",
    "        option_type='P'\n",
    "    ).round(4)\n",
    ")"
   ]
  },
  {
   "cell_type": "code",
   "execution_count": 101,
   "id": "3fa3e857",
   "metadata": {},
   "outputs": [
    {
     "data": {
      "text/html": [
       "<div><style>\n",
       ".dataframe > thead > tr,\n",
       ".dataframe > tbody > tr {\n",
       "  text-align: right;\n",
       "  white-space: pre-wrap;\n",
       "}\n",
       "</style>\n",
       "<small>shape: (32, 18)</small><table border=\"1\" class=\"dataframe\"><thead><tr><th>timestamp</th><th>bid_price</th><th>ask_price</th><th>strike</th><th>bid_price_P</th><th>ask_price_P</th><th>expiry</th><th>S</th><th>tau</th><th>F</th><th>bid_price_usd</th><th>ask_price_usd</th><th>bid_price_P_usd</th><th>ask_price_P_usd</th><th>call_bid_vola</th><th>call_ask_vola</th><th>put_bid_vola</th><th>put_ask_vola</th></tr><tr><td>str</td><td>f64</td><td>f64</td><td>i64</td><td>f64</td><td>f64</td><td>str</td><td>f64</td><td>f64</td><td>f64</td><td>f64</td><td>f64</td><td>f64</td><td>f64</td><td>f64</td><td>f64</td><td>f64</td><td>f64</td></tr></thead><tbody><tr><td>&quot;2025-08-29T12:00:00.000000&quot;</td><td>0.248</td><td>0.284217</td><td>80000</td><td>0.0001</td><td>0.0003</td><td>&quot;5SEP25&quot;</td><td>110106.62</td><td>0.018721</td><td>110271.67</td><td>27306.4</td><td>31294.2</td><td>11.0</td><td>33.0</td><td>0.0</td><td>11976.9118</td><td>0.0</td><td>0.0</td></tr><tr><td>&quot;2025-08-29T12:00:00.000000&quot;</td><td>0.202589</td><td>0.238806</td><td>85000</td><td>0.0002</td><td>0.0004</td><td>&quot;5SEP25&quot;</td><td>110106.62</td><td>0.018721</td><td>110271.67</td><td>22306.4</td><td>26294.2</td><td>22.0</td><td>44.0</td><td>0.0</td><td>0.0</td><td>0.7686</td><td>0.0</td></tr><tr><td>&quot;2025-08-29T12:00:00.000000&quot;</td><td>0.157179</td><td>0.193396</td><td>90000</td><td>0.0004</td><td>0.0006</td><td>&quot;5SEP25&quot;</td><td>110106.62</td><td>0.018721</td><td>110271.67</td><td>17306.4</td><td>21294.2</td><td>44.0</td><td>66.1</td><td>0.0</td><td>0.0</td><td>0.6729</td><td>0.7132</td></tr><tr><td>&quot;2025-08-29T12:00:00.000000&quot;</td><td>0.111768</td><td>0.147985</td><td>95000</td><td>0.0006</td><td>0.0008</td><td>&quot;5SEP25&quot;</td><td>110106.62</td><td>0.018721</td><td>110271.67</td><td>12306.4</td><td>16294.2</td><td>66.1</td><td>88.1</td><td>0.0</td><td>1.0138</td><td>0.5465</td><td>0.5727</td></tr><tr><td>&quot;2025-08-29T12:00:00.000000&quot;</td><td>0.066358</td><td>0.102575</td><td>100000</td><td>0.0014</td><td>0.0016</td><td>&quot;5SEP25&quot;</td><td>110106.62</td><td>0.018721</td><td>110271.67</td><td>7306.4</td><td>11294.2</td><td>154.1</td><td>176.2</td><td>0.0</td><td>0.7614</td><td>0.4497</td><td>0.4629</td></tr><tr><td>&quot;2025-08-29T12:00:00.000000&quot;</td><td>0.048194</td><td>0.084411</td><td>102000</td><td>0.0022</td><td>0.0025</td><td>&quot;5SEP25&quot;</td><td>110106.62</td><td>0.018721</td><td>110271.67</td><td>5306.4</td><td>9294.2</td><td>242.2</td><td>275.3</td><td>0.0</td><td>0.6588</td><td>0.4186</td><td>0.4326</td></tr><tr><td>&quot;2025-08-29T12:00:00.000000&quot;</td><td>0.0375</td><td>0.057164</td><td>105000</td><td>0.005</td><td>0.0055</td><td>&quot;5SEP25&quot;</td><td>110106.62</td><td>0.018721</td><td>110271.67</td><td>4129.0</td><td>6294.2</td><td>550.5</td><td>605.6</td><td>0.0</td><td>0.4999</td><td>0.3881</td><td>0.4023</td></tr><tr><td>&quot;2025-08-29T12:00:00.000000&quot;</td><td>0.0375</td><td>0.048082</td><td>106000</td><td>0.006</td><td>0.007</td><td>&quot;5SEP25&quot;</td><td>110106.62</td><td>0.018721</td><td>110271.67</td><td>4129.0</td><td>5294.2</td><td>660.6</td><td>770.7</td><td>0.0</td><td>0.4446</td><td>0.3653</td><td>0.3903</td></tr><tr><td>&quot;2025-08-29T12:00:00.000000&quot;</td><td>0.0375</td><td>0.039</td><td>107000</td><td>0.008</td><td>0.0085</td><td>&quot;5SEP25&quot;</td><td>110106.62</td><td>0.018721</td><td>110271.67</td><td>4129.0</td><td>4294.2</td><td>880.9</td><td>935.9</td><td>0.3542</td><td>0.3875</td><td>0.359</td><td>0.3702</td></tr><tr><td>&quot;2025-08-29T12:00:00.000000&quot;</td><td>0.0305</td><td>0.032</td><td>108000</td><td>0.01</td><td>0.011</td><td>&quot;5SEP25&quot;</td><td>110106.62</td><td>0.018721</td><td>110271.67</td><td>3358.3</td><td>3523.4</td><td>1101.1</td><td>1211.2</td><td>0.3396</td><td>0.37</td><td>0.3423</td><td>0.3626</td></tr><tr><td>&quot;2025-08-29T12:00:00.000000&quot;</td><td>0.0245</td><td>0.0255</td><td>109000</td><td>0.013</td><td>0.014</td><td>&quot;5SEP25&quot;</td><td>110106.62</td><td>0.018721</td><td>110271.67</td><td>2697.6</td><td>2807.7</td><td>1431.4</td><td>1541.5</td><td>0.3338</td><td>0.3528</td><td>0.3348</td><td>0.3538</td></tr><tr><td>&quot;2025-08-29T12:00:00.000000&quot;</td><td>0.0195</td><td>0.02</td><td>110000</td><td>0.017</td><td>0.0175</td><td>&quot;5SEP25&quot;</td><td>110106.62</td><td>0.018721</td><td>110271.67</td><td>2147.1</td><td>2202.1</td><td>1871.8</td><td>1926.9</td><td>0.3341</td><td>0.3433</td><td>0.3335</td><td>0.3427</td></tr><tr><td>&quot;2025-08-29T12:00:00.000000&quot;</td><td>0.0145</td><td>0.0155</td><td>111000</td><td>0.021</td><td>0.022</td><td>&quot;5SEP25&quot;</td><td>110106.62</td><td>0.018721</td><td>110271.67</td><td>1596.5</td><td>1706.7</td><td>2312.2</td><td>2422.3</td><td>0.3211</td><td>0.3395</td><td>0.319</td><td>0.3374</td></tr><tr><td>&quot;2025-08-29T12:00:00.000000&quot;</td><td>0.011</td><td>0.0115</td><td>112000</td><td>0.026</td><td>0.0275</td><td>&quot;5SEP25&quot;</td><td>110106.62</td><td>0.018721</td><td>110271.67</td><td>1211.2</td><td>1266.2</td><td>2862.8</td><td>3027.9</td><td>0.3223</td><td>0.3319</td><td>0.3088</td><td>0.3378</td></tr><tr><td>&quot;2025-08-29T12:00:00.000000&quot;</td><td>0.0075</td><td>0.0085</td><td>113000</td><td>0.0315</td><td>0.0335</td><td>&quot;5SEP25&quot;</td><td>110106.62</td><td>0.018721</td><td>110271.67</td><td>825.8</td><td>935.9</td><td>3468.4</td><td>3688.6</td><td>0.3092</td><td>0.3303</td><td>0.2924</td><td>0.335</td></tr><tr><td>&quot;2025-08-29T12:00:00.000000&quot;</td><td>0.0055</td><td>0.006</td><td>114000</td><td>0.0385</td><td>0.041</td><td>&quot;5SEP25&quot;</td><td>110106.62</td><td>0.018721</td><td>110271.67</td><td>605.6</td><td>660.6</td><td>4239.1</td><td>4514.4</td><td>0.3139</td><td>0.3259</td><td>0.2925</td><td>0.3524</td></tr><tr><td>&quot;2025-08-29T12:00:00.000000&quot;</td><td>0.0038</td><td>0.0042</td><td>115000</td><td>0.0455</td><td>0.048</td><td>&quot;5SEP25&quot;</td><td>110106.62</td><td>0.018721</td><td>110271.67</td><td>418.4</td><td>462.4</td><td>5009.9</td><td>5285.1</td><td>0.3134</td><td>0.3247</td><td>0.2749</td><td>0.348</td></tr><tr><td>&quot;2025-08-29T12:00:00.000000&quot;</td><td>0.0027</td><td>0.0028</td><td>116000</td><td>0.0535</td><td>0.056</td><td>&quot;5SEP25&quot;</td><td>110106.62</td><td>0.018721</td><td>110271.67</td><td>297.3</td><td>308.3</td><td>5890.7</td><td>6166.0</td><td>0.3181</td><td>0.3215</td><td>0.2696</td><td>0.3594</td></tr><tr><td>&quot;2025-08-29T12:00:00.000000&quot;</td><td>0.0019</td><td>0.002</td><td>117000</td><td>0.062</td><td>0.064</td><td>&quot;5SEP25&quot;</td><td>110106.62</td><td>0.018721</td><td>110271.67</td><td>209.2</td><td>220.2</td><td>6826.6</td><td>7046.8</td><td>0.3228</td><td>0.3271</td><td>0.2709</td><td>0.362</td></tr><tr><td>&quot;2025-08-29T12:00:00.000000&quot;</td><td>0.0014</td><td>0.0017</td><td>118000</td><td>0.0705</td><td>0.0725</td><td>&quot;5SEP25&quot;</td><td>110106.62</td><td>0.018721</td><td>110271.67</td><td>154.1</td><td>187.2</td><td>7762.5</td><td>7982.7</td><td>0.3316</td><td>0.347</td><td>0.2491</td><td>0.3747</td></tr><tr><td>&quot;2025-08-29T12:00:00.000000&quot;</td><td>0.0011</td><td>0.0013</td><td>119000</td><td>0.079</td><td>0.0815</td><td>&quot;5SEP25&quot;</td><td>110106.62</td><td>0.018721</td><td>110271.67</td><td>121.1</td><td>143.1</td><td>8698.4</td><td>8973.7</td><td>0.3447</td><td>0.3571</td><td>0.0</td><td>0.4047</td></tr><tr><td>&quot;2025-08-29T12:00:00.000000&quot;</td><td>0.0009</td><td>0.0011</td><td>120000</td><td>0.088</td><td>0.09</td><td>&quot;5SEP25&quot;</td><td>110106.62</td><td>0.018721</td><td>110271.67</td><td>99.1</td><td>121.1</td><td>9689.4</td><td>9909.6</td><td>0.3597</td><td>0.3742</td><td>0.0</td><td>0.4076</td></tr><tr><td>&quot;2025-08-29T12:00:00.000000&quot;</td><td>0.0007</td><td>0.0009</td><td>121000</td><td>0.097</td><td>0.099</td><td>&quot;5SEP25&quot;</td><td>110106.62</td><td>0.018721</td><td>110271.67</td><td>77.1</td><td>99.1</td><td>10680.3</td><td>10900.6</td><td>0.3704</td><td>0.3877</td><td>0.0</td><td>0.4333</td></tr><tr><td>&quot;2025-08-29T12:00:00.000000&quot;</td><td>0.0005</td><td>0.0008</td><td>122000</td><td>0.106</td><td>0.108</td><td>&quot;5SEP25&quot;</td><td>110106.62</td><td>0.018721</td><td>110271.67</td><td>55.1</td><td>88.1</td><td>11671.3</td><td>11891.5</td><td>0.3754</td><td>0.4065</td><td>0.0</td><td>0.4576</td></tr><tr><td>&quot;2025-08-29T12:00:00.000000&quot;</td><td>0.0005</td><td>0.0007</td><td>123000</td><td>0.114425</td><td>0.117082</td><td>&quot;5SEP25&quot;</td><td>110106.62</td><td>0.018721</td><td>110271.67</td><td>55.1</td><td>77.1</td><td>12599.0</td><td>12891.5</td><td>0.4005</td><td>0.4231</td><td>0.0</td><td>0.4864</td></tr><tr><td>&quot;2025-08-29T12:00:00.000000&quot;</td><td>0.0004</td><td>0.0007</td><td>124000</td><td>0.123507</td><td>0.126164</td><td>&quot;5SEP25&quot;</td><td>110106.62</td><td>0.018721</td><td>110271.67</td><td>44.0</td><td>77.1</td><td>13599.0</td><td>13891.5</td><td>0.4108</td><td>0.4487</td><td>0.0</td><td>0.5145</td></tr><tr><td>&quot;2025-08-29T12:00:00.000000&quot;</td><td>0.0004</td><td>0.0006</td><td>125000</td><td>0.132589</td><td>0.135246</td><td>&quot;5SEP25&quot;</td><td>110106.62</td><td>0.018721</td><td>110271.67</td><td>44.0</td><td>66.1</td><td>14599.0</td><td>14891.5</td><td>0.4344</td><td>0.4622</td><td>0.0</td><td>0.5422</td></tr><tr><td>&quot;2025-08-29T12:00:00.000000&quot;</td><td>0.0003</td><td>0.0005</td><td>126000</td><td>0.141672</td><td>0.144328</td><td>&quot;5SEP25&quot;</td><td>110106.62</td><td>0.018721</td><td>110271.67</td><td>33.0</td><td>55.1</td><td>15599.0</td><td>15891.5</td><td>0.4396</td><td>0.4731</td><td>0.0</td><td>0.5694</td></tr><tr><td>&quot;2025-08-29T12:00:00.000000&quot;</td><td>0.0002</td><td>0.0004</td><td>128000</td><td>0.159836</td><td>0.162493</td><td>&quot;5SEP25&quot;</td><td>110106.62</td><td>0.018721</td><td>110271.67</td><td>22.0</td><td>44.0</td><td>17599.0</td><td>17891.5</td><td>0.4591</td><td>0.5031</td><td>0.0</td><td>0.6223</td></tr><tr><td>&quot;2025-08-29T12:00:00.000000&quot;</td><td>0.0002</td><td>0.0004</td><td>130000</td><td>0.178</td><td>0.18</td><td>&quot;5SEP25&quot;</td><td>110106.62</td><td>0.018721</td><td>110271.67</td><td>22.0</td><td>44.0</td><td>19599.0</td><td>19819.2</td><td>0.5003</td><td>0.5472</td><td>0.0</td><td>0.6095</td></tr><tr><td>&quot;2025-08-29T12:00:00.000000&quot;</td><td>0.0001</td><td>0.0003</td><td>135000</td><td>0.223089</td><td>0.225411</td><td>&quot;5SEP25&quot;</td><td>110106.62</td><td>0.018721</td><td>110271.67</td><td>11.0</td><td>33.0</td><td>24563.6</td><td>24819.2</td><td>0.5549</td><td>0.6289</td><td>0.0</td><td>0.7233</td></tr><tr><td>&quot;2025-08-29T12:00:00.000000&quot;</td><td>0.0001</td><td>0.0002</td><td>140000</td><td>0.2685</td><td>0.270821</td><td>&quot;5SEP25&quot;</td><td>110106.62</td><td>0.018721</td><td>110271.67</td><td>11.0</td><td>22.0</td><td>29563.6</td><td>29819.2</td><td>0.6425</td><td>0.6918</td><td>0.0</td><td>0.8302</td></tr></tbody></table></div>"
      ],
      "text/plain": [
       "shape: (32, 18)\n",
       "┌────────────┬───────────┬───────────┬────────┬───┬────────────┬───────────┬───────────┬───────────┐\n",
       "│ timestamp  ┆ bid_price ┆ ask_price ┆ strike ┆ … ┆ call_bid_v ┆ call_ask_ ┆ put_bid_v ┆ put_ask_v │\n",
       "│ ---        ┆ ---       ┆ ---       ┆ ---    ┆   ┆ ola        ┆ vola      ┆ ola       ┆ ola       │\n",
       "│ str        ┆ f64       ┆ f64       ┆ i64    ┆   ┆ ---        ┆ ---       ┆ ---       ┆ ---       │\n",
       "│            ┆           ┆           ┆        ┆   ┆ f64        ┆ f64       ┆ f64       ┆ f64       │\n",
       "╞════════════╪═══════════╪═══════════╪════════╪═══╪════════════╪═══════════╪═══════════╪═══════════╡\n",
       "│ 2025-08-29 ┆ 0.248     ┆ 0.284217  ┆ 80000  ┆ … ┆ 0.0        ┆ 11976.911 ┆ 0.0       ┆ 0.0       │\n",
       "│ T12:00:00. ┆           ┆           ┆        ┆   ┆            ┆ 8         ┆           ┆           │\n",
       "│ 000000     ┆           ┆           ┆        ┆   ┆            ┆           ┆           ┆           │\n",
       "│ 2025-08-29 ┆ 0.202589  ┆ 0.238806  ┆ 85000  ┆ … ┆ 0.0        ┆ 0.0       ┆ 0.7686    ┆ 0.0       │\n",
       "│ T12:00:00. ┆           ┆           ┆        ┆   ┆            ┆           ┆           ┆           │\n",
       "│ 000000     ┆           ┆           ┆        ┆   ┆            ┆           ┆           ┆           │\n",
       "│ 2025-08-29 ┆ 0.157179  ┆ 0.193396  ┆ 90000  ┆ … ┆ 0.0        ┆ 0.0       ┆ 0.6729    ┆ 0.7132    │\n",
       "│ T12:00:00. ┆           ┆           ┆        ┆   ┆            ┆           ┆           ┆           │\n",
       "│ 000000     ┆           ┆           ┆        ┆   ┆            ┆           ┆           ┆           │\n",
       "│ 2025-08-29 ┆ 0.111768  ┆ 0.147985  ┆ 95000  ┆ … ┆ 0.0        ┆ 1.0138    ┆ 0.5465    ┆ 0.5727    │\n",
       "│ T12:00:00. ┆           ┆           ┆        ┆   ┆            ┆           ┆           ┆           │\n",
       "│ 000000     ┆           ┆           ┆        ┆   ┆            ┆           ┆           ┆           │\n",
       "│ 2025-08-29 ┆ 0.066358  ┆ 0.102575  ┆ 100000 ┆ … ┆ 0.0        ┆ 0.7614    ┆ 0.4497    ┆ 0.4629    │\n",
       "│ T12:00:00. ┆           ┆           ┆        ┆   ┆            ┆           ┆           ┆           │\n",
       "│ 000000     ┆           ┆           ┆        ┆   ┆            ┆           ┆           ┆           │\n",
       "│ 2025-08-29 ┆ 0.048194  ┆ 0.084411  ┆ 102000 ┆ … ┆ 0.0        ┆ 0.6588    ┆ 0.4186    ┆ 0.4326    │\n",
       "│ T12:00:00. ┆           ┆           ┆        ┆   ┆            ┆           ┆           ┆           │\n",
       "│ 000000     ┆           ┆           ┆        ┆   ┆            ┆           ┆           ┆           │\n",
       "│ 2025-08-29 ┆ 0.0375    ┆ 0.057164  ┆ 105000 ┆ … ┆ 0.0        ┆ 0.4999    ┆ 0.3881    ┆ 0.4023    │\n",
       "│ T12:00:00. ┆           ┆           ┆        ┆   ┆            ┆           ┆           ┆           │\n",
       "│ 000000     ┆           ┆           ┆        ┆   ┆            ┆           ┆           ┆           │\n",
       "│ 2025-08-29 ┆ 0.0375    ┆ 0.048082  ┆ 106000 ┆ … ┆ 0.0        ┆ 0.4446    ┆ 0.3653    ┆ 0.3903    │\n",
       "│ T12:00:00. ┆           ┆           ┆        ┆   ┆            ┆           ┆           ┆           │\n",
       "│ 000000     ┆           ┆           ┆        ┆   ┆            ┆           ┆           ┆           │\n",
       "│ 2025-08-29 ┆ 0.0375    ┆ 0.039     ┆ 107000 ┆ … ┆ 0.3542     ┆ 0.3875    ┆ 0.359     ┆ 0.3702    │\n",
       "│ T12:00:00. ┆           ┆           ┆        ┆   ┆            ┆           ┆           ┆           │\n",
       "│ 000000     ┆           ┆           ┆        ┆   ┆            ┆           ┆           ┆           │\n",
       "│ 2025-08-29 ┆ 0.0305    ┆ 0.032     ┆ 108000 ┆ … ┆ 0.3396     ┆ 0.37      ┆ 0.3423    ┆ 0.3626    │\n",
       "│ T12:00:00. ┆           ┆           ┆        ┆   ┆            ┆           ┆           ┆           │\n",
       "│ 000000     ┆           ┆           ┆        ┆   ┆            ┆           ┆           ┆           │\n",
       "│ 2025-08-29 ┆ 0.0245    ┆ 0.0255    ┆ 109000 ┆ … ┆ 0.3338     ┆ 0.3528    ┆ 0.3348    ┆ 0.3538    │\n",
       "│ T12:00:00. ┆           ┆           ┆        ┆   ┆            ┆           ┆           ┆           │\n",
       "│ 000000     ┆           ┆           ┆        ┆   ┆            ┆           ┆           ┆           │\n",
       "│ 2025-08-29 ┆ 0.0195    ┆ 0.02      ┆ 110000 ┆ … ┆ 0.3341     ┆ 0.3433    ┆ 0.3335    ┆ 0.3427    │\n",
       "│ T12:00:00. ┆           ┆           ┆        ┆   ┆            ┆           ┆           ┆           │\n",
       "│ 000000     ┆           ┆           ┆        ┆   ┆            ┆           ┆           ┆           │\n",
       "│ 2025-08-29 ┆ 0.0145    ┆ 0.0155    ┆ 111000 ┆ … ┆ 0.3211     ┆ 0.3395    ┆ 0.319     ┆ 0.3374    │\n",
       "│ T12:00:00. ┆           ┆           ┆        ┆   ┆            ┆           ┆           ┆           │\n",
       "│ 000000     ┆           ┆           ┆        ┆   ┆            ┆           ┆           ┆           │\n",
       "│ 2025-08-29 ┆ 0.011     ┆ 0.0115    ┆ 112000 ┆ … ┆ 0.3223     ┆ 0.3319    ┆ 0.3088    ┆ 0.3378    │\n",
       "│ T12:00:00. ┆           ┆           ┆        ┆   ┆            ┆           ┆           ┆           │\n",
       "│ 000000     ┆           ┆           ┆        ┆   ┆            ┆           ┆           ┆           │\n",
       "│ 2025-08-29 ┆ 0.0075    ┆ 0.0085    ┆ 113000 ┆ … ┆ 0.3092     ┆ 0.3303    ┆ 0.2924    ┆ 0.335     │\n",
       "│ T12:00:00. ┆           ┆           ┆        ┆   ┆            ┆           ┆           ┆           │\n",
       "│ 000000     ┆           ┆           ┆        ┆   ┆            ┆           ┆           ┆           │\n",
       "│ 2025-08-29 ┆ 0.0055    ┆ 0.006     ┆ 114000 ┆ … ┆ 0.3139     ┆ 0.3259    ┆ 0.2925    ┆ 0.3524    │\n",
       "│ T12:00:00. ┆           ┆           ┆        ┆   ┆            ┆           ┆           ┆           │\n",
       "│ 000000     ┆           ┆           ┆        ┆   ┆            ┆           ┆           ┆           │\n",
       "│ 2025-08-29 ┆ 0.0038    ┆ 0.0042    ┆ 115000 ┆ … ┆ 0.3134     ┆ 0.3247    ┆ 0.2749    ┆ 0.348     │\n",
       "│ T12:00:00. ┆           ┆           ┆        ┆   ┆            ┆           ┆           ┆           │\n",
       "│ 000000     ┆           ┆           ┆        ┆   ┆            ┆           ┆           ┆           │\n",
       "│ 2025-08-29 ┆ 0.0027    ┆ 0.0028    ┆ 116000 ┆ … ┆ 0.3181     ┆ 0.3215    ┆ 0.2696    ┆ 0.3594    │\n",
       "│ T12:00:00. ┆           ┆           ┆        ┆   ┆            ┆           ┆           ┆           │\n",
       "│ 000000     ┆           ┆           ┆        ┆   ┆            ┆           ┆           ┆           │\n",
       "│ 2025-08-29 ┆ 0.0019    ┆ 0.002     ┆ 117000 ┆ … ┆ 0.3228     ┆ 0.3271    ┆ 0.2709    ┆ 0.362     │\n",
       "│ T12:00:00. ┆           ┆           ┆        ┆   ┆            ┆           ┆           ┆           │\n",
       "│ 000000     ┆           ┆           ┆        ┆   ┆            ┆           ┆           ┆           │\n",
       "│ 2025-08-29 ┆ 0.0014    ┆ 0.0017    ┆ 118000 ┆ … ┆ 0.3316     ┆ 0.347     ┆ 0.2491    ┆ 0.3747    │\n",
       "│ T12:00:00. ┆           ┆           ┆        ┆   ┆            ┆           ┆           ┆           │\n",
       "│ 000000     ┆           ┆           ┆        ┆   ┆            ┆           ┆           ┆           │\n",
       "│ 2025-08-29 ┆ 0.0011    ┆ 0.0013    ┆ 119000 ┆ … ┆ 0.3447     ┆ 0.3571    ┆ 0.0       ┆ 0.4047    │\n",
       "│ T12:00:00. ┆           ┆           ┆        ┆   ┆            ┆           ┆           ┆           │\n",
       "│ 000000     ┆           ┆           ┆        ┆   ┆            ┆           ┆           ┆           │\n",
       "│ 2025-08-29 ┆ 0.0009    ┆ 0.0011    ┆ 120000 ┆ … ┆ 0.3597     ┆ 0.3742    ┆ 0.0       ┆ 0.4076    │\n",
       "│ T12:00:00. ┆           ┆           ┆        ┆   ┆            ┆           ┆           ┆           │\n",
       "│ 000000     ┆           ┆           ┆        ┆   ┆            ┆           ┆           ┆           │\n",
       "│ 2025-08-29 ┆ 0.0007    ┆ 0.0009    ┆ 121000 ┆ … ┆ 0.3704     ┆ 0.3877    ┆ 0.0       ┆ 0.4333    │\n",
       "│ T12:00:00. ┆           ┆           ┆        ┆   ┆            ┆           ┆           ┆           │\n",
       "│ 000000     ┆           ┆           ┆        ┆   ┆            ┆           ┆           ┆           │\n",
       "│ 2025-08-29 ┆ 0.0005    ┆ 0.0008    ┆ 122000 ┆ … ┆ 0.3754     ┆ 0.4065    ┆ 0.0       ┆ 0.4576    │\n",
       "│ T12:00:00. ┆           ┆           ┆        ┆   ┆            ┆           ┆           ┆           │\n",
       "│ 000000     ┆           ┆           ┆        ┆   ┆            ┆           ┆           ┆           │\n",
       "│ 2025-08-29 ┆ 0.0005    ┆ 0.0007    ┆ 123000 ┆ … ┆ 0.4005     ┆ 0.4231    ┆ 0.0       ┆ 0.4864    │\n",
       "│ T12:00:00. ┆           ┆           ┆        ┆   ┆            ┆           ┆           ┆           │\n",
       "│ 000000     ┆           ┆           ┆        ┆   ┆            ┆           ┆           ┆           │\n",
       "│ 2025-08-29 ┆ 0.0004    ┆ 0.0007    ┆ 124000 ┆ … ┆ 0.4108     ┆ 0.4487    ┆ 0.0       ┆ 0.5145    │\n",
       "│ T12:00:00. ┆           ┆           ┆        ┆   ┆            ┆           ┆           ┆           │\n",
       "│ 000000     ┆           ┆           ┆        ┆   ┆            ┆           ┆           ┆           │\n",
       "│ 2025-08-29 ┆ 0.0004    ┆ 0.0006    ┆ 125000 ┆ … ┆ 0.4344     ┆ 0.4622    ┆ 0.0       ┆ 0.5422    │\n",
       "│ T12:00:00. ┆           ┆           ┆        ┆   ┆            ┆           ┆           ┆           │\n",
       "│ 000000     ┆           ┆           ┆        ┆   ┆            ┆           ┆           ┆           │\n",
       "│ 2025-08-29 ┆ 0.0003    ┆ 0.0005    ┆ 126000 ┆ … ┆ 0.4396     ┆ 0.4731    ┆ 0.0       ┆ 0.5694    │\n",
       "│ T12:00:00. ┆           ┆           ┆        ┆   ┆            ┆           ┆           ┆           │\n",
       "│ 000000     ┆           ┆           ┆        ┆   ┆            ┆           ┆           ┆           │\n",
       "│ 2025-08-29 ┆ 0.0002    ┆ 0.0004    ┆ 128000 ┆ … ┆ 0.4591     ┆ 0.5031    ┆ 0.0       ┆ 0.6223    │\n",
       "│ T12:00:00. ┆           ┆           ┆        ┆   ┆            ┆           ┆           ┆           │\n",
       "│ 000000     ┆           ┆           ┆        ┆   ┆            ┆           ┆           ┆           │\n",
       "│ 2025-08-29 ┆ 0.0002    ┆ 0.0004    ┆ 130000 ┆ … ┆ 0.5003     ┆ 0.5472    ┆ 0.0       ┆ 0.6095    │\n",
       "│ T12:00:00. ┆           ┆           ┆        ┆   ┆            ┆           ┆           ┆           │\n",
       "│ 000000     ┆           ┆           ┆        ┆   ┆            ┆           ┆           ┆           │\n",
       "│ 2025-08-29 ┆ 0.0001    ┆ 0.0003    ┆ 135000 ┆ … ┆ 0.5549     ┆ 0.6289    ┆ 0.0       ┆ 0.7233    │\n",
       "│ T12:00:00. ┆           ┆           ┆        ┆   ┆            ┆           ┆           ┆           │\n",
       "│ 000000     ┆           ┆           ┆        ┆   ┆            ┆           ┆           ┆           │\n",
       "│ 2025-08-29 ┆ 0.0001    ┆ 0.0002    ┆ 140000 ┆ … ┆ 0.6425     ┆ 0.6918    ┆ 0.0       ┆ 0.8302    │\n",
       "│ T12:00:00. ┆           ┆           ┆        ┆   ┆            ┆           ┆           ┆           │\n",
       "│ 000000     ┆           ┆           ┆        ┆   ┆            ┆           ┆           ┆           │\n",
       "└────────────┴───────────┴───────────┴────────┴───┴────────────┴───────────┴───────────┴───────────┘"
      ]
     },
     "execution_count": 101,
     "metadata": {},
     "output_type": "execute_result"
    }
   ],
   "source": [
    "df_vola"
   ]
  },
  {
   "cell_type": "code",
   "execution_count": 102,
   "id": "7e339b81",
   "metadata": {},
   "outputs": [
    {
     "data": {
      "application/vnd.plotly.v1+json": {
       "config": {
        "plotlyServerURL": "https://plot.ly"
       },
       "data": [
        {
         "marker": {
          "color": "blue",
          "symbol": "triangle-up"
         },
         "mode": "markers",
         "name": "Call Bid Vola",
         "type": "scatter",
         "x": {
          "bdata": "gDgBAAhMAQCQXwEAGHMBAKCGAQBwjgEAKJoBABCeAQD4oQEA4KUBAMipAQCwrQEAmLEBAIC1AQBouQEAUL0BADjBAQAgxQEACMkBAPDMAQDY0AEAwNQBAKjYAQCQ3AEAeOABAGDkAQBI6AEAMOwBAAD0AQDQ+wEAWA8CAOAiAgA=",
          "dtype": "i4"
         },
         "y": {
          "bdata": "AAAAAAAAAAAAAAAAAAAAAAAAAAAAAAAAAAAAAAAAAAAAAAAAAAAAAAAAAAAAAAAAAAAAAAAAAAAAAAAAAAAAAJeQD3o2q9Y/si5uowG81T8+6Nms+lzVP4v9ZffkYdU/6bevA+eM1D8bDeAtkKDUP7UV+8vuydM/u7iNBvAW1D/mP6Tfvg7UP+viNhrAW9Q/8IXJVMGo1D9iodY07zjVP8iYu5aQD9Y/vsEXJlMF1z+/DpwzorTXPxHHuriNBtg/bxKDwMqh2T9fmEwVjEraPz55WKg1zds/GJXUCWgi3D+L/WX35GHdP6YKRiV1AuA/4JwRpb3B4T+PwvUoXI/kPw==",
          "dtype": "f8"
         }
        },
        {
         "marker": {
          "color": "blue",
          "symbol": "triangle-down"
         },
         "mode": "markers",
         "name": "Call Ask Vola",
         "type": "scatter",
         "x": {
          "bdata": "gDgBAAhMAQCQXwEAGHMBAKCGAQBwjgEAKJoBABCeAQD4oQEA4KUBAMipAQCwrQEAmLEBAIC1AQBouQEAUL0BADjBAQAgxQEACMkBAPDMAQDY0AEAwNQBAKjYAQCQ3AEAeOABAGDkAQBI6AEAMOwBAAD0AQDQ+wEAWA8CAOAiAgA=",
          "dtype": "i4"
         },
         "y": {
          "bdata": "P8bctXRkx0AAAAAAAAAAAAAAAAAAAAAA8fRKWYY48D+vlGWIY13oP4Za07zjFOU/PE7RkVz+3z9qTfOOU3TcP83MzMzMzNg/rkfhehSu1z/c14FzRpTWPw3gLZCg+NU/7nw/NV661T+utmJ/2T3VP2uad5yiI9U/swxxrIvb1D+At0CC4sfUP/p+arx0k9Q/5WGh1jTv1D9oke18PzXWP9CzWfW52tY/3nGKjuTy1z9VMCqpE9DYP2q8dJMYBNo/owG8BRIU2z/WxW00gLfcP02EDU+vlN0/1zTvOEVH3j9hw9MrZRngP9/gC5OpguE/coqO5PIf5D/67evAOSPmPw==",
          "dtype": "f8"
         }
        },
        {
         "marker": {
          "color": "red",
          "symbol": "triangle-up"
         },
         "mode": "markers",
         "name": "Put Bid Vola",
         "type": "scatter",
         "x": {
          "bdata": "gDgBAAhMAQCQXwEAGHMBAKCGAQBwjgEAKJoBABCeAQD4oQEA4KUBAMipAQCwrQEAmLEBAIC1AQBouQEAUL0BADjBAQAgxQEACMkBAPDMAQDY0AEAwNQBAKjYAQCQ3AEAeOABAGDkAQBI6AEAMOwBAAD0AQDQ+wEAWA8CAOAiAgA=",
          "dtype": "i4"
         },
         "y": {
          "bdata": "AAAAAAAAAABGlPYGX5joPw5Pr5RliOU/sHJoke184T+At0CC4sfcPyfChqdXyto/ZvfkYaHW2D+ppE5AE2HXP2Dl0CLb+dY/Y+5aQj7o1T/o2az6XG3VP/LSTWIQWNU/0SLb+X5q1D+lTkATYcPTP/RsVn2uttI/uB6F61G40j/V52or9pfRPzcawFsgQdE/LSEf9GxW0T80gLdAguLPPwAAAAAAAAAAAAAAAAAAAAAAAAAAAAAAAAAAAAAAAAAAAAAAAAAAAAAAAAAAAAAAAAAAAAAAAAAAAAAAAAAAAAAAAAAAAAAAAAAAAAAAAAAAAAAAAAAAAAAAAAAAAAAAAA==",
          "dtype": "f8"
         }
        },
        {
         "marker": {
          "color": "red",
          "symbol": "triangle-down"
         },
         "mode": "markers",
         "name": "Put Ask Vola",
         "type": "scatter",
         "x": {
          "bdata": "gDgBAAhMAQCQXwEAGHMBAKCGAQBwjgEAKJoBABCeAQD4oQEA4KUBAMipAQCwrQEAmLEBAIC1AQBouQEAUL0BADjBAQAgxQEACMkBAPDMAQDY0AEAwNQBAKjYAQCQ3AEAeOABAGDkAQBI6AEAMOwBAAD0AQDQ+wEAWA8CAOAiAgA=",
          "dtype": "i4"
         },
         "y": {
          "bdata": "AAAAAAAAAAAAAAAAAAAAAPs6cM6I0uY/FmpN845T4j+qYFRSJ6DdP3L5D+m3r9s/OpLLf0i/2T9CPujZrPrYPzarPldbsdc/9+RhodY01z+GyVTBqKTWP3S1FfvL7tU/1edqK/aX1T/mriXkg57VP3E9CtejcNU/yxDHuriN1j8Sg8DKoUXWP3Gsi9toANc/XrpJDAIr1z+z6nO1FfvXP588LNSa5tk/2V92Tx4W2j/Q1VbsL7vbPwyTqYJRSd0/xY8xdy0h3z8QWDm0yHbgP7aEfNCzWeE/8fRKWYY44j8noImw4enjPxsv3SQGgeM/MEymCkYl5z9UdCSX/5DqPw==",
          "dtype": "f8"
         }
        }
       ],
       "layout": {
        "annotations": [
         {
          "showarrow": false,
          "text": "Spot (S)",
          "x": 110106.62,
          "xanchor": "center",
          "xref": "x",
          "y": 1,
          "yanchor": "bottom",
          "yref": "y domain"
         }
        ],
        "shapes": [
         {
          "line": {
           "color": "black"
          },
          "type": "line",
          "x0": 110106.62,
          "x1": 110106.62,
          "xref": "x",
          "y0": 0,
          "y1": 1,
          "yref": "y domain"
         }
        ],
        "template": {
         "data": {
          "bar": [
           {
            "error_x": {
             "color": "#2a3f5f"
            },
            "error_y": {
             "color": "#2a3f5f"
            },
            "marker": {
             "line": {
              "color": "#E5ECF6",
              "width": 0.5
             },
             "pattern": {
              "fillmode": "overlay",
              "size": 10,
              "solidity": 0.2
             }
            },
            "type": "bar"
           }
          ],
          "barpolar": [
           {
            "marker": {
             "line": {
              "color": "#E5ECF6",
              "width": 0.5
             },
             "pattern": {
              "fillmode": "overlay",
              "size": 10,
              "solidity": 0.2
             }
            },
            "type": "barpolar"
           }
          ],
          "carpet": [
           {
            "aaxis": {
             "endlinecolor": "#2a3f5f",
             "gridcolor": "white",
             "linecolor": "white",
             "minorgridcolor": "white",
             "startlinecolor": "#2a3f5f"
            },
            "baxis": {
             "endlinecolor": "#2a3f5f",
             "gridcolor": "white",
             "linecolor": "white",
             "minorgridcolor": "white",
             "startlinecolor": "#2a3f5f"
            },
            "type": "carpet"
           }
          ],
          "choropleth": [
           {
            "colorbar": {
             "outlinewidth": 0,
             "ticks": ""
            },
            "type": "choropleth"
           }
          ],
          "contour": [
           {
            "colorbar": {
             "outlinewidth": 0,
             "ticks": ""
            },
            "colorscale": [
             [
              0,
              "#0d0887"
             ],
             [
              0.1111111111111111,
              "#46039f"
             ],
             [
              0.2222222222222222,
              "#7201a8"
             ],
             [
              0.3333333333333333,
              "#9c179e"
             ],
             [
              0.4444444444444444,
              "#bd3786"
             ],
             [
              0.5555555555555556,
              "#d8576b"
             ],
             [
              0.6666666666666666,
              "#ed7953"
             ],
             [
              0.7777777777777778,
              "#fb9f3a"
             ],
             [
              0.8888888888888888,
              "#fdca26"
             ],
             [
              1,
              "#f0f921"
             ]
            ],
            "type": "contour"
           }
          ],
          "contourcarpet": [
           {
            "colorbar": {
             "outlinewidth": 0,
             "ticks": ""
            },
            "type": "contourcarpet"
           }
          ],
          "heatmap": [
           {
            "colorbar": {
             "outlinewidth": 0,
             "ticks": ""
            },
            "colorscale": [
             [
              0,
              "#0d0887"
             ],
             [
              0.1111111111111111,
              "#46039f"
             ],
             [
              0.2222222222222222,
              "#7201a8"
             ],
             [
              0.3333333333333333,
              "#9c179e"
             ],
             [
              0.4444444444444444,
              "#bd3786"
             ],
             [
              0.5555555555555556,
              "#d8576b"
             ],
             [
              0.6666666666666666,
              "#ed7953"
             ],
             [
              0.7777777777777778,
              "#fb9f3a"
             ],
             [
              0.8888888888888888,
              "#fdca26"
             ],
             [
              1,
              "#f0f921"
             ]
            ],
            "type": "heatmap"
           }
          ],
          "histogram": [
           {
            "marker": {
             "pattern": {
              "fillmode": "overlay",
              "size": 10,
              "solidity": 0.2
             }
            },
            "type": "histogram"
           }
          ],
          "histogram2d": [
           {
            "colorbar": {
             "outlinewidth": 0,
             "ticks": ""
            },
            "colorscale": [
             [
              0,
              "#0d0887"
             ],
             [
              0.1111111111111111,
              "#46039f"
             ],
             [
              0.2222222222222222,
              "#7201a8"
             ],
             [
              0.3333333333333333,
              "#9c179e"
             ],
             [
              0.4444444444444444,
              "#bd3786"
             ],
             [
              0.5555555555555556,
              "#d8576b"
             ],
             [
              0.6666666666666666,
              "#ed7953"
             ],
             [
              0.7777777777777778,
              "#fb9f3a"
             ],
             [
              0.8888888888888888,
              "#fdca26"
             ],
             [
              1,
              "#f0f921"
             ]
            ],
            "type": "histogram2d"
           }
          ],
          "histogram2dcontour": [
           {
            "colorbar": {
             "outlinewidth": 0,
             "ticks": ""
            },
            "colorscale": [
             [
              0,
              "#0d0887"
             ],
             [
              0.1111111111111111,
              "#46039f"
             ],
             [
              0.2222222222222222,
              "#7201a8"
             ],
             [
              0.3333333333333333,
              "#9c179e"
             ],
             [
              0.4444444444444444,
              "#bd3786"
             ],
             [
              0.5555555555555556,
              "#d8576b"
             ],
             [
              0.6666666666666666,
              "#ed7953"
             ],
             [
              0.7777777777777778,
              "#fb9f3a"
             ],
             [
              0.8888888888888888,
              "#fdca26"
             ],
             [
              1,
              "#f0f921"
             ]
            ],
            "type": "histogram2dcontour"
           }
          ],
          "mesh3d": [
           {
            "colorbar": {
             "outlinewidth": 0,
             "ticks": ""
            },
            "type": "mesh3d"
           }
          ],
          "parcoords": [
           {
            "line": {
             "colorbar": {
              "outlinewidth": 0,
              "ticks": ""
             }
            },
            "type": "parcoords"
           }
          ],
          "pie": [
           {
            "automargin": true,
            "type": "pie"
           }
          ],
          "scatter": [
           {
            "fillpattern": {
             "fillmode": "overlay",
             "size": 10,
             "solidity": 0.2
            },
            "type": "scatter"
           }
          ],
          "scatter3d": [
           {
            "line": {
             "colorbar": {
              "outlinewidth": 0,
              "ticks": ""
             }
            },
            "marker": {
             "colorbar": {
              "outlinewidth": 0,
              "ticks": ""
             }
            },
            "type": "scatter3d"
           }
          ],
          "scattercarpet": [
           {
            "marker": {
             "colorbar": {
              "outlinewidth": 0,
              "ticks": ""
             }
            },
            "type": "scattercarpet"
           }
          ],
          "scattergeo": [
           {
            "marker": {
             "colorbar": {
              "outlinewidth": 0,
              "ticks": ""
             }
            },
            "type": "scattergeo"
           }
          ],
          "scattergl": [
           {
            "marker": {
             "colorbar": {
              "outlinewidth": 0,
              "ticks": ""
             }
            },
            "type": "scattergl"
           }
          ],
          "scattermap": [
           {
            "marker": {
             "colorbar": {
              "outlinewidth": 0,
              "ticks": ""
             }
            },
            "type": "scattermap"
           }
          ],
          "scattermapbox": [
           {
            "marker": {
             "colorbar": {
              "outlinewidth": 0,
              "ticks": ""
             }
            },
            "type": "scattermapbox"
           }
          ],
          "scatterpolar": [
           {
            "marker": {
             "colorbar": {
              "outlinewidth": 0,
              "ticks": ""
             }
            },
            "type": "scatterpolar"
           }
          ],
          "scatterpolargl": [
           {
            "marker": {
             "colorbar": {
              "outlinewidth": 0,
              "ticks": ""
             }
            },
            "type": "scatterpolargl"
           }
          ],
          "scatterternary": [
           {
            "marker": {
             "colorbar": {
              "outlinewidth": 0,
              "ticks": ""
             }
            },
            "type": "scatterternary"
           }
          ],
          "surface": [
           {
            "colorbar": {
             "outlinewidth": 0,
             "ticks": ""
            },
            "colorscale": [
             [
              0,
              "#0d0887"
             ],
             [
              0.1111111111111111,
              "#46039f"
             ],
             [
              0.2222222222222222,
              "#7201a8"
             ],
             [
              0.3333333333333333,
              "#9c179e"
             ],
             [
              0.4444444444444444,
              "#bd3786"
             ],
             [
              0.5555555555555556,
              "#d8576b"
             ],
             [
              0.6666666666666666,
              "#ed7953"
             ],
             [
              0.7777777777777778,
              "#fb9f3a"
             ],
             [
              0.8888888888888888,
              "#fdca26"
             ],
             [
              1,
              "#f0f921"
             ]
            ],
            "type": "surface"
           }
          ],
          "table": [
           {
            "cells": {
             "fill": {
              "color": "#EBF0F8"
             },
             "line": {
              "color": "white"
             }
            },
            "header": {
             "fill": {
              "color": "#C8D4E3"
             },
             "line": {
              "color": "white"
             }
            },
            "type": "table"
           }
          ]
         },
         "layout": {
          "annotationdefaults": {
           "arrowcolor": "#2a3f5f",
           "arrowhead": 0,
           "arrowwidth": 1
          },
          "autotypenumbers": "strict",
          "coloraxis": {
           "colorbar": {
            "outlinewidth": 0,
            "ticks": ""
           }
          },
          "colorscale": {
           "diverging": [
            [
             0,
             "#8e0152"
            ],
            [
             0.1,
             "#c51b7d"
            ],
            [
             0.2,
             "#de77ae"
            ],
            [
             0.3,
             "#f1b6da"
            ],
            [
             0.4,
             "#fde0ef"
            ],
            [
             0.5,
             "#f7f7f7"
            ],
            [
             0.6,
             "#e6f5d0"
            ],
            [
             0.7,
             "#b8e186"
            ],
            [
             0.8,
             "#7fbc41"
            ],
            [
             0.9,
             "#4d9221"
            ],
            [
             1,
             "#276419"
            ]
           ],
           "sequential": [
            [
             0,
             "#0d0887"
            ],
            [
             0.1111111111111111,
             "#46039f"
            ],
            [
             0.2222222222222222,
             "#7201a8"
            ],
            [
             0.3333333333333333,
             "#9c179e"
            ],
            [
             0.4444444444444444,
             "#bd3786"
            ],
            [
             0.5555555555555556,
             "#d8576b"
            ],
            [
             0.6666666666666666,
             "#ed7953"
            ],
            [
             0.7777777777777778,
             "#fb9f3a"
            ],
            [
             0.8888888888888888,
             "#fdca26"
            ],
            [
             1,
             "#f0f921"
            ]
           ],
           "sequentialminus": [
            [
             0,
             "#0d0887"
            ],
            [
             0.1111111111111111,
             "#46039f"
            ],
            [
             0.2222222222222222,
             "#7201a8"
            ],
            [
             0.3333333333333333,
             "#9c179e"
            ],
            [
             0.4444444444444444,
             "#bd3786"
            ],
            [
             0.5555555555555556,
             "#d8576b"
            ],
            [
             0.6666666666666666,
             "#ed7953"
            ],
            [
             0.7777777777777778,
             "#fb9f3a"
            ],
            [
             0.8888888888888888,
             "#fdca26"
            ],
            [
             1,
             "#f0f921"
            ]
           ]
          },
          "colorway": [
           "#636efa",
           "#EF553B",
           "#00cc96",
           "#ab63fa",
           "#FFA15A",
           "#19d3f3",
           "#FF6692",
           "#B6E880",
           "#FF97FF",
           "#FECB52"
          ],
          "font": {
           "color": "#2a3f5f"
          },
          "geo": {
           "bgcolor": "white",
           "lakecolor": "white",
           "landcolor": "#E5ECF6",
           "showlakes": true,
           "showland": true,
           "subunitcolor": "white"
          },
          "hoverlabel": {
           "align": "left"
          },
          "hovermode": "closest",
          "mapbox": {
           "style": "light"
          },
          "paper_bgcolor": "white",
          "plot_bgcolor": "#E5ECF6",
          "polar": {
           "angularaxis": {
            "gridcolor": "white",
            "linecolor": "white",
            "ticks": ""
           },
           "bgcolor": "#E5ECF6",
           "radialaxis": {
            "gridcolor": "white",
            "linecolor": "white",
            "ticks": ""
           }
          },
          "scene": {
           "xaxis": {
            "backgroundcolor": "#E5ECF6",
            "gridcolor": "white",
            "gridwidth": 2,
            "linecolor": "white",
            "showbackground": true,
            "ticks": "",
            "zerolinecolor": "white"
           },
           "yaxis": {
            "backgroundcolor": "#E5ECF6",
            "gridcolor": "white",
            "gridwidth": 2,
            "linecolor": "white",
            "showbackground": true,
            "ticks": "",
            "zerolinecolor": "white"
           },
           "zaxis": {
            "backgroundcolor": "#E5ECF6",
            "gridcolor": "white",
            "gridwidth": 2,
            "linecolor": "white",
            "showbackground": true,
            "ticks": "",
            "zerolinecolor": "white"
           }
          },
          "shapedefaults": {
           "line": {
            "color": "#2a3f5f"
           }
          },
          "ternary": {
           "aaxis": {
            "gridcolor": "white",
            "linecolor": "white",
            "ticks": ""
           },
           "baxis": {
            "gridcolor": "white",
            "linecolor": "white",
            "ticks": ""
           },
           "bgcolor": "#E5ECF6",
           "caxis": {
            "gridcolor": "white",
            "linecolor": "white",
            "ticks": ""
           }
          },
          "title": {
           "x": 0.05
          },
          "xaxis": {
           "automargin": true,
           "gridcolor": "white",
           "linecolor": "white",
           "ticks": "",
           "title": {
            "standoff": 15
           },
           "zerolinecolor": "white",
           "zerolinewidth": 2
          },
          "yaxis": {
           "automargin": true,
           "gridcolor": "white",
           "linecolor": "white",
           "ticks": "",
           "title": {
            "standoff": 15
           },
           "zerolinecolor": "white",
           "zerolinewidth": 2
          }
         }
        },
        "title": {
         "text": "Implied Volatility vs Strike Price"
        },
        "xaxis": {
         "title": {
          "text": "Strike Price"
         }
        },
        "yaxis": {
         "range": [
          0.2,
          0.8
         ],
         "title": {
          "text": "Implied Volatility"
         }
        }
       }
      }
     },
     "metadata": {},
     "output_type": "display_data"
    }
   ],
   "source": [
    "import plotly.graph_objects as go\n",
    "\n",
    "fig = go.Figure()\n",
    "fig.add_trace(go.Scatter(x=df_vola['strike'], y=df_vola['call_bid_vola'], mode='markers', name='Call Bid Vola', marker=dict(symbol='triangle-up', color='blue')))\n",
    "fig.add_trace(go.Scatter(x=df_vola['strike'], y=df_vola['call_ask_vola'], mode='markers', name='Call Ask Vola', marker=dict(symbol='triangle-down', color='blue')))\n",
    "fig.add_trace(go.Scatter(x=df_vola['strike'], y=df_vola['put_bid_vola'], mode='markers', name='Put Bid Vola', marker=dict(symbol='triangle-up', color='red')))\n",
    "fig.add_trace(go.Scatter(x=df_vola['strike'], y=df_vola['put_ask_vola'], mode='markers', name='Put Ask Vola', marker=dict(symbol='triangle-down', color='red')))\n",
    "fig.add_vline(x=df_vola['S'][0], line_color=\"black\", annotation_text=\"Spot (S)\", annotation_position=\"top\")\n",
    "fig.update_layout(\n",
    "    title='Implied Volatility vs Strike Price',\n",
    "    xaxis_title='Strike Price',\n",
    "    yaxis_title='Implied Volatility',\n",
    "    yaxis=dict(range=[0.2, 0.8])  # Set the y-axis range as needed\n",
    ")\n",
    "fig.show()"
   ]
  },
  {
   "cell_type": "code",
   "execution_count": null,
   "id": "3549c845",
   "metadata": {},
   "outputs": [],
   "source": []
  }
 ],
 "metadata": {
  "kernelspec": {
   "display_name": ".venv",
   "language": "python",
   "name": "python3"
  },
  "language_info": {
   "codemirror_mode": {
    "name": "ipython",
    "version": 3
   },
   "file_extension": ".py",
   "mimetype": "text/x-python",
   "name": "python",
   "nbconvert_exporter": "python",
   "pygments_lexer": "ipython3",
   "version": "3.12.3"
  }
 },
 "nbformat": 4,
 "nbformat_minor": 5
}
