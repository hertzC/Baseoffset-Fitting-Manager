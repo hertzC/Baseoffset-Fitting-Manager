{
 "cells": [
  {
   "cell_type": "markdown",
   "metadata": {},
   "source": [
    "# Bitcoin Data Checker\n",
    "\n",
    "Simple notebook to check Bitcoin option data, specifically looking at **BTC-28JUN24-58000-C** around 12:30 to see when the bid goes null.\n",
    "\n",
    "## Objectives\n",
    "- Load orderbook data quickly\n",
    "- Filter for specific option symbol  \n",
    "- Check for null bid prices around 12:30\n",
    "- Show basic price information"
   ]
  },
  {
   "cell_type": "code",
   "execution_count": 1,
   "metadata": {},
   "outputs": [
    {
     "name": "stdout",
     "output_type": "stream",
     "text": [
      "📦 Libraries loaded\n"
     ]
    }
   ],
   "source": [
    "# Import libraries\n",
    "import polars as pl\n",
    "from datetime import datetime\n",
    "\n",
    "print(\"📦 Libraries loaded\")"
   ]
  },
  {
   "cell_type": "code",
   "execution_count": 2,
   "metadata": {},
   "outputs": [
    {
     "name": "stdout",
     "output_type": "stream",
     "text": [
      "🎯 Target: BTC-28JUN24-58000-C\n",
      "📁 Data: ../data_orderbook/20240229.output.csv.gz\n"
     ]
    }
   ],
   "source": [
    "# Configuration\n",
    "target_symbol = \"BTC-28JUN24-58000-C\"\n",
    "data_file = \"../data_orderbook/20240229.output.csv.gz\"\n",
    "\n",
    "print(f\"🎯 Target: {target_symbol}\")\n",
    "print(f\"📁 Data: {data_file}\")"
   ]
  },
  {
   "cell_type": "code",
   "execution_count": 3,
   "metadata": {},
   "outputs": [
    {
     "name": "stdout",
     "output_type": "stream",
     "text": [
      "📊 Loading data...\n",
      "✅ Data loaded, columns: ['symbol', 'timestamp', 'exchange', 'local_timestamp', 'asks[0].price', 'asks[0].amount', 'bids[0].price', 'bids[0].amount', 'asks[1].price', 'asks[1].amount', 'bids[1].price', 'bids[1].amount', 'asks[2].price', 'asks[2].amount', 'bids[2].price', 'bids[2].amount', 'asks[3].price', 'asks[3].amount', 'bids[3].price', 'bids[3].amount', 'asks[4].price', 'asks[4].amount', 'bids[4].price', 'bids[4].amount', 'index_price']\n"
     ]
    }
   ],
   "source": [
    "# Load data\n",
    "try:\n",
    "    print(\"📊 Loading data...\")\n",
    "    df = pl.scan_csv(data_file)\n",
    "    \n",
    "    # Test read\n",
    "    sample = df.head(1).collect()\n",
    "    print(f\"✅ Data loaded, columns: {sample.columns}\")\n",
    "    \n",
    "except Exception as e:\n",
    "    print(f\"❌ Error: {e}\")"
   ]
  },
  {
   "cell_type": "code",
   "execution_count": 4,
   "metadata": {},
   "outputs": [
    {
     "data": {
      "text/html": [
       "<div><style>\n",
       ".dataframe > thead > tr,\n",
       ".dataframe > tbody > tr {\n",
       "  text-align: right;\n",
       "  white-space: pre-wrap;\n",
       "}\n",
       "</style>\n",
       "<small>shape: (1, 25)</small><table border=\"1\" class=\"dataframe\"><thead><tr><th>symbol</th><th>timestamp</th><th>exchange</th><th>local_timestamp</th><th>asks[0].price</th><th>asks[0].amount</th><th>bids[0].price</th><th>bids[0].amount</th><th>asks[1].price</th><th>asks[1].amount</th><th>bids[1].price</th><th>bids[1].amount</th><th>asks[2].price</th><th>asks[2].amount</th><th>bids[2].price</th><th>bids[2].amount</th><th>asks[3].price</th><th>asks[3].amount</th><th>bids[3].price</th><th>bids[3].amount</th><th>asks[4].price</th><th>asks[4].amount</th><th>bids[4].price</th><th>bids[4].amount</th><th>index_price</th></tr><tr><td>str</td><td>i64</td><td>str</td><td>i64</td><td>f64</td><td>f64</td><td>f64</td><td>f64</td><td>f64</td><td>f64</td><td>f64</td><td>f64</td><td>f64</td><td>f64</td><td>f64</td><td>f64</td><td>f64</td><td>f64</td><td>f64</td><td>f64</td><td>f64</td><td>f64</td><td>f64</td><td>f64</td><td>f64</td></tr></thead><tbody><tr><td>&quot;BTC-PERPETUAL&quot;</td><td>1709164810000000</td><td>&quot;deribit&quot;</td><td>1709164810043745</td><td>62488.5</td><td>102300.0</td><td>62488.0</td><td>22500.0</td><td>62489.0</td><td>78010.0</td><td>62486.0</td><td>10000.0</td><td>62490.0</td><td>22410.0</td><td>62484.5</td><td>20.0</td><td>62490.5</td><td>43490.0</td><td>62479.0</td><td>10.0</td><td>62492.0</td><td>5990.0</td><td>62473.5</td><td>20.0</td><td>62490.36</td></tr></tbody></table></div>"
      ],
      "text/plain": [
       "shape: (1, 25)\n",
       "┌───────────┬───────────┬──────────┬───────────┬───┬───────────┬───────────┬───────────┬───────────┐\n",
       "│ symbol    ┆ timestamp ┆ exchange ┆ local_tim ┆ … ┆ asks[4].a ┆ bids[4].p ┆ bids[4].a ┆ index_pri │\n",
       "│ ---       ┆ ---       ┆ ---      ┆ estamp    ┆   ┆ mount     ┆ rice      ┆ mount     ┆ ce        │\n",
       "│ str       ┆ i64       ┆ str      ┆ ---       ┆   ┆ ---       ┆ ---       ┆ ---       ┆ ---       │\n",
       "│           ┆           ┆          ┆ i64       ┆   ┆ f64       ┆ f64       ┆ f64       ┆ f64       │\n",
       "╞═══════════╪═══════════╪══════════╪═══════════╪═══╪═══════════╪═══════════╪═══════════╪═══════════╡\n",
       "│ BTC-PERPE ┆ 170916481 ┆ deribit  ┆ 170916481 ┆ … ┆ 5990.0    ┆ 62473.5   ┆ 20.0      ┆ 62490.36  │\n",
       "│ TUAL      ┆ 0000000   ┆          ┆ 0043745   ┆   ┆           ┆           ┆           ┆           │\n",
       "└───────────┴───────────┴──────────┴───────────┴───┴───────────┴───────────┴───────────┴───────────┘"
      ]
     },
     "execution_count": 4,
     "metadata": {},
     "output_type": "execute_result"
    }
   ],
   "source": [
    "sample"
   ]
  },
  {
   "cell_type": "code",
   "execution_count": 5,
   "metadata": {},
   "outputs": [
    {
     "name": "stdout",
     "output_type": "stream",
     "text": [
      "🔍 Filtering for BTC-28JUN24-58000-C...\n",
      "📊 Found 19 records\n",
      "shape: (19, 4)\n",
      "┌─────────────────────┬─────────────────────┬───────────────┬───────────────┐\n",
      "│ dt                  ┆ symbol              ┆ bids[0].price ┆ asks[0].price │\n",
      "│ ---                 ┆ ---                 ┆ ---           ┆ ---           │\n",
      "│ datetime[μs]        ┆ str                 ┆ f64           ┆ f64           │\n",
      "╞═════════════════════╪═════════════════════╪═══════════════╪═══════════════╡\n",
      "│ 2024-02-29 12:32:00 ┆ BTC-28JUN24-58000-C ┆ 0.2095        ┆ 0.2125        │\n",
      "│ 2024-02-29 12:32:10 ┆ BTC-28JUN24-58000-C ┆ 0.2095        ┆ 0.2125        │\n",
      "│ 2024-02-29 12:32:20 ┆ BTC-28JUN24-58000-C ┆ 0.2095        ┆ 0.2125        │\n",
      "│ 2024-02-29 12:32:30 ┆ BTC-28JUN24-58000-C ┆ 0.2095        ┆ 0.2125        │\n",
      "│ 2024-02-29 12:32:40 ┆ BTC-28JUN24-58000-C ┆ 0.2095        ┆ null          │\n",
      "│ …                   ┆ …                   ┆ …             ┆ …             │\n",
      "│ 2024-02-29 12:34:20 ┆ BTC-28JUN24-58000-C ┆ 0.18          ┆ null          │\n",
      "│ 2024-02-29 12:34:30 ┆ BTC-28JUN24-58000-C ┆ 0.18          ┆ null          │\n",
      "│ 2024-02-29 12:34:40 ┆ BTC-28JUN24-58000-C ┆ 0.18          ┆ null          │\n",
      "│ 2024-02-29 12:34:50 ┆ BTC-28JUN24-58000-C ┆ 0.18          ┆ null          │\n",
      "│ 2024-02-29 12:35:00 ┆ BTC-28JUN24-58000-C ┆ 0.18          ┆ null          │\n",
      "└─────────────────────┴─────────────────────┴───────────────┴───────────────┘\n"
     ]
    }
   ],
   "source": [
    "# Filter for target symbol around 12:30\n",
    "try:\n",
    "    print(f\"🔍 Filtering for {target_symbol}...\")\n",
    "    \n",
    "    target_data = (\n",
    "        df\n",
    "        .with_columns(pl.col('timestamp').cast(pl.Datetime(time_unit='us')).alias('dt'))\n",
    "        .filter(\n",
    "            (pl.col('symbol') == target_symbol) &\n",
    "            (pl.col('dt').dt.hour() == 12) &\n",
    "            (pl.col('dt').dt.minute().is_between(32, 35))\n",
    "        )\n",
    "        .select(['dt', 'symbol', 'bids[0].price', 'asks[0].price'])\n",
    "        .collect()\n",
    "    )\n",
    "    \n",
    "    print(f\"📊 Found {len(target_data)} records\")\n",
    "    \n",
    "    if len(target_data) > 0:\n",
    "        print(target_data)\n",
    "    else:\n",
    "        print(\"⚠️ No data found\")\n",
    "        \n",
    "except Exception as e:\n",
    "    print(f\"❌ Error filtering: {e}\")"
   ]
  },
  {
   "cell_type": "code",
   "execution_count": 6,
   "metadata": {},
   "outputs": [
    {
     "name": "stdout",
     "output_type": "stream",
     "text": [
      "🔍 Checking for null asks...\n",
      "📊 Records with null ask: 15\n",
      "🎯 Null ask times:\n",
      "   • 2024-02-29 12:32:40: ask=NULL, ask=None\n",
      "   • 2024-02-29 12:32:50: ask=NULL, ask=None\n",
      "   • 2024-02-29 12:33:00: ask=NULL, ask=None\n",
      "   • 2024-02-29 12:33:10: ask=NULL, ask=None\n",
      "   • 2024-02-29 12:33:20: ask=NULL, ask=None\n",
      "   • 2024-02-29 12:33:30: ask=NULL, ask=None\n",
      "   • 2024-02-29 12:33:40: ask=NULL, ask=None\n",
      "   • 2024-02-29 12:33:50: ask=NULL, ask=None\n",
      "   • 2024-02-29 12:34:00: ask=NULL, ask=None\n",
      "   • 2024-02-29 12:34:10: ask=NULL, ask=None\n",
      "   • 2024-02-29 12:34:20: ask=NULL, ask=None\n",
      "   • 2024-02-29 12:34:30: ask=NULL, ask=None\n",
      "   • 2024-02-29 12:34:40: ask=NULL, ask=None\n",
      "   • 2024-02-29 12:34:50: ask=NULL, ask=None\n",
      "   • 2024-02-29 12:35:00: ask=NULL, ask=None\n"
     ]
    }
   ],
   "source": [
    "# Check for null asks\n",
    "if 'target_data' in locals() and len(target_data) > 0:\n",
    "    try:\n",
    "        print(\"🔍 Checking for null asks...\")\n",
    "        \n",
    "        # Check null asks\n",
    "        null_asks = target_data.filter(pl.col('asks[0].price').is_null())\n",
    "        \n",
    "        print(f\"📊 Records with null ask: {len(null_asks)}\")\n",
    "        \n",
    "        if len(null_asks) > 0:\n",
    "            print(\"🎯 Null ask times:\")\n",
    "            for row in null_asks.iter_rows(named=True):\n",
    "                print(f\"   • {row['dt']}: ask=NULL, ask={row['asks[0].price']}\")\n",
    "        else:\n",
    "            print(\"✅ No null asks found in this time window\")\n",
    "            \n",
    "    except Exception as e:\n",
    "        print(f\"❌ Error checking nulls: {e}\")\n",
    "else:\n",
    "    print(\"❌ No target data to analyze\")"
   ]
  },
  {
   "cell_type": "code",
   "execution_count": 7,
   "metadata": {},
   "outputs": [
    {
     "data": {
      "text/plain": [
       "polars.config.Config"
      ]
     },
     "execution_count": 7,
     "metadata": {},
     "output_type": "execute_result"
    }
   ],
   "source": [
    "# Set polars to show 30 rows\n",
    "pl.Config.set_tbl_rows(30)"
   ]
  },
  {
   "cell_type": "code",
   "execution_count": 8,
   "metadata": {},
   "outputs": [
    {
     "name": "stdout",
     "output_type": "stream",
     "text": [
      "🔧 Creating OrderbookDeribitMDManager...\n",
      "📊 Running get_conflated_md()...\n",
      "🔄 Converting order book depth data to BBO format (using level 0)...\n",
      "✅ Converted 8194008 orderbook rows to 8194008 BBO rows\n",
      "🔄 Normalizing volume from USD to BTC for futures and perpetuals...\n",
      "✅ Normalized volumes for 8/8 futures/perpetual symbols\n",
      "✅ Found 1439 conflated records for BTC-28JUN24-58000-C\n",
      "📊 Conflated records around 12:30: 11\n"
     ]
    },
    {
     "data": {
      "text/html": [
       "<div><style>\n",
       ".dataframe > thead > tr,\n",
       ".dataframe > tbody > tr {\n",
       "  text-align: right;\n",
       "  white-space: pre-wrap;\n",
       "}\n",
       "</style>\n",
       "<small>shape: (11, 23)</small><table border=\"1\" class=\"dataframe\"><thead><tr><th>symbol</th><th>timestamp</th><th>bid_price</th><th>ask_price</th><th>bid_size</th><th>ask_size</th><th>S</th><th>is_option</th><th>is_index</th><th>is_perp</th><th>is_call</th><th>is_put</th><th>is_future</th><th>expiry</th><th>strike</th><th>expiry_ts</th><th>symbol_fut</th><th>bid_price_fut</th><th>ask_price_fut</th><th>bid_size_fut</th><th>ask_size_fut</th><th>index_price_fut</th><th>tau</th></tr><tr><td>str</td><td>datetime[μs]</td><td>f64</td><td>f64</td><td>f64</td><td>f64</td><td>f64</td><td>bool</td><td>bool</td><td>bool</td><td>bool</td><td>bool</td><td>bool</td><td>str</td><td>i64</td><td>datetime[μs]</td><td>str</td><td>f64</td><td>f64</td><td>f64</td><td>f64</td><td>f64</td><td>f64</td></tr></thead><tbody><tr><td>&quot;BTC-28JUN24-58000-C&quot;</td><td>2024-02-29 12:25:00</td><td>0.209</td><td>0.212</td><td>5.5</td><td>9.0</td><td>62679.04</td><td>true</td><td>false</td><td>false</td><td>true</td><td>false</td><td>false</td><td>&quot;28JUN24&quot;</td><td>58000</td><td>2024-06-28 08:00:00</td><td>&quot;BTC-28JUN24&quot;</td><td>65910.90825</td><td>65971.5965</td><td>0.8093</td><td>0.3742</td><td>62646.98</td><td>0.328263</td></tr><tr><td>&quot;BTC-28JUN24-58000-C&quot;</td><td>2024-02-29 12:26:00</td><td>0.209</td><td>0.212</td><td>5.5</td><td>3.0</td><td>62721.3</td><td>true</td><td>false</td><td>false</td><td>true</td><td>false</td><td>false</td><td>&quot;28JUN24&quot;</td><td>58000</td><td>2024-06-28 08:00:00</td><td>&quot;BTC-28JUN24&quot;</td><td>65945.90475</td><td>66019.10125</td><td>0.8899</td><td>0.6691</td><td>62693.01</td><td>0.328261</td></tr><tr><td>&quot;BTC-28JUN24-58000-C&quot;</td><td>2024-02-29 12:27:00</td><td>0.2095</td><td>0.2125</td><td>4.0</td><td>6.0</td><td>62733.65</td><td>true</td><td>false</td><td>false</td><td>true</td><td>false</td><td>false</td><td>&quot;28JUN24&quot;</td><td>58000</td><td>2024-06-28 08:00:00</td><td>&quot;BTC-28JUN24&quot;</td><td>66018.3975</td><td>66061.6055</td><td>0.6805</td><td>0.9186</td><td>62733.65</td><td>0.328259</td></tr><tr><td>&quot;BTC-28JUN24-58000-C&quot;</td><td>2024-02-29 12:28:00</td><td>0.21</td><td>0.2125</td><td>5.5</td><td>3.0</td><td>62760.88</td><td>true</td><td>false</td><td>false</td><td>true</td><td>false</td><td>false</td><td>&quot;28JUN24&quot;</td><td>58000</td><td>2024-06-28 08:00:00</td><td>&quot;BTC-28JUN24&quot;</td><td>66042.5</td><td>66084.10775</td><td>1.0</td><td>0.4584</td><td>62760.88</td><td>0.328257</td></tr><tr><td>&quot;BTC-28JUN24-58000-C&quot;</td><td>2024-02-29 12:29:00</td><td>0.209</td><td>0.2125</td><td>5.6</td><td>7.5</td><td>62695.25</td><td>true</td><td>false</td><td>false</td><td>true</td><td>false</td><td>false</td><td>&quot;28JUN24&quot;</td><td>58000</td><td>2024-06-28 08:00:00</td><td>&quot;BTC-28JUN24&quot;</td><td>65958.4035</td><td>66011.6005</td><td>0.9251</td><td>0.3633</td><td>62695.25</td><td>0.328255</td></tr><tr><td>&quot;BTC-28JUN24-58000-C&quot;</td><td>2024-02-29 12:30:00</td><td>0.2095</td><td>0.212</td><td>0.5</td><td>8.9</td><td>62688.68</td><td>true</td><td>false</td><td>false</td><td>true</td><td>false</td><td>false</td><td>&quot;28JUN24&quot;</td><td>58000</td><td>2024-06-28 08:00:00</td><td>&quot;BTC-28JUN24&quot;</td><td>65958.4035</td><td>66006.6</td><td>0.8406</td><td>0.2278</td><td>62691.69</td><td>0.328253</td></tr><tr><td>&quot;BTC-28JUN24-58000-C&quot;</td><td>2024-02-29 12:31:00</td><td>0.2095</td><td>0.212</td><td>0.5</td><td>10.6</td><td>62665.29</td><td>true</td><td>false</td><td>false</td><td>true</td><td>false</td><td>false</td><td>&quot;28JUN24&quot;</td><td>58000</td><td>2024-06-28 08:00:00</td><td>&quot;BTC-28JUN24&quot;</td><td>65932.5</td><td>65969.09625</td><td>1.0</td><td>0.3685</td><td>62665.29</td><td>0.328252</td></tr><tr><td>&quot;BTC-28JUN24-58000-C&quot;</td><td>2024-02-29 12:32:00</td><td>0.2095</td><td>0.2125</td><td>4.0</td><td>7.7</td><td>62712.75</td><td>true</td><td>false</td><td>false</td><td>true</td><td>false</td><td>false</td><td>&quot;28JUN24&quot;</td><td>58000</td><td>2024-06-28 08:00:00</td><td>&quot;BTC-28JUN24&quot;</td><td>65985.90075</td><td>66034.10275</td><td>0.6809</td><td>0.8918</td><td>62712.75</td><td>0.32825</td></tr><tr><td>&quot;BTC-28JUN24-58000-C&quot;</td><td>2024-02-29 12:33:00</td><td>0.2095</td><td>null</td><td>1.0</td><td>null</td><td>62725.92</td><td>true</td><td>false</td><td>false</td><td>true</td><td>false</td><td>false</td><td>&quot;28JUN24&quot;</td><td>58000</td><td>2024-06-28 08:00:00</td><td>&quot;BTC-28JUN24&quot;</td><td>65655.0</td><td>66216.621</td><td>1.0</td><td>0.4135</td><td>62725.92</td><td>0.328248</td></tr><tr><td>&quot;BTC-28JUN24-58000-C&quot;</td><td>2024-02-29 12:34:00</td><td>0.18</td><td>null</td><td>0.2</td><td>null</td><td>62737.5</td><td>true</td><td>false</td><td>false</td><td>true</td><td>false</td><td>false</td><td>&quot;28JUN24&quot;</td><td>58000</td><td>2024-06-28 08:00:00</td><td>&quot;BTC-28JUN24&quot;</td><td>63993.6</td><td>66487.5</td><td>0.2488</td><td>1.0</td><td>62744.81</td><td>0.328246</td></tr><tr><td>&quot;BTC-28JUN24-58000-C&quot;</td><td>2024-02-29 12:35:00</td><td>0.18</td><td>null</td><td>0.2</td><td>null</td><td>62737.5</td><td>true</td><td>false</td><td>false</td><td>true</td><td>false</td><td>false</td><td>&quot;28JUN24&quot;</td><td>58000</td><td>2024-06-28 08:00:00</td><td>&quot;BTC-28JUN24&quot;</td><td>63993.6</td><td>66487.5</td><td>0.2488</td><td>1.0</td><td>62744.81</td><td>0.328244</td></tr></tbody></table></div>"
      ],
      "text/plain": [
       "shape: (11, 23)\n",
       "┌───────────┬───────────┬───────────┬───────────┬───┬───────────┬───────────┬───────────┬──────────┐\n",
       "│ symbol    ┆ timestamp ┆ bid_price ┆ ask_price ┆ … ┆ bid_size_ ┆ ask_size_ ┆ index_pri ┆ tau      │\n",
       "│ ---       ┆ ---       ┆ ---       ┆ ---       ┆   ┆ fut       ┆ fut       ┆ ce_fut    ┆ ---      │\n",
       "│ str       ┆ datetime[ ┆ f64       ┆ f64       ┆   ┆ ---       ┆ ---       ┆ ---       ┆ f64      │\n",
       "│           ┆ μs]       ┆           ┆           ┆   ┆ f64       ┆ f64       ┆ f64       ┆          │\n",
       "╞═══════════╪═══════════╪═══════════╪═══════════╪═══╪═══════════╪═══════════╪═══════════╪══════════╡\n",
       "│ BTC-28JUN ┆ 2024-02-2 ┆ 0.209     ┆ 0.212     ┆ … ┆ 0.8093    ┆ 0.3742    ┆ 62646.98  ┆ 0.328263 │\n",
       "│ 24-58000- ┆ 9         ┆           ┆           ┆   ┆           ┆           ┆           ┆          │\n",
       "│ C         ┆ 12:25:00  ┆           ┆           ┆   ┆           ┆           ┆           ┆          │\n",
       "│ BTC-28JUN ┆ 2024-02-2 ┆ 0.209     ┆ 0.212     ┆ … ┆ 0.8899    ┆ 0.6691    ┆ 62693.01  ┆ 0.328261 │\n",
       "│ 24-58000- ┆ 9         ┆           ┆           ┆   ┆           ┆           ┆           ┆          │\n",
       "│ C         ┆ 12:26:00  ┆           ┆           ┆   ┆           ┆           ┆           ┆          │\n",
       "│ BTC-28JUN ┆ 2024-02-2 ┆ 0.2095    ┆ 0.2125    ┆ … ┆ 0.6805    ┆ 0.9186    ┆ 62733.65  ┆ 0.328259 │\n",
       "│ 24-58000- ┆ 9         ┆           ┆           ┆   ┆           ┆           ┆           ┆          │\n",
       "│ C         ┆ 12:27:00  ┆           ┆           ┆   ┆           ┆           ┆           ┆          │\n",
       "│ BTC-28JUN ┆ 2024-02-2 ┆ 0.21      ┆ 0.2125    ┆ … ┆ 1.0       ┆ 0.4584    ┆ 62760.88  ┆ 0.328257 │\n",
       "│ 24-58000- ┆ 9         ┆           ┆           ┆   ┆           ┆           ┆           ┆          │\n",
       "│ C         ┆ 12:28:00  ┆           ┆           ┆   ┆           ┆           ┆           ┆          │\n",
       "│ BTC-28JUN ┆ 2024-02-2 ┆ 0.209     ┆ 0.2125    ┆ … ┆ 0.9251    ┆ 0.3633    ┆ 62695.25  ┆ 0.328255 │\n",
       "│ 24-58000- ┆ 9         ┆           ┆           ┆   ┆           ┆           ┆           ┆          │\n",
       "│ C         ┆ 12:29:00  ┆           ┆           ┆   ┆           ┆           ┆           ┆          │\n",
       "│ BTC-28JUN ┆ 2024-02-2 ┆ 0.2095    ┆ 0.212     ┆ … ┆ 0.8406    ┆ 0.2278    ┆ 62691.69  ┆ 0.328253 │\n",
       "│ 24-58000- ┆ 9         ┆           ┆           ┆   ┆           ┆           ┆           ┆          │\n",
       "│ C         ┆ 12:30:00  ┆           ┆           ┆   ┆           ┆           ┆           ┆          │\n",
       "│ BTC-28JUN ┆ 2024-02-2 ┆ 0.2095    ┆ 0.212     ┆ … ┆ 1.0       ┆ 0.3685    ┆ 62665.29  ┆ 0.328252 │\n",
       "│ 24-58000- ┆ 9         ┆           ┆           ┆   ┆           ┆           ┆           ┆          │\n",
       "│ C         ┆ 12:31:00  ┆           ┆           ┆   ┆           ┆           ┆           ┆          │\n",
       "│ BTC-28JUN ┆ 2024-02-2 ┆ 0.2095    ┆ 0.2125    ┆ … ┆ 0.6809    ┆ 0.8918    ┆ 62712.75  ┆ 0.32825  │\n",
       "│ 24-58000- ┆ 9         ┆           ┆           ┆   ┆           ┆           ┆           ┆          │\n",
       "│ C         ┆ 12:32:00  ┆           ┆           ┆   ┆           ┆           ┆           ┆          │\n",
       "│ BTC-28JUN ┆ 2024-02-2 ┆ 0.2095    ┆ null      ┆ … ┆ 1.0       ┆ 0.4135    ┆ 62725.92  ┆ 0.328248 │\n",
       "│ 24-58000- ┆ 9         ┆           ┆           ┆   ┆           ┆           ┆           ┆          │\n",
       "│ C         ┆ 12:33:00  ┆           ┆           ┆   ┆           ┆           ┆           ┆          │\n",
       "│ BTC-28JUN ┆ 2024-02-2 ┆ 0.18      ┆ null      ┆ … ┆ 0.2488    ┆ 1.0       ┆ 62744.81  ┆ 0.328246 │\n",
       "│ 24-58000- ┆ 9         ┆           ┆           ┆   ┆           ┆           ┆           ┆          │\n",
       "│ C         ┆ 12:34:00  ┆           ┆           ┆   ┆           ┆           ┆           ┆          │\n",
       "│ BTC-28JUN ┆ 2024-02-2 ┆ 0.18      ┆ null      ┆ … ┆ 0.2488    ┆ 1.0       ┆ 62744.81  ┆ 0.328244 │\n",
       "│ 24-58000- ┆ 9         ┆           ┆           ┆   ┆           ┆           ┆           ┆          │\n",
       "│ C         ┆ 12:35:00  ┆           ┆           ┆   ┆           ┆           ┆           ┆          │\n",
       "└───────────┴───────────┴───────────┴───────────┴───┴───────────┴───────────┴───────────┴──────────┘"
      ]
     },
     "metadata": {},
     "output_type": "display_data"
    }
   ],
   "source": [
    "# DeribitMDManager get_conflated_md() Analysis\n",
    "import sys\n",
    "sys.path.append('../')\n",
    "from btc_options.data_managers.orderbook_deribit_md_manager import OrderbookDeribitMDManager, DeribitMDManager\n",
    "\n",
    "print(\"🔧 Creating OrderbookDeribitMDManager...\")\n",
    "# data_file = \"../data_orderbook/20240229.output.csv.gz\"\n",
    "df = pl.scan_csv(data_file)\n",
    "symbol_manager = OrderbookDeribitMDManager(df, \"20240229\")\n",
    "# symbol_manager = DeribitMDManager(df, \"20240229\")\n",
    "\n",
    "print(\"📊 Running get_conflated_md()...\")\n",
    "df_conflated_md = symbol_manager.get_conflated_md(freq='1m', period='5m')\n",
    "\n",
    "# Filter for our target symbol\n",
    "conflated_data = df_conflated_md.filter(pl.col('symbol') == target_symbol)\n",
    "print(f\"✅ Found {len(conflated_data)} conflated records for {target_symbol}\")\n",
    "\n",
    "# Get snapshot around 12:30\n",
    "snapshot_data = conflated_data.filter(\n",
    "    (pl.col('timestamp').dt.hour() == 12) &\n",
    "    (pl.col('timestamp').dt.minute().is_between(25, 35))\n",
    ")\n",
    "\n",
    "print(f\"📊 Conflated records around 12:30: {len(snapshot_data)}\")\n",
    "\n",
    "display(snapshot_data)"
   ]
  },
  {
   "cell_type": "code",
   "execution_count": 9,
   "metadata": {},
   "outputs": [
    {
     "data": {
      "text/html": [
       "<div><style>\n",
       ".dataframe > thead > tr,\n",
       ".dataframe > tbody > tr {\n",
       "  text-align: right;\n",
       "  white-space: pre-wrap;\n",
       "}\n",
       "</style>\n",
       "<small>shape: (15, 23)</small><table border=\"1\" class=\"dataframe\"><thead><tr><th>symbol</th><th>timestamp</th><th>bid_price</th><th>ask_price</th><th>bid_size</th><th>ask_size</th><th>S</th><th>is_option</th><th>is_index</th><th>is_perp</th><th>is_call</th><th>is_put</th><th>is_future</th><th>expiry</th><th>strike</th><th>expiry_ts</th><th>symbol_fut</th><th>bid_price_fut</th><th>ask_price_fut</th><th>bid_size_fut</th><th>ask_size_fut</th><th>index_price_fut</th><th>tau</th></tr><tr><td>str</td><td>datetime[μs]</td><td>f64</td><td>f64</td><td>f64</td><td>f64</td><td>f64</td><td>bool</td><td>bool</td><td>bool</td><td>bool</td><td>bool</td><td>bool</td><td>str</td><td>i64</td><td>datetime[μs]</td><td>str</td><td>f64</td><td>f64</td><td>f64</td><td>f64</td><td>f64</td><td>f64</td></tr></thead><tbody><tr><td>&quot;BTC-28JUN24-58000-C&quot;</td><td>2024-02-29 12:25:00</td><td>0.209</td><td>0.212</td><td>5.5</td><td>9.0</td><td>62679.04</td><td>true</td><td>false</td><td>false</td><td>true</td><td>false</td><td>false</td><td>&quot;28JUN24&quot;</td><td>58000</td><td>2024-06-28 08:00:00</td><td>&quot;BTC-28JUN24&quot;</td><td>65910.90825</td><td>65971.5965</td><td>0.8093</td><td>0.3742</td><td>62646.98</td><td>0.328263</td></tr><tr><td>&quot;BTC-28JUN24-58000-C&quot;</td><td>2024-02-29 12:26:00</td><td>0.209</td><td>0.212</td><td>5.5</td><td>3.0</td><td>62721.3</td><td>true</td><td>false</td><td>false</td><td>true</td><td>false</td><td>false</td><td>&quot;28JUN24&quot;</td><td>58000</td><td>2024-06-28 08:00:00</td><td>&quot;BTC-28JUN24&quot;</td><td>65945.90475</td><td>66019.10125</td><td>0.8899</td><td>0.6691</td><td>62693.01</td><td>0.328261</td></tr><tr><td>&quot;BTC-28JUN24-58000-C&quot;</td><td>2024-02-29 12:27:00</td><td>0.2095</td><td>0.2125</td><td>4.0</td><td>6.0</td><td>62733.65</td><td>true</td><td>false</td><td>false</td><td>true</td><td>false</td><td>false</td><td>&quot;28JUN24&quot;</td><td>58000</td><td>2024-06-28 08:00:00</td><td>&quot;BTC-28JUN24&quot;</td><td>66018.3975</td><td>66061.6055</td><td>0.6805</td><td>0.9186</td><td>62733.65</td><td>0.328259</td></tr><tr><td>&quot;BTC-28JUN24-58000-C&quot;</td><td>2024-02-29 12:28:00</td><td>0.21</td><td>0.2125</td><td>5.5</td><td>3.0</td><td>62760.88</td><td>true</td><td>false</td><td>false</td><td>true</td><td>false</td><td>false</td><td>&quot;28JUN24&quot;</td><td>58000</td><td>2024-06-28 08:00:00</td><td>&quot;BTC-28JUN24&quot;</td><td>66042.5</td><td>66084.10775</td><td>1.0</td><td>0.4584</td><td>62760.88</td><td>0.328257</td></tr><tr><td>&quot;BTC-28JUN24-58000-C&quot;</td><td>2024-02-29 12:29:00</td><td>0.209</td><td>0.2125</td><td>5.6</td><td>7.5</td><td>62695.25</td><td>true</td><td>false</td><td>false</td><td>true</td><td>false</td><td>false</td><td>&quot;28JUN24&quot;</td><td>58000</td><td>2024-06-28 08:00:00</td><td>&quot;BTC-28JUN24&quot;</td><td>65958.4035</td><td>66011.6005</td><td>0.9251</td><td>0.3633</td><td>62695.25</td><td>0.328255</td></tr><tr><td>&quot;BTC-28JUN24-58000-C&quot;</td><td>2024-02-29 12:30:00</td><td>0.2095</td><td>0.212</td><td>0.5</td><td>8.9</td><td>62688.68</td><td>true</td><td>false</td><td>false</td><td>true</td><td>false</td><td>false</td><td>&quot;28JUN24&quot;</td><td>58000</td><td>2024-06-28 08:00:00</td><td>&quot;BTC-28JUN24&quot;</td><td>65958.4035</td><td>66006.6</td><td>0.8406</td><td>0.2278</td><td>62691.69</td><td>0.328253</td></tr><tr><td>&quot;BTC-28JUN24-58000-C&quot;</td><td>2024-02-29 12:31:00</td><td>0.2095</td><td>0.212</td><td>0.5</td><td>10.6</td><td>62665.29</td><td>true</td><td>false</td><td>false</td><td>true</td><td>false</td><td>false</td><td>&quot;28JUN24&quot;</td><td>58000</td><td>2024-06-28 08:00:00</td><td>&quot;BTC-28JUN24&quot;</td><td>65932.5</td><td>65969.09625</td><td>1.0</td><td>0.3685</td><td>62665.29</td><td>0.328252</td></tr><tr><td>&quot;BTC-28JUN24-58000-C&quot;</td><td>2024-02-29 12:32:00</td><td>0.2095</td><td>0.2125</td><td>4.0</td><td>7.7</td><td>62712.75</td><td>true</td><td>false</td><td>false</td><td>true</td><td>false</td><td>false</td><td>&quot;28JUN24&quot;</td><td>58000</td><td>2024-06-28 08:00:00</td><td>&quot;BTC-28JUN24&quot;</td><td>65985.90075</td><td>66034.10275</td><td>0.6809</td><td>0.8918</td><td>62712.75</td><td>0.32825</td></tr><tr><td>&quot;BTC-28JUN24-58000-C&quot;</td><td>2024-02-29 12:33:00</td><td>0.2095</td><td>null</td><td>1.0</td><td>null</td><td>62725.92</td><td>true</td><td>false</td><td>false</td><td>true</td><td>false</td><td>false</td><td>&quot;28JUN24&quot;</td><td>58000</td><td>2024-06-28 08:00:00</td><td>&quot;BTC-28JUN24&quot;</td><td>65655.0</td><td>66216.621</td><td>1.0</td><td>0.4135</td><td>62725.92</td><td>0.328248</td></tr><tr><td>&quot;BTC-28JUN24-58000-C&quot;</td><td>2024-02-29 12:34:00</td><td>0.18</td><td>null</td><td>0.2</td><td>null</td><td>62737.5</td><td>true</td><td>false</td><td>false</td><td>true</td><td>false</td><td>false</td><td>&quot;28JUN24&quot;</td><td>58000</td><td>2024-06-28 08:00:00</td><td>&quot;BTC-28JUN24&quot;</td><td>63993.6</td><td>66487.5</td><td>0.2488</td><td>1.0</td><td>62744.81</td><td>0.328246</td></tr><tr><td>&quot;BTC-28JUN24-58000-C&quot;</td><td>2024-02-29 12:35:00</td><td>0.18</td><td>null</td><td>0.2</td><td>null</td><td>62737.5</td><td>true</td><td>false</td><td>false</td><td>true</td><td>false</td><td>false</td><td>&quot;28JUN24&quot;</td><td>58000</td><td>2024-06-28 08:00:00</td><td>&quot;BTC-28JUN24&quot;</td><td>63993.6</td><td>66487.5</td><td>0.2488</td><td>1.0</td><td>62744.81</td><td>0.328244</td></tr><tr><td>&quot;BTC-28JUN24-58000-C&quot;</td><td>2024-02-29 12:36:00</td><td>0.18</td><td>null</td><td>0.2</td><td>null</td><td>62737.5</td><td>true</td><td>false</td><td>false</td><td>true</td><td>false</td><td>false</td><td>&quot;28JUN24&quot;</td><td>58000</td><td>2024-06-28 08:00:00</td><td>&quot;BTC-28JUN24&quot;</td><td>65800.91925</td><td>65999.09925</td><td>0.7435</td><td>0.5819</td><td>62674.45</td><td>0.328242</td></tr><tr><td>&quot;BTC-28JUN24-58000-C&quot;</td><td>2024-02-29 12:37:00</td><td>0.18</td><td>null</td><td>0.2</td><td>null</td><td>62737.5</td><td>true</td><td>false</td><td>false</td><td>true</td><td>false</td><td>false</td><td>&quot;28JUN24&quot;</td><td>58000</td><td>2024-06-28 08:00:00</td><td>&quot;BTC-28JUN24&quot;</td><td>65808.4185</td><td>65954.09475</td><td>0.2751</td><td>0.5757</td><td>62623.8</td><td>0.32824</td></tr><tr><td>&quot;BTC-28JUN24-58000-C&quot;</td><td>2024-02-29 12:38:00</td><td>0.18</td><td>null</td><td>0.2</td><td>null</td><td>62737.5</td><td>true</td><td>false</td><td>false</td><td>true</td><td>false</td><td>false</td><td>&quot;28JUN24&quot;</td><td>58000</td><td>2024-06-28 08:00:00</td><td>&quot;BTC-28JUN24&quot;</td><td>65758.4235</td><td>65849.08425</td><td>0.361</td><td>0.9272</td><td>62556.16</td><td>0.328238</td></tr><tr><td>&quot;BTC-28JUN24-58000-C&quot;</td><td>2024-02-29 12:39:00</td><td>0.1805</td><td>0.2245</td><td>4.0</td><td>4.0</td><td>62579.18</td><td>true</td><td>false</td><td>false</td><td>true</td><td>false</td><td>false</td><td>&quot;28JUN24&quot;</td><td>58000</td><td>2024-06-28 08:00:00</td><td>&quot;BTC-28JUN24&quot;</td><td>65773.422</td><td>65846.584</td><td>0.9879</td><td>0.6222</td><td>62556.57</td><td>0.328236</td></tr></tbody></table></div>"
      ],
      "text/plain": [
       "shape: (15, 23)\n",
       "┌───────────┬───────────┬───────────┬───────────┬───┬───────────┬───────────┬───────────┬──────────┐\n",
       "│ symbol    ┆ timestamp ┆ bid_price ┆ ask_price ┆ … ┆ bid_size_ ┆ ask_size_ ┆ index_pri ┆ tau      │\n",
       "│ ---       ┆ ---       ┆ ---       ┆ ---       ┆   ┆ fut       ┆ fut       ┆ ce_fut    ┆ ---      │\n",
       "│ str       ┆ datetime[ ┆ f64       ┆ f64       ┆   ┆ ---       ┆ ---       ┆ ---       ┆ f64      │\n",
       "│           ┆ μs]       ┆           ┆           ┆   ┆ f64       ┆ f64       ┆ f64       ┆          │\n",
       "╞═══════════╪═══════════╪═══════════╪═══════════╪═══╪═══════════╪═══════════╪═══════════╪══════════╡\n",
       "│ BTC-28JUN ┆ 2024-02-2 ┆ 0.209     ┆ 0.212     ┆ … ┆ 0.8093    ┆ 0.3742    ┆ 62646.98  ┆ 0.328263 │\n",
       "│ 24-58000- ┆ 9         ┆           ┆           ┆   ┆           ┆           ┆           ┆          │\n",
       "│ C         ┆ 12:25:00  ┆           ┆           ┆   ┆           ┆           ┆           ┆          │\n",
       "│ BTC-28JUN ┆ 2024-02-2 ┆ 0.209     ┆ 0.212     ┆ … ┆ 0.8899    ┆ 0.6691    ┆ 62693.01  ┆ 0.328261 │\n",
       "│ 24-58000- ┆ 9         ┆           ┆           ┆   ┆           ┆           ┆           ┆          │\n",
       "│ C         ┆ 12:26:00  ┆           ┆           ┆   ┆           ┆           ┆           ┆          │\n",
       "│ BTC-28JUN ┆ 2024-02-2 ┆ 0.2095    ┆ 0.2125    ┆ … ┆ 0.6805    ┆ 0.9186    ┆ 62733.65  ┆ 0.328259 │\n",
       "│ 24-58000- ┆ 9         ┆           ┆           ┆   ┆           ┆           ┆           ┆          │\n",
       "│ C         ┆ 12:27:00  ┆           ┆           ┆   ┆           ┆           ┆           ┆          │\n",
       "│ BTC-28JUN ┆ 2024-02-2 ┆ 0.21      ┆ 0.2125    ┆ … ┆ 1.0       ┆ 0.4584    ┆ 62760.88  ┆ 0.328257 │\n",
       "│ 24-58000- ┆ 9         ┆           ┆           ┆   ┆           ┆           ┆           ┆          │\n",
       "│ C         ┆ 12:28:00  ┆           ┆           ┆   ┆           ┆           ┆           ┆          │\n",
       "│ BTC-28JUN ┆ 2024-02-2 ┆ 0.209     ┆ 0.2125    ┆ … ┆ 0.9251    ┆ 0.3633    ┆ 62695.25  ┆ 0.328255 │\n",
       "│ 24-58000- ┆ 9         ┆           ┆           ┆   ┆           ┆           ┆           ┆          │\n",
       "│ C         ┆ 12:29:00  ┆           ┆           ┆   ┆           ┆           ┆           ┆          │\n",
       "│ BTC-28JUN ┆ 2024-02-2 ┆ 0.2095    ┆ 0.212     ┆ … ┆ 0.8406    ┆ 0.2278    ┆ 62691.69  ┆ 0.328253 │\n",
       "│ 24-58000- ┆ 9         ┆           ┆           ┆   ┆           ┆           ┆           ┆          │\n",
       "│ C         ┆ 12:30:00  ┆           ┆           ┆   ┆           ┆           ┆           ┆          │\n",
       "│ BTC-28JUN ┆ 2024-02-2 ┆ 0.2095    ┆ 0.212     ┆ … ┆ 1.0       ┆ 0.3685    ┆ 62665.29  ┆ 0.328252 │\n",
       "│ 24-58000- ┆ 9         ┆           ┆           ┆   ┆           ┆           ┆           ┆          │\n",
       "│ C         ┆ 12:31:00  ┆           ┆           ┆   ┆           ┆           ┆           ┆          │\n",
       "│ BTC-28JUN ┆ 2024-02-2 ┆ 0.2095    ┆ 0.2125    ┆ … ┆ 0.6809    ┆ 0.8918    ┆ 62712.75  ┆ 0.32825  │\n",
       "│ 24-58000- ┆ 9         ┆           ┆           ┆   ┆           ┆           ┆           ┆          │\n",
       "│ C         ┆ 12:32:00  ┆           ┆           ┆   ┆           ┆           ┆           ┆          │\n",
       "│ BTC-28JUN ┆ 2024-02-2 ┆ 0.2095    ┆ null      ┆ … ┆ 1.0       ┆ 0.4135    ┆ 62725.92  ┆ 0.328248 │\n",
       "│ 24-58000- ┆ 9         ┆           ┆           ┆   ┆           ┆           ┆           ┆          │\n",
       "│ C         ┆ 12:33:00  ┆           ┆           ┆   ┆           ┆           ┆           ┆          │\n",
       "│ BTC-28JUN ┆ 2024-02-2 ┆ 0.18      ┆ null      ┆ … ┆ 0.2488    ┆ 1.0       ┆ 62744.81  ┆ 0.328246 │\n",
       "│ 24-58000- ┆ 9         ┆           ┆           ┆   ┆           ┆           ┆           ┆          │\n",
       "│ C         ┆ 12:34:00  ┆           ┆           ┆   ┆           ┆           ┆           ┆          │\n",
       "│ BTC-28JUN ┆ 2024-02-2 ┆ 0.18      ┆ null      ┆ … ┆ 0.2488    ┆ 1.0       ┆ 62744.81  ┆ 0.328244 │\n",
       "│ 24-58000- ┆ 9         ┆           ┆           ┆   ┆           ┆           ┆           ┆          │\n",
       "│ C         ┆ 12:35:00  ┆           ┆           ┆   ┆           ┆           ┆           ┆          │\n",
       "│ BTC-28JUN ┆ 2024-02-2 ┆ 0.18      ┆ null      ┆ … ┆ 0.7435    ┆ 0.5819    ┆ 62674.45  ┆ 0.328242 │\n",
       "│ 24-58000- ┆ 9         ┆           ┆           ┆   ┆           ┆           ┆           ┆          │\n",
       "│ C         ┆ 12:36:00  ┆           ┆           ┆   ┆           ┆           ┆           ┆          │\n",
       "│ BTC-28JUN ┆ 2024-02-2 ┆ 0.18      ┆ null      ┆ … ┆ 0.2751    ┆ 0.5757    ┆ 62623.8   ┆ 0.32824  │\n",
       "│ 24-58000- ┆ 9         ┆           ┆           ┆   ┆           ┆           ┆           ┆          │\n",
       "│ C         ┆ 12:37:00  ┆           ┆           ┆   ┆           ┆           ┆           ┆          │\n",
       "│ BTC-28JUN ┆ 2024-02-2 ┆ 0.18      ┆ null      ┆ … ┆ 0.361     ┆ 0.9272    ┆ 62556.16  ┆ 0.328238 │\n",
       "│ 24-58000- ┆ 9         ┆           ┆           ┆   ┆           ┆           ┆           ┆          │\n",
       "│ C         ┆ 12:38:00  ┆           ┆           ┆   ┆           ┆           ┆           ┆          │\n",
       "│ BTC-28JUN ┆ 2024-02-2 ┆ 0.1805    ┆ 0.2245    ┆ … ┆ 0.9879    ┆ 0.6222    ┆ 62556.57  ┆ 0.328236 │\n",
       "│ 24-58000- ┆ 9         ┆           ┆           ┆   ┆           ┆           ┆           ┆          │\n",
       "│ C         ┆ 12:39:00  ┆           ┆           ┆   ┆           ┆           ┆           ┆          │\n",
       "└───────────┴───────────┴───────────┴───────────┴───┴───────────┴───────────┴───────────┴──────────┘"
      ]
     },
     "execution_count": 9,
     "metadata": {},
     "output_type": "execute_result"
    }
   ],
   "source": [
    "conflated_data.filter(\n",
    "    (pl.col('timestamp').dt.hour() == 12) &\n",
    "    (pl.col('timestamp').dt.minute().is_between(25, 39))\n",
    ")"
   ]
  },
  {
   "cell_type": "code",
   "execution_count": null,
   "metadata": {},
   "outputs": [],
   "source": []
  }
 ],
 "metadata": {
  "kernelspec": {
   "display_name": ".venv",
   "language": "python",
   "name": "python3"
  },
  "language_info": {
   "codemirror_mode": {
    "name": "ipython",
    "version": 3
   },
   "file_extension": ".py",
   "mimetype": "text/x-python",
   "name": "python",
   "nbconvert_exporter": "python",
   "pygments_lexer": "ipython3",
   "version": "3.12.3"
  }
 },
 "nbformat": 4,
 "nbformat_minor": 4
}
